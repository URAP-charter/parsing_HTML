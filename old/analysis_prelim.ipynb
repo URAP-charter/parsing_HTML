{
 "cells": [
  {
   "cell_type": "markdown",
   "metadata": {},
   "source": [
    "# <p style=\"text-align: center;\"> Charter school identities and outcomes in the accountability era:<br/> Preliminary results\n",
    "<p style=\"text-align: center;\">April 19th, 2017<br/>By Jaren Haber, PhD Candidate<break/>Dept. of Sociology, UC Berkeley"
   ]
  },
  {
   "cell_type": "markdown",
   "metadata": {},
   "source": [
    "<p style=\"text-align: center;\">![alt text](http://jaypgreene.files.wordpress.com/2009/12/explosion_600x625600x625.jpg \"Old U.S. Map of charter schools by state\")\n",
    "<p style=\"text-align: center;\">(this out-dated graphic courtesy of U.S. News & World Report, 2009)"
   ]
  },
  {
   "cell_type": "markdown",
   "metadata": {},
   "source": [
    "## Research questions\n",
    "**How are charter schools different from each other in terms of ideology? How do these differences shape their survival and their outcomes, and what does this reveal about current educational policy?** "
   ]
  },
  {
   "cell_type": "markdown",
   "metadata": {},
   "source": [
    "## The corpus\n",
    "- Website self-descriptions of all **6,753 charter schools** open in 2014-15 (identified using the NCES Public School Universe Survey)\n",
    "- Charter school websites are a publicly visible proclamation of identity attempting to impress parents, regulators, etc.\n",
    "- This study the first to use this contemporary, comprehensive data source on U.S. charter school identities\n",
    "- Me & research team working on using BeautifulSoup and requests.get to webscrape the full sample\n",
    "\n",
    "### Motivation\n",
    "- Too much focus on test scores in education, too little on organizational aspects\n",
    "- Are charter schools innovative? How?\n",
    "- How does educational policy shape ed. philosophy? Organization? Outcomes?\n",
    "- No one has studied charters' public image as expressed in their OWN words\n",
    "\n",
    "### Methods\n",
    "- NLP: Word frequencies, distinctive words, etc.\n",
    "- Supervised: Custom dictionaries\n",
    "- Unsupervised: Topic models, word embeddings\n",
    "- Later: statistical regression to test, e.g., how progressivist schools in liberal communities have higher performance than they do in other places"
   ]
  },
  {
   "cell_type": "markdown",
   "metadata": {},
   "source": [
    "## Preliminary analysis: website self-descriptions of non-random sample of 196 schools\n",
    "- Early-stage sample: NOT representative!\n",
    "- About half randomly selected, half tracked down (many through Internet Archive) because of missing URLs\n",
    "- Closed schools over-represented"
   ]
  },
  {
   "cell_type": "markdown",
   "metadata": {},
   "source": [
    "## Preliminary conclusions: \n",
    "### Word counts:\n",
    "- Website self-descriptions for schools in mid-sized cities and suburbs tend to be longest, followed by other urban and suburban schools, then schools in towns, and shortest tends to be rural schools\n",
    "- Charter schools in cities and suburbs have the highest textual redundancy (lowest ratio of types to tokens)\n",
    "\n",
    "### Word embeddings:\n",
    "- The two educational philosophies I'm interested in--**progressivism** and **essentialism**--can be distinguished using semantic vectors\n",
    "- Useful way for creating and checking my dictionaries\n",
    "\n",
    "### Topic modeling:\n",
    "- Urban charter schools' websites emphasize **GOALS** (topic 0)\n",
    "- Suburban charter schools' websites emphasize **CURRICULUM** (topic 1) in addition to goals"
   ]
  },
  {
   "cell_type": "markdown",
   "metadata": {},
   "source": [
    "## Next steps:\n",
    "- Working with custom dictionaries, POS tagging\n",
    "- Webscraping and parsing HTML to get full sample\n",
    "- Match website text with data on test scores and community characteristics (e.g., race, class, political leanings) --> test hypotheses with statistical regression<br/><br/>\n",
    "- **More long-term**: Collect longitudinal mission statement data from the Internet Archive --> look at survival and geographic dispersion of identity categories over time (especially pre-NCLB if possible)"
   ]
  },
  {
   "cell_type": "code",
   "execution_count": 2,
   "metadata": {
    "collapsed": true
   },
   "outputs": [],
   "source": [
    "# The keyword categories to help parse website text:\n",
    "mission = ['mission',' vision ', 'vision:', 'mission:', 'our purpose', 'our ideals', 'ideals:', 'our cause', 'cause:', 'goals', 'objective']\n",
    "curriculum = ['curriculum', 'curricular', 'program', 'method', 'pedagogy', 'pedagogical', 'approach', 'model', 'system', 'structure']\n",
    "philosophy = ['philosophy', 'philosophical', 'beliefs', 'believe', 'principles', 'creed', 'credo', 'value',  'moral']\n",
    "history = ['history', 'our story', 'the story', 'school story', 'background', 'founding', 'founded', 'established', 'establishment', 'our school began', 'we began', 'doors opened', 'school opened']\n",
    "general =  ['about us', 'our school', 'who we are', 'overview', 'general information', 'our identity', 'profile', 'highlights']"
   ]
  },
  {
   "cell_type": "markdown",
   "metadata": {},
   "source": [
    "## Initializing Python"
   ]
  },
  {
   "cell_type": "code",
   "execution_count": 3,
   "metadata": {
    "collapsed": true
   },
   "outputs": [],
   "source": [
    "#!/usr/bin/env python\n",
    "# -*- coding: UTF-8"
   ]
  },
  {
   "cell_type": "code",
   "execution_count": 4,
   "metadata": {
    "collapsed": true
   },
   "outputs": [],
   "source": [
    "# IMPORTING KEY PACKAGES\n",
    "import csv # for reading in CSVs and turning them into dictionaries\n",
    "import re # for regular expressions\n",
    "import os # for navigating file trees\n",
    "import nltk # for natural language processing tools\n",
    "import pandas # for working with dataframes\n",
    "import numpy as np # for working with numbers"
   ]
  },
  {
   "cell_type": "code",
   "execution_count": 5,
   "metadata": {
    "collapsed": true
   },
   "outputs": [],
   "source": [
    "# FOR CLEANING, TOKENIZING, AND STEMMING THE TEXT\n",
    "from nltk import word_tokenize, sent_tokenize # widely used text tokenizer\n",
    "from nltk.stem.porter import PorterStemmer # an approximate method of stemming words (it just cuts off the ends)\n",
    "from nltk.corpus import stopwords # for one method of eliminating stop words, to clean the text\n",
    "stopenglish = list(stopwords.words(\"english\")) # assign the string of english stopwords to a variable and turn it into a list\n",
    "import string # for one method of eliminating punctuation\n",
    "punctuations = list(string.punctuation) # assign the string of common punctuation symbols to a variable and turn it into a list"
   ]
  },
  {
   "cell_type": "code",
   "execution_count": 6,
   "metadata": {
    "collapsed": true
   },
   "outputs": [],
   "source": [
    "# FOR ANALYZING WITH THE TEXT\n",
    "from sklearn.feature_extraction.text import CountVectorizer # to work with document-term matrices, especially\n",
    "countvec = CountVectorizer(tokenizer=nltk.word_tokenize)\n",
    "from sklearn.feature_extraction.text import TfidfVectorizer # for creating TF-IDFs\n",
    "tfidfvec = TfidfVectorizer()\n",
    "from sklearn.decomposition import LatentDirichletAllocation # for topic modeling\n",
    "\n",
    "import gensim # for word embedding models\n",
    "from scipy.spatial.distance import cosine # for cosine similarity\n",
    "from sklearn.metrics import pairwise # for pairwise similarity\n",
    "from sklearn.manifold import MDS, TSNE # for multi-dimensional scaling"
   ]
  },
  {
   "cell_type": "code",
   "execution_count": 7,
   "metadata": {},
   "outputs": [
    {
     "name": "stdout",
     "output_type": "stream",
     "text": [
      "Populating the interactive namespace from numpy and matplotlib\n"
     ]
    }
   ],
   "source": [
    "# FOR VISUALIZATIONS\n",
    "import matplotlib\n",
    "import matplotlib.pyplot as plt\n",
    "import matplotlib.patches as mpatches\n",
    "\n",
    "# Visualization parameters\n",
    "% pylab inline \n",
    "% matplotlib inline\n",
    "matplotlib.style.use('ggplot')"
   ]
  },
  {
   "cell_type": "markdown",
   "metadata": {},
   "source": [
    "## Reading in preliminary data"
   ]
  },
  {
   "cell_type": "code",
   "execution_count": 8,
   "metadata": {
    "collapsed": true
   },
   "outputs": [],
   "source": [
    "csv.field_size_limit(sys.maxsize)\n",
    "sample = [] # make empty list\n",
    "with open('micro-sample_2013.csv', 'r', encoding = 'Latin-1')\\\n",
    "as csvfile: # open file                      \n",
    "    reader = csv.DictReader(csvfile) # create a reader\n",
    "    for row in reader: # loop through rows\n",
    "        sample.append(row) # append each row to the list\n",
    "\n",
    "# Also read in output.csv, to get newly parsed webtext\n",
    "new_output = [] # make empty list\n",
    "with open('output.csv', 'r', encoding = 'Latin-1')\\\n",
    "as csvfile: # open file                      \n",
    "    reader = csv.DictReader(csvfile) # create a reader\n",
    "    for row in reader: # loop through rows\n",
    "        new_output.append(row) # append each row to the list"
   ]
  },
  {
   "cell_type": "code",
   "execution_count": 9,
   "metadata": {
    "collapsed": true,
    "scrolled": true
   },
   "outputs": [],
   "source": [
    "# sample[0]"
   ]
  },
  {
   "cell_type": "code",
   "execution_count": 10,
   "metadata": {
    "collapsed": true
   },
   "outputs": [],
   "source": [
    "# new_output[0]"
   ]
  },
  {
   "cell_type": "code",
   "execution_count": 11,
   "metadata": {
    "collapsed": true
   },
   "outputs": [],
   "source": [
    "# First initialize every school's WEBTEXT value\n",
    "for s in sample:\n",
    "    s[\"WEBTEXT\"] = \"\"\n",
    "\n",
    "# For every school in which we have parsed html, use string matching to find\n",
    "# the matching school in micro-sample_2013.csv\n",
    "for output in new_output:\n",
    "    index = 0\n",
    "    for s in sample:\n",
    "        if s[\"SCHNAM\"].lower() == output[\"SCH_NAME\"].lower():\n",
    "            break\n",
    "        index += 1\n",
    "    # If index is 300, then the school name from output.csv was not found in micro-sample_2013.csv\n",
    "    if index != 300:\n",
    "        sample[index][\"WEBTEXT\"] = output[\"alltext\"]\n",
    "\n",
    "# Write the merged list of ordered dicts to merged.csv\n",
    "with open('merged.csv', 'w', newline='') as csvfile:\n",
    "    fieldnames = list(sample[0].keys())\n",
    "    writer = csv.DictWriter(csvfile, fieldnames=fieldnames)\n",
    "\n",
    "    writer.writeheader()\n",
    "    for s in sample:\n",
    "        writer.writerow(s)"
   ]
  },
  {
   "cell_type": "code",
   "execution_count": 12,
   "metadata": {
    "collapsed": true,
    "scrolled": true
   },
   "outputs": [],
   "source": [
    "# Take a look at the most important contents and the variables list\n",
    "# in our sample (a list of dictionaries)--let's look at just the first entry\n",
    "# print(sample[1][\"SCHNAM\"], \"\\n\", sample[1][\"URL\"], \"\\n\", sample[1][\"WEBTEXT\"], \"\\n\")\n",
    "# print(sample[1].keys()) # look at all the variables!"
   ]
  },
  {
   "cell_type": "code",
   "execution_count": 96,
   "metadata": {
    "collapsed": true
   },
   "outputs": [],
   "source": [
    "# Read the newly merged data in as a pandas dataframe\n",
    "df = pandas.read_csv(\"merged.csv\", encoding = 'Latin-1')\n",
    "df = df.dropna(subset=[\"WEBTEXT\"]) # drop any schools with no webtext that might have snuck in (none currently)"
   ]
  },
  {
   "cell_type": "code",
   "execution_count": 14,
   "metadata": {
    "collapsed": true
   },
   "outputs": [],
   "source": [
    "# Add additional variables for analysis:\n",
    "# PCTETH = percentage of enrolled students belonging to a racial minority\n",
    "# this includes American Indian, Asian, Hispanic, Black, Hawaiian, or Pacific Islander\n",
    "df[\"PCTETH\"] = (df[\"AM\"] + df[\"ASIAN\"] + df[\"HISP\"] + df[\"BLACK\"] + df[\"PACIFIC\"]) / df[\"MEMBER\"]\n",
    "\n",
    "df[\"STR\"] = df[\"MEMBER\"] / df[\"FTE\"] # Student/teacher ratio\n",
    "df[\"PCTFRPL\"] = df[\"TOTFRL\"] / df[\"MEMBER\"] # Percent of students receiving FRPL\n",
    "\n",
    "# Another interesting variable: \n",
    "# TYPE = type of school, where 1 = regular, 2 = special ed, 3 = vocational, 4 = other/alternative, 5 = reportable program"
   ]
  },
  {
   "cell_type": "code",
   "execution_count": 15,
   "metadata": {
    "scrolled": true
   },
   "outputs": [
    {
     "name": "stdout",
     "output_type": "stream",
     "text": [
      "River City Scholars is a free public charter school serving young-five kindergarten through 8th grade. Seats are filling fast, so ! Founded on academic excellence, moral focus, parental partnership, and student responsibility, River City Scholars is a school like no other Ã¢ÂÂone that can lead to a lifetime of success. We provide a safe learning environment and our exceptional teachers individualize instruction based on your childÃ¢ÂÂs needs. In addition, we focus on real-world skills and how to be a good person. Our students also draft a social contract that reinforces their commitment to their school, their teacher, and each other. If you would like to schedule a school tour to learn more about our academic program, Moral Focus curriculum, and school environment, please feel free to contact us for more information. We look forward to hearing from you! Menu Call Map Login Search River City Scholars 944 Evergreen St Grand Rapids , MI 49507 616-248-3390 Fax: 616-723-0128 School Hours: M: 9:00am-3:15pm T-F 8:00am-3:15pm Office Hours: 7:30am-4:00pm Find teacher, leadership, and support staff career opportunities with NHA. Get updates about NHA, our schools and new educational methods by providing us your email address below. Menu Call Map Login Search River City Scholars 944 Evergreen St Grand Rapids , MI 49507 616-248-3390 Fax: 616-723-0128 School Hours: M: 9:00am-3:15pm T-F 8:00am-3:15pm Office Hours: 7:30am-4:00pm Find teacher, leadership, and support staff career opportunities with NHA. Get updates about NHA, our schools and new educational methods by providing us your email address below. About Us Why River City Scholars? Quick Links Facebook Feed School Calendar Learn More About Us Questions ? Top Reasons Parents Send Their Children To Our School: * Contact Us Careers More School Links Connect With Us\n"
     ]
    }
   ],
   "source": [
    "## Print the webtext from the first school in the dataframe\n",
    "print(df.iloc[2][\"WEBTEXT\"])"
   ]
  },
  {
   "cell_type": "markdown",
   "metadata": {},
   "source": [
    "## Descriptive statistics"
   ]
  },
  {
   "cell_type": "markdown",
   "metadata": {},
   "source": [
    "### How urban proximity is coded: Lower number = more urban (closer to large city) \n",
    "\n",
    "More specifically, it uses two digits with distinct meanings: \n",
    "- the first digit: \n",
    "    - 1 = city\n",
    "    - 2 = suburb\n",
    "    - 3 = town\n",
    "    - 4 = rural\n",
    "- the second digit:\n",
    "    - 1 = large or fringe\n",
    "    - 2 = mid-size or distant\n",
    "    - 3 = small/remote"
   ]
  },
  {
   "cell_type": "code",
   "execution_count": 16,
   "metadata": {
    "collapsed": true,
    "scrolled": true
   },
   "outputs": [],
   "source": [
    "# print(df.describe()) # get descriptive statistics for all numerical columns\n",
    "# print()\n",
    "# print(df['ULOCAL'].value_counts()) # frequency counts for categorical data\n",
    "# print()\n",
    "# print(df['LEVEL'].value_counts()) # treat grade range served as categorical\n",
    "# # Codes for level/ grade range served: 3 = High school, 2 = Middle school, 1 = Elementary, 4 = Other)\n",
    "# print()\n",
    "# print(df['LSTATE'].mode()) # find the most common state represented in these data\n",
    "# print(df['ULOCAL'].mode()) # find the most urbanicity represented in these data\n",
    "# print(df['FTE']).mean() # What's the average number of full-time employees by school?\n",
    "# print(df['STR']).mean() # And the average student-teacher ratio?"
   ]
  },
  {
   "cell_type": "code",
   "execution_count": 17,
   "metadata": {
    "scrolled": true
   },
   "outputs": [
    {
     "data": {
      "image/png": "[encoded data removed]",
      "text/plain": [
       "<matplotlib.figure.Figure at 0x10f0c8e80>"
      ]
     },
     "metadata": {},
     "output_type": "display_data"
    }
   ],
   "source": [
    "# here's the number of schools from each state, in a graph:\n",
    "grouped_state = df.groupby('LSTATE')\n",
    "grouped_state['WEBTEXT'].count().sort_values(ascending=True).plot(kind = 'bar', title='Schools mostly in CA, TX, AZ, FL--similar to national trend')\n",
    "plt.show()"
   ]
  },
  {
   "cell_type": "code",
   "execution_count": 18,
   "metadata": {},
   "outputs": [
    {
     "data": {
      "image/png": "[encoded data removed]",
      "text/plain": [
       "<matplotlib.figure.Figure at 0x109b3ccc0>"
      ]
     },
     "metadata": {},
     "output_type": "display_data"
    }
   ],
   "source": [
    "# and here's the number of schools in each urban category, in a graph:\n",
    "grouped_urban = df.groupby('ULOCAL')\n",
    "grouped_urban['WEBTEXT'].count().sort_values(ascending=True).plot(kind = 'bar', title='Most schools are in large cities or large suburbs')\n",
    "plt.show()"
   ]
  },
  {
   "cell_type": "markdown",
   "metadata": {},
   "source": [
    "#### What these numbers say about the charter schools in the sample:\n",
    "- Most are located in large cities, followed by large suburbs, then medium and small city, and then rural.\n",
    "- The means for percent minorities and students receiving free- or reduced-price lunch are both about 60%.\n",
    "- Most are in CA, TX, AZ, and FL\n",
    "- Most of the schools in the sample are primary schools\n",
    "\n",
    "#### This means that the sample reflects national averages. In that sense, this sample isn't so bad."
   ]
  },
  {
   "cell_type": "markdown",
   "metadata": {},
   "source": [
    "## Cleaning, tokenizing, and stemming the text"
   ]
  },
  {
   "cell_type": "code",
   "execution_count": 19,
   "metadata": {
    "collapsed": true
   },
   "outputs": [],
   "source": [
    "# Now we clean the webtext by rendering each word lower-case then removing punctuation. \n",
    "df['webtext_lc'] = df['WEBTEXT'].str.lower() # make the webtext lower case\n",
    "df['webtokens'] = df['webtext_lc'].apply(nltk.word_tokenize) # tokenize the lower-case webtext by word\n",
    "df['webtokens_nopunct'] = df['webtokens'].apply(lambda x: [word for word in x if word not in list(string.punctuation)]) # remove punctuation"
   ]
  },
  {
   "cell_type": "code",
   "execution_count": 20,
   "metadata": {
    "scrolled": true
   },
   "outputs": [
    {
     "name": "stdout",
     "output_type": "stream",
     "text": [
      "['2016', 'richland', 'two', 'career', 'pathways', 'expo', 'richland', 'school', 'district', 'two', 'will', 'be', 'hosting', 'a', 'career', 'pathways', 'expo', 'on', 'thursday', ',', 'october', '27', 'from', '3:00', 'pm', 'to', '7:00', 'pm', 'at', 'the', 'newest', 'facility', ',', 'r2i2', '(', 'behind', 'the', 'village', 'at', 'sandhill', ')', '.', 'all', 'students', 'in', 'grades', '7-12', 'along', 'with', 'their', 'parents/and', 'or', 'guardians', 'are', 'invited', 'to', 'attend', '.', 'students', 'will', 'be', 'able', 'to', 'explore', 'careers', 'and', 'educational', 'opportunities', 'in', '5', 'career', 'areas', '--', 'health', 'science', ',', 'art', ',', 'stem', ',', 'business/it', ',', 'human', 'services/education', '.', 'you', 'will', 'have', 'the', 'opportunity', 'to', 'speak', 'with', 'businesses', 'and', 'educational', 'institutions', 'to', 'see', 'the']\n"
     ]
    }
   ],
   "source": [
    "print(df.iloc[0][\"webtokens\"][:100]) # the tokenized text without punctuation"
   ]
  },
  {
   "cell_type": "code",
   "execution_count": 21,
   "metadata": {
    "collapsed": true
   },
   "outputs": [],
   "source": [
    "# Now we remove stopwords and stem. This will improve the results\n",
    "df['webtokens_clean'] = df['webtokens_nopunct'].apply(lambda x: [word for word in x if word not in list(stopenglish)]) # remove stopwords\n",
    "df['webtokens_stemmed'] = df['webtokens_clean'].apply(lambda x: [PorterStemmer().stem(word) for word in x])"
   ]
  },
  {
   "cell_type": "code",
   "execution_count": 22,
   "metadata": {
    "collapsed": true
   },
   "outputs": [],
   "source": [
    "# Some analyses require a string version of the webtext without punctuation or numbers.\n",
    "# To get this, we join together the cleaned and stemmed tokens created above, and then remove numbers and punctuation:\n",
    "df['webtext_stemmed'] = df['webtokens_stemmed'].apply(lambda x: ' '.join(char for char in x))\n",
    "df['webtext_stemmed'] = df['webtext_stemmed'].apply(lambda x: ''.join(char for char in x if char not in punctuations))\n",
    "df['webtext_stemmed'] = df['webtext_stemmed'].apply(lambda x: ''.join(char for char in x if not char.isdigit()))"
   ]
  },
  {
   "cell_type": "code",
   "execution_count": 23,
   "metadata": {},
   "outputs": [
    {
     "data": {
      "text/plain": [
       "' richland two career pathway expo richland school district two host career pathway expo thursday octob   pm  pm newest facil ri behind villag sandhil student grade  along parentsand guardian invit attend student abl explor career educ opportun  career area  health scienc art stem businessit human serviceseduc opportun speak busi educ institut see connect learn high school possibl career question pleas contact mrs holland richland  charter high school move new locat locat anna boyd school  brookmont lane columbia sc  congratul  graduat view video ceremoni view thevideo june   graduat ceremoni charter high school inform monday august   richland two career pathway expo  richland two career pathway expo richland school district two host career pathway expo thursday octob   pm  pm newest facil ri behind villag sandhil student grade  along parentsand guardian invit attend student abl explor career educ opportun  career area  health scienc art stem businessit human serviceseduc opportun speak busi educ institut see connect learn high school possibl career question pleas contact mrs holland wednesday juli  r charter high school move richland  charter high school move new locat locat anna boyd school  brookmont lane columbia sc  wednesday june  congratul  graduat congratul  graduat view video ceremoni monday june  congratul  graduat view thevideo june   graduat ceremoni monday august   richland two career pathway expo  richland two career pathway expo richland school district two host career pathway expo thursday octob   pm  pm newest facil ri behind villag sandhil student grade  along parentsand guardian invit attend student abl explor career educ opportun  career area  health scienc art stem businessit human serviceseduc opportun speak busi educ institut see connect learn high school possibl career question pleas contact mrs holland wednesday juli  r charter high school move richland  charter high school move new locat locat anna boyd school  brookmont lane columbia sc  wednesday june  congratul  graduat congratul  graduat view video ceremoni monday june  congratul  graduat view thevideo june   graduat ceremoni charter high school inform news announc calendar event monday august   richland two career pathway expo wednesday juli  r charter high school move wednesday june  congratul  graduat monday june  congratul  graduat'"
      ]
     },
     "execution_count": 23,
     "metadata": {},
     "output_type": "execute_result"
    }
   ],
   "source": [
    "df['webtext_stemmed'][0]"
   ]
  },
  {
   "cell_type": "code",
   "execution_count": 24,
   "metadata": {
    "collapsed": true
   },
   "outputs": [],
   "source": [
    "# Some analyses require tokenized sentences. I'll do this with the list of dictionaries.\n",
    "# I'll use cleaned, tokenized sentences (with stopwords) to create both a dictionary variable and a separate list for word2vec\n",
    "\n",
    "words_by_sentence = [] # initialize the list of tokenized sentences as an empty list\n",
    "for school in sample:\n",
    "    school[\"sent_toksclean\"] = []\n",
    "    school[\"sent_tokens\"] = [word_tokenize(sentence) for sentence in sent_tokenize(school[\"WEBTEXT\"])] \n",
    "    for sent in school[\"sent_tokens\"]:\n",
    "        school[\"sent_toksclean\"].append([PorterStemmer().stem(word.lower()) for word in sent if (word not in punctuations)]) # for each word: stem, lower-case, and remove punctuations\n",
    "        words_by_sentence.append([PorterStemmer().stem(word.lower()) for word in sent if (word not in punctuations)])"
   ]
  },
  {
   "cell_type": "code",
   "execution_count": 25,
   "metadata": {},
   "outputs": [
    {
     "data": {
      "text/plain": [
       "[['2016',\n",
       "  'richland',\n",
       "  'two',\n",
       "  'career',\n",
       "  'pathway',\n",
       "  'expo',\n",
       "  'richland',\n",
       "  'school',\n",
       "  'district',\n",
       "  'two',\n",
       "  'will',\n",
       "  'be',\n",
       "  'host',\n",
       "  'a',\n",
       "  'career',\n",
       "  'pathway',\n",
       "  'expo',\n",
       "  'on',\n",
       "  'thursday',\n",
       "  'octob',\n",
       "  '27',\n",
       "  'from',\n",
       "  '3:00',\n",
       "  'pm',\n",
       "  'to',\n",
       "  '7:00',\n",
       "  'pm',\n",
       "  'at',\n",
       "  'the',\n",
       "  'newest',\n",
       "  'facil',\n",
       "  'r2i2',\n",
       "  'behind',\n",
       "  'the',\n",
       "  'villag',\n",
       "  'at',\n",
       "  'sandhil'],\n",
       " ['all',\n",
       "  'student',\n",
       "  'in',\n",
       "  'grade',\n",
       "  '7-12',\n",
       "  'along',\n",
       "  'with',\n",
       "  'their',\n",
       "  'parents/and',\n",
       "  'or',\n",
       "  'guardian',\n",
       "  'are',\n",
       "  'invit',\n",
       "  'to',\n",
       "  'attend']]"
      ]
     },
     "execution_count": 25,
     "metadata": {},
     "output_type": "execute_result"
    }
   ],
   "source": [
    "words_by_sentence[:2]"
   ]
  },
  {
   "cell_type": "code",
   "execution_count": null,
   "metadata": {
    "collapsed": true
   },
   "outputs": [],
   "source": []
  },
  {
   "cell_type": "markdown",
   "metadata": {},
   "source": [
    "### Counting document lengths"
   ]
  },
  {
   "cell_type": "code",
   "execution_count": 26,
   "metadata": {
    "collapsed": true
   },
   "outputs": [],
   "source": [
    "# We can also count document lengths. I'll mostly use the version with punctuation removed but including stopwords,\n",
    "# because stopwords are also part of these schools' public image/ self-presentation to potential parents, regulators, etc.\n",
    "\n",
    "df['webstem_count'] = df['webtokens_stemmed'].apply(len) # find word count without stopwords or punctuation\n",
    "df['webpunct_count'] = df['webtokens_nopunct'].apply(len) # find length with stopwords still in there (but no punctuation)\n",
    "df['webclean_count'] = df['webtokens_clean'].apply(len) # find word count without stopwords or punctuation"
   ]
  },
  {
   "cell_type": "code",
   "execution_count": 27,
   "metadata": {
    "scrolled": false
   },
   "outputs": [
    {
     "name": "stdout",
     "output_type": "stream",
     "text": [
      "ULOCAL\n",
      "31    498.000000\n",
      "13    473.470588\n",
      "41    446.434783\n",
      "12    420.928571\n",
      "11    359.819048\n",
      "21    355.785714\n",
      "43    325.000000\n",
      "23    213.750000\n",
      "32    200.777778\n",
      "42    171.000000\n",
      "33    171.000000\n",
      "22    168.250000\n",
      "Name: webpunct_count, dtype: float64\n"
     ]
    }
   ],
   "source": [
    "# For which urban status are website self-description the longest?\n",
    "print(grouped_urban['webpunct_count'].mean().sort_values(ascending=False))"
   ]
  },
  {
   "cell_type": "code",
   "execution_count": 28,
   "metadata": {
    "scrolled": true
   },
   "outputs": [
    {
     "data": {
      "image/png": "[encoded data removed]",
      "text/plain": [
       "<matplotlib.figure.Figure at 0x11c0846d8>"
      ]
     },
     "metadata": {},
     "output_type": "display_data"
    }
   ],
   "source": [
    "# here's the mean website self-description word count for schools grouped by urban proximity, in a graph:\n",
    "grouped_urban['webpunct_count'].mean().sort_values(ascending=True).plot(kind = 'bar', title='Schools in mid-sized cities and suburbs have longer self-descriptions than in fringe areas', yerr = grouped_state[\"webpunct_count\"].std())\n",
    "plt.show()"
   ]
  },
  {
   "cell_type": "code",
   "execution_count": 29,
   "metadata": {},
   "outputs": [
    {
     "data": {
      "image/png": "[encoded data removed]",
      "text/plain": [
       "<matplotlib.figure.Figure at 0x11d2510b8>"
      ]
     },
     "metadata": {},
     "output_type": "display_data"
    }
   ],
   "source": [
    "# Look at 'FTE' (proxy for # administrators) clustered by urban proximity and whether it explains this\n",
    "grouped_urban['FTE'].mean().sort_values(ascending=True).plot(kind = 'bar', title='Title', yerr = grouped_state[\"FTE\"].std())\n",
    "plt.show()"
   ]
  },
  {
   "cell_type": "code",
   "execution_count": 30,
   "metadata": {
    "collapsed": true
   },
   "outputs": [],
   "source": [
    "# Now let's calculate the type-token ratio (TTR) for each school, which compares\n",
    "# the number of types (unique words used) with the number of words (including repetitions of words).\n",
    "\n",
    "df['numtypes'] = df['webtokens_nopunct'].apply(lambda x: len(set(x))) # this is the number of unique words per site\n",
    "df['TTR'] =  df['numtypes'] / df['webpunct_count'] # calculate TTR"
   ]
  },
  {
   "cell_type": "code",
   "execution_count": 31,
   "metadata": {},
   "outputs": [
    {
     "data": {
      "image/png": "[encoded data removed]",
      "text/plain": [
       "<matplotlib.figure.Figure at 0x11d198ba8>"
      ]
     },
     "metadata": {},
     "output_type": "display_data"
    }
   ],
   "source": [
    "# here's the mean TTR for schools grouped by urban category:\n",
    "grouped_urban = df.groupby('ULOCAL')\n",
    "grouped_urban['TTR'].mean().sort_values(ascending=True).plot(kind = 'bar', title='Charters in cities and suburbs have higher textual redundancy than in fringe areas', yerr = grouped_urban[\"TTR\"].std())\n",
    "plt.show()"
   ]
  },
  {
   "cell_type": "markdown",
   "metadata": {},
   "source": [
    "## (Excessively) Frequent words"
   ]
  },
  {
   "cell_type": "code",
   "execution_count": 32,
   "metadata": {},
   "outputs": [
    {
     "data": {
      "text/plain": [
       "['2016',\n",
       " 'richland',\n",
       " 'two',\n",
       " 'career',\n",
       " 'pathways',\n",
       " 'expo',\n",
       " 'richland',\n",
       " 'school',\n",
       " 'district',\n",
       " 'two',\n",
       " 'hosting',\n",
       " 'career',\n",
       " 'pathways',\n",
       " 'expo',\n",
       " 'thursday',\n",
       " 'october',\n",
       " '27',\n",
       " '3:00',\n",
       " 'pm',\n",
       " '7:00']"
      ]
     },
     "execution_count": 32,
     "metadata": {},
     "output_type": "execute_result"
    }
   ],
   "source": [
    "# First, aggregate all the cleaned webtext:\n",
    "webtext_all = []\n",
    "df['webtokens_clean'].apply(lambda x: [webtext_all.append(word) for word in x])\n",
    "webtext_all[:20]"
   ]
  },
  {
   "cell_type": "code",
   "execution_count": 33,
   "metadata": {},
   "outputs": [
    {
     "name": "stdout",
     "output_type": "stream",
     "text": [
      "[('school', 1601), ('students', 820), ('academy', 420), ('2016', 400), ('schools', 345), ('high', 340), ('learning', 329), ('charter', 314), ('september', 263), ('student', 258), ('education', 250), ('community', 239), ('day', 233), ('pm', 219), ('program', 219), (\"'s\", 218), ('please', 213), ('year', 211), ('sep', 207), ('life', 199), ('grade', 195), ('new', 191), ('»', 191), ('skills', 188), ('campus', 180), ('college', 172), ('public', 166), ('...', 163), ('us', 161), ('ã¢â\\x80â\\x93', 161), ('elementary', 161), ('ã¯â', 159), ('â¿', 159), ('information', 154), ('academic', 152), ('grades', 149), ('p.m.', 144), ('child', 133), ('parents', 131), ('curriculum', 128), ('teachers', 126), ('welcome', 125), ('middle', 122), ('state', 121), ('parent', 118), ('office', 118), ('free', 117), ('district', 113), ('arts', 111), ('environment', 110)]\n"
     ]
    }
   ],
   "source": [
    "# Now apply the nltk function FreqDist to count the number of times each token occurs.\n",
    "word_frequency = nltk.FreqDist(webtext_all)\n",
    "\n",
    "#print out the 50 most frequent words using the function most_common\n",
    "print(word_frequency.most_common(50))"
   ]
  },
  {
   "cell_type": "markdown",
   "metadata": {},
   "source": [
    " ### These are prolific, ritual, empty words and will be excluded from topic models!"
   ]
  },
  {
   "cell_type": "markdown",
   "metadata": {},
   "source": [
    "## Distinctive words (mostly place names)"
   ]
  },
  {
   "cell_type": "code",
   "execution_count": 34,
   "metadata": {
    "collapsed": true,
    "scrolled": true
   },
   "outputs": [],
   "source": [
    "sklearn_dtm = countvec.fit_transform(df['webtext_stemmed'])\n",
    "# print(sklearn_dtm)"
   ]
  },
  {
   "cell_type": "code",
   "execution_count": 35,
   "metadata": {},
   "outputs": [
    {
     "name": "stdout",
     "output_type": "stream",
     "text": [
      "['a', 'aa', 'aaliyah', 'aalt', 'aaron', 'aasc', 'aasd', 'ab', 'abid', 'abil']\n"
     ]
    }
   ],
   "source": [
    "# What are some of the words in the DTM? \n",
    "print(countvec.get_feature_names()[:10])"
   ]
  },
  {
   "cell_type": "code",
   "execution_count": 36,
   "metadata": {
    "scrolled": true
   },
   "outputs": [
    {
     "data": {
      "text/html": [
       "<div>\n",
       "<style>\n",
       "    .dataframe thead tr:only-child th {\n",
       "        text-align: right;\n",
       "    }\n",
       "\n",
       "    .dataframe thead th {\n",
       "        text-align: left;\n",
       "    }\n",
       "\n",
       "    .dataframe tbody tr th {\n",
       "        vertical-align: top;\n",
       "    }\n",
       "</style>\n",
       "<table border=\"1\" class=\"dataframe\">\n",
       "  <thead>\n",
       "    <tr style=\"text-align: right;\">\n",
       "      <th></th>\n",
       "      <th>aa</th>\n",
       "      <th>aaliyah</th>\n",
       "      <th>aalt</th>\n",
       "      <th>aaron</th>\n",
       "      <th>aasc</th>\n",
       "      <th>aasd</th>\n",
       "      <th>ab</th>\n",
       "      <th>abid</th>\n",
       "      <th>abil</th>\n",
       "      <th>abl</th>\n",
       "      <th>...</th>\n",
       "      <th>zoelearningacademyorg</th>\n",
       "      <th>zone</th>\n",
       "      <th>zoo</th>\n",
       "      <th>zucchini</th>\n",
       "      <th>zulu</th>\n",
       "      <th>zweben</th>\n",
       "      <th>ân</th>\n",
       "      <th>ânistasã</th>\n",
       "      <th>âºn</th>\n",
       "      <th>âºtbol</th>\n",
       "    </tr>\n",
       "  </thead>\n",
       "  <tbody>\n",
       "    <tr>\n",
       "      <th>0</th>\n",
       "      <td>0.0</td>\n",
       "      <td>0.000000</td>\n",
       "      <td>0.0</td>\n",
       "      <td>0.0</td>\n",
       "      <td>0.0</td>\n",
       "      <td>0.0</td>\n",
       "      <td>0.000000</td>\n",
       "      <td>0.000000</td>\n",
       "      <td>0.00000</td>\n",
       "      <td>0.068272</td>\n",
       "      <td>...</td>\n",
       "      <td>0.000000</td>\n",
       "      <td>0.0</td>\n",
       "      <td>0.0</td>\n",
       "      <td>0.0</td>\n",
       "      <td>0.0</td>\n",
       "      <td>0.000000</td>\n",
       "      <td>0.0</td>\n",
       "      <td>0.0</td>\n",
       "      <td>0.0</td>\n",
       "      <td>0.0</td>\n",
       "    </tr>\n",
       "    <tr>\n",
       "      <th>1</th>\n",
       "      <td>0.0</td>\n",
       "      <td>0.000000</td>\n",
       "      <td>0.0</td>\n",
       "      <td>0.0</td>\n",
       "      <td>0.0</td>\n",
       "      <td>0.0</td>\n",
       "      <td>0.000000</td>\n",
       "      <td>0.000000</td>\n",
       "      <td>0.00000</td>\n",
       "      <td>0.000000</td>\n",
       "      <td>...</td>\n",
       "      <td>0.000000</td>\n",
       "      <td>0.0</td>\n",
       "      <td>0.0</td>\n",
       "      <td>0.0</td>\n",
       "      <td>0.0</td>\n",
       "      <td>0.000000</td>\n",
       "      <td>0.0</td>\n",
       "      <td>0.0</td>\n",
       "      <td>0.0</td>\n",
       "      <td>0.0</td>\n",
       "    </tr>\n",
       "    <tr>\n",
       "      <th>2</th>\n",
       "      <td>0.0</td>\n",
       "      <td>0.000000</td>\n",
       "      <td>0.0</td>\n",
       "      <td>0.0</td>\n",
       "      <td>0.0</td>\n",
       "      <td>0.0</td>\n",
       "      <td>0.000000</td>\n",
       "      <td>0.000000</td>\n",
       "      <td>0.00000</td>\n",
       "      <td>0.000000</td>\n",
       "      <td>...</td>\n",
       "      <td>0.000000</td>\n",
       "      <td>0.0</td>\n",
       "      <td>0.0</td>\n",
       "      <td>0.0</td>\n",
       "      <td>0.0</td>\n",
       "      <td>0.000000</td>\n",
       "      <td>0.0</td>\n",
       "      <td>0.0</td>\n",
       "      <td>0.0</td>\n",
       "      <td>0.0</td>\n",
       "    </tr>\n",
       "    <tr>\n",
       "      <th>3</th>\n",
       "      <td>0.0</td>\n",
       "      <td>0.000000</td>\n",
       "      <td>0.0</td>\n",
       "      <td>0.0</td>\n",
       "      <td>0.0</td>\n",
       "      <td>0.0</td>\n",
       "      <td>0.000000</td>\n",
       "      <td>0.000000</td>\n",
       "      <td>0.00000</td>\n",
       "      <td>0.000000</td>\n",
       "      <td>...</td>\n",
       "      <td>0.000000</td>\n",
       "      <td>0.0</td>\n",
       "      <td>0.0</td>\n",
       "      <td>0.0</td>\n",
       "      <td>0.0</td>\n",
       "      <td>0.000000</td>\n",
       "      <td>0.0</td>\n",
       "      <td>0.0</td>\n",
       "      <td>0.0</td>\n",
       "      <td>0.0</td>\n",
       "    </tr>\n",
       "    <tr>\n",
       "      <th>4</th>\n",
       "      <td>0.0</td>\n",
       "      <td>0.000000</td>\n",
       "      <td>0.0</td>\n",
       "      <td>0.0</td>\n",
       "      <td>0.0</td>\n",
       "      <td>0.0</td>\n",
       "      <td>0.000000</td>\n",
       "      <td>0.000000</td>\n",
       "      <td>0.00000</td>\n",
       "      <td>0.000000</td>\n",
       "      <td>...</td>\n",
       "      <td>0.000000</td>\n",
       "      <td>0.0</td>\n",
       "      <td>0.0</td>\n",
       "      <td>0.0</td>\n",
       "      <td>0.0</td>\n",
       "      <td>0.000000</td>\n",
       "      <td>0.0</td>\n",
       "      <td>0.0</td>\n",
       "      <td>0.0</td>\n",
       "      <td>0.0</td>\n",
       "    </tr>\n",
       "    <tr>\n",
       "      <th>5</th>\n",
       "      <td>0.0</td>\n",
       "      <td>0.000000</td>\n",
       "      <td>0.0</td>\n",
       "      <td>0.0</td>\n",
       "      <td>0.0</td>\n",
       "      <td>0.0</td>\n",
       "      <td>0.058525</td>\n",
       "      <td>0.000000</td>\n",
       "      <td>0.00000</td>\n",
       "      <td>0.000000</td>\n",
       "      <td>...</td>\n",
       "      <td>0.000000</td>\n",
       "      <td>0.0</td>\n",
       "      <td>0.0</td>\n",
       "      <td>0.0</td>\n",
       "      <td>0.0</td>\n",
       "      <td>0.000000</td>\n",
       "      <td>0.0</td>\n",
       "      <td>0.0</td>\n",
       "      <td>0.0</td>\n",
       "      <td>0.0</td>\n",
       "    </tr>\n",
       "    <tr>\n",
       "      <th>6</th>\n",
       "      <td>0.0</td>\n",
       "      <td>0.000000</td>\n",
       "      <td>0.0</td>\n",
       "      <td>0.0</td>\n",
       "      <td>0.0</td>\n",
       "      <td>0.0</td>\n",
       "      <td>0.000000</td>\n",
       "      <td>0.000000</td>\n",
       "      <td>0.00000</td>\n",
       "      <td>0.000000</td>\n",
       "      <td>...</td>\n",
       "      <td>0.000000</td>\n",
       "      <td>0.0</td>\n",
       "      <td>0.0</td>\n",
       "      <td>0.0</td>\n",
       "      <td>0.0</td>\n",
       "      <td>0.020747</td>\n",
       "      <td>0.0</td>\n",
       "      <td>0.0</td>\n",
       "      <td>0.0</td>\n",
       "      <td>0.0</td>\n",
       "    </tr>\n",
       "    <tr>\n",
       "      <th>7</th>\n",
       "      <td>0.0</td>\n",
       "      <td>0.000000</td>\n",
       "      <td>0.0</td>\n",
       "      <td>0.0</td>\n",
       "      <td>0.0</td>\n",
       "      <td>0.0</td>\n",
       "      <td>0.000000</td>\n",
       "      <td>0.000000</td>\n",
       "      <td>0.00000</td>\n",
       "      <td>0.000000</td>\n",
       "      <td>...</td>\n",
       "      <td>0.000000</td>\n",
       "      <td>0.0</td>\n",
       "      <td>0.0</td>\n",
       "      <td>0.0</td>\n",
       "      <td>0.0</td>\n",
       "      <td>0.000000</td>\n",
       "      <td>0.0</td>\n",
       "      <td>0.0</td>\n",
       "      <td>0.0</td>\n",
       "      <td>0.0</td>\n",
       "    </tr>\n",
       "    <tr>\n",
       "      <th>8</th>\n",
       "      <td>0.0</td>\n",
       "      <td>0.000000</td>\n",
       "      <td>0.0</td>\n",
       "      <td>0.0</td>\n",
       "      <td>0.0</td>\n",
       "      <td>0.0</td>\n",
       "      <td>0.000000</td>\n",
       "      <td>0.000000</td>\n",
       "      <td>0.00000</td>\n",
       "      <td>0.000000</td>\n",
       "      <td>...</td>\n",
       "      <td>0.000000</td>\n",
       "      <td>0.0</td>\n",
       "      <td>0.0</td>\n",
       "      <td>0.0</td>\n",
       "      <td>0.0</td>\n",
       "      <td>0.000000</td>\n",
       "      <td>0.0</td>\n",
       "      <td>0.0</td>\n",
       "      <td>0.0</td>\n",
       "      <td>0.0</td>\n",
       "    </tr>\n",
       "    <tr>\n",
       "      <th>9</th>\n",
       "      <td>0.0</td>\n",
       "      <td>0.000000</td>\n",
       "      <td>0.0</td>\n",
       "      <td>0.0</td>\n",
       "      <td>0.0</td>\n",
       "      <td>0.0</td>\n",
       "      <td>0.000000</td>\n",
       "      <td>0.000000</td>\n",
       "      <td>0.00000</td>\n",
       "      <td>0.000000</td>\n",
       "      <td>...</td>\n",
       "      <td>0.000000</td>\n",
       "      <td>0.0</td>\n",
       "      <td>0.0</td>\n",
       "      <td>0.0</td>\n",
       "      <td>0.0</td>\n",
       "      <td>0.000000</td>\n",
       "      <td>0.0</td>\n",
       "      <td>0.0</td>\n",
       "      <td>0.0</td>\n",
       "      <td>0.0</td>\n",
       "    </tr>\n",
       "    <tr>\n",
       "      <th>10</th>\n",
       "      <td>0.0</td>\n",
       "      <td>0.000000</td>\n",
       "      <td>0.0</td>\n",
       "      <td>0.0</td>\n",
       "      <td>0.0</td>\n",
       "      <td>0.0</td>\n",
       "      <td>0.000000</td>\n",
       "      <td>0.000000</td>\n",
       "      <td>0.03261</td>\n",
       "      <td>0.000000</td>\n",
       "      <td>...</td>\n",
       "      <td>0.000000</td>\n",
       "      <td>0.0</td>\n",
       "      <td>0.0</td>\n",
       "      <td>0.0</td>\n",
       "      <td>0.0</td>\n",
       "      <td>0.000000</td>\n",
       "      <td>0.0</td>\n",
       "      <td>0.0</td>\n",
       "      <td>0.0</td>\n",
       "      <td>0.0</td>\n",
       "    </tr>\n",
       "    <tr>\n",
       "      <th>11</th>\n",
       "      <td>0.0</td>\n",
       "      <td>0.000000</td>\n",
       "      <td>0.0</td>\n",
       "      <td>0.0</td>\n",
       "      <td>0.0</td>\n",
       "      <td>0.0</td>\n",
       "      <td>0.000000</td>\n",
       "      <td>0.000000</td>\n",
       "      <td>0.00000</td>\n",
       "      <td>0.000000</td>\n",
       "      <td>...</td>\n",
       "      <td>0.000000</td>\n",
       "      <td>0.0</td>\n",
       "      <td>0.0</td>\n",
       "      <td>0.0</td>\n",
       "      <td>0.0</td>\n",
       "      <td>0.000000</td>\n",
       "      <td>0.0</td>\n",
       "      <td>0.0</td>\n",
       "      <td>0.0</td>\n",
       "      <td>0.0</td>\n",
       "    </tr>\n",
       "    <tr>\n",
       "      <th>12</th>\n",
       "      <td>0.0</td>\n",
       "      <td>0.000000</td>\n",
       "      <td>0.0</td>\n",
       "      <td>0.0</td>\n",
       "      <td>0.0</td>\n",
       "      <td>0.0</td>\n",
       "      <td>0.000000</td>\n",
       "      <td>0.000000</td>\n",
       "      <td>0.00000</td>\n",
       "      <td>0.000000</td>\n",
       "      <td>...</td>\n",
       "      <td>0.000000</td>\n",
       "      <td>0.0</td>\n",
       "      <td>0.0</td>\n",
       "      <td>0.0</td>\n",
       "      <td>0.0</td>\n",
       "      <td>0.000000</td>\n",
       "      <td>0.0</td>\n",
       "      <td>0.0</td>\n",
       "      <td>0.0</td>\n",
       "      <td>0.0</td>\n",
       "    </tr>\n",
       "    <tr>\n",
       "      <th>13</th>\n",
       "      <td>0.0</td>\n",
       "      <td>0.000000</td>\n",
       "      <td>0.0</td>\n",
       "      <td>0.0</td>\n",
       "      <td>0.0</td>\n",
       "      <td>0.0</td>\n",
       "      <td>0.000000</td>\n",
       "      <td>0.000000</td>\n",
       "      <td>0.00000</td>\n",
       "      <td>0.000000</td>\n",
       "      <td>...</td>\n",
       "      <td>0.749104</td>\n",
       "      <td>0.0</td>\n",
       "      <td>0.0</td>\n",
       "      <td>0.0</td>\n",
       "      <td>0.0</td>\n",
       "      <td>0.000000</td>\n",
       "      <td>0.0</td>\n",
       "      <td>0.0</td>\n",
       "      <td>0.0</td>\n",
       "      <td>0.0</td>\n",
       "    </tr>\n",
       "    <tr>\n",
       "      <th>14</th>\n",
       "      <td>0.0</td>\n",
       "      <td>0.000000</td>\n",
       "      <td>0.0</td>\n",
       "      <td>0.0</td>\n",
       "      <td>0.0</td>\n",
       "      <td>0.0</td>\n",
       "      <td>0.000000</td>\n",
       "      <td>0.000000</td>\n",
       "      <td>0.00000</td>\n",
       "      <td>0.000000</td>\n",
       "      <td>...</td>\n",
       "      <td>0.000000</td>\n",
       "      <td>0.0</td>\n",
       "      <td>0.0</td>\n",
       "      <td>0.0</td>\n",
       "      <td>0.0</td>\n",
       "      <td>0.000000</td>\n",
       "      <td>0.0</td>\n",
       "      <td>0.0</td>\n",
       "      <td>0.0</td>\n",
       "      <td>0.0</td>\n",
       "    </tr>\n",
       "    <tr>\n",
       "      <th>15</th>\n",
       "      <td>0.0</td>\n",
       "      <td>0.000000</td>\n",
       "      <td>0.0</td>\n",
       "      <td>0.0</td>\n",
       "      <td>0.0</td>\n",
       "      <td>0.0</td>\n",
       "      <td>0.000000</td>\n",
       "      <td>0.000000</td>\n",
       "      <td>0.00000</td>\n",
       "      <td>0.000000</td>\n",
       "      <td>...</td>\n",
       "      <td>0.000000</td>\n",
       "      <td>0.0</td>\n",
       "      <td>0.0</td>\n",
       "      <td>0.0</td>\n",
       "      <td>0.0</td>\n",
       "      <td>0.000000</td>\n",
       "      <td>0.0</td>\n",
       "      <td>0.0</td>\n",
       "      <td>0.0</td>\n",
       "      <td>0.0</td>\n",
       "    </tr>\n",
       "    <tr>\n",
       "      <th>16</th>\n",
       "      <td>0.0</td>\n",
       "      <td>0.000000</td>\n",
       "      <td>0.0</td>\n",
       "      <td>0.0</td>\n",
       "      <td>0.0</td>\n",
       "      <td>0.0</td>\n",
       "      <td>0.000000</td>\n",
       "      <td>0.056216</td>\n",
       "      <td>0.00000</td>\n",
       "      <td>0.000000</td>\n",
       "      <td>...</td>\n",
       "      <td>0.000000</td>\n",
       "      <td>0.0</td>\n",
       "      <td>0.0</td>\n",
       "      <td>0.0</td>\n",
       "      <td>0.0</td>\n",
       "      <td>0.000000</td>\n",
       "      <td>0.0</td>\n",
       "      <td>0.0</td>\n",
       "      <td>0.0</td>\n",
       "      <td>0.0</td>\n",
       "    </tr>\n",
       "    <tr>\n",
       "      <th>17</th>\n",
       "      <td>0.0</td>\n",
       "      <td>0.000000</td>\n",
       "      <td>0.0</td>\n",
       "      <td>0.0</td>\n",
       "      <td>0.0</td>\n",
       "      <td>0.0</td>\n",
       "      <td>0.000000</td>\n",
       "      <td>0.000000</td>\n",
       "      <td>0.00000</td>\n",
       "      <td>0.000000</td>\n",
       "      <td>...</td>\n",
       "      <td>0.000000</td>\n",
       "      <td>0.0</td>\n",
       "      <td>0.0</td>\n",
       "      <td>0.0</td>\n",
       "      <td>0.0</td>\n",
       "      <td>0.000000</td>\n",
       "      <td>0.0</td>\n",
       "      <td>0.0</td>\n",
       "      <td>0.0</td>\n",
       "      <td>0.0</td>\n",
       "    </tr>\n",
       "    <tr>\n",
       "      <th>18</th>\n",
       "      <td>0.0</td>\n",
       "      <td>0.087509</td>\n",
       "      <td>0.0</td>\n",
       "      <td>0.0</td>\n",
       "      <td>0.0</td>\n",
       "      <td>0.0</td>\n",
       "      <td>0.000000</td>\n",
       "      <td>0.000000</td>\n",
       "      <td>0.00000</td>\n",
       "      <td>0.000000</td>\n",
       "      <td>...</td>\n",
       "      <td>0.000000</td>\n",
       "      <td>0.0</td>\n",
       "      <td>0.0</td>\n",
       "      <td>0.0</td>\n",
       "      <td>0.0</td>\n",
       "      <td>0.000000</td>\n",
       "      <td>0.0</td>\n",
       "      <td>0.0</td>\n",
       "      <td>0.0</td>\n",
       "      <td>0.0</td>\n",
       "    </tr>\n",
       "    <tr>\n",
       "      <th>19</th>\n",
       "      <td>0.0</td>\n",
       "      <td>0.000000</td>\n",
       "      <td>0.0</td>\n",
       "      <td>0.0</td>\n",
       "      <td>0.0</td>\n",
       "      <td>0.0</td>\n",
       "      <td>0.000000</td>\n",
       "      <td>0.000000</td>\n",
       "      <td>0.00000</td>\n",
       "      <td>0.000000</td>\n",
       "      <td>...</td>\n",
       "      <td>0.000000</td>\n",
       "      <td>0.0</td>\n",
       "      <td>0.0</td>\n",
       "      <td>0.0</td>\n",
       "      <td>0.0</td>\n",
       "      <td>0.000000</td>\n",
       "      <td>0.0</td>\n",
       "      <td>0.0</td>\n",
       "      <td>0.0</td>\n",
       "      <td>0.0</td>\n",
       "    </tr>\n",
       "  </tbody>\n",
       "</table>\n",
       "<p>20 rows × 5173 columns</p>\n",
       "</div>"
      ],
      "text/plain": [
       "     aa   aaliyah  aalt  aaron  aasc  aasd        ab      abid     abil  \\\n",
       "0   0.0  0.000000   0.0    0.0   0.0   0.0  0.000000  0.000000  0.00000   \n",
       "1   0.0  0.000000   0.0    0.0   0.0   0.0  0.000000  0.000000  0.00000   \n",
       "2   0.0  0.000000   0.0    0.0   0.0   0.0  0.000000  0.000000  0.00000   \n",
       "3   0.0  0.000000   0.0    0.0   0.0   0.0  0.000000  0.000000  0.00000   \n",
       "4   0.0  0.000000   0.0    0.0   0.0   0.0  0.000000  0.000000  0.00000   \n",
       "5   0.0  0.000000   0.0    0.0   0.0   0.0  0.058525  0.000000  0.00000   \n",
       "6   0.0  0.000000   0.0    0.0   0.0   0.0  0.000000  0.000000  0.00000   \n",
       "7   0.0  0.000000   0.0    0.0   0.0   0.0  0.000000  0.000000  0.00000   \n",
       "8   0.0  0.000000   0.0    0.0   0.0   0.0  0.000000  0.000000  0.00000   \n",
       "9   0.0  0.000000   0.0    0.0   0.0   0.0  0.000000  0.000000  0.00000   \n",
       "10  0.0  0.000000   0.0    0.0   0.0   0.0  0.000000  0.000000  0.03261   \n",
       "11  0.0  0.000000   0.0    0.0   0.0   0.0  0.000000  0.000000  0.00000   \n",
       "12  0.0  0.000000   0.0    0.0   0.0   0.0  0.000000  0.000000  0.00000   \n",
       "13  0.0  0.000000   0.0    0.0   0.0   0.0  0.000000  0.000000  0.00000   \n",
       "14  0.0  0.000000   0.0    0.0   0.0   0.0  0.000000  0.000000  0.00000   \n",
       "15  0.0  0.000000   0.0    0.0   0.0   0.0  0.000000  0.000000  0.00000   \n",
       "16  0.0  0.000000   0.0    0.0   0.0   0.0  0.000000  0.056216  0.00000   \n",
       "17  0.0  0.000000   0.0    0.0   0.0   0.0  0.000000  0.000000  0.00000   \n",
       "18  0.0  0.087509   0.0    0.0   0.0   0.0  0.000000  0.000000  0.00000   \n",
       "19  0.0  0.000000   0.0    0.0   0.0   0.0  0.000000  0.000000  0.00000   \n",
       "\n",
       "         abl   ...    zoelearningacademyorg  zone  zoo  zucchini  zulu  \\\n",
       "0   0.068272   ...                 0.000000   0.0  0.0       0.0   0.0   \n",
       "1   0.000000   ...                 0.000000   0.0  0.0       0.0   0.0   \n",
       "2   0.000000   ...                 0.000000   0.0  0.0       0.0   0.0   \n",
       "3   0.000000   ...                 0.000000   0.0  0.0       0.0   0.0   \n",
       "4   0.000000   ...                 0.000000   0.0  0.0       0.0   0.0   \n",
       "5   0.000000   ...                 0.000000   0.0  0.0       0.0   0.0   \n",
       "6   0.000000   ...                 0.000000   0.0  0.0       0.0   0.0   \n",
       "7   0.000000   ...                 0.000000   0.0  0.0       0.0   0.0   \n",
       "8   0.000000   ...                 0.000000   0.0  0.0       0.0   0.0   \n",
       "9   0.000000   ...                 0.000000   0.0  0.0       0.0   0.0   \n",
       "10  0.000000   ...                 0.000000   0.0  0.0       0.0   0.0   \n",
       "11  0.000000   ...                 0.000000   0.0  0.0       0.0   0.0   \n",
       "12  0.000000   ...                 0.000000   0.0  0.0       0.0   0.0   \n",
       "13  0.000000   ...                 0.749104   0.0  0.0       0.0   0.0   \n",
       "14  0.000000   ...                 0.000000   0.0  0.0       0.0   0.0   \n",
       "15  0.000000   ...                 0.000000   0.0  0.0       0.0   0.0   \n",
       "16  0.000000   ...                 0.000000   0.0  0.0       0.0   0.0   \n",
       "17  0.000000   ...                 0.000000   0.0  0.0       0.0   0.0   \n",
       "18  0.000000   ...                 0.000000   0.0  0.0       0.0   0.0   \n",
       "19  0.000000   ...                 0.000000   0.0  0.0       0.0   0.0   \n",
       "\n",
       "      zweben   ân  ânistasã  âºn  âºtbol  \n",
       "0   0.000000  0.0       0.0  0.0     0.0  \n",
       "1   0.000000  0.0       0.0  0.0     0.0  \n",
       "2   0.000000  0.0       0.0  0.0     0.0  \n",
       "3   0.000000  0.0       0.0  0.0     0.0  \n",
       "4   0.000000  0.0       0.0  0.0     0.0  \n",
       "5   0.000000  0.0       0.0  0.0     0.0  \n",
       "6   0.020747  0.0       0.0  0.0     0.0  \n",
       "7   0.000000  0.0       0.0  0.0     0.0  \n",
       "8   0.000000  0.0       0.0  0.0     0.0  \n",
       "9   0.000000  0.0       0.0  0.0     0.0  \n",
       "10  0.000000  0.0       0.0  0.0     0.0  \n",
       "11  0.000000  0.0       0.0  0.0     0.0  \n",
       "12  0.000000  0.0       0.0  0.0     0.0  \n",
       "13  0.000000  0.0       0.0  0.0     0.0  \n",
       "14  0.000000  0.0       0.0  0.0     0.0  \n",
       "15  0.000000  0.0       0.0  0.0     0.0  \n",
       "16  0.000000  0.0       0.0  0.0     0.0  \n",
       "17  0.000000  0.0       0.0  0.0     0.0  \n",
       "18  0.000000  0.0       0.0  0.0     0.0  \n",
       "19  0.000000  0.0       0.0  0.0     0.0  \n",
       "\n",
       "[20 rows x 5173 columns]"
      ]
     },
     "execution_count": 36,
     "metadata": {},
     "output_type": "execute_result"
    }
   ],
   "source": [
    "# now we can create the dtm, but with cells weigthed by the tf-idf score.\n",
    "dtm_tfidf_df = pandas.DataFrame(tfidfvec.fit_transform(df.webtext_stemmed).toarray(), columns=tfidfvec.get_feature_names(), index = df.index)\n",
    "\n",
    "dtm_tfidf_df[:20] # let's take a look!"
   ]
  },
  {
   "cell_type": "code",
   "execution_count": 37,
   "metadata": {
    "scrolled": true
   },
   "outputs": [
    {
     "name": "stdout",
     "output_type": "stream",
     "text": [
      "richardallenlacom              1.000000\n",
      "lawschoolbu                    1.000000\n",
      "index                          1.000000\n",
      "isplacedwithsitedesignertru    0.953771\n",
      "sep                            0.948295\n",
      "summit                         0.902393\n",
      "offlin                         0.891054\n",
      "mater                          0.879109\n",
      "aa                             0.874038\n",
      "gestalt                        0.834073\n",
      "calendar                       0.830806\n",
      "midwest                        0.828513\n",
      "close                          0.816707\n",
      "quick                          0.788615\n",
      "ncsa                           0.769825\n",
      "pm                             0.754604\n",
      "pasadenarosebudcom             0.749104\n",
      "theeducenterscom               0.749104\n",
      "ideapublicschoolscom           0.749104\n",
      "zoelearningacademyorg          0.749104\n",
      "dtype: float64\n"
     ]
    }
   ],
   "source": [
    "# What are the 20 words with the highest TF-IDF scores?\n",
    "print(dtm_tfidf_df.max().sort_values(ascending=False)[:20])"
   ]
  },
  {
   "cell_type": "markdown",
   "metadata": {},
   "source": [
    "### Like the frequent words above, these highly \"unique\" words are empty of meaning and will be excluded from topic models!"
   ]
  },
  {
   "cell_type": "markdown",
   "metadata": {},
   "source": [
    "## Word Embeddings with word2vec\n",
    "\n",
    "### Word2Vec features\n",
    "<ul>\n",
    "<li>Size: Number of dimensions for word embedding model</li>\n",
    "<li>Window: Number of context words to observe in each direction</li>\n",
    "<li>min_count: Minimum frequency for words included in model</li>\n",
    "<li>sg (Skip-Gram): '0' indicates CBOW model; '1' indicates Skip-Gram</li>\n",
    "<li>Alpha: Learning rate (initial); prevents model from over-correcting, enables finer tuning</li>\n",
    "<li>Iterations: Number of passes through dataset</li>\n",
    "<li>Batch Size: Number of words to sample from data during each pass</li>\n",
    "<li>Worker: Set the 'worker' option to ensure reproducibility</li>\n",
    "</ul>"
   ]
  },
  {
   "cell_type": "code",
   "execution_count": 38,
   "metadata": {
    "collapsed": true
   },
   "outputs": [],
   "source": [
    "# train the model, using a minimum of 5 words\n",
    "model = gensim.models.Word2Vec(words_by_sentence, size=100, window=5, \\\n",
    "                               min_count=2, sg=1, alpha=0.025, iter=5, batch_words=10000, workers=1)"
   ]
  },
  {
   "cell_type": "code",
   "execution_count": 39,
   "metadata": {
    "collapsed": true
   },
   "outputs": [],
   "source": [
    "# dictionary of words in model (may not work for old gensim)\n",
    "# print(len(model.vocab))\n",
    "# model.vocab"
   ]
  },
  {
   "cell_type": "code",
   "execution_count": 40,
   "metadata": {
    "collapsed": true,
    "scrolled": true
   },
   "outputs": [],
   "source": [
    "# Find cosine distance between two given word vectors\n",
    "# print(model.wv.similarity('college-prep','align')) # these two are close to essentialism\n",
    "# print(model.similarity('emot', 'curios')) # these two are close to progressivism"
   ]
  },
  {
   "cell_type": "code",
   "execution_count": 41,
   "metadata": {},
   "outputs": [
    {
     "name": "stdout",
     "output_type": "stream",
     "text": [
      "['uniform', 'university prep', 'videotaped lessons', 'vocational', 'vulnerable', 'wage earner', 'work-related', 'worker', 'workplace', 'workstation']\n",
      "['well-being', 'well-rounded', 'wellness', 'whole child', 'whole-child', 'wildlife', 'worker bee', 'worker-bee', 'yarn', 'zest']\n",
      "['tough', 'track', 'train', 'tutoring', 'unique', 'upgrade', 'value', 'virtual', 'world', 'year']\n"
     ]
    }
   ],
   "source": [
    "# create some rough dictionaries for our contrasting educational philosophies\n",
    "# essentialism = ['excel', 'perform', 'prep', 'rigor', 'standard', 'align', 'comprehens', 'content', \\\n",
    "#                             'market', 'research', 'program', 'standards-bas']\n",
    "# progressivism = ['inquir', 'curios', 'project', 'teamwork', 'social', 'emot', 'reflect', 'creat',\\\n",
    "#                 'ethic', 'independ', 'discov', 'deep', 'natur']\n",
    "\n",
    "def load_dict(path):\n",
    "    dictionary = []\n",
    "    with open(path, \"r\", encoding=\"utf-8\") as file:\n",
    "        line = file.readline()\n",
    "        while line:\n",
    "            line = line.replace('\\x00', '')\n",
    "            if line[-1] == \"\\n\":\n",
    "                line = line[:-1]\n",
    "            if line != \"\":\n",
    "                dictionary.append(line)\n",
    "            line = file.readline()\n",
    "    return dictionary\n",
    "    \n",
    "\n",
    "essentialism = load_dict(\"custom_dicts/ess_dict.txt\")\n",
    "progressivism = load_dict(\"custom_dicts/prog_dict.txt\")\n",
    "ritual = load_dict(\"custom_dicts/rit_dict.txt\")\n",
    "print(essentialism[-10:])\n",
    "print(progressivism[-10:])\n",
    "print(ritual[-10:])"
   ]
  },
  {
   "cell_type": "code",
   "execution_count": 42,
   "metadata": {
    "scrolled": true
   },
   "outputs": [
    {
     "name": "stdout",
     "output_type": "stream",
     "text": [
      "[('real', 0.9959537386894226), ('lab', 0.9950817823410034), ('lead', 0.9950758814811707), ('counsel', 0.9946521520614624), ('comprehens', 0.9944551587104797), ('partnership', 0.9942767024040222), ('inquiry-bas', 0.9942187070846558), ('both', 0.9942135810852051), ('creation', 0.9935129880905151), ('profession', 0.9930176734924316)]\n",
      "\n",
      "[('creativ', 0.9991886615753174), ('growth', 0.9976208209991455), ('teach', 0.9970867037773132), ('collabor', 0.9961232542991638), ('cours', 0.9954630136489868), ('charact', 0.9952465295791626), ('knowledg', 0.9951270818710327), ('comput', 0.9944890141487122), ('enhanc', 0.9942327737808228), ('combin', 0.9940911531448364)]\n"
     ]
    }
   ],
   "source": [
    "# Let's look at two vectors that demonstrate the binary between these philosophies: align and emot\n",
    "print(model.wv.most_similar('align')) # words core to essentialism\n",
    "print()\n",
    "print(model.wv.most_similar('emot')) # words core to progressivism"
   ]
  },
  {
   "cell_type": "code",
   "execution_count": 43,
   "metadata": {},
   "outputs": [
    {
     "name": "stdout",
     "output_type": "stream",
     "text": [
      "[('creativ', 0.9991886615753174), ('growth', 0.9976208209991455), ('teach', 0.9970867037773132), ('collabor', 0.9961232542991638), ('cours', 0.9954630136489868), ('charact', 0.9952465295791626), ('knowledg', 0.9951270818710327), ('comput', 0.9944890141487122), ('enhanc', 0.9942327737808228), ('combin', 0.9940911531448364)]\n"
     ]
    }
   ],
   "source": [
    "print(model.wv.most_similar('emot')) # words core to progressivism"
   ]
  },
  {
   "cell_type": "code",
   "execution_count": 44,
   "metadata": {},
   "outputs": [
    {
     "name": "stdout",
     "output_type": "stream",
     "text": [
      "['flourish', 'civic', 'strategi', 'after-school', 'environment', 'pursuit', 'inclus', 'intens', 'dotâ\\x80\\x99', 'project-bas', 'peac', 'ownership', 'specialist', 'bodi', 'proven', 'framework', 'reward', 'societi', 'neighborhood', 'experienti']\n"
     ]
    }
   ],
   "source": [
    "# Let's work with the binary between progressivism vs. essentialism\n",
    "# first let's find the 50 words closest to each philosophy using the two 14-term dictionaries defined above\n",
    "filtered_progressivism = list(filter(lambda x: x in model.wv.vocab, progressivism))\n",
    "prog_words = model.wv.most_similar(filtered_progressivism, topn=50)\n",
    "prog_words = [word for word, similarity in prog_words]\n",
    "for word in filtered_progressivism:\n",
    "    prog_words.append(word)\n",
    "print(prog_words[:20])"
   ]
  },
  {
   "cell_type": "code",
   "execution_count": 45,
   "metadata": {
    "scrolled": true
   },
   "outputs": [
    {
     "name": "stdout",
     "output_type": "stream",
     "text": [
      "['came', 'persever', 'whose', 'oneâ\\x80\\x99', 'got', 'tailor', 'fail', 'technic', 'fear', 'dilig', '12.05.2012', 'wear', 'flurri', 'enliven', 'friendli', 'perspect', 'record', 'extra', 'regardless', 'face']\n"
     ]
    }
   ],
   "source": [
    "filtered_essentialism = list(filter(lambda x: x in model.wv.vocab, essentialism)) # now let's get the 50 most similar words for our essentialist dictionary\n",
    "ess_words = model.wv.most_similar(filtered_essentialism, topn=50)\n",
    "ess_words = [word for word, similarity in ess_words]\n",
    "for word in essentialism:\n",
    "    ess_words.append(word)\n",
    "print(ess_words[:20])"
   ]
  },
  {
   "cell_type": "code",
   "execution_count": 46,
   "metadata": {},
   "outputs": [
    {
     "name": "stdout",
     "output_type": "stream",
     "text": [
      "['cultiv', 'incorpor', 'accord', 'intervent', 'gain', 'compass', 'worth', 'immun', 'trend', 'architect', 'deliv', 'sonora', 'principl', 'shiloh', 'around', 'diploma', 'wide', 'fulfil', 'reflect', 'well-round']\n"
     ]
    }
   ],
   "source": [
    "filtered_rit = list(filter(lambda x: x in model.wv.vocab, ritual)) # now let's get the 50 most similar words for our dictionary of ritual words\n",
    "rit_words = model.wv.most_similar(filtered_rit, topn=50)\n",
    "rit_words = [word for word, similarity in rit_words]\n",
    "for word in ritual:\n",
    "    rit_words.append(word)\n",
    "print(rit_words[:20])"
   ]
  },
  {
   "cell_type": "code",
   "execution_count": 47,
   "metadata": {
    "collapsed": true
   },
   "outputs": [],
   "source": [
    "# construct an combined dictionary\n",
    "phil_words = ess_words + prog_words + rit_words\n",
    "phil_words = list(filter(lambda x: x in model.wv.vocab, phil_words))"
   ]
  },
  {
   "cell_type": "code",
   "execution_count": 48,
   "metadata": {
    "collapsed": true
   },
   "outputs": [],
   "source": [
    "# preparing for visualizing this binary with word2vec\n",
    "x = [model.wv.similarity('emot', word) for word in phil_words]\n",
    "y = [model.wv.similarity('align', word) for word in phil_words]"
   ]
  },
  {
   "cell_type": "code",
   "execution_count": 49,
   "metadata": {},
   "outputs": [
    {
     "data": {
      "image/png": "[encoded data removed]",
      "text/plain": [
       "<matplotlib.figure.Figure at 0x11d1bf940>"
      ]
     },
     "metadata": {},
     "output_type": "display_data"
    }
   ],
   "source": [
    "# here's a visual of the progressivism/essentialism binary: \n",
    "# top-left half is essentialism, bottom-right half is progressivism\n",
    "_, ax = plt.subplots(figsize=(20,20))\n",
    "ax.scatter(x, y, alpha=1, color='b')\n",
    "for i in range(len(phil_words)):\n",
    "    ax.annotate(phil_words[i], (x[i], y[i]))\n",
    "ax.set_xlim(.635, 1.005)\n",
    "ax.set_ylim(.635, 1.005)\n",
    "plt.plot([0, 1], [0, 1], linestyle='--');"
   ]
  },
  {
   "cell_type": "markdown",
   "metadata": {},
   "source": [
    "### Applying Custom Dictionary Analysis to home pages"
   ]
  },
  {
   "cell_type": "code",
   "execution_count": 50,
   "metadata": {},
   "outputs": [
    {
     "data": {
      "text/html": [
       "<div>\n",
       "<style>\n",
       "    .dataframe thead tr:only-child th {\n",
       "        text-align: right;\n",
       "    }\n",
       "\n",
       "    .dataframe thead th {\n",
       "        text-align: left;\n",
       "    }\n",
       "\n",
       "    .dataframe tbody tr th {\n",
       "        vertical-align: top;\n",
       "    }\n",
       "</style>\n",
       "<table border=\"1\" class=\"dataframe\">\n",
       "  <thead>\n",
       "    <tr style=\"text-align: right;\">\n",
       "      <th></th>\n",
       "      <th>LEANM</th>\n",
       "      <th>prog_words</th>\n",
       "      <th>ess_words</th>\n",
       "      <th>rit_words</th>\n",
       "      <th>prog_num</th>\n",
       "      <th>ess_num</th>\n",
       "      <th>rit_num</th>\n",
       "      <th>prog_prop</th>\n",
       "      <th>ess_prop</th>\n",
       "      <th>rit_prop</th>\n",
       "    </tr>\n",
       "  </thead>\n",
       "  <tbody>\n",
       "    <tr>\n",
       "      <th>0</th>\n",
       "      <td>RICHLAND 02</td>\n",
       "      <td>[health, village]</td>\n",
       "      <td>[career]</td>\n",
       "      <td>[attend, charter, facility, high, information,...</td>\n",
       "      <td>6</td>\n",
       "      <td>15</td>\n",
       "      <td>47</td>\n",
       "      <td>0.015038</td>\n",
       "      <td>0.037594</td>\n",
       "      <td>0.117794</td>\n",
       "    </tr>\n",
       "    <tr>\n",
       "      <th>1</th>\n",
       "      <td>POLK</td>\n",
       "      <td>[]</td>\n",
       "      <td>[]</td>\n",
       "      <td>[high, provide, school]</td>\n",
       "      <td>0</td>\n",
       "      <td>0</td>\n",
       "      <td>6</td>\n",
       "      <td>0.000000</td>\n",
       "      <td>0.000000</td>\n",
       "      <td>0.072289</td>\n",
       "    </tr>\n",
       "    <tr>\n",
       "      <th>2</th>\n",
       "      <td>RIVER CITY SCHOLARS CHARTER ACADEMY</td>\n",
       "      <td>[feed, social]</td>\n",
       "      <td>[career, office]</td>\n",
       "      <td>[charter, children, environment, exceptional, ...</td>\n",
       "      <td>2</td>\n",
       "      <td>4</td>\n",
       "      <td>34</td>\n",
       "      <td>0.010152</td>\n",
       "      <td>0.020305</td>\n",
       "      <td>0.172589</td>\n",
       "    </tr>\n",
       "    <tr>\n",
       "      <th>3</th>\n",
       "      <td>DETROIT ENTERPRISE ACADEMY</td>\n",
       "      <td>[feed, social]</td>\n",
       "      <td>[career]</td>\n",
       "      <td>[charter, children, environment, exceptional, ...</td>\n",
       "      <td>2</td>\n",
       "      <td>2</td>\n",
       "      <td>35</td>\n",
       "      <td>0.011050</td>\n",
       "      <td>0.011050</td>\n",
       "      <td>0.193370</td>\n",
       "    </tr>\n",
       "    <tr>\n",
       "      <th>4</th>\n",
       "      <td>LIGHTHOUSE COMMUNITY SCH INC</td>\n",
       "      <td>[interest, social]</td>\n",
       "      <td>[]</td>\n",
       "      <td>[behavior, charter, children, community, educa...</td>\n",
       "      <td>3</td>\n",
       "      <td>0</td>\n",
       "      <td>34</td>\n",
       "      <td>0.018519</td>\n",
       "      <td>0.000000</td>\n",
       "      <td>0.209877</td>\n",
       "    </tr>\n",
       "  </tbody>\n",
       "</table>\n",
       "</div>"
      ],
      "text/plain": [
       "                                 LEANM          prog_words         ess_words  \\\n",
       "0                          RICHLAND 02   [health, village]          [career]   \n",
       "1                                 POLK                  []                []   \n",
       "2  RIVER CITY SCHOLARS CHARTER ACADEMY      [feed, social]  [career, office]   \n",
       "3           DETROIT ENTERPRISE ACADEMY      [feed, social]          [career]   \n",
       "4         LIGHTHOUSE COMMUNITY SCH INC  [interest, social]                []   \n",
       "\n",
       "                                           rit_words  prog_num  ess_num  \\\n",
       "0  [attend, charter, facility, high, information,...         6       15   \n",
       "1                            [high, provide, school]         0        0   \n",
       "2  [charter, children, environment, exceptional, ...         2        4   \n",
       "3  [charter, children, environment, exceptional, ...         2        2   \n",
       "4  [behavior, charter, children, community, educa...         3        0   \n",
       "\n",
       "   rit_num  prog_prop  ess_prop  rit_prop  \n",
       "0       47   0.015038  0.037594  0.117794  \n",
       "1        6   0.000000  0.000000  0.072289  \n",
       "2       34   0.010152  0.020305  0.172589  \n",
       "3       35   0.011050  0.011050  0.193370  \n",
       "4       34   0.018519  0.000000  0.209877  "
      ]
     },
     "execution_count": 50,
     "metadata": {},
     "output_type": "execute_result"
    }
   ],
   "source": [
    "# Find the number of words associated with each philosophy, and also list the unique words\n",
    "df['prog_words'] = df['webtokens_clean'].apply(lambda x: np.unique([word for word in x if word in progressivism]))\n",
    "df['prog_num'] = df['webtokens_clean'].apply(lambda x: len([word for word in x if word in progressivism]))\n",
    "\n",
    "df['ess_words'] = df['webtokens_clean'].apply(lambda x: np.unique([word for word in x if word in essentialism]))\n",
    "df['ess_num'] = df['webtokens_clean'].apply(lambda x: len([word for word in x if word in essentialism]))\n",
    "\n",
    "df['rit_words'] = df['webtokens_clean'].apply(lambda x: np.unique([word for word in x if word in ritual]))\n",
    "df['rit_num'] = df['webtokens_clean'].apply(lambda x: len([word for word in x if word in ritual]))\n",
    "\n",
    "df['prog_prop'] = df['prog_num']/df['webclean_count']\n",
    "df['ess_prop'] = df['ess_num']/df['webclean_count']\n",
    "df['rit_prop'] = df['rit_num']/df['webclean_count']\n",
    "\n",
    "df[:5][[\"LEANM\", \"prog_words\", \"ess_words\", \"rit_words\", \"prog_num\", \"ess_num\", \"rit_num\", \"prog_prop\", \"ess_prop\", \"rit_prop\"]]"
   ]
  },
  {
   "cell_type": "code",
   "execution_count": 51,
   "metadata": {},
   "outputs": [
    {
     "name": "stdout",
     "output_type": "stream",
     "text": [
      "Average Progressivism score: 0.009693611304210616\n",
      "Average Essentialism score: 0.013199271012119375\n"
     ]
    }
   ],
   "source": [
    "print(\"Average Progressivism score:\", np.mean(df[\"prog_prop\"]))\n",
    "print(\"Average Essentialism score:\",np.mean(df[\"ess_prop\"]))"
   ]
  },
  {
   "cell_type": "markdown",
   "metadata": {},
   "source": [
    "#### Plotting Progressivism vs Essentialism"
   ]
  },
  {
   "cell_type": "code",
   "execution_count": 52,
   "metadata": {},
   "outputs": [
    {
     "data": {
      "image/png": "[encoded data removed]",
      "text/plain": [
       "<matplotlib.figure.Figure at 0x109b90f98>"
      ]
     },
     "metadata": {},
     "output_type": "display_data"
    }
   ],
   "source": [
    "plt.plot(df[\"prog_prop\"], df[\"ess_prop\"], 'bo')\n",
    "plt.axis([-.001, .07, -0.001, .07])\n",
    "plt.plot([-1, 1], [-1, 1], linestyle='--')\n",
    "plt.xlabel('Progressivism')\n",
    "plt.ylabel('Essentialism')\n",
    "plt.title(\"Progressivism vs Essentialism\")\n",
    "plt.show()"
   ]
  },
  {
   "cell_type": "code",
   "execution_count": 53,
   "metadata": {},
   "outputs": [
    {
     "name": "stdout",
     "output_type": "stream",
     "text": [
      "ARROYO VISTA CHARTER\n"
     ]
    }
   ],
   "source": [
    "for school in df.iterrows():\n",
    "    if school[1]['ess_prop'] > 0.025 and school[1]['ess_prop'] < 0.03 and school[1]['prog_prop'] > 0.025 and school[1]['prog_prop'] < 0.03:\n",
    "        print(school[1][\"SCHNAM\"])\n",
    "    \n",
    "    "
   ]
  },
  {
   "cell_type": "code",
   "execution_count": 54,
   "metadata": {},
   "outputs": [
    {
     "data": {
      "text/html": [
       "<div>\n",
       "<style>\n",
       "    .dataframe thead tr:only-child th {\n",
       "        text-align: right;\n",
       "    }\n",
       "\n",
       "    .dataframe thead th {\n",
       "        text-align: left;\n",
       "    }\n",
       "\n",
       "    .dataframe tbody tr th {\n",
       "        vertical-align: top;\n",
       "    }\n",
       "</style>\n",
       "<table border=\"1\" class=\"dataframe\">\n",
       "  <thead>\n",
       "    <tr style=\"text-align: right;\">\n",
       "      <th></th>\n",
       "      <th>LEANM</th>\n",
       "      <th>prog_words</th>\n",
       "      <th>ess_words</th>\n",
       "    </tr>\n",
       "  </thead>\n",
       "  <tbody>\n",
       "    <tr>\n",
       "      <th>242</th>\n",
       "      <td>CHULA VISTA ELEMENTARY</td>\n",
       "      <td>[play]</td>\n",
       "      <td>[military]</td>\n",
       "    </tr>\n",
       "  </tbody>\n",
       "</table>\n",
       "</div>"
      ],
      "text/plain": [
       "                      LEANM prog_words   ess_words\n",
       "242  CHULA VISTA ELEMENTARY  [play]     [military]"
      ]
     },
     "execution_count": 54,
     "metadata": {},
     "output_type": "execute_result"
    }
   ],
   "source": [
    "pandas.set_option('display.max_colwidth', -1)\n",
    "df[[\"LEANM\", \"prog_words\", \"ess_words\"]][189:190]"
   ]
  },
  {
   "cell_type": "code",
   "execution_count": 55,
   "metadata": {},
   "outputs": [
    {
     "data": {
      "text/plain": [
       "(84, 80)"
      ]
     },
     "execution_count": 55,
     "metadata": {},
     "output_type": "execute_result"
    }
   ],
   "source": [
    "prog_count, ess_count = 0, 0\n",
    "for school in df.iterrows():\n",
    "    if school[1]['prog_prop'] > school[1]['ess_prop']:\n",
    "        prog_count += 1\n",
    "    elif school[1]['prog_prop'] < school[1]['ess_prop']:\n",
    "        ess_count += 1\n",
    "prog_count, ess_count"
   ]
  },
  {
   "cell_type": "markdown",
   "metadata": {},
   "source": [
    "#### the first digit:\n",
    "1 = city, 2 = suburb, 3 = town, 4 = rural\n",
    "\n",
    "#### the second digit:\n",
    "1 = large or fringe, 2 = mid-size or distant, 3 = small/remote"
   ]
  },
  {
   "cell_type": "code",
   "execution_count": 56,
   "metadata": {},
   "outputs": [
    {
     "data": {
      "image/png": "[encoded data removed]",
      "text/plain": [
       "<matplotlib.figure.Figure at 0x109b936a0>"
      ]
     },
     "metadata": {},
     "output_type": "display_data"
    }
   ],
   "source": [
    "grouped_urban = df.groupby('ULOCAL').mean()\n",
    "grouped_urban[[\"prog_prop\", \"ess_prop\"]].plot(kind = 'bar', title='Progressivism vs Essentialism by Locality')\n",
    "plt.xlabel(\"Locality\")\n",
    "plt.show()"
   ]
  },
  {
   "cell_type": "markdown",
   "metadata": {},
   "source": [
    "Grouping the above results by locality and not distinguishing the size:"
   ]
  },
  {
   "cell_type": "code",
   "execution_count": 57,
   "metadata": {},
   "outputs": [
    {
     "data": {
      "image/png": "[encoded data removed]",
      "text/plain": [
       "<matplotlib.figure.Figure at 0x1088d1e48>"
      ]
     },
     "metadata": {},
     "output_type": "display_data"
    }
   ],
   "source": [
    "counts = [0, 0, 0, 0]\n",
    "prog_props = [0, 0, 0, 0]\n",
    "ess_props = [0, 0, 0, 0]\n",
    "for school in df.iterrows():\n",
    "    counts[school[1][\"ULOCAL\"] // 10 - 1] += 1\n",
    "    prog_props[school[1][\"ULOCAL\"] // 10 - 1] += school[1]['prog_prop']\n",
    "    ess_props[school[1][\"ULOCAL\"] // 10 - 1] += school[1]['ess_prop']\n",
    "for i in range(len(counts)):\n",
    "    prog_props[i] = prog_props[i] / counts[i]\n",
    "    ess_props[i] = ess_props[i] / counts[i]\n",
    "\n",
    "x = [0.9, 1.9, 2.9, 3.9]\n",
    "x2 = [1.1, 2.1, 3.1, 4.1]\n",
    "\n",
    "ax = plt.subplot(111)\n",
    "ax.bar(x, prog_props,width=0.2,color='b',align='center')\n",
    "ax.bar(x2, ess_props,width=0.2,color='r',align='center')\n",
    "blue_patch = mpatches.Patch(color='blue', label='Progressivism')\n",
    "red_patch = mpatches.Patch(color='red', label='Essentialism')\n",
    "plt.legend(handles=[blue_patch, red_patch])\n",
    "my_xticks = ['city', 'suburb', 'town', 'rural']\n",
    "plt.xticks(x, my_xticks)\n",
    "plt.title(\"Proportion of Progressivism vs Essentialism by Locality\")\n",
    "plt.show()"
   ]
  },
  {
   "cell_type": "markdown",
   "metadata": {},
   "source": [
    "Just by looking at the above graph, we can see that large to medium sized suburbs heavily favor essentialism.\n",
    "\n",
    "Towns seem to favor progressivism, while in cities and rural areas the ratios are more balanced."
   ]
  },
  {
   "cell_type": "code",
   "execution_count": 58,
   "metadata": {},
   "outputs": [
    {
     "data": {
      "image/png": "[encoded data removed]",
      "text/plain": [
       "<matplotlib.figure.Figure at 0x11f8e3b38>"
      ]
     },
     "metadata": {},
     "output_type": "display_data"
    }
   ],
   "source": [
    "grouped_urban[[\"rit_prop\"]].plot(kind = 'bar', title='Proportion of Ritual Words by Locality')\n",
    "plt.show()"
   ]
  },
  {
   "cell_type": "code",
   "execution_count": 59,
   "metadata": {},
   "outputs": [
    {
     "name": "stdout",
     "output_type": "stream",
     "text": [
      "Pearson correlation coefficient for progressivism is: -0.10824503759\n",
      "p-value: 0.0971277876357\n",
      "\n",
      "Pearson correlation coefficient for essentialism is: 0.0885390445728\n",
      "p-value: 0.175225045234\n",
      "\n",
      "Pearson correlation coefficient for ritualism is: -0.0292184578252\n",
      "p-value: 0.655182261048\n",
      "\n"
     ]
    }
   ],
   "source": [
    "from scipy.stats.stats import pearsonr\n",
    "\n",
    "pearson_prog = pearsonr(df[\"PCTETH\"], df[\"prog_prop\"])\n",
    "peason_ess = pearsonr(df[\"PCTETH\"], df[\"ess_prop\"])\n",
    "peason_rit = pearsonr(df[\"PCTETH\"], df[\"rit_prop\"])\n",
    "\n",
    "print(\"Pearson correlation coefficient for progressivism is:\", pearson_prog[0])\n",
    "print(\"p-value:\", pearson_prog[1])\n",
    "print()\n",
    "print(\"Pearson correlation coefficient for essentialism is:\", peason_ess[0])\n",
    "print(\"p-value:\", peason_ess[1])\n",
    "print()\n",
    "print(\"Pearson correlation coefficient for ritualism is:\", peason_rit[0])\n",
    "print(\"p-value:\", peason_rit[1])\n",
    "print()"
   ]
  },
  {
   "cell_type": "markdown",
   "metadata": {},
   "source": [
    "The above results imply that there is a slight positive linear correlation between essentialism and higher percentages of minority students, and a slight negative linear correlation between progressivism and higher percentages of minority students.\n",
    "\n",
    "Also there appears to be no correlation with usage of ritual words and the percentage of students that are of a minority ethnicity."
   ]
  },
  {
   "cell_type": "markdown",
   "metadata": {},
   "source": [
    "## Incorporating Political Party Preferences"
   ]
  },
  {
   "cell_type": "markdown",
   "metadata": {},
   "source": [
    "Here we'll incorporate political party affiliations.\n",
    "The 2012_presidential_election_results.csv file contains the voting results for the 2012 presidential election, listed by county.  We'll find the proportion of voters in each county that voted according to each party in order to get an estimate of political leanings for each county.  We can then match the county numbers of each charter school to the voting results."
   ]
  },
  {
   "cell_type": "code",
   "execution_count": 60,
   "metadata": {},
   "outputs": [
    {
     "name": "stderr",
     "output_type": "stream",
     "text": [
      "/Users/bradafzali/anaconda/lib/python3.6/site-packages/IPython/core/interactiveshell.py:2717: DtypeWarning: Columns (44,108,109,111,120,121,123,132,133,135,144,145,147,156,157,159,168,169,171,180,181,183,192,193,195) have mixed types. Specify dtype option on import or set low_memory=False.\n",
      "  interactivity=interactivity, compiler=compiler, result=result)\n"
     ]
    }
   ],
   "source": [
    "election_df = pandas.read_csv(\"2012_presidential_election_results.csv\") # read in the election csv\n",
    "\n",
    "# Get the columns for party names and votes for that party\n",
    "party_columns = [\"Party\"] + [\"Party.\" + str(i) for i in range(1, 16)]\n",
    "votes_columns = [\"Votes\"] + [\"Votes.\" + str(i) for i in range(1, 16)]\n",
    "\n",
    "all_parties = set()\n",
    "\n",
    "# Iterate through all counties\n",
    "all_party_vote_totals = dict()\n",
    "for index, row in election_df.iterrows():\n",
    "    party_vote_totals = dict()\n",
    "    total_votes = row[\"TOTAL VOTES CAST\"] # number of votes cast in the county\n",
    "    for i in range(len(party_columns)):\n",
    "        # Get the first party name.  The order of the parties is based on vote count \n",
    "        # and changes county to county\n",
    "        if not pandas.isnull(row[party_columns[i]]):\n",
    "            party, vote_count = row[party_columns[i]], row[votes_columns[i]] # get party name and votes received\n",
    "            all_parties.add(party)\n",
    "            # Combine vote totals for the party in the county.\n",
    "            if party in party_vote_totals:\n",
    "                # This is when there are multiple candidates running from the same party (typically independents)\n",
    "                party_vote_totals[party] += vote_count\n",
    "            else:\n",
    "                party_vote_totals[party] = vote_count\n",
    "    # Normalize vote counts to get proportions of votes rather than vote counts\n",
    "    for party in party_vote_totals:\n",
    "        if total_votes > 0:\n",
    "            party_vote_totals[party] = round(party_vote_totals[party] / total_votes, 5)\n",
    "    all_party_vote_totals[row[\"FIPS Code\"]] = party_vote_totals"
   ]
  },
  {
   "cell_type": "code",
   "execution_count": 61,
   "metadata": {},
   "outputs": [
    {
     "data": {
      "text/plain": [
       "{'AIP',\n",
       " 'ATP',\n",
       " 'AmC',\n",
       " 'AmP',\n",
       " 'CST',\n",
       " 'Cnl',\n",
       " 'DCG',\n",
       " 'Dem',\n",
       " 'GOP',\n",
       " 'GRP',\n",
       " 'Grn',\n",
       " 'IAP',\n",
       " 'IP',\n",
       " 'Ind',\n",
       " 'JP',\n",
       " 'Lib',\n",
       " 'Mnt',\n",
       " 'NLP',\n",
       " 'NMI',\n",
       " 'NPA',\n",
       " 'NPD',\n",
       " 'Obj',\n",
       " 'PAG',\n",
       " 'PEC',\n",
       " 'PFP',\n",
       " 'PSL',\n",
       " 'Prg',\n",
       " 'Pro',\n",
       " 'RP',\n",
       " 'SEP',\n",
       " 'SPU',\n",
       " 'SWP',\n",
       " 'Soc',\n",
       " 'UST',\n",
       " 'Una',\n",
       " 'WTP'}"
      ]
     },
     "execution_count": 61,
     "metadata": {},
     "output_type": "execute_result"
    }
   ],
   "source": [
    "all_parties # list of all parties found in the election results, for reference"
   ]
  },
  {
   "cell_type": "markdown",
   "metadata": {},
   "source": [
    "Match each charter school's listed county number with its voting results and store it in a \"Vote Totals\" column"
   ]
  },
  {
   "cell_type": "code",
   "execution_count": 62,
   "metadata": {},
   "outputs": [
    {
     "data": {
      "text/html": [
       "<div>\n",
       "<style>\n",
       "    .dataframe thead tr:only-child th {\n",
       "        text-align: right;\n",
       "    }\n",
       "\n",
       "    .dataframe thead th {\n",
       "        text-align: left;\n",
       "    }\n",
       "\n",
       "    .dataframe tbody tr th {\n",
       "        vertical-align: top;\n",
       "    }\n",
       "</style>\n",
       "<table border=\"1\" class=\"dataframe\">\n",
       "  <thead>\n",
       "    <tr style=\"text-align: right;\">\n",
       "      <th></th>\n",
       "      <th>SCHNAM</th>\n",
       "      <th>Vote Totals</th>\n",
       "    </tr>\n",
       "  </thead>\n",
       "  <tbody>\n",
       "    <tr>\n",
       "      <th>0</th>\n",
       "      <td>RICHLAND TWO CHARTER HIGH</td>\n",
       "      <td>{'GOP': 0.32671, 'Lib': 0.00649, 'Dem': 0.65972, 'CST': 0.00335, 'Grn': 0.00373}</td>\n",
       "    </tr>\n",
       "    <tr>\n",
       "      <th>1</th>\n",
       "      <td>POLK STATE COLLEGE COLLEGIATE HIGH SCHOOL</td>\n",
       "      <td>{'GOP': 0.5291, 'Dem': 0.46091, 'Obj': 0.0006, 'Lib': 0.00581, 'CST': 0.00031, 'Grn': 0.00101, 'RP': 0.00012, 'Soc': 7e-05, 'PSL': 6e-05, 'PFP': 0.00159, 'AIP': 0.00016, 'JP': 0.00026}</td>\n",
       "    </tr>\n",
       "    <tr>\n",
       "      <th>2</th>\n",
       "      <td>RIVER CITY SCHOLARS CHARTER ACADEMY</td>\n",
       "      <td>{'Dem': 0.45549, 'GOP': 0.53416, 'UST': 0.00573, 'Grn': 0.00349, 'NLP': 0.00113}</td>\n",
       "    </tr>\n",
       "    <tr>\n",
       "      <th>3</th>\n",
       "      <td>DETROIT ENTERPRISE ACADEMY</td>\n",
       "      <td>{'Dem': 0.73117, 'GOP': 0.26236, 'UST': 0.00225, 'Grn': 0.00338, 'NLP': 0.00085}</td>\n",
       "    </tr>\n",
       "    <tr>\n",
       "      <th>4</th>\n",
       "      <td>LIGHTHOUSE COMMUNITY SCH INC</td>\n",
       "      <td>{'Dem': 0.51794, 'GOP': 0.46862, 'Soc': 0.00029, 'Una': 0.00099, 'CST': 0.00082, 'Lib': 0.00893, 'Grn': 0.00242}</td>\n",
       "    </tr>\n",
       "    <tr>\n",
       "      <th>5</th>\n",
       "      <td>WESTLAKE CHARTER MIDDLE</td>\n",
       "      <td>{'Dem': 0.56962, 'GOP': 0.40632, 'PFP': 0.00452, 'AIP': 0.00287, 'Lib': 0.01144, 'Grn': 0.00524}</td>\n",
       "    </tr>\n",
       "    <tr>\n",
       "      <th>6</th>\n",
       "      <td>VAN GOGH CHARTER</td>\n",
       "      <td>{'Dem': 0.68874, 'GOP': 0.28815, 'PFP': 0.00437, 'AIP': 0.00312, 'Lib': 0.00956, 'Grn': 0.00606}</td>\n",
       "    </tr>\n",
       "    <tr>\n",
       "      <th>7</th>\n",
       "      <td>SUMMIT ACADEMY TRANSITION HIGH SCHOOL DAYTON</td>\n",
       "      <td>{'Dem': 0.50728, 'GOP': 0.47662, 'Soc': 0.00063, 'Una': 0.00166, 'CST': 0.00138, 'Lib': 0.00951, 'Grn': 0.00292}</td>\n",
       "    </tr>\n",
       "    <tr>\n",
       "      <th>8</th>\n",
       "      <td>WESTCHESTER ACADEMY FOR INTERNATIONAL STUDIES</td>\n",
       "      <td>{'Dem': 0.49385, 'GOP': 0.49336, 'Lib': 0.00933, 'Grn': 0.00346}</td>\n",
       "    </tr>\n",
       "    <tr>\n",
       "      <th>9</th>\n",
       "      <td>CITY ACADEMY</td>\n",
       "      <td>{'Dem': 0.66576, 'GOP': 0.31247, 'JP': 0.00085, 'GRP': 0.00081, 'CST': 0.00088, 'SWP': 0.00043, 'Lib': 0.01246, 'PSL': 0.00019, 'Cnl': 0.00036, 'Grn': 0.0058}</td>\n",
       "    </tr>\n",
       "  </tbody>\n",
       "</table>\n",
       "</div>"
      ],
      "text/plain": [
       "                                          SCHNAM  \\\n",
       "0  RICHLAND TWO CHARTER HIGH                       \n",
       "1  POLK STATE COLLEGE COLLEGIATE HIGH SCHOOL       \n",
       "2  RIVER CITY SCHOLARS CHARTER ACADEMY             \n",
       "3  DETROIT ENTERPRISE ACADEMY                      \n",
       "4  LIGHTHOUSE COMMUNITY SCH INC                    \n",
       "5  WESTLAKE CHARTER MIDDLE                         \n",
       "6  VAN GOGH CHARTER                                \n",
       "7  SUMMIT ACADEMY TRANSITION HIGH SCHOOL DAYTON    \n",
       "8  WESTCHESTER ACADEMY FOR INTERNATIONAL STUDIES   \n",
       "9  CITY ACADEMY                                    \n",
       "\n",
       "                                                                                                                                                                                Vote Totals  \n",
       "0  {'GOP': 0.32671, 'Lib': 0.00649, 'Dem': 0.65972, 'CST': 0.00335, 'Grn': 0.00373}                                                                                                          \n",
       "1  {'GOP': 0.5291, 'Dem': 0.46091, 'Obj': 0.0006, 'Lib': 0.00581, 'CST': 0.00031, 'Grn': 0.00101, 'RP': 0.00012, 'Soc': 7e-05, 'PSL': 6e-05, 'PFP': 0.00159, 'AIP': 0.00016, 'JP': 0.00026}  \n",
       "2  {'Dem': 0.45549, 'GOP': 0.53416, 'UST': 0.00573, 'Grn': 0.00349, 'NLP': 0.00113}                                                                                                          \n",
       "3  {'Dem': 0.73117, 'GOP': 0.26236, 'UST': 0.00225, 'Grn': 0.00338, 'NLP': 0.00085}                                                                                                          \n",
       "4  {'Dem': 0.51794, 'GOP': 0.46862, 'Soc': 0.00029, 'Una': 0.00099, 'CST': 0.00082, 'Lib': 0.00893, 'Grn': 0.00242}                                                                          \n",
       "5  {'Dem': 0.56962, 'GOP': 0.40632, 'PFP': 0.00452, 'AIP': 0.00287, 'Lib': 0.01144, 'Grn': 0.00524}                                                                                          \n",
       "6  {'Dem': 0.68874, 'GOP': 0.28815, 'PFP': 0.00437, 'AIP': 0.00312, 'Lib': 0.00956, 'Grn': 0.00606}                                                                                          \n",
       "7  {'Dem': 0.50728, 'GOP': 0.47662, 'Soc': 0.00063, 'Una': 0.00166, 'CST': 0.00138, 'Lib': 0.00951, 'Grn': 0.00292}                                                                          \n",
       "8  {'Dem': 0.49385, 'GOP': 0.49336, 'Lib': 0.00933, 'Grn': 0.00346}                                                                                                                          \n",
       "9  {'Dem': 0.66576, 'GOP': 0.31247, 'JP': 0.00085, 'GRP': 0.00081, 'CST': 0.00088, 'SWP': 0.00043, 'Lib': 0.01246, 'PSL': 0.00019, 'Cnl': 0.00036, 'Grn': 0.0058}                            "
      ]
     },
     "execution_count": 62,
     "metadata": {},
     "output_type": "execute_result"
    }
   ],
   "source": [
    "df_vote_totals = []\n",
    "for index, row in df.iterrows():\n",
    "    if row[\"CONUM\"] not in all_party_vote_totals:\n",
    "        print(\"County \" + str(row[\"CONUM\"]) + \" not found in election results\")\n",
    "    else:\n",
    "        df_vote_totals.append(all_party_vote_totals[row[\"CONUM\"]])\n",
    "df[\"Vote Totals\"] = df_vote_totals\n",
    "df[[\"SCHNAM\", \"Vote Totals\"]][:10]"
   ]
  },
  {
   "cell_type": "markdown",
   "metadata": {},
   "source": [
    "## Using PVI Scores\n",
    "Here we'll use Partisan Voting Index scores instead of voting records to assess political preference\n",
    "PVI scores are based on congressional district, but the data we have does not say which congressional district a school belongs to.  So, we will use zip codes to map schools to their congressional districts."
   ]
  },
  {
   "cell_type": "code",
   "execution_count": 63,
   "metadata": {
    "collapsed": true
   },
   "outputs": [],
   "source": [
    "def strip_leading_zero(s):\n",
    "    if s[0] == \"0\" and len(s) > 1:\n",
    "        return s[1:]\n",
    "    return s\n",
    "\n",
    "# Get mapping from zip code to congressional district\n",
    "zip_dict = dict()\n",
    "with open(\"natl_zccd_delim.txt\") as f:\n",
    "    line = f.readline().replace(\"\\n\", \"\")\n",
    "    while line:\n",
    "        line = line.split(\",\")\n",
    "        line = [strip_leading_zero(el) for el in line]\n",
    "        zip_dict[line[1]] = line[0] + \",\" + line[2]\n",
    "        line = f.readline().replace(\"\\n\", \"\")\n",
    "\n",
    "# Get mapping from congressional district to PVI score\n",
    "# Note that negative scores indicate more Democratic and positive scores indicate more Republican\n",
    "pvi_dict = dict()\n",
    "with open(\"pvi_by_county.txt\") as f:\n",
    "    line = f.readline().replace(\"\\n\", \"\")\n",
    "    while line:\n",
    "        line = line.split()\n",
    "        line = [strip_leading_zero(el) for el in line]\n",
    "        pvi_dict[line[0] + \",\" + line[1]] = line[2]\n",
    "        line = f.readline().replace(\"\\n\", \"\")"
   ]
  },
  {
   "cell_type": "code",
   "execution_count": 64,
   "metadata": {},
   "outputs": [
    {
     "data": {
      "text/plain": [
       "'-37'"
      ]
     },
     "execution_count": 64,
     "metadata": {},
     "output_type": "execute_result"
    }
   ],
   "source": [
    "# Get Berkeley's PVI score\n",
    "pvi_dict[zip_dict['94709']]"
   ]
  },
  {
   "cell_type": "code",
   "execution_count": 65,
   "metadata": {},
   "outputs": [
    {
     "name": "stdout",
     "output_type": "stream",
     "text": [
      "7 zip codes not found\n"
     ]
    },
    {
     "data": {
      "text/html": [
       "<div>\n",
       "<style>\n",
       "    .dataframe thead tr:only-child th {\n",
       "        text-align: right;\n",
       "    }\n",
       "\n",
       "    .dataframe thead th {\n",
       "        text-align: left;\n",
       "    }\n",
       "\n",
       "    .dataframe tbody tr th {\n",
       "        vertical-align: top;\n",
       "    }\n",
       "</style>\n",
       "<table border=\"1\" class=\"dataframe\">\n",
       "  <thead>\n",
       "    <tr style=\"text-align: right;\">\n",
       "      <th></th>\n",
       "      <th>SCHNAM</th>\n",
       "      <th>PVI</th>\n",
       "    </tr>\n",
       "  </thead>\n",
       "  <tbody>\n",
       "    <tr>\n",
       "      <th>0</th>\n",
       "      <td>RICHLAND TWO CHARTER HIGH</td>\n",
       "      <td>-21</td>\n",
       "    </tr>\n",
       "    <tr>\n",
       "      <th>1</th>\n",
       "      <td>POLK STATE COLLEGE COLLEGIATE HIGH SCHOOL</td>\n",
       "      <td>-8</td>\n",
       "    </tr>\n",
       "    <tr>\n",
       "      <th>2</th>\n",
       "      <td>RIVER CITY SCHOLARS CHARTER ACADEMY</td>\n",
       "      <td>4</td>\n",
       "    </tr>\n",
       "    <tr>\n",
       "      <th>3</th>\n",
       "      <td>DETROIT ENTERPRISE ACADEMY</td>\n",
       "      <td>-29</td>\n",
       "    </tr>\n",
       "    <tr>\n",
       "      <th>4</th>\n",
       "      <td>LIGHTHOUSE COMMUNITY SCH INC</td>\n",
       "      <td>8</td>\n",
       "    </tr>\n",
       "    <tr>\n",
       "      <th>5</th>\n",
       "      <td>WESTLAKE CHARTER MIDDLE</td>\n",
       "      <td>-18</td>\n",
       "    </tr>\n",
       "    <tr>\n",
       "      <th>6</th>\n",
       "      <td>VAN GOGH CHARTER</td>\n",
       "      <td>-14</td>\n",
       "    </tr>\n",
       "    <tr>\n",
       "      <th>7</th>\n",
       "      <td>SUMMIT ACADEMY TRANSITION HIGH SCHOOL DAYTON</td>\n",
       "      <td>3</td>\n",
       "    </tr>\n",
       "    <tr>\n",
       "      <th>8</th>\n",
       "      <td>WESTCHESTER ACADEMY FOR INTERNATIONAL STUDIES</td>\n",
       "      <td>13</td>\n",
       "    </tr>\n",
       "    <tr>\n",
       "      <th>9</th>\n",
       "      <td>CITY ACADEMY</td>\n",
       "      <td>-11</td>\n",
       "    </tr>\n",
       "  </tbody>\n",
       "</table>\n",
       "</div>"
      ],
      "text/plain": [
       "                                          SCHNAM  PVI\n",
       "0  RICHLAND TWO CHARTER HIGH                     -21 \n",
       "1  POLK STATE COLLEGE COLLEGIATE HIGH SCHOOL     -8  \n",
       "2  RIVER CITY SCHOLARS CHARTER ACADEMY            4  \n",
       "3  DETROIT ENTERPRISE ACADEMY                    -29 \n",
       "4  LIGHTHOUSE COMMUNITY SCH INC                   8  \n",
       "5  WESTLAKE CHARTER MIDDLE                       -18 \n",
       "6  VAN GOGH CHARTER                              -14 \n",
       "7  SUMMIT ACADEMY TRANSITION HIGH SCHOOL DAYTON   3  \n",
       "8  WESTCHESTER ACADEMY FOR INTERNATIONAL STUDIES  13 \n",
       "9  CITY ACADEMY                                  -11 "
      ]
     },
     "execution_count": 65,
     "metadata": {},
     "output_type": "execute_result"
    }
   ],
   "source": [
    "# Map schools to their PVI scores and store in a \"PVI\" column\n",
    "pvis, not_found, = [], 0\n",
    "for index, row in df.iterrows():\n",
    "    if str(row[\"LZIP\"]) not in zip_dict:\n",
    "        pvis.append(0) # For now defaulting to 0 when zip code not found\n",
    "        not_found += 1\n",
    "    else:\n",
    "        pvi_value = pvi_dict[zip_dict[str(row[\"LZIP\"])]]\n",
    "        pvis.append(int(pvi_value))\n",
    "print(str(not_found) + \" zip codes not found\")\n",
    "df[\"PVI\"] = pvis\n",
    "df[[\"SCHNAM\", \"PVI\"]][:10]"
   ]
  },
  {
   "cell_type": "code",
   "execution_count": 66,
   "metadata": {},
   "outputs": [
    {
     "name": "stdout",
     "output_type": "stream",
     "text": [
      "(-0.37745685244800337, 2.0869066792965026e-09)\n",
      "(-0.024488783098176158, 0.70820904038783816)\n",
      "(0.046894004630728806, 0.4733932788622468)\n"
     ]
    }
   ],
   "source": [
    "print(pearsonr(df[\"PCTETH\"], df[\"PVI\"]))\n",
    "print(pearsonr(df[\"ess_prop\"], df[\"PVI\"]))\n",
    "print(pearsonr(df[\"prog_prop\"], df[\"PVI\"]))"
   ]
  },
  {
   "cell_type": "code",
   "execution_count": 94,
   "metadata": {},
   "outputs": [
    {
     "data": {
      "text/plain": [
       "19.198432203389835"
      ]
     },
     "execution_count": 94,
     "metadata": {},
     "output_type": "execute_result"
    }
   ],
   "source": [
    "df[\"FTE\"].mean()"
   ]
  },
  {
   "cell_type": "markdown",
   "metadata": {},
   "source": [
    "A quick look through Pearson correlation coefficients shows that Republicanism is negatively correlated with higher percentages of minority students.\n",
    "But correlations between essentialism and progressivism with PVI scores yield no conclusion"
   ]
  },
  {
   "cell_type": "code",
   "execution_count": 89,
   "metadata": {},
   "outputs": [
    {
     "ename": "TypeError",
     "evalue": "'float' object is not iterable",
     "output_type": "error",
     "traceback": [
      "\u001b[0;31m---------------------------------------------------------------------------\u001b[0m",
      "\u001b[0;31mTypeError\u001b[0m                                 Traceback (most recent call last)",
      "\u001b[0;32m<ipython-input-89-8b512555d07b>\u001b[0m in \u001b[0;36m<module>\u001b[0;34m()\u001b[0m\n\u001b[1;32m     27\u001b[0m \u001b[0;31m# b = df['webtokens_clean_two'].apply(lambda x: np.unique([word for word in x if word in progressivism]))\u001b[0m\u001b[0;34m\u001b[0m\u001b[0;34m\u001b[0m\u001b[0m\n\u001b[1;32m     28\u001b[0m \u001b[0;31m# c = df['webtokens_clean_three'].apply(lambda x: np.unique([word for word in x if word in progressivism]))\u001b[0m\u001b[0;34m\u001b[0m\u001b[0;34m\u001b[0m\u001b[0m\n\u001b[0;32m---> 29\u001b[0;31m \u001b[0mdf\u001b[0m\u001b[0;34m[\u001b[0m\u001b[0;34m'webtokens_clean_two'\u001b[0m\u001b[0;34m]\u001b[0m\u001b[0;34m.\u001b[0m\u001b[0mapply\u001b[0m\u001b[0;34m(\u001b[0m\u001b[0;32mlambda\u001b[0m \u001b[0mx\u001b[0m\u001b[0;34m:\u001b[0m \u001b[0mlen\u001b[0m\u001b[0;34m(\u001b[0m\u001b[0;34m[\u001b[0m\u001b[0mword\u001b[0m \u001b[0;32mfor\u001b[0m \u001b[0mword\u001b[0m \u001b[0;32min\u001b[0m \u001b[0mx\u001b[0m \u001b[0;32mif\u001b[0m \u001b[0mword\u001b[0m \u001b[0;32min\u001b[0m \u001b[0mprogressivism\u001b[0m\u001b[0;34m]\u001b[0m\u001b[0;34m)\u001b[0m\u001b[0;34m)\u001b[0m\u001b[0;34m\u001b[0m\u001b[0m\n\u001b[0m\u001b[1;32m     30\u001b[0m \u001b[0;34m\u001b[0m\u001b[0m\n\u001b[1;32m     31\u001b[0m \u001b[0;34m\u001b[0m\u001b[0m\n",
      "\u001b[0;32m/Users/bradafzali/anaconda/lib/python3.6/site-packages/pandas/core/series.py\u001b[0m in \u001b[0;36mapply\u001b[0;34m(self, func, convert_dtype, args, **kwds)\u001b[0m\n\u001b[1;32m   2353\u001b[0m             \u001b[0;32melse\u001b[0m\u001b[0;34m:\u001b[0m\u001b[0;34m\u001b[0m\u001b[0m\n\u001b[1;32m   2354\u001b[0m                 \u001b[0mvalues\u001b[0m \u001b[0;34m=\u001b[0m \u001b[0mself\u001b[0m\u001b[0;34m.\u001b[0m\u001b[0masobject\u001b[0m\u001b[0;34m\u001b[0m\u001b[0m\n\u001b[0;32m-> 2355\u001b[0;31m                 \u001b[0mmapped\u001b[0m \u001b[0;34m=\u001b[0m \u001b[0mlib\u001b[0m\u001b[0;34m.\u001b[0m\u001b[0mmap_infer\u001b[0m\u001b[0;34m(\u001b[0m\u001b[0mvalues\u001b[0m\u001b[0;34m,\u001b[0m \u001b[0mf\u001b[0m\u001b[0;34m,\u001b[0m \u001b[0mconvert\u001b[0m\u001b[0;34m=\u001b[0m\u001b[0mconvert_dtype\u001b[0m\u001b[0;34m)\u001b[0m\u001b[0;34m\u001b[0m\u001b[0m\n\u001b[0m\u001b[1;32m   2356\u001b[0m \u001b[0;34m\u001b[0m\u001b[0m\n\u001b[1;32m   2357\u001b[0m         \u001b[0;32mif\u001b[0m \u001b[0mlen\u001b[0m\u001b[0;34m(\u001b[0m\u001b[0mmapped\u001b[0m\u001b[0;34m)\u001b[0m \u001b[0;32mand\u001b[0m \u001b[0misinstance\u001b[0m\u001b[0;34m(\u001b[0m\u001b[0mmapped\u001b[0m\u001b[0;34m[\u001b[0m\u001b[0;36m0\u001b[0m\u001b[0;34m]\u001b[0m\u001b[0;34m,\u001b[0m \u001b[0mSeries\u001b[0m\u001b[0;34m)\u001b[0m\u001b[0;34m:\u001b[0m\u001b[0;34m\u001b[0m\u001b[0m\n",
      "\u001b[0;32mpandas/_libs/src/inference.pyx\u001b[0m in \u001b[0;36mpandas._libs.lib.map_infer (pandas/_libs/lib.c:66440)\u001b[0;34m()\u001b[0m\n",
      "\u001b[0;32m<ipython-input-89-8b512555d07b>\u001b[0m in \u001b[0;36m<lambda>\u001b[0;34m(x)\u001b[0m\n\u001b[1;32m     27\u001b[0m \u001b[0;31m# b = df['webtokens_clean_two'].apply(lambda x: np.unique([word for word in x if word in progressivism]))\u001b[0m\u001b[0;34m\u001b[0m\u001b[0;34m\u001b[0m\u001b[0m\n\u001b[1;32m     28\u001b[0m \u001b[0;31m# c = df['webtokens_clean_three'].apply(lambda x: np.unique([word for word in x if word in progressivism]))\u001b[0m\u001b[0;34m\u001b[0m\u001b[0;34m\u001b[0m\u001b[0m\n\u001b[0;32m---> 29\u001b[0;31m \u001b[0mdf\u001b[0m\u001b[0;34m[\u001b[0m\u001b[0;34m'webtokens_clean_two'\u001b[0m\u001b[0;34m]\u001b[0m\u001b[0;34m.\u001b[0m\u001b[0mapply\u001b[0m\u001b[0;34m(\u001b[0m\u001b[0;32mlambda\u001b[0m \u001b[0mx\u001b[0m\u001b[0;34m:\u001b[0m \u001b[0mlen\u001b[0m\u001b[0;34m(\u001b[0m\u001b[0;34m[\u001b[0m\u001b[0mword\u001b[0m \u001b[0;32mfor\u001b[0m \u001b[0mword\u001b[0m \u001b[0;32min\u001b[0m \u001b[0mx\u001b[0m \u001b[0;32mif\u001b[0m \u001b[0mword\u001b[0m \u001b[0;32min\u001b[0m \u001b[0mprogressivism\u001b[0m\u001b[0;34m]\u001b[0m\u001b[0;34m)\u001b[0m\u001b[0;34m)\u001b[0m\u001b[0;34m\u001b[0m\u001b[0m\n\u001b[0m\u001b[1;32m     30\u001b[0m \u001b[0;34m\u001b[0m\u001b[0m\n\u001b[1;32m     31\u001b[0m \u001b[0;34m\u001b[0m\u001b[0m\n",
      "\u001b[0;31mTypeError\u001b[0m: 'float' object is not iterable"
     ]
    }
   ],
   "source": [
    "# Find the number of words associated with each philosophy, and also list the unique words\n",
    "\n",
    "df['prog_words'] = df['webtokens_clean'].apply(lambda x: np.unique([word for word in x if word in progressivism]))\n",
    "df['prog_num'] = df['webtokens_clean'].apply(lambda x: len([word for word in x if word in progressivism]))\n",
    "\n",
    "df['ess_words'] = df['webtokens_clean'].apply(lambda x: np.unique([word for word in x if word in essentialism]))\n",
    "df['ess_num'] = df['webtokens_clean'].apply(lambda x: len([word for word in x if word in essentialism]))\n",
    "\n",
    "df['rit_words'] = df['webtokens_clean'].apply(lambda x: np.unique([word for word in x if word in ritual]))\n",
    "df['rit_num'] = df['webtokens_clean'].apply(lambda x: len([word for word in x if word in ritual]))\n",
    "\n",
    "df['prog_prop'] = df['prog_num']/df['webclean_count']\n",
    "df['ess_prop'] = df['ess_num']/df['webclean_count']\n",
    "df['rit_prop'] = df['rit_num']/df['webclean_count']\n",
    "\n",
    "\n",
    "two, three = [], []\n",
    "for index, row in df.iterrows():\n",
    "    two.append([df['webtokens_clean'][index][i] + \" \" + df['webtokens_clean'][index][i+1] for i in range(len(df['webtokens_clean'][index])-1)])\n",
    "    three.append([df['webtokens_clean'][index][i] + \" \" + df['webtokens_clean'][index][i+1] + \" \" + df['webtokens_clean'][index][i+2] for i in range(len(df['webtokens_clean'][index])-2)])\n",
    "to_append_two = pandas.Series(two)\n",
    "to_append_three = pandas.Series(three)\n",
    "df[\"webtokens_clean_two\"] = to_append_two\n",
    "df[\"webtokens_clean_three\"] = to_append_three\n",
    "\n",
    "# a = df['webtokens_clean'].apply(lambda x: np.unique([word for word in x if word in progressivism]))\n",
    "# b = df['webtokens_clean_two'].apply(lambda x: np.unique([word for word in x if word in progressivism]))\n",
    "# c = df['webtokens_clean_three'].apply(lambda x: np.unique([word for word in x if word in progressivism]))\n",
    "df['webtokens_clean_two'].apply(lambda x: len([word for word in x if word in progressivism]))\n",
    "\n",
    "\n",
    "\n"
   ]
  },
  {
   "cell_type": "markdown",
   "metadata": {},
   "source": [
    "### Binary of essentialist (top-left) and progressivist (bottom-right) word vectors"
   ]
  },
  {
   "cell_type": "markdown",
   "metadata": {},
   "source": [
    "## Topic Modeling with scikit-learn\n",
    "> For documentation on this topic modeling (TM) package, which uses Latent Dirichlet Allocation (LDA), see [here](http://scikit-learn.org/stable/modules/generated/sklearn.decomposition.LatentDirichletAllocation.html).\n",
    "\n",
    "> And for documentation on the vectorizer package, CountVectorizer from scikit-learn, see [here](http://scikit-learn.org/stable/modules/generated/sklearn.feature_extraction.text.CountVectorizer.html)."
   ]
  },
  {
   "cell_type": "code",
   "execution_count": null,
   "metadata": {
    "collapsed": true
   },
   "outputs": [],
   "source": [
    "####Adopted From: \n",
    "#Author: Olivier Grisel <olivier.grisel@ensta.org>\n",
    "#         Lars Buitinck\n",
    "#         Chyi-Kwei Yau <chyikwei.yau@gmail.com>\n",
    "# License: BSD 3 clause\n",
    "\n",
    "# Initialize the variables needed for the topic models\n",
    "n_samples = 2000\n",
    "n_topics = 2\n",
    "n_top_words = 50\n",
    "\n",
    "# Create helper function that prints out the top words for each topic in a pretty way\n",
    "def print_top_words(model, feature_names, n_top_words):\n",
    "    for topic_idx, topic in enumerate(model.components_):\n",
    "        print(\"\\nTopic #%d:\" % topic_idx)\n",
    "        print(\" \".join([feature_names[i]\n",
    "                        for i in topic.argsort()[:-n_top_words - 1:-1]]))\n",
    "    print()"
   ]
  },
  {
   "cell_type": "code",
   "execution_count": null,
   "metadata": {
    "collapsed": true
   },
   "outputs": [],
   "source": [
    "from bs4 import BeautifulSoup\n",
    "from bs4.element import Comment\n",
    "import urllib.request\n",
    "\n",
    "\n",
    "def tag_visible(element):\n",
    "    if element.parent.name in ['style', 'script', 'head', 'title', 'meta', '[document]']:\n",
    "        return False\n",
    "    if isinstance(element, Comment):\n",
    "        return False\n",
    "    return True\n",
    "\n",
    "\n",
    "def text_from_html(body):\n",
    "    soup = BeautifulSoup(body, 'html.parser')\n",
    "    texts = soup.findAll(text=True)\n",
    "    visible_texts = filter(tag_visible, texts)  \n",
    "    return u\" \".join(t.strip() for t in visible_texts)\n",
    "\n",
    "html = urllib.request.urlopen('https://www.nhaschools.com/en/About-Us/Pages/Our-Approach.aspx').read()\n",
    "visible_text = [x for x in text_from_html(html).split(\"  \") if x != \"\"]\n",
    "print(len(visible_text))"
   ]
  },
  {
   "cell_type": "code",
   "execution_count": null,
   "metadata": {
    "collapsed": true
   },
   "outputs": [],
   "source": []
  },
  {
   "cell_type": "code",
   "execution_count": null,
   "metadata": {
    "collapsed": true
   },
   "outputs": [],
   "source": [
    "to_append = pandas.DataFrame(np.empty((len(visible_text),len(df.keys()))) * np.nan)\n",
    "to_append.columns = df.keys()\n",
    "for i in range(len(visible_text)):\n",
    "    to_append[\"WEBTEXT\"][i] = visible_text[i]\n",
    "# to_append[[\"LEANM\", \"WEBTEXT\"]]"
   ]
  },
  {
   "cell_type": "code",
   "execution_count": null,
   "metadata": {
    "collapsed": true
   },
   "outputs": [],
   "source": [
    "df_appended = df.append(to_append)\n",
    "df_appended.shape"
   ]
  },
  {
   "cell_type": "code",
   "execution_count": null,
   "metadata": {
    "collapsed": true
   },
   "outputs": [],
   "source": [
    "# Vectorize our text using CountVectorizer\n",
    "print(\"Extracting tf features for LDA...\")\n",
    "tf_vectorizer = CountVectorizer(max_df=70, min_df=4,\n",
    "                                max_features=None,\n",
    "                                stop_words=stopenglish, lowercase=1\n",
    "                                )\n",
    "\n",
    "tf = tf_vectorizer.fit_transform(df_appended.WEBTEXT)"
   ]
  },
  {
   "cell_type": "code",
   "execution_count": null,
   "metadata": {
    "collapsed": true
   },
   "outputs": [],
   "source": [
    "print(\"Fitting LDA models with tf features, \"\n",
    "      \"n_samples=%d and n_topics=%d...\"\n",
    "      % (n_samples, n_topics))\n",
    "\n",
    "# define the lda function, with desired options\n",
    "lda = LatentDirichletAllocation(n_topics=n_topics, max_iter=20,\n",
    "                                learning_method='online',\n",
    "                                learning_offset=80.,\n",
    "                                total_samples=n_samples,\n",
    "                                random_state=0)\n",
    "#fit the model\n",
    "lda.fit(tf)"
   ]
  },
  {
   "cell_type": "code",
   "execution_count": null,
   "metadata": {
    "collapsed": true
   },
   "outputs": [],
   "source": [
    "# print the top words per topic, using the function defined above.\n",
    "\n",
    "print(\"\\nTopics in LDA model:\")\n",
    "tf_feature_names = tf_vectorizer.get_feature_names()\n",
    "print_top_words(lda, tf_feature_names, n_top_words)"
   ]
  },
  {
   "cell_type": "markdown",
   "metadata": {},
   "source": [
    "These topics seem to mean:\n",
    "- topic 0 relates to **GOALS**,\n",
    "- topic 1 relates to **CURRICULUM**, and \n",
    "- topic 2 relates to **PHILOSOPHY** or learning process (but this topic less clear/ more mottled)"
   ]
  },
  {
   "cell_type": "code",
   "execution_count": null,
   "metadata": {
    "collapsed": true
   },
   "outputs": [],
   "source": [
    "# Preparation for looking at distribution of topics over schools\n",
    "topic_dist = lda.transform(tf) # transpose topic distribution\n",
    "topic_dist_df = pandas.DataFrame(topic_dist) # turn into a df\n",
    "df_w_topics = topic_dist_df.join(df_appended) # merge with charter MS dataframe\n",
    "\n",
    "# np.count_nonzero(~np.isnan(df_w_topics[\"LEANM\"]))\n",
    "df_w_topicsna = df_w_topics[pandas.isnull(df_w_topics['LEANM'])]\n",
    "df_w_topicsna[[0, 1, \"WEBTEXT\"]]\n",
    "output = \"\"\n",
    "for index , row in df_w_topicsna.iterrows():\n",
    "    print(row[0], row[1], str(row[\"WEBTEXT\"]))\n",
    "    if row[0] < row[1] and str(row[\"WEBTEXT\"]) != 'nan':\n",
    "        output += str(row[\"WEBTEXT\"]) + ' '\n",
    "# df_w_topics['LEANM'].isnull() # check out the merged df with topics!"
   ]
  },
  {
   "cell_type": "code",
   "execution_count": null,
   "metadata": {
    "collapsed": true
   },
   "outputs": [],
   "source": [
    "output"
   ]
  },
  {
   "cell_type": "code",
   "execution_count": null,
   "metadata": {
    "collapsed": true
   },
   "outputs": [],
   "source": [
    "topic_columns = range(0,n_topics) # Set numerical range of topic columns for use in analyses, using n_topics from above"
   ]
  },
  {
   "cell_type": "code",
   "execution_count": null,
   "metadata": {
    "collapsed": true,
    "scrolled": true
   },
   "outputs": [],
   "source": [
    "# Which schools are weighted highest for topic 0? How do they trend with regard to urban proximity and student class? \n",
    "print(df_w_topics[['LSTATE', 'ULOCAL', 'PCTETH', 'PCTFRPL', 0, 1, 2]].sort_values(by=[0], ascending=False)[:10])"
   ]
  },
  {
   "cell_type": "code",
   "execution_count": null,
   "metadata": {
    "collapsed": true
   },
   "outputs": [],
   "source": [
    "# Preparation for comparing total number of words aligned with each topic\n",
    "# To weight each topic by its prevalenced in the corpus, multiply each topic by the word count from above\n",
    "\n",
    "col_list = []\n",
    "for num in topic_columns:\n",
    "    col = \"%d_wc\" % num\n",
    "    col_list.append(col)\n",
    "    df_w_topics[col] = df_w_topics[num] * df_w_topics['webpunct_count']\n",
    "    \n",
    "df_w_topics[:10]"
   ]
  },
  {
   "cell_type": "code",
   "execution_count": null,
   "metadata": {
    "collapsed": true,
    "scrolled": true
   },
   "outputs": [],
   "source": [
    "# Now we can see the prevalence of each topic over words for each urban category and state\n",
    "grouped_urban = df_w_topics.groupby('ULOCAL')\n",
    "for e in col_list:\n",
    "    print(e)\n",
    "    print(grouped_urban[e].sum()/grouped_urban['webpunct_count'].sum())\n",
    "\n",
    "grouped_state = df_w_topics.groupby('LSTATE')\n",
    "for e in col_list:\n",
    "    print(e)\n",
    "    print(grouped_state[e].sum()/grouped_state['webpunct_count'].sum())"
   ]
  },
  {
   "cell_type": "code",
   "execution_count": null,
   "metadata": {
    "collapsed": true
   },
   "outputs": [],
   "source": [
    "# Here's the distribution of urban proximity over the three topics:\n",
    "fig1 = plt.figure()\n",
    "chrt = 0\n",
    "for num in topic_columns:\n",
    "    chrt += 1 \n",
    "    ax = fig1.add_subplot(2,3, chrt)\n",
    "    grouped_urban[num].mean().plot(kind = 'bar', yerr = grouped_urban[num].std(), ylim=0, ax=ax, title=num)\n",
    "\n",
    "fig1.tight_layout()\n",
    "plt.show()"
   ]
  },
  {
   "cell_type": "code",
   "execution_count": null,
   "metadata": {
    "collapsed": true
   },
   "outputs": [],
   "source": [
    "# Here's the distribution of each topic over words, for each urban category:\n",
    "fig2 = plt.figure()\n",
    "chrt = 0\n",
    "for e in col_list:\n",
    "    chrt += 1 \n",
    "    ax2 = fig2.add_subplot(2,3, chrt)\n",
    "    (grouped_urban[e].sum()/grouped_urban['webpunct_count'].sum()).plot(kind = 'bar', ylim=0, ax=ax2, title=e)\n",
    "\n",
    "fig2.tight_layout()\n",
    "plt.show()"
   ]
  },
  {
   "cell_type": "code",
   "execution_count": null,
   "metadata": {
    "collapsed": true
   },
   "outputs": [],
   "source": []
  },
  {
   "cell_type": "code",
   "execution_count": null,
   "metadata": {
    "collapsed": true
   },
   "outputs": [],
   "source": []
  },
  {
   "cell_type": "code",
   "execution_count": null,
   "metadata": {
    "collapsed": true
   },
   "outputs": [],
   "source": []
  }
 ],
 "metadata": {
  "kernelspec": {
   "display_name": "Python 3",
   "language": "python",
   "name": "python3"
  },
  "language_info": {
   "codemirror_mode": {
    "name": "ipython",
    "version": 3
   },
   "file_extension": ".py",
   "mimetype": "text/x-python",
   "name": "python",
   "nbconvert_exporter": "python",
   "pygments_lexer": "ipython3",
   "version": "3.6.1"
  }
 },
 "nbformat": 4,
 "nbformat_minor": 2
}
