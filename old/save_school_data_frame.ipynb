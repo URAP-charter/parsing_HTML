{
 "cells": [
  {
   "cell_type": "code",
   "execution_count": 1,
   "metadata": {},
   "outputs": [],
   "source": [
    "import pandas as pd\n",
    "from pandas import Series, DataFrame\n",
    "import numpy as np\n",
    "from collections import Counter\n",
    "import string\n",
    "import csv"
   ]
  },
  {
   "cell_type": "code",
   "execution_count": 2,
   "metadata": {},
   "outputs": [],
   "source": [
    "file_name = 'charters_parsed_03-08.csv'"
   ]
  },
  {
   "cell_type": "code",
   "execution_count": 3,
   "metadata": {},
   "outputs": [],
   "source": [
    "dir_prefix = '/home/jovyan/work/'\n",
    "bigfile = dir_prefix + 'Charter-school-identities/data/' + file_name\n",
    "keepcols = ['MEMBER', 'FTE', 'YEAR_OPENED', 'YEAR_CLOSED', 'TOTETH', 'PCTETH', 'LEA_NAME', 'STATENAME', 'TOTFRL', 'ALL_RLA00PCTPROF_1415', 'ALL_MTH00PCTPROF_1415', 'LOCALE', 'SCH_NAME', 'ADDRESS14', 'TITLEI', 'ESS_COUNT', 'PROG_COUNT', 'RIT_COUNT', 'ESS_STRENGTH', 'PROG_STRENGTH', 'WEBTEXT', 'KEYWORDS_TEXT', 'IDEOLOGY_TEXT'] # Not included yet: 'LON1516', 'LAT1516', \n",
    "#dfslice # Note that WEBTEXT is empty, but KEYWORDS_TEXT and IDEOLOGY_TEXT have text data! Feel free to play with these."
   ]
  },
  {
   "cell_type": "code",
   "execution_count": 4,
   "metadata": {},
   "outputs": [],
   "source": [
    "# Will only grab information from the used columns \n",
    "used_columns = ['IDEOLOGY_TEXT','NCESSCH', 'SCH_NAME'] # Use NCESSCH as row names when saving to DF and csv\n",
    "bigdata_iter = pd.read_csv(bigfile, sep=\"\\t\", low_memory=False, encoding=\"utf-8\", na_values={\"TITLEI\":[\"M\",\"N\"]}, iterator=True, chunksize=25, usecols=used_columns)"
   ]
  },
  {
   "cell_type": "code",
   "execution_count": 5,
   "metadata": {
    "scrolled": true
   },
   "outputs": [],
   "source": [
    "idlist = bigdata_iter.get_chunk(1)[\"IDEOLOGY_TEXT\"]"
   ]
  },
  {
   "cell_type": "code",
   "execution_count": 6,
   "metadata": {},
   "outputs": [
    {
     "data": {
      "text/plain": [
       "\"['Alaska Public Schools Database\\\\n', 'Lower Kuskokwim School District\\\\n', 'School Calendar for 2017-2018\\\\n', 'School ID\\\\n', 'School Website\\\\n', 'School Email\\\\n', 'School Details\\\\n', '                    Teacher Certification: \\\\n', 'Teaching & Learning Support Program Contacts\\\\n', 'Teaching & Learning Support Program Contacts\\\\n', 'Teacher Certification\\\\n']\""
      ]
     },
     "execution_count": 6,
     "metadata": {},
     "output_type": "execute_result"
    }
   ],
   "source": [
    "list(idlist)[0]"
   ]
  },
  {
   "cell_type": "code",
   "execution_count": 7,
   "metadata": {},
   "outputs": [],
   "source": [
    "# Input: String\n",
    "# Output: An array of words. \n",
    "# Description: All of the punctuations will be taken out and separated by spaces. \n",
    "# All of the words will also be lower-cased. Will be used for ALL TEXT before \n",
    "# putting into the set. \n",
    "# RESULT SHOULD BE PASSED INTO COUNT_IDELOGY\n",
    "\n",
    "translator = str.maketrans(string.punctuation, ' '*len(string.punctuation))\n",
    "whitelist = set('abcdefghijklmnopqrstuvwxy ABCDEFGHIJKLMNOPQRSTUVWXYZ')\n",
    "\n",
    "def clean_text(txt):\n",
    "    try:\n",
    "        txt = txt.translate(translator)\n",
    "        txt = txt.lower()\n",
    "        txt = ''.join(filter(whitelist.__contains__, txt))\n",
    "\n",
    "        return txt.split()\n",
    "    except: \n",
    "        return []"
   ]
  },
  {
   "cell_type": "code",
   "execution_count": 8,
   "metadata": {},
   "outputs": [],
   "source": [
    "# Input: List\n",
    "# Ouput: Counter with word count\n",
    "# Description: Will take in a cleaned up list of words and output counter with all the words\n",
    "\n",
    "def count_ideology(lst):\n",
    "    word_count = Counter()\n",
    "    word_count.update(lst)\n",
    "    \n",
    "    return word_count"
   ]
  },
  {
   "cell_type": "code",
   "execution_count": 9,
   "metadata": {},
   "outputs": [],
   "source": [
    "# Input: CSV file, Counter, Spec_val(Dictionary)\n",
    "# Output: None\n",
    "# Description: Will update the CSV file with a new line and new column headers. \n",
    "# Will turn everything that was not ther into 0. The dictionary will have {School_name: , ID: .....}\n",
    "# REQUIRES: CSV FILE TO ALREADY EXIST. THE SPEC_VAL COLUMNS MUST EXIST ALREADY\n",
    "# csv_filename: is the file name of the file we are modifying \n",
    "# counter: is Counter type with essentially a dictionary of the terms we want to add\n",
    "# Spec_val: is Dictionary with values not in counter that we want to add. MUST EXIST IN CSV COLUMNS ALREADY \n",
    "#            For the purpose of adding school names and school ids. i.e {'SCH_NAME': 'MONTE VISTA HS'}\n",
    "\n",
    "def write_new_columns(csv_filename, counter, spec_val):\n",
    "        # Reda the csv file, get the column headers. Put them into a set and put the new values into a set. \n",
    "        # The difference are the new columns that we need ot add. \n",
    "        df = pd.read_csv(csv_filename)\n",
    "        header = list(df.columns.values)\n",
    "        header_set = set(header)\n",
    "        counter_set = set(counter)\n",
    "        \n",
    "        new_columns = counter_set - header_set\n",
    "        \n",
    "        empty = [0 for x in range(df.shape[0])]\n",
    "        for col_header in new_columns: \n",
    "            df[col_header] = empty\n",
    "        \n",
    "        # At this point we need to get the new headers. And create the new DataFrame. \n",
    "        row_val = []\n",
    "        header = list(df.columns.values)\n",
    "        for col_header in header: \n",
    "            if col_header in counter: \n",
    "                row_val.append(counter[col_header])\n",
    "            elif col_header in spec_val: \n",
    "                row_val.append(spec_val[col_header])\n",
    "            else: \n",
    "                row_val.append(0)\n",
    "    \n",
    "        temp = pd.DataFrame([row_val],columns=header)\n",
    "        df = df.append(temp, ignore_index=True)\n",
    "        df.to_csv(csv_filename, index=False)\n",
    "\n",
    "#write_new_columns(\"names.csv\", Counter({'a':1}), {'first_name': 10101})"
   ]
  },
  {
   "cell_type": "code",
   "execution_count": 11,
   "metadata": {},
   "outputs": [
    {
     "name": "stdout",
     "output_type": "stream",
     "text": [
      "1\n",
      "2\n",
      "3\n",
      "4\n",
      "5\n",
      "6\n",
      "7\n",
      "8\n",
      "9\n",
      "10\n",
      "11\n",
      "12\n",
      "13\n",
      "14\n",
      "15\n",
      "16\n",
      "17\n",
      "18\n",
      "19\n",
      "20\n"
     ]
    }
   ],
   "source": [
    "# Input: The file name, text field, specical field, \n",
    "# Output: None\n",
    "# Description: Will counting the words in the in the interatir passed in. Will create and modify a CSV file. \n",
    "# df_iter: Pass the interator for the data_frame you want to get information from. \n",
    "# file_name: This will create a new file where we store all the data -> Might want \n",
    "#           to modify so we could continue modifying the file\n",
    "# text_field: The field in the dataframe that we actually want to do the word counts on \n",
    "#                 string i.e 'IDEOLOGY_TEXT'\n",
    "# spec_field: The special fields are the columns included that are not words we are counting\n",
    "#                For example, we would want to include the school id and the school names. \n",
    "#                list of strings i.e ['NCESSCH', 'SCH_NAME']\n",
    "# c: Counter: Just a integer on how many rows you want to analyze. This is meant for testing. \n",
    "# THIS WILL NOT WORK FOR BIG DATA SETS. SINCE FOR EVERY ROW IT HAS TO OPEN AND CLOSE THE CSV FILE\n",
    "\n",
    "def process_data(df_iter, file_name, text_field, spec_fields, c): \n",
    "    counter = 0\n",
    "    with open(file_name, 'w', newline='') as csvfile:\n",
    "        writer = csv.DictWriter(csvfile, fieldnames=spec_fields)\n",
    "        writer.writeheader()\n",
    "        \n",
    "    while counter < c: \n",
    "        chunk = df_iter.get_chunk(1)\n",
    "        \n",
    "        spc_fld = {}\n",
    "        for val in spec_fields: \n",
    "            spc_fld[val] = chunk[val].values[0]\n",
    "            \n",
    "        text = chunk[text_field].values[0]\n",
    "        text = clean_text(text)\n",
    "        ideo = count_ideology(text)\n",
    "        write_new_columns(file_name, ideo, spc_fld)\n",
    "        counter += 1\n",
    "        print(counter)\n",
    "    \n",
    "process_data(bigdata_iter, 'data.csv', 'IDEOLOGY_TEXT', ['NCESSCH', 'SCH_NAME'], 20)"
   ]
  },
  {
   "cell_type": "code",
   "execution_count": null,
   "metadata": {},
   "outputs": [],
   "source": []
  }
 ],
 "metadata": {
  "kernelspec": {
   "display_name": "Python 3",
   "language": "python",
   "name": "python3"
  },
  "language_info": {
   "codemirror_mode": {
    "name": "ipython",
    "version": 3
   },
   "file_extension": ".py",
   "mimetype": "text/x-python",
   "name": "python",
   "nbconvert_exporter": "python",
   "pygments_lexer": "ipython3",
   "version": "3.6.2"
  }
 },
 "nbformat": 4,
 "nbformat_minor": 2
}
