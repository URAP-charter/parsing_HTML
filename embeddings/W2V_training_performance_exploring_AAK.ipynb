{
 "cells": [
  {
   "cell_type": "markdown",
   "metadata": {},
   "source": [
    "Notebook to accompany article by Arseniev-Koehler and Foster, \"Teaching an algorithm what it means to be fat: machine-learning as a model for cultural learning.\" All code last checked on Python 3 in Windows 1/3/2019. Please cite our paper or [GitHub repo](https://github.com/arsena-k/Word2Vec-bias-extraction) if reused. "
   ]
  },
  {
   "cell_type": "markdown",
   "metadata": {},
   "source": [
    "# Word2Vec Model Training, Perfomance Evaluation and Exploration"
   ]
  },
  {
   "cell_type": "markdown",
   "metadata": {},
   "source": [
    "**Description:** In this Jupyter notebook, we train a Word2Vec model of text data using Gensim.  Word2Vec models words in a text dataset as numeric vectors. For a review of Word2Vec check out this [blog post](http://mccormickml.com/2016/04/19/word2vec-tutorial-the-skip-gram-model/). We also include code in this notebook to evaluate model quality on the Google Analogy Test on any trained Word2Vec model, and explore any trained Word2Vec model."
   ]
  },
  {
   "cell_type": "markdown",
   "metadata": {},
   "source": [
    "**Table of Contents**\n",
    "\n",
    "* Part 1: [Train a Word2Vec model on some text data](#Train)\n",
    "* Part 2: [Test your model's quality using the Google Analogy Test](#Accuracy)\n",
    "* Part 3: [Explore and visualize your Word2Vec model](#Results)"
   ]
  },
  {
   "cell_type": "markdown",
   "metadata": {},
   "source": [
    "**Tips for getting started:**\n",
    "* Suggestions along the way for dataset to use for Part 1 (training), or a pre-trained model to jump into model accuracy and exploration (Part 2) and skip training in Part 1. \n",
    "* This notebook was written in Python 3\n",
    "* Install needed packages, especially make sure you have installed Cython\n",
    "* Know where this Jupyter Notebook is saved on your computer. That folder will be called your \"working directory\", and it is where we will keep all models and data files. If you save a model, it will save there. If you download a dataset or pretrained model, you should save the file to there: when loading in files, Juputer Notebook will look in your working directory for that file by default. \n"
   ]
  },
  {
   "cell_type": "markdown",
   "metadata": {},
   "source": [
    "Import external functions and packages"
   ]
  },
  {
   "cell_type": "code",
   "execution_count": 2,
   "metadata": {},
   "outputs": [],
   "source": [
    "import cython #ENSURE cython package is installed on computer/canopy\n",
    "from gensim.models import phrases \n",
    "from gensim import corpora, models, similarities #calc all similarities at once, from http://radimrehurek.com/gensim/tut3.html\n",
    "from sklearn.metrics.pairwise import cosine_similarity\n",
    "from scipy import spatial\n",
    "from statistics import mean\n",
    "from gensim.models import Word2Vec, KeyedVectors\n",
    "import pandas as pd\n",
    "from string import ascii_letters, digits\n",
    "from sklearn.manifold import TSNE\n",
    "import matplotlib.pyplot as plt\n",
    "%matplotlib inline\n",
    "#np.set_printoptions(threshold=np.inf) #set to print full output\n",
    "\n",
    "#if you don't have any of these libraries, you will need to install them first with conda install or pip install"
   ]
  },
  {
   "cell_type": "markdown",
   "metadata": {},
   "source": [
    "<a id='Train'></a> \n",
    "## Part 1: Train a Word2Vec Model, Explore Hyperparameters"
   ]
  },
  {
   "cell_type": "markdown",
   "metadata": {},
   "source": [
    "#### Don't have a dataset? \n",
    "\n",
    "Gensim has a few free suggestions, such as the [Text8 Corpus](https://radimrehurek.com/gensim/models/word2vec.html#gensim.models.word2vec.Text8Corpus)\n",
    "    \n",
    "Or, download this free Kaggle dataset of 3 million news headlines from the [Examiner](https://www.kaggle.com/therohk/examine-the-examiner/version/3)  and restructure for Word2Vec using code below.\n",
    "\n",
    "Note that in the paper, we train our model around 100,000 New York Times articles on obesity and health, published between 1980-2016. We provide details to get and explore our trained model in Part 2. "
   ]
  },
  {
   "cell_type": "code",
   "execution_count": 3,
   "metadata": {},
   "outputs": [
    {
     "data": {
      "text/html": [
       "<div>\n",
       "<style>\n",
       "    .dataframe thead tr:only-child th {\n",
       "        text-align: right;\n",
       "    }\n",
       "\n",
       "    .dataframe thead th {\n",
       "        text-align: left;\n",
       "    }\n",
       "\n",
       "    .dataframe tbody tr th {\n",
       "        vertical-align: top;\n",
       "    }\n",
       "</style>\n",
       "<table border=\"1\" class=\"dataframe\">\n",
       "  <thead>\n",
       "    <tr style=\"text-align: right;\">\n",
       "      <th></th>\n",
       "      <th>publish_date</th>\n",
       "      <th>headline_tokens</th>\n",
       "    </tr>\n",
       "  </thead>\n",
       "  <tbody>\n",
       "    <tr>\n",
       "      <th>0</th>\n",
       "      <td>20100101</td>\n",
       "      <td>100 most anticipated books releasing 2010</td>\n",
       "    </tr>\n",
       "    <tr>\n",
       "      <th>1</th>\n",
       "      <td>20100101</td>\n",
       "      <td>10 best films of 2009 what s on your list</td>\n",
       "    </tr>\n",
       "    <tr>\n",
       "      <th>2</th>\n",
       "      <td>20100101</td>\n",
       "      <td>10 days of free admission at lan su chinese ga...</td>\n",
       "    </tr>\n",
       "    <tr>\n",
       "      <th>3</th>\n",
       "      <td>20100101</td>\n",
       "      <td>10 playstation games to watch out for 2010</td>\n",
       "    </tr>\n",
       "    <tr>\n",
       "      <th>4</th>\n",
       "      <td>20100101</td>\n",
       "      <td>10 resolutions for a happy new year for you an...</td>\n",
       "    </tr>\n",
       "    <tr>\n",
       "      <th>5</th>\n",
       "      <td>20100101</td>\n",
       "      <td>10 tips to a healthy diet that works</td>\n",
       "    </tr>\n",
       "    <tr>\n",
       "      <th>6</th>\n",
       "      <td>20100101</td>\n",
       "      <td>10 tips to avoid the drive thru and encourage ...</td>\n",
       "    </tr>\n",
       "    <tr>\n",
       "      <th>7</th>\n",
       "      <td>20100101</td>\n",
       "      <td>10 trends to end 2010</td>\n",
       "    </tr>\n",
       "    <tr>\n",
       "      <th>8</th>\n",
       "      <td>20100101</td>\n",
       "      <td>11 year old girl and 15 year old boy accused o...</td>\n",
       "    </tr>\n",
       "    <tr>\n",
       "      <th>9</th>\n",
       "      <td>20100101</td>\n",
       "      <td>12 days of rotoff vijay singh</td>\n",
       "    </tr>\n",
       "    <tr>\n",
       "      <th>10</th>\n",
       "      <td>20100101</td>\n",
       "      <td>12 new year s resolutions for better eating</td>\n",
       "    </tr>\n",
       "    <tr>\n",
       "      <th>11</th>\n",
       "      <td>20100101</td>\n",
       "      <td>14 hours of energy conference</td>\n",
       "    </tr>\n",
       "    <tr>\n",
       "      <th>12</th>\n",
       "      <td>20100101</td>\n",
       "      <td>2009 entertainment farewells</td>\n",
       "    </tr>\n",
       "    <tr>\n",
       "      <th>13</th>\n",
       "      <td>20100101</td>\n",
       "      <td>2009 review climategate to copenhagen part i</td>\n",
       "    </tr>\n",
       "    <tr>\n",
       "      <th>14</th>\n",
       "      <td>20100101</td>\n",
       "      <td>2009 review lacrosse inches into the mainstream</td>\n",
       "    </tr>\n",
       "    <tr>\n",
       "      <th>15</th>\n",
       "      <td>20100101</td>\n",
       "      <td>2009 s best pet moments for me</td>\n",
       "    </tr>\n",
       "    <tr>\n",
       "      <th>16</th>\n",
       "      <td>20100101</td>\n",
       "      <td>2009 sprint cup season review clint bowyer</td>\n",
       "    </tr>\n",
       "    <tr>\n",
       "      <th>17</th>\n",
       "      <td>20100101</td>\n",
       "      <td>2009 the year viral videos a retospective cove...</td>\n",
       "    </tr>\n",
       "    <tr>\n",
       "      <th>18</th>\n",
       "      <td>20100101</td>\n",
       "      <td>2009 top 10 christian fiction atlanta based au...</td>\n",
       "    </tr>\n",
       "    <tr>\n",
       "      <th>19</th>\n",
       "      <td>20100101</td>\n",
       "      <td>2009 was adam lambert s year to star 2010 shou...</td>\n",
       "    </tr>\n",
       "    <tr>\n",
       "      <th>20</th>\n",
       "      <td>20100101</td>\n",
       "      <td>2009 was a year of great tunes and great shows</td>\n",
       "    </tr>\n",
       "    <tr>\n",
       "      <th>21</th>\n",
       "      <td>20100101</td>\n",
       "      <td>2009 weather highlights</td>\n",
       "    </tr>\n",
       "    <tr>\n",
       "      <th>22</th>\n",
       "      <td>20100101</td>\n",
       "      <td>2010 1</td>\n",
       "    </tr>\n",
       "    <tr>\n",
       "      <th>23</th>\n",
       "      <td>20100101</td>\n",
       "      <td>2010 and beyond beyond</td>\n",
       "    </tr>\n",
       "    <tr>\n",
       "      <th>24</th>\n",
       "      <td>20100101</td>\n",
       "      <td>2010 a new year and a new decade dawns what dr...</td>\n",
       "    </tr>\n",
       "    <tr>\n",
       "      <th>25</th>\n",
       "      <td>20100101</td>\n",
       "      <td>2010 a space fairy tale</td>\n",
       "    </tr>\n",
       "    <tr>\n",
       "      <th>26</th>\n",
       "      <td>20100101</td>\n",
       "      <td>2010 a whole new year</td>\n",
       "    </tr>\n",
       "    <tr>\n",
       "      <th>27</th>\n",
       "      <td>20100101</td>\n",
       "      <td>2010 a year of races gop gov race</td>\n",
       "    </tr>\n",
       "    <tr>\n",
       "      <th>28</th>\n",
       "      <td>20100101</td>\n",
       "      <td>2010 ball drop video from times square happy n...</td>\n",
       "    </tr>\n",
       "    <tr>\n",
       "      <th>29</th>\n",
       "      <td>20100101</td>\n",
       "      <td>2010 california fishing license no wear initia...</td>\n",
       "    </tr>\n",
       "    <tr>\n",
       "      <th>...</th>\n",
       "      <td>...</td>\n",
       "      <td>...</td>\n",
       "    </tr>\n",
       "    <tr>\n",
       "      <th>3089751</th>\n",
       "      <td>20151231</td>\n",
       "      <td>the strongest trump supporters are registered ...</td>\n",
       "    </tr>\n",
       "    <tr>\n",
       "      <th>3089752</th>\n",
       "      <td>20151231</td>\n",
       "      <td>the wsj reports the nsa spied on israeli prime...</td>\n",
       "    </tr>\n",
       "    <tr>\n",
       "      <th>3089753</th>\n",
       "      <td>20151231</td>\n",
       "      <td>the year of the eater entrepreneur</td>\n",
       "    </tr>\n",
       "    <tr>\n",
       "      <th>3089754</th>\n",
       "      <td>20151231</td>\n",
       "      <td>the year review impressive wines and wineries ...</td>\n",
       "    </tr>\n",
       "    <tr>\n",
       "      <th>3089755</th>\n",
       "      <td>20151231</td>\n",
       "      <td>the young and the restless spoilers ashley abb...</td>\n",
       "    </tr>\n",
       "    <tr>\n",
       "      <th>3089756</th>\n",
       "      <td>20151231</td>\n",
       "      <td>tips for successful achievement of new year re...</td>\n",
       "    </tr>\n",
       "    <tr>\n",
       "      <th>3089757</th>\n",
       "      <td>20151231</td>\n",
       "      <td>tonya couch brought back to us from mexico whi...</td>\n",
       "    </tr>\n",
       "    <tr>\n",
       "      <th>3089758</th>\n",
       "      <td>20151231</td>\n",
       "      <td>top 10 beers of 2015</td>\n",
       "    </tr>\n",
       "    <tr>\n",
       "      <th>3089759</th>\n",
       "      <td>20151231</td>\n",
       "      <td>top carson aides resign from failing campaign</td>\n",
       "    </tr>\n",
       "    <tr>\n",
       "      <th>3089760</th>\n",
       "      <td>20151231</td>\n",
       "      <td>top five healthier snack options for the new year</td>\n",
       "    </tr>\n",
       "    <tr>\n",
       "      <th>3089761</th>\n",
       "      <td>20151231</td>\n",
       "      <td>top stories of 2015</td>\n",
       "    </tr>\n",
       "    <tr>\n",
       "      <th>3089762</th>\n",
       "      <td>20151231</td>\n",
       "      <td>toshiba and times square welcome 2016</td>\n",
       "    </tr>\n",
       "    <tr>\n",
       "      <th>3089763</th>\n",
       "      <td>20151231</td>\n",
       "      <td>towering inferno erupts at dubai luxury hotel ...</td>\n",
       "    </tr>\n",
       "    <tr>\n",
       "      <th>3089764</th>\n",
       "      <td>20151231</td>\n",
       "      <td>toy plane chants islamic prayer instead of jet...</td>\n",
       "    </tr>\n",
       "    <tr>\n",
       "      <th>3089765</th>\n",
       "      <td>20151231</td>\n",
       "      <td>tv actor wayne rogers has died</td>\n",
       "    </tr>\n",
       "    <tr>\n",
       "      <th>3089766</th>\n",
       "      <td>20151231</td>\n",
       "      <td>uber hits milestone 1 billion rides given by r...</td>\n",
       "    </tr>\n",
       "    <tr>\n",
       "      <th>3089767</th>\n",
       "      <td>20151231</td>\n",
       "      <td>useful tech gifts on secret wish lists</td>\n",
       "    </tr>\n",
       "    <tr>\n",
       "      <th>3089768</th>\n",
       "      <td>20151231</td>\n",
       "      <td>utah sports top 5 coolest people of 2015 they ...</td>\n",
       "    </tr>\n",
       "    <tr>\n",
       "      <th>3089769</th>\n",
       "      <td>20151231</td>\n",
       "      <td>utah sports top 5 morons of 2015 see if you ma...</td>\n",
       "    </tr>\n",
       "    <tr>\n",
       "      <th>3089770</th>\n",
       "      <td>20151231</td>\n",
       "      <td>utah sports top story of 2015 utah state f dav...</td>\n",
       "    </tr>\n",
       "    <tr>\n",
       "      <th>3089771</th>\n",
       "      <td>20151231</td>\n",
       "      <td>vaginal estrogen can improve postmenopausal se...</td>\n",
       "    </tr>\n",
       "    <tr>\n",
       "      <th>3089772</th>\n",
       "      <td>20151231</td>\n",
       "      <td>vegas fun the 2015 ford mustang</td>\n",
       "    </tr>\n",
       "    <tr>\n",
       "      <th>3089773</th>\n",
       "      <td>20151231</td>\n",
       "      <td>wallethub s 16 financial resolutions for the n...</td>\n",
       "    </tr>\n",
       "    <tr>\n",
       "      <th>3089774</th>\n",
       "      <td>20151231</td>\n",
       "      <td>what did we learn from the 49ers 2015</td>\n",
       "    </tr>\n",
       "    <tr>\n",
       "      <th>3089775</th>\n",
       "      <td>20151231</td>\n",
       "      <td>what lies ahead for hartford hockey 2016</td>\n",
       "    </tr>\n",
       "    <tr>\n",
       "      <th>3089776</th>\n",
       "      <td>20151231</td>\n",
       "      <td>which is better investment lego bricks or gold...</td>\n",
       "    </tr>\n",
       "    <tr>\n",
       "      <th>3089777</th>\n",
       "      <td>20151231</td>\n",
       "      <td>wild score three unanswered goals to defeat th...</td>\n",
       "    </tr>\n",
       "    <tr>\n",
       "      <th>3089778</th>\n",
       "      <td>20151231</td>\n",
       "      <td>with nasa and russia on the sidelines europe i...</td>\n",
       "    </tr>\n",
       "    <tr>\n",
       "      <th>3089779</th>\n",
       "      <td>20151231</td>\n",
       "      <td>wolf pack battling opponents officials on the ...</td>\n",
       "    </tr>\n",
       "    <tr>\n",
       "      <th>3089780</th>\n",
       "      <td>20151231</td>\n",
       "      <td>writespace hosts all genre open mic night</td>\n",
       "    </tr>\n",
       "  </tbody>\n",
       "</table>\n",
       "<p>3089781 rows × 2 columns</p>\n",
       "</div>"
      ],
      "text/plain": [
       "         publish_date                                    headline_tokens\n",
       "0            20100101          100 most anticipated books releasing 2010\n",
       "1            20100101          10 best films of 2009 what s on your list\n",
       "2            20100101  10 days of free admission at lan su chinese ga...\n",
       "3            20100101         10 playstation games to watch out for 2010\n",
       "4            20100101  10 resolutions for a happy new year for you an...\n",
       "5            20100101               10 tips to a healthy diet that works\n",
       "6            20100101  10 tips to avoid the drive thru and encourage ...\n",
       "7            20100101                              10 trends to end 2010\n",
       "8            20100101  11 year old girl and 15 year old boy accused o...\n",
       "9            20100101                      12 days of rotoff vijay singh\n",
       "10           20100101        12 new year s resolutions for better eating\n",
       "11           20100101                      14 hours of energy conference\n",
       "12           20100101                       2009 entertainment farewells\n",
       "13           20100101       2009 review climategate to copenhagen part i\n",
       "14           20100101    2009 review lacrosse inches into the mainstream\n",
       "15           20100101                     2009 s best pet moments for me\n",
       "16           20100101         2009 sprint cup season review clint bowyer\n",
       "17           20100101  2009 the year viral videos a retospective cove...\n",
       "18           20100101  2009 top 10 christian fiction atlanta based au...\n",
       "19           20100101  2009 was adam lambert s year to star 2010 shou...\n",
       "20           20100101     2009 was a year of great tunes and great shows\n",
       "21           20100101                            2009 weather highlights\n",
       "22           20100101                                             2010 1\n",
       "23           20100101                             2010 and beyond beyond\n",
       "24           20100101  2010 a new year and a new decade dawns what dr...\n",
       "25           20100101                            2010 a space fairy tale\n",
       "26           20100101                              2010 a whole new year\n",
       "27           20100101                  2010 a year of races gop gov race\n",
       "28           20100101  2010 ball drop video from times square happy n...\n",
       "29           20100101  2010 california fishing license no wear initia...\n",
       "...               ...                                                ...\n",
       "3089751      20151231  the strongest trump supporters are registered ...\n",
       "3089752      20151231  the wsj reports the nsa spied on israeli prime...\n",
       "3089753      20151231                 the year of the eater entrepreneur\n",
       "3089754      20151231  the year review impressive wines and wineries ...\n",
       "3089755      20151231  the young and the restless spoilers ashley abb...\n",
       "3089756      20151231  tips for successful achievement of new year re...\n",
       "3089757      20151231  tonya couch brought back to us from mexico whi...\n",
       "3089758      20151231                               top 10 beers of 2015\n",
       "3089759      20151231      top carson aides resign from failing campaign\n",
       "3089760      20151231  top five healthier snack options for the new year\n",
       "3089761      20151231                                top stories of 2015\n",
       "3089762      20151231              toshiba and times square welcome 2016\n",
       "3089763      20151231  towering inferno erupts at dubai luxury hotel ...\n",
       "3089764      20151231  toy plane chants islamic prayer instead of jet...\n",
       "3089765      20151231                     tv actor wayne rogers has died\n",
       "3089766      20151231  uber hits milestone 1 billion rides given by r...\n",
       "3089767      20151231             useful tech gifts on secret wish lists\n",
       "3089768      20151231  utah sports top 5 coolest people of 2015 they ...\n",
       "3089769      20151231  utah sports top 5 morons of 2015 see if you ma...\n",
       "3089770      20151231  utah sports top story of 2015 utah state f dav...\n",
       "3089771      20151231  vaginal estrogen can improve postmenopausal se...\n",
       "3089772      20151231                    vegas fun the 2015 ford mustang\n",
       "3089773      20151231  wallethub s 16 financial resolutions for the n...\n",
       "3089774      20151231              what did we learn from the 49ers 2015\n",
       "3089775      20151231           what lies ahead for hartford hockey 2016\n",
       "3089776      20151231  which is better investment lego bricks or gold...\n",
       "3089777      20151231  wild score three unanswered goals to defeat th...\n",
       "3089778      20151231  with nasa and russia on the sidelines europe i...\n",
       "3089779      20151231  wolf pack battling opponents officials on the ...\n",
       "3089780      20151231          writespace hosts all genre open mic night\n",
       "\n",
       "[3089781 rows x 2 columns]"
      ]
     },
     "execution_count": 3,
     "metadata": {},
     "output_type": "execute_result"
    }
   ],
   "source": [
    "dat= pd.read_csv('examiner-date-tokens.csv') #this file should be in your working directory - the same folder where this Jupyter Notebook is saved\n",
    "dat #view what it looks like"
   ]
  },
  {
   "cell_type": "markdown",
   "metadata": {},
   "source": [
    "*Preprocessing and Cleaning* \n",
    "\n",
    "From visually looking at the data, it is already pretty clean. Most importantly, letters are all lowercased, and punctuation removed. But we'll need to remove digits. And, the corpus needs to be re-structured for Word2Vec into a list of \"sentences\" or, in this case, headlines. Within each \"sentence\" we'll tokenize the string such that each word is a token.\n",
    "\n",
    "*Fake original text data, before being cleaned and pre-processed might have looked something like this:*\n",
    "\n",
    "    mydata= [These are words in the First sentence. These are words in the Second sentence! These are words in the Third sentence.] \n",
    "    \n",
    "*We want to clean it to be an object like this:*\n",
    "\n",
    "    sentences= [['these', 'are', 'words', 'in', 'the', 'first', 'sentence'], ['these', 'are', 'words', 'in', 'the' , 'second', sentence], [these, 'are', 'words', 'in', 'the' , 'third', 'sentence']]\n",
    "\n",
    "\n",
    "Pre-processing in natural language processing commonly include removing stop words (words that are frequent but considered meaningless by some researchers, such as \"the\") and stemming words (e.g., reducing all words to a single tense, like \"running and \"runs\" to \"run\"). We do not remove stop words, which we consider meaningful, and Word2Vec well equipped to extract any meaning from stop words if it is there (i.e., if a stopword predicts other words' meaning), or to place little emphasis on stop words (or noise) if they do not predict other words' meaning. We also do not stem words. On smaller datasets stemming can be a strategy to reduce the vocabulary size and increase the number of instances of each vocabulary word, but the vocabulary size of the data set we initially trained on (New York Times articles) was a large corpus, and so we can use unstemmed words."
   ]
  },
  {
   "cell_type": "code",
   "execution_count": 4,
   "metadata": {},
   "outputs": [
    {
     "name": "stdout",
     "output_type": "stream",
     "text": [
      "['best', 'films', 'of', 'what', 's', 'on', 'your', 'list']\n",
      "3089781\n"
     ]
    }
   ],
   "source": [
    "dat2= [str(i[1]) for i in dat.values] #only need the text of each headline in the 1st index, not the date, in the 0th index\n",
    "translator = str.maketrans(ascii_letters, ascii_letters, digits) #stripping digits here, see: https://stackoverflow.com/questions/32538305/using-translate-on-a-string-to-strip-digits-python-3\n",
    "\n",
    "sentences=[]\n",
    "for i in dat2:\n",
    "    headline= i.translate(translator)\n",
    "    headline= headline.strip()\n",
    "    sentences.append(headline.split())\n",
    "    \n",
    "print(sentences[1])\n",
    "print(len(sentences)) # check that it is actually around 3 million headlines here as supposed to be. its ok if not perfectly clean (i.e.  some words that are nonsensical) for these purposes"
   ]
  },
  {
   "cell_type": "code",
   "execution_count": 5,
   "metadata": {
    "collapsed": true
   },
   "outputs": [],
   "source": [
    "#does sentences look ok? then delete dat and dat2 to save up some space\n",
    "del(dat2)\n",
    "del(dat)"
   ]
  },
  {
   "cell_type": "markdown",
   "metadata": {},
   "source": [
    "#### Have your own dataset? Load it below. \n",
    "\n",
    "Note your sentences object should be an object of cleaned, pre-processed, tokenized text data, as described above. "
   ]
  },
  {
   "cell_type": "code",
   "execution_count": 97,
   "metadata": {
    "collapsed": true
   },
   "outputs": [],
   "source": [
    "sentences= open('your_tokenized_data_file_here.txt').read() "
   ]
  },
  {
   "cell_type": "markdown",
   "metadata": {},
   "source": [
    "#### Next, we'll train a Word2Vec model on our sentences object. Here are some hyperparameters involved:\n",
    "\n",
    "* For a review see [Rong 2014](https://arxiv.org/abs/1411.2738)  and the [Gensim documentation](https://radimrehurek.com/gensim/models/word2vec.html)\n",
    "\n",
    "Key hyperparameters for Word2Vec include the learning architecture (Skip Gram or Context Bag of Words), the dimensionality of the word-vectors we will learn, and the context window of words, \"window\". Skip-gram sets up the artificial neural network underlying Word2Vec to predict set of context words given a target word. CBOW, or Context Bag of Words, sets up the network to predict a target word given a set of context words. The number of context words used is set by the \"window\" parameter. \n",
    "\n",
    "* size = word vector dimensionality. This usually ranges between 50-500 with gains in model performance diminishing after 300 (Mikolov et al. 2013a). We've seen up to 1000, but usually see 100, 300, and sometimes 500 dimensions on larger corprora. If you have a smaller dataset, stick to smaller dimensionality, roughly 50-200. Even 100 dimensions is a lot to learn! And, if you are using the embeddings for a classifiation task down the road (like in Part C of this GitHub Repo), it might be better to keep dimensionality low. \n",
    "* min_count = minimum word count. Any word that does not occur at least this many times across all documents is ignored. Default is 5. I often set this higher to learn only high quality word-vectors. \n",
    "* workers = number of threads to run in parallel, we set to 4. This speeds up training a lot, but to use make sure Cython is installed first. \n",
    "* window = context window size. This is the numebr of words used to predict a target word (in CBOW) or to be predicted from a target word (SG). A larger window captures topical similarity, smaller captures is semantic similarity (Goldberg 2016, Levy and Goldberg 2014).\n",
    "* seed= can set a seed for reproducibility, note you also cannot use multiple workers for a fully reproducible model.\n",
    "* sg = learning architecture: skip-gram (1) or CBOW (0). Skip-gram sets up the artificial neural network underlying Word2Vec to predict set of context words given a target word. CBOW, or Context Bag of Words, sets up the network to predict a target word given a set of context words. \n",
    "* hs= training algorithm to speed up computations: hierarchical softmax (1) or negative sampling (0)\n",
    "    "
   ]
  },
  {
   "cell_type": "markdown",
   "metadata": {},
   "source": [
    "#### Train Models with Four Combos of Hyperparameters"
   ]
  },
  {
   "cell_type": "markdown",
   "metadata": {},
   "source": [
    "Try a few combos of hyperparameters and see which performs best on your dataset by evaluating their accuracy in Part 2. "
   ]
  },
  {
   "cell_type": "markdown",
   "metadata": {},
   "source": [
    "Run bigram transformer, below. This allows our vocabulary to include not just single words but also bigrams (two-word phrases, like \"New York\"). This transformation needs to be done before training the Word2Vec model. \n",
    "\n",
    "Notes for your own implementation:\n",
    "* You can run one time to catch two-word phrases, like \"New_York\", or two times times, such as to catch three-word phrases (like \"New_York_City\"), or more times. For more information see the [Gensim documentaion.](https://radimrehurek.com/gensim/models/phrases.html).\n",
    "* If you only want single word-tokens, then just use \"sentences\" when you feed into Word2Vec() rather than feeding in bigram_transformer[sentences] "
   ]
  },
  {
   "cell_type": "code",
   "execution_count": 6,
   "metadata": {
    "collapsed": true
   },
   "outputs": [],
   "source": [
    "#your \"sentences\" object with the cleaned text data. \n",
    "bigram_transformer = phrases.Phrases(sentences) \n",
    "bigram= phrases.Phraser(bigram_transformer)"
   ]
  },
  {
   "cell_type": "markdown",
   "metadata": {},
   "source": [
    "Try training models A, B, C, or D, which vary by learning architecture (Skip Gram vs Context Bag of Words) and training algorithm (negative sampling vs hierarchical softmax). "
   ]
  },
  {
   "cell_type": "code",
   "execution_count": 7,
   "metadata": {
    "collapsed": true
   },
   "outputs": [],
   "source": [
    "modelA_ALLYEARS= Word2Vec(bigram[sentences], workers=4, sg=0,size=500, min_count=40,window=5, sample=1e-3)"
   ]
  },
  {
   "cell_type": "code",
   "execution_count": 109,
   "metadata": {
    "collapsed": true
   },
   "outputs": [],
   "source": [
    "modelB_ALLYEARS= Word2Vec(bigram[sentences], workers=4, sg=1, size=500, min_count=40, window=10, sample=1e-3)"
   ]
  },
  {
   "cell_type": "code",
   "execution_count": 110,
   "metadata": {
    "collapsed": true
   },
   "outputs": [],
   "source": [
    "modelC_ALLYEARS= Word2Vec(bigram[sentences],  workers=4, sg=0, hs=1,size=500, min_count=40, window=10, sample=1e-3)"
   ]
  },
  {
   "cell_type": "code",
   "execution_count": 111,
   "metadata": {
    "collapsed": true
   },
   "outputs": [],
   "source": [
    "modelD_ALLYEARS= Word2Vec(bigram[sentences], workers=4, sg=1, hs=1, size=500, min_count=40, window=10, sample=1e-3)"
   ]
  },
  {
   "cell_type": "markdown",
   "metadata": {},
   "source": [
    "Save your model to your working directory"
   ]
  },
  {
   "cell_type": "code",
   "execution_count": 8,
   "metadata": {
    "collapsed": true
   },
   "outputs": [],
   "source": [
    "modelA_ALLYEARS.init_sims(replace=True) #Precompute L2-normalized vectors. If replace is set to TRUE, forget the original vectors and only keep the normalized ones. Saves lots of memory, but can't continue to train the model."
   ]
  },
  {
   "cell_type": "code",
   "execution_count": 9,
   "metadata": {
    "collapsed": true
   },
   "outputs": [],
   "source": [
    "modelA_ALLYEARS.save(\"modelA\") #save your model for later use! change the name to something to remember the hyperparameters you trained it with"
   ]
  },
  {
   "cell_type": "markdown",
   "metadata": {},
   "source": [
    "<a id='Accuracy'></a> \n",
    "## Part 2: Word2Vec Model Accuracy"
   ]
  },
  {
   "cell_type": "markdown",
   "metadata": {},
   "source": [
    "The **Google Analogy Test** is one of the most accepted strategies to evaluate how \"good\" or high quality your model is. The Google Analogy Test includes a series of analogies divided up into 15 subsections, including world capitals, countries’ currencies, family, and a series of syntactic sections such as tense and plurality.  For example, an analogy in the semantic section of World Capitals will include: “Berlin: Germany as Paris: ?” and if the model responds correctly it will return: “France.” An analogy in the semantic section of family will include: “Mother: Father as Daughter: Son.” In the syntax section with tense, a sample analogy might be “Walk: Walked as Run: Ran.”  The Google Analogy test includes a total of 20,000 questions, and accuracy is the proportion of these questions that the model answers correctly. A \"better\" model should answer more questions correctly. As we'll see, this isn't the best measure but it is a good starting point. "
   ]
  },
  {
   "cell_type": "markdown",
   "metadata": {},
   "source": [
    "**Load up a pretrained Word2Vec Model:**\n",
    "\n",
    "*Option 1*: Upload your own saved, trained model you want to evaluate, such as the model you trained above and saved. \n",
    "* Your model should be in your working directory. Your working directory is the folder where this Jupyter notebook is currently saved. Currently, the code assumes that your downloads folder is your working directory."
   ]
  },
  {
   "cell_type": "code",
   "execution_count": 10,
   "metadata": {
    "collapsed": true
   },
   "outputs": [],
   "source": [
    "currentmodel=  Word2Vec.load(\"modelA\") #name of YOUR model here, or file path to your model.\n",
    "\n",
    "#    An example for a PC computer if your model is in your downloads folder, and you're using a model named \"modelA\" \n",
    "#currentmodel=  Word2Vec.load(\"C:/Users/Alina Arseniev/Downloads/modelA\")\n",
    "\n",
    "#   An example for a Mac if your model is in your downloads folder, and you're using a model named \"modelA\" \n",
    "#currentmodel=  Word2Vec.load(\"~/Downloads/modelA\")"
   ]
  },
  {
   "cell_type": "markdown",
   "metadata": {},
   "source": [
    "*Option 2*: Use the Word2Vec model that we used in our paper, and trained on obesity and health related New York Times articles. See our paper for training details. \n",
    "* Download our model, called 'modelA_ALLYEARS_500dim_10CW' from our [OSF](https://osf.io/jvarx/files/), and put it in your working directory. Your working directory is the folder where this Jupyter notebook is currently saved. Currently, the code assumes that your downloads folder is your working directory. "
   ]
  },
  {
   "cell_type": "code",
   "execution_count": null,
   "metadata": {
    "collapsed": true
   },
   "outputs": [],
   "source": [
    "#    An example for a PC computer if your model is in your downloads folder, and you're using a model named \"modelA_ALLYEARS_500dim_10CW\" \n",
    "#currentmodel=  Word2Vec.load(\"C:/Users/Alina Arseniev/Downloads/modelA_ALLYEARS_500dim_10CW\")\n",
    "\n",
    "#   An example for a Mac if your model is in your downloads folder, and you're using a model named \"modelA_ALLYEARS_500dim_10CW\" \n",
    "#currentmodel=  Word2Vec.load(\"~/Downloads/modelA_ALLYEARS_500dim_10CW\")\n",
    "\n",
    "#   Example based on my set-up of folders:\n",
    "currentmodel=  Word2Vec.load(\"Word2VecModels/modelA_ALLYEARS_500dim_10CW\") #load up a trained Word2Vec model. You'll need to tailor this path to your computer"
   ]
  },
  {
   "cell_type": "markdown",
   "metadata": {},
   "source": [
    "*Option 3:* Use a pretrained Word2Vec Model from Google, trained on Google News\n",
    "* Download a pre-trained model on GoogleNews, find link to download on this [site](https://code.google.com/archive/p/word2vec/) or direct link to [download here](https://drive.google.com/file/d/0B7XkCwpI5KDYNlNUTTlSS21pQmM/edit?usp=sharing).\n",
    "* Extract the files, and make sure you have the one called \"GoogleNews-vectors-negative300.bin.gz\" in your working directory. Your working directory is the folder where this Jupyter notebook is currently saved. Currently, the code assumes that your downloads folder is your working directory. \n",
    "* Some of the vocabulary words used in this notebook may not exist, since the vocabulary words used in this notebook were selected based on a model trained on the New York Times, however the code will still run fine. "
   ]
  },
  {
   "cell_type": "code",
   "execution_count": 3,
   "metadata": {
    "collapsed": true
   },
   "outputs": [],
   "source": [
    "#currentmodel = KeyedVectors.load_word2vec_format('GoogleNews-vectors-negative300.bin.gz',limit=500000, binary=True)\n",
    "\n",
    "#   An example for a PC computer if your model is in your downloads folder, and you're using the Google model \n",
    "#currentmodel=  KeyedVectors.load_word2vec_format('C:/Users/Alina Arseniev/Downloads/GoogleNews-vectors-negative300.bin.gz',limit=500000, binary=True)\n",
    "\n",
    "#   An example for a Mac if your model is in your downloads folder, and you're using the Google model \n",
    "currentmodel=  KeyedVectors.load_word2vec_format(\"~/Downloads/GoogleNews-vectors-negative300.bin.gz\", limit=500000, binary=True)\n"
   ]
  },
  {
   "cell_type": "markdown",
   "metadata": {},
   "source": [
    "Now let's look at the model accuracy on the Google Analogy Test:"
   ]
  },
  {
   "cell_type": "code",
   "execution_count": 11,
   "metadata": {},
   "outputs": [
    {
     "name": "stdout",
     "output_type": "stream",
     "text": [
      "Accuracy on world_capitals1: 0.17083333333333334\n",
      "Accuracy on world_capitals2: 0.10599078341013825\n",
      "Accuracy on money: 0.0\n",
      "Accuracy on US_capitals: 0.14737718567860117\n",
      "Accuracy on family: 0.6842105263157895\n",
      "Accuracy on adj_to_adverbs: 0.03676470588235294\n",
      "Accuracy on opposites: 0.0641025641025641\n",
      "Accuracy on comparative: 0.5024630541871922\n",
      "Accuracy on superlative: 0.3646153846153846\n",
      "Accuracy on present_participle: 0.5783475783475783\n",
      "Accuracy on nationality: 0.21580188679245282\n",
      "Accuracy on past_tense: 0.1896551724137931\n",
      "Accuracy on plural: 0.4005681818181818\n",
      "Accuracy on plural_verbs: 0.49603174603174605\n",
      "Accuracy on world_capitals3: 0.3086683015246828\n",
      "\u001b[1mAverage Accuracy: 0.2843620269635861\u001b[0m\n"
     ]
    }
   ],
   "source": [
    "#Make sure you have downloaded three files into your working directory from this from the Github repo https://github.com/arsena-k/Word2Vec-bias-extraction: questions_words_pasted.txt, testing.py, and question-words.txt\n",
    "accuracy=currentmodel.wv.accuracy('questions_words_pasted.txt') \n",
    "\n",
    "accuracy_labels= ['world_capitals1', 'world_capitals2', 'money', 'US_capitals', 'family', 'adj_to_adverbs', 'opposites', 'comparative', 'superlative','present_participle', 'nationality', 'past_tense', 'plural', 'plural_verbs', 'world_capitals3']\n",
    "\n",
    "accuracy_tracker=[]\n",
    "for i in range(0, len(accuracy)):\n",
    "    sum_corr = len(accuracy[i]['correct'])\n",
    "    sum_incorr = len(accuracy[i]['incorrect'])\n",
    "    total = sum_corr + sum_incorr\n",
    "    print(\"Accuracy on \" + str(accuracy_labels[i]) + \": \"  + str(float(sum_corr)/(total)))\n",
    "    accuracy_tracker.append(float(sum_corr)/(total))\n",
    "\n",
    "print('\\033[1m' + \"Average Accuracy: \" + str(mean(accuracy_tracker)) + '\\033[0m')"
   ]
  },
  {
   "cell_type": "markdown",
   "metadata": {},
   "source": [
    "*Notes on the Google Analogy Test:*\n",
    "\n",
    "When originally published, Word2Vec averaged at around 60% across all sections of the Google Analogy Test. Models I've trained on a large news corpus tend to average between 50 and 60%. On smaller coropora, or more heterogenous corpora, accuracy rates might even hover around 0. The Google Analogy test is a useful benchmark, but may be more or less meaningful on different datasets. For example, we might not expect it provide useful infomration on a historical dataset, which contains different language and knoweldge (e.g., some currencies and capitals were likely different at the time the data was produced). For some datasets, it may be useful to select certain sections that are more meaninful than others, such as dropping the section on money for a data set on narratives. \n",
    "\n",
    "Even with low performance on this test, vectors might still contain meaningful, interesting information, but might not be robust or high quality enough for more complex tasks. You can also try tweaking the hyperparameters used to improve performance, especially the dimensionality, context window, and learning architecture. "
   ]
  },
  {
   "cell_type": "markdown",
   "metadata": {},
   "source": [
    "<a id='Results'></a> \n",
    "## Part 3: Explore and Visualize your Word2Vec Model"
   ]
  },
  {
   "cell_type": "markdown",
   "metadata": {},
   "source": [
    "If you're jumping right to here and didn't go though Part 2, look at first few lines of [Part 2](#Accuracy) for help to upload your own trained model or a pre-trained model you want to explore. "
   ]
  },
  {
   "cell_type": "markdown",
   "metadata": {},
   "source": [
    "How many vocabulary words were learned by the model? "
   ]
  },
  {
   "cell_type": "code",
   "execution_count": 12,
   "metadata": {},
   "outputs": [
    {
     "data": {
      "text/plain": [
       "37772"
      ]
     },
     "execution_count": 12,
     "metadata": {},
     "output_type": "execute_result"
    }
   ],
   "source": [
    "len(currentmodel.wv.vocab) "
   ]
  },
  {
   "cell_type": "markdown",
   "metadata": {},
   "source": [
    "Let's look at the raw word-vector for 'woman'. These numbers aren't so meaninful to human readers on their own. "
   ]
  },
  {
   "cell_type": "code",
   "execution_count": 13,
   "metadata": {},
   "outputs": [
    {
     "data": {
      "text/plain": [
       "array([-0.00152551, -0.067729  ,  0.01211709, -0.03653087,  0.00022044,\n",
       "       -0.02658843,  0.00862084, -0.0334955 ,  0.02393037, -0.01564879,\n",
       "       -0.00669363, -0.06314027, -0.00748111, -0.0038565 , -0.0190107 ,\n",
       "        0.02464117,  0.03974345, -0.08420002,  0.03499965,  0.0349176 ,\n",
       "       -0.01366355, -0.02935774,  0.03938886, -0.02170569,  0.05234654,\n",
       "       -0.01799888,  0.00510555, -0.00196211,  0.01873556,  0.05672699,\n",
       "        0.049542  ,  0.07283385,  0.0357939 , -0.03678658,  0.06941744,\n",
       "       -0.03102643,  0.02534407, -0.00442631, -0.0851758 ,  0.00154148,\n",
       "       -0.04401373, -0.04368908, -0.03771379,  0.05098943, -0.08583807,\n",
       "        0.07132836,  0.0220094 ,  0.01978618, -0.02690298, -0.05549569,\n",
       "        0.05456858, -0.02759325, -0.0286409 ,  0.02800755,  0.03665202,\n",
       "        0.01565554,  0.02136677, -0.01187008, -0.03133501,  0.01927512,\n",
       "        0.07147662,  0.05055542,  0.08254378, -0.08065297,  0.03755301,\n",
       "       -0.02037344, -0.04043848, -0.04778407, -0.07425339, -0.08939492,\n",
       "       -0.0393554 , -0.01451063, -0.01365768,  0.05702548, -0.00593295,\n",
       "       -0.01211825, -0.0482267 , -0.07141198,  0.00176243,  0.04166282,\n",
       "       -0.01558219, -0.02381177,  0.0567831 ,  0.01883006,  0.01507362,\n",
       "       -0.02677141, -0.03670702,  0.00749046, -0.0887498 ,  0.02230853,\n",
       "       -0.04770891,  0.02162726, -0.02662062, -0.08245157, -0.05827902,\n",
       "        0.01233103, -0.0324278 ,  0.03181842, -0.02422028, -0.03486248,\n",
       "        0.04356666,  0.06420432,  0.01608389, -0.11072044,  0.082089  ,\n",
       "        0.00680969,  0.04469782, -0.02702851,  0.09168561,  0.0306599 ,\n",
       "       -0.05492471,  0.03828054, -0.04609735,  0.0081985 , -0.02767202,\n",
       "        0.03840019,  0.07007904, -0.0836729 ,  0.04167856,  0.02634003,\n",
       "        0.02496661,  0.03199537,  0.01862216, -0.01201797,  0.04874654,\n",
       "        0.05010767,  0.05144282,  0.02666027,  0.00113906, -0.00345935,\n",
       "        0.04968716,  0.06198241, -0.09171685, -0.01616638,  0.0308561 ,\n",
       "       -0.01958384,  0.06893869, -0.04543981, -0.03453358, -0.03996179,\n",
       "        0.05358364, -0.06287902, -0.01932127,  0.03018893,  0.05885828,\n",
       "       -0.00124181, -0.04602033, -0.00399043, -0.02803751,  0.01752067,\n",
       "        0.04627564, -0.03154635, -0.05403653, -0.00517893,  0.01418919,\n",
       "       -0.03791302,  0.06586993, -0.03222674,  0.02195703, -0.01410617,\n",
       "        0.02678568,  0.00572703,  0.0046978 , -0.04714641, -0.02515386,\n",
       "       -0.01120715,  0.01577048, -0.05610411,  0.00297241, -0.00598361,\n",
       "       -0.01726743, -0.01392764,  0.03433386,  0.0391107 , -0.02876872,\n",
       "        0.03519168, -0.04174637,  0.09061608,  0.03968031, -0.03239108,\n",
       "        0.09499555, -0.00628697, -0.05534369, -0.09102793,  0.02054816,\n",
       "       -0.03072161,  0.02898131, -0.09554084, -0.04291527, -0.02786457,\n",
       "       -0.02225409, -0.00318485,  0.00991002,  0.02067817,  0.06643225,\n",
       "       -0.01025839,  0.02642052, -0.00092003, -0.04902263,  0.0370543 ,\n",
       "       -0.04421175,  0.11744082, -0.01734155,  0.00580576,  0.01325657,\n",
       "       -0.11759394, -0.00188026,  0.0522324 , -0.00300671,  0.01205176,\n",
       "        0.02471292,  0.05364307, -0.05437837, -0.08709689, -0.01839869,\n",
       "        0.05828002, -0.00740389,  0.01030322,  0.06217634,  0.04629879,\n",
       "       -0.00929605,  0.04150714,  0.03113756,  0.00458828, -0.05788194,\n",
       "        0.02030178,  0.04304713, -0.02373569,  0.04090772,  0.07514039,\n",
       "        0.0576775 ,  0.13057055, -0.03455453, -0.06425311, -0.01143859,\n",
       "       -0.00290418,  0.00589458, -0.05509525, -0.03879845, -0.0626279 ,\n",
       "        0.04456621,  0.09898056, -0.08182304,  0.02061214,  0.02464271,\n",
       "       -0.0481915 , -0.00317593, -0.07150967, -0.04657799,  0.03325354,\n",
       "        0.0225654 ,  0.01090011, -0.03957188, -0.01114397,  0.03793748,\n",
       "       -0.03475067, -0.00148947,  0.01162179,  0.00267459,  0.00595274,\n",
       "        0.06020958, -0.05875657, -0.06832352,  0.00566437,  0.01755784,\n",
       "        0.03877714,  0.00322971,  0.01458474,  0.02015595,  0.02551156,\n",
       "       -0.04395716, -0.03068159, -0.06472837, -0.00166384, -0.04119517,\n",
       "        0.04628459, -0.01451196,  0.03932564,  0.05081749,  0.05142619,\n",
       "       -0.03093241,  0.004375  , -0.03979853,  0.06107779, -0.0059    ,\n",
       "        0.02739937, -0.10765501, -0.03993716,  0.07752471, -0.06367996,\n",
       "       -0.01647034,  0.06650874,  0.03994229,  0.04451798,  0.03193938,\n",
       "       -0.0579189 ,  0.00585713,  0.0105139 , -0.05757852,  0.06437648,\n",
       "       -0.06561565,  0.00130694,  0.02249056, -0.03490079, -0.08090356,\n",
       "        0.04196769,  0.05383188, -0.02805609, -0.04076907, -0.01987107,\n",
       "       -0.03421748,  0.12173211, -0.02438603, -0.00618014,  0.05214994,\n",
       "        0.08167983,  0.0073037 ,  0.03766901, -0.03565941,  0.01097639,\n",
       "       -0.10741875, -0.02352711,  0.03928318,  0.03981502,  0.0186488 ,\n",
       "        0.07910507,  0.05950096, -0.00167718,  0.03187963, -0.0327295 ,\n",
       "       -0.05679947,  0.00637596, -0.01729621, -0.04724821,  0.08212934,\n",
       "        0.05522329,  0.01571149,  0.00389963, -0.0531857 ,  0.01228433,\n",
       "       -0.00096847, -0.01608381,  0.08947821,  0.08344375, -0.02340822,\n",
       "        0.00533126, -0.05647529,  0.06232247,  0.00887786, -0.06761281,\n",
       "        0.02655778, -0.01083383, -0.08812823, -0.09445979,  0.04585949,\n",
       "       -0.08092614,  0.11609714,  0.02945684,  0.03005345, -0.03415956,\n",
       "       -0.04967599,  0.00117688,  0.03450374,  0.01973291,  0.01023497,\n",
       "       -0.08873324, -0.04967392, -0.00691538, -0.02269284, -0.06584287,\n",
       "        0.02436538,  0.00110738,  0.01927713,  0.01776881, -0.03518933,\n",
       "        0.00997888, -0.02014756, -0.06116714,  0.05004708,  0.04997035,\n",
       "       -0.0597048 , -0.02948315,  0.01903064,  0.05330189, -0.00025983,\n",
       "        0.03527522, -0.00105177,  0.01905173, -0.01676415, -0.00995881,\n",
       "        0.02102806, -0.03346462,  0.036406  ,  0.04836496,  0.07728014,\n",
       "        0.05289008, -0.00107946, -0.00646632, -0.03203238,  0.03099451,\n",
       "       -0.08677574,  0.03736037,  0.0947663 ,  0.02250865, -0.01280108,\n",
       "        0.05369791,  0.04085556,  0.00262572,  0.03070474, -0.02659187,\n",
       "        0.05465344,  0.02194472, -0.00287379,  0.04615181, -0.04116199,\n",
       "       -0.01853796, -0.01162861,  0.06412821, -0.00735143,  0.05607707,\n",
       "        0.02910999, -0.09041905, -0.0018365 , -0.03853535,  0.00420958,\n",
       "        0.00326749, -0.02396158, -0.00789929,  0.00737989,  0.08286104,\n",
       "        0.05967025,  0.04617565, -0.00957213, -0.06189381,  0.0325723 ,\n",
       "        0.01684733, -0.07552533,  0.01393505,  0.04846947, -0.04963905,\n",
       "       -0.01429943,  0.03693325, -0.03566343,  0.00908052, -0.00023696,\n",
       "        0.05932226, -0.0538234 , -0.01055414, -0.01701791,  0.04999505,\n",
       "        0.02679552,  0.05810149,  0.0449    , -0.03595685,  0.00218171,\n",
       "        0.03092729, -0.09570143,  0.00161416, -0.04919658, -0.00035952,\n",
       "        0.00933453,  0.01463568,  0.00765309, -0.10860116,  0.01501987,\n",
       "       -0.02934193, -0.01475441,  0.00345747, -0.0024916 , -0.00435203,\n",
       "        0.00584106,  0.04316827, -0.03569183, -0.02965285, -0.0256367 ,\n",
       "        0.03148536,  0.04878504, -0.07438106,  0.00333587,  0.03223972,\n",
       "       -0.03474477, -0.02274739, -0.0030985 ,  0.01348281,  0.01626015,\n",
       "       -0.04520051, -0.0224376 , -0.00264522, -0.03397699,  0.00432484,\n",
       "        0.01758048, -0.04158984,  0.02384255,  0.04051154,  0.02553191,\n",
       "       -0.03021236, -0.00665762, -0.05071094,  0.14825892,  0.00589741],\n",
       "      dtype=float32)"
      ]
     },
     "execution_count": 13,
     "metadata": {},
     "output_type": "execute_result"
    }
   ],
   "source": [
    "currentmodel.wv['woman']"
   ]
  },
  {
   "cell_type": "markdown",
   "metadata": {},
   "source": [
    "What are the most similar words to \"woman\"? What are the cosine simiarlties? \n",
    "\n",
    "* Cosine Similarity ranges 0-1 here, with 0 corresponding to two words that share NOTHING in common, and 1 suggesting they are the exact same meaning. For a review on cosine similarity for word-vector models, see this [article](http://blog.christianperone.com/2013/09/machine-learning-cosine-similarity-for-vector-space-models-part-iii/). \n",
    "* Surprised that a word like \"man\" is so similar to \"woman\"? While these two are opposites in terms of gender, otherwise they correpond to largely the same meaning (adults, humans, singular, nouns, etc.), so they should be very similar and close in space. "
   ]
  },
  {
   "cell_type": "code",
   "execution_count": 15,
   "metadata": {},
   "outputs": [
    {
     "data": {
      "text/plain": [
       "[('woman', 0.6531707048416138),\n",
       " ('homeless_man', 0.5453686714172363),\n",
       " ('teenager', 0.5071998238563538),\n",
       " ('burglar', 0.5017118453979492),\n",
       " ('police_officer', 0.49689239263534546),\n",
       " ('suspect', 0.48839688301086426),\n",
       " ('robber', 0.484153151512146),\n",
       " ('elderly_woman', 0.48218661546707153),\n",
       " ('elderly_man', 0.4733884930610657),\n",
       " ('guy', 0.47192686796188354)]"
      ]
     },
     "execution_count": 15,
     "metadata": {},
     "output_type": "execute_result"
    }
   ],
   "source": [
    "currentmodel.wv.most_similar('man', topn=10) "
   ]
  },
  {
   "cell_type": "markdown",
   "metadata": {},
   "source": [
    "Calculate cosine similarity of two words specifically"
   ]
  },
  {
   "cell_type": "code",
   "execution_count": 16,
   "metadata": {},
   "outputs": [
    {
     "name": "stdout",
     "output_type": "stream",
     "text": [
      "0.653170645236969\n"
     ]
    }
   ],
   "source": [
    "print(1 - spatial.distance.cosine(currentmodel.wv['woman'], currentmodel.wv['man'])) "
   ]
  },
  {
   "cell_type": "markdown",
   "metadata": {},
   "source": [
    "Which words are FARTHEST from big? Doesn't work so well, results aren't usually meaninful. This shows how distance as can break down as a meaningful measure in this model compared to our intuitions.  "
   ]
  },
  {
   "cell_type": "code",
   "execution_count": 18,
   "metadata": {},
   "outputs": [
    {
     "data": {
      "text/plain": [
       "[('serves_as', 0.2748149037361145),\n",
       " ('establishes', 0.2663033604621887),\n",
       " ('investigates', 0.2612169086933136),\n",
       " ('represents', 0.2565020024776459),\n",
       " ('blesses', 0.25381165742874146),\n",
       " ('delves_into', 0.25145989656448364),\n",
       " ('discovers', 0.24424442648887634),\n",
       " ('examines', 0.24389733374118805),\n",
       " ('introduces', 0.24260950088500977),\n",
       " ('restores', 0.23993462324142456)]"
      ]
     },
     "execution_count": 18,
     "metadata": {},
     "output_type": "execute_result"
    }
   ],
   "source": [
    "currentmodel.wv.most_similar(negative=['big']) "
   ]
  },
  {
   "cell_type": "markdown",
   "metadata": {},
   "source": [
    "Let's try some tricks:"
   ]
  },
  {
   "cell_type": "markdown",
   "metadata": {},
   "source": [
    "Let's ask our model to solve the anaology, man is to king as woman is to ? \n",
    "\n",
    "Specifically, we ask the model to find the word-vector that is most similar to the vector leftover from the vector algebra: king + woman - man\n",
    "\n",
    "Another way to think about our expected relationship is:\n",
    "* A queen is a *feminine* king. \n",
    "* If we take *woman* and subtract *man*, we get just the parts that about being feminine, since we subtracted out parts that are shared between men and woman (e.g., being a human, adult, noun, singular, etc.). \n",
    "* If we take away the masculinity from king (subtract man), and add the femininity (add woman), we get the feminine version of a king- a queen! \n",
    "\n",
    "If you're model doesn't solve this correctly, try a few other tricks to see if it gets those."
   ]
  },
  {
   "cell_type": "code",
   "execution_count": 19,
   "metadata": {},
   "outputs": [
    {
     "name": "stdout",
     "output_type": "stream",
     "text": [
      "[('queen', 0.4291844069957733), ('king_jr', 0.37477171421051025), ('king_archive', 0.33501002192497253), ('duchess', 0.32694119215011597), ('princess', 0.32376158237457275), ('prince_george', 0.3227635622024536), ('royalty', 0.3190450966358185), ('napoleon', 0.29717525839805603), ('maid', 0.2942931056022644), ('england', 0.29373669624328613)]\n"
     ]
    }
   ],
   "source": [
    "print(currentmodel.wv.most_similar(positive=['woman', 'king'], negative=['man'])) #man:king as woman:_?___ QUEEN! "
   ]
  },
  {
   "cell_type": "markdown",
   "metadata": {},
   "source": [
    "Try another analogy: boy is to man as girl is to? "
   ]
  },
  {
   "cell_type": "code",
   "execution_count": 20,
   "metadata": {},
   "outputs": [
    {
     "name": "stdout",
     "output_type": "stream",
     "text": [
      "[('boy', 0.561177670955658), ('guy', 0.45864051580429077), ('boyfriend', 0.3834514319896698), ('girls', 0.3818017244338989), ('kid', 0.3705102205276489), ('little_girl', 0.36146965622901917), ('witch', 0.35749614238739014), ('teen', 0.3504459261894226), ('girlfriend', 0.35019850730895996), ('roommate', 0.34854060411453247)]\n"
     ]
    }
   ],
   "source": [
    "print(currentmodel.wv.most_similar(positive=['girl', 'man'], negative=['woman'])) #boy:man as girl:_?___ WOMAN!"
   ]
  },
  {
   "cell_type": "markdown",
   "metadata": {},
   "source": [
    "A trickier trick! Can Word2Vec which word doesn't match? It should be able to tell based on which word has the lowest cosine similarity to all the other words. "
   ]
  },
  {
   "cell_type": "code",
   "execution_count": 22,
   "metadata": {},
   "outputs": [
    {
     "data": {
      "text/plain": [
       "'turkey'"
      ]
     },
     "execution_count": 22,
     "metadata": {},
     "output_type": "execute_result"
    }
   ],
   "source": [
    "currentmodel.wv.doesnt_match(\"noodle chicken turkey beef\".split()) #does it get that noodle is not a meat?"
   ]
  },
  {
   "cell_type": "code",
   "execution_count": 23,
   "metadata": {},
   "outputs": [
    {
     "data": {
      "text/plain": [
       "'toe'"
      ]
     },
     "execution_count": 23,
     "metadata": {},
     "output_type": "execute_result"
    }
   ],
   "source": [
    "currentmodel.wv.doesnt_match(\"tomato potato toe\".split()) #does it get that a toe is not a fruit or veggie?"
   ]
  },
  {
   "cell_type": "markdown",
   "metadata": {},
   "source": [
    "Let's look at the most \"feminine\" and \"masculine\" words\n",
    "\n",
    "*Like how we asked Word2Vec to solve the anaology of king and queen, we're going to isolate gender. \n",
    "*If we take woman and subtract man, we get just the parts that about being feminine, since we subtracted out parts that are shared between men and woman (e.g., being a human, adult, noun, singular, etc.). Now we're asking what are the most similar words to this leftover vector, that represents femininity?"
   ]
  },
  {
   "cell_type": "code",
   "execution_count": 24,
   "metadata": {},
   "outputs": [
    {
     "name": "stdout",
     "output_type": "stream",
     "text": [
      "[('women', 0.3602128028869629), ('womens', 0.24320009350776672), ('nurse', 0.23806288838386536), ('her', 0.23180055618286133), ('fertility_info', 0.22839266061782837), ('latina', 0.22273997962474823), ('duchess_kate', 0.21750208735466003), ('breastfeeding', 0.21749240159988403), ('pregnant', 0.21658951044082642), ('hijab', 0.2139395773410797)]\n"
     ]
    }
   ],
   "source": [
    "print(currentmodel.wv.most_similar(positive=['woman'], negative=['man'], topn=10)) #what are the most feminine words?"
   ]
  },
  {
   "cell_type": "code",
   "execution_count": 25,
   "metadata": {},
   "outputs": [
    {
     "name": "stdout",
     "output_type": "stream",
     "text": [
      "[('evil_dead', 0.24408866465091705), ('clone_wars', 0.22030557692050934), ('hank_williams', 0.22014063596725464), ('scarface', 0.21485590934753418), ('power_rangers', 0.21122783422470093), ('sims', 0.21017327904701233), ('bringing_back', 0.20878630876541138), ('karate_kid', 0.20842358469963074), ('batman_vs', 0.20791248977184296), ('magnificent_seven', 0.20622223615646362)]\n"
     ]
    }
   ],
   "source": [
    "print(currentmodel.wv.most_similar(positive=['man'], negative=['woman'], topn=10)) #what are the most masculine words?"
   ]
  },
  {
   "cell_type": "markdown",
   "metadata": {},
   "source": [
    "**Visualize Word-Vector Neighborhoods**"
   ]
  },
  {
   "cell_type": "markdown",
   "metadata": {},
   "source": [
    "Try visualizing a set of words:"
   ]
  },
  {
   "cell_type": "code",
   "execution_count": 33,
   "metadata": {
    "collapsed": true
   },
   "outputs": [],
   "source": [
    "#review of tsne: http://scikit-learn.org/stable/modules/generated/sklearn.manifold.TSNE.html\n",
    "#modified code from https://www.kaggle.com/jeffd23/visualizing-word-vectors-with-t-sne/code\n",
    "\n",
    "#define code to visualize word-vectors in 2-D version of the 500-d space\n",
    "def tsne_plot(words, vectors, iterations, seed, title): \n",
    "    \"Creates and TSNE model and plots it\"\n",
    "    tsne_model = TSNE(perplexity=5, n_components=2, init='pca', n_iter=iterations, random_state=seed) #you may need to tune these, epsecially the perplexity. #Use PCA to reduce dimensionality to 2-D, an \"X\" and a \"Y \n",
    "    new_values = tsne_model.fit_transform(vectors)\n",
    "\n",
    "    x = []\n",
    "    y = []\n",
    "    for value in new_values:\n",
    "        x.append(value[0])\n",
    "        y.append(value[1])\n",
    "        \n",
    "    plt.figure(figsize=(10, 10)) \n",
    "    for i in range(len(x)):\n",
    "        plt.scatter(x[i],y[i])\n",
    "        plt.annotate(words[i],\n",
    "                     xy=(x[i], y[i]),\n",
    "                     xytext=(5, 2),\n",
    "                     textcoords='offset points',\n",
    "                     ha='right',\n",
    "                     va='bottom')\n",
    "    plt.ylabel(\"Latent Dimension 1\") #Some pyplot reminders: https://matplotlib.org/users/pyplot_tutorial.html\n",
    "    plt.xlabel(\"Latent Dimension 2\")\n",
    "    plt.title(title)\n",
    "    plt.show()"
   ]
  },
  {
   "cell_type": "code",
   "execution_count": 45,
   "metadata": {},
   "outputs": [],
   "source": [
    "my_word_list=[]\n",
    "my_word_vectors=[]\n",
    "label=[]\n",
    "\n",
    "words_to_explore= ['woman', 'man', 'queen', 'king', 'human', 'person', 'girl', 'child', 'boy', 'salad', 'lettuce', 'tomato', 'soup', 'turnip', 'arugula', 'pepper', 'greens', 'barley', 'bean', 'stew', 'carrot']\n",
    "\n",
    "for i in words_to_explore:   \n",
    "    try:\n",
    "        if my_word_list not in my_word_list:\n",
    "            my_word_vectors.append(currentmodel.wv[i])\n",
    "            my_word_list.append(i)\n",
    "    except KeyError: #if one of the words_to_explore is not in the model vocab, just skip it\n",
    "        continue"
   ]
  },
  {
   "cell_type": "code",
   "execution_count": 46,
   "metadata": {},
   "outputs": [
    {
     "data": {
      "image/png": "[encoded data removed]",
      "text/plain": [
       "<matplotlib.figure.Figure at 0x1f9ac1705f8>"
      ]
     },
     "metadata": {},
     "output_type": "display_data"
    }
   ],
   "source": [
    "tsne_plot(my_word_list, my_word_vectors, 3000, 23,  \"TSNE Visualization of Word-Vectors\") #don't use too many words, won't finish running"
   ]
  },
  {
   "cell_type": "markdown",
   "metadata": {},
   "source": [
    "Try visualizing the most feminine and most masculine words:"
   ]
  },
  {
   "cell_type": "code",
   "execution_count": 47,
   "metadata": {
    "collapsed": true
   },
   "outputs": [],
   "source": [
    "my_word_list=[]\n",
    "my_word_vectors=[]\n",
    "label=[]\n",
    "\n",
    "for i in currentmodel.wv.most_similar(positive=['woman'], negative=['man'], topn=30):   #30 most feminine words\n",
    "    if my_word_list not in my_word_list:\n",
    "        my_word_list.append(i[0])\n",
    "        my_word_vectors.append(currentmodel.wv[i[0]])\n",
    "        label.append('fem')\n",
    "\n",
    "for i in currentmodel.wv.most_similar(positive=['man'], negative=['woman'], topn=30):   #30 most masculine words\n",
    "    if my_word_list not in my_word_list:\n",
    "        my_word_list.append(i[0])\n",
    "        my_word_vectors.append(currentmodel.wv[i[0]])\n",
    "        label.append('masc')"
   ]
  },
  {
   "cell_type": "code",
   "execution_count": 48,
   "metadata": {},
   "outputs": [
    {
     "data": {
      "image/png": "[encoded data removed]",
      "text/plain": [
       "<matplotlib.figure.Figure at 0x1f92254d2b0>"
      ]
     },
     "metadata": {},
     "output_type": "display_data"
    }
   ],
   "source": [
    "tsne_plot(my_word_list, my_word_vectors, 3000, 23,  \"TSNE Visualization of Word-Vectors\") #don't use too many words, won't finish running"
   ]
  },
  {
   "cell_type": "markdown",
   "metadata": {},
   "source": [
    "If your plot doesn't look meaningful, want to see how robust the patterns are, or you want to understand TSNE better, try tuning parameters (especially the perplexity) and take a look at this great [article](https://distill.pub/2016/misread-tsne/)."
   ]
  },
  {
   "cell_type": "code",
   "execution_count": null,
   "metadata": {
    "collapsed": true
   },
   "outputs": [],
   "source": []
  }
 ],
 "metadata": {
  "kernelspec": {
   "display_name": "Python 3",
   "language": "python",
   "name": "python3"
  },
  "language_info": {
   "codemirror_mode": {
    "name": "ipython",
    "version": 3
   },
   "file_extension": ".py",
   "mimetype": "text/x-python",
   "name": "python",
   "nbconvert_exporter": "python",
   "pygments_lexer": "ipython3",
   "version": "3.6.7"
  }
 },
 "nbformat": 4,
 "nbformat_minor": 1
}
