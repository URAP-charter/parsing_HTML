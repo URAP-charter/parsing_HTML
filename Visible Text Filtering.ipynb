{
 "cells": [
  {
   "cell_type": "code",
   "execution_count": 84,
   "metadata": {},
   "outputs": [],
   "source": [
    "from bs4 import BeautifulSoup\n",
    "from bs4.element import Comment\n",
    "import urllib\n",
    "import urllib.request\n",
    "import re  \n",
    "\n",
    "def tag_visible(element):\n",
    "    if element.parent.name in ['style', 'script', 'head', 'title', 'meta', '[document]']:\n",
    "        return False\n",
    "    if isinstance(element, Comment):\n",
    "        return False\n",
    "    return True\n",
    "\n",
    "def text_from_html(body):\n",
    "    soup = BeautifulSoup(body, 'html.parser')\n",
    "    texts = soup.findAll(text=True)\n",
    "    visible_texts = filter(tag_visible, texts)  \n",
    "    return u\" \".join(t.strip() for t in visible_texts)\n",
    "\n",
    "keywords = [\"values\", \"positive\", \"academics\", \"skills\", \"perseverance\", 'purpose', 'direction', 'mission',' vision', 'vision:', 'mission:', 'our purpose', 'our ideals', 'ideals:', 'our cause', 'curriculum', 'curricular', 'method', 'pedagogy', 'pedagogical', 'approach', 'model', 'system', 'structure', 'philosophy', 'philosophical', 'beliefs', 'believe', 'principles', 'creed', 'credo', 'Values',  'moral', 'history', 'our story', 'the story', 'school story', 'background', 'founding', 'founded', 'established', 'establishment', 'our school began', 'we began', 'doors opened', 'school opened']  \n",
    "\n",
    "def rawwebsitetext(urlstring):\n",
    "    with urllib.request.urlopen(urlstring) as url:\n",
    "        s = url.read()\n",
    "    string = (text_from_html(s))\n",
    "    return re.split(r'\\s{3,}', string)"
   ]
  },
  {
   "cell_type": "code",
   "execution_count": 85,
   "metadata": {
    "scrolled": true
   },
   "outputs": [
    {
     "data": {
      "text/plain": [
       "['',\n",
       " 'Skip to Main Content',\n",
       " 'District Home',\n",
       " 'Select a School...',\n",
       " 'Select a School',\n",
       " 'Ashbrook High School  H.H. Beam Elementary School  W.B. Beam Intermediate School  Belmont Central Elementary School  Belmont Middle School  W.A. Bess Elementary School  Bessemer City Primary School  Bessemer City Central Elementary School  Bessemer City Middle School  Bessemer City High School  Brookside Elementary School  Carr Elementary School  Catawba Heights Elementary School  Chapel Grove Elementary School  John Chavis Middle School  Cherryville Elementary School  Cherryville High School  Costner Elementary School  Stuart W. Cramer High School  Cramerton Middle School  East Gaston High School  Forestview High School  W.C. Friday Middle School  Gardner Park Elementary School  Gaston Early College High School  Grier Middle School  Hawks Nest STEAM Academy  Highland School of Technology  Holbrook Middle School  Hunter Huss High School  Kiser Elementary School  Lingerfeldt Elementary School  Lowell Elementary School  McAdenville Elementary School  Mount Holly Middle School  New Hope Elementary School  North Belmont Elementary School  North Gaston High School  Page Primary School  Pinewood Elementary School  Pleasant Ridge Elementary School  Rankin Elementary School  Robinson Elementary School  Sadler Elementary School  Sherwood Elementary School  South Point High School  Southwest Middle School  Springfield Elementary School  Stanley Middle School  Tryon Elementary School  Warlick Academy  Webb Street School  Woodhill Elementary School  York Chester Middle School',\n",
       " 'Sign In',\n",
       " 'District Home  Employees  Transcripts  Jobs  Departments',\n",
       " 'Translate',\n",
       " 'South Point High School',\n",
       " 'OUR SCHOOLS',\n",
       " 'About Us',\n",
       " 'Principal  Assistant Principals  Staff Directory  History  Mission and Vision  School Improvement Team  Teacher Recognition  NC School Report Card  NC School Report Card Snapshot (English)  NC School Report Card Snapshot (Spanish)',\n",
       " 'School Counseling',\n",
       " 'Departments',\n",
       " 'Career and Technical Education  Media Center  Pride of the Tribe Marching Band',\n",
       " 'Parents',\n",
       " 'Forms and Policies  School Documents  Fundraising and Social Media  Parent Portal  PTA',\n",
       " 'Clubs',\n",
       " 'Student Council  Beta Club (9th and 10th grades)  National Honor Society  (11th and 12th grades)  National Vocational Honor Society  Curriculum-Based Clubs  Competition Clubs  Service and Outreach Clubs',\n",
       " 'Athletics',\n",
       " 'Athletic Director  Athletic Photos  Head Coaches  Fall Sports and Schedules  Winter Sports and Schedules  Calendar  Academic Recognition  Big Red Booster Club  Marching Band',\n",
       " 'South Point High School',\n",
       " \"Our School's Vision South Point High School will be recognized for excellence in student achievement, the application of best practices, outstanding personnel and quality facilities. Parental involvement in our school and collaboration with local partnerships will reflect a strong community value for education. This vision will prepare our students for life and work in the 21st century.  Our School’s Purpose The purpose of South\\xa0Point High School is to provide high quality instruction that will support\\xa0exemplary learning ensuring the highest achievement for all students. By\\xa0creating partnerships between teachers, administrators, parents and members of\\xa0the community, we will prepare our students for college and careers.\",\n",
       " 'Our School’s Direction The direction of\\xa0South Point High School is to provide exemplary instruction, guidance, and\\xa0leadership that will support student centered learning, ensure the highest\\xa0level of achievement for all students, and prepare them for a global society.',\n",
       " 'To lead us toward our purpose and\\xa0direction, our school community shares the following beliefs:',\n",
       " \"Student learning is\\xa0the chief priority for our school.\\xa0To support our school’s\\xa0direction, we will continually seek to improve instructional delivery methods\\xa0for our students.\\xa0Students will be\\xa0provided with a variety of instructional approaches to support their individual\\xa0learning styles.  A variety of\\xa0extracurricular activities will promote well rounded students.  Teachers,\\xa0administrators, staff, parents and community share the responsibility for\\xa0advancing the school's direction in an ethical manner.  Students share the\\xa0responsibility of their learning with their teachers, counselors,administrators and parents.  South Point graduates\\xa0will become productive, successful citizens of a global economy through\\xa0multiple and diverse student-centered learning experiences.\",\n",
       " 'South Point High School  Gary Ford, Principal 906 South Point Road Belmont, NC 28012  704-836-9612',\n",
       " 'Legal/ADA Information',\n",
       " 'Top',\n",
       " 'User Options',\n",
       " 'Sign In  Register  Site Manager  Edit Account Settings  Sign Out',\n",
       " 'Home of the Red Raiders',\n",
       " 'Site Map',\n",
       " 'Questions or Feedback? |  Blackboard Web Community Manager Privacy Policy (Updated) |  Terms of Use',\n",
       " 'Copyright © 2002-2017 Blackboard, Inc. All rights reserved.',\n",
       " 'CLOSE',\n",
       " 'CLOSE',\n",
       " '']"
      ]
     },
     "execution_count": 85,
     "metadata": {},
     "output_type": "execute_result"
    }
   ],
   "source": [
    "rawwebsitetext(\"https://www.gaston.k12.nc.us/domain/1064\")"
   ]
  },
  {
   "cell_type": "code",
   "execution_count": 93,
   "metadata": {},
   "outputs": [],
   "source": [
    "def filterwebsite(urlstring):\n",
    "    with urllib.request.urlopen(urlstring) as url:\n",
    "        s = url.read()\n",
    "\n",
    "    string = (text_from_html(s))\n",
    "    stringList = re.split(r'\\s{3,}', string)\n",
    "    validcharacters = [' ', '.', '?']\n",
    "    filteredtext = []  \n",
    "    \n",
    "    for string in stringList:\n",
    "        lowercasestring = string.lower()\n",
    "        for key in keywords:\n",
    "            if key in lowercasestring:\n",
    "                if key in lowercasestring.split(' '): #check that the word is the whole word not part of another one\n",
    "                    filteredtext.extend([string])\n",
    "\n",
    "    filteredtext = list(set(filteredtext))\n",
    "    finaltext = []\n",
    "    for x in filteredtext:\n",
    "        finaltext.append(x.replace('\\xa0', \" \"))\n",
    "    return finaltext"
   ]
  },
  {
   "cell_type": "code",
   "execution_count": 94,
   "metadata": {},
   "outputs": [
    {
     "data": {
      "text/plain": [
       "[\"Our School's Vision South Point High School will be recognized for excellence in student achievement, the application of best practices, outstanding personnel and quality facilities. Parental involvement in our school and collaboration with local partnerships will reflect a strong community value for education. This vision will prepare our students for life and work in the 21st century.  Our School’s Purpose The purpose of South Point High School is to provide high quality instruction that will support exemplary learning ensuring the highest achievement for all students. By creating partnerships between teachers, administrators, parents and members of the community, we will prepare our students for college and careers.\",\n",
       " 'To lead us toward our purpose and direction, our school community shares the following beliefs:',\n",
       " 'Principal  Assistant Principals  Staff Directory  History  Mission and Vision  School Improvement Team  Teacher Recognition  NC School Report Card  NC School Report Card Snapshot (English)  NC School Report Card Snapshot (Spanish)',\n",
       " 'Our School’s Direction The direction of South Point High School is to provide exemplary instruction, guidance, and leadership that will support student centered learning, ensure the highest level of achievement for all students, and prepare them for a global society.',\n",
       " \"Student learning is the chief priority for our school. To support our school’s direction, we will continually seek to improve instructional delivery methods for our students. Students will be provided with a variety of instructional approaches to support their individual learning styles.  A variety of extracurricular activities will promote well rounded students.  Teachers, administrators, staff, parents and community share the responsibility for advancing the school's direction in an ethical manner.  Students share the responsibility of their learning with their teachers, counselors,administrators and parents.  South Point graduates will become productive, successful citizens of a global economy through multiple and diverse student-centered learning experiences.\"]"
      ]
     },
     "execution_count": 94,
     "metadata": {},
     "output_type": "execute_result"
    }
   ],
   "source": [
    "filterwebsite(\"https://www.gaston.k12.nc.us/domain/1064\")"
   ]
  },
  {
   "cell_type": "code",
   "execution_count": null,
   "metadata": {},
   "outputs": [],
   "source": []
  },
  {
   "cell_type": "code",
   "execution_count": null,
   "metadata": {
    "collapsed": true
   },
   "outputs": [],
   "source": []
  }
 ],
 "metadata": {
  "kernelspec": {
   "display_name": "Python 3",
   "language": "python",
   "name": "python3"
  },
  "language_info": {
   "codemirror_mode": {
    "name": "ipython",
    "version": 3
   },
   "file_extension": ".py",
   "mimetype": "text/x-python",
   "name": "python",
   "nbconvert_exporter": "python",
   "pygments_lexer": "ipython3",
   "version": "3.6.1"
  }
 },
 "nbformat": 4,
 "nbformat_minor": 2
}
