{
 "cells": [
  {
   "cell_type": "code",
   "execution_count": 2,
   "metadata": {},
   "outputs": [],
   "source": [
    "import csv\n",
    "import pandas as pd\n",
    "import os\n",
    "import re\n",
    "\n",
    "import math\n",
    "from tqdm import tqdm\n",
    "import multiprocessing as mp\n",
    "import time\n",
    "import sched\n",
    "import ast\n",
    "import collections\n",
    "\n",
    "import numpy as np\n",
    "from itertools import groupby\n",
    "\n",
    "\n",
    "folder_prefix = '/home/jovyan/work/'"
   ]
  },
  {
   "cell_type": "code",
   "execution_count": null,
   "metadata": {},
   "outputs": [],
   "source": []
  },
  {
   "cell_type": "markdown",
   "metadata": {},
   "source": [
    "replace unicode spaces with actual \n",
    "\n",
    "bunch of junk words in text in WEBTEXT, \n",
    "\n",
    "using word_embedding script and the expanded stop word list on yoon's notebook\n",
    "\n",
    "create a funciton that takes in a string\n",
    "\t- replace unicode spaces with actual space\n",
    "\t- numbers, \n",
    "\t- \"/\" \"-\"\n",
    "\t\n",
    "-data exploration, bar charts, word cloud\n",
    "\n",
    "take in a string and return a \n"
   ]
  },
  {
   "cell_type": "markdown",
   "metadata": {},
   "source": [
    "Look at ping on basecamp\n",
    "re.split('\\W+|_', p)"
   ]
  },
  {
   "cell_type": "code",
   "execution_count": 5,
   "metadata": {},
   "outputs": [],
   "source": [
    "cleaned_df = pd.read_pickle(folder_prefix + 'nowdata/charters_2015.pkl')"
   ]
  },
  {
   "cell_type": "code",
   "execution_count": null,
   "metadata": {},
   "outputs": [],
   "source": []
  }
 ],
 "metadata": {
  "kernelspec": {
   "display_name": "Python 3",
   "language": "python",
   "name": "python3"
  },
  "language_info": {
   "codemirror_mode": {
    "name": "ipython",
    "version": 3
   },
   "file_extension": ".py",
   "mimetype": "text/x-python",
   "name": "python",
   "nbconvert_exporter": "python",
   "pygments_lexer": "ipython3",
   "version": "3.6.3"
  }
 },
 "nbformat": 4,
 "nbformat_minor": 2
}
