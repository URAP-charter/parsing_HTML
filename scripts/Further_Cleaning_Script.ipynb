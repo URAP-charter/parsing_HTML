{
 "cells": [
  {
   "cell_type": "code",
   "execution_count": 11,
   "metadata": {},
   "outputs": [],
   "source": [
    "import csv\n",
    "import pandas as pd\n",
    "import os\n",
    "import re\n",
    "\n",
    "import math\n",
    "from tqdm import tqdm\n",
    "import multiprocessing as mp\n",
    "import time\n",
    "import sched\n",
    "import ast\n",
    "import collections\n",
    "import datetime\n",
    "\n",
    "\n",
    "import numpy as np\n",
    "from itertools import groupby\n",
    "from sklearn.feature_extraction import text\n",
    "import nltk\n",
    "from nltk.corpus import stopwords\n",
    "\n",
    "\n",
    "folder_prefix = '/home/jovyan/work/'"
   ]
  },
  {
   "cell_type": "code",
   "execution_count": 13,
   "metadata": {},
   "outputs": [
    {
     "name": "stdout",
     "output_type": "stream",
     "text": [
      "[nltk_data] Downloading package stopwords to /home/jovyan/nltk_data...\n",
      "[nltk_data]   Unzipping corpora/stopwords.zip.\n"
     ]
    },
    {
     "data": {
      "text/plain": [
       "True"
      ]
     },
     "execution_count": 13,
     "metadata": {},
     "output_type": "execute_result"
    }
   ],
   "source": [
    "nltk.download('stopwords')"
   ]
  },
  {
   "cell_type": "markdown",
   "metadata": {},
   "source": [
    "replace unicode spaces with actual \n",
    "\n",
    "bunch of junk words in text in WEBTEXT, \n",
    "\n",
    "using word_embedding script and the expanded stop word list on yoon's notebook\n",
    "\n",
    "create a funciton that takes in a string\n",
    "\t- replace unicode spaces with actual space\n",
    "\t- numbers, \n",
    "\t- \"/\" \"-\"\n",
    "\t\n",
    "-data exploration, bar charts, word cloud\n",
    "\n",
    "take in a string and return a \n"
   ]
  },
  {
   "cell_type": "markdown",
   "metadata": {},
   "source": [
    "Look at ping on basecamp\n",
    "re.split('\\W+|_', p)"
   ]
  },
  {
   "cell_type": "code",
   "execution_count": 3,
   "metadata": {},
   "outputs": [],
   "source": [
    "cleaned_df = pd.read_pickle(folder_prefix + 'nowdata/charters_final_2015.pkl')"
   ]
  },
  {
   "cell_type": "code",
   "execution_count": 18,
   "metadata": {},
   "outputs": [],
   "source": [
    "string = cleaned_df['CMO_WEBTEXT'][39][0][3]"
   ]
  },
  {
   "cell_type": "code",
   "execution_count": 14,
   "metadata": {},
   "outputs": [],
   "source": [
    "stop_word_list = list(set(stopwords.words('english')))\n",
    "#long list of manual addition to stopwords:\n",
    "for i in range(1,13):\n",
    "    stop_word_list.append(datetime.date(2008, i, 1).strftime('%B'))\n",
    "for i in range(1,13):\n",
    "    stop_word_list.append((datetime.date(2008, i, 1).strftime('%B')).lower())\n",
    "for i in range(1, 2100):\n",
    "    stop_word_list.append(str(i))\n",
    "stop_word_list.append('00')\n",
    "stop_word_list.append('el')\n",
    "stop_word_list.append('en')\n",
    "stop_word_list.append('la')\n",
    "stop_word_list.append('los')\n",
    "stop_word_list.append('para')\n",
    "stop_word_list.append('las')\n",
    "stop_word_list.append('san')\n",
    "stop_word_list.append('mr')\n",
    "stop_word_list.append('mrs')\n",
    "stop_word_list.append('sa')\n",
    "stop_word_list.append('angeles')\n",
    "stop_word_list.append('diego')\n",
    "stop_word_list.append('california')\n",
    "stop_word_list.append('york')\n",
    "stop_word_list.append('fax')\n",
    "stop_word_list.append('email')\n",
    "stop_word_list.append('phone')\n",
    "stop_word_list.append('harlem')\n",
    "stop_word_list.append('bronx')\n",
    "stop_word_list.append('wi')\n",
    "stop_word_list.append('pm')\n",
    "stop_word_list.append('org')\n",
    "stop_word_list.append('city')\n",
    "stop_word_list.append('austin')\n",
    "stop_word_list.append('antonio')\n",
    "stop_word_list.append('texas')\n",
    "#adding states abbreviations for stopwords\n",
    "states = [\"AL\", \"AK\", \"AZ\", \"AR\", \"CA\", \"CO\", \"CT\", \"DC\", \"DE\", \"FL\", \"GA\", \n",
    "          \"HI\", \"ID\", \"IL\", \"IN\", \"IA\", \"KS\", \"KY\", \"LA\", \"ME\", \"MD\", \n",
    "          \"MA\", \"MI\", \"MN\", \"MS\", \"MO\", \"MT\", \"NE\", \"NV\", \"NH\", \"NJ\", \n",
    "          \"NM\", \"NY\", \"NC\", \"ND\", \"OH\", \"OK\", \"OR\", \"PA\", \"RI\", \"SC\", \n",
    "          \"SD\", \"TN\", \"TX\", \"UT\", \"VT\", \"VA\", \"WA\", \"WV\"]\n",
    "for state in states:\n",
    "          stop_word_list.append(state)\n",
    "for state in [state.lower() for state in states]:\n",
    "          stop_word_list.append(state)\n",
    "stop_words_extra = text.ENGLISH_STOP_WORDS.union(stop_word_list) #we have text.English stopwords and nltk's english stop words"
   ]
  },
  {
   "cell_type": "code",
   "execution_count": 68,
   "metadata": {},
   "outputs": [],
   "source": [
    "unicode_list  = []\n",
    "for i in range(1000,1100):\n",
    "    unicode_list.append(chr(i))"
   ]
  },
  {
   "cell_type": "code",
   "execution_count": 96,
   "metadata": {},
   "outputs": [],
   "source": [
    "def clean_string(string, stop_words_extra, unicode_list): #I don't split up a string into words\n",
    "    s = re.sub(r\"\\\\x.*|\\\\u.*|\\\\b.*|-|\\u2605$\", \"\", string.replace(u\"\\xa0\", u\" \").replace(u\"\\\\t\", u\" \").strip(\" \"))\n",
    "    \n",
    "    #s = ''.join([c for c in s if c not in unicode_list])\n",
    "    #s = s.encode('ascii', errors='ignore').encode(\"utf-8\")\n",
    "    s = re.sub(r'[^\\x00-\\x7f]',r'', s) #got rid of hex character like \\xa0\\ adn a\\x80\n",
    "    s = re.sub(r'|'.join(map(re.escape, unicode_list)), '', s) #should remove unicode unicode\n",
    "    s = s.encode(\"utf-8\").decode(\"utf-8\").replace(u\"\\u2022\", \"*\")\n",
    "    li_text = []\n",
    "    for word in re.split('\\n|\\t|\\*|\\r', s): #'\\W+|_' removes punctuation which we don't want\n",
    "        if ((word not in (stop_words_extra)) and (not s.isdigit())):\n",
    "            li_text.append(word)\n",
    "    s = ' '.join(li_text)\n",
    "    return s"
   ]
  },
  {
   "cell_type": "code",
   "execution_count": 97,
   "metadata": {},
   "outputs": [
    {
     "data": {
      "text/plain": [
       "'     Center for Academic Success:  K12     Higher Standards.  Higher Expectations. Menu Home About CAS FAQs School Calendar 201819 Breakfast & Lunch Menus School Wellness Policy Parents Right to KnowTeacher Qulifications Proposed Budget FY 2019 Budget Adoption Hearing Notice Sierra Vista Campus SV Elementary School SV Middle School SV High School A+ Anywhere Login SV Administration Douglas Campus Douglas Elementary School Douglas Middle School Douglas High School Douglas Administration Board of Directors Forms & Resources Parent/Student Handbook  Elementary/Middle School Parent/Student Handbook  High School Transcript / Diploma Request New Student Applications Returning Student Application PowerSchool Login Tax Credit 2017 Before & After Care Clubs High School Club Schedule CyberPatriots Solar GoKart Team Employment Apply Now Contact Us     Higher Standards.  Higher Expectations.    Get Ready! School Starts August 8th! Mark your calendars for the first day of school on Wednesday, August 8th!  201819 School Calendars are available on our website here.  We will be holding our annual Open House for parents and students on August 6th from 3:006:00pm.  Families may drop by at any time during the Open House to meet their students teachers,  Read More A CAS Youth Theater Presentation Come see the CAS Youth Theater presentation of Fighting for Myself. A FREE play, (13+ show) with donations accepted for Cochise Family Advocacy Center: Loris Place. Food and Drinks provided. CAS Cafeteria, Thursday May 24th, Doors open at 5:45. Summer School Registration is Now Open The 2018 Center for Academic Success Summer Enrichment Program is a FREE full day program, taught by Highly Qualified Teachers and Paraprofessionals with the support of trained Student Interns.  Mornings will be filled with academically based activities in Mathematics, Reading, and Writing, and afternoons will be packed with enrichment classes and clubs such as Arts  Read More The Wizard of Oz and Toto, Too Due to Spring Break, and needing a bit more practice, we are changing the date of the production. We will be bumping the play to the following Thursday, March 29th, from 6:00 to 8:00 PM. Thank you for understanding, Toto really appreciates it, bark bark! Solar Go Kart Team Stars in Documentary Check out this behind the scenes look at our 201718 Solar Go Kart Team in action! (Film credit goes to local business sponsor Arizona Electric Power Cooperative ) 2nd Graders S.T.E.A.M. Up! at the High School High School Science Teacher, Ms. Doran, and 2nd Grade Teacher, Ms. Engols, have put their heads together to create a special Friday program called STEAM Up! for 2nd graders who have completed all of their work for the week.  The name of the program is a play on the acronym for Science, Technology, Engineering, Art,  Read More Posts navigation Older posts Sierra Vista Campus 900 Carmelita Drive  Sierra Vista, AZ 85635 (520) 4584200 MF 7:00 am  5:30 pm Douglas Campus 510 G Ave.  Douglas, AZ 85607 (520) 3642616 MF 7:00 am  5:30 pm Follow Us Facebook Twitter Notice of Accessibility Center for Academic Success, Inc., wherever possible, ensures that all its electronic online materials are accessible to and usable by disabled persons.  If you find that information here is not accessible to you, please email webmaster@cpiccas.org or call (520) 4393541, and we will provide you with that material in a format that is accessible to you. A WordPress.com Website .               Post to Cancel   Privacy & Cookies: This site uses cookies. By continuing to use this website, you agree to their use.  To find out more, including how to control cookies, see here:      Cookie Policy  '"
      ]
     },
     "execution_count": 97,
     "metadata": {},
     "output_type": "execute_result"
    }
   ],
   "source": [
    "clean_string(string, stop_words_extra,unicode_list ) #is the lower_case ok?\n",
    "#also a lot of menu header, are broken apart, so we have things like \n",
    "#menu home cas faqs school calendar breakfast lunch menus school wellness policy \n",
    "#so there isn't an idea of sentence here"
   ]
  },
  {
   "cell_type": "code",
   "execution_count": 98,
   "metadata": {},
   "outputs": [
    {
     "data": {
      "text/plain": [
       "'\\t\\t\\t\\t\\tCenter for Academic Success:  K-12\\t\\t\\t\\t\\nHigher Standards.  Higher Expectations.\\nMenu\\nHome\\nAbout CAS\\nFAQs\\nSchool Calendar 2018-19\\nBreakfast & Lunch Menus\\nSchool Wellness Policy\\nParentâ\\x80\\x99s Right to Know-Teacher Qulifications\\nProposed Budget FY 2019\\nBudget Adoption Hearing Notice\\nSierra Vista Campus\\nSV Elementary School\\nSV Middle School\\nSV High School\\nA+ Anywhere Login\\nSV Administration\\nDouglas Campus\\nDouglas Elementary School\\nDouglas Middle School\\nDouglas High School\\nDouglas Administration\\nBoard of Directors\\nForms & Resources\\nParent/Student Handbook â\\x80\\x93 Elementary/Middle School\\nParent/Student Handbook â\\x80\\x93 High School\\nTranscript / Diploma Request\\nNew Student Applications\\nReturning Student Application\\nPowerSchool Login\\nTax Credit 2017\\nBefore & After Care Clubs\\nHigh School Club Schedule\\nCyberPatriots\\nSolar Go-Kart Team\\nEmployment\\nApply Now\\nContact Us\\n\\t\\t\\t\\tHigher Standards.  Higher Expectations.\\t\\t\\t\\nGet Ready! School Starts August 8th!\\nMark your calendars for the first day of school on Wednesday, August 8th!\\xa0 2018-19 School Calendars are available on our website here.\\xa0 We will be holding our annual Open House for parents and students on August 6th from 3:00-6:00pm.\\xa0 Families may drop by at any time during the Open House to meet their studentsâ\\x80\\x99 teachers,â\\x80¦ \\nRead More\\nA CAS Youth Theater Presentation\\nCome see the CAS Youth Theater presentation of Fighting for Myself. A FREE play, (13+ show) with donations accepted for Cochise Family Advocacy Center: Loriâ\\x80\\x99s Place. Food and Drinks provided. CAS Cafeteria, Thursday May 24th, Doors open at 5:45.\\nSummer School Registration is Now Open\\nThe 2018 Center for Academic Success Summer Enrichment Program is a FREE full day program, taught by Highly Qualified Teachers and Paraprofessionals with the support of trained Student Interns.\\xa0 Mornings will be filled with academically based activities in Mathematics, Reading, and Writing, and afternoons will be packed with enrichment classes and clubs such as Artsâ\\x80¦ \\nRead More\\nThe Wizard of Oz and Toto, Too\\nDue to Spring Break, and needing a bit more practice, we are changing the date of the production. We will be bumping the play to the following Thursday, March 29th, from 6:00 to 8:00 PM. Thank you for understanding, Toto really appreciates\\xa0it, bark bark!\\nSolar Go Kart Team Stars in Documentary\\nCheck out this behind the scenes look at our 2017-18 Solar Go Kart Team in action! (Film credit goes to local business sponsor Arizona Electric Power Cooperative\\xa0)\\n2nd Graders S.T.E.A.M. Up! at the High School\\nHigh School Science Teacher, Ms. Doran, and 2nd Grade Teacher, Ms. Engols, have put their heads together to create a special Friday program called STEAM Up! for 2nd graders who have completed all of their work for the week.\\xa0 The name of the program is a play on the acronym for â\\x80\\x9cScience, Technology, Engineering, Art,â\\x80¦ \\nRead More\\nPosts navigation\\nOlder posts\\nSierra Vista Campus\\n900 Carmelita Drive\\r\\nSierra Vista, AZ 85635\\n(520) 458-4200\\nM-F 7:00 am - 5:30 pm\\nDouglas Campus\\n510 G Ave.\\r\\nDouglas, AZ 85607\\n(520) 364-2616\\nM-F 7:00 am - 5:30 pm\\nFollow Us\\nFacebook\\nTwitter\\nNotice of Accessibility\\nCenter for Academic Success, Inc., wherever possible, ensures that all its electronic online materials are accessible to and usable by disabled persons.\\xa0 If you find that information here is not accessible to you, please email webmaster@cpic-cas.org or call (520) 439-3541, and we will provide you with that material in a format that is accessible to you.\\nA WordPress.com Website\\n.\\t\\t\\t\\t\\t\\t\\t\\t\\t\\t\\t\\t\\t\\t\\nPost to\\nCancel\\n\\t\\tPrivacy & Cookies: This site uses cookies. By continuing to use this website, you agree to their use. \\nTo find out more, including how to control cookies, see here:\\t\\t\\n\\t\\t\\tCookie Policy\\t\\t'"
      ]
     },
     "execution_count": 98,
     "metadata": {},
     "output_type": "execute_result"
    }
   ],
   "source": [
    "string "
   ]
  },
  {
   "cell_type": "code",
   "execution_count": 99,
   "metadata": {},
   "outputs": [
    {
     "data": {
      "text/plain": [
       "'Email:  ccenrollment@bfcsaz.com  Phone: (480) 9870722 Gilbert Campus  Val Vista & Ray Email:  gcenrollment@bfcsaz.com  Phone: (480) 6320722 Power Campus  Power & Chandler Heights Email:  pcenrollment@bfcsaz.com  Phone: (480) 6778400 BFHS  Germann & Rittenhouse Email:  hsenrollment@bfcsaz.com  Phone: (480) 5581197         Enroll Today!     Follow these easy steps to start the process to be part of the Benjamin Franklin family: Complete this PreEnrollment Application Wait for your chosen campus(es) to contact you. Explore our website if you havent already! Please note that this application is for the PreEnrollment process only. Completion of this form does not guarantee enrollment. Quick Links       Home School News Calendar Links for Parents   Family Link JH/HS Parent Handbook K6 Parent Handbook What is a Charter School? Our Stories Enrollment Information Schedule a Tour Charger Voice Athletics Photo Galleries Employment Contact Us News & Announcements Subscribe Summer Break! Read More View All News         Facebook     Benjamin Franklin Charter School K12 Events Jul  24                     First Day of School                 View All Events Next events arrow Previous events arrow Calendar < Go to previous month > Go to next month Sun Mon Tue Wed Thu Fri Sat ICal View All Events         Our Mission     The mission of Benjamin Franklin Charter School is to offer a wellrounded education with proven superior academics, exceptional programs, timehonored values, and a high level of parental participation. Benjamin Franklin Charter School, Educating Arizona...One Student at a Time TM .  Benjamin Franklin Charter School                                                            690 E Warner Rd                                                               Gilbert, AZ 85295                              Stay Connected CMS Login             Facebook             Instagram             Twitter             YouTube             Intranet                                   2018 Copyright '"
      ]
     },
     "execution_count": 99,
     "metadata": {},
     "output_type": "execute_result"
    }
   ],
   "source": [
    "clean_string(cleaned_df['CMO_WEBTEXT'][123][0][3], stop_words_extra, unicode_list ) #is the lower_case ok?"
   ]
  },
  {
   "cell_type": "code",
   "execution_count": 100,
   "metadata": {},
   "outputs": [
    {
     "data": {
      "text/plain": [
       "'Email: \\nccenrollment@bfcsaz.com\\n\\rPhone: (480) 987-0722\\nGilbert Campus\\n\\rVal Vista & Ray\\nEmail: \\ngcenrollment@bfcsaz.com\\n\\rPhone: (480) 632-0722\\nPower Campus\\n\\rPower & Chandler Heights\\nEmail: \\npcenrollment@bfcsaz.com\\n\\rPhone: (480) 677-8400\\nBFHS\\n\\rGermann & Rittenhouse\\nEmail: \\nhsenrollment@bfcsaz.com\\n\\rPhone: (480) 558-1197\\n        Enroll Today!    \\nFollow these easy steps to start the process to be part of the Benjamin Franklin family:\\nComplete this\\xa0Pre-Enrollment Application\\nWait for your chosen campus(es) to contact you.\\nExplore our website if you havenâ\\x80\\x99t already!\\nPlease note that this application is for the Pre-Enrollment process only. Completion of this form does not guarantee enrollment.\\nQuick Links\\r\\t\\t\\t\\t\\t\\nHome\\nSchool News\\nCalendar\\nLinks for Parents  \\nFamily Link\\nJH/HS Parent Handbook\\nK-6 Parent Handbook\\nWhat is a Charter School?\\nOur Stories\\nEnrollment Information\\nSchedule a Tour\\nCharger Voice\\nAthletics\\nPhoto Galleries\\nEmployment\\nContact Us\\nNews & Announcements\\nSubscribe\\nSummer Break!\\nRead More\\nView All News\\n        Facebook    \\nBenjamin Franklin Charter School K-12\\nEvents\\nJul\\n 24\\n                    First Day of School                \\nView All Events\\nNext events arrow\\nPrevious events arrow\\nCalendar\\n<\\nGo to previous month\\nJuly\\n>\\nGo to next month\\nSun\\nMon\\nTue\\nWed\\nThu\\nFri\\nSat\\n24\\n25\\n26\\n27\\n28\\n29\\n30\\n1\\n2\\n3\\n4\\n5\\n6\\n7\\n8\\n9\\n10\\n11\\n12\\n13\\n14\\n15\\n16\\n17\\n18\\n19\\n20\\n21\\n22\\n23\\n24\\n25\\n26\\n27\\n28\\n29\\n30\\n31\\n1\\n2\\n3\\n4\\nICal\\nView All Events\\n        Our Mission    \\nThe mission of Benjamin Franklin Charter School is to offer a well-rounded education with proven superior academics, exceptional programs, time-honored values, and a high level of parental participation.\\nBenjamin Franklin Charter School, Educating Arizona...One Student at a Time\\nTM\\n.\\xa0\\nBenjamin Franklin Charter School \\r                        \\n\\r                                690 E Warner Rd\\r                            \\n\\r                                Gilbert, AZ 85295\\r                            \\nStay Connected\\nCMS Login            \\nFacebook            \\nInstagram            \\nTwitter            \\nYouTube            \\nIntranet            \\n\\r                    Â© 2018 Copyright\\r                '"
      ]
     },
     "execution_count": 100,
     "metadata": {},
     "output_type": "execute_result"
    }
   ],
   "source": [
    "cleaned_df['CMO_WEBTEXT'][123][0][3]"
   ]
  },
  {
   "cell_type": "code",
   "execution_count": 102,
   "metadata": {},
   "outputs": [
    {
     "data": {
      "text/plain": [
       "'icopa Survey Leading Edge Academy Online Survey Enroll Now! Click here to Enroll Leading Edge Academy is a network of K12 Tuitionfree Charter Schools with campuses throughout the valley.  Were proud to offer advanced academics and character development in a technologyenriched environment. Please have a look around to learn about the various campuses and programs that are a part of the Leading Edge Academy Network! A glimpse of what youll find:   Tuition Free   K12   Small Class Sizes   Advanced Academics   Free Full Day Kindergarten   Gilbert, Mesa, Queen Creek, and Maricopa Campuses   Online Academy In accordance with Federal Law, Leading Edge Academy does not discriminate on the basis of race, religion, color, national origin, sex, or disability.                  2018 Leading Edge Academy         Home Staff Enrollment Contact Employment'"
      ]
     },
     "execution_count": 102,
     "metadata": {},
     "output_type": "execute_result"
    }
   ],
   "source": [
    "clean_string(cleaned_df['CMO_WEBTEXT'][905][0][3], stop_words_extra, unicode_list) #is the lower_case ok?"
   ]
  },
  {
   "cell_type": "code",
   "execution_count": null,
   "metadata": {},
   "outputs": [],
   "source": []
  }
 ],
 "metadata": {
  "kernelspec": {
   "display_name": "Python 3",
   "language": "python",
   "name": "python3"
  },
  "language_info": {
   "codemirror_mode": {
    "name": "ipython",
    "version": 3
   },
   "file_extension": ".py",
   "mimetype": "text/x-python",
   "name": "python",
   "nbconvert_exporter": "python",
   "pygments_lexer": "ipython3",
   "version": "3.6.3"
  }
 },
 "nbformat": 4,
 "nbformat_minor": 2
}
