{
 "cells": [
  {
   "cell_type": "code",
   "execution_count": 51,
   "metadata": {},
   "outputs": [],
   "source": [
    "import pandas as pd\n",
    "import ast\n",
    "\n",
    "folder_prefix = '/home/jovyan/work/'"
   ]
  },
  {
   "cell_type": "code",
   "execution_count": 2,
   "metadata": {},
   "outputs": [],
   "source": [
    "parsed_df_8 = pd.read_csv(folder_prefix + \"nowdata/parsing/parsed_df_8.csv\", sep=\"\\t\", low_memory=False, encoding=\"utf-8\")"
   ]
  },
  {
   "cell_type": "code",
   "execution_count": 3,
   "metadata": {},
   "outputs": [],
   "source": [
    "parsed_df_7 = pd.read_csv(folder_prefix + \"nowdata/parsing/parsed_df_7.csv\", sep=\"\\t\", low_memory=False, encoding=\"utf-8\")"
   ]
  },
  {
   "cell_type": "code",
   "execution_count": 4,
   "metadata": {},
   "outputs": [],
   "source": [
    "parsed_df_8['WEBTEXT'] = parsed_df_8['WEBTEXT'].apply(ast.literal_eval)"
   ]
  },
  {
   "cell_type": "code",
   "execution_count": 7,
   "metadata": {},
   "outputs": [
    {
     "data": {
      "text/plain": [
       "[('http://www.lighthouse-academies.org/schools/cclcs/',\n",
       "  'False',\n",
       "  '0',\n",
       "  \"LRAFB, AR  72099\\nNorth Little Rock\\nPine Bluff\\nEast Chicago\\nGary\\nIndianapolis\\nBronx\\nMap\\nConnect with Us\\nSign up for E-Newsletter\\nLHA Connect\\nGet Involved\\nNews\\nContact\\nTerms of Use\\nSearch\\nSearch\\nSearch\\nOur Schools\\nArkansas\\nCapital City\\nJacksonville\\nJacksonville College Prep Academy\\nJLCS Flightline Upper Academy\\nPine Bluff\\nIndiana\\nEast Chicago\\nGary Primary Academy (K-2)\\nGary Upper Academy (3-7)\\nIndianapolis College Prep: South Campus\\nIndianapolis Lighthouse - East\\nIndianapolis: South Campus\\nLighthouse College Prep Academy\\nNew York\\nBronx\\nBronx College Prep\\nMet CPA\\nMetropolitan\\nCapital City Lighthouse Charter School\\n\\r\\t\\tAt Lighthouse Academies, we prepare our scholars through rigorous programs that provide them with a foundation that will allow them to succeed in and graduate from college. Our unique arts-infused curriculum, emphasis on social development and integration of diverse cultural opportunities augments learning and broadens horizons.\\r\\nAR State-Required Information\\n\\rCapital City Dyslexia Report 2016-2017:\\r\\nCapital City screened 141 scholars for Dyslexia and 46 received interventions. There were no scholars identified with Dyslexia.\\nAbout\\nDocuments & Links\\nSchool Leaders\\nApply\\nContact\\nAbout\\nQuick Facts\\nNumber of Scholars:\\r\\t\\t\\t205\\t\\t\\nGrades:\\r\\t\\t\\tK-7\\t\\t\\nDate Opened:\\r\\t\\t\\t\\nAugust 17, 2015\\nPrincipal:\\r\\t\\t\\tAmanda Crowder- Interim Principal\\t\\t\\nFeatures\\nSTEAM (Science, Technology, Engineering, Arts, Math) Education Model\\nArts-infused approach to Instruction\\nCeramics\\nMandarin Chinese\\nDance\\nChoir\\nSocial and Emotional Development and Engagement\\nMore Time on Instruction: Longer School Day and Year\\nCollege Focus\\nMonthly Family Saturdays\\nFree Transportation\\nExtended Learning Program (afterschool tutoring)\\nGifted and Talented Program\\nAnnual Events\\nFall Festival\\nBook Fair\\nPicture Day and Yearbook\\nWinter Pajama Day\\nSpring Cardinal Fest\\nSpirit Week\\nStorybook Character Day\\nScholars of the Week and Hour of Power\\nPromotion Ceremonies\\nGrandparents Day\\nEnd of Year Field Lessons\\nExtracurricular Activities\\nCapital City ShowStoppers\\nDrama Club\\nArt Club\\nJournalism Club\\nCreative Writing Club\\nBoys Scouts\\nPartnerships\\nNorth Little Rock Chamber of Commerce\\nLondon Bridges Child Care, Inc.\\nBoys Scouts of America\\nThe G.O.O.D. Barbers\\nDREAM\\nNAACP\\nCarmell's Daycare\\nAnnouncements\\nNo School\\n\\rGood Morning Capital City Lighthouse Families,\\r\\rDue to an electrical outage in the area, Capital City Lighthouse has been canceled for today, Tuesday, May 1st. All scholars who rode the bus have been fed breakfast and will be returning home via bus. Parents please make sure you are available to receive your scholar. School will resume on Wednesday, May 2nd at the normal scheduled time. If you have any questions please contact the school at (501) 607-4639.\\r\\nAttention Parents: Records Destruction,\\xa0June 2019\\n\\rThe Lighthouse Academies of Arkansas will be destroying the unclaimed Special Education records for students who exited Special Education Services in this district between 2013 and 2014 on or after August 31, 2014. Lighthouse Academies will be sending out letters of notification to parents/guardians or former students last known address. If you do not receive a letter and think that you might have records that would be available for claiming, please contact the Special Education Office.\\r\\r\\xa0\\r\\nENROLLING NOW all Grades K-7. Contact the school at 501-313-2901 for more information or apply online at www.lighthouse-academies.org.\\n\\rAccreditation Status 2016-2017- Accredited\\r\\rCapital City Lighthouse is a Title I School wide school campus for grades K-6\\r\\rCapital City Lighthouse CPA (7-12) Academy is applying for Title I School Wide for the 18-19 School Year.\\r\\rCapital City Lighthouse Grade 7-12 is a targeted assistance campus.\\r\\rCheck out the new website for the \\nGifted and Talented Program\\nInclement Weather Policy:\\r\\rIf NLRSD closes due to bad weather, then our school will also close. In the event that weather conditions become hazardous during the school day, our school will follow the NLRSD early dismissal time or advise otherwise using the school's electronic notification system (phone call or text alert).\\r\\rHow to Apply\\r\\nApply\\n online for 2018 - 2019 school year\\nApply in person at Capital City Lighthouse Charter School front office: 3901 Virginia Drive, NLR, AR 501-313-2901 (o)\\nCalendar\\nMay 2018\\n25th-Early Dismissal\\n28th-No School (Memorial Day)\\nDownload: Lighthouse of Arkansas District Calendar SY 17 18 revised\\n\\r\\t\\t\\t#iChoose campaign!\\t\\t\\nDocuments & Links\\nLatest Documents\\nAR State Required Information\\nUSDA Nondiscrimination Statement\\nAdmin/Teacher Salary & Benefits 2016-17\\nCommunity Eligibility Provision\\nCapital City Wellness Policy\\nPersonnel Policies\\nLAA LACA LAPB Personnel Policies 2016-17\\nOther Plans and Policies\\ncapital-city-lighthouse-charter-schools-district-pi-plan-16-17\\nEmployee Contracts\\nfy-comp-policy-final-cclcs\\nUncategorized\\nCCLCS School Supply List 2017-18\\nFY18 CCLCS Certified Salaries\\nScholar Family Handbooks\\n20172018NetworkHandbook__3_\\n2017 2018 Network Handbook\\nCCLCS Addendum 2017-18 updated\\nStudent Applications\\nCCLCS Student Application 2018-19 Spanish\\nCCLCS Student Application 2018-19\\nMenus\\nCCLCS Lunch April Breakfast Menu\\nCCLCS Lunch April Lunch Menu\\nLinks\\nHome Access Center (HAC)\\nGifted and Talented Program\\nDepartment of Education: NCLB\\nBoard of Directors Agendas and Minutes\\nDocument Archive\\nAR State Required Information\\n2017-18\\nCommunity Eligibility Provision\\nCapital City Wellness Policy\\nCapital City Wellness Policy\\n2016-17\\nUSDA Nondiscrimination Statement\\nAdmin/Teacher Salary & Benefits 2016-17\\nAnnual Reports\\n2017-18\\n2017_2018 JLCS and CCLCS Annual Report Lighthouse Academies\\nEmployee Contracts\\n2016-17\\nfy-comp-policy-final-cclcs\\nEvents\\n2015-16\\nCCLCS Ribbon Cutting Invitation\\nMI Transparency Reporting\\n2015-16\\nFY Comp Policy Final (2)\\nMenus\\n2017-18\\nMeun Cap City Breakfast\\nMeun Cap City Lunch\\nCCLCS Lunch April Breakfast Menu\\nCCLCS Lunch April Lunch Menu\\nNewsletters\\n2015-16\\nCCLCS. Newsletter. No. 1_15_16\\nOther Plans and Policies\\n2016-17\\ncapital-city-lighthouse-charter-schools-district-pi-plan-16-17\\n2015-16\\nCCLCS Signature Page\\nPolicies\\n2015-16\\nCCLCS  Parent Involvement Plan  15_16\\nScholar Family Handbooks\\nCCLCS Scholar Handbook 15-16_Final 7.24.15\\n2017-18\\n20172018NetworkHandbook__3_\\nCCLCS Addendum 2017-18 (edit)\\nCCLCS Addendum 2017-18\\n2017 2018 Network Handbook\\nCCLCS Addendum 2017-18 updated\\n2016-17\\nHanbook addendum-arkansas_-cclcs\\n2015-16\\nCCLCS 2015_16 Scholar and Family Handbook\\nSchool Calendars\\n2016-17\\nArkansas LHCS Calendar SY 16 17\\nSchool Supply List\\n2016-17\\nCCLCS  School Supply List  2016\\n2015-16\\nCCLCS. Supply List and Uniform Prices.15_16\\nStudent Applications\\n2016-17\\nCCLCS Student Application 2016-17\\n2015-16\\nCCLCS Student Application 2015-16\\nCCLCS Student Application 2015-16\\nUncategorized\\nCCLCS School Supply List 2017-18\\nSchool Leaders\\nAmanda Crowder\\nInterim Principal\\namanda.crowder@arkansas.lha.net\\nCharneise Turner\\nManager of Operations\\ncharneise.turner@capitalcity.lha.net\\nApply\\nBecome a Lighthouse Academy Student\\nDiscover, achieve and prepare for success in college and beyond. We will prepare your student academically, socially and culturally to succeed in and graduate from college. \\xa0We will develop your student’s critical decision-making skills to prepare him/her for success in life. \\xa0Lighthouse Academies offers small schools, small class sizes, longer school year, and longer school day so we can provide students with a high quality education. Don’t wait – apply now to transform your child’s future!\\nApply to enroll online »\\nDownload: CCLCS Student Application 2018-19\\nDownload: CCLCS Student Application 2018-19 Spanish\\nJoin Our Team\\nAre you fearless, driven and forward-thinking? We need people who want to teach, lead and transform the lives of our students.\\xa0We need people who share our passion for creativity and innovation.\\xa0We are committed to developing the capacity of our staff with 20 professional days each year, individual coaching and collaboration.\\xa0Join us in transforming children’s futures.\\nImmediate Position Opening\\nSubstitute Teachers\\nApply for a position »\\nContact\\nCapital City Lighthouse Charter School\\n\\r\\t\\t\\t\\t\\t3901 Virginia Drive, North Little Rock, AR 72118, USA\\t\\t\\t\\t\\n34.7913437\\r\\t\\t\\t\\t\\t\\n-92.2922668\\r\\t\\t\\t\\t\\nTel:\\r\\t\\t\\t\\t\\t\\n(501) 313-2901 \\r\\t\\t\\t\\t\\n\\r\\t\\t\\t\\t\\tFax:\\r\\t\\t\\t\\t\\t\\n(501) 313-2910\\r\\t\\t\\t\\t\\n\\r\\t\\t\\t\\t\\tEmail: \\ninfo-cclcs@lhacs.org\\nSend Us a Message\\nName \\n*\\nEmail \\n*\\nMessage \\n*\\nDirections »\\n©\\r\\t\\t\\t\\t\\t\\t2018 Lighthouse Academies, Inc.\\n\\r\\t\\t\\t\\t\\t\\tAll rights reserved.\\r\\t\\t\\t\\t\\t\")]"
      ]
     },
     "execution_count": 7,
     "metadata": {},
     "output_type": "execute_result"
    }
   ],
   "source": [
    "parsed_df_8['WEBTEXT'][2]"
   ]
  },
  {
   "cell_type": "code",
   "execution_count": 13,
   "metadata": {},
   "outputs": [],
   "source": [
    "parsed_df_7['WEBTEXT'] = parsed_df_7['WEBTEXT'].apply(ast.literal_eval)"
   ]
  },
  {
   "cell_type": "code",
   "execution_count": 25,
   "metadata": {},
   "outputs": [
    {
     "data": {
      "text/plain": [
       "('https://www.lifeskillshs.com/news/a-response-from-our-founder-david-brennan-to-the-plain-dealer-article-on-white-hat-management.html',\n",
       " 'False',\n",
       " '1',\n",
       " 'High School Diploma vs. GED\\nFaculty & Classrooms\\nOne on One Learning\\nIndividualized Education\\nFlexibility for Students\\nWhat is Life Skills\\r\\t\\t\\t  \\nLearn More\\nBeyond the Classroom\\nPath to Success\\nPlanning Your Future\\nStudent Success\\r\\t\\t\\t  \\nRead Stories\\nCareer Direction\\nInterview Preparation\\nHigher Education Assistance\\nCareer Certifications\\nLocations\\nCareers\\nNews & Events\\nStudent Portal\\nEmployee Portal\\nContact Us\\nNotice & Policies\\nNews\\nRequest  Information\\nStudent Success\\nRead Stories\\nA Response From Our Founder David Brennan to the Plain Dealer article on White Hat Management\\nDear Editor,\\n\\rFormer Plain Dealer editorial director Brent Larkin recently authored a commentary bashing White Hat Management and Ohio House Speaker William Batchelder.\\nA good commentator is obligated to substantiate his or her claims. Larkin attacks the integrity of Speaker Batchelder, who has honorably served his constituents and all Ohioans throughout his remarkable legislative career. The fact that Larkin doesn’t share the Speaker’s views on education policy does not justify a personal attack on such a dedicated public servant.\\nLarkin goes on to attack White Hat Management’s performance with unsubstantiated claims that our Life Skills dropout recovery schools are “crappy” and that they have “already failed” Ohio’s youth, which couldn’t be further from the truth.\\nFrom their inception in 1999 to this past January, Life Skills has proudly graduated more than 12,000 young people through its dropout and prevention programs. According to experts on the value of a high school diploma, these 12,000 Life Skills graduates potentially add $150 million -- approximately $12,500 each – annually to our economy. Compare that to the annual cost (approximately $40 million) of operating our Life Skills High Schools and it’s clear that funding our program represents a tremendous “bang for the buck” for Ohio taxpayers.\\nI suspect there are many people throughout Ohio who scratch their heads every time Mr. Larkin launches one of his personal attacks against a committed public servant. Perhaps an equal number do so when he just can’t seem to get his facts right about Ohio-based companies who are making great strides to help Ohio’s public school students.\\nSincerely,\\n\\rDavid L. Brennan\\n\\rFounding Chairman\\n\\rWhite Hat Management\\nRequest Information\\nFirst Name *\\nLast Name *\\nEmail *\\nPhone *\\nZip *\\nCity *\\nState *\\nArizona\\nColorado\\nOhio\\nSchool Interested In\\nLife Skills High School of Arizona Ground\\nLife Skills High School of Cincinnati\\nLife Skills High School of Cleveland\\nLife Skills High School of Colorado Springs\\nLife Skills High School of Columbus North\\nLife Skills High School of Columbus Southeast\\nLife Skills High School of Dayton\\nLife Skills High School of Elyria\\nLife Skills High School of North Akron\\nLife Skills High School of Northeast Ohio\\nLife Skills High School of Toledo\\nLife Skills High School of Youngstown\\nSubmit\\nLOCATIONS\\nFIND YOUR FREEDOM\\nLife Skills has locations in Ohio, Arizona and Colorado.\\nFind a Location\\nYou Can Do It.\\nYou can earn your high school diploma and we’re here to help you make your academic goals into reality. Learn more about how Life Skills High School can give you the support you need to succeed.\\nEnroll\\nRequest Info\\nAbout Us\\nEarn Your Diploma\\nFlexibility for Students\\nPlanning Your Future\\nLocations\\nCareers\\nNews & Events\\nStudent Portal\\nEmployee Portal\\nContact Us\\nNotice & Policies\\n©2016 All Rights Reserved. Life Skills \\nPrivacy Policy\\n. Designed & Developed by \\nUpward Brand Interactions')"
      ]
     },
     "execution_count": 25,
     "metadata": {},
     "output_type": "execute_result"
    }
   ],
   "source": [
    "parsed_df_7['WEBTEXT'][900][0]"
   ]
  },
  {
   "cell_type": "code",
   "execution_count": 23,
   "metadata": {},
   "outputs": [
    {
     "data": {
      "text/plain": [
       "0       [(https://www.aaechighschools.com/public-chart...\n",
       "1       [(https://www.aaechighschools.com/public-chart...\n",
       "2       [(https://www.aaechighschools.com/public-chart...\n",
       "3       [(https://www.aaechighschools.com/public-chart...\n",
       "4       [(https://www.aaechighschools.com/index.php, F...\n",
       "5       [(https://www.aaechighschools.com/index.php, F...\n",
       "6                                                      []\n",
       "7       [(http://www.aspirapa.org/hostos/hostos-inform...\n",
       "8             [(http://www.somersetkey.com/, False, 0, )]\n",
       "9             [(http://www.somersetkey.com/, False, 0, )]\n",
       "10         [(http://www.keywestacademy.org/, False, 0, )]\n",
       "11         [(http://www.keywestacademy.org/, False, 0, )]\n",
       "12          [(http://www.somersetdavie.com/, False, 0, )]\n",
       "13          [(http://www.somersetdavie.com/, False, 0, )]\n",
       "14      [(http://www.somersetacademy-jacksonville.org/...\n",
       "15      [(http://www.somersetacademy-jacksonville.org/...\n",
       "16                                                     []\n",
       "17                                                     []\n",
       "18       [(https://www.somersetmiramar.com/, False, 0, )]\n",
       "19       [(https://www.somersetmiramar.com/, False, 0, )]\n",
       "20      [(http://www.somersetacademy.com/pdf/Student_P...\n",
       "21      [(http://www.somersetacademy.com/pdf/Student_P...\n",
       "22      [(http://www.somersetacademy.com/pdf/Student_P...\n",
       "23      [(https://elementary.somersetsilverpalms.net/,...\n",
       "24      [(https://elementary.somersetsilverpalms.net/,...\n",
       "25           [(https://ms.somersetsomi.com/, False, 0, )]\n",
       "26           [(https://ms.somersetsomi.com/, False, 0, )]\n",
       "27           [(https://ms.somersetsomi.com/, False, 0, )]\n",
       "28      [(http://www.somersetacademybay.com/, False, 0...\n",
       "29      [(http://www.somersetacademybay.com/, False, 0...\n",
       "                              ...                        \n",
       "4964    [(https://asuprep.asu.edu/content/arizona-dept...\n",
       "4965    [(http://www.incitoschools.org/, False, 0, Edu...\n",
       "4966    [(https://www.vistacollegeprep.org/2014-2015-a...\n",
       "4967    [(http://www.risingschool.org/academics/, Fals...\n",
       "4968    [(https://asuprep.asu.edu/schools/phxmiddle, F...\n",
       "4969    [(http://mmacademystgeorge.com/important-docum...\n",
       "4970    [(http://www.laspuertascommunityschool.org/, F...\n",
       "4971    [(https://www.piecefulsolutions.com/blog-posts...\n",
       "4972    [(https://madisonhighlandprep.net/college-care...\n",
       "4973    [(https://www.autismcharter.org/apps/email/ind...\n",
       "4974    [(http://www.franklinphoneticschoolsunnyslope....\n",
       "4975    [(http://casaacademy.org/character-education/,...\n",
       "4976    [(http://www.copperpointschools.org/cougar-chr...\n",
       "4977    [(https://azlanguageprep.org/, False, 0, FIND ...\n",
       "4978    [(http://www.horizonhonorselementary.org/acade...\n",
       "4979    [(https://www.desertstaracademy.org/sports, Fa...\n",
       "4980    [(http://civ.vail.k12.az.us/home-violet-brown/...\n",
       "4981    [(http://vahs.vail.k12.az.us/, False, 0, Searc...\n",
       "4982    [(http://avsouth.org/k-8-program/, False, 0, l...\n",
       "4983    [(https://www.gwcarveracademy.org/apps/email/i...\n",
       "4984    [(http://www.warrenar2.gabbarthost.com/267806_...\n",
       "4985    [(https://se.sesc.k12.ar.us/224660_3, False, 2...\n",
       "4986    [(http://www.warrenar.gabbarthost.com/268671_3...\n",
       "4987    [(http://www.warrenar1.gabbarthost.com/267525_...\n",
       "4988    [(http://mhbombers.com/news/view/44/freedom-is...\n",
       "4989    [(https://www.lisanorth.org/default.aspx, Fals...\n",
       "4990    [(https://www.lisanorth.org/default.aspx, Fals...\n",
       "4991    [(https://www.haashall.org/student-life/academ...\n",
       "4992    [(http://www.ckcharter.org/parent-resources.ht...\n",
       "4993    [(http://www.lighthouse-academies.org/schools/...\n",
       "Name: WEBTEXT, Length: 4994, dtype: object"
      ]
     },
     "execution_count": 23,
     "metadata": {},
     "output_type": "execute_result"
    }
   ],
   "source": [
    "parsed_df_7['WEBTEXT']"
   ]
  },
  {
   "cell_type": "code",
   "execution_count": 65,
   "metadata": {},
   "outputs": [],
   "source": [
    "big_df = pd.read_csv(folder_prefix + \"nowdata/parsing/big_df.csv\", sep=\"\\t\", low_memory=False, encoding=\"utf-8\")"
   ]
  },
  {
   "cell_type": "code",
   "execution_count": 66,
   "metadata": {},
   "outputs": [],
   "source": [
    "big_df['WEBTEXT'] = big_df['WEBTEXT'].apply(ast.literal_eval)"
   ]
  },
  {
   "cell_type": "code",
   "execution_count": 67,
   "metadata": {},
   "outputs": [
    {
     "name": "stdout",
     "output_type": "stream",
     "text": [
      "154\n",
      "228\n",
      "179\n",
      "250\n",
      "163\n",
      "232\n",
      "166\n",
      "250\n",
      "209\n",
      "173\n",
      "157\n",
      "153\n",
      "219\n"
     ]
    }
   ],
   "source": [
    "for i in big_df['WEBTEXT']:\n",
    "    print(len(i))"
   ]
  },
  {
   "cell_type": "code",
   "execution_count": 68,
   "metadata": {},
   "outputs": [],
   "source": [
    "li_small = []\n",
    "li_big = []\n",
    "index = 0\n",
    "for i in big_df['NUMWORDS']:\n",
    "    if i < 7316726:\n",
    "        li_small.append(index)\n",
    "    else:\n",
    "        li_big.append(index)\n",
    "    index+=1"
   ]
  },
  {
   "cell_type": "code",
   "execution_count": 69,
   "metadata": {},
   "outputs": [
    {
     "data": {
      "text/plain": [
       "[1, 2, 3, 4, 5, 7, 8, 9, 10, 11, 12]"
      ]
     },
     "execution_count": 69,
     "metadata": {},
     "output_type": "execute_result"
    }
   ],
   "source": [
    "li_small"
   ]
  },
  {
   "cell_type": "code",
   "execution_count": 70,
   "metadata": {},
   "outputs": [
    {
     "data": {
      "text/plain": [
       "[0, 6]"
      ]
     },
     "execution_count": 70,
     "metadata": {},
     "output_type": "execute_result"
    }
   ],
   "source": [
    "li_big"
   ]
  },
  {
   "cell_type": "code",
   "execution_count": 71,
   "metadata": {},
   "outputs": [],
   "source": [
    "small_2_df = big_df.iloc[li_small,:]"
   ]
  },
  {
   "cell_type": "code",
   "execution_count": 72,
   "metadata": {},
   "outputs": [],
   "source": [
    "big_2_df = big_df.iloc[li_big,:]"
   ]
  },
  {
   "cell_type": "code",
   "execution_count": 14,
   "metadata": {},
   "outputs": [
    {
     "data": {
      "text/html": [
       "<div>\n",
       "<style scoped>\n",
       "    .dataframe tbody tr th:only-of-type {\n",
       "        vertical-align: middle;\n",
       "    }\n",
       "\n",
       "    .dataframe tbody tr th {\n",
       "        vertical-align: top;\n",
       "    }\n",
       "\n",
       "    .dataframe thead th {\n",
       "        text-align: right;\n",
       "    }\n",
       "</style>\n",
       "<table border=\"1\" class=\"dataframe\">\n",
       "  <thead>\n",
       "    <tr style=\"text-align: right;\">\n",
       "      <th></th>\n",
       "      <th>CMO_NAME</th>\n",
       "      <th>CMO_MEMSUM</th>\n",
       "      <th>SCH_NAME</th>\n",
       "      <th>CMO_STATE</th>\n",
       "      <th>CMO_SCHNUM</th>\n",
       "      <th>CMO_URL</th>\n",
       "      <th>CMO_NUMSTATES</th>\n",
       "      <th>CMO_ALLSTATES</th>\n",
       "      <th>CMO_SECTOR</th>\n",
       "      <th>CMO_NUMSTUDENTS_CREDO17</th>\n",
       "      <th>...</th>\n",
       "      <th>WEBTEXT_METHOD</th>\n",
       "      <th>REPLACED</th>\n",
       "      <th>CMO_REPLACED</th>\n",
       "      <th>PROG_COUNT</th>\n",
       "      <th>RIT_COUNT</th>\n",
       "      <th>ESS_COUNT</th>\n",
       "      <th>ESS_STR</th>\n",
       "      <th>PROG_STR</th>\n",
       "      <th>RIT_STR</th>\n",
       "      <th>NUMWORDS</th>\n",
       "    </tr>\n",
       "  </thead>\n",
       "  <tbody>\n",
       "    <tr>\n",
       "      <th>1</th>\n",
       "      <td>NaN</td>\n",
       "      <td>NaN</td>\n",
       "      <td>NaN</td>\n",
       "      <td>NaN</td>\n",
       "      <td>NaN</td>\n",
       "      <td>NaN</td>\n",
       "      <td>NaN</td>\n",
       "      <td>NaN</td>\n",
       "      <td>NaN</td>\n",
       "      <td>NaN</td>\n",
       "      <td>...</td>\n",
       "      <td>3</td>\n",
       "      <td>False</td>\n",
       "      <td>NaN</td>\n",
       "      <td>43</td>\n",
       "      <td>345</td>\n",
       "      <td>13</td>\n",
       "      <td>-3.748409</td>\n",
       "      <td>-3.228735</td>\n",
       "      <td>-2.321901</td>\n",
       "      <td>72837</td>\n",
       "    </tr>\n",
       "    <tr>\n",
       "      <th>2</th>\n",
       "      <td>NaN</td>\n",
       "      <td>NaN</td>\n",
       "      <td>NaN</td>\n",
       "      <td>NaN</td>\n",
       "      <td>NaN</td>\n",
       "      <td>NaN</td>\n",
       "      <td>NaN</td>\n",
       "      <td>NaN</td>\n",
       "      <td>NaN</td>\n",
       "      <td>NaN</td>\n",
       "      <td>...</td>\n",
       "      <td>3</td>\n",
       "      <td>False</td>\n",
       "      <td>NaN</td>\n",
       "      <td>5</td>\n",
       "      <td>195</td>\n",
       "      <td>4</td>\n",
       "      <td>-4.119223</td>\n",
       "      <td>-4.022280</td>\n",
       "      <td>-2.431207</td>\n",
       "      <td>52636</td>\n",
       "    </tr>\n",
       "    <tr>\n",
       "      <th>3</th>\n",
       "      <td>NaN</td>\n",
       "      <td>NaN</td>\n",
       "      <td>NaN</td>\n",
       "      <td>NaN</td>\n",
       "      <td>NaN</td>\n",
       "      <td>NaN</td>\n",
       "      <td>NaN</td>\n",
       "      <td>NaN</td>\n",
       "      <td>NaN</td>\n",
       "      <td>NaN</td>\n",
       "      <td>...</td>\n",
       "      <td>0</td>\n",
       "      <td>False</td>\n",
       "      <td>NaN</td>\n",
       "      <td>382</td>\n",
       "      <td>759</td>\n",
       "      <td>183</td>\n",
       "      <td>-3.228263</td>\n",
       "      <td>-2.908315</td>\n",
       "      <td>-2.610395</td>\n",
       "      <td>309540</td>\n",
       "    </tr>\n",
       "    <tr>\n",
       "      <th>4</th>\n",
       "      <td>NaN</td>\n",
       "      <td>NaN</td>\n",
       "      <td>NaN</td>\n",
       "      <td>NaN</td>\n",
       "      <td>NaN</td>\n",
       "      <td>NaN</td>\n",
       "      <td>NaN</td>\n",
       "      <td>NaN</td>\n",
       "      <td>NaN</td>\n",
       "      <td>NaN</td>\n",
       "      <td>...</td>\n",
       "      <td>0</td>\n",
       "      <td>False</td>\n",
       "      <td>NaN</td>\n",
       "      <td>36</td>\n",
       "      <td>91</td>\n",
       "      <td>38</td>\n",
       "      <td>-2.969158</td>\n",
       "      <td>-2.992443</td>\n",
       "      <td>-2.589766</td>\n",
       "      <td>35399</td>\n",
       "    </tr>\n",
       "    <tr>\n",
       "      <th>5</th>\n",
       "      <td>NaN</td>\n",
       "      <td>NaN</td>\n",
       "      <td>NaN</td>\n",
       "      <td>NaN</td>\n",
       "      <td>NaN</td>\n",
       "      <td>NaN</td>\n",
       "      <td>NaN</td>\n",
       "      <td>NaN</td>\n",
       "      <td>NaN</td>\n",
       "      <td>NaN</td>\n",
       "      <td>...</td>\n",
       "      <td>3</td>\n",
       "      <td>False</td>\n",
       "      <td>NaN</td>\n",
       "      <td>22</td>\n",
       "      <td>192</td>\n",
       "      <td>328</td>\n",
       "      <td>-2.057833</td>\n",
       "      <td>-3.231133</td>\n",
       "      <td>-2.288675</td>\n",
       "      <td>37472</td>\n",
       "    </tr>\n",
       "    <tr>\n",
       "      <th>7</th>\n",
       "      <td>NaN</td>\n",
       "      <td>NaN</td>\n",
       "      <td>NaN</td>\n",
       "      <td>NaN</td>\n",
       "      <td>NaN</td>\n",
       "      <td>NaN</td>\n",
       "      <td>NaN</td>\n",
       "      <td>NaN</td>\n",
       "      <td>NaN</td>\n",
       "      <td>NaN</td>\n",
       "      <td>...</td>\n",
       "      <td>0</td>\n",
       "      <td>False</td>\n",
       "      <td>NaN</td>\n",
       "      <td>7</td>\n",
       "      <td>1062</td>\n",
       "      <td>98</td>\n",
       "      <td>-3.065221</td>\n",
       "      <td>-4.211327</td>\n",
       "      <td>-2.029338</td>\n",
       "      <td>113880</td>\n",
       "    </tr>\n",
       "    <tr>\n",
       "      <th>8</th>\n",
       "      <td>NaN</td>\n",
       "      <td>NaN</td>\n",
       "      <td>NaN</td>\n",
       "      <td>NaN</td>\n",
       "      <td>NaN</td>\n",
       "      <td>NaN</td>\n",
       "      <td>NaN</td>\n",
       "      <td>NaN</td>\n",
       "      <td>NaN</td>\n",
       "      <td>NaN</td>\n",
       "      <td>...</td>\n",
       "      <td>3</td>\n",
       "      <td>False</td>\n",
       "      <td>NaN</td>\n",
       "      <td>6</td>\n",
       "      <td>435</td>\n",
       "      <td>7</td>\n",
       "      <td>-3.922933</td>\n",
       "      <td>-3.989858</td>\n",
       "      <td>-2.129468</td>\n",
       "      <td>58618</td>\n",
       "    </tr>\n",
       "    <tr>\n",
       "      <th>9</th>\n",
       "      <td>NaN</td>\n",
       "      <td>NaN</td>\n",
       "      <td>NaN</td>\n",
       "      <td>NaN</td>\n",
       "      <td>NaN</td>\n",
       "      <td>NaN</td>\n",
       "      <td>NaN</td>\n",
       "      <td>NaN</td>\n",
       "      <td>NaN</td>\n",
       "      <td>NaN</td>\n",
       "      <td>...</td>\n",
       "      <td>3</td>\n",
       "      <td>False</td>\n",
       "      <td>NaN</td>\n",
       "      <td>74</td>\n",
       "      <td>351</td>\n",
       "      <td>45</td>\n",
       "      <td>-3.198278</td>\n",
       "      <td>-2.982045</td>\n",
       "      <td>-2.305945</td>\n",
       "      <td>71038</td>\n",
       "    </tr>\n",
       "    <tr>\n",
       "      <th>10</th>\n",
       "      <td>NaN</td>\n",
       "      <td>NaN</td>\n",
       "      <td>NaN</td>\n",
       "      <td>NaN</td>\n",
       "      <td>NaN</td>\n",
       "      <td>NaN</td>\n",
       "      <td>NaN</td>\n",
       "      <td>NaN</td>\n",
       "      <td>NaN</td>\n",
       "      <td>NaN</td>\n",
       "      <td>...</td>\n",
       "      <td>3</td>\n",
       "      <td>False</td>\n",
       "      <td>NaN</td>\n",
       "      <td>47</td>\n",
       "      <td>662</td>\n",
       "      <td>54</td>\n",
       "      <td>-3.046293</td>\n",
       "      <td>-3.106430</td>\n",
       "      <td>-1.957742</td>\n",
       "      <td>60077</td>\n",
       "    </tr>\n",
       "    <tr>\n",
       "      <th>11</th>\n",
       "      <td>NaN</td>\n",
       "      <td>NaN</td>\n",
       "      <td>NaN</td>\n",
       "      <td>NaN</td>\n",
       "      <td>NaN</td>\n",
       "      <td>NaN</td>\n",
       "      <td>NaN</td>\n",
       "      <td>NaN</td>\n",
       "      <td>NaN</td>\n",
       "      <td>NaN</td>\n",
       "      <td>...</td>\n",
       "      <td>3</td>\n",
       "      <td>False</td>\n",
       "      <td>NaN</td>\n",
       "      <td>36</td>\n",
       "      <td>60</td>\n",
       "      <td>25</td>\n",
       "      <td>-3.334639</td>\n",
       "      <td>-3.176027</td>\n",
       "      <td>-2.954299</td>\n",
       "      <td>54023</td>\n",
       "    </tr>\n",
       "    <tr>\n",
       "      <th>12</th>\n",
       "      <td>NaN</td>\n",
       "      <td>NaN</td>\n",
       "      <td>NaN</td>\n",
       "      <td>NaN</td>\n",
       "      <td>NaN</td>\n",
       "      <td>NaN</td>\n",
       "      <td>NaN</td>\n",
       "      <td>NaN</td>\n",
       "      <td>NaN</td>\n",
       "      <td>NaN</td>\n",
       "      <td>...</td>\n",
       "      <td>3</td>\n",
       "      <td>False</td>\n",
       "      <td>NaN</td>\n",
       "      <td>47</td>\n",
       "      <td>113</td>\n",
       "      <td>25</td>\n",
       "      <td>-3.510078</td>\n",
       "      <td>-3.235765</td>\n",
       "      <td>-2.854870</td>\n",
       "      <td>80914</td>\n",
       "    </tr>\n",
       "  </tbody>\n",
       "</table>\n",
       "<p>11 rows × 401 columns</p>\n",
       "</div>"
      ],
      "text/plain": [
       "    CMO_NAME  CMO_MEMSUM  SCH_NAME  CMO_STATE  CMO_SCHNUM  CMO_URL  \\\n",
       "1        NaN         NaN       NaN        NaN         NaN      NaN   \n",
       "2        NaN         NaN       NaN        NaN         NaN      NaN   \n",
       "3        NaN         NaN       NaN        NaN         NaN      NaN   \n",
       "4        NaN         NaN       NaN        NaN         NaN      NaN   \n",
       "5        NaN         NaN       NaN        NaN         NaN      NaN   \n",
       "7        NaN         NaN       NaN        NaN         NaN      NaN   \n",
       "8        NaN         NaN       NaN        NaN         NaN      NaN   \n",
       "9        NaN         NaN       NaN        NaN         NaN      NaN   \n",
       "10       NaN         NaN       NaN        NaN         NaN      NaN   \n",
       "11       NaN         NaN       NaN        NaN         NaN      NaN   \n",
       "12       NaN         NaN       NaN        NaN         NaN      NaN   \n",
       "\n",
       "    CMO_NUMSTATES  CMO_ALLSTATES  CMO_SECTOR  CMO_NUMSTUDENTS_CREDO17  \\\n",
       "1             NaN            NaN         NaN                      NaN   \n",
       "2             NaN            NaN         NaN                      NaN   \n",
       "3             NaN            NaN         NaN                      NaN   \n",
       "4             NaN            NaN         NaN                      NaN   \n",
       "5             NaN            NaN         NaN                      NaN   \n",
       "7             NaN            NaN         NaN                      NaN   \n",
       "8             NaN            NaN         NaN                      NaN   \n",
       "9             NaN            NaN         NaN                      NaN   \n",
       "10            NaN            NaN         NaN                      NaN   \n",
       "11            NaN            NaN         NaN                      NaN   \n",
       "12            NaN            NaN         NaN                      NaN   \n",
       "\n",
       "     ...     WEBTEXT_METHOD  REPLACED CMO_REPLACED  PROG_COUNT RIT_COUNT  \\\n",
       "1    ...                  3     False          NaN          43       345   \n",
       "2    ...                  3     False          NaN           5       195   \n",
       "3    ...                  0     False          NaN         382       759   \n",
       "4    ...                  0     False          NaN          36        91   \n",
       "5    ...                  3     False          NaN          22       192   \n",
       "7    ...                  0     False          NaN           7      1062   \n",
       "8    ...                  3     False          NaN           6       435   \n",
       "9    ...                  3     False          NaN          74       351   \n",
       "10   ...                  3     False          NaN          47       662   \n",
       "11   ...                  3     False          NaN          36        60   \n",
       "12   ...                  3     False          NaN          47       113   \n",
       "\n",
       "   ESS_COUNT   ESS_STR  PROG_STR   RIT_STR NUMWORDS  \n",
       "1         13 -3.748409 -3.228735 -2.321901    72837  \n",
       "2          4 -4.119223 -4.022280 -2.431207    52636  \n",
       "3        183 -3.228263 -2.908315 -2.610395   309540  \n",
       "4         38 -2.969158 -2.992443 -2.589766    35399  \n",
       "5        328 -2.057833 -3.231133 -2.288675    37472  \n",
       "7         98 -3.065221 -4.211327 -2.029338   113880  \n",
       "8          7 -3.922933 -3.989858 -2.129468    58618  \n",
       "9         45 -3.198278 -2.982045 -2.305945    71038  \n",
       "10        54 -3.046293 -3.106430 -1.957742    60077  \n",
       "11        25 -3.334639 -3.176027 -2.954299    54023  \n",
       "12        25 -3.510078 -3.235765 -2.854870    80914  \n",
       "\n",
       "[11 rows x 401 columns]"
      ]
     },
     "execution_count": 14,
     "metadata": {},
     "output_type": "execute_result"
    }
   ],
   "source": [
    "small_2_df"
   ]
  },
  {
   "cell_type": "code",
   "execution_count": 15,
   "metadata": {},
   "outputs": [],
   "source": [
    "small_2_df.to_csv(folder_prefix + \"nowdata/parsing/small_2_df.csv\", mode=\"w\", index=False, header=small_2_df.columns.values, sep=\"\\t\", encoding=\"utf-8\")"
   ]
  },
  {
   "cell_type": "code",
   "execution_count": 73,
   "metadata": {},
   "outputs": [],
   "source": [
    "big_2_df.to_csv(folder_prefix + \"nowdata/parsing/big_2_df.csv\", mode=\"w\", index=False, header=big_2_df.columns.values, sep=\"\\t\", encoding=\"utf-8\")"
   ]
  },
  {
   "cell_type": "code",
   "execution_count": 74,
   "metadata": {},
   "outputs": [],
   "source": [
    "k = pd.read_csv(folder_prefix + \"nowdata/parsing/big_2_df.csv\", sep=\"\\t\", low_memory=False, encoding=\"utf-8\")"
   ]
  },
  {
   "cell_type": "code",
   "execution_count": 75,
   "metadata": {},
   "outputs": [],
   "source": [
    "k['WEBTEXT'] = k['WEBTEXT'].apply(ast.literal_eval)"
   ]
  },
  {
   "cell_type": "code",
   "execution_count": 76,
   "metadata": {},
   "outputs": [
    {
     "name": "stdout",
     "output_type": "stream",
     "text": [
      "154\n",
      "166\n"
     ]
    }
   ],
   "source": [
    "for i in k['WEBTEXT']:\n",
    "    print(len(i))"
   ]
  },
  {
   "cell_type": "code",
   "execution_count": 19,
   "metadata": {},
   "outputs": [
    {
     "name": "stdout",
     "output_type": "stream",
     "text": [
      "154\n",
      "166\n"
     ]
    }
   ],
   "source": [
    "for i in big_2_df['WEBTEXT']:\n",
    "    print(len(i))"
   ]
  },
  {
   "cell_type": "code",
   "execution_count": 24,
   "metadata": {},
   "outputs": [
    {
     "data": {
      "text/plain": [
       "0    [(https://www.methodschools.org/blog/topic/hom...\n",
       "6    [(https://www.methodschools.org/blog/topic/hom...\n",
       "Name: WEBTEXT, dtype: object"
      ]
     },
     "execution_count": 24,
     "metadata": {},
     "output_type": "execute_result"
    }
   ],
   "source": [
    "big_2_df['WEBTEXT']"
   ]
  },
  {
   "cell_type": "code",
   "execution_count": 25,
   "metadata": {},
   "outputs": [],
   "source": [
    "big_2_df.reset_index(inplace = True)"
   ]
  },
  {
   "cell_type": "code",
   "execution_count": 37,
   "metadata": {},
   "outputs": [
    {
     "name": "stdout",
     "output_type": "stream",
     "text": [
      "60000113853.0\n",
      "61071013762.0\n"
     ]
    }
   ],
   "source": [
    "first_nc = big_2_df['NCESSCH'][0]\n",
    "sec_nc = big_2_df['NCESSCH'][1]\n",
    "print(first_nc)\n",
    "print(sec_nc)"
   ]
  },
  {
   "cell_type": "code",
   "execution_count": 27,
   "metadata": {},
   "outputs": [
    {
     "name": "stderr",
     "output_type": "stream",
     "text": [
      "/opt/conda/lib/python3.6/site-packages/pandas/core/frame.py:3697: SettingWithCopyWarning: \n",
      "A value is trying to be set on a copy of a slice from a DataFrame\n",
      "\n",
      "See the caveats in the documentation: http://pandas.pydata.org/pandas-docs/stable/indexing.html#indexing-view-versus-copy\n",
      "  errors=errors)\n"
     ]
    }
   ],
   "source": [
    "big_2_df.drop(columns = ['index'], inplace = True)"
   ]
  },
  {
   "cell_type": "code",
   "execution_count": 31,
   "metadata": {},
   "outputs": [],
   "source": [
    "first_list = big_2_df.iloc[0]['WEBTEXT']"
   ]
  },
  {
   "cell_type": "code",
   "execution_count": 33,
   "metadata": {},
   "outputs": [],
   "source": [
    "beg_154 = first_list[:len(first_list)//2]\n",
    "end_154 = first_list[len(first_list)//2:]\n"
   ]
  },
  {
   "cell_type": "code",
   "execution_count": 44,
   "metadata": {},
   "outputs": [],
   "source": [
    "second_list = big_2_df.iloc[1]['WEBTEXT']\n",
    "beg_166 = second_list[:len(second_list)//2]\n",
    "end_166 = second_list[len(second_list)//2:]"
   ]
  },
  {
   "cell_type": "code",
   "execution_count": 46,
   "metadata": {},
   "outputs": [
    {
     "data": {
      "text/plain": [
       "83"
      ]
     },
     "execution_count": 46,
     "metadata": {},
     "output_type": "execute_result"
    }
   ],
   "source": [
    "len(beg_166)"
   ]
  },
  {
   "cell_type": "code",
   "execution_count": 34,
   "metadata": {},
   "outputs": [
    {
     "name": "stdout",
     "output_type": "stream",
     "text": [
      "460805\n",
      "461859\n",
      "461417\n",
      "461342\n",
      "461113\n",
      "4981\n",
      "461086\n",
      "461725\n",
      "461950\n",
      "461093\n",
      "461079\n",
      "461096\n",
      "461087\n",
      "3119\n",
      "461076\n",
      "6920\n",
      "461841\n",
      "10121\n",
      "461926\n",
      "461359\n",
      "461090\n",
      "461106\n",
      "461096\n",
      "461092\n",
      "461902\n",
      "461117\n",
      "4016\n",
      "461094\n",
      "1636\n",
      "461919\n",
      "461078\n",
      "461031\n",
      "3695\n",
      "461163\n",
      "461888\n",
      "461126\n",
      "460964\n",
      "461874\n",
      "461265\n",
      "461991\n",
      "461141\n",
      "10888\n",
      "460846\n",
      "461098\n",
      "784\n",
      "461238\n",
      "461127\n",
      "461777\n",
      "461100\n",
      "461665\n",
      "461434\n",
      "461104\n",
      "461091\n",
      "1805\n",
      "1299\n",
      "461181\n",
      "461205\n",
      "461696\n",
      "461711\n",
      "1304\n",
      "8566\n",
      "461044\n",
      "9296\n",
      "461839\n",
      "460791\n",
      "1618\n",
      "461210\n",
      "461107\n",
      "1793\n",
      "461168\n",
      "1917\n",
      "461595\n",
      "461457\n",
      "461123\n",
      "461090\n",
      "4117\n",
      "461097\n"
     ]
    }
   ],
   "source": [
    "for tup in beg_154:\n",
    "    print(len(tup[3]))"
   ]
  },
  {
   "cell_type": "code",
   "execution_count": 40,
   "metadata": {},
   "outputs": [],
   "source": [
    "f = {'NCESSCH': [first_nc, first_nc], 'WEBTEXT': [beg_154, end_154]}\n",
    "first_154 = pd.DataFrame(data=f)"
   ]
  },
  {
   "cell_type": "code",
   "execution_count": 41,
   "metadata": {},
   "outputs": [
    {
     "data": {
      "text/html": [
       "<div>\n",
       "<style scoped>\n",
       "    .dataframe tbody tr th:only-of-type {\n",
       "        vertical-align: middle;\n",
       "    }\n",
       "\n",
       "    .dataframe tbody tr th {\n",
       "        vertical-align: top;\n",
       "    }\n",
       "\n",
       "    .dataframe thead th {\n",
       "        text-align: right;\n",
       "    }\n",
       "</style>\n",
       "<table border=\"1\" class=\"dataframe\">\n",
       "  <thead>\n",
       "    <tr style=\"text-align: right;\">\n",
       "      <th></th>\n",
       "      <th>NCESSCH</th>\n",
       "      <th>WEBTEXT</th>\n",
       "    </tr>\n",
       "  </thead>\n",
       "  <tbody>\n",
       "    <tr>\n",
       "      <th>0</th>\n",
       "      <td>6.000011e+10</td>\n",
       "      <td>[(https://www.methodschools.org/blog/topic/hom...</td>\n",
       "    </tr>\n",
       "    <tr>\n",
       "      <th>1</th>\n",
       "      <td>6.000011e+10</td>\n",
       "      <td>[(https://www.methodschools.org/blog/topic/psy...</td>\n",
       "    </tr>\n",
       "  </tbody>\n",
       "</table>\n",
       "</div>"
      ],
      "text/plain": [
       "        NCESSCH                                            WEBTEXT\n",
       "0  6.000011e+10  [(https://www.methodschools.org/blog/topic/hom...\n",
       "1  6.000011e+10  [(https://www.methodschools.org/blog/topic/psy..."
      ]
     },
     "execution_count": 41,
     "metadata": {},
     "output_type": "execute_result"
    }
   ],
   "source": [
    "first_154"
   ]
  },
  {
   "cell_type": "code",
   "execution_count": 43,
   "metadata": {},
   "outputs": [
    {
     "name": "stdout",
     "output_type": "stream",
     "text": [
      "77\n",
      "77\n"
     ]
    }
   ],
   "source": [
    "for i in first_154['WEBTEXT']:\n",
    "    print(len(i))"
   ]
  },
  {
   "cell_type": "code",
   "execution_count": 49,
   "metadata": {},
   "outputs": [],
   "source": [
    "first_154.to_csv(folder_prefix + \"nowdata/parsing/first_154.csv\", mode=\"w\", index=False, header=first_154.columns.values, sep=\"\\t\", encoding=\"utf-8\")"
   ]
  },
  {
   "cell_type": "code",
   "execution_count": 47,
   "metadata": {},
   "outputs": [],
   "source": [
    "s = {'NCESSCH': [sec_nc, sec_nc], 'WEBTEXT': [beg_166, end_166]}\n",
    "second_166 = pd.DataFrame(data=s)"
   ]
  },
  {
   "cell_type": "code",
   "execution_count": 48,
   "metadata": {},
   "outputs": [
    {
     "data": {
      "text/html": [
       "<div>\n",
       "<style scoped>\n",
       "    .dataframe tbody tr th:only-of-type {\n",
       "        vertical-align: middle;\n",
       "    }\n",
       "\n",
       "    .dataframe tbody tr th {\n",
       "        vertical-align: top;\n",
       "    }\n",
       "\n",
       "    .dataframe thead th {\n",
       "        text-align: right;\n",
       "    }\n",
       "</style>\n",
       "<table border=\"1\" class=\"dataframe\">\n",
       "  <thead>\n",
       "    <tr style=\"text-align: right;\">\n",
       "      <th></th>\n",
       "      <th>NCESSCH</th>\n",
       "      <th>WEBTEXT</th>\n",
       "    </tr>\n",
       "  </thead>\n",
       "  <tbody>\n",
       "    <tr>\n",
       "      <th>0</th>\n",
       "      <td>6.107101e+10</td>\n",
       "      <td>[(https://www.methodschools.org/blog/topic/hom...</td>\n",
       "    </tr>\n",
       "    <tr>\n",
       "      <th>1</th>\n",
       "      <td>6.107101e+10</td>\n",
       "      <td>[(https://www.methodschools.org/blog/topic/bul...</td>\n",
       "    </tr>\n",
       "  </tbody>\n",
       "</table>\n",
       "</div>"
      ],
      "text/plain": [
       "        NCESSCH                                            WEBTEXT\n",
       "0  6.107101e+10  [(https://www.methodschools.org/blog/topic/hom...\n",
       "1  6.107101e+10  [(https://www.methodschools.org/blog/topic/bul..."
      ]
     },
     "execution_count": 48,
     "metadata": {},
     "output_type": "execute_result"
    }
   ],
   "source": [
    "second_166"
   ]
  },
  {
   "cell_type": "code",
   "execution_count": 50,
   "metadata": {},
   "outputs": [],
   "source": [
    "second_166.to_csv(folder_prefix + \"nowdata/parsing/second_166.csv\", mode=\"w\", index=False, header=second_166.columns.values, sep=\"\\t\", encoding=\"utf-8\")"
   ]
  },
  {
   "cell_type": "code",
   "execution_count": 63,
   "metadata": {},
   "outputs": [],
   "source": [
    "f = pd.read_csv(folder_prefix + \"nowdata/parsing/first_154.csv\", sep=\"\\t\", low_memory=False, encoding=\"utf-8\")"
   ]
  },
  {
   "cell_type": "code",
   "execution_count": 52,
   "metadata": {},
   "outputs": [],
   "source": [
    "s = pd.read_csv(folder_prefix + \"nowdata/parsing/second_166.csv\", sep=\"\\t\", low_memory=False, encoding=\"utf-8\")"
   ]
  },
  {
   "cell_type": "code",
   "execution_count": 54,
   "metadata": {},
   "outputs": [
    {
     "ename": "KeyError",
     "evalue": "'NUMWORDS'",
     "output_type": "error",
     "traceback": [
      "\u001b[0;31m---------------------------------------------------------------------------\u001b[0m",
      "\u001b[0;31mKeyError\u001b[0m                                  Traceback (most recent call last)",
      "\u001b[0;32m/opt/conda/lib/python3.6/site-packages/pandas/core/indexes/base.py\u001b[0m in \u001b[0;36mget_loc\u001b[0;34m(self, key, method, tolerance)\u001b[0m\n\u001b[1;32m   3077\u001b[0m             \u001b[0;32mtry\u001b[0m\u001b[0;34m:\u001b[0m\u001b[0;34m\u001b[0m\u001b[0m\n\u001b[0;32m-> 3078\u001b[0;31m                 \u001b[0;32mreturn\u001b[0m \u001b[0mself\u001b[0m\u001b[0;34m.\u001b[0m\u001b[0m_engine\u001b[0m\u001b[0;34m.\u001b[0m\u001b[0mget_loc\u001b[0m\u001b[0;34m(\u001b[0m\u001b[0mkey\u001b[0m\u001b[0;34m)\u001b[0m\u001b[0;34m\u001b[0m\u001b[0m\n\u001b[0m\u001b[1;32m   3079\u001b[0m             \u001b[0;32mexcept\u001b[0m \u001b[0mKeyError\u001b[0m\u001b[0;34m:\u001b[0m\u001b[0;34m\u001b[0m\u001b[0m\n",
      "\u001b[0;32mpandas/_libs/index.pyx\u001b[0m in \u001b[0;36mpandas._libs.index.IndexEngine.get_loc\u001b[0;34m()\u001b[0m\n",
      "\u001b[0;32mpandas/_libs/index.pyx\u001b[0m in \u001b[0;36mpandas._libs.index.IndexEngine.get_loc\u001b[0;34m()\u001b[0m\n",
      "\u001b[0;32mpandas/_libs/hashtable_class_helper.pxi\u001b[0m in \u001b[0;36mpandas._libs.hashtable.PyObjectHashTable.get_item\u001b[0;34m()\u001b[0m\n",
      "\u001b[0;32mpandas/_libs/hashtable_class_helper.pxi\u001b[0m in \u001b[0;36mpandas._libs.hashtable.PyObjectHashTable.get_item\u001b[0;34m()\u001b[0m\n",
      "\u001b[0;31mKeyError\u001b[0m: 'NUMWORDS'",
      "\nDuring handling of the above exception, another exception occurred:\n",
      "\u001b[0;31mKeyError\u001b[0m                                  Traceback (most recent call last)",
      "\u001b[0;32m<ipython-input-54-ab8fe69b4944>\u001b[0m in \u001b[0;36m<module>\u001b[0;34m()\u001b[0m\n\u001b[0;32m----> 1\u001b[0;31m \u001b[0ms\u001b[0m\u001b[0;34m[\u001b[0m\u001b[0;34m'NUMWORDS'\u001b[0m\u001b[0;34m]\u001b[0m\u001b[0;34m\u001b[0m\u001b[0m\n\u001b[0m",
      "\u001b[0;32m/opt/conda/lib/python3.6/site-packages/pandas/core/frame.py\u001b[0m in \u001b[0;36m__getitem__\u001b[0;34m(self, key)\u001b[0m\n\u001b[1;32m   2686\u001b[0m             \u001b[0;32mreturn\u001b[0m \u001b[0mself\u001b[0m\u001b[0;34m.\u001b[0m\u001b[0m_getitem_multilevel\u001b[0m\u001b[0;34m(\u001b[0m\u001b[0mkey\u001b[0m\u001b[0;34m)\u001b[0m\u001b[0;34m\u001b[0m\u001b[0m\n\u001b[1;32m   2687\u001b[0m         \u001b[0;32melse\u001b[0m\u001b[0;34m:\u001b[0m\u001b[0;34m\u001b[0m\u001b[0m\n\u001b[0;32m-> 2688\u001b[0;31m             \u001b[0;32mreturn\u001b[0m \u001b[0mself\u001b[0m\u001b[0;34m.\u001b[0m\u001b[0m_getitem_column\u001b[0m\u001b[0;34m(\u001b[0m\u001b[0mkey\u001b[0m\u001b[0;34m)\u001b[0m\u001b[0;34m\u001b[0m\u001b[0m\n\u001b[0m\u001b[1;32m   2689\u001b[0m \u001b[0;34m\u001b[0m\u001b[0m\n\u001b[1;32m   2690\u001b[0m     \u001b[0;32mdef\u001b[0m \u001b[0m_getitem_column\u001b[0m\u001b[0;34m(\u001b[0m\u001b[0mself\u001b[0m\u001b[0;34m,\u001b[0m \u001b[0mkey\u001b[0m\u001b[0;34m)\u001b[0m\u001b[0;34m:\u001b[0m\u001b[0;34m\u001b[0m\u001b[0m\n",
      "\u001b[0;32m/opt/conda/lib/python3.6/site-packages/pandas/core/frame.py\u001b[0m in \u001b[0;36m_getitem_column\u001b[0;34m(self, key)\u001b[0m\n\u001b[1;32m   2693\u001b[0m         \u001b[0;31m# get column\u001b[0m\u001b[0;34m\u001b[0m\u001b[0;34m\u001b[0m\u001b[0m\n\u001b[1;32m   2694\u001b[0m         \u001b[0;32mif\u001b[0m \u001b[0mself\u001b[0m\u001b[0;34m.\u001b[0m\u001b[0mcolumns\u001b[0m\u001b[0;34m.\u001b[0m\u001b[0mis_unique\u001b[0m\u001b[0;34m:\u001b[0m\u001b[0;34m\u001b[0m\u001b[0m\n\u001b[0;32m-> 2695\u001b[0;31m             \u001b[0;32mreturn\u001b[0m \u001b[0mself\u001b[0m\u001b[0;34m.\u001b[0m\u001b[0m_get_item_cache\u001b[0m\u001b[0;34m(\u001b[0m\u001b[0mkey\u001b[0m\u001b[0;34m)\u001b[0m\u001b[0;34m\u001b[0m\u001b[0m\n\u001b[0m\u001b[1;32m   2696\u001b[0m \u001b[0;34m\u001b[0m\u001b[0m\n\u001b[1;32m   2697\u001b[0m         \u001b[0;31m# duplicate columns & possible reduce dimensionality\u001b[0m\u001b[0;34m\u001b[0m\u001b[0;34m\u001b[0m\u001b[0m\n",
      "\u001b[0;32m/opt/conda/lib/python3.6/site-packages/pandas/core/generic.py\u001b[0m in \u001b[0;36m_get_item_cache\u001b[0;34m(self, item)\u001b[0m\n\u001b[1;32m   2487\u001b[0m         \u001b[0mres\u001b[0m \u001b[0;34m=\u001b[0m \u001b[0mcache\u001b[0m\u001b[0;34m.\u001b[0m\u001b[0mget\u001b[0m\u001b[0;34m(\u001b[0m\u001b[0mitem\u001b[0m\u001b[0;34m)\u001b[0m\u001b[0;34m\u001b[0m\u001b[0m\n\u001b[1;32m   2488\u001b[0m         \u001b[0;32mif\u001b[0m \u001b[0mres\u001b[0m \u001b[0;32mis\u001b[0m \u001b[0;32mNone\u001b[0m\u001b[0;34m:\u001b[0m\u001b[0;34m\u001b[0m\u001b[0m\n\u001b[0;32m-> 2489\u001b[0;31m             \u001b[0mvalues\u001b[0m \u001b[0;34m=\u001b[0m \u001b[0mself\u001b[0m\u001b[0;34m.\u001b[0m\u001b[0m_data\u001b[0m\u001b[0;34m.\u001b[0m\u001b[0mget\u001b[0m\u001b[0;34m(\u001b[0m\u001b[0mitem\u001b[0m\u001b[0;34m)\u001b[0m\u001b[0;34m\u001b[0m\u001b[0m\n\u001b[0m\u001b[1;32m   2490\u001b[0m             \u001b[0mres\u001b[0m \u001b[0;34m=\u001b[0m \u001b[0mself\u001b[0m\u001b[0;34m.\u001b[0m\u001b[0m_box_item_values\u001b[0m\u001b[0;34m(\u001b[0m\u001b[0mitem\u001b[0m\u001b[0;34m,\u001b[0m \u001b[0mvalues\u001b[0m\u001b[0;34m)\u001b[0m\u001b[0;34m\u001b[0m\u001b[0m\n\u001b[1;32m   2491\u001b[0m             \u001b[0mcache\u001b[0m\u001b[0;34m[\u001b[0m\u001b[0mitem\u001b[0m\u001b[0;34m]\u001b[0m \u001b[0;34m=\u001b[0m \u001b[0mres\u001b[0m\u001b[0;34m\u001b[0m\u001b[0m\n",
      "\u001b[0;32m/opt/conda/lib/python3.6/site-packages/pandas/core/internals.py\u001b[0m in \u001b[0;36mget\u001b[0;34m(self, item, fastpath)\u001b[0m\n\u001b[1;32m   4113\u001b[0m \u001b[0;34m\u001b[0m\u001b[0m\n\u001b[1;32m   4114\u001b[0m             \u001b[0;32mif\u001b[0m \u001b[0;32mnot\u001b[0m \u001b[0misna\u001b[0m\u001b[0;34m(\u001b[0m\u001b[0mitem\u001b[0m\u001b[0;34m)\u001b[0m\u001b[0;34m:\u001b[0m\u001b[0;34m\u001b[0m\u001b[0m\n\u001b[0;32m-> 4115\u001b[0;31m                 \u001b[0mloc\u001b[0m \u001b[0;34m=\u001b[0m \u001b[0mself\u001b[0m\u001b[0;34m.\u001b[0m\u001b[0mitems\u001b[0m\u001b[0;34m.\u001b[0m\u001b[0mget_loc\u001b[0m\u001b[0;34m(\u001b[0m\u001b[0mitem\u001b[0m\u001b[0;34m)\u001b[0m\u001b[0;34m\u001b[0m\u001b[0m\n\u001b[0m\u001b[1;32m   4116\u001b[0m             \u001b[0;32melse\u001b[0m\u001b[0;34m:\u001b[0m\u001b[0;34m\u001b[0m\u001b[0m\n\u001b[1;32m   4117\u001b[0m                 \u001b[0mindexer\u001b[0m \u001b[0;34m=\u001b[0m \u001b[0mnp\u001b[0m\u001b[0;34m.\u001b[0m\u001b[0marange\u001b[0m\u001b[0;34m(\u001b[0m\u001b[0mlen\u001b[0m\u001b[0;34m(\u001b[0m\u001b[0mself\u001b[0m\u001b[0;34m.\u001b[0m\u001b[0mitems\u001b[0m\u001b[0;34m)\u001b[0m\u001b[0;34m)\u001b[0m\u001b[0;34m[\u001b[0m\u001b[0misna\u001b[0m\u001b[0;34m(\u001b[0m\u001b[0mself\u001b[0m\u001b[0;34m.\u001b[0m\u001b[0mitems\u001b[0m\u001b[0;34m)\u001b[0m\u001b[0;34m]\u001b[0m\u001b[0;34m\u001b[0m\u001b[0m\n",
      "\u001b[0;32m/opt/conda/lib/python3.6/site-packages/pandas/core/indexes/base.py\u001b[0m in \u001b[0;36mget_loc\u001b[0;34m(self, key, method, tolerance)\u001b[0m\n\u001b[1;32m   3078\u001b[0m                 \u001b[0;32mreturn\u001b[0m \u001b[0mself\u001b[0m\u001b[0;34m.\u001b[0m\u001b[0m_engine\u001b[0m\u001b[0;34m.\u001b[0m\u001b[0mget_loc\u001b[0m\u001b[0;34m(\u001b[0m\u001b[0mkey\u001b[0m\u001b[0;34m)\u001b[0m\u001b[0;34m\u001b[0m\u001b[0m\n\u001b[1;32m   3079\u001b[0m             \u001b[0;32mexcept\u001b[0m \u001b[0mKeyError\u001b[0m\u001b[0;34m:\u001b[0m\u001b[0;34m\u001b[0m\u001b[0m\n\u001b[0;32m-> 3080\u001b[0;31m                 \u001b[0;32mreturn\u001b[0m \u001b[0mself\u001b[0m\u001b[0;34m.\u001b[0m\u001b[0m_engine\u001b[0m\u001b[0;34m.\u001b[0m\u001b[0mget_loc\u001b[0m\u001b[0;34m(\u001b[0m\u001b[0mself\u001b[0m\u001b[0;34m.\u001b[0m\u001b[0m_maybe_cast_indexer\u001b[0m\u001b[0;34m(\u001b[0m\u001b[0mkey\u001b[0m\u001b[0;34m)\u001b[0m\u001b[0;34m)\u001b[0m\u001b[0;34m\u001b[0m\u001b[0m\n\u001b[0m\u001b[1;32m   3081\u001b[0m \u001b[0;34m\u001b[0m\u001b[0m\n\u001b[1;32m   3082\u001b[0m         \u001b[0mindexer\u001b[0m \u001b[0;34m=\u001b[0m \u001b[0mself\u001b[0m\u001b[0;34m.\u001b[0m\u001b[0mget_indexer\u001b[0m\u001b[0;34m(\u001b[0m\u001b[0;34m[\u001b[0m\u001b[0mkey\u001b[0m\u001b[0;34m]\u001b[0m\u001b[0;34m,\u001b[0m \u001b[0mmethod\u001b[0m\u001b[0;34m=\u001b[0m\u001b[0mmethod\u001b[0m\u001b[0;34m,\u001b[0m \u001b[0mtolerance\u001b[0m\u001b[0;34m=\u001b[0m\u001b[0mtolerance\u001b[0m\u001b[0;34m)\u001b[0m\u001b[0;34m\u001b[0m\u001b[0m\n",
      "\u001b[0;32mpandas/_libs/index.pyx\u001b[0m in \u001b[0;36mpandas._libs.index.IndexEngine.get_loc\u001b[0;34m()\u001b[0m\n",
      "\u001b[0;32mpandas/_libs/index.pyx\u001b[0m in \u001b[0;36mpandas._libs.index.IndexEngine.get_loc\u001b[0;34m()\u001b[0m\n",
      "\u001b[0;32mpandas/_libs/hashtable_class_helper.pxi\u001b[0m in \u001b[0;36mpandas._libs.hashtable.PyObjectHashTable.get_item\u001b[0;34m()\u001b[0m\n",
      "\u001b[0;32mpandas/_libs/hashtable_class_helper.pxi\u001b[0m in \u001b[0;36mpandas._libs.hashtable.PyObjectHashTable.get_item\u001b[0;34m()\u001b[0m\n",
      "\u001b[0;31mKeyError\u001b[0m: 'NUMWORDS'"
     ]
    }
   ],
   "source": [
    "s['NUMWORDS']"
   ]
  },
  {
   "cell_type": "code",
   "execution_count": 62,
   "metadata": {},
   "outputs": [
    {
     "data": {
      "text/html": [
       "<div>\n",
       "<style scoped>\n",
       "    .dataframe tbody tr th:only-of-type {\n",
       "        vertical-align: middle;\n",
       "    }\n",
       "\n",
       "    .dataframe tbody tr th {\n",
       "        vertical-align: top;\n",
       "    }\n",
       "\n",
       "    .dataframe thead th {\n",
       "        text-align: right;\n",
       "    }\n",
       "</style>\n",
       "<table border=\"1\" class=\"dataframe\">\n",
       "  <thead>\n",
       "    <tr style=\"text-align: right;\">\n",
       "      <th></th>\n",
       "      <th>CMO_NAME</th>\n",
       "      <th>CMO_MEMSUM</th>\n",
       "      <th>SCH_NAME</th>\n",
       "      <th>CMO_STATE</th>\n",
       "      <th>CMO_SCHNUM</th>\n",
       "      <th>CMO_URL</th>\n",
       "      <th>CMO_NUMSTATES</th>\n",
       "      <th>CMO_ALLSTATES</th>\n",
       "      <th>CMO_SECTOR</th>\n",
       "      <th>CMO_NUMSTUDENTS_CREDO17</th>\n",
       "      <th>...</th>\n",
       "      <th>WEBTEXT_METHOD</th>\n",
       "      <th>REPLACED</th>\n",
       "      <th>CMO_REPLACED</th>\n",
       "      <th>PROG_COUNT</th>\n",
       "      <th>RIT_COUNT</th>\n",
       "      <th>ESS_COUNT</th>\n",
       "      <th>ESS_STR</th>\n",
       "      <th>PROG_STR</th>\n",
       "      <th>RIT_STR</th>\n",
       "      <th>NUMWORDS</th>\n",
       "    </tr>\n",
       "  </thead>\n",
       "  <tbody>\n",
       "    <tr>\n",
       "      <th>6</th>\n",
       "      <td>NaN</td>\n",
       "      <td>NaN</td>\n",
       "      <td>NaN</td>\n",
       "      <td>NaN</td>\n",
       "      <td>NaN</td>\n",
       "      <td>NaN</td>\n",
       "      <td>NaN</td>\n",
       "      <td>NaN</td>\n",
       "      <td>NaN</td>\n",
       "      <td>NaN</td>\n",
       "      <td>...</td>\n",
       "      <td>3</td>\n",
       "      <td>False</td>\n",
       "      <td>NaN</td>\n",
       "      <td>42362</td>\n",
       "      <td>84617</td>\n",
       "      <td>42173</td>\n",
       "      <td>-2.281172</td>\n",
       "      <td>-2.275801</td>\n",
       "      <td>-1.978746</td>\n",
       "      <td>8057623</td>\n",
       "    </tr>\n",
       "  </tbody>\n",
       "</table>\n",
       "<p>1 rows × 401 columns</p>\n",
       "</div>"
      ],
      "text/plain": [
       "   CMO_NAME  CMO_MEMSUM  SCH_NAME  CMO_STATE  CMO_SCHNUM  CMO_URL  \\\n",
       "6       NaN         NaN       NaN        NaN         NaN      NaN   \n",
       "\n",
       "   CMO_NUMSTATES  CMO_ALLSTATES  CMO_SECTOR  CMO_NUMSTUDENTS_CREDO17   ...     \\\n",
       "6            NaN            NaN         NaN                      NaN   ...      \n",
       "\n",
       "   WEBTEXT_METHOD  REPLACED CMO_REPLACED  PROG_COUNT RIT_COUNT ESS_COUNT  \\\n",
       "6               3     False          NaN       42362     84617     42173   \n",
       "\n",
       "    ESS_STR  PROG_STR   RIT_STR NUMWORDS  \n",
       "6 -2.281172 -2.275801 -1.978746  8057623  \n",
       "\n",
       "[1 rows x 401 columns]"
      ]
     },
     "execution_count": 62,
     "metadata": {},
     "output_type": "execute_result"
    }
   ],
   "source": [
    "big_df[big_df['NCESSCH'].isin(list(s['NCESSCH']))] #1 school split into 2 rows "
   ]
  },
  {
   "cell_type": "code",
   "execution_count": 64,
   "metadata": {},
   "outputs": [
    {
     "data": {
      "text/html": [
       "<div>\n",
       "<style scoped>\n",
       "    .dataframe tbody tr th:only-of-type {\n",
       "        vertical-align: middle;\n",
       "    }\n",
       "\n",
       "    .dataframe tbody tr th {\n",
       "        vertical-align: top;\n",
       "    }\n",
       "\n",
       "    .dataframe thead th {\n",
       "        text-align: right;\n",
       "    }\n",
       "</style>\n",
       "<table border=\"1\" class=\"dataframe\">\n",
       "  <thead>\n",
       "    <tr style=\"text-align: right;\">\n",
       "      <th></th>\n",
       "      <th>CMO_NAME</th>\n",
       "      <th>CMO_MEMSUM</th>\n",
       "      <th>SCH_NAME</th>\n",
       "      <th>CMO_STATE</th>\n",
       "      <th>CMO_SCHNUM</th>\n",
       "      <th>CMO_URL</th>\n",
       "      <th>CMO_NUMSTATES</th>\n",
       "      <th>CMO_ALLSTATES</th>\n",
       "      <th>CMO_SECTOR</th>\n",
       "      <th>CMO_NUMSTUDENTS_CREDO17</th>\n",
       "      <th>...</th>\n",
       "      <th>WEBTEXT_METHOD</th>\n",
       "      <th>REPLACED</th>\n",
       "      <th>CMO_REPLACED</th>\n",
       "      <th>PROG_COUNT</th>\n",
       "      <th>RIT_COUNT</th>\n",
       "      <th>ESS_COUNT</th>\n",
       "      <th>ESS_STR</th>\n",
       "      <th>PROG_STR</th>\n",
       "      <th>RIT_STR</th>\n",
       "      <th>NUMWORDS</th>\n",
       "    </tr>\n",
       "  </thead>\n",
       "  <tbody>\n",
       "    <tr>\n",
       "      <th>0</th>\n",
       "      <td>NaN</td>\n",
       "      <td>NaN</td>\n",
       "      <td>NaN</td>\n",
       "      <td>NaN</td>\n",
       "      <td>NaN</td>\n",
       "      <td>NaN</td>\n",
       "      <td>NaN</td>\n",
       "      <td>NaN</td>\n",
       "      <td>NaN</td>\n",
       "      <td>NaN</td>\n",
       "      <td>...</td>\n",
       "      <td>3</td>\n",
       "      <td>False</td>\n",
       "      <td>NaN</td>\n",
       "      <td>38471</td>\n",
       "      <td>76840</td>\n",
       "      <td>38285</td>\n",
       "      <td>-2.281288</td>\n",
       "      <td>-2.275754</td>\n",
       "      <td>-1.978726</td>\n",
       "      <td>7316726</td>\n",
       "    </tr>\n",
       "  </tbody>\n",
       "</table>\n",
       "<p>1 rows × 401 columns</p>\n",
       "</div>"
      ],
      "text/plain": [
       "   CMO_NAME  CMO_MEMSUM  SCH_NAME  CMO_STATE  CMO_SCHNUM  CMO_URL  \\\n",
       "0       NaN         NaN       NaN        NaN         NaN      NaN   \n",
       "\n",
       "   CMO_NUMSTATES  CMO_ALLSTATES  CMO_SECTOR  CMO_NUMSTUDENTS_CREDO17   ...     \\\n",
       "0            NaN            NaN         NaN                      NaN   ...      \n",
       "\n",
       "   WEBTEXT_METHOD  REPLACED CMO_REPLACED  PROG_COUNT RIT_COUNT ESS_COUNT  \\\n",
       "0               3     False          NaN       38471     76840     38285   \n",
       "\n",
       "    ESS_STR  PROG_STR   RIT_STR NUMWORDS  \n",
       "0 -2.281288 -2.275754 -1.978726  7316726  \n",
       "\n",
       "[1 rows x 401 columns]"
      ]
     },
     "execution_count": 64,
     "metadata": {},
     "output_type": "execute_result"
    }
   ],
   "source": [
    "big_df[big_df['NCESSCH'].isin(list(f['NCESSCH']))] #1 school split into 2 rows "
   ]
  },
  {
   "cell_type": "code",
   "execution_count": null,
   "metadata": {},
   "outputs": [],
   "source": []
  }
 ],
 "metadata": {
  "kernelspec": {
   "display_name": "Python 3",
   "language": "python",
   "name": "python3"
  },
  "language_info": {
   "codemirror_mode": {
    "name": "ipython",
    "version": 3
   },
   "file_extension": ".py",
   "mimetype": "text/x-python",
   "name": "python",
   "nbconvert_exporter": "python",
   "pygments_lexer": "ipython3",
   "version": "3.6.3"
  }
 },
 "nbformat": 4,
 "nbformat_minor": 2
}
