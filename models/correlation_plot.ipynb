{
 "cells": [
  {
   "cell_type": "code",
   "execution_count": 1,
   "metadata": {},
   "outputs": [
    {
     "name": "stdout",
     "output_type": "stream",
     "text": [
      "Requirement already satisfied: gensim in /opt/conda/lib/python3.6/site-packages (3.7.3)\n",
      "Requirement already satisfied: scipy>=0.18.1 in /opt/conda/lib/python3.6/site-packages (from gensim) (1.1.0)\n",
      "Requirement already satisfied: six>=1.5.0 in /opt/conda/lib/python3.6/site-packages (from gensim) (1.12.0)\n",
      "Requirement already satisfied: numpy>=1.11.3 in /opt/conda/lib/python3.6/site-packages (from gensim) (1.13.3)\n",
      "Requirement already satisfied: smart-open>=1.7.0 in /opt/conda/lib/python3.6/site-packages (from gensim) (1.8.3)\n",
      "Requirement already satisfied: boto>=2.32 in /opt/conda/lib/python3.6/site-packages (from smart-open>=1.7.0->gensim) (2.49.0)\n",
      "Requirement already satisfied: requests in /opt/conda/lib/python3.6/site-packages (from smart-open>=1.7.0->gensim) (2.21.0)\n",
      "Requirement already satisfied: boto3 in /opt/conda/lib/python3.6/site-packages (from smart-open>=1.7.0->gensim) (1.9.158)\n",
      "Requirement already satisfied: idna<2.9,>=2.5 in /opt/conda/lib/python3.6/site-packages (from requests->smart-open>=1.7.0->gensim) (2.8)\n",
      "Requirement already satisfied: certifi>=2017.4.17 in /opt/conda/lib/python3.6/site-packages (from requests->smart-open>=1.7.0->gensim) (2018.11.29)\n",
      "Requirement already satisfied: urllib3<1.25,>=1.21.1 in /opt/conda/lib/python3.6/site-packages (from requests->smart-open>=1.7.0->gensim) (1.24.1)\n",
      "Requirement already satisfied: chardet<3.1.0,>=3.0.2 in /opt/conda/lib/python3.6/site-packages (from requests->smart-open>=1.7.0->gensim) (3.0.4)\n",
      "Requirement already satisfied: jmespath<1.0.0,>=0.7.1 in /opt/conda/lib/python3.6/site-packages (from boto3->smart-open>=1.7.0->gensim) (0.9.4)\n",
      "Requirement already satisfied: s3transfer<0.3.0,>=0.2.0 in /opt/conda/lib/python3.6/site-packages (from boto3->smart-open>=1.7.0->gensim) (0.2.0)\n",
      "Requirement already satisfied: botocore<1.13.0,>=1.12.158 in /opt/conda/lib/python3.6/site-packages (from boto3->smart-open>=1.7.0->gensim) (1.12.158)\n",
      "Requirement already satisfied: docutils>=0.10 in /opt/conda/lib/python3.6/site-packages (from botocore<1.13.0,>=1.12.158->boto3->smart-open>=1.7.0->gensim) (0.14)\n",
      "Requirement already satisfied: python-dateutil<3.0.0,>=2.1; python_version >= \"2.7\" in /opt/conda/lib/python3.6/site-packages (from botocore<1.13.0,>=1.12.158->boto3->smart-open>=1.7.0->gensim) (2.8.0)\n",
      "Collecting testfixtures\n",
      "\u001b[?25l  Downloading https://files.pythonhosted.org/packages/fd/1e/d2b91046bc796c009b670b15b567f8580be924c1904efaf5fbf065799874/testfixtures-6.8.2-py2.py3-none-any.whl (85kB)\n",
      "\u001b[K    100% |████████████████████████████████| 92kB 6.6MB/s ta 0:00:011\n",
      "\u001b[?25hInstalling collected packages: testfixtures\n",
      "Successfully installed testfixtures-6.8.2\n"
     ]
    }
   ],
   "source": [
    "!pip install gensim\n",
    "!pip install testfixtures"
   ]
  },
  {
   "cell_type": "code",
   "execution_count": 2,
   "metadata": {},
   "outputs": [],
   "source": [
    "from gensim.test.test_doc2vec import ConcatenatedDoc2Vec\n",
    "from gensim.models import Doc2Vec\n",
    "from gensim.test.utils import get_tmpfile\n",
    "import os\n",
    "import numpy as np\n",
    "from numpy import dot\n",
    "from numpy.linalg import norm\n",
    "from sklearn.metrics.pairwise import cosine_similarity\n",
    "import pandas as pd\n",
    "import gensim\n",
    "from numpy import dot, absolute\n",
    "from numpy.linalg import norm"
   ]
  },
  {
   "cell_type": "code",
   "execution_count": 3,
   "metadata": {},
   "outputs": [],
   "source": [
    "cwd = os.getcwd()\n",
    "fname_dbow = get_tmpfile(cwd + \"/dbow_model\")\n",
    "model_dbow = Doc2Vec.load(fname_dbow)\n",
    "fname_dmm = get_tmpfile(cwd + \"/dmm_model\")\n",
    "model_dmm = Doc2Vec.load(fname_dmm)"
   ]
  },
  {
   "cell_type": "code",
   "execution_count": 4,
   "metadata": {},
   "outputs": [],
   "source": [
    "#writing function for common cosine similarity\n",
    "def doc_words_cosine(model, doc_tag, words):\n",
    "    doc_vec = model.docvecs[doc_tag]\n",
    "    if len(words) < 1: \n",
    "        print(\"Error: Input dictionary not found\")\n",
    "        return\n",
    "    elif len(words) > 1: #check if there are more than 1 word in the input\n",
    "        word_vec_avg = np.sum(model_dmm[words], axis=0)/len(words) # find centroid\n",
    "        word_vec_avg = word_vec_avg\n",
    "    elif len(words) == 1:\n",
    "        word_vec_avg = model_dmm[words]\n",
    "    return absolute(dot(doc_vec, word_vec_avg)/(norm(doc_vec)*norm(word_vec_avg)))"
   ]
  },
  {
   "cell_type": "code",
   "execution_count": 5,
   "metadata": {},
   "outputs": [],
   "source": [
    "inqseed = ['inquiry-based', 'problem-based', 'discovery', 'experiential', 'constructivist']\n",
    "\n",
    "inq30 = ['discovery-based', 'student-driven_exploration', 'exploration_and_experimentation', 'laboratory-based', \n",
    "         'problem-based', 'prbl', 'learn-by-doing', \n",
    "         'project-based', 'project-centered', \n",
    "         'experiential', 'experiential_approach', 'experientially',\n",
    "         'inquiry-based', 'inquiry-driven', 'student-centered_inquiry-based', 'active_inquiry', \n",
    "         'constructivist', 'constructivism', \n",
    "         'hands-on', 'hand-on', 'hands-on_learning', 'hands-on_and_minds-on', 'hands-on_minds-on', 'hands-on/minds-on', \n",
    "         'socratic', 'socratic_method', 'socratic_dialogue',\n",
    "         'child-centered', 'learner-centered', 'student-centered']\n",
    "\n",
    "inq100 = ['discovery-based', 'student-driven_exploration', 'exploration_and_experimentation', 'laboratory-based', 'problem-based', 'prbl', 'learn-by-doing', 'project-based', 'project-centered', 'experiential', 'experiential_approach', 'experientially', 'inquiry-based', 'inquiry-driven', 'student-centered_inquiry-based', 'active_inquiry', 'constructivist', 'constructivism', 'hands-on', 'hand-on', 'hands-on_learning', 'hands-on_and_minds-on', 'hands-on_minds-on', 'hands-on/minds-on', 'socratic', 'socratic_method', 'socratic_dialogue', 'child-centered', 'learner-centered', 'student-centered', 'arithmetic_reasoning', 'climate_improvement/improvement', 'awaken_the_imagination', 'cross-content', 'abilities_will_be_maximized', 'core-content_courses', 'benefits_of_co-op', 'proxy_servers', 'twinery', 'theme-based', 'relevant_to_the_viability', 'interdisciplinary', 'cogent', 'open-mindedness', 'reinforce_previously', 'equipping_educators', 'mentorships', 'nonpolitical', 'trained_appraisers', 'lightness', 'respective_histories', 'instruction_cgi', 'sustaining_of_a_genuine', 'natural', 'case-based', 'indispensable', 'timeless_but_indispensable', 'prohibitively_expensive', 'disparate_personalities', 'inspiring', 'richness_and_strength', 'experience-based', 'thorough_and_accurate', 'vitals', 'obsolescence', 'ellipsis_points', 'circles_graphed', 'polite_manners', 'homeschool-friendly', 'participating_in_acting/music/arts', 'develop/implement', 'willow_seedling', 'non-coercive', 'gender-nonconforming', 'activity/project', 'identification_of_learning/behavioral', 'orientating', 'interdependence', 'individual/personalized_manner', 'technological_modalities', 'experimentation', 'particularly_vulnerable', 'curiosity', 'discerning_listeners', 'approaches_such_as_sheltered', 'rule-making', 'dissipate', 'mirror_real-life', 'product/outcome', 'expeditions', 'wishful', 'conceiving', 'independence', 'drove_the_expedition', 'thrives', 'functional_weakness', 'would_be_off-putting', 'collaborative_student-community', 'trustee_elections', 'evaluate_the_motives']\n",
    "\n",
    "inq500 = ['active_inquiry',\n",
    " 'child-centered',\n",
    " 'constructivism',\n",
    " 'constructivist',\n",
    " 'discovery-based',\n",
    " 'experiential',\n",
    " 'experiential_approach',\n",
    " 'experientially',\n",
    " 'exploration_and_experimentation',\n",
    " 'hand-on',\n",
    " 'hands-on',\n",
    " 'hands-on/minds-on',\n",
    " 'hands-on_and_minds-on',\n",
    " 'hands-on_learning',\n",
    " 'hands-on_minds-on',\n",
    " 'inquiry-based',\n",
    " 'inquiry-driven',\n",
    " 'laboratory-based',\n",
    " 'learn-by-doing',\n",
    " 'learner-centered',\n",
    " 'prbl',\n",
    " 'problem-based',\n",
    " 'project-based',\n",
    " 'project-centered',\n",
    " 'socratic',\n",
    " 'socratic_dialogue',\n",
    " 'socratic_method',\n",
    " 'student-centered',\n",
    " 'student-centered_inquiry-based',\n",
    " 'student-driven_exploration',\n",
    " 'abilities',\n",
    " 'abilities_will_be_maximized',\n",
    " 'ability-grouped',\n",
    " 'acquire_requisite',\n",
    " 'activities',\n",
    " 'activities/lessons',\n",
    " 'activity/project',\n",
    " 'adept_at_facilitating',\n",
    " 'adherents',\n",
    " 'adjusted_and_thrived',\n",
    " 'admittedly_fallible',\n",
    " 'agile',\n",
    " 'aligned_to_the_ngss',\n",
    " 'allegiances',\n",
    " 'altered/added',\n",
    " 'amazed_by_the_generosity',\n",
    " 'anecdotes',\n",
    " 'appealing_and_relevant',\n",
    " 'approaches_such_as_sheltered',\n",
    " 'appropriately_allocated',\n",
    " 'architecture',\n",
    " 'arguments_and_informative/explanatory',\n",
    " 'arithmetic_reasoning',\n",
    " 'art-filled',\n",
    " 'artistic',\n",
    " 'assemble_the_pieces',\n",
    " 'atomic_nucleus',\n",
    " 'awaken_the_imagination',\n",
    " 'bearing_on_the_viability',\n",
    " 'benefits_of_co-op',\n",
    " 'bi-literacy',\n",
    " 'brain-compatible',\n",
    " 'brain-friendly',\n",
    " 'break/gross_motor',\n",
    " 'brighter_tomorrow',\n",
    " 'brilliantly_infused',\n",
    " 'brochure_to_solidify',\n",
    " 'c++_programming',\n",
    " 'capitalism_and_socialism',\n",
    " 'career-focused_and_technical',\n",
    " 'carefully_weigh',\n",
    " 'case-based',\n",
    " 'championing_issues',\n",
    " 'channels_their_energies',\n",
    " 'character-based_strengths',\n",
    " 'checking-for-understanding',\n",
    " 'child-centered_individualized',\n",
    " 'child-sized_furniture',\n",
    " 'circles_graphed',\n",
    " 'circulatory_and_nervous',\n",
    " 'city-planning',\n",
    " 'civically_active',\n",
    " 'classical/stem_based',\n",
    " 'climate_improvement/improvement',\n",
    " 'coaches/leaders',\n",
    " 'cogent',\n",
    " 'cognitively_demanding',\n",
    " 'coherent_sequenced',\n",
    " 'cohesiveness',\n",
    " 'collaborate_on_a_large-scale',\n",
    " 'collaborative_student-community',\n",
    " 'college-level_options',\n",
    " 'colorism',\n",
    " 'comma_rules',\n",
    " 'commensurate_with_their_abilities',\n",
    " 'committing_offenses',\n",
    " 'commonly_confused',\n",
    " 'communication/collaboration',\n",
    " 'community-wide',\n",
    " 'comparing_the_inputs',\n",
    " 'compelling_paragraphs',\n",
    " 'competency_and_mastery',\n",
    " 'complex_adult-world',\n",
    " 'complexity',\n",
    " 'comprehensibility',\n",
    " 'comprehensive_16-hour',\n",
    " 'conceiving',\n",
    " 'concept/skill',\n",
    " 'concurrently_with_the_choreography',\n",
    " 'considering_waldorf',\n",
    " 'constructivist-based',\n",
    " 'consultation/collaboration',\n",
    " 'content-rich_nonfiction',\n",
    " 'content-specific',\n",
    " 'context',\n",
    " 'continous',\n",
    " 'continuity_and_commitment',\n",
    " 'core-content_courses',\n",
    " 'craftsmanship',\n",
    " 'create_spectacles',\n",
    " 'creative',\n",
    " 'creativity',\n",
    " 'critical-thinkers',\n",
    " 'critical-thinking',\n",
    " 'cross-content',\n",
    " 'crystallization',\n",
    " 'cultural_diversities',\n",
    " 'cultural_heritages',\n",
    " 'curiosity',\n",
    " 'curriculum/standards',\n",
    " 'data-rich',\n",
    " 'decision-making',\n",
    " 'decisionmaking_skills',\n",
    " 'deepen',\n",
    " 'deeper',\n",
    " 'definiteness',\n",
    " 'demanding_college-preparatory',\n",
    " 'derivations',\n",
    " 'describe_distributions',\n",
    " 'design2fab_lab',\n",
    " 'develop/implement',\n",
    " 'developing',\n",
    " 'dialoguing',\n",
    " 'diaries_and_journals',\n",
    " 'different/',\n",
    " 'differentiated/personalized',\n",
    " 'differing_structure',\n",
    " 'discerning_listeners',\n",
    " 'discover',\n",
    " 'disempower',\n",
    " 'disparate_personalities',\n",
    " 'dissection_techniques',\n",
    " 'dissipate',\n",
    " 'distraction-free',\n",
    " 'drafting_and_revising',\n",
    " 'drove_the_expedition',\n",
    " 'dynamic_collaboration',\n",
    " 'dynamically_and_immediately',\n",
    " 'edifying',\n",
    " 'editing_and_proofing',\n",
    " 'effectiveness_of_metacognitive',\n",
    " 'effects_of_repetition',\n",
    " 'efficacy_by_encouraging',\n",
    " 'eliminating_unnecessary',\n",
    " 'elitism',\n",
    " 'ellipsis_points',\n",
    " 'embraced_and_supported',\n",
    " 'emojis',\n",
    " 'encourage',\n",
    " 'encouraging',\n",
    " 'enduring_conceptual',\n",
    " 'enduring_relationships',\n",
    " 'engaged_citizen',\n",
    " 'engaging',\n",
    " 'enlargement',\n",
    " 'ennoble',\n",
    " 'ennobling_effect',\n",
    " 'environment',\n",
    " 'equipping_educators',\n",
    " 'esl/family',\n",
    " 'evaluate_the_motives',\n",
    " 'evidence_in_a_nuanced',\n",
    " 'examples_evoke',\n",
    " 'expeditions',\n",
    " 'experience-based',\n",
    " 'experiental_learning',\n",
    " 'experimental_labs',\n",
    " 'experimentation',\n",
    " 'exploration',\n",
    " 'explorations',\n",
    " 'explorative',\n",
    " 'expose_them_to_a_wider',\n",
    " 'exposed_to_a_coherent',\n",
    " 'facilitation_techniques',\n",
    " 'faint_of_heart',\n",
    " 'feedback',\n",
    " 'field-based',\n",
    " 'fieldwork',\n",
    " 'filming',\n",
    " 'fiscal_mismanagement',\n",
    " 'force_to_be_reckoned',\n",
    " 'fostered',\n",
    " 'fostering',\n",
    " 'fuels_my_desire',\n",
    " 'fully-vetted',\n",
    " 'functional_weakness',\n",
    " 'gender-nonconforming',\n",
    " 'generalizations_and_predictions',\n",
    " 'gets_maximized',\n",
    " 'goal-driven',\n",
    " 'gods_of_asgard',\n",
    " 'grade-by-grade_year-by-year',\n",
    " 'gradual_manner',\n",
    " 'grander_scale',\n",
    " 'grapple_with_difficult',\n",
    " 'greek_philosophers',\n",
    " 'grit_and_zest',\n",
    " 'growth',\n",
    " 'hands‑on',\n",
    " 'harmonize',\n",
    " 'headmaster_letters',\n",
    " 'helps',\n",
    " 'higher-level_cognitive',\n",
    " 'highly_scripted',\n",
    " 'home-away-from-home',\n",
    " 'homeschool-friendly',\n",
    " 'hope',\n",
    " 'humanism',\n",
    " 'humanities_major',\n",
    " 'identification_of_learning/behavioral',\n",
    " 'immersive',\n",
    " 'implant_into_the_memories',\n",
    " 'in-demand_transportable',\n",
    " 'incorporating_the_principles',\n",
    " 'increased_connectedness',\n",
    " 'independence',\n",
    " 'indispensable',\n",
    " 'individual/personalized_manner',\n",
    " 'individualize_and_differentiate',\n",
    " 'inflected',\n",
    " 'innovativeness',\n",
    " 'inquiry/research',\n",
    " 'inspire',\n",
    " 'inspiring',\n",
    " 'instruction_cgi',\n",
    " 'integrated',\n",
    " 'intelligent_and_intentional',\n",
    " 'inter-dependence',\n",
    " 'interdependence',\n",
    " 'interdisciplinary',\n",
    " 'interests',\n",
    " 'interior_monologue',\n",
    " 'internship/interest',\n",
    " 'interpersonal',\n",
    " 'investigate',\n",
    " 'issues-based',\n",
    " 'item/category_to_better',\n",
    " 'jasmine_flower',\n",
    " 'journaling',\n",
    " 'joy-filled',\n",
    " 'kinaesthetic',\n",
    " 'laborious_process',\n",
    " 'language-rich',\n",
    " 'leader_and_a_follower',\n",
    " 'learn',\n",
    " 'learning',\n",
    " 'learning-to-learn',\n",
    " 'lens',\n",
    " 'life-based',\n",
    " 'life-long',\n",
    " 'life-skill',\n",
    " 'lifelong',\n",
    " 'lightness',\n",
    " 'literature-rich',\n",
    " 'literature_has_tended',\n",
    " 'loving_and_attentive',\n",
    " 'low-ability',\n",
    " 'lowest_in_achievement',\n",
    " 'loyalty',\n",
    " 'math/engineering',\n",
    " 'maturationally_ready',\n",
    " 'meaningful',\n",
    " 'mentorship',\n",
    " 'mentorships',\n",
    " 'metacognitive',\n",
    " 'micro-economic_ventures',\n",
    " 'minds',\n",
    " 'minds-on',\n",
    " 'mirror_real-life',\n",
    " 'mixed-ability',\n",
    " 'modality',\n",
    " 'motivate_their_attempts',\n",
    " 'mud_hut',\n",
    " 'multi-dimensional',\n",
    " 'multi-disciplinary',\n",
    " 'multi-faceted',\n",
    " 'multiple-paragraph',\n",
    " 'must-reads',\n",
    " 'mutual',\n",
    " 'myon_reader',\n",
    " 'mythological_creature',\n",
    " 'natural',\n",
    " 'nature',\n",
    " 'nature-based_perspective',\n",
    " 'navigable',\n",
    " 'near-daily_basis',\n",
    " 'need-to-know_facts',\n",
    " 'needing_improvement',\n",
    " 'neuro-anatomy',\n",
    " 'next_generation',\n",
    " 'non-arts',\n",
    " 'non-coercive',\n",
    " 'non-dominant',\n",
    " 'non-instrumental',\n",
    " 'non-montessori',\n",
    " 'noninfectious',\n",
    " 'nonpolitical',\n",
    " 'novel-based',\n",
    " 'nurtures_mutual',\n",
    " 'nurturing',\n",
    " 'observation',\n",
    " 'obsolescence',\n",
    " 'one-segment',\n",
    " 'one2one_digital',\n",
    " 'open-mindedness',\n",
    " 'orientating',\n",
    " 'originated_in_cuba',\n",
    " 'outcome-focused',\n",
    " 'pace_most_suited',\n",
    " 'parabolas_graphed',\n",
    " 'parent/student/staff_compact',\n",
    " 'participating_in_acting/music/arts',\n",
    " 'particularly_vulnerable',\n",
    " 'pedagogical_delivery',\n",
    " 'pep-rally',\n",
    " 'personalized',\n",
    " 'perspective',\n",
    " 'philosophical',\n",
    " 'philosophies',\n",
    " 'photographing',\n",
    " 'pinata',\n",
    " 'point-of-need',\n",
    " 'polite_manners',\n",
    " 'post-production_editing',\n",
    " 'post-school_life',\n",
    " 'power_of_student-faculty',\n",
    " 'powers_of_abstraction',\n",
    " 'practicality',\n",
    " 'pre-teach',\n",
    " 'precise_claim',\n",
    " 'predicated_on_the_realization',\n",
    " 'presumption_and_belief',\n",
    " 'problem‑solving',\n",
    " 'process-based_writing',\n",
    " 'processes_recursively',\n",
    " 'product/outcome',\n",
    " 'prohibitively_expensive',\n",
    " 'project-focused',\n",
    " 'providing',\n",
    " 'proxy_servers',\n",
    " 'purveyors',\n",
    " 'qualify_or_justify',\n",
    " 'quality-learning',\n",
    " 'quantitatively_as_well',\n",
    " 'quiet',\n",
    " 'ramp-up_to_readiness',\n",
    " 're-forming',\n",
    " 'real-life',\n",
    " 'real-world',\n",
    " 'reason_mathematically',\n",
    " 'rectangular_array',\n",
    " 'reduces_distractions',\n",
    " 'refine_gross',\n",
    " 'reinforce_previously',\n",
    " 'reinterpret',\n",
    " 'reinvention',\n",
    " 'relatable_characters',\n",
    " 'relational_capacity',\n",
    " 'relationship-oriented_classroom',\n",
    " 'relationships_between_pollinators',\n",
    " 'relevant_to_the_viability',\n",
    " 'reliability',\n",
    " 'repeated_occurrence',\n",
    " 'research-supported',\n",
    " 'respective_histories',\n",
    " 'review_of_progress-monitoring',\n",
    " 'reﬂective',\n",
    " 'richness_and_diversity',\n",
    " 'richness_and_strength',\n",
    " 'robot_to_maneuver',\n",
    " 'rule-making',\n",
    " 'scaled_scores',\n",
    " 'school-life',\n",
    " 'sculptural_forms',\n",
    " 'sculptural_techniques',\n",
    " 'self-appreciation',\n",
    " 'self-awareness',\n",
    " 'self-efficacy',\n",
    " 'self-expression',\n",
    " 'self-motivated',\n",
    " 'sense_of_reverence',\n",
    " 'sensory-motor',\n",
    " 'sensory-rich',\n",
    " 'sentence_workshopping',\n",
    " 'settled_tribe',\n",
    " 'shapes_and_their_attributes',\n",
    " 'shared',\n",
    " 'sherry_alam',\n",
    " 'shows_that_metacognitive',\n",
    " 'simulations_role-playing',\n",
    " 'skills/family',\n",
    " 'small-group',\n",
    " 'small-group_discussion',\n",
    " 'social/soft',\n",
    " 'socialresponsibility',\n",
    " 'standards-focused',\n",
    " 'staunch_supporter',\n",
    " 'stepstone_360°',\n",
    " 'stewards',\n",
    " 'stopped_and_looked',\n",
    " \"story's_lesson\",\n",
    " 'stress-management',\n",
    " 'strict/warm',\n",
    " 'structurally_similar',\n",
    " 'structured_and_predictable',\n",
    " 'struggles_and_questioning',\n",
    " 'student-directed',\n",
    " 'student-driven',\n",
    " 'study/teaching',\n",
    " 'subject-area_integration',\n",
    " 'succesful',\n",
    " 'suit_their_needs',\n",
    " 'superbowl_party',\n",
    " 'supplemental_curricula',\n",
    " 'sustainability',\n",
    " 'sustaining_of_a_genuine',\n",
    " 'symbolic_representations',\n",
    " 'synthetic_phonics',\n",
    " 'systematic_and_sequential',\n",
    " 'tacitly',\n",
    " 'target/objective',\n",
    " 'teacher-to-teacher',\n",
    " 'team-based_organizational',\n",
    " 'techniques_namely',\n",
    " 'technological_modalities',\n",
    " 'technologies_and_our_science-based',\n",
    " 'technology-assisted',\n",
    " 'technology-infused',\n",
    " 'technology–',\n",
    " 'tedxyouth',\n",
    " 'temper_tantrum',\n",
    " 'text-analysis',\n",
    " 'text_capitalcitypcs',\n",
    " 'textbooks_affording',\n",
    " 'thematic',\n",
    " 'thematically',\n",
    " 'theme-based',\n",
    " 'themes',\n",
    " 'theses',\n",
    " 'thorough_and_accurate',\n",
    " 'three-part_pattern',\n",
    " 'thrives',\n",
    " 'tight-knit',\n",
    " 'time-management',\n",
    " 'timeless_but_indispensable',\n",
    " 'touchpoints',\n",
    " 'trained_appraisers',\n",
    " 'transgender',\n",
    " 'tricycle',\n",
    " 'trustee_elections',\n",
    " 'tunnels_and_snowshed',\n",
    " 'twinery',\n",
    " 'unbidden_encounter',\n",
    " 'understand',\n",
    " 'understands',\n",
    " 'unfamiliar_contexts',\n",
    " 'unschooling',\n",
    " 'uphold_and_enforce',\n",
    " 'valued',\n",
    " 'values-centered',\n",
    " 'virtues',\n",
    " 'virtuous',\n",
    " 'visible_men',\n",
    " 'vitals',\n",
    " 'voluntarism',\n",
    " 'wampanoag',\n",
    " 'warm/strict',\n",
    " 'ways_of_knowing/learning',\n",
    " 'well-articulated_standards-based',\n",
    " 'well-developed',\n",
    " 'whole-group_explicit',\n",
    " 'willow_seedling',\n",
    " 'wishful',\n",
    " 'world-view',\n",
    " 'would_be_off-putting',\n",
    " 'writing-centered',\n",
    " 'writing—decoding',\n",
    " 'yet-to-be-defined_future']"
   ]
  },
  {
   "cell_type": "markdown",
   "metadata": {},
   "source": [
    "## checking that these words exist in the model and filtering"
   ]
  },
  {
   "cell_type": "code",
   "execution_count": 6,
   "metadata": {},
   "outputs": [
    {
     "name": "stdout",
     "output_type": "stream",
     "text": [
      "Total # of inqseed terms:  5\n"
     ]
    }
   ],
   "source": [
    "inqseed_filtered = []\n",
    "for word in inqseed:\n",
    "    try:\n",
    "        emb = model_dmm[word]\n",
    "        inqseed_filtered.append(word)\n",
    "    except:\n",
    "        pass\n",
    "\n",
    "print(\"Total # of inqseed terms: \", len(inqseed_filtered))"
   ]
  },
  {
   "cell_type": "code",
   "execution_count": 7,
   "metadata": {},
   "outputs": [
    {
     "name": "stdout",
     "output_type": "stream",
     "text": [
      "Total # of preserved inq30 terms:  13\n"
     ]
    }
   ],
   "source": [
    "inq30_filtered = []\n",
    "for word in inq30:\n",
    "    try:\n",
    "        emb = model_dmm[word]\n",
    "        inq30_filtered.append(word)\n",
    "    except:\n",
    "        pass\n",
    "    \n",
    "print(\"Total # of preserved inq30 terms: \", len(inq30_filtered))"
   ]
  },
  {
   "cell_type": "code",
   "execution_count": 8,
   "metadata": {},
   "outputs": [
    {
     "name": "stdout",
     "output_type": "stream",
     "text": [
      "Total # of preserved inq100 terms:  27\n"
     ]
    }
   ],
   "source": [
    "inq100_filtered = []\n",
    "for word in inq100:\n",
    "    try:\n",
    "        emb = model_dmm[word]\n",
    "        inq100_filtered.append(word)\n",
    "    except:\n",
    "        pass\n",
    "    \n",
    "print(\"Total # of preserved inq100 terms: \", len(inq100_filtered))"
   ]
  },
  {
   "cell_type": "code",
   "execution_count": 9,
   "metadata": {},
   "outputs": [
    {
     "name": "stdout",
     "output_type": "stream",
     "text": [
      "Total # of preserved inq500 terms:  123\n"
     ]
    }
   ],
   "source": [
    "inq500_filtered = []\n",
    "for word in inq500:\n",
    "    try:\n",
    "        emb = model_dmm[word]\n",
    "        inq500_filtered.append(word)\n",
    "    except:\n",
    "        pass\n",
    "    \n",
    "print(\"Total # of preserved inq500 terms: \", len(inq500_filtered))"
   ]
  },
  {
   "cell_type": "markdown",
   "metadata": {},
   "source": [
    "# Loading df"
   ]
  },
  {
   "cell_type": "code",
   "execution_count": 10,
   "metadata": {},
   "outputs": [],
   "source": [
    "def quickpickle_load(picklepath):\n",
    "    '''Very time-efficient way to load pickle-formatted objects into Python.\n",
    "    Uses C-based pickle (cPickle) and gc workarounds to facilitate speed. \n",
    "    Input: Filepath to pickled (*.pkl) object.\n",
    "    Output: Python object (probably a list of sentences or something similar).'''\n",
    "\n",
    "    with open(picklepath, 'rb') as loadfile:\n",
    "        \n",
    "        gc.disable() # disable garbage collector\n",
    "        outputvar = cPickle.load(loadfile) # Load from picklepath into outputvar\n",
    "        gc.enable() # enable garbage collector again\n",
    "    \n",
    "    return outputvar"
   ]
  },
  {
   "cell_type": "code",
   "execution_count": 11,
   "metadata": {},
   "outputs": [],
   "source": [
    "charters_path = \"../../nowdata/traincf_2015.pkl\" # All text data; only charter schools (regardless if open or not)\n",
    "import gc # For managing garbage collector\n",
    "import _pickle as cPickle # Optimized version of pickle"
   ]
  },
  {
   "cell_type": "code",
   "execution_count": 12,
   "metadata": {},
   "outputs": [
    {
     "name": "stdout",
     "output_type": "stream",
     "text": [
      "DF loaded from ../../nowdata/traincf_2015.pkl...\n"
     ]
    }
   ],
   "source": [
    "df = quickpickle_load(charters_path) # Load charter data into DF\n",
    "print(\"DF loaded from \" + str(charters_path) + \"...\")"
   ]
  },
  {
   "cell_type": "code",
   "execution_count": 13,
   "metadata": {},
   "outputs": [
    {
     "name": "stdout",
     "output_type": "stream",
     "text": [
      "Raw Count DF loaded from ../../nowdata/parsing/dict_counts_df.csv...\n"
     ]
    }
   ],
   "source": [
    "rawcount_df = pd.read_csv(\"../../nowdata/parsing/dict_counts_df.csv\", \n",
    "                          sep=\"\\t\", low_memory=False, encoding=\"utf-8\")\n",
    "print(\"Raw Count DF loaded from \" + \"../../nowdata/parsing/dict_counts_df.csv\" + \"...\")"
   ]
  },
  {
   "cell_type": "code",
   "execution_count": 14,
   "metadata": {},
   "outputs": [],
   "source": [
    "rawcount_df['inqseed'] = rawcount_df['inqseed']/rawcount_df['NUMWORDS']\n",
    "rawcount_df['inq30'] = rawcount_df['inq30']/rawcount_df['NUMWORDS']\n",
    "rawcount_df['inq100'] = rawcount_df['inq100']/rawcount_df['NUMWORDS']\n",
    "rawcount_df['inq500'] = rawcount_df['inq500']/rawcount_df['NUMWORDS']"
   ]
  },
  {
   "cell_type": "code",
   "execution_count": 15,
   "metadata": {},
   "outputs": [],
   "source": [
    "#importing df with already cleaned text data\n",
    "text_slow = pd.read_csv(\"InferSent/encoder/truncated_text.csv\")\n",
    "text_slow = text_slow.drop(['Unnamed: 0'], axis=1)"
   ]
  },
  {
   "cell_type": "code",
   "execution_count": 16,
   "metadata": {},
   "outputs": [],
   "source": [
    "text_slow['NCESSCH'] = text_slow.NCESSCH.astype('int')\n",
    "text_slow['NCESSCH'] = text_slow.NCESSCH.astype('str')"
   ]
  },
  {
   "cell_type": "code",
   "execution_count": 17,
   "metadata": {},
   "outputs": [],
   "source": [
    "df = df.reset_index(drop=True)"
   ]
  },
  {
   "cell_type": "code",
   "execution_count": 18,
   "metadata": {},
   "outputs": [],
   "source": [
    "#writing function for common cosine similarity\n",
    "def doc_words_cosine(model, doc_tag, words, model_type):\n",
    "    '''Returns a cosine similarity value between a document/school and a list of words of choice.\n",
    "        \n",
    "    Input: The model to be used, NCESSCH number, list of words, and the model type, which is either doc2vec or word2vec.\n",
    "            \n",
    "    Output: A scalar cosine similarity value.\n",
    "        '''\n",
    "    \n",
    "    if model_type == \"word2vec\":\n",
    "        s_sentences =  str.split(text_slow[text_slow.NCESSCH == str(int(doc_tag))].text_full)\n",
    "        #initiailizing list for word embeddings\n",
    "        ls = []\n",
    "        for word in s_sentences:\n",
    "            ls.append(model[word])\n",
    "        doc_vec = np.mean(np.array(ls), axis=0)\n",
    "    if model_type == \"doc2vec\":\n",
    "        doc_vec = model.docvecs[str(int(doc_tag))]\n",
    "    if len(words) < 1: \n",
    "        print(\"Error: Input dictionary not found\")\n",
    "        return\n",
    "    elif len(words) > 1: #check if there are more than 1 word in the input\n",
    "        word_vec_avg = np.sum(model_dmm[words], axis=0)/len(words) # find centroid\n",
    "        word_vec_avg = word_vec_avg\n",
    "    elif len(words) == 1:\n",
    "        word_vec_avg = model_dmm[words]\n",
    "    return absolute(dot(doc_vec, word_vec_avg)/(norm(doc_vec)*norm(word_vec_avg)))"
   ]
  },
  {
   "cell_type": "code",
   "execution_count": 19,
   "metadata": {},
   "outputs": [
    {
     "data": {
      "text/plain": [
       "0.05959063"
      ]
     },
     "execution_count": 19,
     "metadata": {},
     "output_type": "execute_result"
    }
   ],
   "source": [
    "doc_words_cosine(model_dmm, df.iloc[4,].NCESSCH, inqseed_filtered, 'doc2vec')"
   ]
  },
  {
   "cell_type": "code",
   "execution_count": 20,
   "metadata": {},
   "outputs": [
    {
     "data": {
      "text/plain": [
       "360105206271.0"
      ]
     },
     "execution_count": 20,
     "metadata": {},
     "output_type": "execute_result"
    }
   ],
   "source": [
    "df.iloc[4,].NCESSCH"
   ]
  },
  {
   "cell_type": "code",
   "execution_count": 21,
   "metadata": {},
   "outputs": [],
   "source": [
    "inqseed_cosine = []\n",
    "for i in range(len(df.NCESSCH)):\n",
    "    cosine_value = doc_words_cosine(model_dmm, df.iloc[i,].NCESSCH, inqseed_filtered, 'doc2vec')\n",
    "    inqseed_cosine.append(cosine_value)"
   ]
  },
  {
   "cell_type": "code",
   "execution_count": 22,
   "metadata": {},
   "outputs": [],
   "source": [
    "inq30_cosine = []\n",
    "for i in range(len(df.NCESSCH)):\n",
    "    cosine_value = doc_words_cosine(model_dmm, df.iloc[i,].NCESSCH, inq30_filtered, 'doc2vec')\n",
    "    inq30_cosine.append(cosine_value)"
   ]
  },
  {
   "cell_type": "code",
   "execution_count": 23,
   "metadata": {},
   "outputs": [],
   "source": [
    "inq100_cosine = []\n",
    "for i in range(len(df.NCESSCH)):\n",
    "    cosine_value = doc_words_cosine(model_dmm, df.iloc[i,].NCESSCH, inq100_filtered, 'doc2vec')\n",
    "    inq100_cosine.append(cosine_value)"
   ]
  },
  {
   "cell_type": "code",
   "execution_count": 24,
   "metadata": {},
   "outputs": [],
   "source": [
    "inq500_cosine = []\n",
    "for i in range(len(df.NCESSCH)):\n",
    "    cosine_value = doc_words_cosine(model_dmm, df.iloc[i,].NCESSCH, inq500_filtered, 'doc2vec')\n",
    "    inq500_cosine.append(cosine_value)"
   ]
  },
  {
   "cell_type": "code",
   "execution_count": 25,
   "metadata": {},
   "outputs": [],
   "source": [
    "df['inqseed_cosine'] = inqseed_cosine\n",
    "df['inq30_cosine'] = inq30_cosine\n",
    "df['inq100_cosine'] = inq100_cosine\n",
    "df['inq500_cosine'] = inq500_cosine"
   ]
  },
  {
   "cell_type": "code",
   "execution_count": 26,
   "metadata": {},
   "outputs": [],
   "source": [
    "df_nn = df[df.WEBTEXT != '']"
   ]
  },
  {
   "cell_type": "code",
   "execution_count": 27,
   "metadata": {},
   "outputs": [],
   "source": [
    "df_nn = df_nn.reset_index(drop=True)"
   ]
  },
  {
   "cell_type": "code",
   "execution_count": 28,
   "metadata": {},
   "outputs": [
    {
     "name": "stdout",
     "output_type": "stream",
     "text": [
      "Number of schools without N/A's:  5459\n"
     ]
    }
   ],
   "source": [
    "print(\"Number of schools without N/A's: \", len(df_nn))"
   ]
  },
  {
   "cell_type": "code",
   "execution_count": 29,
   "metadata": {},
   "outputs": [],
   "source": [
    "rawcount_df = rawcount_df.reset_index(drop=True)"
   ]
  },
  {
   "cell_type": "code",
   "execution_count": 30,
   "metadata": {},
   "outputs": [
    {
     "data": {
      "text/plain": [
       "0.0"
      ]
     },
     "execution_count": 30,
     "metadata": {},
     "output_type": "execute_result"
    }
   ],
   "source": [
    "rawcount_df[rawcount_df.NCESSCH == df.NCESSCH[1]]['inqseed'].item()"
   ]
  },
  {
   "cell_type": "code",
   "execution_count": 31,
   "metadata": {},
   "outputs": [],
   "source": [
    "#initializing lists for raw count values of seed, 30, 100, and 500 terms\n",
    "inqseed_raw = []\n",
    "inq30_raw = []\n",
    "inq100_raw = []\n",
    "inq500_raw = []\n",
    "\n",
    "for i in range(len(df_nn)):\n",
    "    inqseed_raw.append(rawcount_df[df.NCESSCH[i] == rawcount_df.NCESSCH]['inqseed'].item())\n",
    "    inq30_raw.append(rawcount_df[df.NCESSCH[i] == rawcount_df.NCESSCH]['inq30'].item())\n",
    "    inq100_raw.append(rawcount_df[df.NCESSCH[i] == rawcount_df.NCESSCH]['inq100'].item())\n",
    "    inq500_raw.append(rawcount_df[df.NCESSCH[i] == rawcount_df.NCESSCH]['inq500'].item())"
   ]
  },
  {
   "cell_type": "code",
   "execution_count": 32,
   "metadata": {},
   "outputs": [],
   "source": [
    "df_nn['inqseed_raw'] = inqseed_raw\n",
    "df_nn['inq30_raw'] = inq30_raw\n",
    "df_nn['inq100_raw'] = inq100_raw\n",
    "df_nn['inq500_raw'] = inq500_raw"
   ]
  },
  {
   "cell_type": "code",
   "execution_count": 33,
   "metadata": {},
   "outputs": [],
   "source": [
    "# #normalizing the columns\n",
    "# df_nn['inqseed_raw'] = df_nn['inqseed_raw']/df_nn['NUMWORDS']\n",
    "# df_nn['inq30_raw'] = df_nn['inq30_raw']/df_nn['NUMWORDS']\n",
    "# df_nn['inq100_raw'] = df_nn['inq100_raw']/df_nn['NUMWORDS']\n",
    "# df_nn['inq500_raw'] = df_nn['inq500_raw']/df_nn['NUMWORDS']"
   ]
  },
  {
   "cell_type": "code",
   "execution_count": 34,
   "metadata": {},
   "outputs": [
    {
     "data": {
      "text/plain": [
       "0.11057716892644089"
      ]
     },
     "execution_count": 34,
     "metadata": {},
     "output_type": "execute_result"
    }
   ],
   "source": [
    "df_nn.inqseed_cosine.mean()"
   ]
  },
  {
   "cell_type": "code",
   "execution_count": 35,
   "metadata": {},
   "outputs": [],
   "source": [
    "#change this if you have more dictionary sizes\n",
    "ls_lens = [len(inqseed_filtered), len(inq30_filtered), len(inq100_filtered), len(inq500_filtered)]\n",
    "ls_avgs = [df_nn.inqseed_cosine.mean(), df_nn.inq30_cosine.mean(), df_nn.inq100_cosine.mean(), \n",
    "           df_nn.inq500_cosine.mean()]"
   ]
  },
  {
   "cell_type": "code",
   "execution_count": 36,
   "metadata": {},
   "outputs": [],
   "source": [
    "import matplotlib.pyplot as plt"
   ]
  },
  {
   "cell_type": "code",
   "execution_count": 37,
   "metadata": {},
   "outputs": [
    {
     "data": {
      "image/png": "[encoded data removed]",
      "text/plain": [
       "<Figure size 432x288 with 1 Axes>"
      ]
     },
     "metadata": {
      "needs_background": "light"
     },
     "output_type": "display_data"
    }
   ],
   "source": [
    "fig, ax1 = plt.subplots(1,1)\n",
    "\n",
    "x1 = list(range(len(ls_lens)))\n",
    "squad = ['5','30','100','500'] #change this if you have more dictionary sizes\n",
    "\n",
    "ax1.set_xticks(x1)\n",
    "ax1.set_xticklabels(squad, minor=False, rotation=45)\n",
    "ax1.plot(x1, ls_avgs, marker='o', markerfacecolor='blue', markersize=6, color='skyblue', linewidth=4)\n",
    "plt.show()"
   ]
  },
  {
   "cell_type": "code",
   "execution_count": 38,
   "metadata": {},
   "outputs": [],
   "source": [
    "ls_avgs = ls_avgs + [df_nn.inqseed_raw.mean(), df_nn.inq30_raw.mean(), df_nn.inq100_raw.mean(),\n",
    "                    df_nn.inq500_raw.mean()]\n",
    "ls_lens = ls_lens + [len(inqseed_filtered), len(inq30_filtered), len(inq100_filtered), len(inq500_filtered)]"
   ]
  },
  {
   "cell_type": "code",
   "execution_count": 39,
   "metadata": {},
   "outputs": [
    {
     "data": {
      "text/plain": [
       "[5, 13, 27, 123, 5, 13, 27, 123]"
      ]
     },
     "execution_count": 39,
     "metadata": {},
     "output_type": "execute_result"
    }
   ],
   "source": [
    "ls_lens"
   ]
  },
  {
   "cell_type": "code",
   "execution_count": 40,
   "metadata": {},
   "outputs": [],
   "source": [
    "d = {'Strength': ls_avgs, 'Words':ls_lens, 'Metric':['Cosine','Cosine','Cosine',\n",
    "                                                     'Cosine','Raw Count','Raw Count','Raw Count','Raw Count']}\n",
    "dat = pd.DataFrame(data=d)\n",
    "x1 = list(range(4)) #change this if you have more dictionary sizes\n",
    "squad = ['5','30','100','500'] #change this if you have more dictionary sizes"
   ]
  },
  {
   "cell_type": "code",
   "execution_count": 41,
   "metadata": {},
   "outputs": [
    {
     "data": {
      "image/png": "[encoded data removed]",
      "text/plain": [
       "<Figure size 432x288 with 1 Axes>"
      ]
     },
     "metadata": {},
     "output_type": "display_data"
    }
   ],
   "source": [
    "import seaborn as sns; sns.set()\n",
    "import matplotlib.pyplot as plt\n",
    "#ax = sns.scatterplot(x=\"Words\", y=\"Strength\", data=dat)\n",
    "ax = sns.pointplot(x=\"Words\", y=\"Strength\", hue=\"Metric\", data=dat)\n",
    "ax.set_xticks(x1)\n",
    "ax.set_xticklabels(squad, minor=False, rotation=45)\n",
    "ax.set_ylim(-0.2,1)\n",
    "plt.show()"
   ]
  },
  {
   "cell_type": "code",
   "execution_count": 58,
   "metadata": {},
   "outputs": [
    {
     "data": {
      "text/plain": [
       "0.0072851773790490017"
      ]
     },
     "execution_count": 58,
     "metadata": {},
     "output_type": "execute_result"
    }
   ],
   "source": [
    "df_nn['inq500_cosine'].corr(df_nn['inq500_raw'])"
   ]
  },
  {
   "cell_type": "markdown",
   "metadata": {},
   "source": [
    "## Histogram plot of the cosine scores for seed, 30, 100, 500 terms.\n",
    "### Using specific range and bin numbers in order to be able to make better graphical comparison.\n",
    "#### if we want the line-of-distribution-fit off, do kde=False."
   ]
  },
  {
   "cell_type": "code",
   "execution_count": 61,
   "metadata": {},
   "outputs": [
    {
     "data": {
      "image/png": "[encoded data removed]",
      "text/plain": [
       "<Figure size 432x288 with 1 Axes>"
      ]
     },
     "metadata": {},
     "output_type": "display_data"
    }
   ],
   "source": [
    "sns.distplot(df_nn.inqseed_cosine, bins=20, kde=True, hist_kws={'range':(0,1)})\n",
    "plt.title(\"Distribution of Cosine Scores Amongst Schools (5 Seed Inquiry Terms)\")\n",
    "plt.xlabel(\"Cosine Score\")\n",
    "plt.ylabel(\"Frequency\")\n",
    "plt.show()"
   ]
  },
  {
   "cell_type": "code",
   "execution_count": 62,
   "metadata": {},
   "outputs": [
    {
     "data": {
      "image/png": "[encoded data removed]",
      "text/plain": [
       "<Figure size 432x288 with 1 Axes>"
      ]
     },
     "metadata": {},
     "output_type": "display_data"
    }
   ],
   "source": [
    "sns.distplot(df_nn.inq30_cosine, bins=20, kde=True, hist_kws={'range':(0,1)})\n",
    "plt.title(\"Distribution of Cosine Scores Amongst Schools (30 Inquiry Terms)\")\n",
    "plt.xlabel(\"Cosine Score\")\n",
    "plt.ylabel(\"Frequency\")\n",
    "plt.show()"
   ]
  },
  {
   "cell_type": "code",
   "execution_count": 63,
   "metadata": {},
   "outputs": [
    {
     "data": {
      "image/png": "[encoded data removed]",
      "text/plain": [
       "<Figure size 432x288 with 1 Axes>"
      ]
     },
     "metadata": {},
     "output_type": "display_data"
    }
   ],
   "source": [
    "sns.distplot(df_nn.inq100_cosine, bins=20, kde=True, hist_kws={'range':(0,1)})\n",
    "plt.title(\"Distribution of Cosine Scores Amongst Schools (100 Inquiry Terms)\")\n",
    "plt.xlabel(\"Cosine Score\")\n",
    "plt.ylabel(\"Frequency\")\n",
    "plt.show()"
   ]
  },
  {
   "cell_type": "code",
   "execution_count": 64,
   "metadata": {},
   "outputs": [
    {
     "data": {
      "image/png": "[encoded data removed]",
      "text/plain": [
       "<Figure size 432x288 with 1 Axes>"
      ]
     },
     "metadata": {},
     "output_type": "display_data"
    }
   ],
   "source": [
    "sns.distplot(df_nn.inq500_cosine, bins=20, kde=True, hist_kws={'range':(0,1)})\n",
    "plt.title(\"Distribution of Cosine Scores Amongst Schools (500 Inquiry Terms)\")\n",
    "plt.xlabel(\"Cosine Score\")\n",
    "plt.ylabel(\"Frequency\")\n",
    "plt.show()"
   ]
  },
  {
   "cell_type": "markdown",
   "metadata": {},
   "source": [
    "## Histogram plot for raw counts"
   ]
  },
  {
   "cell_type": "code",
   "execution_count": 68,
   "metadata": {},
   "outputs": [
    {
     "ename": "ValueError",
     "evalue": "cannot convert float NaN to integer",
     "output_type": "error",
     "traceback": [
      "\u001b[0;31m---------------------------------------------------------------------------\u001b[0m",
      "\u001b[0;31mValueError\u001b[0m                                Traceback (most recent call last)",
      "\u001b[0;32m<ipython-input-68-d6ea292d5dff>\u001b[0m in \u001b[0;36m<module>\u001b[0;34m\u001b[0m\n\u001b[0;32m----> 1\u001b[0;31m \u001b[0msns\u001b[0m\u001b[0;34m.\u001b[0m\u001b[0mdistplot\u001b[0m\u001b[0;34m(\u001b[0m\u001b[0mdf_nn\u001b[0m\u001b[0;34m.\u001b[0m\u001b[0minq500_raw\u001b[0m\u001b[0;34m,\u001b[0m \u001b[0mkde\u001b[0m\u001b[0;34m=\u001b[0m\u001b[0;32mTrue\u001b[0m\u001b[0;34m)\u001b[0m\u001b[0;34m\u001b[0m\u001b[0;34m\u001b[0m\u001b[0m\n\u001b[0m\u001b[1;32m      2\u001b[0m \u001b[0mplt\u001b[0m\u001b[0;34m.\u001b[0m\u001b[0mtitle\u001b[0m\u001b[0;34m(\u001b[0m\u001b[0;34m\"Distribution of Raw Counts Scores Amongst Schools (Seed Terms)\"\u001b[0m\u001b[0;34m)\u001b[0m\u001b[0;34m\u001b[0m\u001b[0;34m\u001b[0m\u001b[0m\n\u001b[1;32m      3\u001b[0m \u001b[0mplt\u001b[0m\u001b[0;34m.\u001b[0m\u001b[0mxlabel\u001b[0m\u001b[0;34m(\u001b[0m\u001b[0;34m\"Raw Counts\"\u001b[0m\u001b[0;34m)\u001b[0m\u001b[0;34m\u001b[0m\u001b[0;34m\u001b[0m\u001b[0m\n\u001b[1;32m      4\u001b[0m \u001b[0mplt\u001b[0m\u001b[0;34m.\u001b[0m\u001b[0mylabel\u001b[0m\u001b[0;34m(\u001b[0m\u001b[0;34m\"Frequency\"\u001b[0m\u001b[0;34m)\u001b[0m\u001b[0;34m\u001b[0m\u001b[0;34m\u001b[0m\u001b[0m\n\u001b[1;32m      5\u001b[0m \u001b[0mplt\u001b[0m\u001b[0;34m.\u001b[0m\u001b[0mshow\u001b[0m\u001b[0;34m(\u001b[0m\u001b[0;34m)\u001b[0m\u001b[0;34m\u001b[0m\u001b[0;34m\u001b[0m\u001b[0m\n",
      "\u001b[0;32m/opt/conda/lib/python3.6/site-packages/seaborn/distributions.py\u001b[0m in \u001b[0;36mdistplot\u001b[0;34m(a, bins, hist, kde, rug, fit, hist_kws, kde_kws, rug_kws, fit_kws, color, vertical, norm_hist, axlabel, label, ax)\u001b[0m\n\u001b[1;32m    213\u001b[0m     \u001b[0;32mif\u001b[0m \u001b[0mhist\u001b[0m\u001b[0;34m:\u001b[0m\u001b[0;34m\u001b[0m\u001b[0;34m\u001b[0m\u001b[0m\n\u001b[1;32m    214\u001b[0m         \u001b[0;32mif\u001b[0m \u001b[0mbins\u001b[0m \u001b[0;32mis\u001b[0m \u001b[0;32mNone\u001b[0m\u001b[0;34m:\u001b[0m\u001b[0;34m\u001b[0m\u001b[0;34m\u001b[0m\u001b[0m\n\u001b[0;32m--> 215\u001b[0;31m             \u001b[0mbins\u001b[0m \u001b[0;34m=\u001b[0m \u001b[0mmin\u001b[0m\u001b[0;34m(\u001b[0m\u001b[0m_freedman_diaconis_bins\u001b[0m\u001b[0;34m(\u001b[0m\u001b[0ma\u001b[0m\u001b[0;34m)\u001b[0m\u001b[0;34m,\u001b[0m \u001b[0;36m50\u001b[0m\u001b[0;34m)\u001b[0m\u001b[0;34m\u001b[0m\u001b[0;34m\u001b[0m\u001b[0m\n\u001b[0m\u001b[1;32m    216\u001b[0m         \u001b[0mhist_kws\u001b[0m\u001b[0;34m.\u001b[0m\u001b[0msetdefault\u001b[0m\u001b[0;34m(\u001b[0m\u001b[0;34m\"alpha\"\u001b[0m\u001b[0;34m,\u001b[0m \u001b[0;36m0.4\u001b[0m\u001b[0;34m)\u001b[0m\u001b[0;34m\u001b[0m\u001b[0;34m\u001b[0m\u001b[0m\n\u001b[1;32m    217\u001b[0m         \u001b[0;32mif\u001b[0m \u001b[0mLooseVersion\u001b[0m\u001b[0;34m(\u001b[0m\u001b[0mmpl\u001b[0m\u001b[0;34m.\u001b[0m\u001b[0m__version__\u001b[0m\u001b[0;34m)\u001b[0m \u001b[0;34m<\u001b[0m \u001b[0mLooseVersion\u001b[0m\u001b[0;34m(\u001b[0m\u001b[0;34m\"2.2\"\u001b[0m\u001b[0;34m)\u001b[0m\u001b[0;34m:\u001b[0m\u001b[0;34m\u001b[0m\u001b[0;34m\u001b[0m\u001b[0m\n",
      "\u001b[0;32m/opt/conda/lib/python3.6/site-packages/seaborn/distributions.py\u001b[0m in \u001b[0;36m_freedman_diaconis_bins\u001b[0;34m(a)\u001b[0m\n\u001b[1;32m     37\u001b[0m         \u001b[0;32mreturn\u001b[0m \u001b[0mint\u001b[0m\u001b[0;34m(\u001b[0m\u001b[0mnp\u001b[0m\u001b[0;34m.\u001b[0m\u001b[0msqrt\u001b[0m\u001b[0;34m(\u001b[0m\u001b[0ma\u001b[0m\u001b[0;34m.\u001b[0m\u001b[0msize\u001b[0m\u001b[0;34m)\u001b[0m\u001b[0;34m)\u001b[0m\u001b[0;34m\u001b[0m\u001b[0;34m\u001b[0m\u001b[0m\n\u001b[1;32m     38\u001b[0m     \u001b[0;32melse\u001b[0m\u001b[0;34m:\u001b[0m\u001b[0;34m\u001b[0m\u001b[0;34m\u001b[0m\u001b[0m\n\u001b[0;32m---> 39\u001b[0;31m         \u001b[0;32mreturn\u001b[0m \u001b[0mint\u001b[0m\u001b[0;34m(\u001b[0m\u001b[0mnp\u001b[0m\u001b[0;34m.\u001b[0m\u001b[0mceil\u001b[0m\u001b[0;34m(\u001b[0m\u001b[0;34m(\u001b[0m\u001b[0ma\u001b[0m\u001b[0;34m.\u001b[0m\u001b[0mmax\u001b[0m\u001b[0;34m(\u001b[0m\u001b[0;34m)\u001b[0m \u001b[0;34m-\u001b[0m \u001b[0ma\u001b[0m\u001b[0;34m.\u001b[0m\u001b[0mmin\u001b[0m\u001b[0;34m(\u001b[0m\u001b[0;34m)\u001b[0m\u001b[0;34m)\u001b[0m \u001b[0;34m/\u001b[0m \u001b[0mh\u001b[0m\u001b[0;34m)\u001b[0m\u001b[0;34m)\u001b[0m\u001b[0;34m\u001b[0m\u001b[0;34m\u001b[0m\u001b[0m\n\u001b[0m\u001b[1;32m     40\u001b[0m \u001b[0;34m\u001b[0m\u001b[0m\n\u001b[1;32m     41\u001b[0m \u001b[0;34m\u001b[0m\u001b[0m\n",
      "\u001b[0;31mValueError\u001b[0m: cannot convert float NaN to integer"
     ]
    },
    {
     "data": {
      "image/png": "[encoded data removed]",
      "text/plain": [
       "<Figure size 432x288 with 1 Axes>"
      ]
     },
     "metadata": {},
     "output_type": "display_data"
    }
   ],
   "source": [
    "sns.distplot(df_nn.inq500_raw, kde=True)\n",
    "plt.title(\"Distribution of Raw Counts Scores Amongst Schools (Seed Terms)\")\n",
    "plt.xlabel(\"Raw Counts\")\n",
    "plt.ylabel(\"Frequency\")\n",
    "plt.show()"
   ]
  }
 ],
 "metadata": {
  "kernelspec": {
   "display_name": "Python 3",
   "language": "python",
   "name": "python3"
  },
  "language_info": {
   "codemirror_mode": {
    "name": "ipython",
    "version": 3
   },
   "file_extension": ".py",
   "mimetype": "text/x-python",
   "name": "python",
   "nbconvert_exporter": "python",
   "pygments_lexer": "ipython3",
   "version": "3.6.7"
  }
 },
 "nbformat": 4,
 "nbformat_minor": 2
}
