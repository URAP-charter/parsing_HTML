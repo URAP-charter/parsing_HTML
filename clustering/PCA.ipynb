{
 "cells": [
  {
   "cell_type": "code",
   "execution_count": 1,
   "metadata": {},
   "outputs": [],
   "source": [
    "import pandas as pd\n",
    "import numpy as np\n",
    "from sklearn.decomposition import PCA\n",
    "from sklearn.preprocessing import StandardScaler\n",
    "import re # for creating numwords column\n",
    "from sklearn.cluster import KMeans\n",
    "from sklearn.metrics import silhouette_score, silhouette_samples\n",
    "import time\n",
    "import matplotlib.pyplot as plt\n",
    "import matplotlib.cm as cm"
   ]
  },
  {
   "cell_type": "code",
   "execution_count": 2,
   "metadata": {},
   "outputs": [],
   "source": [
    "num_var = ['UNION',\n",
    " 'RECON_STATUS',\n",
    " 'LEVEL',\n",
    " 'VIRTUAL',\n",
    " 'BIES',\n",
    " 'TOTAL',\n",
    " 'STITLEI',\n",
    " 'SHARED_TIME',\n",
    " 'MAGNET_TEXT',\n",
    " 'RECONSTF10',\n",
    " 'RECONSTF11',\n",
    " 'RECONSTF12',\n",
    " 'RECONSTF13',\n",
    " 'RECON_STATUS15',\n",
    " 'RECON_STATUS16',\n",
    " 'PVI2017',\n",
    " 'PVI2014',\n",
    " 'ALL_MTH00NUMVALID_1415',\n",
    " 'ALL_RLA00NUMVALID_1415',\n",
    " 'ALL_RLA00NUMVALID_1516',\n",
    " 'ALL_RLA00PCTPROF_1516',\n",
    " 'ALL_MTH00NUMVALID_1516',\n",
    " 'ALL_MTH00PCTPROF_1516',\n",
    " 'SD_lv_PVI_2014',\n",
    " 'SD_lv_PVI_2017',\n",
    " 'Area (Land)',\n",
    " 'Area (Water)',\n",
    " 'Total Population',\n",
    " 'Population Density (Per Sq. Mile)',\n",
    " '% Total Population: Under 18 Years',\n",
    " '% Total Population: 18 to 34 Years',\n",
    " '% Total Population: 35 to 64 Years',\n",
    " '% Total Population: 65 and Over',\n",
    " '% Total Population: White Alone',\n",
    " '% Total Population: Black or African American Alone',\n",
    " '% Total Population: American Indian and Alaska Native Alone',\n",
    " '% Total Population: Asian Alone',\n",
    " '% Total Population: Native Hawaiian and Other Pacific Islander Alone',\n",
    " '% Total Population: Some Other Race Alone',\n",
    " '% Total Population: Two or More Races',\n",
    " 'Occupied Housing Units',\n",
    " '% Occupied Housing Units: Family Households',\n",
    " '% Occupied Housing Units: Family Households: Married-Couple Family',\n",
    " '% Occupied Housing Units: Nonfamily Households',\n",
    " '% Occupied Housing Units: Nonfamily Households: Householder Living Alone',\n",
    " '% Occupied Housing Units: With Related Children of the Householder Under 18',\n",
    " '% Occupied Housing Units: No Related Children of the Householder Under 18',\n",
    " 'Population 15 Years and Over:',\n",
    " '% Population 15 Years and Over: Never Married',\n",
    " '% Population 15 Years and Over: Now Married (Not Including Separated)',\n",
    " '% Population 15 Years and Over: Separated',\n",
    " '% Population 15 Years and Over: Widowed',\n",
    " '% Population 15 Years and Over: Divorced',\n",
    " 'Population 25 Years and Over:',\n",
    " '% Population 25 Years and Over: Less than High School',\n",
    " '% Population 25 Years and Over: High School Graduate (Includes Equivalency)',\n",
    " '% Population 25 Years and Over: Some College',\n",
    " \"% Population 25 Years and Over: Bachelor's Degree\",\n",
    " \"% Population 25 Years and Over: Master's Degree\",\n",
    " '% Population 25 Years and Over: Professional School Degree',\n",
    " '% Population 25 Years and Over: Doctorate Degree',\n",
    " 'Population 3 Years and Over:',\n",
    " '% Population 3 Years and Over: Enrolled in School',\n",
    " '% Population 3 Years and Over: Not Enrolled in School',\n",
    " '% Population 3 Years and Over Enrolled in School: Public School',\n",
    " '% Population 3 Years and Over Enrolled in School: Public School: Pre-School',\n",
    " '% Population 3 Years and Over Enrolled in School: Public School: K-8',\n",
    " '% Population 3 Years and Over Enrolled in School: Public School: 9-12',\n",
    " '% Population 3 Years and Over Enrolled in School: Public School: College',\n",
    " '% Population 3 Years and Over Enrolled in School: Private School',\n",
    " '% Population 3 Years and Over Enrolled in School: Private School: Pre-School',\n",
    " '% Population 3 Years and Over Enrolled in School: Private School: K-8',\n",
    " '% Population 3 Years and Over Enrolled in School: Private School: 9-12',\n",
    " '% Population 3 Years and Over Enrolled in School: Private School: College',\n",
    " 'Civilian Population 16 to 19 Years:',\n",
    " '% Civilian Population 16 to 19 Years: Not High School Graduate, Not Enrolled (Dropped Out)',\n",
    " '% Civilian Population 16 to 19 Years: High School Graduate, or Enrolled (in School)',\n",
    " '% Civilian Population in Labor Force 16 Years and Over: Employed',\n",
    " '% Civilian Population in Labor Force 16 Years and Over: Unemployed',\n",
    " '% White Alone, Not Hispanic or Latino 16 Years Old  in&nbsp; Civilian Labor Force: Employed',\n",
    " '% White Alone, Not Hispanic or Latino 16 Years Old  in&nbsp; Civilian Labor Force: Unemployed',\n",
    " '% Employed Civilian Population 16 Years and Over: Agriculture, Forestry, Fishing and Hunting, and Mining',\n",
    " '% Employed Civilian Population 16 Years and Over: Construction',\n",
    " '% Employed Civilian Population 16 Years and Over: Manufacturing',\n",
    " '% Employed Civilian Population 16 Years and Over: Wholesale Trade',\n",
    " '% Employed Civilian Population 16 Years and Over: Retail Trade',\n",
    " '% Employed Civilian Population 16 Years and Over: Transportation and Warehousing, and Utilities',\n",
    " '% Employed Civilian Population 16 Years and Over: Information',\n",
    " '% Employed Civilian Population 16 Years and Over: Finance and Insurance, and Real Estate and Rental  and Leasing',\n",
    " '% Employed Civilian Population 16 Years and Over: Professional, Scientific, and Management, and  Administrative and Waste Management Services',\n",
    " '% Employed Civilian Population 16 Years and Over: Educational Services, and Health Care and Social  Assistance',\n",
    " '% Employed Civilian Population 16 Years and Over: Arts, Entertainment, and Recreation, and  Accommodation and Food Services',\n",
    " '% Employed Civilian Population 16 Years and Over: Other Services, Except Public Administration',\n",
    " '% Employed Civilian Population 16 Years and Over: Public Administration',\n",
    " '% Employed Civilian Population 16 Years and Over: Unpaid Family Workers',\n",
    " 'Median Household Income (In 2016 Inflation Adjusted Dollars)',\n",
    " 'Median Household Income (In 2016 Inflation Adjusted Dollars): White Alone Householder',\n",
    " 'Median Household Income (In 2016 Inflation Adjusted Dollars): Black or African American Alone Householder',\n",
    " 'Median Household Income (In 2016 Inflation Adjusted Dollars): American Indian and Alaska Native Alone  Householder',\n",
    " 'Median Household Income (In 2016 Inflation Adjusted Dollars): Asian Alone',\n",
    " 'Median Household Income (In 2016 Inflation Adjusted Dollars): Native Hawaiian and Other Pacific Islander Alone  Householder',\n",
    " 'Median Household Income (In 2016 Inflation Adjusted Dollars): Some Other Race Alone Householder',\n",
    " 'Median Household Income (In 2016 Inflation Adjusted Dollars): Two or More Races Householder',\n",
    " 'Median Household Income (In 2016 Inflation Adjusted Dollars): Hispanic or Latino Householder',\n",
    " 'Median Household Income (In 2016 Inflation Adjusted Dollars): White Alone Householder, Not Hispanic or Latino',\n",
    " 'Per Capita Income (In 2016 Inflation Adjusted Dollars)',\n",
    " 'Gini Index',\n",
    " 'Median Year Structure Built',\n",
    " 'Median Value',\n",
    " '% Renter-Occupied Housing Units: Less than 10 Percent',\n",
    " '% Renter-Occupied Housing Units: 10 to 29 Percent',\n",
    " '% Renter-Occupied Housing Units: 30 to 49 Percent',\n",
    " '% Renter-Occupied Housing Units: 50 Percent or More',\n",
    " '% Renter-Occupied Housing Units: Not Computed',\n",
    " '% Families: Income in Below Poverty Level',\n",
    " '% Families: Income in at or Above Poverty Level',\n",
    " 'Population Under 18 Years of Age for Whom Poverty Status Is Determined:',\n",
    " '% Population Under 18 Years of Age for Whom Poverty Status Is Determined: Living in Poverty',\n",
    " '% Population Under 18 Years of Age for Whom Poverty Status Is Determined: at or Above Poverty Level',\n",
    " '% Total: Same House 1 Year Ago',\n",
    " '% Total: Moved Within Same County',\n",
    " '% Total: Moved From Different County Within Same State',\n",
    " '% Total: Moved From Different State',\n",
    " '% Total: Moved From Abroad',\n",
    " '% Total Population: Native Born',\n",
    " '% Total Population: Foreign Born',\n",
    " '% Total Population: Foreign Born: Naturalized Citizen',\n",
    " '% Total Population: Foreign Born: Not a Citizen',\n",
    " '% Foreign-Born Population: Europe',\n",
    " '% Foreign-Born Population: Asia',\n",
    " '% Foreign-Born Population: Africa',\n",
    " '% Foreign-Born Population: Oceania',\n",
    " '% Foreign-Born Population: Americas',\n",
    " 'Total:',\n",
    " '% Total: No Health Insurance Coverage',\n",
    " '% Total: with Health Insurance Coverage',\n",
    " '% Total: with Health Insurance Coverage: Public Health Coverage',\n",
    " '% Total: with Health Insurance Coverage: Private Health Insurance',\n",
    " 'close_rate12',\n",
    " 'close_rate13',\n",
    " 'close_rate14',\n",
    " 'close_rate15',\n",
    " 'close_rate16',\n",
    " 'POPTOT_S16',\n",
    " 'POP517_S16',\n",
    " 'CHILDPOV_S16',\n",
    " 'MEMBER',\n",
    " 'TOTFRL',\n",
    " 'TITLEI',\n",
    " 'FTE',\n",
    " 'YEAR_OPENED',\n",
    " 'YEAR_CLOSED',\n",
    " 'TOTETH',\n",
    " 'PCTETH',\n",
    " 'AGE',\n",
    " 'PCTFRL',\n",
    " 'STR',\n",
    " 'PROG_COUNT',\n",
    " 'RIT_COUNT',\n",
    " 'ESS_COUNT',\n",
    " 'ESS_STR',\n",
    " 'PROG_STR',\n",
    " 'RIT_STR'\n",
    " ,'NUMWORDS']"
   ]
  },
  {
   "cell_type": "code",
   "execution_count": 3,
   "metadata": {},
   "outputs": [],
   "source": [
    "df_charter = pd.read_pickle('../../nowdata/traincf_2015.pkl')"
   ]
  },
  {
   "cell_type": "code",
   "execution_count": 4,
   "metadata": {},
   "outputs": [],
   "source": [
    "df_train = df_charter[~(df_charter['ALL_RLA00PCTPROF_1516'].isnull() & df_charter['ALL_MTH00PCTPROF_1516'].isnull())] # removes schools that have no data for both variables"
   ]
  },
  {
   "cell_type": "code",
   "execution_count": 5,
   "metadata": {},
   "outputs": [
    {
     "name": "stderr",
     "output_type": "stream",
     "text": [
      "/opt/conda/lib/python3.6/site-packages/ipykernel_launcher.py:1: SettingWithCopyWarning: \n",
      "A value is trying to be set on a copy of a slice from a DataFrame.\n",
      "Try using .loc[row_indexer,col_indexer] = value instead\n",
      "\n",
      "See the caveats in the documentation: http://pandas.pydata.org/pandas-docs/stable/indexing.html#indexing-view-versus-copy\n",
      "  \"\"\"Entry point for launching an IPython kernel.\n"
     ]
    }
   ],
   "source": [
    "df_train['NUMWORDS'] = df_train['WEBTEXT'].apply(lambda x: sum([len(re.split('\\W+|_', p[3])) for p in x]))"
   ]
  },
  {
   "cell_type": "code",
   "execution_count": 6,
   "metadata": {},
   "outputs": [
    {
     "data": {
      "text/plain": [
       "count    6.409000e+03\n",
       "mean     2.995191e+04\n",
       "std      1.464737e+05\n",
       "min      0.000000e+00\n",
       "25%      4.660000e+02\n",
       "50%      7.061000e+03\n",
       "75%      3.098500e+04\n",
       "max      8.057623e+06\n",
       "Name: NUMWORDS, dtype: float64"
      ]
     },
     "execution_count": 6,
     "metadata": {},
     "output_type": "execute_result"
    }
   ],
   "source": [
    "df_train['NUMWORDS'].describe()"
   ]
  },
  {
   "cell_type": "code",
   "execution_count": 7,
   "metadata": {},
   "outputs": [],
   "source": [
    "df_train = df_train[num_var]"
   ]
  },
  {
   "cell_type": "code",
   "execution_count": 8,
   "metadata": {},
   "outputs": [],
   "source": [
    "df_train.replace('Not reported', np.nan, inplace = True)"
   ]
  },
  {
   "cell_type": "code",
   "execution_count": 9,
   "metadata": {},
   "outputs": [],
   "source": [
    "df_train.replace('Yes', 1, inplace = True)\n",
    "df_train.replace('No', 0, inplace = True)"
   ]
  },
  {
   "cell_type": "code",
   "execution_count": 10,
   "metadata": {},
   "outputs": [],
   "source": [
    "only_numeric = df_train.select_dtypes(include=[np.number])"
   ]
  },
  {
   "cell_type": "code",
   "execution_count": 15,
   "metadata": {},
   "outputs": [
    {
     "data": {
      "text/plain": [
       "['UNION',\n",
       " 'RECON_STATUS',\n",
       " 'BIES',\n",
       " 'TOTAL',\n",
       " 'RECONSTF11',\n",
       " 'RECONSTF12',\n",
       " 'RECONSTF13',\n",
       " 'RECON_STATUS15',\n",
       " 'RECON_STATUS16',\n",
       " 'PVI2017',\n",
       " 'PVI2014',\n",
       " 'ALL_MTH00NUMVALID_1415',\n",
       " 'ALL_RLA00NUMVALID_1415',\n",
       " 'ALL_RLA00NUMVALID_1516',\n",
       " 'ALL_MTH00NUMVALID_1516',\n",
       " 'SD_lv_PVI_2014',\n",
       " 'SD_lv_PVI_2017',\n",
       " 'Area (Land)',\n",
       " 'Area (Land)',\n",
       " 'Area (Water)',\n",
       " 'Total Population',\n",
       " 'Population Density (Per Sq. Mile)',\n",
       " '% Total Population: Under 18 Years',\n",
       " '% Total Population: 18 to 34 Years',\n",
       " '% Total Population: 35 to 64 Years',\n",
       " '% Total Population: 65 and Over',\n",
       " '% Total Population: White Alone',\n",
       " '% Total Population: Black or African American Alone',\n",
       " '% Total Population: American Indian and Alaska Native Alone',\n",
       " '% Total Population: Asian Alone',\n",
       " '% Total Population: Native Hawaiian and Other Pacific Islander Alone',\n",
       " '% Total Population: Some Other Race Alone',\n",
       " '% Total Population: Two or More Races',\n",
       " 'Occupied Housing Units',\n",
       " '% Occupied Housing Units: Family Households',\n",
       " '% Occupied Housing Units: Family Households: Married-Couple Family',\n",
       " '% Occupied Housing Units: Nonfamily Households',\n",
       " '% Occupied Housing Units: Nonfamily Households: Householder Living Alone',\n",
       " '% Occupied Housing Units: With Related Children of the Householder Under 18',\n",
       " '% Occupied Housing Units: No Related Children of the Householder Under 18',\n",
       " 'Population 15 Years and Over:',\n",
       " '% Population 15 Years and Over: Never Married',\n",
       " '% Population 15 Years and Over: Now Married (Not Including Separated)',\n",
       " '% Population 15 Years and Over: Separated',\n",
       " '% Population 15 Years and Over: Widowed',\n",
       " '% Population 15 Years and Over: Divorced',\n",
       " 'Population 25 Years and Over:',\n",
       " '% Population 25 Years and Over: Less than High School',\n",
       " '% Population 25 Years and Over: High School Graduate (Includes Equivalency)',\n",
       " '% Population 25 Years and Over: Some College',\n",
       " \"% Population 25 Years and Over: Bachelor's Degree\",\n",
       " \"% Population 25 Years and Over: Master's Degree\",\n",
       " '% Population 25 Years and Over: Professional School Degree',\n",
       " '% Population 25 Years and Over: Doctorate Degree',\n",
       " 'Population 3 Years and Over:',\n",
       " '% Population 3 Years and Over: Enrolled in School',\n",
       " '% Population 3 Years and Over: Not Enrolled in School',\n",
       " '% Population 3 Years and Over Enrolled in School: Public School',\n",
       " '% Population 3 Years and Over Enrolled in School: Public School: Pre-School',\n",
       " '% Population 3 Years and Over Enrolled in School: Public School: K-8',\n",
       " '% Population 3 Years and Over Enrolled in School: Public School: 9-12',\n",
       " '% Population 3 Years and Over Enrolled in School: Public School: College',\n",
       " '% Population 3 Years and Over Enrolled in School: Private School',\n",
       " '% Population 3 Years and Over Enrolled in School: Private School: Pre-School',\n",
       " '% Population 3 Years and Over Enrolled in School: Private School: K-8',\n",
       " '% Population 3 Years and Over Enrolled in School: Private School: 9-12',\n",
       " '% Population 3 Years and Over Enrolled in School: Private School: College',\n",
       " 'Civilian Population 16 to 19 Years:',\n",
       " '% Civilian Population 16 to 19 Years: Not High School Graduate, Not Enrolled (Dropped Out)',\n",
       " '% Civilian Population 16 to 19 Years: High School Graduate, or Enrolled (in School)',\n",
       " '% Civilian Population in Labor Force 16 Years and Over: Employed',\n",
       " '% Civilian Population in Labor Force 16 Years and Over: Unemployed',\n",
       " '% White Alone, Not Hispanic or Latino 16 Years Old  in&nbsp; Civilian Labor Force: Employed',\n",
       " '% White Alone, Not Hispanic or Latino 16 Years Old  in&nbsp; Civilian Labor Force: Unemployed',\n",
       " '% Employed Civilian Population 16 Years and Over: Agriculture, Forestry, Fishing and Hunting, and Mining',\n",
       " '% Employed Civilian Population 16 Years and Over: Construction',\n",
       " '% Employed Civilian Population 16 Years and Over: Manufacturing',\n",
       " '% Employed Civilian Population 16 Years and Over: Wholesale Trade',\n",
       " '% Employed Civilian Population 16 Years and Over: Retail Trade',\n",
       " '% Employed Civilian Population 16 Years and Over: Transportation and Warehousing, and Utilities',\n",
       " '% Employed Civilian Population 16 Years and Over: Information',\n",
       " '% Employed Civilian Population 16 Years and Over: Finance and Insurance, and Real Estate and Rental  and Leasing',\n",
       " '% Employed Civilian Population 16 Years and Over: Professional, Scientific, and Management, and  Administrative and Waste Management Services',\n",
       " '% Employed Civilian Population 16 Years and Over: Educational Services, and Health Care and Social  Assistance',\n",
       " '% Employed Civilian Population 16 Years and Over: Arts, Entertainment, and Recreation, and  Accommodation and Food Services',\n",
       " '% Employed Civilian Population 16 Years and Over: Other Services, Except Public Administration',\n",
       " '% Employed Civilian Population 16 Years and Over: Public Administration',\n",
       " '% Employed Civilian Population 16 Years and Over: Unpaid Family Workers',\n",
       " 'Median Household Income (In 2016 Inflation Adjusted Dollars)',\n",
       " 'Median Household Income (In 2016 Inflation Adjusted Dollars): White Alone Householder',\n",
       " 'Median Household Income (In 2016 Inflation Adjusted Dollars): Black or African American Alone Householder',\n",
       " 'Median Household Income (In 2016 Inflation Adjusted Dollars): American Indian and Alaska Native Alone  Householder',\n",
       " 'Median Household Income (In 2016 Inflation Adjusted Dollars): Asian Alone',\n",
       " 'Median Household Income (In 2016 Inflation Adjusted Dollars): Native Hawaiian and Other Pacific Islander Alone  Householder',\n",
       " 'Median Household Income (In 2016 Inflation Adjusted Dollars): Some Other Race Alone Householder',\n",
       " 'Median Household Income (In 2016 Inflation Adjusted Dollars): Two or More Races Householder',\n",
       " 'Median Household Income (In 2016 Inflation Adjusted Dollars): Hispanic or Latino Householder',\n",
       " 'Median Household Income (In 2016 Inflation Adjusted Dollars): White Alone Householder, Not Hispanic or Latino',\n",
       " 'Per Capita Income (In 2016 Inflation Adjusted Dollars)',\n",
       " 'Gini Index',\n",
       " 'Median Year Structure Built',\n",
       " 'Median Value',\n",
       " '% Renter-Occupied Housing Units: Less than 10 Percent',\n",
       " '% Renter-Occupied Housing Units: 10 to 29 Percent',\n",
       " '% Renter-Occupied Housing Units: 30 to 49 Percent',\n",
       " '% Renter-Occupied Housing Units: 50 Percent or More',\n",
       " '% Renter-Occupied Housing Units: Not Computed',\n",
       " '% Families: Income in Below Poverty Level',\n",
       " '% Families: Income in at or Above Poverty Level',\n",
       " 'Population Under 18 Years of Age for Whom Poverty Status Is Determined:',\n",
       " '% Population Under 18 Years of Age for Whom Poverty Status Is Determined: Living in Poverty',\n",
       " '% Population Under 18 Years of Age for Whom Poverty Status Is Determined: at or Above Poverty Level',\n",
       " '% Total: Same House 1 Year Ago',\n",
       " '% Total: Moved Within Same County',\n",
       " '% Total: Moved From Different County Within Same State',\n",
       " '% Total: Moved From Different State',\n",
       " '% Total: Moved From Abroad',\n",
       " '% Total Population: Native Born',\n",
       " '% Total Population: Foreign Born',\n",
       " '% Total Population: Foreign Born: Naturalized Citizen',\n",
       " '% Total Population: Foreign Born: Not a Citizen',\n",
       " '% Foreign-Born Population: Europe',\n",
       " '% Foreign-Born Population: Asia',\n",
       " '% Foreign-Born Population: Africa',\n",
       " '% Foreign-Born Population: Oceania',\n",
       " '% Foreign-Born Population: Americas',\n",
       " 'Total:',\n",
       " '% Total: No Health Insurance Coverage',\n",
       " '% Total: with Health Insurance Coverage',\n",
       " '% Total: with Health Insurance Coverage: Public Health Coverage',\n",
       " '% Total: with Health Insurance Coverage: Private Health Insurance',\n",
       " 'close_rate12',\n",
       " 'close_rate13',\n",
       " 'close_rate14',\n",
       " 'close_rate15',\n",
       " 'close_rate16',\n",
       " 'POPTOT_S16',\n",
       " 'POP517_S16',\n",
       " 'CHILDPOV_S16',\n",
       " 'MEMBER',\n",
       " 'TOTFRL',\n",
       " 'FTE',\n",
       " 'YEAR_OPENED',\n",
       " 'YEAR_CLOSED',\n",
       " 'TOTETH',\n",
       " 'PCTETH',\n",
       " 'AGE',\n",
       " 'PCTFRL',\n",
       " 'STR',\n",
       " 'PROG_COUNT',\n",
       " 'RIT_COUNT',\n",
       " 'ESS_COUNT',\n",
       " 'ESS_STR',\n",
       " 'PROG_STR',\n",
       " 'RIT_STR',\n",
       " 'NUMWORDS']"
      ]
     },
     "execution_count": 15,
     "metadata": {},
     "output_type": "execute_result"
    }
   ],
   "source": [
    "list(only_numeric) # numeric var list"
   ]
  },
  {
   "cell_type": "code",
   "execution_count": 11,
   "metadata": {},
   "outputs": [],
   "source": [
    "not_numeric_var = list(set(list(df_train)) - set(only_numeric)) # need ways of handling these categorical variables"
   ]
  },
  {
   "cell_type": "code",
   "execution_count": 12,
   "metadata": {},
   "outputs": [
    {
     "data": {
      "text/plain": [
       "['TITLEI',\n",
       " 'ALL_MTH00PCTPROF_1516',\n",
       " 'SHARED_TIME',\n",
       " 'ALL_RLA00PCTPROF_1516',\n",
       " 'RECONSTF10',\n",
       " 'LEVEL',\n",
       " 'MAGNET_TEXT',\n",
       " 'STITLEI',\n",
       " 'VIRTUAL']"
      ]
     },
     "execution_count": 12,
     "metadata": {},
     "output_type": "execute_result"
    }
   ],
   "source": [
    "not_numeric_var"
   ]
  },
  {
   "cell_type": "code",
   "execution_count": 72,
   "metadata": {},
   "outputs": [
    {
     "data": {
      "text/plain": [
       "'266'"
      ]
     },
     "execution_count": 72,
     "metadata": {},
     "output_type": "execute_result"
    }
   ],
   "source": [
    "df_train['CSA15'].iloc[0] # some are just strings of numbers"
   ]
  },
  {
   "cell_type": "code",
   "execution_count": 18,
   "metadata": {},
   "outputs": [
    {
     "data": {
      "text/html": [
       "<div>\n",
       "<style scoped>\n",
       "    .dataframe tbody tr th:only-of-type {\n",
       "        vertical-align: middle;\n",
       "    }\n",
       "\n",
       "    .dataframe tbody tr th {\n",
       "        vertical-align: top;\n",
       "    }\n",
       "\n",
       "    .dataframe thead th {\n",
       "        text-align: right;\n",
       "    }\n",
       "</style>\n",
       "<table border=\"1\" class=\"dataframe\">\n",
       "  <thead>\n",
       "    <tr style=\"text-align: right;\">\n",
       "      <th></th>\n",
       "      <th>SHARED_TIME</th>\n",
       "      <th>STITLEI</th>\n",
       "      <th>ALL_RLA00PCTPROF_1516</th>\n",
       "      <th>ALL_MTH00PCTPROF_1516</th>\n",
       "      <th>RECONSTF10</th>\n",
       "      <th>VIRTUAL</th>\n",
       "      <th>MAGNET_TEXT</th>\n",
       "      <th>LEVEL</th>\n",
       "      <th>TITLEI</th>\n",
       "    </tr>\n",
       "  </thead>\n",
       "  <tbody>\n",
       "    <tr>\n",
       "      <th>10178</th>\n",
       "      <td>No</td>\n",
       "      <td>Yes</td>\n",
       "      <td>LE10</td>\n",
       "      <td>11-19</td>\n",
       "      <td>2</td>\n",
       "      <td>No</td>\n",
       "      <td>No</td>\n",
       "      <td>4</td>\n",
       "      <td>No</td>\n",
       "    </tr>\n",
       "    <tr>\n",
       "      <th>10607</th>\n",
       "      <td>No</td>\n",
       "      <td>Yes</td>\n",
       "      <td>25-29</td>\n",
       "      <td>20-24</td>\n",
       "      <td>NaN</td>\n",
       "      <td>No</td>\n",
       "      <td>No</td>\n",
       "      <td>2</td>\n",
       "      <td>Yes</td>\n",
       "    </tr>\n",
       "    <tr>\n",
       "      <th>3025</th>\n",
       "      <td>No</td>\n",
       "      <td>Yes</td>\n",
       "      <td>26</td>\n",
       "      <td>32</td>\n",
       "      <td>2</td>\n",
       "      <td>No</td>\n",
       "      <td>Missing</td>\n",
       "      <td>1</td>\n",
       "      <td>Yes</td>\n",
       "    </tr>\n",
       "    <tr>\n",
       "      <th>2791</th>\n",
       "      <td>No</td>\n",
       "      <td>Yes</td>\n",
       "      <td>35-39</td>\n",
       "      <td>65-69</td>\n",
       "      <td>NaN</td>\n",
       "      <td>No</td>\n",
       "      <td>No</td>\n",
       "      <td>3</td>\n",
       "      <td>Yes</td>\n",
       "    </tr>\n",
       "    <tr>\n",
       "      <th>2506</th>\n",
       "      <td>Missing</td>\n",
       "      <td>Yes</td>\n",
       "      <td>79</td>\n",
       "      <td>72</td>\n",
       "      <td>2</td>\n",
       "      <td>Missing</td>\n",
       "      <td>No</td>\n",
       "      <td>2</td>\n",
       "      <td>Yes</td>\n",
       "    </tr>\n",
       "    <tr>\n",
       "      <th>4153</th>\n",
       "      <td>No</td>\n",
       "      <td>Not Applicable</td>\n",
       "      <td>54</td>\n",
       "      <td>62</td>\n",
       "      <td>2</td>\n",
       "      <td>No</td>\n",
       "      <td>No</td>\n",
       "      <td>1</td>\n",
       "      <td>No</td>\n",
       "    </tr>\n",
       "    <tr>\n",
       "      <th>8198</th>\n",
       "      <td>No</td>\n",
       "      <td>Yes</td>\n",
       "      <td>45-49</td>\n",
       "      <td>50-54</td>\n",
       "      <td>2</td>\n",
       "      <td>No</td>\n",
       "      <td>Missing</td>\n",
       "      <td>1</td>\n",
       "      <td>Yes</td>\n",
       "    </tr>\n",
       "    <tr>\n",
       "      <th>818</th>\n",
       "      <td>Missing</td>\n",
       "      <td>No</td>\n",
       "      <td>56</td>\n",
       "      <td>31</td>\n",
       "      <td>2</td>\n",
       "      <td>No</td>\n",
       "      <td>No</td>\n",
       "      <td>2</td>\n",
       "      <td>Yes</td>\n",
       "    </tr>\n",
       "    <tr>\n",
       "      <th>8749</th>\n",
       "      <td>Missing</td>\n",
       "      <td>Yes</td>\n",
       "      <td>43</td>\n",
       "      <td>36</td>\n",
       "      <td>2</td>\n",
       "      <td>No</td>\n",
       "      <td>No</td>\n",
       "      <td>1</td>\n",
       "      <td>Yes</td>\n",
       "    </tr>\n",
       "    <tr>\n",
       "      <th>9633</th>\n",
       "      <td>No</td>\n",
       "      <td>Not Applicable</td>\n",
       "      <td>70-74</td>\n",
       "      <td>60-64</td>\n",
       "      <td>NaN</td>\n",
       "      <td>No</td>\n",
       "      <td>No</td>\n",
       "      <td>1</td>\n",
       "      <td>No</td>\n",
       "    </tr>\n",
       "    <tr>\n",
       "      <th>9041</th>\n",
       "      <td>Missing</td>\n",
       "      <td>Missing</td>\n",
       "      <td>LT50</td>\n",
       "      <td>LT50</td>\n",
       "      <td>2</td>\n",
       "      <td>No</td>\n",
       "      <td>No</td>\n",
       "      <td>3</td>\n",
       "      <td>NaN</td>\n",
       "    </tr>\n",
       "    <tr>\n",
       "      <th>1984</th>\n",
       "      <td>Missing</td>\n",
       "      <td>Yes</td>\n",
       "      <td>81</td>\n",
       "      <td>77</td>\n",
       "      <td>NaN</td>\n",
       "      <td>Missing</td>\n",
       "      <td>No</td>\n",
       "      <td>1</td>\n",
       "      <td>Yes</td>\n",
       "    </tr>\n",
       "    <tr>\n",
       "      <th>9307</th>\n",
       "      <td>No</td>\n",
       "      <td>Not Applicable</td>\n",
       "      <td>55-59</td>\n",
       "      <td>35-39</td>\n",
       "      <td>NaN</td>\n",
       "      <td>No</td>\n",
       "      <td>No</td>\n",
       "      <td>1</td>\n",
       "      <td>NaN</td>\n",
       "    </tr>\n",
       "    <tr>\n",
       "      <th>3270</th>\n",
       "      <td>Missing</td>\n",
       "      <td>Yes</td>\n",
       "      <td>50-59</td>\n",
       "      <td>LT50</td>\n",
       "      <td>NaN</td>\n",
       "      <td>Missing</td>\n",
       "      <td>No</td>\n",
       "      <td>3</td>\n",
       "      <td>Yes</td>\n",
       "    </tr>\n",
       "    <tr>\n",
       "      <th>836</th>\n",
       "      <td>No</td>\n",
       "      <td>No</td>\n",
       "      <td>39</td>\n",
       "      <td>29</td>\n",
       "      <td>2</td>\n",
       "      <td>No</td>\n",
       "      <td>Missing</td>\n",
       "      <td>3</td>\n",
       "      <td>Yes</td>\n",
       "    </tr>\n",
       "    <tr>\n",
       "      <th>10884</th>\n",
       "      <td>No</td>\n",
       "      <td>Yes</td>\n",
       "      <td>46</td>\n",
       "      <td>35</td>\n",
       "      <td>2</td>\n",
       "      <td>No</td>\n",
       "      <td>Not Applicable</td>\n",
       "      <td>2</td>\n",
       "      <td>Yes</td>\n",
       "    </tr>\n",
       "    <tr>\n",
       "      <th>9342</th>\n",
       "      <td>No</td>\n",
       "      <td>No</td>\n",
       "      <td>27</td>\n",
       "      <td>8</td>\n",
       "      <td>2.0</td>\n",
       "      <td>No</td>\n",
       "      <td>No</td>\n",
       "      <td>4</td>\n",
       "      <td>Yes</td>\n",
       "    </tr>\n",
       "    <tr>\n",
       "      <th>2902</th>\n",
       "      <td>No</td>\n",
       "      <td>Yes</td>\n",
       "      <td>LE10</td>\n",
       "      <td>LE10</td>\n",
       "      <td>2</td>\n",
       "      <td>No</td>\n",
       "      <td>No</td>\n",
       "      <td>3</td>\n",
       "      <td>Yes</td>\n",
       "    </tr>\n",
       "    <tr>\n",
       "      <th>8853</th>\n",
       "      <td>Missing</td>\n",
       "      <td>Yes</td>\n",
       "      <td>15-19</td>\n",
       "      <td>LE5</td>\n",
       "      <td>NaN</td>\n",
       "      <td>No</td>\n",
       "      <td>No</td>\n",
       "      <td>2</td>\n",
       "      <td>Yes</td>\n",
       "    </tr>\n",
       "    <tr>\n",
       "      <th>10069</th>\n",
       "      <td>No</td>\n",
       "      <td>Yes</td>\n",
       "      <td>45</td>\n",
       "      <td>33</td>\n",
       "      <td>2.0</td>\n",
       "      <td>No</td>\n",
       "      <td>No</td>\n",
       "      <td>1</td>\n",
       "      <td>Yes</td>\n",
       "    </tr>\n",
       "    <tr>\n",
       "      <th>9908</th>\n",
       "      <td>No</td>\n",
       "      <td>Not Applicable</td>\n",
       "      <td>64</td>\n",
       "      <td>56</td>\n",
       "      <td>NaN</td>\n",
       "      <td>No</td>\n",
       "      <td>No</td>\n",
       "      <td>4</td>\n",
       "      <td>No</td>\n",
       "    </tr>\n",
       "    <tr>\n",
       "      <th>10198</th>\n",
       "      <td>Missing</td>\n",
       "      <td>Yes</td>\n",
       "      <td>56</td>\n",
       "      <td>50</td>\n",
       "      <td>NaN</td>\n",
       "      <td>No</td>\n",
       "      <td>Missing</td>\n",
       "      <td>1</td>\n",
       "      <td>NaN</td>\n",
       "    </tr>\n",
       "    <tr>\n",
       "      <th>10532</th>\n",
       "      <td>No</td>\n",
       "      <td>No</td>\n",
       "      <td>6-9</td>\n",
       "      <td>LE5</td>\n",
       "      <td>NaN</td>\n",
       "      <td>No</td>\n",
       "      <td>No</td>\n",
       "      <td>4</td>\n",
       "      <td>NaN</td>\n",
       "    </tr>\n",
       "    <tr>\n",
       "      <th>8388</th>\n",
       "      <td>No</td>\n",
       "      <td>Yes</td>\n",
       "      <td>32</td>\n",
       "      <td>12</td>\n",
       "      <td>NaN</td>\n",
       "      <td>Missing</td>\n",
       "      <td>No</td>\n",
       "      <td>3</td>\n",
       "      <td>Yes</td>\n",
       "    </tr>\n",
       "    <tr>\n",
       "      <th>12090</th>\n",
       "      <td>Missing</td>\n",
       "      <td>Yes</td>\n",
       "      <td>55-59</td>\n",
       "      <td>50-54</td>\n",
       "      <td>2</td>\n",
       "      <td>Missing</td>\n",
       "      <td>No</td>\n",
       "      <td>1</td>\n",
       "      <td>Yes</td>\n",
       "    </tr>\n",
       "    <tr>\n",
       "      <th>8909</th>\n",
       "      <td>Missing</td>\n",
       "      <td>Not Applicable</td>\n",
       "      <td>60-79</td>\n",
       "      <td>21-39</td>\n",
       "      <td>2</td>\n",
       "      <td>No</td>\n",
       "      <td>No</td>\n",
       "      <td>3</td>\n",
       "      <td>Yes</td>\n",
       "    </tr>\n",
       "    <tr>\n",
       "      <th>11617</th>\n",
       "      <td>Missing</td>\n",
       "      <td>No</td>\n",
       "      <td>50-54</td>\n",
       "      <td>40-44</td>\n",
       "      <td>2.0</td>\n",
       "      <td>No</td>\n",
       "      <td>Not Applicable</td>\n",
       "      <td>4</td>\n",
       "      <td>Yes</td>\n",
       "    </tr>\n",
       "    <tr>\n",
       "      <th>9128</th>\n",
       "      <td>Missing</td>\n",
       "      <td>Yes</td>\n",
       "      <td>80-89</td>\n",
       "      <td>60-69</td>\n",
       "      <td>2</td>\n",
       "      <td>No</td>\n",
       "      <td>No</td>\n",
       "      <td>4</td>\n",
       "      <td>Yes</td>\n",
       "    </tr>\n",
       "    <tr>\n",
       "      <th>9528</th>\n",
       "      <td>No</td>\n",
       "      <td>Yes</td>\n",
       "      <td>55</td>\n",
       "      <td>47</td>\n",
       "      <td>NaN</td>\n",
       "      <td>No</td>\n",
       "      <td>No</td>\n",
       "      <td>1</td>\n",
       "      <td>NaN</td>\n",
       "    </tr>\n",
       "    <tr>\n",
       "      <th>8925</th>\n",
       "      <td>Missing</td>\n",
       "      <td>No</td>\n",
       "      <td>57</td>\n",
       "      <td>47</td>\n",
       "      <td>2</td>\n",
       "      <td>No</td>\n",
       "      <td>No</td>\n",
       "      <td>1</td>\n",
       "      <td>Yes</td>\n",
       "    </tr>\n",
       "    <tr>\n",
       "      <th>...</th>\n",
       "      <td>...</td>\n",
       "      <td>...</td>\n",
       "      <td>...</td>\n",
       "      <td>...</td>\n",
       "      <td>...</td>\n",
       "      <td>...</td>\n",
       "      <td>...</td>\n",
       "      <td>...</td>\n",
       "      <td>...</td>\n",
       "    </tr>\n",
       "    <tr>\n",
       "      <th>2292</th>\n",
       "      <td>Missing</td>\n",
       "      <td>Yes</td>\n",
       "      <td>65-69</td>\n",
       "      <td>70-74</td>\n",
       "      <td>NaN</td>\n",
       "      <td>Missing</td>\n",
       "      <td>No</td>\n",
       "      <td>1</td>\n",
       "      <td>Yes</td>\n",
       "    </tr>\n",
       "    <tr>\n",
       "      <th>714</th>\n",
       "      <td>No</td>\n",
       "      <td>Not Applicable</td>\n",
       "      <td>90</td>\n",
       "      <td>93</td>\n",
       "      <td>NaN</td>\n",
       "      <td>No</td>\n",
       "      <td>Missing</td>\n",
       "      <td>4</td>\n",
       "      <td>No</td>\n",
       "    </tr>\n",
       "    <tr>\n",
       "      <th>8736</th>\n",
       "      <td>Missing</td>\n",
       "      <td>Not Applicable</td>\n",
       "      <td>76</td>\n",
       "      <td>81</td>\n",
       "      <td>2</td>\n",
       "      <td>No</td>\n",
       "      <td>Yes</td>\n",
       "      <td>1</td>\n",
       "      <td>No</td>\n",
       "    </tr>\n",
       "    <tr>\n",
       "      <th>2745</th>\n",
       "      <td>No</td>\n",
       "      <td>Yes</td>\n",
       "      <td>PS</td>\n",
       "      <td>PS</td>\n",
       "      <td>2</td>\n",
       "      <td>No</td>\n",
       "      <td>Missing</td>\n",
       "      <td>3</td>\n",
       "      <td>Yes</td>\n",
       "    </tr>\n",
       "    <tr>\n",
       "      <th>3337</th>\n",
       "      <td>Missing</td>\n",
       "      <td>Yes</td>\n",
       "      <td>70-74</td>\n",
       "      <td>60-79</td>\n",
       "      <td>NaN</td>\n",
       "      <td>Missing</td>\n",
       "      <td>No</td>\n",
       "      <td>3</td>\n",
       "      <td>Yes</td>\n",
       "    </tr>\n",
       "    <tr>\n",
       "      <th>8615</th>\n",
       "      <td>Missing</td>\n",
       "      <td>No</td>\n",
       "      <td>75</td>\n",
       "      <td>67</td>\n",
       "      <td>2</td>\n",
       "      <td>No</td>\n",
       "      <td>Yes</td>\n",
       "      <td>1</td>\n",
       "      <td>Yes</td>\n",
       "    </tr>\n",
       "    <tr>\n",
       "      <th>3219</th>\n",
       "      <td>No</td>\n",
       "      <td>Not Applicable</td>\n",
       "      <td>76</td>\n",
       "      <td>77</td>\n",
       "      <td>NaN</td>\n",
       "      <td>No</td>\n",
       "      <td>No</td>\n",
       "      <td>1</td>\n",
       "      <td>No</td>\n",
       "    </tr>\n",
       "    <tr>\n",
       "      <th>659</th>\n",
       "      <td>No</td>\n",
       "      <td>Yes</td>\n",
       "      <td>19</td>\n",
       "      <td>18</td>\n",
       "      <td>2</td>\n",
       "      <td>No</td>\n",
       "      <td>No</td>\n",
       "      <td>2</td>\n",
       "      <td>Yes</td>\n",
       "    </tr>\n",
       "    <tr>\n",
       "      <th>797</th>\n",
       "      <td>No</td>\n",
       "      <td>Yes</td>\n",
       "      <td>32</td>\n",
       "      <td>22</td>\n",
       "      <td>2</td>\n",
       "      <td>No</td>\n",
       "      <td>No</td>\n",
       "      <td>1</td>\n",
       "      <td>Yes</td>\n",
       "    </tr>\n",
       "    <tr>\n",
       "      <th>755</th>\n",
       "      <td>No</td>\n",
       "      <td>Not Applicable</td>\n",
       "      <td>56</td>\n",
       "      <td>57</td>\n",
       "      <td>NaN</td>\n",
       "      <td>No</td>\n",
       "      <td>Missing</td>\n",
       "      <td>3</td>\n",
       "      <td>No</td>\n",
       "    </tr>\n",
       "    <tr>\n",
       "      <th>10200</th>\n",
       "      <td>Missing</td>\n",
       "      <td>Yes</td>\n",
       "      <td>44</td>\n",
       "      <td>32</td>\n",
       "      <td>NaN</td>\n",
       "      <td>No</td>\n",
       "      <td>Missing</td>\n",
       "      <td>4</td>\n",
       "      <td>NaN</td>\n",
       "    </tr>\n",
       "    <tr>\n",
       "      <th>8291</th>\n",
       "      <td>No</td>\n",
       "      <td>Yes</td>\n",
       "      <td>11-19</td>\n",
       "      <td>11-19</td>\n",
       "      <td>2</td>\n",
       "      <td>Yes</td>\n",
       "      <td>Missing</td>\n",
       "      <td>3</td>\n",
       "      <td>Yes</td>\n",
       "    </tr>\n",
       "    <tr>\n",
       "      <th>2496</th>\n",
       "      <td>No</td>\n",
       "      <td>Yes</td>\n",
       "      <td>10-14</td>\n",
       "      <td>15-19</td>\n",
       "      <td>NaN</td>\n",
       "      <td>No</td>\n",
       "      <td>No</td>\n",
       "      <td>2</td>\n",
       "      <td>NaN</td>\n",
       "    </tr>\n",
       "    <tr>\n",
       "      <th>1871</th>\n",
       "      <td>Missing</td>\n",
       "      <td>Yes</td>\n",
       "      <td>46</td>\n",
       "      <td>20</td>\n",
       "      <td>N</td>\n",
       "      <td>No</td>\n",
       "      <td>No</td>\n",
       "      <td>2</td>\n",
       "      <td>Yes</td>\n",
       "    </tr>\n",
       "    <tr>\n",
       "      <th>2046</th>\n",
       "      <td>Missing</td>\n",
       "      <td>Not Applicable</td>\n",
       "      <td>90-94</td>\n",
       "      <td>85-89</td>\n",
       "      <td>NaN</td>\n",
       "      <td>Missing</td>\n",
       "      <td>No</td>\n",
       "      <td>4</td>\n",
       "      <td>NaN</td>\n",
       "    </tr>\n",
       "    <tr>\n",
       "      <th>2163</th>\n",
       "      <td>Missing</td>\n",
       "      <td>No</td>\n",
       "      <td>10-14</td>\n",
       "      <td>6-9</td>\n",
       "      <td>2</td>\n",
       "      <td>No</td>\n",
       "      <td>No</td>\n",
       "      <td>1</td>\n",
       "      <td>Yes</td>\n",
       "    </tr>\n",
       "    <tr>\n",
       "      <th>537</th>\n",
       "      <td>No</td>\n",
       "      <td>Yes</td>\n",
       "      <td>55-59</td>\n",
       "      <td>65-69</td>\n",
       "      <td>NaN</td>\n",
       "      <td>No</td>\n",
       "      <td>Missing</td>\n",
       "      <td>1</td>\n",
       "      <td>Yes</td>\n",
       "    </tr>\n",
       "    <tr>\n",
       "      <th>9893</th>\n",
       "      <td>No</td>\n",
       "      <td>Yes</td>\n",
       "      <td>32</td>\n",
       "      <td>19</td>\n",
       "      <td>NaN</td>\n",
       "      <td>No</td>\n",
       "      <td>No</td>\n",
       "      <td>2</td>\n",
       "      <td>Yes</td>\n",
       "    </tr>\n",
       "    <tr>\n",
       "      <th>2897</th>\n",
       "      <td>No</td>\n",
       "      <td>Yes</td>\n",
       "      <td>35</td>\n",
       "      <td>15</td>\n",
       "      <td>2.0</td>\n",
       "      <td>No</td>\n",
       "      <td>No</td>\n",
       "      <td>4</td>\n",
       "      <td>Yes</td>\n",
       "    </tr>\n",
       "    <tr>\n",
       "      <th>2222</th>\n",
       "      <td>No</td>\n",
       "      <td>Not Applicable</td>\n",
       "      <td>47</td>\n",
       "      <td>33</td>\n",
       "      <td>2</td>\n",
       "      <td>Yes</td>\n",
       "      <td>No</td>\n",
       "      <td>4</td>\n",
       "      <td>Yes</td>\n",
       "    </tr>\n",
       "    <tr>\n",
       "      <th>10327</th>\n",
       "      <td>No</td>\n",
       "      <td>No</td>\n",
       "      <td>70-74</td>\n",
       "      <td>45-49</td>\n",
       "      <td>2</td>\n",
       "      <td>No</td>\n",
       "      <td>No</td>\n",
       "      <td>1</td>\n",
       "      <td>Yes</td>\n",
       "    </tr>\n",
       "    <tr>\n",
       "      <th>2599</th>\n",
       "      <td>Missing</td>\n",
       "      <td>Yes</td>\n",
       "      <td>92</td>\n",
       "      <td>96</td>\n",
       "      <td>2</td>\n",
       "      <td>Missing</td>\n",
       "      <td>No</td>\n",
       "      <td>1</td>\n",
       "      <td>Yes</td>\n",
       "    </tr>\n",
       "    <tr>\n",
       "      <th>705</th>\n",
       "      <td>Missing</td>\n",
       "      <td>Yes</td>\n",
       "      <td>50-54</td>\n",
       "      <td>35-39</td>\n",
       "      <td>2</td>\n",
       "      <td>No</td>\n",
       "      <td>No</td>\n",
       "      <td>1</td>\n",
       "      <td>Yes</td>\n",
       "    </tr>\n",
       "    <tr>\n",
       "      <th>3468</th>\n",
       "      <td>Missing</td>\n",
       "      <td>Not Applicable</td>\n",
       "      <td>90-94</td>\n",
       "      <td>70-74</td>\n",
       "      <td>2</td>\n",
       "      <td>Missing</td>\n",
       "      <td>No</td>\n",
       "      <td>1</td>\n",
       "      <td>No</td>\n",
       "    </tr>\n",
       "    <tr>\n",
       "      <th>4373</th>\n",
       "      <td>Missing</td>\n",
       "      <td>Yes</td>\n",
       "      <td>66</td>\n",
       "      <td>70-74</td>\n",
       "      <td>NaN</td>\n",
       "      <td>Missing</td>\n",
       "      <td>Missing</td>\n",
       "      <td>3</td>\n",
       "      <td>NaN</td>\n",
       "    </tr>\n",
       "    <tr>\n",
       "      <th>9225</th>\n",
       "      <td>No</td>\n",
       "      <td>Not Applicable</td>\n",
       "      <td>50-54</td>\n",
       "      <td>35-39</td>\n",
       "      <td>NaN</td>\n",
       "      <td>No</td>\n",
       "      <td>No</td>\n",
       "      <td>2</td>\n",
       "      <td>No</td>\n",
       "    </tr>\n",
       "    <tr>\n",
       "      <th>3264</th>\n",
       "      <td>Missing</td>\n",
       "      <td>Yes</td>\n",
       "      <td>70-79</td>\n",
       "      <td>GE50</td>\n",
       "      <td>NaN</td>\n",
       "      <td>Missing</td>\n",
       "      <td>No</td>\n",
       "      <td>3</td>\n",
       "      <td>Yes</td>\n",
       "    </tr>\n",
       "    <tr>\n",
       "      <th>9845</th>\n",
       "      <td>No</td>\n",
       "      <td>Not Applicable</td>\n",
       "      <td>35</td>\n",
       "      <td>52</td>\n",
       "      <td>2</td>\n",
       "      <td>No</td>\n",
       "      <td>No</td>\n",
       "      <td>1</td>\n",
       "      <td>No</td>\n",
       "    </tr>\n",
       "    <tr>\n",
       "      <th>10799</th>\n",
       "      <td>No</td>\n",
       "      <td>Yes</td>\n",
       "      <td>85-89</td>\n",
       "      <td>50-59</td>\n",
       "      <td>NaN</td>\n",
       "      <td>No</td>\n",
       "      <td>No</td>\n",
       "      <td>3</td>\n",
       "      <td>Yes</td>\n",
       "    </tr>\n",
       "    <tr>\n",
       "      <th>2732</th>\n",
       "      <td>No</td>\n",
       "      <td>Yes</td>\n",
       "      <td>25</td>\n",
       "      <td>23</td>\n",
       "      <td>2.0</td>\n",
       "      <td>No</td>\n",
       "      <td>No</td>\n",
       "      <td>1</td>\n",
       "      <td>Yes</td>\n",
       "    </tr>\n",
       "  </tbody>\n",
       "</table>\n",
       "<p>6409 rows × 9 columns</p>\n",
       "</div>"
      ],
      "text/plain": [
       "      SHARED_TIME         STITLEI ALL_RLA00PCTPROF_1516 ALL_MTH00PCTPROF_1516  \\\n",
       "10178          No             Yes                  LE10                 11-19   \n",
       "10607          No             Yes                 25-29                 20-24   \n",
       "3025           No             Yes                    26                    32   \n",
       "2791           No             Yes                 35-39                 65-69   \n",
       "2506      Missing             Yes                    79                    72   \n",
       "4153           No  Not Applicable                    54                    62   \n",
       "8198           No             Yes                 45-49                 50-54   \n",
       "818       Missing              No                    56                    31   \n",
       "8749      Missing             Yes                    43                    36   \n",
       "9633           No  Not Applicable                 70-74                 60-64   \n",
       "9041      Missing         Missing                  LT50                  LT50   \n",
       "1984      Missing             Yes                    81                    77   \n",
       "9307           No  Not Applicable                 55-59                 35-39   \n",
       "3270      Missing             Yes                 50-59                  LT50   \n",
       "836            No              No                    39                    29   \n",
       "10884          No             Yes                    46                    35   \n",
       "9342           No              No                    27                     8   \n",
       "2902           No             Yes                  LE10                  LE10   \n",
       "8853      Missing             Yes                 15-19                   LE5   \n",
       "10069          No             Yes                    45                    33   \n",
       "9908           No  Not Applicable                    64                    56   \n",
       "10198     Missing             Yes                    56                    50   \n",
       "10532          No              No                   6-9                   LE5   \n",
       "8388           No             Yes                    32                    12   \n",
       "12090     Missing             Yes                 55-59                 50-54   \n",
       "8909      Missing  Not Applicable                 60-79                 21-39   \n",
       "11617     Missing              No                 50-54                 40-44   \n",
       "9128      Missing             Yes                 80-89                 60-69   \n",
       "9528           No             Yes                    55                    47   \n",
       "8925      Missing              No                    57                    47   \n",
       "...           ...             ...                   ...                   ...   \n",
       "2292      Missing             Yes                 65-69                 70-74   \n",
       "714            No  Not Applicable                    90                    93   \n",
       "8736      Missing  Not Applicable                    76                    81   \n",
       "2745           No             Yes                    PS                    PS   \n",
       "3337      Missing             Yes                 70-74                 60-79   \n",
       "8615      Missing              No                    75                    67   \n",
       "3219           No  Not Applicable                    76                    77   \n",
       "659            No             Yes                    19                    18   \n",
       "797            No             Yes                    32                    22   \n",
       "755            No  Not Applicable                    56                    57   \n",
       "10200     Missing             Yes                    44                    32   \n",
       "8291           No             Yes                 11-19                 11-19   \n",
       "2496           No             Yes                 10-14                 15-19   \n",
       "1871      Missing             Yes                    46                    20   \n",
       "2046      Missing  Not Applicable                 90-94                 85-89   \n",
       "2163      Missing              No                 10-14                   6-9   \n",
       "537            No             Yes                 55-59                 65-69   \n",
       "9893           No             Yes                    32                    19   \n",
       "2897           No             Yes                    35                    15   \n",
       "2222           No  Not Applicable                    47                    33   \n",
       "10327          No              No                 70-74                 45-49   \n",
       "2599      Missing             Yes                    92                    96   \n",
       "705       Missing             Yes                 50-54                 35-39   \n",
       "3468      Missing  Not Applicable                 90-94                 70-74   \n",
       "4373      Missing             Yes                    66                 70-74   \n",
       "9225           No  Not Applicable                 50-54                 35-39   \n",
       "3264      Missing             Yes                 70-79                  GE50   \n",
       "9845           No  Not Applicable                    35                    52   \n",
       "10799          No             Yes                 85-89                 50-59   \n",
       "2732           No             Yes                    25                    23   \n",
       "\n",
       "      RECONSTF10  VIRTUAL     MAGNET_TEXT LEVEL TITLEI  \n",
       "10178          2       No              No     4     No  \n",
       "10607        NaN       No              No     2    Yes  \n",
       "3025           2       No         Missing     1    Yes  \n",
       "2791         NaN       No              No     3    Yes  \n",
       "2506           2  Missing              No     2    Yes  \n",
       "4153           2       No              No     1     No  \n",
       "8198           2       No         Missing     1    Yes  \n",
       "818            2       No              No     2    Yes  \n",
       "8749           2       No              No     1    Yes  \n",
       "9633         NaN       No              No     1     No  \n",
       "9041           2       No              No     3    NaN  \n",
       "1984         NaN  Missing              No     1    Yes  \n",
       "9307         NaN       No              No     1    NaN  \n",
       "3270         NaN  Missing              No     3    Yes  \n",
       "836            2       No         Missing     3    Yes  \n",
       "10884          2       No  Not Applicable     2    Yes  \n",
       "9342         2.0       No              No     4    Yes  \n",
       "2902           2       No              No     3    Yes  \n",
       "8853         NaN       No              No     2    Yes  \n",
       "10069        2.0       No              No     1    Yes  \n",
       "9908         NaN       No              No     4     No  \n",
       "10198        NaN       No         Missing     1    NaN  \n",
       "10532        NaN       No              No     4    NaN  \n",
       "8388         NaN  Missing              No     3    Yes  \n",
       "12090          2  Missing              No     1    Yes  \n",
       "8909           2       No              No     3    Yes  \n",
       "11617        2.0       No  Not Applicable     4    Yes  \n",
       "9128           2       No              No     4    Yes  \n",
       "9528         NaN       No              No     1    NaN  \n",
       "8925           2       No              No     1    Yes  \n",
       "...          ...      ...             ...   ...    ...  \n",
       "2292         NaN  Missing              No     1    Yes  \n",
       "714          NaN       No         Missing     4     No  \n",
       "8736           2       No             Yes     1     No  \n",
       "2745           2       No         Missing     3    Yes  \n",
       "3337         NaN  Missing              No     3    Yes  \n",
       "8615           2       No             Yes     1    Yes  \n",
       "3219         NaN       No              No     1     No  \n",
       "659            2       No              No     2    Yes  \n",
       "797            2       No              No     1    Yes  \n",
       "755          NaN       No         Missing     3     No  \n",
       "10200        NaN       No         Missing     4    NaN  \n",
       "8291           2      Yes         Missing     3    Yes  \n",
       "2496         NaN       No              No     2    NaN  \n",
       "1871           N       No              No     2    Yes  \n",
       "2046         NaN  Missing              No     4    NaN  \n",
       "2163           2       No              No     1    Yes  \n",
       "537          NaN       No         Missing     1    Yes  \n",
       "9893         NaN       No              No     2    Yes  \n",
       "2897         2.0       No              No     4    Yes  \n",
       "2222           2      Yes              No     4    Yes  \n",
       "10327          2       No              No     1    Yes  \n",
       "2599           2  Missing              No     1    Yes  \n",
       "705            2       No              No     1    Yes  \n",
       "3468           2  Missing              No     1     No  \n",
       "4373         NaN  Missing         Missing     3    NaN  \n",
       "9225         NaN       No              No     2     No  \n",
       "3264         NaN  Missing              No     3    Yes  \n",
       "9845           2       No              No     1     No  \n",
       "10799        NaN       No              No     3    Yes  \n",
       "2732         2.0       No              No     1    Yes  \n",
       "\n",
       "[6409 rows x 9 columns]"
      ]
     },
     "execution_count": 18,
     "metadata": {},
     "output_type": "execute_result"
    }
   ],
   "source": [
    "df_train[not_numeric_var] # what the non-numeric vars look like"
   ]
  },
  {
   "cell_type": "code",
   "execution_count": 41,
   "metadata": {
    "collapsed": true
   },
   "outputs": [
    {
     "ename": "ValueError",
     "evalue": "Unable to parse string \"N\" at position 5",
     "output_type": "error",
     "traceback": [
      "\u001b[0;31m---------------------------------------------------------------------------\u001b[0m",
      "\u001b[0;31mValueError\u001b[0m                                Traceback (most recent call last)",
      "\u001b[0;32mpandas/_libs/src/inference.pyx\u001b[0m in \u001b[0;36mpandas._libs.lib.maybe_convert_numeric\u001b[0;34m()\u001b[0m\n",
      "\u001b[0;31mValueError\u001b[0m: Unable to parse string \"N\"",
      "\nDuring handling of the above exception, another exception occurred:\n",
      "\u001b[0;31mValueError\u001b[0m                                Traceback (most recent call last)",
      "\u001b[0;32m<ipython-input-41-c5cf91f9f4da>\u001b[0m in \u001b[0;36m<module>\u001b[0;34m()\u001b[0m\n\u001b[0;32m----> 1\u001b[0;31m \u001b[0mpd\u001b[0m\u001b[0;34m.\u001b[0m\u001b[0mto_numeric\u001b[0m\u001b[0;34m(\u001b[0m\u001b[0mnot_clsed\u001b[0m\u001b[0;34m[\u001b[0m\u001b[0;34m'CSA15'\u001b[0m\u001b[0;34m]\u001b[0m\u001b[0;34m)\u001b[0m\u001b[0;34m\u001b[0m\u001b[0m\n\u001b[0m",
      "\u001b[0;32m/opt/conda/lib/python3.6/site-packages/pandas/core/tools/numeric.py\u001b[0m in \u001b[0;36mto_numeric\u001b[0;34m(arg, errors, downcast)\u001b[0m\n\u001b[1;32m    131\u001b[0m             \u001b[0mcoerce_numeric\u001b[0m \u001b[0;34m=\u001b[0m \u001b[0;32mFalse\u001b[0m \u001b[0;32mif\u001b[0m \u001b[0merrors\u001b[0m \u001b[0;32min\u001b[0m \u001b[0;34m(\u001b[0m\u001b[0;34m'ignore'\u001b[0m\u001b[0;34m,\u001b[0m \u001b[0;34m'raise'\u001b[0m\u001b[0;34m)\u001b[0m \u001b[0;32melse\u001b[0m \u001b[0;32mTrue\u001b[0m\u001b[0;34m\u001b[0m\u001b[0m\n\u001b[1;32m    132\u001b[0m             values = lib.maybe_convert_numeric(values, set(),\n\u001b[0;32m--> 133\u001b[0;31m                                                coerce_numeric=coerce_numeric)\n\u001b[0m\u001b[1;32m    134\u001b[0m \u001b[0;34m\u001b[0m\u001b[0m\n\u001b[1;32m    135\u001b[0m     \u001b[0;32mexcept\u001b[0m \u001b[0mException\u001b[0m\u001b[0;34m:\u001b[0m\u001b[0;34m\u001b[0m\u001b[0m\n",
      "\u001b[0;32mpandas/_libs/src/inference.pyx\u001b[0m in \u001b[0;36mpandas._libs.lib.maybe_convert_numeric\u001b[0;34m()\u001b[0m\n",
      "\u001b[0;31mValueError\u001b[0m: Unable to parse string \"N\" at position 5"
     ]
    }
   ],
   "source": [
    "pd.to_numeric(df_train['CSA15']) # some have 'N' value"
   ]
  },
  {
   "cell_type": "code",
   "execution_count": 33,
   "metadata": {},
   "outputs": [
    {
     "data": {
      "text/plain": [
       "'N'"
      ]
     },
     "execution_count": 33,
     "metadata": {},
     "output_type": "execute_result"
    }
   ],
   "source": [
    "df_train['CBSA'].iloc[128] # 'N' value"
   ]
  },
  {
   "cell_type": "code",
   "execution_count": 13,
   "metadata": {},
   "outputs": [],
   "source": [
    "df_train.replace('N', np.nan, inplace = True)"
   ]
  },
  {
   "cell_type": "code",
   "execution_count": 14,
   "metadata": {},
   "outputs": [],
   "source": [
    "df_train.replace('Missing', np.nan, inplace = True)\n",
    "df_train.replace('Not Applicable', np.nan, inplace = True)"
   ]
  },
  {
   "cell_type": "code",
   "execution_count": 15,
   "metadata": {},
   "outputs": [],
   "source": [
    "df_train.replace('NaN', np.nan, inplace = True)"
   ]
  },
  {
   "cell_type": "code",
   "execution_count": 16,
   "metadata": {},
   "outputs": [],
   "source": [
    "# convert column to numeric if possible\n",
    "str_num = []\n",
    "for var in not_numeric_var:\n",
    "    try:\n",
    "        df_train[var] = pd.to_numeric(df_train[var])\n",
    "        str_num.append(var)\n",
    "    except:\n",
    "        pass"
   ]
  },
  {
   "cell_type": "code",
   "execution_count": 17,
   "metadata": {},
   "outputs": [],
   "source": [
    "needs_fixing = list(set(not_numeric_var)-set(str_num)) # vars that cannot convert to numeric because of some string value"
   ]
  },
  {
   "cell_type": "code",
   "execution_count": 24,
   "metadata": {},
   "outputs": [
    {
     "data": {
      "text/plain": [
       "['ALL_MTH00PCTPROF_1516', 'ALL_RLA00PCTPROF_1516']"
      ]
     },
     "execution_count": 24,
     "metadata": {},
     "output_type": "execute_result"
    }
   ],
   "source": [
    "needs_fixing"
   ]
  },
  {
   "cell_type": "code",
   "execution_count": 18,
   "metadata": {},
   "outputs": [],
   "source": [
    "# used to clean proficiency variables\n",
    "def proficiency_variables(col):\n",
    "    new_values = []\n",
    "    for r in col.values:\n",
    "        if isinstance(r, str) and '-' in r:\n",
    "            ra = r.split('-')\n",
    "            a = int(ra[0])\n",
    "            b = int(ra[1])\n",
    "            new_values.append((a+b)/2)\n",
    "        else:\n",
    "            try:\n",
    "                c = int(r)\n",
    "                new_values.append(c)\n",
    "            except:  \n",
    "                c = np.nan\n",
    "                new_values.append(c)\n",
    "    return new_values"
   ]
  },
  {
   "cell_type": "code",
   "execution_count": 26,
   "metadata": {},
   "outputs": [
    {
     "data": {
      "text/plain": [
       "10178    11-19\n",
       "10607    20-24\n",
       "3025        32\n",
       "2791     65-69\n",
       "2506        72\n",
       "4153        62\n",
       "8198     50-54\n",
       "818         31\n",
       "8749        36\n",
       "9633     60-64\n",
       "9041      LT50\n",
       "1984        77\n",
       "9307     35-39\n",
       "3270      LT50\n",
       "836         29\n",
       "10884       35\n",
       "9342         8\n",
       "2902      LE10\n",
       "8853       LE5\n",
       "10069       33\n",
       "9908        56\n",
       "10198       50\n",
       "10532      LE5\n",
       "8388        12\n",
       "12090    50-54\n",
       "8909     21-39\n",
       "11617    40-44\n",
       "9128     60-69\n",
       "9528        47\n",
       "8925        47\n",
       "         ...  \n",
       "2292     70-74\n",
       "714         93\n",
       "8736        81\n",
       "2745        PS\n",
       "3337     60-79\n",
       "8615        67\n",
       "3219        77\n",
       "659         18\n",
       "797         22\n",
       "755         57\n",
       "10200       32\n",
       "8291     11-19\n",
       "2496     15-19\n",
       "1871        20\n",
       "2046     85-89\n",
       "2163       6-9\n",
       "537      65-69\n",
       "9893        19\n",
       "2897        15\n",
       "2222        33\n",
       "10327    45-49\n",
       "2599        96\n",
       "705      35-39\n",
       "3468     70-74\n",
       "4373     70-74\n",
       "9225     35-39\n",
       "3264      GE50\n",
       "9845        52\n",
       "10799    50-59\n",
       "2732        23\n",
       "Name: ALL_MTH00PCTPROF_1516, Length: 6409, dtype: object"
      ]
     },
     "execution_count": 26,
     "metadata": {},
     "output_type": "execute_result"
    }
   ],
   "source": [
    "df_train['ALL_MTH00PCTPROF_1516'] # before"
   ]
  },
  {
   "cell_type": "code",
   "execution_count": 20,
   "metadata": {},
   "outputs": [],
   "source": [
    "df_train['ALL_MTH00PCTPROF_1516'] = pd.Series(proficiency_variables(df_train['ALL_MTH00PCTPROF_1516']), index = df_train.index)\n",
    "df_train['ALL_RLA00PCTPROF_1516'] = pd.Series(proficiency_variables(df_train['ALL_RLA00PCTPROF_1516']), index = df_train.index)"
   ]
  },
  {
   "cell_type": "code",
   "execution_count": 28,
   "metadata": {
    "scrolled": true
   },
   "outputs": [
    {
     "data": {
      "text/plain": [
       "10178    15.0\n",
       "10607    22.0\n",
       "3025     32.0\n",
       "2791     67.0\n",
       "2506     72.0\n",
       "4153     62.0\n",
       "8198     52.0\n",
       "818      31.0\n",
       "8749     36.0\n",
       "9633     62.0\n",
       "9041      NaN\n",
       "1984     77.0\n",
       "9307     37.0\n",
       "3270      NaN\n",
       "836      29.0\n",
       "10884    35.0\n",
       "9342      8.0\n",
       "2902      NaN\n",
       "8853      NaN\n",
       "10069    33.0\n",
       "9908     56.0\n",
       "10198    50.0\n",
       "10532     NaN\n",
       "8388     12.0\n",
       "12090    52.0\n",
       "8909     30.0\n",
       "11617    42.0\n",
       "9128     64.5\n",
       "9528     47.0\n",
       "8925     47.0\n",
       "         ... \n",
       "2292     72.0\n",
       "714      93.0\n",
       "8736     81.0\n",
       "2745      NaN\n",
       "3337     69.5\n",
       "8615     67.0\n",
       "3219     77.0\n",
       "659      18.0\n",
       "797      22.0\n",
       "755      57.0\n",
       "10200    32.0\n",
       "8291     15.0\n",
       "2496     17.0\n",
       "1871     20.0\n",
       "2046     87.0\n",
       "2163      7.5\n",
       "537      67.0\n",
       "9893     19.0\n",
       "2897     15.0\n",
       "2222     33.0\n",
       "10327    47.0\n",
       "2599     96.0\n",
       "705      37.0\n",
       "3468     72.0\n",
       "4373     72.0\n",
       "9225     37.0\n",
       "3264      NaN\n",
       "9845     52.0\n",
       "10799    54.5\n",
       "2732     23.0\n",
       "Name: ALL_MTH00PCTPROF_1516, Length: 6409, dtype: float64"
      ]
     },
     "execution_count": 28,
     "metadata": {},
     "output_type": "execute_result"
    }
   ],
   "source": [
    "df_train['ALL_MTH00PCTPROF_1516'] # after"
   ]
  },
  {
   "cell_type": "code",
   "execution_count": 21,
   "metadata": {},
   "outputs": [],
   "source": [
    "df_train.replace([np.inf, -np.inf], np.nan, inplace = True) # handles pctfrl variable which has inf values"
   ]
  },
  {
   "cell_type": "code",
   "execution_count": 22,
   "metadata": {},
   "outputs": [
    {
     "data": {
      "text/plain": [
       "[]"
      ]
     },
     "execution_count": 22,
     "metadata": {},
     "output_type": "execute_result"
    }
   ],
   "source": [
    "only_numeric = df_train.select_dtypes(include=[np.number])\n",
    "list(set(list(df_train)) - set(only_numeric)) # check all variables are numeric"
   ]
  },
  {
   "cell_type": "code",
   "execution_count": 66,
   "metadata": {},
   "outputs": [],
   "source": [
    "# one hot encoding (if needed, nont needed since we handled all categorical variables)\n",
    "# not_clsed = pd.get_dummies(not_clsed, columns = needs_fixing) "
   ]
  },
  {
   "cell_type": "code",
   "execution_count": 23,
   "metadata": {},
   "outputs": [],
   "source": [
    "only_numeric_array = df_train.values\n",
    "\n",
    "# Replaces nan with average of columns\n",
    "# Thanks stackoverflow\n",
    "col_mean = np.nanmean(only_numeric_array, axis=0)\n",
    "inds = np.where(np.isnan(only_numeric_array))\n",
    "\n",
    "# Place column means in the indices. Align the arrays using take\n",
    "only_numeric_array[inds] = np.take(col_mean, inds[1])"
   ]
  },
  {
   "cell_type": "code",
   "execution_count": 91,
   "metadata": {},
   "outputs": [
    {
     "data": {
      "text/plain": [
       "set()"
      ]
     },
     "execution_count": 91,
     "metadata": {},
     "output_type": "execute_result"
    }
   ],
   "source": [
    "# set(np.where(np.isnan(only_numeric_array))[1])"
   ]
  },
  {
   "cell_type": "code",
   "execution_count": 96,
   "metadata": {},
   "outputs": [
    {
     "data": {
      "text/plain": [
       "{195}"
      ]
     },
     "execution_count": 96,
     "metadata": {},
     "output_type": "execute_result"
    }
   ],
   "source": [
    "# set(np.where(np.isinf(only_numeric_array))[1]) # only column 195 of only_numeric_array contains inf values"
   ]
  },
  {
   "cell_type": "code",
   "execution_count": 67,
   "metadata": {},
   "outputs": [
    {
     "data": {
      "text/plain": [
       "(array([ 337, 1550]),)"
      ]
     },
     "execution_count": 67,
     "metadata": {},
     "output_type": "execute_result"
    }
   ],
   "source": [
    "# np.where(np.isinf(not_clsed['PCTFRL'].values)) # 'PCTFRL' contains inf values"
   ]
  },
  {
   "cell_type": "code",
   "execution_count": 70,
   "metadata": {},
   "outputs": [
    {
     "data": {
      "text/plain": [
       "763     -0.001295\n",
       "11223    0.180247\n",
       "11801    0.603279\n",
       "2131     0.105882\n",
       "12048    0.418367\n",
       "1811    -0.001931\n",
       "2613     0.074074\n",
       "9424     0.069149\n",
       "57       0.333333\n",
       "3671     1.049853\n",
       "9612     0.968531\n",
       "9035     0.718261\n",
       "10285    0.665109\n",
       "11119    0.678832\n",
       "1794     0.962818\n",
       "837      0.334135\n",
       "9011     0.664706\n",
       "4413     0.323671\n",
       "1022     1.031873\n",
       "11644    0.617647\n",
       "8906     0.744428\n",
       "3018     0.891219\n",
       "11845    0.887640\n",
       "3850     0.797508\n",
       "2009     0.598025\n",
       "9814     0.710112\n",
       "9770     0.653488\n",
       "265      0.000000\n",
       "459      0.083665\n",
       "12277         NaN\n",
       "3998     0.933148\n",
       "2142     0.878788\n",
       "10986    0.333333\n",
       "10777    0.726316\n",
       "8719     0.141284\n",
       "9269     0.211382\n",
       "11856         NaN\n",
       "10643         inf\n",
       "8430     0.663717\n",
       "3460     0.912879\n",
       "9645     0.979381\n",
       "9073     0.169065\n",
       "9448     0.149171\n",
       "280      0.000000\n",
       "10106    0.675497\n",
       "3887     0.154506\n",
       "11710    0.674497\n",
       "1958     0.413174\n",
       "1271          NaN\n",
       "12590    1.323887\n",
       "Name: PCTFRL, dtype: float64"
      ]
     },
     "execution_count": 70,
     "metadata": {},
     "output_type": "execute_result"
    }
   ],
   "source": [
    "# not_clsed['PCTFRL'].iloc[300:350]"
   ]
  },
  {
   "cell_type": "code",
   "execution_count": 101,
   "metadata": {},
   "outputs": [
    {
     "data": {
      "text/plain": [
       "'PCTFRL'"
      ]
     },
     "execution_count": 101,
     "metadata": {},
     "output_type": "execute_result"
    }
   ],
   "source": [
    "list(not_clsed)[196] # name of var with inf value"
   ]
  },
  {
   "cell_type": "code",
   "execution_count": 24,
   "metadata": {},
   "outputs": [],
   "source": [
    "scaler = StandardScaler()\n",
    "clean_data = scaler.fit_transform(only_numeric_array) # normalize and center"
   ]
  },
  {
   "cell_type": "code",
   "execution_count": 35,
   "metadata": {},
   "outputs": [
    {
     "data": {
      "text/plain": [
       "(6409, 165)"
      ]
     },
     "execution_count": 35,
     "metadata": {},
     "output_type": "execute_result"
    }
   ],
   "source": [
    "clean_data.shape"
   ]
  },
  {
   "cell_type": "code",
   "execution_count": 25,
   "metadata": {},
   "outputs": [
    {
     "data": {
      "text/plain": [
       "array([  1.45891809e-01,   1.02161479e-01,   7.35687520e-02,\n",
       "         5.58115440e-02,   4.47202268e-02,   4.05266816e-02,\n",
       "         3.02420170e-02,   2.52574529e-02,   2.41708483e-02,\n",
       "         2.28928101e-02,   1.85718044e-02,   1.68449348e-02,\n",
       "         1.59000244e-02,   1.43942492e-02,   1.39955743e-02,\n",
       "         1.24699569e-02,   1.20732395e-02,   1.06742546e-02,\n",
       "         1.01183046e-02,   9.75773808e-03,   9.59797811e-03,\n",
       "         8.80012972e-03,   8.07957044e-03,   7.88541362e-03,\n",
       "         7.56047449e-03,   7.38963859e-03,   7.21992579e-03,\n",
       "         7.17323559e-03,   7.01077581e-03,   6.74198027e-03,\n",
       "         6.67618400e-03,   6.46203203e-03,   6.30059364e-03,\n",
       "         6.20642168e-03,   6.12415762e-03,   6.02917333e-03,\n",
       "         5.93669422e-03,   5.89427075e-03,   5.81614690e-03,\n",
       "         5.62298648e-03,   5.58894746e-03,   5.46431871e-03,\n",
       "         5.38034579e-03,   5.19534435e-03,   4.88936639e-03,\n",
       "         4.83193408e-03,   4.75139104e-03,   4.69666837e-03,\n",
       "         4.46491316e-03,   4.39956667e-03,   4.21274482e-03,\n",
       "         4.15207810e-03,   4.07489427e-03,   3.93386488e-03,\n",
       "         3.84868660e-03,   3.77713304e-03,   3.45596368e-03,\n",
       "         3.34113420e-03,   3.17215069e-03,   3.15712187e-03,\n",
       "         2.95412551e-03,   2.88364152e-03,   2.80653467e-03,\n",
       "         2.72707274e-03,   2.66405418e-03,   2.57116700e-03,\n",
       "         2.52682556e-03,   2.44274275e-03,   2.36917953e-03,\n",
       "         2.31516502e-03,   2.28437701e-03,   2.16248773e-03,\n",
       "         2.08537647e-03,   2.04098930e-03,   1.89008637e-03,\n",
       "         1.86446276e-03,   1.85342783e-03,   1.74827461e-03,\n",
       "         1.67639935e-03,   1.62409380e-03,   1.54647490e-03,\n",
       "         1.44350048e-03,   1.41759886e-03,   1.39179329e-03,\n",
       "         1.34805862e-03,   1.27140967e-03,   1.22454479e-03,\n",
       "         1.20225381e-03,   1.15500048e-03,   1.10488371e-03,\n",
       "         1.07242896e-03,   1.01593393e-03,   9.83964234e-04,\n",
       "         9.55659055e-04,   9.34173871e-04,   8.56564404e-04,\n",
       "         8.27998589e-04,   7.36964633e-04,   7.30752496e-04,\n",
       "         6.54610320e-04,   6.41803683e-04,   6.08728848e-04,\n",
       "         5.59773498e-04,   5.33215758e-04,   4.80811393e-04,\n",
       "         4.19886094e-04,   3.82814452e-04,   3.67387954e-04,\n",
       "         3.59063819e-04,   3.28474569e-04,   2.86719658e-04,\n",
       "         2.53108413e-04,   2.52004823e-04,   2.34489322e-04,\n",
       "         1.95120057e-04,   1.74048868e-04,   1.57469241e-04,\n",
       "         1.42946687e-04,   1.25504147e-04,   1.16413203e-04,\n",
       "         1.13271952e-04,   9.26418729e-05,   8.03969069e-05,\n",
       "         7.61693623e-05,   7.31207769e-05,   6.40204202e-05,\n",
       "         4.09451479e-05,   3.67785542e-05,   2.40817616e-05,\n",
       "         1.49848187e-05,   1.39755982e-05,   1.25835225e-05,\n",
       "         6.35637689e-06,   3.54453403e-06,   1.25941339e-06,\n",
       "         9.14960778e-07,   3.37855716e-08,   1.23813557e-08,\n",
       "         4.48836562e-09,   2.93037884e-09,   2.64239021e-09,\n",
       "         1.47627392e-09,   1.44204592e-09,   9.76749820e-10,\n",
       "         8.16141992e-10,   7.41512806e-10,   6.59487643e-10,\n",
       "         4.62177436e-10,   3.75847469e-10,   2.89394627e-10,\n",
       "         2.33403611e-10,   1.26624202e-10,   4.36546779e-19,\n",
       "         2.87494385e-32,   3.70400399e-33,   1.86336010e-33,\n",
       "         1.53445619e-33,   1.41076180e-33,   1.39061411e-33,\n",
       "         1.27707183e-33,   1.03302369e-33,   9.14678835e-34,\n",
       "         7.06200438e-34,   6.52962754e-34,   6.52962754e-34])"
      ]
     },
     "execution_count": 25,
     "metadata": {},
     "output_type": "execute_result"
    }
   ],
   "source": [
    "pca = PCA()\n",
    "pca.fit(clean_data)\n",
    "\n",
    "pca.explained_variance_ratio_ # ordered from highest variance to lowest amongst all components"
   ]
  },
  {
   "cell_type": "code",
   "execution_count": 26,
   "metadata": {},
   "outputs": [
    {
     "data": {
      "text/plain": [
       "(array([117, 118, 119, 120, 121, 122, 123, 124, 125, 126, 127, 128, 129,\n",
       "        130, 131, 132, 133, 134, 135, 136, 137, 138, 139, 140, 141, 142,\n",
       "        143, 144, 145, 146, 147, 148, 149, 150, 151, 152, 153, 154, 155,\n",
       "        156, 157, 158, 159, 160, 161, 162, 163, 164]),)"
      ]
     },
     "execution_count": 26,
     "metadata": {},
     "output_type": "execute_result"
    }
   ],
   "source": [
    "np.where(np.cumsum(pca.explained_variance_ratio_) > .999) # 118 components are needed to explain .999 of the variance"
   ]
  },
  {
   "cell_type": "code",
   "execution_count": 27,
   "metadata": {},
   "outputs": [
    {
     "data": {
      "text/plain": [
       "PCA(copy=True, iterated_power='auto', n_components=118, random_state=None,\n",
       "  svd_solver='auto', tol=0.0, whiten=False)"
      ]
     },
     "execution_count": 27,
     "metadata": {},
     "output_type": "execute_result"
    }
   ],
   "source": [
    "# project data onto 118 components\n",
    "pca = PCA(n_components = 118)\n",
    "pca.fit(clean_data)"
   ]
  },
  {
   "cell_type": "code",
   "execution_count": 28,
   "metadata": {},
   "outputs": [],
   "source": [
    "transformed_data = pca.transform(clean_data)"
   ]
  },
  {
   "cell_type": "markdown",
   "metadata": {},
   "source": [
    "## Silhouette Cluster Validation"
   ]
  },
  {
   "cell_type": "markdown",
   "metadata": {},
   "source": [
    "sample x"
   ]
  },
  {
   "cell_type": "markdown",
   "metadata": {},
   "source": [
    "i_silh(x) = (b - a)/max(a,b)"
   ]
  },
  {
   "cell_type": "markdown",
   "metadata": {},
   "source": [
    "a = avg distance between x and other points in its cluster"
   ]
  },
  {
   "cell_type": "markdown",
   "metadata": {},
   "source": [
    "b = avg distance between x and then other points in the next closest cluster"
   ]
  },
  {
   "cell_type": "code",
   "execution_count": 29,
   "metadata": {},
   "outputs": [],
   "source": [
    "range_n_clusters = range(2,50) # set range of possible n"
   ]
  },
  {
   "cell_type": "code",
   "execution_count": 30,
   "metadata": {},
   "outputs": [],
   "source": [
    "sil_scores =  []\n",
    "max_score = -2\n",
    "max_n = 1"
   ]
  },
  {
   "cell_type": "code",
   "execution_count": 31,
   "metadata": {},
   "outputs": [
    {
     "name": "stdout",
     "output_type": "stream",
     "text": [
      "For n_clusters = 2 The average silhouette_score is : 0.335181189874\n",
      "Time Elapsed:5.136226, n:2.000000\n",
      "For n_clusters = 3 The average silhouette_score is : 0.327747813229\n",
      "Time Elapsed:9.062999, n:3.000000\n",
      "For n_clusters = 4 The average silhouette_score is : 0.326184503695\n",
      "Time Elapsed:13.293079, n:4.000000\n",
      "For n_clusters = 5 The average silhouette_score is : 0.327939244474\n",
      "Time Elapsed:17.323831, n:5.000000\n",
      "For n_clusters = 6 The average silhouette_score is : 0.334047335052\n",
      "Time Elapsed:21.103725, n:6.000000\n",
      "For n_clusters = 7 The average silhouette_score is : 0.295473099111\n",
      "Time Elapsed:25.065212, n:7.000000\n",
      "For n_clusters = 8 The average silhouette_score is : 0.289949436033\n",
      "Time Elapsed:28.915936, n:8.000000\n",
      "For n_clusters = 9 The average silhouette_score is : 0.298193196434\n",
      "Time Elapsed:32.941487, n:9.000000\n",
      "For n_clusters = 10 The average silhouette_score is : 0.298540573822\n",
      "Time Elapsed:36.918374, n:10.000000\n",
      "For n_clusters = 11 The average silhouette_score is : 0.0960560612618\n",
      "Time Elapsed:40.972363, n:11.000000\n",
      "For n_clusters = 12 The average silhouette_score is : 0.331115126768\n",
      "Time Elapsed:45.176467, n:12.000000\n",
      "For n_clusters = 13 The average silhouette_score is : 0.102505651844\n",
      "Time Elapsed:49.351144, n:13.000000\n",
      "For n_clusters = 14 The average silhouette_score is : 0.114018280776\n",
      "Time Elapsed:53.448105, n:14.000000\n",
      "For n_clusters = 15 The average silhouette_score is : 0.318577994289\n",
      "Time Elapsed:57.715372, n:15.000000\n",
      "For n_clusters = 16 The average silhouette_score is : 0.115031207505\n",
      "Time Elapsed:61.679312, n:16.000000\n",
      "For n_clusters = 17 The average silhouette_score is : 0.106166143681\n",
      "Time Elapsed:65.263653, n:17.000000\n",
      "For n_clusters = 18 The average silhouette_score is : 0.113382715424\n",
      "Time Elapsed:68.972849, n:18.000000\n",
      "For n_clusters = 19 The average silhouette_score is : 0.129065987535\n",
      "Time Elapsed:73.001469, n:19.000000\n",
      "For n_clusters = 20 The average silhouette_score is : 0.124915450466\n",
      "Time Elapsed:77.578894, n:20.000000\n",
      "For n_clusters = 21 The average silhouette_score is : 0.113109517365\n",
      "Time Elapsed:81.607610, n:21.000000\n",
      "For n_clusters = 22 The average silhouette_score is : 0.079895874273\n",
      "Time Elapsed:85.646904, n:22.000000\n",
      "For n_clusters = 23 The average silhouette_score is : 0.108530119955\n",
      "Time Elapsed:89.547812, n:23.000000\n",
      "For n_clusters = 24 The average silhouette_score is : 0.116507991101\n",
      "Time Elapsed:93.544211, n:24.000000\n",
      "For n_clusters = 25 The average silhouette_score is : 0.0971674394967\n",
      "Time Elapsed:97.473527, n:25.000000\n",
      "For n_clusters = 26 The average silhouette_score is : 0.125372887142\n",
      "Time Elapsed:101.423221, n:26.000000\n",
      "For n_clusters = 27 The average silhouette_score is : 0.140270712581\n",
      "Time Elapsed:105.874490, n:27.000000\n",
      "For n_clusters = 28 The average silhouette_score is : 0.114031487162\n",
      "Time Elapsed:110.091329, n:28.000000\n",
      "For n_clusters = 29 The average silhouette_score is : 0.123139921933\n",
      "Time Elapsed:113.949453, n:29.000000\n",
      "For n_clusters = 30 The average silhouette_score is : 0.146832891805\n",
      "Time Elapsed:118.736614, n:30.000000\n",
      "For n_clusters = 31 The average silhouette_score is : 0.151853755708\n",
      "Time Elapsed:123.528584, n:31.000000\n",
      "For n_clusters = 32 The average silhouette_score is : 0.128859985026\n",
      "Time Elapsed:127.861722, n:32.000000\n",
      "For n_clusters = 33 The average silhouette_score is : 0.120773666378\n",
      "Time Elapsed:132.478319, n:33.000000\n",
      "For n_clusters = 34 The average silhouette_score is : 0.125491301712\n",
      "Time Elapsed:136.644011, n:34.000000\n",
      "For n_clusters = 35 The average silhouette_score is : 0.125285022001\n",
      "Time Elapsed:141.376125, n:35.000000\n",
      "For n_clusters = 36 The average silhouette_score is : 0.126649002929\n",
      "Time Elapsed:145.982853, n:36.000000\n",
      "For n_clusters = 37 The average silhouette_score is : 0.131820061408\n",
      "Time Elapsed:151.115351, n:37.000000\n",
      "For n_clusters = 38 The average silhouette_score is : 0.115984756926\n",
      "Time Elapsed:155.596070, n:38.000000\n",
      "For n_clusters = 39 The average silhouette_score is : 0.132154544873\n",
      "Time Elapsed:160.440477, n:39.000000\n",
      "For n_clusters = 40 The average silhouette_score is : 0.128762908613\n",
      "Time Elapsed:165.341422, n:40.000000\n",
      "For n_clusters = 41 The average silhouette_score is : 0.128301204638\n",
      "Time Elapsed:170.117673, n:41.000000\n",
      "For n_clusters = 42 The average silhouette_score is : 0.117042121742\n",
      "Time Elapsed:174.825881, n:42.000000\n",
      "For n_clusters = 43 The average silhouette_score is : 0.136599739796\n",
      "Time Elapsed:179.814609, n:43.000000\n",
      "For n_clusters = 44 The average silhouette_score is : 0.129707522059\n",
      "Time Elapsed:184.742346, n:44.000000\n",
      "For n_clusters = 45 The average silhouette_score is : 0.131418587894\n",
      "Time Elapsed:189.733491, n:45.000000\n",
      "For n_clusters = 46 The average silhouette_score is : 0.127860842265\n",
      "Time Elapsed:195.350088, n:46.000000\n",
      "For n_clusters = 47 The average silhouette_score is : 0.135728604665\n",
      "Time Elapsed:200.455943, n:47.000000\n",
      "For n_clusters = 48 The average silhouette_score is : 0.133641984436\n",
      "Time Elapsed:205.628352, n:48.000000\n",
      "For n_clusters = 49 The average silhouette_score is : 0.154271484305\n",
      "Time Elapsed:211.195540, n:49.000000\n"
     ]
    }
   ],
   "source": [
    "start = time.time()\n",
    "for n in range_n_clusters:\n",
    "    clusterer = KMeans(n_clusters=n, random_state=10)\n",
    "    cluster_labels = clusterer.fit_predict(transformed_data)\n",
    "    silhouette_avg = silhouette_score(transformed_data, cluster_labels)\n",
    "    print(\"For n_clusters =\", n, \"The average silhouette_score is :\", silhouette_avg)\n",
    "    sil_scores.append(silhouette_avg)\n",
    "    if silhouette_avg > max_score:\n",
    "        max_n = n\n",
    "        max_score = silhouette_avg\n",
    "    end = time.time()\n",
    "    print('Time Elapsed:{:f}, n:{:f}'.format(end - start, n))\n"
   ]
  },
  {
   "cell_type": "markdown",
   "metadata": {},
   "source": [
    "### using state seed 10, 12 clusters most likely as can seen by above output and confirmed below, next highest are 2, 6, 3"
   ]
  },
  {
   "cell_type": "code",
   "execution_count": 47,
   "metadata": {},
   "outputs": [
    {
     "data": {
      "text/plain": [
       "2"
      ]
     },
     "execution_count": 47,
     "metadata": {},
     "output_type": "execute_result"
    }
   ],
   "source": [
    "max_n"
   ]
  },
  {
   "cell_type": "code",
   "execution_count": 32,
   "metadata": {},
   "outputs": [
    {
     "ename": "SyntaxError",
     "evalue": "keyword argument repeated (<ipython-input-32-95e306b36b82>, line 18)",
     "output_type": "error",
     "traceback": [
      "\u001b[0;36m  File \u001b[0;32m\"<ipython-input-32-95e306b36b82>\"\u001b[0;36m, line \u001b[0;32m18\u001b[0m\n\u001b[0;31m    clusterer = KMeans(n_clusters=n, random_state=10, max_iter = 600, random_state = seed)\u001b[0m\n\u001b[0m                                                                     ^\u001b[0m\n\u001b[0;31mSyntaxError\u001b[0m\u001b[0;31m:\u001b[0m keyword argument repeated\n"
     ]
    }
   ],
   "source": [
    "# visualization from http://scikit-learn.org/stable/auto_examples/cluster/plot_kmeans_silhouette_analysis.html#sphx-glr-auto-examples-cluster-plot-kmeans-silhouette-analysis-py\n",
    "\n",
    "\n",
    "def visualize(transformed_data, n, seed):\n",
    "    fig, (ax1) = plt.subplots(1, 1)\n",
    "    fig.set_size_inches(18, 20)\n",
    "\n",
    "    # The 1st subplot is the silhouette plot\n",
    "    # The silhouette coefficient can range from -1, 1 but in this example all\n",
    "    # lie within [-0.1, 1]\n",
    "    ax1.set_xlim([-1, 1])\n",
    "    # The (n_clusters+1)*10 is for inserting blank space between silhouette\n",
    "    # plots of individual clusters, to demarcate them clearly.\n",
    "    ax1.set_ylim([0, len(transformed_data) + (n+1)*10])\n",
    "\n",
    "    # Initialize the clusterer with n_clusters value and a random generator\n",
    "    # seed of 10 for reproducibility.\n",
    "    clusterer = KMeans(n_clusters=n, max_iter = 600, random_state = seed)\n",
    "    cluster_labels = clusterer.fit_predict(transformed_data)\n",
    "    silhouette_avg = silhouette_score(transformed_data, cluster_labels)\n",
    "    # Compute the silhouette scores for each sample\n",
    "    sample_silhouette_values = silhouette_samples(transformed_data, cluster_labels)\n",
    "\n",
    "    y_lower = 10\n",
    "    for i in range(n):\n",
    "        # Aggregate the silhouette scores for samples belonging to\n",
    "        # cluster i, and sort them\n",
    "        ith_cluster_silhouette_values = \\\n",
    "            sample_silhouette_values[cluster_labels == i]\n",
    "\n",
    "        ith_cluster_silhouette_values.sort()\n",
    "\n",
    "        size_cluster_i = ith_cluster_silhouette_values.shape[0]\n",
    "        y_upper = y_lower + size_cluster_i\n",
    "\n",
    "        color = cm.nipy_spectral(float(i) / n)\n",
    "        ax1.fill_betweenx(np.arange(y_lower, y_upper),\n",
    "                          0, ith_cluster_silhouette_values,\n",
    "                          facecolor=color, edgecolor=color, alpha=0.7)\n",
    "\n",
    "        # Label the silhouette plots with their cluster numbers at the middle\n",
    "        ax1.text(-0.05, y_lower + 0.5 * size_cluster_i, str(i))\n",
    "\n",
    "        # Compute the new y_lower for next plot\n",
    "        y_lower = y_upper + 10  # 10 for the 0 samples\n",
    "\n",
    "    ax1.set_title(\"The silhouette plot for the various clusters.\")\n",
    "    ax1.set_xlabel(\"The silhouette coefficient values\")\n",
    "    ax1.set_ylabel(\"Cluster label\")\n",
    "\n",
    "    # The vertical line for average silhouette score of all the values\n",
    "    ax1.axvline(x=silhouette_avg, color=\"red\", linestyle=\"--\")\n",
    "\n",
    "    ax1.set_yticks([])  # Clear the yaxis labels / ticks\n",
    "    ax1.set_xticks([-1,-.5,-.2,-0.1, 0, 0.2, 0.4, 0.6, 0.8, 1])\n",
    "\n",
    "    plt.suptitle((\"Silhouette analysis for KMeans clustering on sample data \"\n",
    "                  \"with n_clusters = %d\" % n),\n",
    "                 fontsize=14, fontweight='bold')\n",
    "\n",
    "    plt.show()"
   ]
  },
  {
   "cell_type": "code",
   "execution_count": 84,
   "metadata": {},
   "outputs": [
    {
     "data": {
      "image/png": "[encoded data removed]",
      "text/plain": [
       "<Figure size 1296x1440 with 1 Axes>"
      ]
     },
     "metadata": {},
     "output_type": "display_data"
    }
   ],
   "source": [
    "visualize(transformed_data, 2 10)"
   ]
  },
  {
   "cell_type": "code",
   "execution_count": 85,
   "metadata": {},
   "outputs": [
    {
     "data": {
      "image/png": "[encoded data removed]",
      "text/plain": [
       "<Figure size 1296x1440 with 1 Axes>"
      ]
     },
     "metadata": {},
     "output_type": "display_data"
    }
   ],
   "source": [
    "visualize(transformed_data, 6, 10)"
   ]
  },
  {
   "cell_type": "code",
   "execution_count": 86,
   "metadata": {},
   "outputs": [
    {
     "data": {
      "image/png": "[encoded data removed]",
      "text/plain": [
       "<Figure size 1296x1440 with 1 Axes>"
      ]
     },
     "metadata": {},
     "output_type": "display_data"
    }
   ],
   "source": [
    "visualize(transformed_data, 12, 10)"
   ]
  },
  {
   "cell_type": "markdown",
   "metadata": {},
   "source": [
    "## clusters are not very good as can seen by silhouettes, one reason can be due to the non determinism of k-means"
   ]
  },
  {
   "cell_type": "markdown",
   "metadata": {},
   "source": [
    "# Different random states for KMEANS"
   ]
  },
  {
   "cell_type": "code",
   "execution_count": 53,
   "metadata": {},
   "outputs": [],
   "source": [
    "def cluster(r_state):\n",
    "    sil_scores =  []\n",
    "    score_max = -2\n",
    "    n_max = 1\n",
    "    for n in range(2,20):\n",
    "        clusterer = KMeans(n_clusters=n, random_state=r_state)\n",
    "        cluster_labels = clusterer.fit_predict(transformed_data)\n",
    "        silhouette_avg = silhouette_score(transformed_data, cluster_labels)\n",
    "        if silhouette_avg > score_max:\n",
    "            n_max = n\n",
    "            score_max = silhouette_avg\n",
    "    return n_max, score_max"
   ]
  },
  {
   "cell_type": "code",
   "execution_count": 54,
   "metadata": {
    "collapsed": true
   },
   "outputs": [
    {
     "name": "stdout",
     "output_type": "stream",
     "text": [
      "Time Elapsed:76.061369, state:0.000000\n",
      "Max sil score: 0.342823, num_clusters:7.000000\n",
      "Time Elapsed:153.392654, state:1.000000\n",
      "Max sil score: 0.336435, num_clusters:3.000000\n",
      "Time Elapsed:230.333875, state:2.000000\n",
      "Max sil score: 0.337638, num_clusters:6.000000\n",
      "Time Elapsed:306.934478, state:3.000000\n",
      "Max sil score: 0.343509, num_clusters:7.000000\n",
      "Time Elapsed:384.751026, state:4.000000\n",
      "Max sil score: 0.356021, num_clusters:2.000000\n",
      "Time Elapsed:460.571490, state:5.000000\n",
      "Max sil score: 0.354166, num_clusters:6.000000\n"
     ]
    },
    {
     "ename": "KeyboardInterrupt",
     "evalue": "",
     "output_type": "error",
     "traceback": [
      "\u001b[0;31m---------------------------------------------------------------------------\u001b[0m",
      "\u001b[0;31mKeyboardInterrupt\u001b[0m                         Traceback (most recent call last)",
      "\u001b[0;32m<ipython-input-54-3285b51cdff9>\u001b[0m in \u001b[0;36m<module>\u001b[0;34m()\u001b[0m\n\u001b[1;32m      3\u001b[0m \u001b[0mstart\u001b[0m \u001b[0;34m=\u001b[0m \u001b[0mtime\u001b[0m\u001b[0;34m.\u001b[0m\u001b[0mtime\u001b[0m\u001b[0;34m(\u001b[0m\u001b[0;34m)\u001b[0m\u001b[0;34m\u001b[0m\u001b[0m\n\u001b[1;32m      4\u001b[0m \u001b[0;32mfor\u001b[0m \u001b[0mr_state\u001b[0m \u001b[0;32min\u001b[0m \u001b[0mrange\u001b[0m\u001b[0;34m(\u001b[0m\u001b[0;36m50\u001b[0m\u001b[0;34m)\u001b[0m\u001b[0;34m:\u001b[0m\u001b[0;34m\u001b[0m\u001b[0m\n\u001b[0;32m----> 5\u001b[0;31m     \u001b[0mnum\u001b[0m\u001b[0;34m,\u001b[0m \u001b[0mscore\u001b[0m \u001b[0;34m=\u001b[0m \u001b[0mcluster\u001b[0m\u001b[0;34m(\u001b[0m\u001b[0mr_state\u001b[0m\u001b[0;34m)\u001b[0m\u001b[0;34m\u001b[0m\u001b[0m\n\u001b[0m\u001b[1;32m      6\u001b[0m     \u001b[0mend\u001b[0m \u001b[0;34m=\u001b[0m \u001b[0mtime\u001b[0m\u001b[0;34m.\u001b[0m\u001b[0mtime\u001b[0m\u001b[0;34m(\u001b[0m\u001b[0;34m)\u001b[0m\u001b[0;34m\u001b[0m\u001b[0m\n\u001b[1;32m      7\u001b[0m     \u001b[0mprint\u001b[0m\u001b[0;34m(\u001b[0m\u001b[0;34m'Time Elapsed:{:f}, state:{:f}'\u001b[0m\u001b[0;34m.\u001b[0m\u001b[0mformat\u001b[0m\u001b[0;34m(\u001b[0m\u001b[0mend\u001b[0m \u001b[0;34m-\u001b[0m \u001b[0mstart\u001b[0m\u001b[0;34m,\u001b[0m\u001b[0mr_state\u001b[0m\u001b[0;34m)\u001b[0m\u001b[0;34m)\u001b[0m\u001b[0;34m\u001b[0m\u001b[0m\n",
      "\u001b[0;32m<ipython-input-53-1f4406b00033>\u001b[0m in \u001b[0;36mcluster\u001b[0;34m(r_state)\u001b[0m\n\u001b[1;32m      5\u001b[0m     \u001b[0;32mfor\u001b[0m \u001b[0mn\u001b[0m \u001b[0;32min\u001b[0m \u001b[0mrange\u001b[0m\u001b[0;34m(\u001b[0m\u001b[0;36m2\u001b[0m\u001b[0;34m,\u001b[0m\u001b[0;36m20\u001b[0m\u001b[0;34m)\u001b[0m\u001b[0;34m:\u001b[0m\u001b[0;34m\u001b[0m\u001b[0m\n\u001b[1;32m      6\u001b[0m         \u001b[0mclusterer\u001b[0m \u001b[0;34m=\u001b[0m \u001b[0mKMeans\u001b[0m\u001b[0;34m(\u001b[0m\u001b[0mn_clusters\u001b[0m\u001b[0;34m=\u001b[0m\u001b[0mn\u001b[0m\u001b[0;34m,\u001b[0m \u001b[0mrandom_state\u001b[0m\u001b[0;34m=\u001b[0m\u001b[0mr_state\u001b[0m\u001b[0;34m)\u001b[0m\u001b[0;34m\u001b[0m\u001b[0m\n\u001b[0;32m----> 7\u001b[0;31m         \u001b[0mcluster_labels\u001b[0m \u001b[0;34m=\u001b[0m \u001b[0mclusterer\u001b[0m\u001b[0;34m.\u001b[0m\u001b[0mfit_predict\u001b[0m\u001b[0;34m(\u001b[0m\u001b[0mtransformed_data\u001b[0m\u001b[0;34m)\u001b[0m\u001b[0;34m\u001b[0m\u001b[0m\n\u001b[0m\u001b[1;32m      8\u001b[0m         \u001b[0msilhouette_avg\u001b[0m \u001b[0;34m=\u001b[0m \u001b[0msilhouette_score\u001b[0m\u001b[0;34m(\u001b[0m\u001b[0mtransformed_data\u001b[0m\u001b[0;34m,\u001b[0m \u001b[0mcluster_labels\u001b[0m\u001b[0;34m)\u001b[0m\u001b[0;34m\u001b[0m\u001b[0m\n\u001b[1;32m      9\u001b[0m         \u001b[0;32mif\u001b[0m \u001b[0msilhouette_avg\u001b[0m \u001b[0;34m>\u001b[0m \u001b[0mscore_max\u001b[0m\u001b[0;34m:\u001b[0m\u001b[0;34m\u001b[0m\u001b[0m\n",
      "\u001b[0;32m/opt/conda/lib/python3.6/site-packages/sklearn/cluster/k_means_.py\u001b[0m in \u001b[0;36mfit_predict\u001b[0;34m(self, X, y)\u001b[0m\n\u001b[1;32m    915\u001b[0m             \u001b[0mIndex\u001b[0m \u001b[0mof\u001b[0m \u001b[0mthe\u001b[0m \u001b[0mcluster\u001b[0m \u001b[0meach\u001b[0m \u001b[0msample\u001b[0m \u001b[0mbelongs\u001b[0m \u001b[0mto\u001b[0m\u001b[0;34m.\u001b[0m\u001b[0;34m\u001b[0m\u001b[0m\n\u001b[1;32m    916\u001b[0m         \"\"\"\n\u001b[0;32m--> 917\u001b[0;31m         \u001b[0;32mreturn\u001b[0m \u001b[0mself\u001b[0m\u001b[0;34m.\u001b[0m\u001b[0mfit\u001b[0m\u001b[0;34m(\u001b[0m\u001b[0mX\u001b[0m\u001b[0;34m)\u001b[0m\u001b[0;34m.\u001b[0m\u001b[0mlabels_\u001b[0m\u001b[0;34m\u001b[0m\u001b[0m\n\u001b[0m\u001b[1;32m    918\u001b[0m \u001b[0;34m\u001b[0m\u001b[0m\n\u001b[1;32m    919\u001b[0m     \u001b[0;32mdef\u001b[0m \u001b[0mfit_transform\u001b[0m\u001b[0;34m(\u001b[0m\u001b[0mself\u001b[0m\u001b[0;34m,\u001b[0m \u001b[0mX\u001b[0m\u001b[0;34m,\u001b[0m \u001b[0my\u001b[0m\u001b[0;34m=\u001b[0m\u001b[0;32mNone\u001b[0m\u001b[0;34m)\u001b[0m\u001b[0;34m:\u001b[0m\u001b[0;34m\u001b[0m\u001b[0m\n",
      "\u001b[0;32m/opt/conda/lib/python3.6/site-packages/sklearn/cluster/k_means_.py\u001b[0m in \u001b[0;36mfit\u001b[0;34m(self, X, y)\u001b[0m\n\u001b[1;32m    894\u001b[0m                 \u001b[0mtol\u001b[0m\u001b[0;34m=\u001b[0m\u001b[0mself\u001b[0m\u001b[0;34m.\u001b[0m\u001b[0mtol\u001b[0m\u001b[0;34m,\u001b[0m \u001b[0mrandom_state\u001b[0m\u001b[0;34m=\u001b[0m\u001b[0mrandom_state\u001b[0m\u001b[0;34m,\u001b[0m \u001b[0mcopy_x\u001b[0m\u001b[0;34m=\u001b[0m\u001b[0mself\u001b[0m\u001b[0;34m.\u001b[0m\u001b[0mcopy_x\u001b[0m\u001b[0;34m,\u001b[0m\u001b[0;34m\u001b[0m\u001b[0m\n\u001b[1;32m    895\u001b[0m                 \u001b[0mn_jobs\u001b[0m\u001b[0;34m=\u001b[0m\u001b[0mself\u001b[0m\u001b[0;34m.\u001b[0m\u001b[0mn_jobs\u001b[0m\u001b[0;34m,\u001b[0m \u001b[0malgorithm\u001b[0m\u001b[0;34m=\u001b[0m\u001b[0mself\u001b[0m\u001b[0;34m.\u001b[0m\u001b[0malgorithm\u001b[0m\u001b[0;34m,\u001b[0m\u001b[0;34m\u001b[0m\u001b[0m\n\u001b[0;32m--> 896\u001b[0;31m                 return_n_iter=True)\n\u001b[0m\u001b[1;32m    897\u001b[0m         \u001b[0;32mreturn\u001b[0m \u001b[0mself\u001b[0m\u001b[0;34m\u001b[0m\u001b[0m\n\u001b[1;32m    898\u001b[0m \u001b[0;34m\u001b[0m\u001b[0m\n",
      "\u001b[0;32m/opt/conda/lib/python3.6/site-packages/sklearn/cluster/k_means_.py\u001b[0m in \u001b[0;36mk_means\u001b[0;34m(X, n_clusters, init, precompute_distances, n_init, max_iter, verbose, tol, random_state, copy_x, n_jobs, algorithm, return_n_iter)\u001b[0m\n\u001b[1;32m    344\u001b[0m                 \u001b[0mX\u001b[0m\u001b[0;34m,\u001b[0m \u001b[0mn_clusters\u001b[0m\u001b[0;34m,\u001b[0m \u001b[0mmax_iter\u001b[0m\u001b[0;34m=\u001b[0m\u001b[0mmax_iter\u001b[0m\u001b[0;34m,\u001b[0m \u001b[0minit\u001b[0m\u001b[0;34m=\u001b[0m\u001b[0minit\u001b[0m\u001b[0;34m,\u001b[0m \u001b[0mverbose\u001b[0m\u001b[0;34m=\u001b[0m\u001b[0mverbose\u001b[0m\u001b[0;34m,\u001b[0m\u001b[0;34m\u001b[0m\u001b[0m\n\u001b[1;32m    345\u001b[0m                 \u001b[0mprecompute_distances\u001b[0m\u001b[0;34m=\u001b[0m\u001b[0mprecompute_distances\u001b[0m\u001b[0;34m,\u001b[0m \u001b[0mtol\u001b[0m\u001b[0;34m=\u001b[0m\u001b[0mtol\u001b[0m\u001b[0;34m,\u001b[0m\u001b[0;34m\u001b[0m\u001b[0m\n\u001b[0;32m--> 346\u001b[0;31m                 x_squared_norms=x_squared_norms, random_state=random_state)\n\u001b[0m\u001b[1;32m    347\u001b[0m             \u001b[0;31m# determine if these results are the best so far\u001b[0m\u001b[0;34m\u001b[0m\u001b[0;34m\u001b[0m\u001b[0m\n\u001b[1;32m    348\u001b[0m             \u001b[0;32mif\u001b[0m \u001b[0mbest_inertia\u001b[0m \u001b[0;32mis\u001b[0m \u001b[0;32mNone\u001b[0m \u001b[0;32mor\u001b[0m \u001b[0minertia\u001b[0m \u001b[0;34m<\u001b[0m \u001b[0mbest_inertia\u001b[0m\u001b[0;34m:\u001b[0m\u001b[0;34m\u001b[0m\u001b[0m\n",
      "\u001b[0;32m/opt/conda/lib/python3.6/site-packages/sklearn/cluster/k_means_.py\u001b[0m in \u001b[0;36m_kmeans_single_elkan\u001b[0;34m(X, n_clusters, max_iter, init, verbose, x_squared_norms, random_state, tol, precompute_distances)\u001b[0m\n\u001b[1;32m    393\u001b[0m     \u001b[0;31m# init\u001b[0m\u001b[0;34m\u001b[0m\u001b[0;34m\u001b[0m\u001b[0m\n\u001b[1;32m    394\u001b[0m     centers = _init_centroids(X, n_clusters, init, random_state=random_state,\n\u001b[0;32m--> 395\u001b[0;31m                               x_squared_norms=x_squared_norms)\n\u001b[0m\u001b[1;32m    396\u001b[0m     \u001b[0mcenters\u001b[0m \u001b[0;34m=\u001b[0m \u001b[0mnp\u001b[0m\u001b[0;34m.\u001b[0m\u001b[0mascontiguousarray\u001b[0m\u001b[0;34m(\u001b[0m\u001b[0mcenters\u001b[0m\u001b[0;34m)\u001b[0m\u001b[0;34m\u001b[0m\u001b[0m\n\u001b[1;32m    397\u001b[0m     \u001b[0;32mif\u001b[0m \u001b[0mverbose\u001b[0m\u001b[0;34m:\u001b[0m\u001b[0;34m\u001b[0m\u001b[0m\n",
      "\u001b[0;32m/opt/conda/lib/python3.6/site-packages/sklearn/cluster/k_means_.py\u001b[0m in \u001b[0;36m_init_centroids\u001b[0;34m(X, k, init, random_state, x_squared_norms, init_size)\u001b[0m\n\u001b[1;32m    682\u001b[0m     \u001b[0;32mif\u001b[0m \u001b[0misinstance\u001b[0m\u001b[0;34m(\u001b[0m\u001b[0minit\u001b[0m\u001b[0;34m,\u001b[0m \u001b[0mstring_types\u001b[0m\u001b[0;34m)\u001b[0m \u001b[0;32mand\u001b[0m \u001b[0minit\u001b[0m \u001b[0;34m==\u001b[0m \u001b[0;34m'k-means++'\u001b[0m\u001b[0;34m:\u001b[0m\u001b[0;34m\u001b[0m\u001b[0m\n\u001b[1;32m    683\u001b[0m         centers = _k_init(X, k, random_state=random_state,\n\u001b[0;32m--> 684\u001b[0;31m                           x_squared_norms=x_squared_norms)\n\u001b[0m\u001b[1;32m    685\u001b[0m     \u001b[0;32melif\u001b[0m \u001b[0misinstance\u001b[0m\u001b[0;34m(\u001b[0m\u001b[0minit\u001b[0m\u001b[0;34m,\u001b[0m \u001b[0mstring_types\u001b[0m\u001b[0;34m)\u001b[0m \u001b[0;32mand\u001b[0m \u001b[0minit\u001b[0m \u001b[0;34m==\u001b[0m \u001b[0;34m'random'\u001b[0m\u001b[0;34m:\u001b[0m\u001b[0;34m\u001b[0m\u001b[0m\n\u001b[1;32m    686\u001b[0m         \u001b[0mseeds\u001b[0m \u001b[0;34m=\u001b[0m \u001b[0mrandom_state\u001b[0m\u001b[0;34m.\u001b[0m\u001b[0mpermutation\u001b[0m\u001b[0;34m(\u001b[0m\u001b[0mn_samples\u001b[0m\u001b[0;34m)\u001b[0m\u001b[0;34m[\u001b[0m\u001b[0;34m:\u001b[0m\u001b[0mk\u001b[0m\u001b[0;34m]\u001b[0m\u001b[0;34m\u001b[0m\u001b[0m\n",
      "\u001b[0;32m/opt/conda/lib/python3.6/site-packages/sklearn/cluster/k_means_.py\u001b[0m in \u001b[0;36m_k_init\u001b[0;34m(X, n_clusters, x_squared_norms, random_state, n_local_trials)\u001b[0m\n\u001b[1;32m    111\u001b[0m         \u001b[0;31m# Compute distances to center candidates\u001b[0m\u001b[0;34m\u001b[0m\u001b[0;34m\u001b[0m\u001b[0m\n\u001b[1;32m    112\u001b[0m         distance_to_candidates = euclidean_distances(\n\u001b[0;32m--> 113\u001b[0;31m             X[candidate_ids], X, Y_norm_squared=x_squared_norms, squared=True)\n\u001b[0m\u001b[1;32m    114\u001b[0m \u001b[0;34m\u001b[0m\u001b[0m\n\u001b[1;32m    115\u001b[0m         \u001b[0;31m# Decide which candidate is the best\u001b[0m\u001b[0;34m\u001b[0m\u001b[0;34m\u001b[0m\u001b[0m\n",
      "\u001b[0;32m/opt/conda/lib/python3.6/site-packages/sklearn/metrics/pairwise.py\u001b[0m in \u001b[0;36meuclidean_distances\u001b[0;34m(X, Y, Y_norm_squared, squared, X_norm_squared)\u001b[0m\n\u001b[1;32m    244\u001b[0m         \u001b[0mYY\u001b[0m \u001b[0;34m=\u001b[0m \u001b[0mrow_norms\u001b[0m\u001b[0;34m(\u001b[0m\u001b[0mY\u001b[0m\u001b[0;34m,\u001b[0m \u001b[0msquared\u001b[0m\u001b[0;34m=\u001b[0m\u001b[0;32mTrue\u001b[0m\u001b[0;34m)\u001b[0m\u001b[0;34m[\u001b[0m\u001b[0mnp\u001b[0m\u001b[0;34m.\u001b[0m\u001b[0mnewaxis\u001b[0m\u001b[0;34m,\u001b[0m \u001b[0;34m:\u001b[0m\u001b[0;34m]\u001b[0m\u001b[0;34m\u001b[0m\u001b[0m\n\u001b[1;32m    245\u001b[0m \u001b[0;34m\u001b[0m\u001b[0m\n\u001b[0;32m--> 246\u001b[0;31m     \u001b[0mdistances\u001b[0m \u001b[0;34m=\u001b[0m \u001b[0msafe_sparse_dot\u001b[0m\u001b[0;34m(\u001b[0m\u001b[0mX\u001b[0m\u001b[0;34m,\u001b[0m \u001b[0mY\u001b[0m\u001b[0;34m.\u001b[0m\u001b[0mT\u001b[0m\u001b[0;34m,\u001b[0m \u001b[0mdense_output\u001b[0m\u001b[0;34m=\u001b[0m\u001b[0;32mTrue\u001b[0m\u001b[0;34m)\u001b[0m\u001b[0;34m\u001b[0m\u001b[0m\n\u001b[0m\u001b[1;32m    247\u001b[0m     \u001b[0mdistances\u001b[0m \u001b[0;34m*=\u001b[0m \u001b[0;34m-\u001b[0m\u001b[0;36m2\u001b[0m\u001b[0;34m\u001b[0m\u001b[0m\n\u001b[1;32m    248\u001b[0m     \u001b[0mdistances\u001b[0m \u001b[0;34m+=\u001b[0m \u001b[0mXX\u001b[0m\u001b[0;34m\u001b[0m\u001b[0m\n",
      "\u001b[0;32m/opt/conda/lib/python3.6/site-packages/sklearn/utils/extmath.py\u001b[0m in \u001b[0;36msafe_sparse_dot\u001b[0;34m(a, b, dense_output)\u001b[0m\n\u001b[1;32m    138\u001b[0m         \u001b[0;32mreturn\u001b[0m \u001b[0mret\u001b[0m\u001b[0;34m\u001b[0m\u001b[0m\n\u001b[1;32m    139\u001b[0m     \u001b[0;32melse\u001b[0m\u001b[0;34m:\u001b[0m\u001b[0;34m\u001b[0m\u001b[0m\n\u001b[0;32m--> 140\u001b[0;31m         \u001b[0;32mreturn\u001b[0m \u001b[0mnp\u001b[0m\u001b[0;34m.\u001b[0m\u001b[0mdot\u001b[0m\u001b[0;34m(\u001b[0m\u001b[0ma\u001b[0m\u001b[0;34m,\u001b[0m \u001b[0mb\u001b[0m\u001b[0;34m)\u001b[0m\u001b[0;34m\u001b[0m\u001b[0m\n\u001b[0m\u001b[1;32m    141\u001b[0m \u001b[0;34m\u001b[0m\u001b[0m\n\u001b[1;32m    142\u001b[0m \u001b[0;34m\u001b[0m\u001b[0m\n",
      "\u001b[0;31mKeyboardInterrupt\u001b[0m: "
     ]
    }
   ],
   "source": [
    "max_score_list = []\n",
    "max_n_list = []\n",
    "start = time.time()\n",
    "for r_state in range(50):\n",
    "    num, score = cluster(r_state)\n",
    "    end = time.time()\n",
    "    print('Time Elapsed:{:f}, state:{:f}'.format(end - start,r_state))\n",
    "    print('Max sil score: {:f}, num_clusters:{:f}'.format(score,num))\n",
    "    max_score_list.append(score)\n",
    "    max_n_list.append(num)"
   ]
  },
  {
   "cell_type": "markdown",
   "metadata": {},
   "source": [
    "## Clustering using pre selected variables"
   ]
  },
  {
   "cell_type": "code",
   "execution_count": 69,
   "metadata": {},
   "outputs": [
    {
     "data": {
      "text/plain": [
       "154"
      ]
     },
     "execution_count": 69,
     "metadata": {},
     "output_type": "execute_result"
    }
   ],
   "source": [
    "df_train.columns.get_loc('PCTETH')"
   ]
  },
  {
   "cell_type": "code",
   "execution_count": 65,
   "metadata": {},
   "outputs": [
    {
     "data": {
      "text/plain": [
       "156"
      ]
     },
     "execution_count": 65,
     "metadata": {},
     "output_type": "execute_result"
    }
   ],
   "source": [
    "df_train.columns.get_loc('PCTFRL')"
   ]
  },
  {
   "cell_type": "code",
   "execution_count": 70,
   "metadata": {},
   "outputs": [
    {
     "data": {
      "text/plain": [
       "34"
      ]
     },
     "execution_count": 70,
     "metadata": {},
     "output_type": "execute_result"
    }
   ],
   "source": [
    "df_train.columns.get_loc('% Total Population: White Alone')"
   ]
  },
  {
   "cell_type": "code",
   "execution_count": 71,
   "metadata": {},
   "outputs": [
    {
     "data": {
      "text/plain": [
       "115"
      ]
     },
     "execution_count": 71,
     "metadata": {},
     "output_type": "execute_result"
    }
   ],
   "source": [
    "df_train.columns.get_loc('% Families: Income in Below Poverty Level')"
   ]
  },
  {
   "cell_type": "code",
   "execution_count": null,
   "metadata": {},
   "outputs": [],
   "source": [
    "var = ['PCTETH','PCTFRL','% Total Population: White Alone','% Families: Income in Below Poverty Level']"
   ]
  },
  {
   "cell_type": "code",
   "execution_count": 78,
   "metadata": {},
   "outputs": [],
   "source": [
    "p_data = clean_data.T[[154,156,34,115]].T"
   ]
  },
  {
   "cell_type": "code",
   "execution_count": 80,
   "metadata": {},
   "outputs": [
    {
     "name": "stdout",
     "output_type": "stream",
     "text": [
      "For n_clusters = 2 The average silhouette_score is : 0.391182150494\n",
      "Time Elapsed:4.250730, n:2.000000\n",
      "For n_clusters = 3 The average silhouette_score is : 0.394446942227\n",
      "Time Elapsed:8.337535, n:3.000000\n",
      "For n_clusters = 4 The average silhouette_score is : 0.437444832374\n",
      "Time Elapsed:12.183068, n:4.000000\n",
      "For n_clusters = 5 The average silhouette_score is : 0.466907311139\n",
      "Time Elapsed:16.087873, n:5.000000\n",
      "For n_clusters = 6 The average silhouette_score is : 0.495793299622\n",
      "Time Elapsed:19.563308, n:6.000000\n",
      "For n_clusters = 7 The average silhouette_score is : 0.49986089285\n",
      "Time Elapsed:23.298302, n:7.000000\n",
      "For n_clusters = 8 The average silhouette_score is : 0.403000317418\n",
      "Time Elapsed:26.681593, n:8.000000\n",
      "For n_clusters = 9 The average silhouette_score is : 0.415038144573\n",
      "Time Elapsed:29.996404, n:9.000000\n",
      "For n_clusters = 10 The average silhouette_score is : 0.423540551665\n",
      "Time Elapsed:33.104616, n:10.000000\n",
      "For n_clusters = 11 The average silhouette_score is : 0.419555622487\n",
      "Time Elapsed:36.532728, n:11.000000\n",
      "For n_clusters = 12 The average silhouette_score is : 0.433231856874\n",
      "Time Elapsed:39.732308, n:12.000000\n",
      "For n_clusters = 13 The average silhouette_score is : 0.442507208703\n",
      "Time Elapsed:42.917365, n:13.000000\n",
      "For n_clusters = 14 The average silhouette_score is : 0.444426291402\n",
      "Time Elapsed:46.125997, n:14.000000\n",
      "For n_clusters = 15 The average silhouette_score is : 0.44951775181\n",
      "Time Elapsed:49.232020, n:15.000000\n",
      "For n_clusters = 16 The average silhouette_score is : 0.392993249775\n",
      "Time Elapsed:52.116122, n:16.000000\n",
      "For n_clusters = 17 The average silhouette_score is : 0.396289204794\n",
      "Time Elapsed:54.944974, n:17.000000\n",
      "For n_clusters = 18 The average silhouette_score is : 0.412429943942\n",
      "Time Elapsed:57.853204, n:18.000000\n",
      "For n_clusters = 19 The average silhouette_score is : 0.426458590657\n",
      "Time Elapsed:60.783493, n:19.000000\n",
      "For n_clusters = 20 The average silhouette_score is : 0.422261597527\n",
      "Time Elapsed:63.589978, n:20.000000\n",
      "For n_clusters = 21 The average silhouette_score is : 0.427483342985\n",
      "Time Elapsed:66.466599, n:21.000000\n"
     ]
    },
    {
     "ename": "KeyboardInterrupt",
     "evalue": "",
     "output_type": "error",
     "traceback": [
      "\u001b[0;31m---------------------------------------------------------------------------\u001b[0m",
      "\u001b[0;31mKeyboardInterrupt\u001b[0m                         Traceback (most recent call last)",
      "\u001b[0;32m<ipython-input-80-422227433de4>\u001b[0m in \u001b[0;36m<module>\u001b[0;34m()\u001b[0m\n\u001b[1;32m      6\u001b[0m     \u001b[0mclusterer\u001b[0m \u001b[0;34m=\u001b[0m \u001b[0mKMeans\u001b[0m\u001b[0;34m(\u001b[0m\u001b[0mn_clusters\u001b[0m\u001b[0;34m=\u001b[0m\u001b[0mn\u001b[0m\u001b[0;34m,\u001b[0m \u001b[0mrandom_state\u001b[0m\u001b[0;34m=\u001b[0m\u001b[0;36m10\u001b[0m\u001b[0;34m)\u001b[0m\u001b[0;34m\u001b[0m\u001b[0m\n\u001b[1;32m      7\u001b[0m     \u001b[0mcluster_labels\u001b[0m \u001b[0;34m=\u001b[0m \u001b[0mclusterer\u001b[0m\u001b[0;34m.\u001b[0m\u001b[0mfit_predict\u001b[0m\u001b[0;34m(\u001b[0m\u001b[0mp_data\u001b[0m\u001b[0;34m)\u001b[0m\u001b[0;34m\u001b[0m\u001b[0m\n\u001b[0;32m----> 8\u001b[0;31m     \u001b[0msilhouette_avg\u001b[0m \u001b[0;34m=\u001b[0m \u001b[0msilhouette_score\u001b[0m\u001b[0;34m(\u001b[0m\u001b[0mp_data\u001b[0m\u001b[0;34m,\u001b[0m \u001b[0mcluster_labels\u001b[0m\u001b[0;34m)\u001b[0m\u001b[0;34m\u001b[0m\u001b[0m\n\u001b[0m\u001b[1;32m      9\u001b[0m     \u001b[0mprint\u001b[0m\u001b[0;34m(\u001b[0m\u001b[0;34m\"For n_clusters =\"\u001b[0m\u001b[0;34m,\u001b[0m \u001b[0mn\u001b[0m\u001b[0;34m,\u001b[0m \u001b[0;34m\"The average silhouette_score is :\"\u001b[0m\u001b[0;34m,\u001b[0m \u001b[0msilhouette_avg\u001b[0m\u001b[0;34m)\u001b[0m\u001b[0;34m\u001b[0m\u001b[0m\n\u001b[1;32m     10\u001b[0m     \u001b[0msil_scores\u001b[0m\u001b[0;34m.\u001b[0m\u001b[0mappend\u001b[0m\u001b[0;34m(\u001b[0m\u001b[0msilhouette_avg\u001b[0m\u001b[0;34m)\u001b[0m\u001b[0;34m\u001b[0m\u001b[0m\n",
      "\u001b[0;32m/opt/conda/lib/python3.6/site-packages/sklearn/metrics/cluster/unsupervised.py\u001b[0m in \u001b[0;36msilhouette_score\u001b[0;34m(X, labels, metric, sample_size, random_state, **kwds)\u001b[0m\n\u001b[1;32m     99\u001b[0m         \u001b[0;32melse\u001b[0m\u001b[0;34m:\u001b[0m\u001b[0;34m\u001b[0m\u001b[0m\n\u001b[1;32m    100\u001b[0m             \u001b[0mX\u001b[0m\u001b[0;34m,\u001b[0m \u001b[0mlabels\u001b[0m \u001b[0;34m=\u001b[0m \u001b[0mX\u001b[0m\u001b[0;34m[\u001b[0m\u001b[0mindices\u001b[0m\u001b[0;34m]\u001b[0m\u001b[0;34m,\u001b[0m \u001b[0mlabels\u001b[0m\u001b[0;34m[\u001b[0m\u001b[0mindices\u001b[0m\u001b[0;34m]\u001b[0m\u001b[0;34m\u001b[0m\u001b[0m\n\u001b[0;32m--> 101\u001b[0;31m     \u001b[0;32mreturn\u001b[0m \u001b[0mnp\u001b[0m\u001b[0;34m.\u001b[0m\u001b[0mmean\u001b[0m\u001b[0;34m(\u001b[0m\u001b[0msilhouette_samples\u001b[0m\u001b[0;34m(\u001b[0m\u001b[0mX\u001b[0m\u001b[0;34m,\u001b[0m \u001b[0mlabels\u001b[0m\u001b[0;34m,\u001b[0m \u001b[0mmetric\u001b[0m\u001b[0;34m=\u001b[0m\u001b[0mmetric\u001b[0m\u001b[0;34m,\u001b[0m \u001b[0;34m**\u001b[0m\u001b[0mkwds\u001b[0m\u001b[0;34m)\u001b[0m\u001b[0;34m)\u001b[0m\u001b[0;34m\u001b[0m\u001b[0m\n\u001b[0m\u001b[1;32m    102\u001b[0m \u001b[0;34m\u001b[0m\u001b[0m\n\u001b[1;32m    103\u001b[0m \u001b[0;34m\u001b[0m\u001b[0m\n",
      "\u001b[0;32m/opt/conda/lib/python3.6/site-packages/sklearn/metrics/cluster/unsupervised.py\u001b[0m in \u001b[0;36msilhouette_samples\u001b[0;34m(X, labels, metric, **kwds)\u001b[0m\n\u001b[1;32m    167\u001b[0m     \u001b[0mcheck_number_of_labels\u001b[0m\u001b[0;34m(\u001b[0m\u001b[0mlen\u001b[0m\u001b[0;34m(\u001b[0m\u001b[0mle\u001b[0m\u001b[0;34m.\u001b[0m\u001b[0mclasses_\u001b[0m\u001b[0;34m)\u001b[0m\u001b[0;34m,\u001b[0m \u001b[0mX\u001b[0m\u001b[0;34m.\u001b[0m\u001b[0mshape\u001b[0m\u001b[0;34m[\u001b[0m\u001b[0;36m0\u001b[0m\u001b[0;34m]\u001b[0m\u001b[0;34m)\u001b[0m\u001b[0;34m\u001b[0m\u001b[0m\n\u001b[1;32m    168\u001b[0m \u001b[0;34m\u001b[0m\u001b[0m\n\u001b[0;32m--> 169\u001b[0;31m     \u001b[0mdistances\u001b[0m \u001b[0;34m=\u001b[0m \u001b[0mpairwise_distances\u001b[0m\u001b[0;34m(\u001b[0m\u001b[0mX\u001b[0m\u001b[0;34m,\u001b[0m \u001b[0mmetric\u001b[0m\u001b[0;34m=\u001b[0m\u001b[0mmetric\u001b[0m\u001b[0;34m,\u001b[0m \u001b[0;34m**\u001b[0m\u001b[0mkwds\u001b[0m\u001b[0;34m)\u001b[0m\u001b[0;34m\u001b[0m\u001b[0m\n\u001b[0m\u001b[1;32m    170\u001b[0m     \u001b[0munique_labels\u001b[0m \u001b[0;34m=\u001b[0m \u001b[0mle\u001b[0m\u001b[0;34m.\u001b[0m\u001b[0mclasses_\u001b[0m\u001b[0;34m\u001b[0m\u001b[0m\n\u001b[1;32m    171\u001b[0m     \u001b[0mn_samples_per_label\u001b[0m \u001b[0;34m=\u001b[0m \u001b[0mnp\u001b[0m\u001b[0;34m.\u001b[0m\u001b[0mbincount\u001b[0m\u001b[0;34m(\u001b[0m\u001b[0mlabels\u001b[0m\u001b[0;34m,\u001b[0m \u001b[0mminlength\u001b[0m\u001b[0;34m=\u001b[0m\u001b[0mlen\u001b[0m\u001b[0;34m(\u001b[0m\u001b[0munique_labels\u001b[0m\u001b[0;34m)\u001b[0m\u001b[0;34m)\u001b[0m\u001b[0;34m\u001b[0m\u001b[0m\n",
      "\u001b[0;32m/opt/conda/lib/python3.6/site-packages/sklearn/metrics/pairwise.py\u001b[0m in \u001b[0;36mpairwise_distances\u001b[0;34m(X, Y, metric, n_jobs, **kwds)\u001b[0m\n\u001b[1;32m   1245\u001b[0m         \u001b[0mfunc\u001b[0m \u001b[0;34m=\u001b[0m \u001b[0mpartial\u001b[0m\u001b[0;34m(\u001b[0m\u001b[0mdistance\u001b[0m\u001b[0;34m.\u001b[0m\u001b[0mcdist\u001b[0m\u001b[0;34m,\u001b[0m \u001b[0mmetric\u001b[0m\u001b[0;34m=\u001b[0m\u001b[0mmetric\u001b[0m\u001b[0;34m,\u001b[0m \u001b[0;34m**\u001b[0m\u001b[0mkwds\u001b[0m\u001b[0;34m)\u001b[0m\u001b[0;34m\u001b[0m\u001b[0m\n\u001b[1;32m   1246\u001b[0m \u001b[0;34m\u001b[0m\u001b[0m\n\u001b[0;32m-> 1247\u001b[0;31m     \u001b[0;32mreturn\u001b[0m \u001b[0m_parallel_pairwise\u001b[0m\u001b[0;34m(\u001b[0m\u001b[0mX\u001b[0m\u001b[0;34m,\u001b[0m \u001b[0mY\u001b[0m\u001b[0;34m,\u001b[0m \u001b[0mfunc\u001b[0m\u001b[0;34m,\u001b[0m \u001b[0mn_jobs\u001b[0m\u001b[0;34m,\u001b[0m \u001b[0;34m**\u001b[0m\u001b[0mkwds\u001b[0m\u001b[0;34m)\u001b[0m\u001b[0;34m\u001b[0m\u001b[0m\n\u001b[0m\u001b[1;32m   1248\u001b[0m \u001b[0;34m\u001b[0m\u001b[0m\n\u001b[1;32m   1249\u001b[0m \u001b[0;34m\u001b[0m\u001b[0m\n",
      "\u001b[0;32m/opt/conda/lib/python3.6/site-packages/sklearn/metrics/pairwise.py\u001b[0m in \u001b[0;36m_parallel_pairwise\u001b[0;34m(X, Y, func, n_jobs, **kwds)\u001b[0m\n\u001b[1;32m   1088\u001b[0m     \u001b[0;32mif\u001b[0m \u001b[0mn_jobs\u001b[0m \u001b[0;34m==\u001b[0m \u001b[0;36m1\u001b[0m\u001b[0;34m:\u001b[0m\u001b[0;34m\u001b[0m\u001b[0m\n\u001b[1;32m   1089\u001b[0m         \u001b[0;31m# Special case to avoid picklability checks in delayed\u001b[0m\u001b[0;34m\u001b[0m\u001b[0;34m\u001b[0m\u001b[0m\n\u001b[0;32m-> 1090\u001b[0;31m         \u001b[0;32mreturn\u001b[0m \u001b[0mfunc\u001b[0m\u001b[0;34m(\u001b[0m\u001b[0mX\u001b[0m\u001b[0;34m,\u001b[0m \u001b[0mY\u001b[0m\u001b[0;34m,\u001b[0m \u001b[0;34m**\u001b[0m\u001b[0mkwds\u001b[0m\u001b[0;34m)\u001b[0m\u001b[0;34m\u001b[0m\u001b[0m\n\u001b[0m\u001b[1;32m   1091\u001b[0m \u001b[0;34m\u001b[0m\u001b[0m\n\u001b[1;32m   1092\u001b[0m     \u001b[0;31m# TODO: in some cases, backend='threading' may be appropriate\u001b[0m\u001b[0;34m\u001b[0m\u001b[0;34m\u001b[0m\u001b[0m\n",
      "\u001b[0;32m/opt/conda/lib/python3.6/site-packages/sklearn/metrics/pairwise.py\u001b[0m in \u001b[0;36meuclidean_distances\u001b[0;34m(X, Y, Y_norm_squared, squared, X_norm_squared)\u001b[0m\n\u001b[1;32m    244\u001b[0m         \u001b[0mYY\u001b[0m \u001b[0;34m=\u001b[0m \u001b[0mrow_norms\u001b[0m\u001b[0;34m(\u001b[0m\u001b[0mY\u001b[0m\u001b[0;34m,\u001b[0m \u001b[0msquared\u001b[0m\u001b[0;34m=\u001b[0m\u001b[0;32mTrue\u001b[0m\u001b[0;34m)\u001b[0m\u001b[0;34m[\u001b[0m\u001b[0mnp\u001b[0m\u001b[0;34m.\u001b[0m\u001b[0mnewaxis\u001b[0m\u001b[0;34m,\u001b[0m \u001b[0;34m:\u001b[0m\u001b[0;34m]\u001b[0m\u001b[0;34m\u001b[0m\u001b[0m\n\u001b[1;32m    245\u001b[0m \u001b[0;34m\u001b[0m\u001b[0m\n\u001b[0;32m--> 246\u001b[0;31m     \u001b[0mdistances\u001b[0m \u001b[0;34m=\u001b[0m \u001b[0msafe_sparse_dot\u001b[0m\u001b[0;34m(\u001b[0m\u001b[0mX\u001b[0m\u001b[0;34m,\u001b[0m \u001b[0mY\u001b[0m\u001b[0;34m.\u001b[0m\u001b[0mT\u001b[0m\u001b[0;34m,\u001b[0m \u001b[0mdense_output\u001b[0m\u001b[0;34m=\u001b[0m\u001b[0;32mTrue\u001b[0m\u001b[0;34m)\u001b[0m\u001b[0;34m\u001b[0m\u001b[0m\n\u001b[0m\u001b[1;32m    247\u001b[0m     \u001b[0mdistances\u001b[0m \u001b[0;34m*=\u001b[0m \u001b[0;34m-\u001b[0m\u001b[0;36m2\u001b[0m\u001b[0;34m\u001b[0m\u001b[0m\n\u001b[1;32m    248\u001b[0m     \u001b[0mdistances\u001b[0m \u001b[0;34m+=\u001b[0m \u001b[0mXX\u001b[0m\u001b[0;34m\u001b[0m\u001b[0m\n",
      "\u001b[0;32m/opt/conda/lib/python3.6/site-packages/sklearn/utils/extmath.py\u001b[0m in \u001b[0;36msafe_sparse_dot\u001b[0;34m(a, b, dense_output)\u001b[0m\n\u001b[1;32m    138\u001b[0m         \u001b[0;32mreturn\u001b[0m \u001b[0mret\u001b[0m\u001b[0;34m\u001b[0m\u001b[0m\n\u001b[1;32m    139\u001b[0m     \u001b[0;32melse\u001b[0m\u001b[0;34m:\u001b[0m\u001b[0;34m\u001b[0m\u001b[0m\n\u001b[0;32m--> 140\u001b[0;31m         \u001b[0;32mreturn\u001b[0m \u001b[0mnp\u001b[0m\u001b[0;34m.\u001b[0m\u001b[0mdot\u001b[0m\u001b[0;34m(\u001b[0m\u001b[0ma\u001b[0m\u001b[0;34m,\u001b[0m \u001b[0mb\u001b[0m\u001b[0;34m)\u001b[0m\u001b[0;34m\u001b[0m\u001b[0m\n\u001b[0m\u001b[1;32m    141\u001b[0m \u001b[0;34m\u001b[0m\u001b[0m\n\u001b[1;32m    142\u001b[0m \u001b[0;34m\u001b[0m\u001b[0m\n",
      "\u001b[0;31mKeyboardInterrupt\u001b[0m: "
     ]
    }
   ],
   "source": [
    "sil_scores =  []\n",
    "max_score = -2\n",
    "max_n = 1\n",
    "start = time.time()\n",
    "for n in range(2,50):\n",
    "    clusterer = KMeans(n_clusters=n, random_state=10)\n",
    "    cluster_labels = clusterer.fit_predict(p_data)\n",
    "    silhouette_avg = silhouette_score(p_data, cluster_labels)\n",
    "    print(\"For n_clusters =\", n, \"The average silhouette_score is :\", silhouette_avg)\n",
    "    sil_scores.append(silhouette_avg)\n",
    "    if silhouette_avg > max_score:\n",
    "        max_n = n\n",
    "        max_score = silhouette_avg\n",
    "    end = time.time()\n",
    "    print('Time Elapsed:{:f}, n:{:f}'.format(end - start, n))"
   ]
  },
  {
   "cell_type": "code",
   "execution_count": 101,
   "metadata": {},
   "outputs": [
    {
     "data": {
      "image/png": "[encoded data removed]",
      "text/plain": [
       "<Figure size 1296x1440 with 1 Axes>"
      ]
     },
     "metadata": {},
     "output_type": "display_data"
    }
   ],
   "source": [
    "visualize(p_data, 5, 10)"
   ]
  },
  {
   "cell_type": "code",
   "execution_count": 102,
   "metadata": {},
   "outputs": [
    {
     "data": {
      "image/png": "[encoded data removed]",
      "text/plain": [
       "<Figure size 1296x1440 with 1 Axes>"
      ]
     },
     "metadata": {},
     "output_type": "display_data"
    }
   ],
   "source": [
    "visualize(p_data, 6, 10)"
   ]
  },
  {
   "cell_type": "code",
   "execution_count": 103,
   "metadata": {},
   "outputs": [
    {
     "data": {
      "image/png": "[encoded data removed]",
      "text/plain": [
       "<Figure size 1296x1440 with 1 Axes>"
      ]
     },
     "metadata": {},
     "output_type": "display_data"
    }
   ],
   "source": [
    "visualize(p_data, 7, 10)"
   ]
  },
  {
   "cell_type": "code",
   "execution_count": null,
   "metadata": {},
   "outputs": [],
   "source": []
  }
 ],
 "metadata": {
  "kernelspec": {
   "display_name": "Python 3",
   "language": "python",
   "name": "python3"
  },
  "language_info": {
   "codemirror_mode": {
    "name": "ipython",
    "version": 3
   },
   "file_extension": ".py",
   "mimetype": "text/x-python",
   "name": "python",
   "nbconvert_exporter": "python",
   "pygments_lexer": "ipython3",
   "version": "3.6.3"
  }
 },
 "nbformat": 4,
 "nbformat_minor": 2
}
