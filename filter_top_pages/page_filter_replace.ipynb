{
 "cells": [
  {
   "cell_type": "code",
   "execution_count": 1,
   "metadata": {},
   "outputs": [],
   "source": [
    "import multiprocessing as mp\n",
    "import pandas as pd\n",
    "import re\n",
    "import numpy as np\n",
    "import time\n",
    "import ast\n",
    "import heapq as q"
   ]
  },
  {
   "cell_type": "code",
   "execution_count": 2,
   "metadata": {},
   "outputs": [],
   "source": [
    "keywords = ['values', 'academics', 'academic', 'skills', 'skill', 'purpose', 'purposes',\n",
    "                       'direction', 'mission', 'vision', 'visions', 'missions',\n",
    "                       'ideals', 'cause', 'causes', 'curriculum', 'curricular',\n",
    "                       'method', 'methods', 'pedagogy', 'pedagogical', 'pedagogies', 'approach', 'approaches', 'model', 'models', 'system', 'systems',\n",
    "                       'structure', 'structures', 'philosophy', 'philosophical', 'philosophies', 'beliefs', 'believe', 'belief',\n",
    "                       'principles', 'principle', 'creed', 'creeds', 'credo', 'moral', 'morals', 'morality', 'history', 'histories', 'our story',\n",
    "                       'the story', 'school story', 'background', 'backgrounds', 'founding', 'founded', 'foundation', 'foundations', 'foundational',\n",
    "                       'established','establishment', 'our school began', 'we began',\n",
    "                       'doors opened', 'school opened', 'about us', 'our school', 'who we are',\n",
    "                       'identity', 'identities', 'profile', 'highlights']"
   ]
  },
  {
   "cell_type": "code",
   "execution_count": 3,
   "metadata": {},
   "outputs": [],
   "source": [
    "keywords_values = {'values':2, 'academics':1, 'academic':1, 'skills':1, 'skill':1, 'purpose':2, 'purposes':2,\n",
    "                       'direction':1, 'mission':2, 'vision':2, 'visions':2, 'missions':2,\n",
    "                       'ideals':2, 'cause':1, 'causes':1, 'curriculum':2, 'curricular':2,\n",
    "                       'method':1, 'methods':1, 'pedagogy':2, 'pedagogical':1, 'pedagogies':1, 'approach':1, 'approaches':1, 'model':2, 'models':2, 'system':2, 'systems':2,\n",
    "                       'structure':1, 'structures':1, 'philosophy':2, 'philosophical':2, 'philosophies':2, 'beliefs':2, 'believe':2, 'belief':2,\n",
    "                       'principles':2, 'principle':2, 'creed':2, 'creeds':2, 'credo':2, 'moral':2, 'morals':2, 'morality':2, 'history':1, 'histories':1, 'our story':1,\n",
    "                       'the story':1, 'school story':1, 'background':1, 'backgrounds':1, 'founding':1, 'founded':1, 'foundation':1, 'foundations':1, 'foundational':1,\n",
    "                       'established':1,'establishment':1, 'our school began':1, 'we began':1,\n",
    "                       'doors opened':1, 'school opened':1, 'about us':2, 'our school':1, 'who we are':1,\n",
    "                       'identity':1, 'identities':1, 'profile':1, 'highlights':2}"
   ]
  },
  {
   "cell_type": "code",
   "execution_count": 4,
   "metadata": {},
   "outputs": [],
   "source": [
    "#charter_path = '../../charters_full_2015.pkl'\n",
    "#df_charter = pd.read_pickle(charter_path)\n",
    "#df_charter['WEBTEXT']=df_charter['WEBTEXT'].fillna('') # turn nan to empty list/string for future convenience\n",
    "#df_charter['CMO_WEBTEXT'] = df_charter['CMO_WEBTEXT'].fillna('0') # ugly hack so that we can apply literal_eval on column later"
   ]
  },
  {
   "cell_type": "markdown",
   "metadata": {},
   "source": [
    "### Read and Format CMO Webtext Data"
   ]
  },
  {
   "cell_type": "code",
   "execution_count": 68,
   "metadata": {},
   "outputs": [],
   "source": [
    "# read dataframe with CMO webtext\n",
    "df_webtext_path = '/home/jovyan/work/misc_data/charters_2015.pkl'\n",
    "df_webtext = pd.read_pickle(df_webtext_path)"
   ]
  },
  {
   "cell_type": "code",
   "execution_count": 69,
   "metadata": {},
   "outputs": [
    {
     "data": {
      "text/plain": [
       "list"
      ]
     },
     "execution_count": 69,
     "metadata": {},
     "output_type": "execute_result"
    }
   ],
   "source": [
    "# check type of webtext column\n",
    "# if str then need to apply literal_eval\n",
    "type(df_webtext[\"WEBTEXT\"][0])\n",
    "# check type of CMO webtext column\n",
    "# if str then need to apply literal_eval\n",
    "type(df_webtext[\"CMO_WEBTEXT\"][95])"
   ]
  },
  {
   "cell_type": "code",
   "execution_count": 70,
   "metadata": {},
   "outputs": [
    {
     "data": {
      "text/plain": [
       "0"
      ]
     },
     "execution_count": 70,
     "metadata": {},
     "output_type": "execute_result"
    }
   ],
   "source": [
    "# check if there are NaNs in the webtext column\n",
    "# if 0 then no need to replace NaNs\n",
    "sum(df_webtext[\"WEBTEXT\"].isna()) \n",
    "# check if there are NaNs in the CMO webtext column\n",
    "# if 0 then no need to replace NaNs\n",
    "sum(df_webtext[\"CMO_WEBTEXT\"].isna())"
   ]
  },
  {
   "cell_type": "code",
   "execution_count": 71,
   "metadata": {},
   "outputs": [
    {
     "data": {
      "text/plain": [
       "''"
      ]
     },
     "execution_count": 71,
     "metadata": {},
     "output_type": "execute_result"
    }
   ],
   "source": [
    "# check what empty rows in the webtext column contain\n",
    "df_webtext[\"WEBTEXT\"][1]\n",
    "# check what empty rows in the CMO webtext column contain\n",
    "df_webtext[\"CMO_WEBTEXT\"][99]"
   ]
  },
  {
   "cell_type": "code",
   "execution_count": 72,
   "metadata": {},
   "outputs": [],
   "source": [
    "# ONLY NEED TO RUN IF THERE ARE NANS\n",
    "# turn nan to empty list/string for future convenience\n",
    "df_webtext['WEBTEXT']=df_webtext['WEBTEXT'].fillna('') \n",
    "# ugly hack so that we can apply literal_eval on column later\n",
    "df_webtext['CMO_WEBTEXT'] = df_webtext['CMO_WEBTEXT'].fillna('0')"
   ]
  },
  {
   "cell_type": "markdown",
   "metadata": {},
   "source": [
    "Note: The reasoning behind the above two lines is that we want to replace nan with a value that is compatible with the dict_count functions(something that is iterable and empty for nan) below. We will need to use literal_eval on the CMO_WEBTEXT which errors on the empty string so instead we use '0'. After calling literal_eval, we replace 0 with ''."
   ]
  },
  {
   "cell_type": "code",
   "execution_count": 73,
   "metadata": {},
   "outputs": [
    {
     "data": {
      "text/html": [
       "<div>\n",
       "<style scoped>\n",
       "    .dataframe tbody tr th:only-of-type {\n",
       "        vertical-align: middle;\n",
       "    }\n",
       "\n",
       "    .dataframe tbody tr th {\n",
       "        vertical-align: top;\n",
       "    }\n",
       "\n",
       "    .dataframe thead th {\n",
       "        text-align: right;\n",
       "    }\n",
       "</style>\n",
       "<table border=\"1\" class=\"dataframe\">\n",
       "  <thead>\n",
       "    <tr style=\"text-align: right;\">\n",
       "      <th></th>\n",
       "      <th>NCESSCH</th>\n",
       "      <th>ORIG_WEBTEXT</th>\n",
       "      <th>CMO_WEBTEXT</th>\n",
       "    </tr>\n",
       "  </thead>\n",
       "  <tbody>\n",
       "    <tr>\n",
       "      <td>0</td>\n",
       "      <td>1.001970e+10</td>\n",
       "      <td>[(http://www.maef.net/, False, 0, Evening Acad...</td>\n",
       "      <td></td>\n",
       "    </tr>\n",
       "    <tr>\n",
       "      <td>1</td>\n",
       "      <td>2.000010e+10</td>\n",
       "      <td></td>\n",
       "      <td></td>\n",
       "    </tr>\n",
       "    <tr>\n",
       "      <td>2</td>\n",
       "      <td>2.001500e+10</td>\n",
       "      <td>[(https://www.kgbsd.org/ketchikancharter, Fals...</td>\n",
       "      <td></td>\n",
       "    </tr>\n",
       "    <tr>\n",
       "      <td>3</td>\n",
       "      <td>2.001500e+10</td>\n",
       "      <td>[(http://tongassschool.org/classrooms/3rd-and-...</td>\n",
       "      <td></td>\n",
       "    </tr>\n",
       "    <tr>\n",
       "      <td>4</td>\n",
       "      <td>2.001800e+10</td>\n",
       "      <td>[(https://www.asdk12.org/aquarian, False, 0, S...</td>\n",
       "      <td></td>\n",
       "    </tr>\n",
       "  </tbody>\n",
       "</table>\n",
       "</div>"
      ],
      "text/plain": [
       "        NCESSCH                                       ORIG_WEBTEXT CMO_WEBTEXT\n",
       "0  1.001970e+10  [(http://www.maef.net/, False, 0, Evening Acad...            \n",
       "1  2.000010e+10                                                               \n",
       "2  2.001500e+10  [(https://www.kgbsd.org/ketchikancharter, Fals...            \n",
       "3  2.001500e+10  [(http://tongassschool.org/classrooms/3rd-and-...            \n",
       "4  2.001800e+10  [(https://www.asdk12.org/aquarian, False, 0, S...            "
      ]
     },
     "execution_count": 73,
     "metadata": {},
     "output_type": "execute_result"
    }
   ],
   "source": [
    "df_webtext_short = df_webtext[[\"NCESSCH\", \"WEBTEXT\", \"CMO_WEBTEXT\"]].rename(columns={\"WEBTEXT\": \"ORIG_WEBTEXT\"})\n",
    "df_webtext_short.head(5)"
   ]
  },
  {
   "cell_type": "markdown",
   "metadata": {},
   "source": [
    "### Read and Format Unlapped Webtext Data"
   ]
  },
  {
   "cell_type": "code",
   "execution_count": 74,
   "metadata": {},
   "outputs": [],
   "source": [
    "# read dataframe with unlapped webtext from webtext_unlapped_full.tsv\n",
    "df_unlapped_path = \"/home/jovyan/work/misc_data/webtext_raw/webtext_unlapped_full.tsv\"\n",
    "df_unlapped = pd.read_csv(df_unlapped_path, sep=\"\\t\")\n",
    "df_unlapped = df_unlapped.rename(columns={'text_full': 'WEBTEXT'})"
   ]
  },
  {
   "cell_type": "code",
   "execution_count": 75,
   "metadata": {},
   "outputs": [
    {
     "data": {
      "text/plain": [
       "str"
      ]
     },
     "execution_count": 75,
     "metadata": {},
     "output_type": "execute_result"
    }
   ],
   "source": [
    "# check type of webtext column\n",
    "# if str then need to apply literal_eval\n",
    "type(df_unlapped[\"WEBTEXT\"][0])"
   ]
  },
  {
   "cell_type": "code",
   "execution_count": 76,
   "metadata": {},
   "outputs": [
    {
     "data": {
      "text/plain": [
       "0"
      ]
     },
     "execution_count": 76,
     "metadata": {},
     "output_type": "execute_result"
    }
   ],
   "source": [
    "# check if there are NaNs in the webtext column\n",
    "# if 0 then no need to replace NaNs\n",
    "sum(df_unlapped[\"WEBTEXT\"].isna()) "
   ]
  },
  {
   "cell_type": "code",
   "execution_count": null,
   "metadata": {},
   "outputs": [],
   "source": [
    "# ONLY NEED TO RUN IF THERE ARE NANS\n",
    "# ugly hack so that we can apply literal_eval on column later\n",
    "df_unlapped['WEBTEXT'] = df_unlapped['WEBTEXT'].fillna('0') "
   ]
  },
  {
   "cell_type": "code",
   "execution_count": 77,
   "metadata": {},
   "outputs": [
    {
     "data": {
      "text/plain": [
       "0"
      ]
     },
     "execution_count": 77,
     "metadata": {},
     "output_type": "execute_result"
    }
   ],
   "source": [
    "# check if there are webtexts that are just empty strings\n",
    "# empty strings will cause errors with literal_eval\n",
    "# have to replace '' with '0' in order to run literal_eval\n",
    "sum(df_unlapped[\"WEBTEXT\"].apply(lambda x: len(x)) == 0)"
   ]
  },
  {
   "cell_type": "code",
   "execution_count": 78,
   "metadata": {},
   "outputs": [
    {
     "data": {
      "text/plain": [
       "list"
      ]
     },
     "execution_count": 78,
     "metadata": {},
     "output_type": "execute_result"
    }
   ],
   "source": [
    "# need to apply literal_eval to turn str into list\n",
    "type(ast.literal_eval(df_unlapped['WEBTEXT'].iloc[0]))"
   ]
  },
  {
   "cell_type": "code",
   "execution_count": 79,
   "metadata": {},
   "outputs": [],
   "source": [
    "# apply to whole webtext column\n",
    "df_unlapped['WEBTEXT'] = df_unlapped['WEBTEXT'].apply(ast.literal_eval)"
   ]
  },
  {
   "cell_type": "code",
   "execution_count": null,
   "metadata": {},
   "outputs": [],
   "source": [
    "# if there we replaced '' with '0' in the webtext column\n",
    "# need to turn 0 back into '' so now all NAN are ''\n",
    "#df_unlapped['WEBTEXT'] = df_unlapped['WEBTEXT'].replace(0, '') "
   ]
  },
  {
   "cell_type": "code",
   "execution_count": 80,
   "metadata": {},
   "outputs": [
    {
     "data": {
      "text/html": [
       "<div>\n",
       "<style scoped>\n",
       "    .dataframe tbody tr th:only-of-type {\n",
       "        vertical-align: middle;\n",
       "    }\n",
       "\n",
       "    .dataframe tbody tr th {\n",
       "        vertical-align: top;\n",
       "    }\n",
       "\n",
       "    .dataframe thead th {\n",
       "        text-align: right;\n",
       "    }\n",
       "</style>\n",
       "<table border=\"1\" class=\"dataframe\">\n",
       "  <thead>\n",
       "    <tr style=\"text-align: right;\">\n",
       "      <th></th>\n",
       "      <th>Unnamed: 0</th>\n",
       "      <th>WEBTEXT</th>\n",
       "      <th>NCESSCH</th>\n",
       "    </tr>\n",
       "  </thead>\n",
       "  <tbody>\n",
       "    <tr>\n",
       "      <td>0</td>\n",
       "      <td>0</td>\n",
       "      <td>[(http://www.maef.net/, False, 0, Evening Acad...</td>\n",
       "      <td>1.001970e+10</td>\n",
       "    </tr>\n",
       "    <tr>\n",
       "      <td>1</td>\n",
       "      <td>1</td>\n",
       "      <td>[(https://www.kgbsd.org/ketchikancharter, Fals...</td>\n",
       "      <td>2.001500e+10</td>\n",
       "    </tr>\n",
       "    <tr>\n",
       "      <td>2</td>\n",
       "      <td>2</td>\n",
       "      <td>[(http://tongassschool.org/classrooms/3rd-and-...</td>\n",
       "      <td>2.001500e+10</td>\n",
       "    </tr>\n",
       "    <tr>\n",
       "      <td>3</td>\n",
       "      <td>3</td>\n",
       "      <td>[(https://www.asdk12.org/aquarian, False, 0, S...</td>\n",
       "      <td>2.001800e+10</td>\n",
       "    </tr>\n",
       "    <tr>\n",
       "      <td>4</td>\n",
       "      <td>4</td>\n",
       "      <td>[(http://winterberrycharterschool.com/, False,...</td>\n",
       "      <td>2.001800e+10</td>\n",
       "    </tr>\n",
       "  </tbody>\n",
       "</table>\n",
       "</div>"
      ],
      "text/plain": [
       "   Unnamed: 0                                            WEBTEXT       NCESSCH\n",
       "0           0  [(http://www.maef.net/, False, 0, Evening Acad...  1.001970e+10\n",
       "1           1  [(https://www.kgbsd.org/ketchikancharter, Fals...  2.001500e+10\n",
       "2           2  [(http://tongassschool.org/classrooms/3rd-and-...  2.001500e+10\n",
       "3           3  [(https://www.asdk12.org/aquarian, False, 0, S...  2.001800e+10\n",
       "4           4  [(http://winterberrycharterschool.com/, False,...  2.001800e+10"
      ]
     },
     "execution_count": 80,
     "metadata": {},
     "output_type": "execute_result"
    }
   ],
   "source": [
    "df_unlapped.head()"
   ]
  },
  {
   "cell_type": "markdown",
   "metadata": {},
   "source": [
    "### Merge CMO and Webtext Data"
   ]
  },
  {
   "cell_type": "code",
   "execution_count": 98,
   "metadata": {},
   "outputs": [],
   "source": [
    "df_charter = df_unlapped.merge(df_webtext_short, on=\"NCESSCH\")"
   ]
  },
  {
   "cell_type": "code",
   "execution_count": 99,
   "metadata": {},
   "outputs": [
    {
     "data": {
      "text/plain": [
       "((6462, 3), (10965, 3), (6462, 5))"
      ]
     },
     "execution_count": 99,
     "metadata": {},
     "output_type": "execute_result"
    }
   ],
   "source": [
    "df_unlapped.shape, df_webtext_short.shape, df_charter.shape"
   ]
  },
  {
   "cell_type": "code",
   "execution_count": 100,
   "metadata": {},
   "outputs": [
    {
     "data": {
      "text/html": [
       "<div>\n",
       "<style scoped>\n",
       "    .dataframe tbody tr th:only-of-type {\n",
       "        vertical-align: middle;\n",
       "    }\n",
       "\n",
       "    .dataframe tbody tr th {\n",
       "        vertical-align: top;\n",
       "    }\n",
       "\n",
       "    .dataframe thead th {\n",
       "        text-align: right;\n",
       "    }\n",
       "</style>\n",
       "<table border=\"1\" class=\"dataframe\">\n",
       "  <thead>\n",
       "    <tr style=\"text-align: right;\">\n",
       "      <th></th>\n",
       "      <th>Unnamed: 0</th>\n",
       "      <th>WEBTEXT</th>\n",
       "      <th>NCESSCH</th>\n",
       "      <th>ORIG_WEBTEXT</th>\n",
       "      <th>CMO_WEBTEXT</th>\n",
       "    </tr>\n",
       "  </thead>\n",
       "  <tbody>\n",
       "    <tr>\n",
       "      <td>0</td>\n",
       "      <td>0</td>\n",
       "      <td>[(http://www.maef.net/, False, 0, Evening Acad...</td>\n",
       "      <td>1.001970e+10</td>\n",
       "      <td>[(http://www.maef.net/, False, 0, Evening Acad...</td>\n",
       "      <td></td>\n",
       "    </tr>\n",
       "    <tr>\n",
       "      <td>1</td>\n",
       "      <td>1</td>\n",
       "      <td>[(https://www.kgbsd.org/ketchikancharter, Fals...</td>\n",
       "      <td>2.001500e+10</td>\n",
       "      <td>[(https://www.kgbsd.org/ketchikancharter, Fals...</td>\n",
       "      <td></td>\n",
       "    </tr>\n",
       "    <tr>\n",
       "      <td>2</td>\n",
       "      <td>2</td>\n",
       "      <td>[(http://tongassschool.org/classrooms/3rd-and-...</td>\n",
       "      <td>2.001500e+10</td>\n",
       "      <td>[(http://tongassschool.org/classrooms/3rd-and-...</td>\n",
       "      <td></td>\n",
       "    </tr>\n",
       "    <tr>\n",
       "      <td>3</td>\n",
       "      <td>3</td>\n",
       "      <td>[(https://www.asdk12.org/aquarian, False, 0, S...</td>\n",
       "      <td>2.001800e+10</td>\n",
       "      <td>[(https://www.asdk12.org/aquarian, False, 0, S...</td>\n",
       "      <td></td>\n",
       "    </tr>\n",
       "    <tr>\n",
       "      <td>4</td>\n",
       "      <td>4</td>\n",
       "      <td>[(http://winterberrycharterschool.com/, False,...</td>\n",
       "      <td>2.001800e+10</td>\n",
       "      <td>[(http://winterberrycharterschool.com/, False,...</td>\n",
       "      <td></td>\n",
       "    </tr>\n",
       "  </tbody>\n",
       "</table>\n",
       "</div>"
      ],
      "text/plain": [
       "   Unnamed: 0                                            WEBTEXT  \\\n",
       "0           0  [(http://www.maef.net/, False, 0, Evening Acad...   \n",
       "1           1  [(https://www.kgbsd.org/ketchikancharter, Fals...   \n",
       "2           2  [(http://tongassschool.org/classrooms/3rd-and-...   \n",
       "3           3  [(https://www.asdk12.org/aquarian, False, 0, S...   \n",
       "4           4  [(http://winterberrycharterschool.com/, False,...   \n",
       "\n",
       "        NCESSCH                                       ORIG_WEBTEXT CMO_WEBTEXT  \n",
       "0  1.001970e+10  [(http://www.maef.net/, False, 0, Evening Acad...              \n",
       "1  2.001500e+10  [(https://www.kgbsd.org/ketchikancharter, Fals...              \n",
       "2  2.001500e+10  [(http://tongassschool.org/classrooms/3rd-and-...              \n",
       "3  2.001800e+10  [(https://www.asdk12.org/aquarian, False, 0, S...              \n",
       "4  2.001800e+10  [(http://winterberrycharterschool.com/, False,...              "
      ]
     },
     "execution_count": 100,
     "metadata": {},
     "output_type": "execute_result"
    }
   ],
   "source": [
    "df_charter.head()"
   ]
  },
  {
   "cell_type": "code",
   "execution_count": 43,
   "metadata": {},
   "outputs": [
    {
     "data": {
      "text/plain": [
       "\"Evening Academy\\nAlabama's first tuition-free public charter school serves high school students in grades 9-12 from Mobile, Baldwin, and Washington Counties. ACCEL provides a challenging college-preparatory curriculum, individualized instruction, small class sizes, and engaging use of technology in a safe, supportive environment to ensure students graduate college and career ready. Enrollment is now OPEN\\nLearn More\\nWelcome to the Mobile Area Education Foundation\\n75K Degrees\\nEvidence2Success\\nGraduate Ready\\nYes We Can: Building a Blueprint for Equity and Excellence in Mobile’s Schools  \\nACCELerate Day and Evening Academy\\nEducation Commission\\nEngaging Youth Through Engineering\\nHarold Dodge Fund-A-S.T.A.R.\\nPartners in Education\\nReading Buddy\\nResearch Alliance for Multiple Pathways (RAMP)\\nSuperintendent’s Student Advisory Council\\nVital Link 2.0\\nThe Mobile Area Education Foundation is a nonprofit organization dedicated to improving our local public schools. Founded in 1992, our mission is to build community responsibility for improving public education outcomes in Mobile County. We work with, but are independent of, the Mobile County Public School System.\\nOur Impact\\nMAEF, in partnership with the school district and business and civic leaders across Mobile County, is increasing the chances that students will \\nGraduate Ready\\n for college and careers.\\nView Impact\\nOur Priorities\\nGraduate Ready\\n is more than just an initiative of MAEF. It is strategic focus for every program and activity of the organization. It is a North Star that focuses our direction in every engagement, with every partner. \\nLearn More\\nJoin Us\\nMobile Area Education Foundation is working to create a better community, one graduate at a time. We know we can’t do this alone. Every volunteer hour, and every dollar contribution, puts us one step closer to improving the quality of life for every resident of Mobile County. \\nAct Now\\nRegister\\nWould you like to volunteer to help?\\nStart Here\\nUpcoming Events\\nNew Student Orientation\\nACCEL Informational Meetings\\nACCEL is now ACCEPTING Applications!\\nFeatured\\nWhat’s Working\\nU.S. education secretary visits Mobile\\nGet Connected!\\nA United Way Agency\\nHome\\n | \\nAbout\\n | \\nOur Work\\n | \\nOur Impact\\n | \\nNews/ Media\\n | \\nSupport\\n | \\nContact\\n© 2018 Copyright Mobile Area Education Foundation.  All rights reserved. | Site by \\n Web and New Media\\n\""
      ]
     },
     "execution_count": 43,
     "metadata": {},
     "output_type": "execute_result"
    }
   ],
   "source": [
    "page_from_first_school= df_charter['WEBTEXT'].iloc[0][0][3]\n",
    "page_from_first_school"
   ]
  },
  {
   "cell_type": "markdown",
   "metadata": {},
   "source": [
    "# Text Parsing"
   ]
  },
  {
   "cell_type": "code",
   "execution_count": 46,
   "metadata": {},
   "outputs": [
    {
     "data": {
      "text/plain": [
       "['123', 'separate', 'the', 'following', '4', 'words', 'yesnohi', 'progress']"
      ]
     },
     "execution_count": 46,
     "metadata": {},
     "output_type": "execute_result"
    }
   ],
   "source": [
    "# current regex and split parsing does not handle separation of words by / and ()\n",
    "parse_str = '123, separate the following.      \\t         4 words:\\n yes/no(hi), progress!'\n",
    "(re.sub(r'[^\\w\\s]', '', parse_str)).split() "
   ]
  },
  {
   "cell_type": "code",
   "execution_count": 47,
   "metadata": {},
   "outputs": [
    {
     "data": {
      "text/plain": [
       "['Evening',\n",
       " 'Academy',\n",
       " 'Alabamas',\n",
       " 'first',\n",
       " 'tuitionfree',\n",
       " 'public',\n",
       " 'charter',\n",
       " 'school',\n",
       " 'serves',\n",
       " 'high',\n",
       " 'school',\n",
       " 'students',\n",
       " 'in',\n",
       " 'grades',\n",
       " '912',\n",
       " 'from',\n",
       " 'Mobile',\n",
       " 'Baldwin',\n",
       " 'and',\n",
       " 'Washington',\n",
       " 'Counties',\n",
       " 'ACCEL',\n",
       " 'provides',\n",
       " 'a',\n",
       " 'challenging',\n",
       " 'collegepreparatory',\n",
       " 'curriculum',\n",
       " 'individualized',\n",
       " 'instruction',\n",
       " 'small',\n",
       " 'class',\n",
       " 'sizes',\n",
       " 'and',\n",
       " 'engaging',\n",
       " 'use',\n",
       " 'of',\n",
       " 'technology',\n",
       " 'in',\n",
       " 'a',\n",
       " 'safe',\n",
       " 'supportive',\n",
       " 'environment',\n",
       " 'to',\n",
       " 'ensure',\n",
       " 'students',\n",
       " 'graduate',\n",
       " 'college',\n",
       " 'and',\n",
       " 'career',\n",
       " 'ready',\n",
       " 'Enrollment',\n",
       " 'is',\n",
       " 'now',\n",
       " 'OPEN',\n",
       " 'Learn',\n",
       " 'More',\n",
       " 'Welcome',\n",
       " 'to',\n",
       " 'the',\n",
       " 'Mobile',\n",
       " 'Area',\n",
       " 'Education',\n",
       " 'Foundation',\n",
       " '75K',\n",
       " 'Degrees',\n",
       " 'Evidence2Success',\n",
       " 'Graduate',\n",
       " 'Ready',\n",
       " 'Yes',\n",
       " 'We',\n",
       " 'Can',\n",
       " 'Building',\n",
       " 'a',\n",
       " 'Blueprint',\n",
       " 'for',\n",
       " 'Equity',\n",
       " 'and',\n",
       " 'Excellence',\n",
       " 'in',\n",
       " 'Mobiles',\n",
       " 'Schools',\n",
       " 'ACCELerate',\n",
       " 'Day',\n",
       " 'and',\n",
       " 'Evening',\n",
       " 'Academy',\n",
       " 'Education',\n",
       " 'Commission',\n",
       " 'Engaging',\n",
       " 'Youth',\n",
       " 'Through',\n",
       " 'Engineering',\n",
       " 'Harold',\n",
       " 'Dodge',\n",
       " 'FundASTAR',\n",
       " 'Partners',\n",
       " 'in',\n",
       " 'Education',\n",
       " 'Reading',\n",
       " 'Buddy',\n",
       " 'Research',\n",
       " 'Alliance',\n",
       " 'for',\n",
       " 'Multiple',\n",
       " 'Pathways',\n",
       " 'RAMP',\n",
       " 'Superintendents',\n",
       " 'Student',\n",
       " 'Advisory',\n",
       " 'Council',\n",
       " 'Vital',\n",
       " 'Link',\n",
       " '20',\n",
       " 'The',\n",
       " 'Mobile',\n",
       " 'Area',\n",
       " 'Education',\n",
       " 'Foundation',\n",
       " 'is',\n",
       " 'a',\n",
       " 'nonprofit',\n",
       " 'organization',\n",
       " 'dedicated',\n",
       " 'to',\n",
       " 'improving',\n",
       " 'our',\n",
       " 'local',\n",
       " 'public',\n",
       " 'schools',\n",
       " 'Founded',\n",
       " 'in',\n",
       " '1992',\n",
       " 'our',\n",
       " 'mission',\n",
       " 'is',\n",
       " 'to',\n",
       " 'build',\n",
       " 'community',\n",
       " 'responsibility',\n",
       " 'for',\n",
       " 'improving',\n",
       " 'public',\n",
       " 'education',\n",
       " 'outcomes',\n",
       " 'in',\n",
       " 'Mobile',\n",
       " 'County',\n",
       " 'We',\n",
       " 'work',\n",
       " 'with',\n",
       " 'but',\n",
       " 'are',\n",
       " 'independent',\n",
       " 'of',\n",
       " 'the',\n",
       " 'Mobile',\n",
       " 'County',\n",
       " 'Public',\n",
       " 'School',\n",
       " 'System',\n",
       " 'Our',\n",
       " 'Impact',\n",
       " 'MAEF',\n",
       " 'in',\n",
       " 'partnership',\n",
       " 'with',\n",
       " 'the',\n",
       " 'school',\n",
       " 'district',\n",
       " 'and',\n",
       " 'business',\n",
       " 'and',\n",
       " 'civic',\n",
       " 'leaders',\n",
       " 'across',\n",
       " 'Mobile',\n",
       " 'County',\n",
       " 'is',\n",
       " 'increasing',\n",
       " 'the',\n",
       " 'chances',\n",
       " 'that',\n",
       " 'students',\n",
       " 'will',\n",
       " 'Graduate',\n",
       " 'Ready',\n",
       " 'for',\n",
       " 'college',\n",
       " 'and',\n",
       " 'careers',\n",
       " 'View',\n",
       " 'Impact',\n",
       " 'Our',\n",
       " 'Priorities',\n",
       " 'Graduate',\n",
       " 'Ready',\n",
       " 'is',\n",
       " 'more',\n",
       " 'than',\n",
       " 'just',\n",
       " 'an',\n",
       " 'initiative',\n",
       " 'of',\n",
       " 'MAEF',\n",
       " 'It',\n",
       " 'is',\n",
       " 'strategic',\n",
       " 'focus',\n",
       " 'for',\n",
       " 'every',\n",
       " 'program',\n",
       " 'and',\n",
       " 'activity',\n",
       " 'of',\n",
       " 'the',\n",
       " 'organization',\n",
       " 'It',\n",
       " 'is',\n",
       " 'a',\n",
       " 'North',\n",
       " 'Star',\n",
       " 'that',\n",
       " 'focuses',\n",
       " 'our',\n",
       " 'direction',\n",
       " 'in',\n",
       " 'every',\n",
       " 'engagement',\n",
       " 'with',\n",
       " 'every',\n",
       " 'partner',\n",
       " 'Learn',\n",
       " 'More',\n",
       " 'Join',\n",
       " 'Us',\n",
       " 'Mobile',\n",
       " 'Area',\n",
       " 'Education',\n",
       " 'Foundation',\n",
       " 'is',\n",
       " 'working',\n",
       " 'to',\n",
       " 'create',\n",
       " 'a',\n",
       " 'better',\n",
       " 'community',\n",
       " 'one',\n",
       " 'graduate',\n",
       " 'at',\n",
       " 'a',\n",
       " 'time',\n",
       " 'We',\n",
       " 'know',\n",
       " 'we',\n",
       " 'cant',\n",
       " 'do',\n",
       " 'this',\n",
       " 'alone',\n",
       " 'Every',\n",
       " 'volunteer',\n",
       " 'hour',\n",
       " 'and',\n",
       " 'every',\n",
       " 'dollar',\n",
       " 'contribution',\n",
       " 'puts',\n",
       " 'us',\n",
       " 'one',\n",
       " 'step',\n",
       " 'closer',\n",
       " 'to',\n",
       " 'improving',\n",
       " 'the',\n",
       " 'quality',\n",
       " 'of',\n",
       " 'life',\n",
       " 'for',\n",
       " 'every',\n",
       " 'resident',\n",
       " 'of',\n",
       " 'Mobile',\n",
       " 'County',\n",
       " 'Act',\n",
       " 'Now',\n",
       " 'Register',\n",
       " 'Would',\n",
       " 'you',\n",
       " 'like',\n",
       " 'to',\n",
       " 'volunteer',\n",
       " 'to',\n",
       " 'help',\n",
       " 'Start',\n",
       " 'Here',\n",
       " 'Upcoming',\n",
       " 'Events',\n",
       " 'New',\n",
       " 'Student',\n",
       " 'Orientation',\n",
       " 'ACCEL',\n",
       " 'Informational',\n",
       " 'Meetings',\n",
       " 'ACCEL',\n",
       " 'is',\n",
       " 'now',\n",
       " 'ACCEPTING',\n",
       " 'Applications',\n",
       " 'Featured',\n",
       " 'Whats',\n",
       " 'Working',\n",
       " 'US',\n",
       " 'education',\n",
       " 'secretary',\n",
       " 'visits',\n",
       " 'Mobile',\n",
       " 'Get',\n",
       " 'Connected',\n",
       " 'A',\n",
       " 'United',\n",
       " 'Way',\n",
       " 'Agency',\n",
       " 'Home',\n",
       " 'About',\n",
       " 'Our',\n",
       " 'Work',\n",
       " 'Our',\n",
       " 'Impact',\n",
       " 'News',\n",
       " 'Media',\n",
       " 'Support',\n",
       " 'Contact',\n",
       " '2018',\n",
       " 'Copyright',\n",
       " 'Mobile',\n",
       " 'Area',\n",
       " 'Education',\n",
       " 'Foundation',\n",
       " 'All',\n",
       " 'rights',\n",
       " 'reserved',\n",
       " 'Site',\n",
       " 'by',\n",
       " 'Web',\n",
       " 'and',\n",
       " 'New',\n",
       " 'Media']"
      ]
     },
     "execution_count": 47,
     "metadata": {},
     "output_type": "execute_result"
    }
   ],
   "source": [
    "# how it works on page from website of first school\n",
    "(re.sub(r'[^\\w\\s]', '', page_from_first_school)).split() "
   ]
  },
  {
   "cell_type": "code",
   "execution_count": 48,
   "metadata": {},
   "outputs": [
    {
     "data": {
      "text/plain": [
       "['123',\n",
       " 'separate',\n",
       " 'the',\n",
       " 'following',\n",
       " '4',\n",
       " 'words',\n",
       " 'yes',\n",
       " 'no',\n",
       " 'hi',\n",
       " 'progress',\n",
       " '']"
      ]
     },
     "execution_count": 48,
     "metadata": {},
     "output_type": "execute_result"
    }
   ],
   "source": [
    "# easy fix although it does add an empty string at end\n",
    "re.split('\\W+', parse_str) "
   ]
  },
  {
   "cell_type": "code",
   "execution_count": 49,
   "metadata": {},
   "outputs": [
    {
     "data": {
      "text/plain": [
       "['Evening',\n",
       " 'Academy',\n",
       " 'Alabama',\n",
       " 's',\n",
       " 'first',\n",
       " 'tuition',\n",
       " 'free',\n",
       " 'public',\n",
       " 'charter',\n",
       " 'school',\n",
       " 'serves',\n",
       " 'high',\n",
       " 'school',\n",
       " 'students',\n",
       " 'in',\n",
       " 'grades',\n",
       " '9',\n",
       " '12',\n",
       " 'from',\n",
       " 'Mobile',\n",
       " 'Baldwin',\n",
       " 'and',\n",
       " 'Washington',\n",
       " 'Counties',\n",
       " 'ACCEL',\n",
       " 'provides',\n",
       " 'a',\n",
       " 'challenging',\n",
       " 'college',\n",
       " 'preparatory',\n",
       " 'curriculum',\n",
       " 'individualized',\n",
       " 'instruction',\n",
       " 'small',\n",
       " 'class',\n",
       " 'sizes',\n",
       " 'and',\n",
       " 'engaging',\n",
       " 'use',\n",
       " 'of',\n",
       " 'technology',\n",
       " 'in',\n",
       " 'a',\n",
       " 'safe',\n",
       " 'supportive',\n",
       " 'environment',\n",
       " 'to',\n",
       " 'ensure',\n",
       " 'students',\n",
       " 'graduate',\n",
       " 'college',\n",
       " 'and',\n",
       " 'career',\n",
       " 'ready',\n",
       " 'Enrollment',\n",
       " 'is',\n",
       " 'now',\n",
       " 'OPEN',\n",
       " 'Learn',\n",
       " 'More',\n",
       " 'Welcome',\n",
       " 'to',\n",
       " 'the',\n",
       " 'Mobile',\n",
       " 'Area',\n",
       " 'Education',\n",
       " 'Foundation',\n",
       " '75K',\n",
       " 'Degrees',\n",
       " 'Evidence2Success',\n",
       " 'Graduate',\n",
       " 'Ready',\n",
       " 'Yes',\n",
       " 'We',\n",
       " 'Can',\n",
       " 'Building',\n",
       " 'a',\n",
       " 'Blueprint',\n",
       " 'for',\n",
       " 'Equity',\n",
       " 'and',\n",
       " 'Excellence',\n",
       " 'in',\n",
       " 'Mobile',\n",
       " 's',\n",
       " 'Schools',\n",
       " 'ACCELerate',\n",
       " 'Day',\n",
       " 'and',\n",
       " 'Evening',\n",
       " 'Academy',\n",
       " 'Education',\n",
       " 'Commission',\n",
       " 'Engaging',\n",
       " 'Youth',\n",
       " 'Through',\n",
       " 'Engineering',\n",
       " 'Harold',\n",
       " 'Dodge',\n",
       " 'Fund',\n",
       " 'A',\n",
       " 'S',\n",
       " 'T',\n",
       " 'A',\n",
       " 'R',\n",
       " 'Partners',\n",
       " 'in',\n",
       " 'Education',\n",
       " 'Reading',\n",
       " 'Buddy',\n",
       " 'Research',\n",
       " 'Alliance',\n",
       " 'for',\n",
       " 'Multiple',\n",
       " 'Pathways',\n",
       " 'RAMP',\n",
       " 'Superintendent',\n",
       " 's',\n",
       " 'Student',\n",
       " 'Advisory',\n",
       " 'Council',\n",
       " 'Vital',\n",
       " 'Link',\n",
       " '2',\n",
       " '0',\n",
       " 'The',\n",
       " 'Mobile',\n",
       " 'Area',\n",
       " 'Education',\n",
       " 'Foundation',\n",
       " 'is',\n",
       " 'a',\n",
       " 'nonprofit',\n",
       " 'organization',\n",
       " 'dedicated',\n",
       " 'to',\n",
       " 'improving',\n",
       " 'our',\n",
       " 'local',\n",
       " 'public',\n",
       " 'schools',\n",
       " 'Founded',\n",
       " 'in',\n",
       " '1992',\n",
       " 'our',\n",
       " 'mission',\n",
       " 'is',\n",
       " 'to',\n",
       " 'build',\n",
       " 'community',\n",
       " 'responsibility',\n",
       " 'for',\n",
       " 'improving',\n",
       " 'public',\n",
       " 'education',\n",
       " 'outcomes',\n",
       " 'in',\n",
       " 'Mobile',\n",
       " 'County',\n",
       " 'We',\n",
       " 'work',\n",
       " 'with',\n",
       " 'but',\n",
       " 'are',\n",
       " 'independent',\n",
       " 'of',\n",
       " 'the',\n",
       " 'Mobile',\n",
       " 'County',\n",
       " 'Public',\n",
       " 'School',\n",
       " 'System',\n",
       " 'Our',\n",
       " 'Impact',\n",
       " 'MAEF',\n",
       " 'in',\n",
       " 'partnership',\n",
       " 'with',\n",
       " 'the',\n",
       " 'school',\n",
       " 'district',\n",
       " 'and',\n",
       " 'business',\n",
       " 'and',\n",
       " 'civic',\n",
       " 'leaders',\n",
       " 'across',\n",
       " 'Mobile',\n",
       " 'County',\n",
       " 'is',\n",
       " 'increasing',\n",
       " 'the',\n",
       " 'chances',\n",
       " 'that',\n",
       " 'students',\n",
       " 'will',\n",
       " 'Graduate',\n",
       " 'Ready',\n",
       " 'for',\n",
       " 'college',\n",
       " 'and',\n",
       " 'careers',\n",
       " 'View',\n",
       " 'Impact',\n",
       " 'Our',\n",
       " 'Priorities',\n",
       " 'Graduate',\n",
       " 'Ready',\n",
       " 'is',\n",
       " 'more',\n",
       " 'than',\n",
       " 'just',\n",
       " 'an',\n",
       " 'initiative',\n",
       " 'of',\n",
       " 'MAEF',\n",
       " 'It',\n",
       " 'is',\n",
       " 'strategic',\n",
       " 'focus',\n",
       " 'for',\n",
       " 'every',\n",
       " 'program',\n",
       " 'and',\n",
       " 'activity',\n",
       " 'of',\n",
       " 'the',\n",
       " 'organization',\n",
       " 'It',\n",
       " 'is',\n",
       " 'a',\n",
       " 'North',\n",
       " 'Star',\n",
       " 'that',\n",
       " 'focuses',\n",
       " 'our',\n",
       " 'direction',\n",
       " 'in',\n",
       " 'every',\n",
       " 'engagement',\n",
       " 'with',\n",
       " 'every',\n",
       " 'partner',\n",
       " 'Learn',\n",
       " 'More',\n",
       " 'Join',\n",
       " 'Us',\n",
       " 'Mobile',\n",
       " 'Area',\n",
       " 'Education',\n",
       " 'Foundation',\n",
       " 'is',\n",
       " 'working',\n",
       " 'to',\n",
       " 'create',\n",
       " 'a',\n",
       " 'better',\n",
       " 'community',\n",
       " 'one',\n",
       " 'graduate',\n",
       " 'at',\n",
       " 'a',\n",
       " 'time',\n",
       " 'We',\n",
       " 'know',\n",
       " 'we',\n",
       " 'can',\n",
       " 't',\n",
       " 'do',\n",
       " 'this',\n",
       " 'alone',\n",
       " 'Every',\n",
       " 'volunteer',\n",
       " 'hour',\n",
       " 'and',\n",
       " 'every',\n",
       " 'dollar',\n",
       " 'contribution',\n",
       " 'puts',\n",
       " 'us',\n",
       " 'one',\n",
       " 'step',\n",
       " 'closer',\n",
       " 'to',\n",
       " 'improving',\n",
       " 'the',\n",
       " 'quality',\n",
       " 'of',\n",
       " 'life',\n",
       " 'for',\n",
       " 'every',\n",
       " 'resident',\n",
       " 'of',\n",
       " 'Mobile',\n",
       " 'County',\n",
       " 'Act',\n",
       " 'Now',\n",
       " 'Register',\n",
       " 'Would',\n",
       " 'you',\n",
       " 'like',\n",
       " 'to',\n",
       " 'volunteer',\n",
       " 'to',\n",
       " 'help',\n",
       " 'Start',\n",
       " 'Here',\n",
       " 'Upcoming',\n",
       " 'Events',\n",
       " 'New',\n",
       " 'Student',\n",
       " 'Orientation',\n",
       " 'ACCEL',\n",
       " 'Informational',\n",
       " 'Meetings',\n",
       " 'ACCEL',\n",
       " 'is',\n",
       " 'now',\n",
       " 'ACCEPTING',\n",
       " 'Applications',\n",
       " 'Featured',\n",
       " 'What',\n",
       " 's',\n",
       " 'Working',\n",
       " 'U',\n",
       " 'S',\n",
       " 'education',\n",
       " 'secretary',\n",
       " 'visits',\n",
       " 'Mobile',\n",
       " 'Get',\n",
       " 'Connected',\n",
       " 'A',\n",
       " 'United',\n",
       " 'Way',\n",
       " 'Agency',\n",
       " 'Home',\n",
       " 'About',\n",
       " 'Our',\n",
       " 'Work',\n",
       " 'Our',\n",
       " 'Impact',\n",
       " 'News',\n",
       " 'Media',\n",
       " 'Support',\n",
       " 'Contact',\n",
       " '2018',\n",
       " 'Copyright',\n",
       " 'Mobile',\n",
       " 'Area',\n",
       " 'Education',\n",
       " 'Foundation',\n",
       " 'All',\n",
       " 'rights',\n",
       " 'reserved',\n",
       " 'Site',\n",
       " 'by',\n",
       " 'Web',\n",
       " 'and',\n",
       " 'New',\n",
       " 'Media',\n",
       " '']"
      ]
     },
     "execution_count": 49,
     "metadata": {},
     "output_type": "execute_result"
    }
   ],
   "source": [
    "# side effect: splits phone numbers\n",
    "re.split('\\W+', page_from_first_school) "
   ]
  },
  {
   "cell_type": "code",
   "execution_count": 50,
   "metadata": {},
   "outputs": [],
   "source": [
    "test_str = \"hi joe joe\" # used to test hit count functions below\n",
    "test_list = ['hi joe joe', 'hi joe', 'hi', 'joe']"
   ]
  },
  {
   "cell_type": "code",
   "execution_count": 51,
   "metadata": {},
   "outputs": [
    {
     "data": {
      "text/plain": [
       "375542"
      ]
     },
     "execution_count": 51,
     "metadata": {},
     "output_type": "execute_result"
    }
   ],
   "source": [
    "df_charter['WEBTEXT'].apply(len).sum() # total number of pages"
   ]
  },
  {
   "cell_type": "markdown",
   "metadata": {},
   "source": [
    "# Hit Count Functions"
   ]
  },
  {
   "cell_type": "code",
   "execution_count": 52,
   "metadata": {},
   "outputs": [],
   "source": [
    "# Optimized dict_count attempt for cases where entries in 'custom_dict' have long word lengths\n",
    "\n",
    "# precalculations\n",
    "dict_words = [entry.split() for entry in keywords] # list words for each dict entry\n",
    "dict_lengths = [len(x) for x in dict_words]\n",
    "first_words = [x[0] for x in dict_words] # first words of each entry in dict\n",
    "\n",
    "def dict_count1(text):\n",
    "    words_list = re.split('\\W+|_', text) # list of words in text\n",
    "    # find indices where word in first_words matches word in words_list\n",
    "    mask = [[word == entry for word in words_list] for entry in first_words]\n",
    "    indices = np.transpose(np.nonzero(mask))\n",
    "    count = 0\n",
    "    for ind in indices:\n",
    "        if ind[1] <= (len(words_list) - dict_lengths[ind[0]]) and dict_words[ind[0]] == words_list[ind[1] : ind[1] + dict_lengths[ind[0]]]:\n",
    "            count+=1\n",
    "    return count\n",
    "    \n"
   ]
  },
  {
   "cell_type": "code",
   "execution_count": 53,
   "metadata": {},
   "outputs": [],
   "source": [
    "# Repurposed dict_count and helper function in webparser_mp.py.\n",
    "\n",
    "max_entry_length = max([len(entry.split()) for entry in keywords]) # Get length (in words) of longest entry in combined dictionary\n",
    "\n",
    "def dict_count(text):\n",
    "    \n",
    "    \"\"\"Performs dictionary analysis, returning number of dictionary hits found.\n",
    "    Removes punctuation and stems the phrase being analyzed. \n",
    "    Compatible with multiple-word dictionary elements.\"\"\"    \n",
    "    \n",
    "    counts = 0 # number of matches between text_list and custom_dict\n",
    "    splitted_phrase = re.split('\\W+|_', text) # Remove punctuation with regex that keeps only letters and spaces\n",
    "\n",
    "    # Do dictionary analysis for word chunks of lengths max_entry_length down to 1\n",
    "    for length in range(1, max_entry_length + 1):\n",
    "        if len(splitted_phrase) < length:\n",
    "            continue # If text chunk is shorter than length of dict entries being matched, there are no matches.\n",
    "        for i in range(len(splitted_phrase) - length + 1):\n",
    "            entry = ' '.join(splitted_phrase[i:i+length]) # Builds chunk of 'length' words without ending space\n",
    "            if entry in keywords:\n",
    "                counts += 1\n",
    "    \n",
    "    return counts"
   ]
  },
  {
   "cell_type": "code",
   "execution_count": 54,
   "metadata": {},
   "outputs": [],
   "source": [
    "# Hybrid approach\n",
    "\n",
    "# Separate keywords to be treated differently\n",
    "small_keywords = []\n",
    "large_keywords = []\n",
    "\n",
    "for entry in keywords:\n",
    "    small_keywords.append(entry) if len(entry.split()) < 3 else large_keywords.append(entry)\n",
    "\n",
    "large_words = [entry.split() for entry in large_keywords] # list words for each large dict entry\n",
    "large_lengths = [len(x) for x in large_words]\n",
    "large_first_words = [x[0] for x in large_words] # first words of each large entry in dict\n",
    "\n",
    "def dict_count2(text):\n",
    "\n",
    "    \"\"\"Hybrid of dict_count and dict_count1. \n",
    "    \n",
    "    Uses dict_count1 approach to count matches for entries with > 2 words in keywords.\n",
    "    Uses dict_count approach for all other entries.\n",
    "    \"\"\"\n",
    "\n",
    "    counts = 0 # hitscore\n",
    "    splitted_phrase = re.split('\\W+|_', text.lower()) # Remove punctuation with regex that keeps only letters and spaces\n",
    "\n",
    "    for length in range(1, 3):\n",
    "        if len(splitted_phrase) < length:\n",
    "            continue # If text chunk is shorter than length of dict entries being matched, there are no matches.\n",
    "        for i in range(len(splitted_phrase) - length + 1):\n",
    "            entry = ' '.join(splitted_phrase[i:i+length]) # Builds chunk of 'length' words without ending space\n",
    "            if entry in keywords:\n",
    "                counts += keywords_values[entry]\n",
    "    mask = [[word == entry for word in splitted_phrase] for entry in large_first_words]\n",
    "    indices = np.transpose(np.nonzero(mask))\n",
    "    for ind in indices:\n",
    "        if ind[1] <= (len(splitted_phrase) - large_lengths[ind[0]]) and large_words[ind[0]] == splitted_phrase[ind[1] : ind[1] + large_lengths[ind[0]]]:\n",
    "            counts += keywords_values[large_keywords[ind[0]]]\n",
    "    return counts"
   ]
  },
  {
   "cell_type": "code",
   "execution_count": 55,
   "metadata": {},
   "outputs": [],
   "source": [
    "class Page:\n",
    "    def __init__(self,p):\n",
    "        self.url = p[0]\n",
    "        self.boo = p[1]\n",
    "        self.depth = p[2]\n",
    "        self.text = p[3]\n",
    "    def __repr__(self):\n",
    "        return self.text\n",
    "    def __eq__(self, other):\n",
    "        if isinstance(other, Page):\n",
    "            return self.text == other.text\n",
    "        else:\n",
    "            return False\n",
    "    def __ne__(self, other):\n",
    "        return (not self.__eq__(other))\n",
    "    def __hash__(self):\n",
    "        return hash(self.__repr__())"
   ]
  },
  {
   "cell_type": "code",
   "execution_count": 64,
   "metadata": {},
   "outputs": [],
   "source": [
    "def filter_pages(school_pages, MIN_HITCOUNT = 1, MAX_NUMPAGES = 250, AGGRO = False, is_set = False):\n",
    "    \"\"\"Filters page text with hit count at least min hit count if school has more than MAX_NUMPAGES distinct pages else unfiltered of pages is returned.\n",
    "    \n",
    "    Returns max_numpages pages with priority given to higher hitscore and then lower page depth(even when AGGRO is TRUE). Boolean value returned is to help generate WEBTEXT_METHOD later.\n",
    "    school_pages: entry of 'webtext' column\n",
    "    is_set: True if school_pages is set of pages\n",
    "    aggro: When true, only pages that have >= MIN_HITCOUNT hits pass. Only resort to CMO pages when no pages pass\n",
    "    \"\"\"\n",
    "    if not is_set:\n",
    "        school_pages = set([Page(p) for p in school_pages])\n",
    "#     if len(pages) <= MAX_NUMPAGES:\n",
    "#         return ([(p.url, p.boo, p.depth, p.text) for p in pages], 0)\n",
    "    all_tuples = []\n",
    "    filtered_num = 0 # number of pages that passed the hitscore requirement\n",
    "    filtered = []\n",
    "    max_hc = -1\n",
    "    min_depth = 99999\n",
    "    for p in school_pages:\n",
    "        hit_count = dict_count2(p.text)\n",
    "        if hit_count >= MIN_HITCOUNT:\n",
    "            filtered.append((hit_count, (p.url, p.boo, p.depth, p.text)))\n",
    "            filtered_num += 1\n",
    "#         if max_hc < hit_count:\n",
    "#             max_hc = hit_count\n",
    "#         if min_depth > int(p.depth):\n",
    "#             min_depth = int(p.depth)\n",
    "        # maintain list containing all pages and corresponding hit scores\n",
    "        all_tuples.append((hit_count, (p.url, p.boo, p.depth, p.text)))\n",
    "    if not AGGRO and filtered_num and filtered_num <= MAX_NUMPAGES:\n",
    "            return ([t[1] for t in filtered], False)        \n",
    "    all_tuples = [(t[0] - .00001*int(t[1][2]), t[1]) for t in all_tuples] # prepare list to be heapified\n",
    "    if AGGRO:\n",
    "        all_tuples = filtered\n",
    "    # priority number is hit_count - .00001*page.depth so pages with high hitscores are prioritized followed by low page depths\n",
    "    filtered = [t[1] for t in q.nlargest(MAX_NUMPAGES, all_tuples)]\n",
    "    return (filtered, filtered_num == False)"
   ]
  },
  {
   "cell_type": "code",
   "execution_count": 66,
   "metadata": {},
   "outputs": [],
   "source": [
    "def run_filter(df, type = 'a', MIN_HITCOUNT = 1, MAX_NUMPAGES = 250, AGGRO = False):\n",
    "    \"\"\"Runs filter of given type and returns modified df.\n",
    "    \n",
    "    MAX_NUMPAGES: upper limit on number of pages for each school. Priority is given to pages with high hit scores. Ties broken by lower page depths\n",
    "    type: column to run filter on. 'c' for CMO_WEBTEXT, 'w' for 'WEBTEXT', 'a' for complete filter with backup/last resort pages implemented\n",
    "    MIN_HITCOUNT: min hit count to pass filter\n",
    "    df: dataframe to be run on\n",
    "    'w' and 'c' types save to checkpoint file\n",
    "    aggro: When true, only pages that have >= MIN_HITCOUNT hits pass. Only resort to CMO pages when no pages pass\n",
    "    \"\"\"\n",
    "    if type == 'w':\n",
    "        df_charter = df\n",
    "        print('WEBTEXT Page filter start. Min hit count: {:f}'.format(MIN_HITCOUNT))\n",
    "        filtered_pages = []\n",
    "        s = []\n",
    "        start = time.time()\n",
    "        for i, row in enumerate(df_charter['WEBTEXT'].values):\n",
    "            result = filter_pages(row, MIN_HITCOUNT, MAX_NUMPAGES, AGGRO)\n",
    "            filtered_pages.append(result[0])\n",
    "            s.append(result[1])\n",
    "            if i%1000 == 0:\n",
    "                end = time.time()\n",
    "                print('Time Elapsed:{:f}, Percent Complete:{:f}'.format(end - start,i*100/len(df_charter)))\n",
    "        df_charter['WEBTEXT'] = pd.Series(filtered_pages, index=df_charter.index)\n",
    "        df_charter['WEBTEXT_EMPTY'] = pd.Series(s, index=df_charter.index) # 0 means no filter+nonempty, False = nonempty, True = empty\n",
    "        #ckpt_file_path = 'charters_full_2015{:s}{:d}_checkpoint1.pkl'.format(type,round(10*MIN_HITCOUNT))\n",
    "        ckpt_file_path = 'webtext_unlapped_replaced_filtered_{:s}{:d}_checkpoint1.tsv'.format(type,round(10*MIN_HITCOUNT))\n",
    "        #df_charter.to_pickle(ckpt_file_path) # checkpoint file contains new column 'FILTERED_TEXT'\n",
    "        df_charter.to_csv(ckpt_file_path, sep='\\t')\n",
    "        print('Completed text filtering. Saved checkpoint to ' + ckpt_file_path)\n",
    "    elif type == 'c':\n",
    "        df_charter = df\n",
    "        print('CMO_WEBTEXT Page filter start. Min hit count: {:f}'.format(MIN_HITCOUNT))\n",
    "        filtered_pages = []\n",
    "        s = []\n",
    "        start = time.time()\n",
    "        for i, row in enumerate(df_charter['CMO_WEBTEXT'].values):\n",
    "            result = filter_pages(row, MIN_HITCOUNT, MAX_NUMPAGES, AGGRO)\n",
    "            filtered_pages.append(result[0])\n",
    "            s.append(result[1])\n",
    "            if i%1000 == 0:\n",
    "                end = time.time()\n",
    "                print('Time Elapsed:{:f}, Percent Complete:{:f}'.format(end - start,i*100/len(df_charter)))\n",
    "        df_charter['CMO_WEBTEXT'] = pd.Series(filtered_pages, index=df_charter.index)\n",
    "        df_charter['CMO_WEBTEXT_EMPTY'] = pd.Series(s, index=df_charter.index)\n",
    "        #ckpt_file_path = 'charters_full_2015{:s}{:d}_checkpoint1.pkl'.format(type,round(10*MIN_HITCOUNT))\n",
    "        #df_charter.to_pickle(ckpt_file_path) # checkpoint file contains new column 'FILTERED_TEXT'\n",
    "        ckpt_file_path = 'webtext_unlapped_replaced_filtered_{:s}{:d}_checkpoint1.tsv'.format(type,round(10*MIN_HITCOUNT))\n",
    "        df_charter.to_csv(ckpt_file_path, sep='\\t')\n",
    "        print('Completed text filtering. Saved checkpoint to ' + ckpt_file_path)\n",
    "    elif type == 'a':\n",
    "        print('Complete Page filter start. Min hit count: {:f}'.format(MIN_HITCOUNT))\n",
    "        filtered_pages = []\n",
    "        s = []\n",
    "        start = time.time()\n",
    "        for i, row in enumerate(df['WEBTEXT'].values):\n",
    "            pages = set([Page(p) for p in row])\n",
    "            if sum([len(re.split('\\W+|_', p.text)) for p in pages]) < 10: # Check num words < 10\n",
    "                result_cmo = filter_pages(df.loc[df.index[i], 'CMO_WEBTEXT'], MAX_NUMPAGES, AGGRO, False)\n",
    "                if result_cmo[1]:\n",
    "                    result = filter_pages(pages, MIN_HITCOUNT, MAX_NUMPAGES, AGGRO, True)\n",
    "                    filtered_pages.append(result[0])\n",
    "                    s.append(2) # 2 means last resort webtext\n",
    "                else:\n",
    "                    filtered_pages.append(result_cmo[0])\n",
    "                    s.append(1) # 1 in WEBTEXT_METHOD means replaced with CMO filtered  text\n",
    "            else:\n",
    "                result = filter_pages(pages, MIN_HITCOUNT, MAX_NUMPAGES, AGGRO, True)\n",
    "                if result[1]:\n",
    "                    result_cmo = filter_pages(df.loc[df.index[i], 'CMO_WEBTEXT'], MAX_NUMPAGES, AGGRO)\n",
    "                    if result_cmo[1]:\n",
    "                        filtered_pages.append(result[0])\n",
    "                        s.append(2)\n",
    "                    else:\n",
    "                        filtered_pages.append(result_cmo[0])\n",
    "                        s.append(1)\n",
    "                else:\n",
    "                    filtered_pages.append(result[0])\n",
    "                    s.append(0) # 0 in WEBTEXT_METHOD means normal filter              \n",
    "            if i%1000 == 0:\n",
    "                end = time.time()\n",
    "                print('Time Elapsed:{:f}, Percent Complete:{:f}'.format(end - start,i*100/len(df)))\n",
    "        df.loc[:,'WEBTEXT_METHOD'] = np.array(s) # see above for key\n",
    "        df.loc[:,'WEBTEXT'] = pd.Series(filtered_pages, index=df.index)\n",
    "        return df\n",
    "#         ckpt_file_path = 'charters_full_2015{:s}{:d}_checkpoint1.pkl'.format(type,round(10*MIN_HITCOUNT))\n",
    "#         df.to_pickle(ckpt_file_path) # checkpoint file contains new column 'FILTERED_TEXT'\n",
    "#         print('Completed text filtering. Saved checkpoint to ' + ckpt_file_path)"
   ]
  },
  {
   "cell_type": "code",
   "execution_count": 58,
   "metadata": {},
   "outputs": [],
   "source": [
    "# pd.concat(results[:round(len(results)/2)]).to_pickle('charters_full_2015_250_1.pkl') # in case of kernel failure"
   ]
  },
  {
   "cell_type": "code",
   "execution_count": 59,
   "metadata": {},
   "outputs": [],
   "source": [
    "# pd.concat(results[round(len(results)/2):].to_pickle('charters_full_2015_250_2.pkl')"
   ]
  },
  {
   "cell_type": "code",
   "execution_count": 65,
   "metadata": {},
   "outputs": [
    {
     "data": {
      "text/plain": [
       "([('http://www.maef.net/accel-merit-scholar-awards/',\n",
       "   'False',\n",
       "   '2',\n",
       "   't Scholar Awards\\nStudents of ACCEL Day and Evening Academy scholars earn the Merit Award for being models of ACCEL’s Five Core Values:\\nAchievement\\xa0underscores the belief that we can reach our goals through focus and hard work.\\nCollaboration\\xa0reminds us that we can be our best and achieve the most when we work well with others.\\nCare\\xa0emphasizes that we must show appreciation and concern for our community and fellow-man.\\nEmpowerment\\xa0means that we must take the initiative to give voice and power to our interests in a responsible way.\\nLifelong-Learning\\xa0encourages students to seek “learning” in and out of school for the rest of their lives.\\nMERIT AWARD SCHOLARS\\nWeek of 9/04/2017 Winner\\nJoseph Johnson\\nClick to enlarge\\nWeek of 8/21/2017 Winners\\nBailey Davis, Larry Smith, Derrick Carson, Micah Kinlaw, Klintaveus Thompson\\nClick to Enlarge\\nHome\\n | \\nAbout\\n | \\nOur Work\\n | \\nOur Impact\\n | \\nNews/ Media\\n | \\nSupport\\n | \\nContact\\n© 2018 Copyright Mobile Area Education Foundation.  All rights reserved. | Site by \\n Web and New Media\\n'),\n",
       "  ('http://www.maef.net/our-work/initiatives/75k-degrees/',\n",
       "   'False',\n",
       "   '1',\n",
       "   'hip for Attainment\\n\\xa0(CPA) work aims to deepen the impact of cross-sector, place-based efforts to increase higher education attainment in communities and cities across the country. Mobile, AL is one of 75 cities selected as a CPA site to assist Lumina in reaching Goal 2025 – to increase the proportion of Americans with high-quality post-secondary degrees and credentials to 60% by 2025.\\n75,000 Degrees is a community-wide collaborative designed to increase post-secondary attainment by bringing together Mobile’s K-12, higher education, business, and community partners. This collaborative will create a sense of urgency amongst all stakeholders to double the number of citizens with post-secondary degrees/credentials by the year 2030. Achieving this goal requires the use of data, commitment of shared resources and responsibility, and transparently reporting progress.\\nCollege and Career Resources\\n\\xa0are available for parents,\\xa0high school students, recent high school graduates, first generation college students, or transfer students.\\nAttainment Agenda Overview video\\n75K Degrees Blueprint\\nThe 75,000 Degrees Blueprint is a post-secondary attainment agenda success plan which will guide the collective goal of doubling the number of Mobile Citizens with degrees and credentials by 2030. The 75K Degrees Blueprint was \\nreleased \\non January 31, 2017 during a public press conference with 50+ community stakeholders present. Click on Blueprint to view.\\nMembers of the Education Commission who were critical partners in the development and launch of the 75K Degrees goal and Blueprint\\n15 to Finish Campaign\\nBishop State is partnering with the Mobile Area Education Foundation to double the number of Mobile County citizens with post-secondary degrees and credentials by 2030 in what is known as the 75,000 Degrees Initiative. As partners in this initiative, Bishop State Community College is encouraging students to take 15 credit hours per semester in order to graduate on time through our 15 to Finish Campaign. This campaign is designed to remove the perception that students should take only 12 credit hours per semester. Bishop State students pledge to demonstrate their commitment to fulfilling the goals of the 15 to Finish Campaign, which are:\\nTAKE MORE: Make taking 15 credit hours the full-time norm\\nSAVE MORE: Lower financial cost for students\\nEARN MORE: Earn income sooner through on-time graduation.\\n#15toFinish is one of the five Game Changers developed by \\nComplete College America\\nCollege Affordability Training\\nOn behalf of Lumina Foundation, the Mobile Area Education Foundation (MAEF) has been awarded a Flex Partnership with uAspire. Flex Partnerships with uAspire offer access to best-in-class webinar trainings in college affordability, designed specifically for practitioners and paired with turnkey tools they can implement with students immediately. MAEF is the first organization in Alabama to receive this partnership which is valued over $6,000.\\nFinancial aid advisors from Bishop State Community College and University of South Alabama are teaming up with counselors from Chickasaw, Saraland, and Satsuma High Schools to participate in the uAspire training sessions with one mission in mind…increase the number of students who attend college.\\nSeamless Transition\\nPathway USA\\n is a collaborative program between the University of South Alabama and select partner community colleges- Bishop State Community College, Faulkner State and Mississippi Gulf Coast Community College. This program provides a smooth transition for students to transfer to South. While students are attending the community college, they have access to a USA Transfer Advisor, on campus resources to support academic success, attend Jaguar home athletic events and much more.\\nWHY 75,000 DEGREES\\nThe Finish Line Has Moved!\\nBy 2020, 65% of jobs will require post-secondary education and training.\\nWhile graduation rates are on the rise, only 39% of students are attending college and 1/3 of them enroll in remedial courses.\\nOnly 30.98% of Mobile citizens have a degree or credential.\\nTo fulfill the 30.6% future job growth projected over the next 10 years, we must create 5,000 degrees/credential every year thru 2030.\\nThe demand for physical skills has continued to decline over time. The workforce demands employees with Judgement/decision making, analytic, communications and administration skills.\\nAREAS OF FOCUS\\n* Transition from High School to College\\n * Disconnected Youth\\n * Dislocated Workers/Low-Income Adults\\n * K-12 to College Alignment and Collaboration\\n * Remedial Education\\n * Economic Development/Business Engagement\\n75K DEGREES CHAMPIONS\\nBecome a CHAMPION for 75,000 Degrees by completing this pledge form\\n*\\nI will ATTAIN 1 of the 75,000 degrees/credentials by 2030\\nI will VOLUNTEER and get involved\\nWe will COMMIT shared resources and responsibility (business,        college/university, faith-based, organizations, PreK-12 schools)\\nName\\n*\\nFirst\\nLast\\nBusiness/Organization/School\\nEmail\\n*\\nEnter Email\\nConfirm Email\\nList me on the CHAMPIONS list\\nSPONSORS\\nSearch\\nQuick Links\\nCollege and Career Resource\\nLumina Foundation Overview\\n75K Degrees Infographic\\n75K Degree Timeline\\nTake the Champion Pledge\\nHome\\n | \\nAbout\\n | \\nOur Work\\n | \\nOur Impact\\n | \\nNews/ Media\\n | \\nSupport\\n | \\nContact\\n© 2018 Copyright Mobile Area Education Foundation.  All rights reserved. | Site by \\n Web and New Media\\n'),\n",
       "  ('http://www.maef.net/our-work/programs/eye/',\n",
       "   'False',\n",
       "   '1',\n",
       "   'ough Engineering\\nEngaging Youth Through Engineering (EYE) is a workforce and economic development initiative created to bring relevance to the K-12 mathematics and science curriculum. The goal of EYE is to inspire, engage and prepare middle school students to take the coursework needed to support the growing demand for highly skilled and technology-savvy workers for major industries located in the Mobile area, including aerospace and shipbuilding.\\nStudents use the Engineering Design Process to apply mathematics and science to solve relevant problems in the classroom and produce the technology and products needed in the world today.\\nEYE includes the following programs:\\nEYE Camps and Clubs. EYE camps and clubs offer engineering curriculum to fourth- and fifth-graders at 25 Mobile County schools. Students attend EYE clubs during the school year and then have the opportunity to continue the EYE program at teacher-led summer camps. EYE camps and clubs use the Boston Museum of Science “Engineering is Elementary” units and are led by trained teacher leaders.\\nMiddle Grades Modules. Funded through a grant from the National Science Foundation, EYE Middle Grades Modules are weeklong engineering units that incorporate science and mathematics. Each module is specifically designed to bring relevance and rigor to existing curriculum, with a special emphasis on mathematics. Each module also provides an engineering design challenge, fosters the development of “engineering habits of mind,” integrates technology and other resources to meet the learning needs of a diverse group of students, and deepens understanding of middle grades mathematics and science content.\\nTeacher Workshops. One goal of EYE is to use the engaging work of engineers as innovative problem solvers to “hook” students at the upper elementary and middle grade levels so they will choose to take the higher level science and math courses and develop critical thinking and communication skills required for students to be either work or college-ready in the 21st century.\\nEngineering Pathways Integrated Curriculum (EPIC) is a specialized math and science path that arms students to enter post-secondary education qualified for engineering majors, or other geotechnical, geological physical, meteorological, or environmental fields, as well as those interested in pursuing education majors in those areas. EPIC includes a strong math and science component. Interested students must commit to the required curriculum of additional math and science coursework as well as enrichment activities.\\nMCPSS STEM Improvement Program. In 2010-11, the Mobile County Public School System (MCPSS) developed the STEM Improvement Program in response to growing demand for all students to experience challenges that bring relevance to and integrate mathematics and science content, similar to those found in the EYE modules. Based on recommendations from the district’s STEM Improvement Advisory Team, MCPSS decided to implement its STEM Improvement Program and STEM Standards initially at the middle grades, before expanding to the elementary and high school levels.\\nIn partnership with members of the STEM Alliance, MAEF developed the \\nSTEM Community Blueprint\\n\\xa0which\\xa0represents the culmination of years of dedicated efforts to support the district’s education outcomes and the community’s workforce development efforts. The Blueprint is designed to:\\nArticulate a vision for STEM education in Mobile County, Alabama\\nDescribe the previous achievements in developing a foundational STEM education movement in Mobile County\\nReport the current status of STEM education and it’s connection to existing education and workforce development strategies\\nIdentify critical next steps and priorities for all stakeholders\\nFor more information on EYE, please contact \\nJudy Duke\\n.\\nEngaging Youth Through Engineering Media\\nSearch\\nGraduate Ready\\nClick here\\n to learn more about what MAEF is doing to ensure that all Mobile County students Graduate Ready.\\nQuick Links\\nHome\\n | \\nAbout\\n | \\nOur Work\\n | \\nOur Impact\\n | \\nNews/ Media\\n | \\nSupport\\n | \\nContact\\n© 2018 Copyright Mobile Area Education Foundation.  All rights reserved. | Site by \\n Web and New Media\\n'),\n",
       "  ('http://www.maef.net/our-work/programs/fund-a-star/',\n",
       "   'False',\n",
       "   '1',\n",
       "   'Harold Dodge Fund-A-S.T.A.R.\\nAbout Harold Dodge Fund-A-S.T.A.R.\\nOriginally begun as S.T.A.R., for Students and Teachers Achieving Results, this web-based program provides an opportunity for the community to show tangible support for the success of every student. Fund-A-S.T.A.R. makes a direct connection between individuals in the community and specific needs in the classroom.\\nSchool Teachers\\nWe invite teachers from Chickasaw City Schools and Mobile County Public School System to submit a proposal online for ideas and needs of your\\xa0students’ that are aligned to your school district’s goals. Fund request must not exceed $400.00 (as of 11/2015). For funding consideration, complete and submit the Grant Application below.\\nGrants are reviewed in August, December and March.\\nCommunity Support\\nWe encourage individual and business donors to \\nbrowse and select\\n a proposal you\\xa0want to fully or partially fund.\\nTo ensure the accountability of the program, MAEF works closely with School Districts\\xa0to review all proposals. MAEF also provides fiscal responsibility that allows individuals and corporations to give private funds with confidence. Donors receive thank-you notes from students in the classroom they support, along with a receipt for their tax-deductible contribution.\\nTo date, more than $146,000 has been awarded to teachers in Mobile County Public Schools through the Fund-A-S.T.A.R program.\\nFor more information on how you can participate in Fund-A-S.T.A.R., please contact \\nEva Holloway\\n\\xa0or \\nJanice Rivers\\n.\\nFund A Proposal\\n\\xa0Teachers, Submit a Proposal\\nName\\n*\\nFirst\\nLast\\nSchool\\nEmail\\n*\\nEnter Email\\nConfirm Email\\nGrant Title\\n*\\nAmount Requested ($USD)\\n*\\nPlease enter a whole dollar amount.\\n15% will be added to your proposal for MAEF to support the program.\\nDeadline\\n*\\nDescription\\n*\\nBudget Details\\n*\\nArea(s) of Discipline\\n*\\nArt Music\\nLiterature\\nAthletic\\nMath\\nBusiness\\nScience\\nFamily Consumer Science\\nSocial Studies\\nHealth Physical Education\\nTechnology\\nIndustrial Technology\\nLibrary Media\\nOther\\nDescribe Other\\n*\\nGrade Level\\n*\\nPre K\\nK-5\\n6-8\\n9-12\\nPercent (%) of Students on Reduced or Free Lunch\\n*\\nSchool Wide\\nPercent (%) of Students who speak English as a second language\\n*\\nSchool Wide\\nThis iframe contains the logic required to handle AJAX powered Gravity Forms.\\nHarold Dodge Fund-A-S.T.A.R. Media\\nSearch\\nGraduate Ready\\nClick here\\n to learn more about what MAEF is doing to ensure that all Mobile County students Graduate Ready.\\nQuick Links\\nHome\\n | \\nAbout\\n | \\nOur Work\\n | \\nOur Impact\\n | \\nNews/ Media\\n | \\nSupport\\n | \\nContact\\n© 2018 Copyright Mobile Area Education Foundation.  All rights reserved. | Site by \\n Web and New Media\\n'),\n",
       "  ('http://www.maef.net/volunteer/',\n",
       "   'False',\n",
       "   '2',\n",
       "   'omes\\nOne person can make a difference in the life of child’s ability to graduate ready. By creating multiple\\rindividual donors, volunteers, mentors and voices for children, we are creating a powerful movement in \\rMobile County. The results are powerful for the lives of individual children and their families. And they also\\rreap benefits for our neighborhoods, our economy and our quality of life.\\n Learn More\\nSearch\\nBrowse\\nOR\\nLiteracy\\nMathematics\\nRecovery\\nSTEM\\nWorkforce development\\nWhy Should you register?\\nTo Volunteer: Register and create a profile to browse local opportunities that match your interest.\\nTo Get Ideas: Inspiration, info and resources from our monthly newsletter, articles and social networks.\\nTo Find Helping Hands:MAEF specializes in bringing the public into public schools. Schools can post\\rvolunteer placements for our registered volunteers to browse. \\nJoin\\nListing\\n© 2014 Copyright Mobile Area Education Foundation. All rights reserved. \\nGet Connected'),\n",
       "  ('http://www.maef.net/graduate-ready-articles/save-the-date-for-the-14th-annual-education-summit/',\n",
       "   'False',\n",
       "   '2',\n",
       "   'ate Ready Summit\\nThe Mobile Area Education Foundation (MAEF) requests your presence at our\\xa0Graduate Ready Summit\\xa0on Thursday October 2, 2014 at the Arthur Outlaw Convention Center in Mobile, AL. The Graduate Ready Summit is sponsored in partnership with the America’s Promise Alliance, and is one of 100\\xa0Grad Nation Community Summits being hosted across the nation.\\xa0\\xa0\\nREGISTER TODAY!\\nREGISTER TODAY\\nHome\\n | \\nAbout\\n | \\nOur Work\\n | \\nOur Impact\\n | \\nNews/ Media\\n | \\nSupport\\n | \\nContact\\n© 2018 Copyright Mobile Area Education Foundation.  All rights reserved. | Site by \\n Web and New Media\\n'),\n",
       "  ('http://www.maef.net/our-impact/',\n",
       "   'False',\n",
       "   '1',\n",
       "   'Learn more about how MAEF:\\nSupports MCPSS in \\ntransforming schools\\n across the county to increase high school graduation rates\\nIs creating partnerships with \\nindustry leaders\\n to develop students’ workforce skills in Mobile County Career Academies\\nImproves the quality of life in Mobile County by increasing the \\nvolunteer base\\n and the number of citizens actively in community efforts to improve outcomes for children schools involved citizen engagement across the county Community impact\\nIs creating a \\ncivic culture\\n of continual improvement across Mobile County\\nSee below where MAEF programs are making a difference in our public schools.\\nGet Directions\\nFor:\\nDriving\\nWalking\\nBicycling\\nshow options\\nhide options\\n Avoid Tolls \\n Avoid Highways\\r                        \\nFrom:\\nTo:\\nFetching directions......\\nReset directions\\nPrint directions\\nCLICK HERE\\n to view the Community Dashboard that provides real-time data on community agreed-upon metrics of education improvement.\\nSchool District Impact\\nBeyond the traditional three Rs, the Mobile County Public School System has expanded its focus to three new ones—rigor, relevance and relationships. Every high school now offers Advanced Placement courses. Focused attention is being brought to ensure that more students are reading on grade level at the end of third grade—a leading early indicator of starting on track to graduation. Likewise, more students are taking the math courses they need to handle algebra in middle school, an indicator that students remain on track.\\nTo ensure every student in Mobile County graduates ready, we are raising the bar. For the first time, starting in the 2014-15 school year, every high school student will take the ACT college entrance exam—not just those who can afford it or those with stated plans to go to college. And, we are working to increase the average ACT score to 21, a nationally recognized indicator that a student is prepared for—and can persist through—college-level courses.\\nBeyond K-12, new attention across Mobile County is being paid to ensuring universal access to pre-kindergarten and kindergarten for our youngest learners, ensuring that they start school ready to learn.\\nThe school district is also working to ensure postsecondary access to students moving forward—whether in structured training opportunities, two-year degrees in community college or associate programs, or four-year university degrees.\\nAs a result, high school graduation rates in Mobile County are on the rise. They are up nearly 20 percentage points in the past three years. The reason is a combination of focus and accountability. For students who are over-age and under-credited, we have established new credit recovery options. We have brought a laser-like focus to the issue, making sure that schools offer more rigor to everybody, not just some.\\nEmployer Impact\\nThe best economic stimulus package in the Mobile region is increasing qualified high school graduates.\\nAccording to the Alliance for Excellent Education: If 90 percent of the MCPSS class of 2012 had earned a high school diploma, an increase of 1,900 graduates, the benefits to Mobile County would include:\\n100 new jobs\\n$16 million increase in annual earnings\\n$12 million increase in annual spending\\n$19 million increase in annual gross regional product\\n$28 million increase in home sales\\n$2 million increase in auto sales\\n$1.1 million increase in annual state/local tax revenue\\nEvery high school in Mobile County is becoming a Career Academy—focused on the five key industry areas in the Mobile region: aerospace, advanced manufacturing, shipbuilding, health, and teaching and learning.\\nThrough partnerships with industry leaders—including internships, job shadowing and mentors—students are being prepared in rigorous academics, such as science, technology, math and engineering. They are also learning the 21st century skills (communications, collaboration, creativity and problem-solving) they will need to succeed in these industries.\\nCommunity Impact\\nIn 2001, Mobile County voters passed a historic tax referendum that put more money into our public schools than had been allocated in more than 40 years. In 2011, citizens refused to step back—they voted to sustain that increased funding.\\nAll the while, people came together from every sector of the community—folks from churches, businesses, nonprofit organizations; parents, educators, everyday citizens and taxpayers. Around kitchen tables, in coffee shops, churches and libraries, they talked about what they want for Mobile County and our schools. If they didn’t come out, we went to them.\\nThis broad-based citizen engagement is unique to the Mobile story. The collective citizen voice enabled us to raise expectations. And it has brought us all together on a path for continued success.\\nCitizens agree that our quality of life depends on the region being business friendly, family friendly and safe. Citizens also know that improving our schools, and the quality of our graduates, can do a lot to improve other factors that contribute to the overall quality of life in Mobile County.\\nBy improving the quality and employability of our graduates, we increase their chances of higher annual earnings. That gives Mobile County the opportunity to broaden our tax base, which can lead to better parks, bike trails, recreation options, and improvements in the arts—all giving families more to enjoy near home. Those factors can, in turn, help to keep our middle class thriving in the region. And a better quality of life in Mobile can help to keep our young people from looking elsewhere when thinking of where to build their lives and families.\\nAll of that can help to increase our volunteer base and the number of people actively caring for and continuing to support our community.\\nImproving Education Outcomes\\nGet Involved\\nTogether, MAEF, working with the Mobile County Public Schools and leaders throughout the community, will create a civic culture of continual improvement by:\\nEstablishing the entry-level skills needed for Mobile’s workforce and partner with schools to increase the number of students who graduate prepared for high wage, high demand CS\\nEnsuring 80 by 20 results by designing, managing and improving the efficiency and effectiveness of district and community work systems\\nCollaboratively building human capital competencies aligned with performance-based assessments\\nSecuring funding and align resources to support innovation in career and college programming\\nSearch\\nGraduate Ready\\nClick here\\n to learn more about what MAEF is doing to ensure that all Mobile County students Graduate Ready.\\nQuick Links\\nHome\\n | \\nAbout\\n | \\nOur Work\\n | \\nOur Impact\\n | \\nNews/ Media\\n | \\nSupport\\n | \\nContact\\n© 2018 Copyright Mobile Area Education Foundation.  All rights reserved. | Site by \\n Web and New Media\\n'),\n",
       "  ('http://www.maef.net/accel-photo-gallery/',\n",
       "   'False',\n",
       "   '2',\n",
       "   '                    Mrs. Lewis’ science class                    \\n                    Honors Biology Lab                    \\n                    Honors Biology Lab                    \\n                    Honors Biology Lab                    \\n                    Honors Biology Lab                    \\n                    Mrs. Lewis’ Anatomy activity                    \\n                    Mrs. Lewis’ anatomy activity                    \\n                    Creating neurons in Mrs. Lewis’ class                    \\n                    Creating candy DNA                    \\n                    Candy DNA                    \\n                    Breast Cancer Awareness Committee                    \\n                    Breast Cancer Awareness Week                    \\n                    Breast Cancer Awareness Week                    \\n                    Merit Award Scholar                    \\n                    Merit Scholars                    \\n                    Secretary DeVos visits ACCEL                    \\n                    Coastal Alabama Community College visits ACCEL                    \\n                    Coastal Alabama Community College visits ACCEL                    \\n                    Coastal Alabama Community College visits ACCEL                    \\n                    Advocate Counselor Appreciation                    \\n                    Yoga at ACCEL                    \\n                    Ms. Austin-Brown wearing her lesson on proteins                    \\n                    Secretary of Education, Betsy DeVos                    \\n                    Secretary DeVos tours ACCEL                    \\n                    Secretary Devos and Congressman Byrne visits ACCEL                    \\n                    New Student Orientation 2017                    \\n                    New Student Orientation 2017                    \\n                    New Student Orientation 2017                    \\n                    New Student Orientation 2017                    \\n                    New Student Orientation 2017                    \\nSearch\\nQuick Links\\nENROLL in ACCEL\\nJOIN THE ACCEL TEAM\\nMEET THE ACCEL TEAM\\nThe Vision / The Mission\\n2018-19 Calendar\\nEvents Calendar\\nUniform Policy\\nBoard of Education\\nMerit Scholars\\nPALS schedule\\nINOW\\nACCEL Photo Gallery\\nContact Us\\nHome\\n | \\nAbout\\n | \\nOur Work\\n | \\nOur Impact\\n | \\nNews/ Media\\n | \\nSupport\\n | \\nContact\\n© 2018 Copyright Mobile Area Education Foundation.  All rights reserved. | Site by \\n Web and New Media\\n'),\n",
       "  ('http://www.maef.net/contact/',\n",
       "   'False',\n",
       "   '1',\n",
       "   'e\\n*\\nQuestions or Comments\\n*\\nThis iframe contains the logic required to handle AJAX powered Gravity Forms.\\nOur Location\\nGet Directions\\nFor:\\nDriving\\nWalking\\nBicycling\\nshow options\\nhide options\\n Avoid Tolls \\n Avoid Highways\\r                        \\nFrom:\\nTo:\\nFetching directions......\\nReset directions\\nPrint directions\\nEmail Us\\nCarolyn Akers\\nChief Executive Officer\\nMelissa Dean\\nDirector, K-8 Initiative\\nJanelle Finley\\nBranding & Development Coordinator\\nEva Holloway\\nOffice Manager\\nJabaria Jenkins\\nCareer Academies Coordinator\\nJeremiah Newell\\nChief Operations Officer\\nMichelle Parson\\nDirector, Finance and Administration\\nJohn Parker\\nFinance Coordinator\\nJanice Rivers\\nExecutive Assistant to the CEO\\nChandra Scott\\nDirector, Strategic Initiatives\\nLee Williams\\nInternship Coordinator\\nHilder P. Wilson\\nDirector, High School Initiatives\\nEmployment Opportunities\\nCurrently, there\\xa0are no openings at MAEF. Thanks for your interest.\\n\\xa0It is the policy of the Mobile Area Education Foundation not to discriminate on the basis of race, color, sex, national origin, disability, or age in its employment practices. All persons hired are required to verify identity and employment eligibility and must undergo drug screening and a criminal background investigation.\\n The Mobile Area Education Foundation is a non-profit, local education foundation dedicated to creating higher expectations for our public schools and our community.\\nSearch\\nQuick Links\\nLocation\\nContact Us\\nEmail us\\nEmployment Opportunities\\nFind Us\\nMobile Area Education Foundation\\n605 Bel Air Boulevard\\n\\rSuite 400\\n\\rMobile, Alabama 36606\\n\\rOffice: (251) 476-0002\\n\\rFax: (251) 476-0046\\nHome\\n | \\nAbout\\n | \\nOur Work\\n | \\nOur Impact\\n | \\nNews/ Media\\n | \\nSupport\\n | \\nContact\\n© 2018 Copyright Mobile Area Education Foundation.  All rights reserved. | Site by \\n Web and New Media\\n'),\n",
       "  ('http://www.maef.net/news-media/',\n",
       "   'False',\n",
       "   '1',\n",
       "   'August 3, 2017\\nACCEL Informational Meetings\\nEvent\\nMarch 25, 2017\\nACCEL is now ACCEPTING Applications!\\nEvent\\nFebruary 23, 2017\\nMobile Area News / Media\\nArticle\\nCategory\\nDate\\nWhat\\'s Working\\nACCEL Day and Evening Academy\\nMay 31, 2018\\nThe Accelerator (8/25)\\nACCEL Day and Evening Academy\\nSeptember 11, 2017\\nU.S. education secretary visits Mobile\\nACCEL Day and Evening Academy\\nSeptember 1, 2017\\nNonprofit prepares to open state’s first charter school\\nACCEL Day and Evening Academy\\nAugust 17, 2017\\nNew Student Orientation\\nACCEL Day and Evening Academy\\nAugust 3, 2017\\nMobile gets Alabama\\'s first charter high school\\nACCEL Day and Evening Academy\\nAugust 3, 2017\\nAM/NS Calvert STEM Summer Camp\\nJuly 25, 2017\\nPress Release: ACCEL Joins Cohort to Reimagine K-12 Learning\\nACCEL Day and Evening Academy\\nMay 3, 2017\\nAlabama\\'s first charter school launches in Mobile County\\nACCEL Day and Evening Academy\\nApril 26, 2017\\nAlabama\\'s first charter school will be in Mobile\\nACCEL Day and Evening Academy\\nApril 24, 2017\\nACCEL Academy: Take a first look inside Alabama\\'s first charter\\nApril 24, 2017\\nACCEL Informational Meetings\\nMarch 25, 2017\\nACCEL is now ACCEPTING Applications!\\nFebruary 23, 2017\\nMobile Wants to Matriculate Its Way Out of the Wealth Gap\\nFebruary 23, 2017\\nWorkforce needs call for \\'sense of urgency\\'\\n75K, Education Commission\\nFebruary 1, 2017\\nMAEF working to help students earn degrees\\n75K, Education Commission\\nFebruary 1, 2017\\nProgram helps teens apply for college\\n75K\\nNovember 2, 2016\\nThe school lessons Anniston could learn from Mobile\\n75K, Graduate Ready\\nSeptember 22, 2016\\nMAEF gets approval for Alabama\\'s first charter school\\n75K, Graduate Ready\\nSeptember 21, 2016\\nMAEF targets dropout rate in charter school proposal\\n75K, Graduate Ready\\nSeptember 19, 2016\\nFirst charter school in Alabama set to open in Mobile in 2017\\nGraduate Ready\\nSeptember 8, 2016\\nJuly 2016 Newsletter\\n75K, Graduate Ready, Reading Buddy\\nJuly 21, 2016\\nVital Link 2.0 Providing Opportunities for Students to Sharpen Skills for 21st Century Jobs\\n75K Degrees, AT&T Vital Link\\nJuly 12, 2016\\nAlabama Charter School Commission releases letters of intent\\nGraduate Ready\\nJuly 10, 2016\\nMAEF, industries providing paid internships for students\\n75K, AT&T Vital Link, Graduate Ready\\nJune 29, 2016\\nJune 2016 Newsletter\\n75K, 75K Degrees, AT&T Vital Link, Evidence2Success, Graduate Ready, RAMP\\nJune 29, 2016\\nMAEF Offers Summer Internships to High School Students \\nAT&T Vital Link\\nJune 21, 2016\\nMAEF and Bishop State Community College Hold Press Conference to Announce Partnership that Supports 75,000 Degrees\\n75K, 75K Degrees, Graduate Ready\\nJune 20, 2016\\nMAEF Leads Partnership with Bishop State Community College in Support of New Initiative \\n75K, 75K Degrees, Graduate Ready\\nJune 20, 2016\\nMay 2016 Newsletter \\n75K, Academics, AT&T Vital Link, Education Commission, EEOP, EYE, Graduate Ready, RAMP\\nMay 31, 2016\\n25 Alabama high schools with the best ACT scores\\n75K Degrees\\nMarch 16, 2016\\nFebruary 2016 Newsletter \\nAT&T Vital Link, EEOP, EYE, Graduate Ready, Reading Buddy\\nFebruary 26, 2016\\nMAEF and City of Mobile Announce National Partnership \\nFebruary 23, 2016\\nBishop State partners with USA to create a \\'Pathway\\'\\n75K Degrees\\nJanuary 27, 2016\\nUSA creates \\'Pathway\\' for Faulkner State Community College students\\n75K Degrees\\nJanuary 20, 2016\\nMAEF, Airbus, and United Way Partner to Launch Airbus Flying Challenge Mentor Program \\nGraduate Ready\\nJanuary 14, 2016\\nNovember 2015 Newsletter \\nAcademics, EYE, Reading Buddy\\nNovember 19, 2015\\nOctober 2015 Newsletter \\nAcademics, EYE, Graduate Ready, RAMP, Reading Buddy, Superintendent’s Student Advisory Council\\nOctober 22, 2015\\nSeptember 2015 Newsletter \\nSeptember 17, 2015\\nEducation by the Numbers \\nGraduate Ready\\nAugust 25, 2015\\nMAEF One of 75 in U.S. To Receive Lumina Foundation Grant \\nEducation Commission, Graduate Ready\\nFebruary 26, 2015\\nGradation Rate on the Rise!\\nJanuary 8, 2015\\nEducation Summit 2015\\nDecember 17, 2014\\nToyota USA Foundation Conference: Supporting the Rigor & Relevance through STEM Education\\nDecember 17, 2014\\nGraduate Ready Summit \\nGraduate Ready\\nOctober 15, 2014\\nMobile\\'s on the right track to improve graduation rate and workforce, education leaders say\\nOctober 3, 2014\\nMAEF CEO Takes Ice Bucket Challenge for ALS\\nAugust 22, 2014\\nRegister for the Graduate Ready Summit \\nAugust 19, 2014\\n\\'It\\'s really going to make a difference\\': Williamson High School launches maritime signature academy\\nGraduate Ready\\nAugust 18, 2014\\nFirst day of school: New buildings, some air conditioning problems\\nAugust 13, 2014\\n\\'We expect a lot\\': Hall Elementary, 3 other Mobile County schools earn Torchbearer distinction\\nGraduate Ready\\nAugust 11, 2014\\nDrive carefully: Mobile County schools are back in action Thursday\\nAugust 6, 2014\\nThe great school lunch debate: Mobile, Chickasaw districts benefit from federal grants\\nAugust 4, 2014\\nAugust 2014 Newsletter\\nAT&T Vital Link, EYE, Graduate Ready, Reading Buddy\\nAugust 1, 2014\\nTomorrow\\'s engineers build a better egg drop at summer camp\\nAT&T Vital Link\\nJuly 31, 2014\\nBack to school: Mobile, Baldwin county health departments offer extra immunization clinics\\nJuly 30, 2014\\n\\'Why can\\'t regular school be this way?\\' Middle-schoolers learn hands-on science at summer camp\\nEYE, Graduate Ready\\nJuly 29, 2014\\nHow best to fund technology? Mobile, Baldwin school officials meet with state legislators\\nJuly 25, 2014\\nNew principals assigned to Clark-Shaw Magnet, Envision Virtual schools\\nJuly 22, 2014\\nOpenings Available for Next Week\\'s Engineering Camp\\nEYE, Graduate Ready\\nJuly 18, 2014\\n\\'You have permission to break the rules,\\' Bice tells educators at statewide conference\\nJuly 14, 2014\\nMobile, Pascagoula school districts honored by National School Public Relations Association\\nJuly 9, 2014\\nRegistration opens for Mobile County\\'s online school\\nJuly 9, 2014\\nMobile County school board approves new principal at Turner Elementary; other principals announced\\nJuly 2, 2014\\nJuly 2014 Newsletter\\nJuly 1, 2014\\nTomorrow\\'s movers and shakers: The 2014 Top Academic Team\\nJune 29, 2014\\nAfter-hours education program offers a lifeline to at-risk students\\nEEOP, Graduate Ready\\nJune 17, 2014\\nMobile County school board receives Patriotic Employer Award\\nJune 16, 2014\\nMobile County school system to offer free lunches to all students\\nJune 16, 2014\\nSparks fly as \\'Girls Can\\' campers learn welding, wiring and more\\nJune 13, 2014\\nMobile County school system set to launch virtual school this fall\\nJune 11, 2014\\n 16 comments 40 Mobile County schools may lose assistant principals for new school year\\nMay 31, 2014\\nMay 2014 Newsletter\\nMay 1, 2014\\nApril 2014 Newsletter\\nAT&T Vital Link, Partners in Education, RAMP, Reading Buddy\\nApril 1, 2014\\nWatch Common Core in action: Creating \\'a huge shift\\' in teaching, learning at Gilliard Elementary\\nMarch 19, 2014\\nFebruary 2014 Newsletter\\nEEOP\\nFebruary 1, 2014\\nChickasaw officials seeking students for new school system\\nMay 14, 2012\\nState school board member Ella Bell visits Mobile schools in redrawn district\\nMay 12, 2012\\nMobile County School Board to interview consultants for superintendent search\\nMay 27, 2011\\nMobile County students glad school is out for the summer\\nMay 25, 2011\\nMobile County school board to narrow consultant firm selection\\nMay 25, 2011\\nMurphy High backers speak against Davidson proposal\\nMay 24, 2011\\nFairhope schools group strengthening push to split from Baldwin County Public Schools\\nMay 23, 2011\\nBaldwin County school board OKs changes, start of progressive reforms\\nMay 22, 2011\\nParents upset that children may not be able to attend Satsuma High School\\nMay 21, 2011\\nGraduates should follow etiquette rules, says Mobile school board president\\nMay 21, 2011\\nNorth Mobile County students at Satsuma High School may need new home\\nMay 18, 2011\\nMobile County Public School board approves terminations\\nMay 17, 2011\\nBaldwin County \\'Yes We Can\\' set to present strategic plan\\nMay 15, 2011\\nOld Shell Road Magnet School will add 4th grade next school year\\nMay 5, 2011\\nMobile school board to hold public hearing on keeping Old Shell Road Magnet open\\nMay 2, 2011\\nMobile County school board starts search for new superintendent\\nApril 30, 2011\\nRoy Nichols said successful tax renewal vote helped prompt him to retire as Mobile schools chief\\nApril 22, 2011\\nMobile schools superintendent Roy Nichols announces retirement\\nApril 21, 2011\\nOUR VIEW: The Birmingham Education Foundation, working with city school leaders, has a plan to change the negative perception of city schools\\nApril 17, 2011\\nSatsuma residents approve split from Mobile County School System\\nApril 13, 2011\\nFeds to investigate complaint that white school libraries get better support in Mobile County\\nApril 12, 2011\\nSatsuma residents to vote on split from Mobile County School System\\nApril 10, 2011\\nMobile County school board member proposes new Old Shell Road Magnet School\\nApril 4, 2011\\nMobile County teachers compete for Alabama\\'s Teacher of the Year\\nMarch 31, 2011\\nMobile tax vote for schools offers hope (editorial)\\nMarch 24, 2011\\nLimits on social media communication with students approved by Mobile school board\\nMarch 24, 2011\\nMobile County school tax renewal appears to pass easily\\nMarch 22, 2011\\nMobile County Public School tax renewal vote turnout low today at polls\\nMarch 22, 2011\\nMobile County residents go to polls Tuesday for school renewal tax vote\\nMarch 21, 2011\\nMobile County superintendents campaign for renewal of taxes considered vital for schools\\nMarch 17, 2011\\nRoy Nichols, other officials encourage renewal of tax for schools\\nMarch 16, 2011\\nMobile students campaign for renewal of tax considered critical to schools\\nMarch 14, 2011\\nSatsuma breakaway could cost Mobile public schools $500,000 a year\\nMarch 13, 2011\\nAlabama bill again aims to end early August school start; tourism cited (Political Skinny)\\nMarch 7, 2011\\nSouth Alabama program aims to add science teachers to Mobile schools\\nFebruary 28, 2011\\nMobile County school vote will not create new taxes, supporters stress\\nFebruary 25, 2011\\n\\'No Cussing Day\\' gets coverage from Oprah Winfrey pal (Political Skinny)\\nAcademics, AT&T Vital Link, EYE\\nFebruary 14, 2011\\nOn the record: Fred McCallum, AT&T Alabama president, talks about evolution of the business\\nFebruary 13, 2011\\nMobile County students hope to end year with \\'100 Days of Nonviolence\\'\\nFebruary 11, 2011\\nDothan City School Board Approves YWCD Tax Resolution\\nFebruary 10, 2011\\nJamie Ison says: Look beyond politicians for help with school tax (Political Skinny)\\nFebruary 7, 2011\\nAlabama school reserve accounts running dry; superintendents brace for cuts\\nFebruary 7, 2011\\nWill Old Shell Road Magnet move to Spencer Elementary School? (with photo gallery)\\nFebruary 5, 2011\\nTax renewal rejection could mean loss of 400 teachers, say Mobile officials\\nFebruary 3, 2011\\nCase study from “Building a Grad Nation: Progress and Challenge in Ending the High School Dropout Epidemic”\\nFebruary 3, 2011\\nYes We Can Dothan provides example for Baldwin County\\'s educational initiative\\nFebruary 1, 2011\\nMobile County schools names Teachers of the Year\\nJanuary 30, 2011\\nCheerleading squads to see changes to tryouts, loss of freshman teams\\nJanuary 30, 2011\\nNorthrop Grumman awards $60,000 in education grants\\nJanuary 26, 2011\\n\\'No Cussing Day\\' set after push by middle school students\\nJanuary 25, 2011\\nTeacher\\'s contact with student has Mobile public school officials creating Facebook guidelines\\nJanuary 25, 2011\\nSchool distance key issue in proposed Satsuma split from Mobile public schools\\nJanuary 24, 2011\\nChickasaw officials say higher taxes needed for school split\\nJanuary 24, 2011\\nFairhope group drops school split effort\\nJanuary 22, 2011\\nSatsuma to vote on split from Mobile County Public School System\\nJanuary 20, 2011\\nBaldwin County Education Coalition asks for school board funding\\nJanuary 20, 2011\\nNew Mobile chamber chairman says top goal is supporting school property tax renewal\\nJanuary 19, 2011\\n6 Mobile County schools named Torchbearers for teaching high-poverty students\\nJanuary 19, 2011\\nMobile County voters to determine fate of school taxes on March 22\\nJanuary 16, 2011\\nMobile schools win praise for education of black students, poor students\\nJanuary 6, 2011\\nMobile County school board picks four campuses to renovate\\nJanuary 4, 2011\\nMobile County schools getting extra $3 million for renovation projects\\nDecember 28, 2010\\nThyssenKrupp property taxes worth $5.4 million for schools this year\\nDecember 27, 2010\\nHollingers Island students decorate pink Christmas tree for principal\\nDecember 23, 2010\\nMobile County schools got $1,233 per student in federal stimulus funds\\nDecember 20, 2010\\nPrisons the biggest recipient of Alabama\\'s education stimulus dollars\\nDecember 19, 2010\\nEditorial: Yes, Baldwin can make schools better\\nDecember 19, 2010\\nBaldwin schools, Coalition set to draft \\'Yes We Can\\' strategic plan\\nDecember 19, 2010\\nBaldwin County school board members hear Yes We Can presentation, set item for vote\\nDecember 16, 2010\\nBaldwin County Coalition to pitch \\'Yes We Can\\' agreement\\nDecember 14, 2010\\nSchool system to tear down old Blount, Hillsdale, Glendale schools\\nNovember 30, 2010\\nMobile County school system spends more on administrative costs than other districts\\nNovember 28, 2010\\nMobile County, Saraland schools seek vote on tax called critical for operations\\nNovember 19, 2010\\nMobile school board asks legislators to pass realistic budget this year\\nNovember 18, 2010\\nAlabama school districts get D on Sunshine Review of Internet information\\nNovember 17, 2010\\nNot in my backyard: Residents resist idea of alternative school in the neighborhood\\nNovember 14, 2010\\nMobile County\\'s new alternative school already at capacity\\nNovember 14, 2010\\n100 Black Men group still mentoring, tutoring at alternative school\\nNovember 14, 2010\\nMobile City Council cool toward idea of split from Mobile County Public Schools\\nNovember 13, 2010\\nSchool nurses spread thin over Mobile County schools\\nNovember 11, 2010\\nMobile County school officials shocked to learn of Chickasaw split\\nNovember 9, 2010\\nSpring Hill College undergrads tutor LeFlore students for ACT test\\nNovember 8, 2010\\nOfficials: Mobile schools doing better, but need to improve grad rate\\nNovember 5, 2010\\nMobile County students who fail a test must be allowed to retake it\\nOctober 25, 2010\\nMobile County students will get report cards a week late\\nOctober 17, 2010\\nWorkforce forum targets training\\nOctober 13, 2010\\nGraduation coaches making measurable differences with high school students\\nOctober 11, 2010\\nB.C. Rain High School graduation rate target of $1.6 million federal grant\\nOctober 10, 2010\\nLocal school superintendents heading oil spill recovery committee\\nOctober 9, 2010\\nStudent drug testing cut back in Mobile County as budget woes linger\\nOctober 8, 2010\\nSatsuma mulls split from Mobile County schools\\nOctober 5, 2010\\nAfter student stabbing, Mobile public schools to hire uniformed guards\\nOctober 4, 2010\\nMobile County school board tours 3 schools in tough shape\\nOctober 3, 2010\\nOil spill recovery commission lacks K-12 voice, says Mobile school board president\\nSeptember 30, 2010\\nMobile County public school enrollment stable after 3-year decline\\nSeptember 28, 2010\\nMobile County school board wants $15 million from state to renovate 4 schools\\nSeptember 23, 2010\\nUnexpected school construction money leads to emergency Mobile County school board meeting\\nSeptember 23, 2010\\nPhoto gallery: Students gather for prayer during See You at the Pole\\nSeptember 22, 2010\\nVideo: Anna Booth Elementary School wins Blue Ribbon from Department of Education\\nSeptember 21, 2010\\nProration means $6 million loss for Mobile County schools, $2 million for Baldwin Schools\\nSeptember 17, 2010\\nLoss of assistant principals spreads Mobile County school staffs thin\\nSeptember 15, 2010\\n\\'Yes We Can\\' school meetings continue around Baldwin County\\nSeptember 12, 2010\\n\"Yes We Can\" meeting set Tuesday in Spanish Fort\\nSeptember 10, 2010\\nGrant aims to improve school for problem kids; Mobile\\'s Continuous Learning Center, rated a troubled school, will benefit\\nSeptember 6, 2010\\nMobile County school students face registration headaches\\nSeptember 1, 2010\\nMobile County school students face registration headaches\\nSeptember 1, 2010\\nEven with charter schools, Alabama would have flunked Race to the Top\\nAugust 29, 2010\\nWhat you\\'re saying: Charter schools or not, Alabama flunks Race to the Top\\nAugust 29, 2010\\nEducation secretary visits George Hall Elementary, says Mobile school is model of improvement\\nAugust 28, 2010\\nAEA to Mobile school board: Hire teachers with jobs bill money\\nAugust 25, 2010\\nMobile County schools superintendent wants to spend $3 million from Jobs Bill, save the rest\\nAugust 20, 2010\\nPrincipals, counselors plead with Mobile County school leaders to maintain 12-month schedule\\nAugust 19, 2010\\nHere\\'s your chance to \"Speak Up\" on the future of Huntsville, Madison and Madison County schools\\nAugust 18, 2010\\nRecord number of Alabama students take ACT; top 5 college choices named\\nAugust 18, 2010\\nCarolyn Akers eager to bring her fix-it mentality to area schools\\nAugust 17, 2010\\n5 of state\\'s high-poverty, high-performing schools in Mobile County\\nAugust 16, 2010\\nMobile County won\\'t use new federal funding to hire teachers\\nAugust 13, 2010\\nState\\'s high school graduation rates could be deceiving\\nAugust 9, 2010\\nMobile County school board to BP: Build us a career-tech school\\nAugust 8, 2010\\nIt will be cool -- literally, at least -- to be back in school Monday for Mobile, Saraland students\\nAugust 7, 2010\\nSome Mobile, Baldwin county students return to chilly classrooms\\nAugust 6, 2010\\nNew group asks public to \\'Speak Up\\' about what schools should do\\nAugust 6, 2010\\nPlan to use Chickasaw building as temporary alternative school draws leaders\\' ire\\nAugust 5, 2010\\nMobile County school board approves construction of 3 new schools\\nJuly 29, 2010\\nAlabama passed over again for Race to the Top funds\\nJuly 28, 2010\\nSuperintendent Roy Nichols to lead school tax campaign in Mobile Count\\nJuly 25, 2010\\nMobile County schools superintendent gets high marks from school board\\nJuly 23, 2010\\nMobile County school board wants to build 3 new schools\\nJuly 23, 2010\\nSchool construction likely to be hot topic at Mobile County school board retreat\\nJuly 20, 2010\\nPay cuts, job eliminations approved by Mobile County school board\\nJuly 16, 2010\\nTop Academic Team: Press-Register honors 14 stellar high school graduates\\nJuly 11, 2010\\nInnovation\\nJuly 2, 2010\\nMobile schools chief rejects 100 Black Men of Greater Mobile\\'s alternative school proposal\\nJune 30, 2010\\n100 Black Men may lose Phoenix alternative school in Mobile County\\nJune 26, 2010\\nSchool bus route cuts likely in Mobile County, superintendent says\\nJune 20, 2010\\nMobile County school board OKs more layoffs, transfers\\nMay 26, 2010\\nMobile County schools superintendent wants to borrow $25 million for construction\\nMay 26, 2010\\nState threatens takeover if Mobile County school board doesn\\'t make cuts\\nMay 23, 2010\\nNational survey says 25 Alabama school systems know \"what parents want\"\\nMay 17, 2010\\nMobile schools superintendent threatens to burn building in way of construction\\nMay 11, 2010\\nMobile public schools begin phasing out deep fryers, aim for healthier lunches\\nMay 10, 2010\\nMobile County school cuts fall heavily on bus drivers, maintenance workers\\nMay 6, 2010\\nMobile county school board member Levon Manzie works alongside school employees\\nMay 2, 2010\\nMobile\\'s Teachers of the Year get news in their classrooms\\nApril 30, 2010\\nNichols: Fewer Mobile County teacher losses than feared, but tough cuts ahead\\nApril 23, 2010\\nLeFlore student stands out, wears tie to school every day\\nApril 18, 2010\\nMobile\\'s contribution to school system to continue, city spokeswoman says\\nApril 4, 2010\\nAlabama House set to debate bare-bones education budget \\nMarch 30, 2010\\nMobile County schools maintenance staff go to triage as budget cuts pinch\\nMarch 29, 2010\\nMobile County schools\\' population in steady decline\\nMarch 21, 2010\\nMobile school budget cuts could cost 350 teachers their jobs\\nMarch 19, 2010\\nMobile superintendent drops plan to change high school attendance borders\\nMarch 15, 2010\\nAlabama House set to debate bare-bones education budget\\nMarch 10, 2010\\nMobile County school board president Bill Meredith won\\'t seek re-election\\nMarch 9, 2010\\nAlabama not to Race to the Top\\nMarch 4, 2010\\nPublic input key in school improvement plan\\nMarch 2, 2010\\nAlabama to start using new formula to measure high school dropout rate\\nFebruary 25, 2010\\nMobile County high schools to switch to new class schedule\\nFebruary 19, 2010\\nA good blueprint for cutting dropout rate\\nFebruary 17, 2010\\nMobile mayor Sam Jones wants to cut dropout rate in half in 4 years\\nFebruary 12, 2010\\nAlabama House committee blocks charter school proposal\\nFebruary 10, 2010\\nAlabama House committee blocks charter school proposal\\nFebruary 10, 2010\\nCool career ideas for fourth-graders\\nFebruary 6, 2010\\nSchool board approves plan to allow early high school graduation\\nJanuary 27, 2010\\nGeorge Hall Elementary School\\'s improvement highlighted by U.S. Department of Education\\nJanuary 24, 2010\\nMobile County school board mulls early graduation option for high school students\\nJanuary 22, 2010\\nGEORGE HALL BEING FILMED\\nJanuary 21, 2010\\nState officials promise to improve education in application for Race to the Top funds\\nJanuary 20, 2010\\nSix gubernatorial candidates take 6 different approaches to school reform\\nJanuary 13, 2010\\nAlmost 1,000 students have \\'dropped back in\\' through alternative program for earning diplomas\\nJanuary 10, 2010\\nFunding crises, schools closing, graduation toughening: Top school stories of 2009\\nAT&T Vital Link\\nDecember 31, 2009\\nGov. Bob Riley to push for establishment of charter schools in Alabama\\nAT&T Vital Link, Harold Dodge Fund A Star\\nNovember 18, 2009\\nTeen seminar brings message of empowerment\\nNovember 15, 2009\\nMobile Engineers a Dynamic School System\\nSeptember 23, 2009\\nMobile should be our example for cooperation\\nNovember 16, 2008\\nTeachers Seeking Community Involvement\\nNovember 13, 2008\\nWiregrass Newsroom: Dothan Considering Uniforms For City Schools\\nNovember 13, 2008\\n\"Yes We Can!\" Group Announces Community Agreement\\nOctober 21, 2008\\nEducation Initiative says \"Yes We Can Dothan\"\\nJuly 16, 2008\\nSouth Carolina Local Coalition Seeking Lessons from Alabama School Partnership\\nJanuary 14, 2008\\n15th Anniversary Press Release\\nDecember 6, 2007\\nHarold Dodge accepts position at USA\\nNovember 27, 2007\\nCarolyn Akers receives Leadership Alabama Distinguished Alumna Award\\nOctober 10, 2007\\nIn Some Districts, Outside Groups Have Inside Track\\nNovember 29, 2006\\nIn Some Districts, Outside Groups Have Inside Track\\nNovember 29, 2006\\nGood Schools Can Happen\\nAugust 27, 2006\\nHome\\n | \\nAbout\\n | \\nOur Work\\n | \\nOur Impact\\n | \\nNews/ Media\\n | \\nSupport\\n | \\nContact\\n© 2018 Copyright Mobile Area Education Foundation.  All rights reserved. | Site by \\n Web and New Media\\n'),\n",
       "  ('http://www.maef.net/support/',\n",
       "   'False',\n",
       "   '1',\n",
       "   'tion Foundation\\nMake a secure online contribution to the Mobile Area Education Foundation\\nThank you for considering an online contribution to the Mobile Area Education Foundation. With every dollar contributed toward financing and enriching our programs, your investment in the MAEF is an effective and efficient way to be engaged in the betterment of public education for all children in Mobile County Public Schools. Thank you for your support!\\nMake a Contribution\\nIf you prefer to send a check to support and ensure that every child reaches their potential.\\nPrint Donation Form\\nMake check payable to Mobile Area Education Foundation, and mail to:\\nMobile Area Education Foundation\\n605 Bel Air Blvd\\nSuite 400\\nMobile, AL 36606\\nContributions to the Mobile Area Education Foundation, a tax-exempt organization under Section 501(c)(3) of the Internal Revenue Code, are deductible for computing income and estate taxes. \\nContact Us\\n about how you can align your contribution to your personal interests.\\nVolunteer Opportunities\\nThe Mobile Area Education Foundation offers a variety of Volunteer Opportunities. We ask that you take a moment to review our volunteer opportunity descriptions and sign-up today.\\nPartners in Education\\nCurrently, the Partner in Education Program in Mobile County links over 1,000 businesses, organizations, churches and individuals, who make an annual impact of over $2.3 million to our schools in Mobile County. The PIE Partnerships have one common theme, improving the quality of education in Mobile County for every child. The PIE program is coordinated for the Mobile County Public School System by the Mobile Area Education Foundation. We are seeking volunteers to provide support to a local public school.\\nVolunteer!\\nACCEL Day and Evening Academy\\nACCEL Day and Evening Academy incorporates the\\xa0theory that students are best motivated to learn if they understand the connection between skills learned in the class and those needed for success in the workplace. ACCEL students will explore career options as\\xa0interns in Mobile businesses to experience the importance of communication skills, mathematics, creativity, problem solving and teamwork. We need businesses to provide internships for ACCEL students.\\nVolunteer!\\nEngaging Youth in Engineering\\nA critical component of EYE is the involvement of business and industry volunteers, as well as engineering students from the University of South Alabama, both to assist teachers as they implement the engineering curriculum and mini-units and to mentor students. Research is clear that the likelihood of a student choosing to be an engineer is greatly enhanced when there is an engineer in the immediate family or when the student has had exposure to engineers as mentors.\\nVolunteer!\\nRAMP\\nThe RAMP UP Extended Learning Experience and Summer Transition programs help students improve their academic performance by partnering with community volunteers to create a roadmap to graduation. Volunteers play a vital role in showing students what it takes to be successful and how to set and reach goals.\\nVolunteer!\\nReading Buddy\\nOne mentor-one child-one book at a time but it has a profound impact on a child’s reading-related skills and self-esteem. Classroom volunteers are needed to listen to a child read. Reading aloud to someone is one of the best ways for a child to become a proficient, fluent reader.\\nVolunteer!\\nWant to be involved, but your schedule doesn’t allow you to…support our programs and initiatives through monetary donations.\\nContribute Now\\nWe Appreciate Our Contributors\\nCorporations\\r\\nAirbus Americas\\nAlabama Power\\nAM/NS Calvert\\nAT&T\\nBankTrust\\nBB&T Bank\\nBBVA Compass Bank\\nBurton Property Group\\nCamille’s Sidewalk Cafe’ & Clark’s Kitchen\\nCentury Bank\\nCity of Mobile\\nCommunity Foundation of South Alabama\\nGoodwyn, Mills, & Cawood\\nHand Arendall LLC\\nHargrove Engineers + Constructors\\nHolmes and Holmes Architects\\niBeriabank\\nJ.L. Bedsole Foundation\\nJunior League of Mobile\\nLeavell Investment Management\\nLLB&B Real Estate\\nLucy C. McVay through the Daniels Foundation\\nLyon Fry Cadden Insurance Agency, Inc.\\nMaynard, Cooper, and Gale\\nMcDowell, Knight, Roedder and Sledge\\nMitsubishi Polysilicon America Corporation\\nMobile County Comission\\nMobile Gas – A Sempra Company\\nPhelps Dunbar\\nRegions Bank\\nRoberts Brothers Inc.\\nRogers & Willard Inc.\\nSaad Enterprises Inc.\\nSSAB\\nSouthern Light\\nST Mobile Aerospace Engineering\\nSybil Smith Charitable Trust\\nThames Batre Mattei Beville and Ison\\nThe Drummond GroupThe Press-Register\\nThe Grounds\\nTrustmark Bank\\nToyota USA Foundation\\nUSA DuPont Agricultural Products\\nVallas Realty\\nVance McCown Construction\\nWells Fargo\\nWhite-Spunner Construction\\nIndividuals\\r\\nKarlos Finley\\nMelissa Morrissette\\nKaren Atchison\\nGuy Helmsing\\nPreston Bolt\\nMike Marshall\\nPhil Tyus\\nJay Ross\\nMichael Hofto\\nGlenn Hodge\\nGaylord Lyon, Jr.\\nConrad & Gigi Armbrecht\\nRichard Hayes\\nJanelle Finley Adams\\nSam Covert\\nCarlos Williams\\nBarbara & Bernard Malkove\\nJohn & Lynda Finley\\nRuth Austill\\nLouise Houston\\nElizabeth Latham\\nKatherine Webster\\nLucy Lyons\\nRobbie Baker\\nNicholas Holmes, III\\nRenea & Pete Burns\\nMr. & Mrs. Andrew J. Crane\\nCaroline Gaillard\\nVirginia & Garner Jeffery\\nRonnie McDonough\\nBeth & Henry Morrissette\\nFran & Winchester Thurber\\nChuck Harmon\\nDr. Richard Hayes\\nMark Spivey\\nSharon McDonough\\nCheryl Thompson\\nParks & Andrea Moore\\nHenry O’Connor\\nJim Walker\\nRob McGinley\\nContina Woods\\nShayla Jones Beaco\\nElissa E. Watkins\\nMr. & Mrs. William B. Sisson\\nJim Walker\\nCarol Statter\\nWilliam & Elizabeth Hanes\\nBeth Morrissette\\nAnn Bedsole\\nSearch\\nQuick Links\\nMake a Contribution\\nVolunteer\\nContributors\\nHome\\n | \\nAbout\\n | \\nOur Work\\n | \\nOur Impact\\n | \\nNews/ Media\\n | \\nSupport\\n | \\nContact\\n© 2018 Copyright Mobile Area Education Foundation.  All rights reserved. | Site by \\n Web and New Media\\n'),\n",
       "  ('http://www.maef.net/',\n",
       "   'False',\n",
       "   '0',\n",
       "   \"Evening Academy\\nAlabama's first tuition-free public charter school serves high school students in grades 9-12 from Mobile, Baldwin, and Washington Counties. ACCEL provides a challenging college-preparatory curriculum, individualized instruction, small class sizes, and engaging use of technology in a safe, supportive environment to ensure students graduate college and career ready. Enrollment is now OPEN\\nLearn More\\nWelcome to the Mobile Area Education Foundation\\n75K Degrees\\nEvidence2Success\\nGraduate Ready\\nYes We Can: Building a Blueprint for Equity and Excellence in Mobile’s Schools  \\nACCELerate Day and Evening Academy\\nEducation Commission\\nEngaging Youth Through Engineering\\nHarold Dodge Fund-A-S.T.A.R.\\nPartners in Education\\nReading Buddy\\nResearch Alliance for Multiple Pathways (RAMP)\\nSuperintendent’s Student Advisory Council\\nVital Link 2.0\\nThe Mobile Area Education Foundation is a nonprofit organization dedicated to improving our local public schools. Founded in 1992, our mission is to build community responsibility for improving public education outcomes in Mobile County. We work with, but are independent of, the Mobile County Public School System.\\nOur Impact\\nMAEF, in partnership with the school district and business and civic leaders across Mobile County, is increasing the chances that students will \\nGraduate Ready\\n for college and careers.\\nView Impact\\nOur Priorities\\nGraduate Ready\\n is more than just an initiative of MAEF. It is strategic focus for every program and activity of the organization. It is a North Star that focuses our direction in every engagement, with every partner. \\nLearn More\\nJoin Us\\nMobile Area Education Foundation is working to create a better community, one graduate at a time. We know we can’t do this alone. Every volunteer hour, and every dollar contribution, puts us one step closer to improving the quality of life for every resident of Mobile County. \\nAct Now\\nRegister\\nWould you like to volunteer to help?\\nStart Here\\nUpcoming Events\\nNew Student Orientation\\nACCEL Informational Meetings\\nACCEL is now ACCEPTING Applications!\\nFeatured\\nWhat’s Working\\nU.S. education secretary visits Mobile\\nGet Connected!\\nA United Way Agency\\nHome\\n | \\nAbout\\n | \\nOur Work\\n | \\nOur Impact\\n | \\nNews/ Media\\n | \\nSupport\\n | \\nContact\\n© 2018 Copyright Mobile Area Education Foundation.  All rights reserved. | Site by \\n Web and New Media\\n\"),\n",
       "  ('http://www.maef.net/our-work/initiatives/graduate-ready',\n",
       "   'False',\n",
       "   '1',\n",
       "   't Graduate Ready\\nGraduate Ready is a collaborative initiative of education, civic and business leaders aimed at ensuring that all students in Mobile County are:\\nPrepared for success in college and the workplace\\nAble to apply learning in the real world\\nEquipped with 21st century workforce skills\\nThe purpose of the Graduate Ready is to provide multiple personalized pathways and whole child supports for every child that ensure a better quality of life for every citizen of Mobile County.\\nThe four key strategies of the Graduate Ready initiative include:\\nEnsure high-quality teaching and learning from Pre-K through 12th grade\\nTransform all secondary schools to ensure that all students graduate from high school ready for college and career.\\nEnsure postsecondary access and completion\\nSustain improvements through continued education, business and civic leadership\\nA key component of Graduate Ready is the creation of signature Career Academies at each of Mobile County’s 12 high schools. These academies align closely with the business community and with colleges and universities to prepare students for careers that are growing and thriving in Mobile. Business partner involvement is crucial to this endeavor, to provide opportunities such as internships, teacher externships, shadowing, classroom presentations, and mentoring to students enrolled in these academies.\\nBy 2015, all Mobile County public high schools will have a signature academy and a corresponding business advisory group that will provide hands-on working environments geared toward supporting college and career readiness.\\nGraduate Ready is more than just an initiative of MAEF. It is strategic focus for every program and activity of the organization. It is a North Star that focuses our direction in every engagement, with every partner.\\nFor more information on Graduate Ready, please contact \\nChandra Scott\\n.\\nGraduate Ready: Four Strategic Points\\nGraduate Ready sets four strategic priorities for the Mobile community:\\nPriority #1: Support high-quality teaching and learning\\nEducation research is very clear that the single greatest factor for improving student achievement is the quality of the teacher. Students can never graduate ready for college and careers without having consistent, high-performing teachers throughout their school years. Mobile County has many excellent teachers. But we need an effective teacher in every classroom. To help all teachers, we also need high-quality instructional leadership in every school. And our students need high-quality academic and enrichment out-of-school supports to extend their learning and growth before school, after school and in the critical summer months.\\nPriority #2: Create middle and high schools that prepare students for the 21st Century\\nMobile County has made significant progress with its elementary school performance, providing students a solid foundation for middle and high school. However, in middle and high school, student engagement and motivation drops off sharply. While our graduation rate is increasing, it’s still not high enough. Furthermore, many students who receive a high school diploma in Mobile do not have the skills they need to be successful in college and careers. To ensure that every student in Mobile County is ready for the challenges they face after high school, we must put the same energy and resources into transforming our secondary schools that we put into our elementary schools.\\nPriority #3: Invest in student success after high school\\nA strong K-12 system is the foundation for college- and career-ready young Mobilians. But simply graduating with a high school diploma is not enough. Many students still need support and guidance to get into college and to persist in addressing the challenges they face in achieving their college and career goals. In Mobile County, we lack a coordinated network of supports for students after high school. Such a network can help students access postsecondary opportunities, apply for and receive the financial aid they require, and get the mentoring and advice they need to persist in their goals and, ultimately, to attain gainful employment and promotable opportunities.\\nCollege and Career Resources\\nPriority #4: Support Graduate Ready by investing in MAEF\\nMAEF is the premier community-based, non-profit organization focused on improving preK-20 public education in Mobile County. For nearly 30 years, MAEF has helped to change local policy, transform local schools and engage countless citizens in efforts that have increased student achievement and narrowed the achievement gap for deserving students. MAEF has a proven track record of stewardship and performance and serves as the fiscal agent for all county-side activities related to ensuring that Graduate Ready goals are met.\\nContribute Now\\nSearch\\nQuick Links\\nPriority 1: Support\\nPriority 2: Prepare\\nPriority 3: Success\\nPriority 4: Invest\\nHome\\n | \\nAbout\\n | \\nOur Work\\n | \\nOur Impact\\n | \\nNews/ Media\\n | \\nSupport\\n | \\nContact\\n© 2018 Copyright Mobile Area Education Foundation.  All rights reserved. | Site by \\n Web and New Media\\n'),\n",
       "  ('http://www.maef.net/graduate-ready-articles/maef-gets-approval-for-alabamas-first-charter-school/',\n",
       "   'False',\n",
       "   '2',\n",
       "   'ashboard\\nSearch\\nMAEF gets approval for Alabama’s first charter school\\nThe Alabama Public Charter School Commission approved the foundation’s application to open the Accel Day and Evening Academy, which will be designed for students 16 and older who have dropped out or fallen behind. (\\nRead more…\\n)\\nSource: \\nAL.com\\nHome\\n | \\nAbout\\n | \\nOur Work\\n | \\nOur Impact\\n | \\nNews/ Media\\n | \\nSupport\\n | \\nContact\\n© 2018 Copyright Mobile Area Education Foundation.  All rights reserved. | Site by \\n Web and New Media\\n.'),\n",
       "  ('http://www.maef.net/thank-you/',\n",
       "   'False',\n",
       "   '2',\n",
       "   'Search\\nThank You\\nTHANK YOU FOR COMMITTING TO BECOMING A CHAMPION!\\n75K CHAMPIONS\\nFirst\\xa0Name\\nLast Name\\nAffiliation\\nCommitment\\n\\xa0Chandra\\n\\xa0Scott\\nMobile Area Education Foundation\\nWe will COMMIT shared resources and responsibility (business, college/university, faith-based, organizations, PreK-12 schools)\\n\\xa0Janelle\\n\\xa0Adams\\nI will VOLUNTEER and get involved\\n\\xa0Nathan\\n\\xa0Adams\\nWe will COMMIT shared resources and responsibility (business, college/university, faith-based, organizations, PreK-12 schools)\\n\\xa0Kearsten\\n\\xa0Blakely\\nSuperintendent Student Advisory Council\\nI will ATTAIN 1 of the 75,000 degrees/credentials by 2030\\n I will VOLUNTEER and get involved\\n We will COMMIT shared resources and responsibility (business, college/university, faith-based, organizations, PreK-12 schools)\\nJuwuan\\nTurner-Howard\\nI will ATTAIN 1 of the 75,000 degrees/credentials by 2030\\n\\xa0Taylor\\n\\xa0Annerino\\nSuperintendent Student Advisory Council\\nWe will COMMIT shared resources and responsibility (business, college/university, faith-based, organizations, PreK-12 schools)\\n\\xa0Carolyn\\n\\xa0Akers\\n\\xa0Mobile Area Education Foundation\\nWe will COMMIT shared resources and responsibility (business, college/university, faith-based, organizations, PreK-12 schools)\\n\\xa0Andrea\\n\\xa0Pennington\\n\\xa0Retired, Strickland Youth Center\\n\\xa0I will VOLUNTEER and get involved\\n\\xa0Jerry\\n\\xa0Williams\\nI will ATTAIN 1 of the 75,000 degrees/credentials by 2030\\nI will VOLUNTEER and get involved\\n\\xa0Monica\\n\\xa0Prestage\\nI will ATTAIN 1 of the 75,000 degrees/credentials by 2030\\n\\xa0Tonya\\n\\xa0Keelen\\nBishop State Community College Student\\nI will ATTAIN 1 of the 75,000 degrees/credentials by 2030\\n I will VOLUNTEER and get involved \\nWe will COMMIT shared resources and responsibility (business, college/university, faith-based, organizations, PreK-12 schools)\\nAva\\nBarbour\\nRetired Educator AL and MS\\nI will VOLUNTEER and get involved\\nLinda\\nRobinson\\nMurphy HS\\nI will VOLUNTEER and get involved\\nAmber\\nHarris\\n\\xa0Bishop State Community College\\nI will ATTAIN 1 of the 75,000 degrees/credentials by 2030\\nShashon\\nPaige\\nChickasaw High School\\nI will ATTAIN 1 of the 75,000 degrees/credentials by 2030\\nKaytlin\\nJunkins\\nChickasaw High School\\nI will ATTAIN 1 of the 75,000 degrees/credentials by 2030\\nApril\\nBritt\\nChickasaw High School\\nI will ATTAIN 1 of the 75,000 degrees/credentials by 2030\\nHome\\n | \\nAbout\\n | \\nOur Work\\n | \\nOur Impact\\n | \\nNews/ Media\\n | \\nSupport\\n | \\nContact\\n© 2018 Copyright Mobile Area Education Foundation.  All rights reserved. | Site by \\n Web and New Media\\n'),\n",
       "  ('http://www.maef.net/our-work/initiatives/yes-we-can/',\n",
       "   'False',\n",
       "   '1',\n",
       "   'tact\\nDashboard\\nYes We Can: Building a Blueprint for Equity and Excellence in Mobile’s Schools\\nAbout Yes We Can: Building a Blueprint for Equity and Excellence in Mobile’s Schools\\nYes We Can, one of MAEF’s best-known and most significant initiatives, is a structured and deliberative community engagement process designed to gather citizen input on issues related to the community and the schools that serve it. The process was created by Carolyn Akers and used first in Mobile after the historic tax referendum passed in 2001.\\nThe goal of the first round of Yes We Can community conversations was convened to launch the creation of a genuinely community-driven, student-centered strategic plan for the Mobile County Public School System. Up until Yes We Can, the school district had created strategic plans, but without the insight and from a broad representation of cross-sector community participation. This strategic planning process was different; it was “co-owned” by the community and the school system.\\nBolstered by what was then the new federal “No Child Left Behind” law, and motivated in large part by the Yes We Can Community Agreement that resulted from this community engagement, the Mobile County School Board joined forces with MAEF and the growing community school reform coalition. Together, they developed an unprecedented performance-based strategic plan for the school system, underscoring a shared commitment to making student achievement and organizational accountability their top priorities.\\nIn 2003, at the end of that historic strategic planning process, another round of community engagement was convened across Mobile County to update and revisit the community-driven strategic plan. This new plan, called the PASSport to Excellence, was based on the Baldrige Quality standards, then considered the most rigorous and effective model for reshaping educational organizations to create high-performance results.\\nThen again in 2006, another round of Yes We Can engagement focused on 35 community meetings, starting September 28, 2006, that took place for seven consecutive Thursday nights across Mobile County. Each meeting, attended by stakeholders across a number of sectors in the community—including educators, parents, business and community leaders, students and higher education officials—served two purposes. The first objective of these community meetings was to take what Akers called a “victory lap,” acknowledging the changes made in the community and school system as a result of the 2001 tax increase. The second purpose was to tap citizen concerns and aspirations for what the school system needed to do next to meet their expectations for high-quality schools in Mobile County.\\nIn addition to providing meaningful citizen engagement into education in Mobile County, the Yes We Can brand has become synonymous with citizen engagement that led to higher accountability for results that led to actual improvements in school and student performance. Because the process led to tangible and demonstrable results, cities across Alabama, including Birmingham and Dothan, as well as cities in states across the country, such as Baton Rouge, LA; Jacksonville, FL; and Oshkosh, WI, have used Yes We Can as model for engaging their own citizens in the process of improving their local public schools.\\nSearch\\nGraduate Ready\\nClick here\\n to learn more about what MAEF is doing to ensure that all Mobile County students Graduate Ready.\\nQuick Links\\nHome\\n | \\nAbout\\n | \\nOur Work\\n | \\nOur Impact\\n | \\nNews/ Media\\n | \\nSupport\\n | \\nContact\\n© 2018 Copyright Mobile Area Education Foundation.  All rights reserved. | Site by \\n Web and New Media\\n'),\n",
       "  ('http://www.maef.net/our-work/programs/accel/',\n",
       "   'False',\n",
       "   '1',\n",
       "   'ation (ACCEL) Da\\ny and Evening Academy is Alabama’s first tuition-free public charter school. ACCEL serves high school students in grades 9-12 from Mobile, Baldwin, and Washington Counties. It provides a challenging college-preparatory curriculum, individualized instruction, small class sizes, and engaging use of technology in a safe, supportive environment to ensure students graduate college and career ready. Through ACCEL, students can graduate more quickly or catch up if they have fallen behind or dropped out.\\nENROLL in ACCEL!\\nIf you are interested in enrolling in the 2018-2019 school year at ACCEL Day and Evening Academy, please complete the online \\nINTEREST FORM\\n\\xa0|\\xa0\\nView FAQ\\nFor more information visit \\nACCEL’s Website\\nGraduation Ceremony was held Tuesday, May 22, 2018 at 6:00 PM at The Steeple (251 St. Francis St.) View \\nprogram booklet\\n and \\nphotos\\n.\\nJ-Term Schedule\\nView\\xa0\\n2018-2019 Calendar\\nJOIN THE ACCEL TEAM!\\nThe community and students we serve are diverse, and we are committed to reflecting that diversity in our staff. We strive to have the most diverse applicant pool possible. Thus, we encourage individuals of all backgrounds to apply for any position at ACCEL Day and Evening Academy. By fostering a diverse and inclusive environment, we provide the best educational experience to prepare our students for a future reflective of the world in which we live. \\nWant to join the ACCEL Team?\\xa0 We are seeking to fill the following positions:\\nStudent Support Coordinator\\nACCEL Teacher\\nACCEL School Advocate Counselor\\nThe Vision\\nThe vision of the ACCEL Day and Evening Academy is to re-engage and inspire youth to unlock their academic potential and graduate high school as life-long learners, ready for college, careers, and civic life.\\nThe Mission\\nThe mission of ACCEL Day and Evening Academy is to connect to students’ gifts and passions through personalized learning pathways that build students’ academic skills, professional mindsets, and social and emotional well-being, so they are prepared for college and careers. This mission is guided by five core values:\\nAchievement underscores the belief that we can reach our goals through focus and hard work.\\nCollaboration reminds us that we can be our best and achieve the most when we work well with others.\\nCare emphasizes that we must show appreciation and concern for our community and fellow-man.\\nEmpowerment means that we must take the initiative to give voice and power to our interests in a responsible way.\\nLifelong-Learning encourages students to seek “learning” in and out of school for the rest of their lives.\\nTo learn more about ACCEL, view our \\nwebsite\\n.\\n\\xa0#LaunchingDreamsAcceleratingSuccess\\nIn the News\\nThe Accelerator (05/17/2018)\\n- ACCEL’s newsletter\\nThe Accelerator (11/16/2017)\\n – ACCEL’s newletter\\nThe Accelerator (10/13/2017)\\n – ACCEL’s newsletter\\nThe Accelerator (9/15/2017)\\n – ACCEL’s newsletter\\nThe Accelerator (8/25/2017)\\n – ACCEL’s newsletter\\nMobile foundation gets approval for Alabama’s first charter school\\n (Source: AL.com)\\nAlabama’s first charter school launches in Mobile County\\n\\xa0(Source: local15tv.com)\\nACCEL Academy: Take a first look inside Alabama’s first charter school\\n (Source: AL.com)\\nAlabama’s first charter school will be in Mobile\\n (Source: local15tv.com)\\nMobile gets Alabama’s first charter high school\\n (Source: local15tv.com)\\nContact Us\\nFor more information, please contact:\\nDr. Jeremiah Newell | (251)\\xa0301-0050 | \\naccel@maef.net\\n3100 Cottage Hill Road | Mobile, AL 36606\\nIf you are interested in enrolling in the 2018-2019 school year at ACCEL Day and Evening Academy, please complete the online\\xa0\\nINTEREST FORM\\n.\\nLike us on Facebook: \\n@ACCELCharter\\nFollow us on Twitter: \\n@ACCELCharter\\nFollow us on Instagram: \\n@ACCELAcademy\\nSearch\\nQuick Links\\nENROLL in ACCEL\\nJOIN THE ACCEL TEAM\\nMEET THE ACCEL TEAM\\nThe Vision / The Mission\\n2018-19 Calendar\\nEvents Calendar\\nUniform Policy\\nBoard of Education\\nMerit Scholars\\nPALS schedule\\nINOW\\nACCEL Photo Gallery\\nContact Us\\nHome\\n | \\nAbout\\n | \\nOur Work\\n | \\nOur Impact\\n | \\nNews/ Media\\n | \\nSupport\\n | \\nContact\\n© 2018 Copyright Mobile Area Education Foundation.  All rights reserved. | Site by \\n Web and New Media\\n.'),\n",
       "  ('http://www.maef.net/?p=1043',\n",
       "   'False',\n",
       "   '2',\n",
       "   ' EDUCATION SUMMIT\\nPresented by the Mobile County Education Commission\\nThe Role of Post-Secondary Education in Improving Educational Attainment for All Students\\nThe\\xa0\\n2015 Education Summit\\xa0\\naddressed accomplishments and challenges around improving post-secondary attainment for all students. We thank our keynote speaker, Dr. Gregory G. Fitch, Executive Director of the Alabama Commission on Higher Education for setting the tone and providing data that was both encouraging and eye opening. The distinguished higher education panelists provided insight into how they are removing barriers to post-secondary educational attainment. The respondents, Martha Peek and Dr. Charles Nash, both were encouraged by what they heard throughout the day and both shared their sentiments that only through partnerships will educational attainment for all students be achieved. The student panel reminded the audience about the importance of the work and shared their individual stories of challenges and successes. Carolyn Akers issued a Call to Action challenging our community to double the number of credentials/degrees attained in Mobile County by 2030. Dr. Richard Hayes closed the day by drawing an analogy between our ability to increase post-secondary attainment for all and the athletic system of the game known so well in the state of Alabama…football!\\nFor your convenience, below you will find links to presentations provided by Dr. Richard Hayes and Dr. Gregory Fitch.\\nSponsored by: Mobile Area Education Foundation, University of South Alabama-College of Education, Mobile County Public School System, J.L. Bedsole Foundation and United Way of Southwest Alabama\\nTuesday, February 24, 2015\\n8:30 am – 12:30 pm\\nUSA Mitchell Center\\nWe appreciate those who attended the summit and would love to hear from you! Please take a moment to take a short, 10 question, post-summit feedback survey.\\nAGENDA AT-A-GLANCE\\n8:30 AM\\nREGISTRATION\\n9:00 AM\\nWELCOME\\nDr. Richard L. Hayes, Dean, College of Education,\\xa0University of South Alabama\\xa0(\\n(PRESENTATION: Dr. Richard Hayes)\\n)\\n9:15 AM\\nKEYNOTE ADDRESS\\nDr. Gregory G. Fitch, Executive Director,\\xa0\\nAlabama Commission on Higher Education\\n\\xa0 (\\nPRESENTATION: Dr. Gregory Fitch\\n)\\nDocument: \\nAlabama State Plan for Alabama Higher Education\\n10:15 AM\\nREFRESHMENT BREAK\\n10:30 AM\\nPOST-SECONDARY PANEL DISCUSSION\\nModerator\\nDr. Bree A. Hayes, CEO/President, The Hayes\\xa0Group\\n\\xa0Consulting\\nPanelists \\nDr. Mark Heinrich, Chancellor, AL Community College System\\xa0\\nFather Gregory F. Lucey, President, Spring Hill College\\nDr. Latitia McCane, Dean, Bishop State Community College\\nDr. Tony Waldrop, President University of South Alabama\\xa0\\n11:30 AM\\nRESPONDENTS\\nDr. Charles Nash,\\xa0Vice Chancellor,\\xa0University of Alabama System\\xa0\\nMs. Martha Peek, Superintendent,\\xa0Mobile County Public School System\\xa0\\n12:00 PM\\nSTUDENT’S VOICE\\nHigh School and College Student Panel\\nAlia Phillips, Evening Education Options Program Student\\nMeredith Uzel, Mary G. Montgomery High School/Superintendent Student Advisory Council\\nLindsey Estes, University of South Alabama, College of Education Student\\n12:15 PM\\nCALL TO ACTION \\xa0 \\xa0 \\xa0 \\xa0 \\xa0 \\xa0 \\xa0 \\xa0 \\xa0 \\xa0 \\xa0\\nMrs. Carolyn R. Akers,\\xa0\\nCEO,\\xa0\\nMobile Area Education Foundation\\n12:30 PM\\nADJOURN\\nHome\\n | \\nAbout\\n | \\nOur Work\\n | \\nOur Impact\\n | \\nNews/ Media\\n | \\nSupport\\n | \\nContact\\n© 2018 Copyright Mobile Area Education Foundation.  All rights reserved. | Site by \\n Web and New Media\\n'),\n",
       "  ('http://www.maef.net/four-strategic-priorities/college-and-career-resources/',\n",
       "   'False',\n",
       "   '2',\n",
       "   'areer Resources\\nTransitioning to a 2- or 4-year college or a career is an exciting time, but is also filled with many questions. The resources listed below will provide answers to many of your questions no matter if you’re a\\xa0high school student, recent high school graduate, first generation college student, or transfer student.\\nFind the Right College for You\\nCollege/University Scorecard\\nThe College Scorecard is designed to increase transparency, putting the power in the hands of the public — from those choosing colleges to those improving college quality — to see how well different schools are serving their students.\\nCollege Navigator\\nBrowse/search institutions of higher education to learn more about their enrollment, programs/majors, graduation rates and much more.\\nCommunity College Review\\nBrowse, search and compare community colleges to make an informed enrollment decision.\\nTheBestColleges.org\\nBrowse an online list of the best colleges that offer free tuition with assistance on how to apply.\\nGo on a Virtual Tour!\\nSo you’ve researched some\\xa0colleges/universities, now let’s take a look at them.\\neCampusTours.com\\nOver 1,300 colleges/universities with 360° tours\\nYouVisit.com/Colleges\\nTake guided 360° virtual tours of colleges/universities\\nEnroll in College\\nThe Common Application\\nMore than 600 Colleges. One Application.\\nCommon Black College Application\\nOne Application to 44 HBCUs (Historically Black Colleges and Universities). If you attend a high school in Mobile County, ask your counselor how to have the application fee waived.\\nPaying for College\\nNow the reality of it all is sinking in and one big questions looms…how will I pay for college? The following links will provide you with common ways to pay for college.\\nCollege Data: Your Online College Advisor\\nProvides a variety of sources to finance college education\\nFree\\xa0Application for Federal Student Aid…FAFSA\\nYour source to federal grants, loans and work-study funds\\nGet Educated: How to Fill Out the FAFSA\\nA Resource Guide to completing the FAFSA\\nCareer Exploration\\nNot sure if college is the path for you, the resources below will guide you through career exploration\\nCareerOneStop\\nYour source for career exploration, training and jobs sponsored by the U.S. Department of Labor\\nBest Beauty Schools for 2017\\nConsumerAffairs’ listing of Best Beauty Schools\\nAlabama Career Planning System\\nProvides the tools you need for career exploration, training and portfolio building\\nAIDT\\nQuality job training for local industry\\nMobile Works\\nAccess to local jobs and training\\nAlabama Career Center\\nYour source for finding jobs in Alabama\\nDegrees for Mental Health Professionals\\nA guide that outlines the different career paths one could follow in the behavioral health field, as well as the types of degrees and what one would earn.\\nMobile is selected as on of 75 cities by \\nLumina Foundation\\n to increase the U.S. post-secondary attainment rate to 60% by 2025…\\nGoal 2025\\n.\\nThe purpose of the Lumina Community Partnership for Attainment is to increase the number of post-secondary degrees/credentials attained to\\xa075,000 by 2030. 75,000 Degrees is not just MAEF’s goal, it’s Mobile’s goal for creating a stronger community and workforce through higher education.\\nSearch\\nHome\\n | \\nAbout\\n | \\nOur Work\\n | \\nOur Impact\\n | \\nNews/ Media\\n | \\nSupport\\n | \\nContact\\n© 2018 Copyright Mobile Area Education Foundation.  All rights reserved. | Site by \\n Web and New Media\\n'),\n",
       "  ('http://www.maef.net/our-work/programs/partners/',\n",
       "   'False',\n",
       "   '1',\n",
       "   'ers in Education\\nThe Partners in Education (PIE) program connects students, teachers and administrators with business, government, volunteer and civic leaders. The Partners in Education program is a nationally validated program that provides an effective method of increasing community awareness and input into the local education process. MAEF coordinates the PIE program for the Mobile County Public School System.\\nMobile’s Partner in Education Program links more than 1,000 businesses, organizations, churches and individuals, who make an annual impact of more than $2.3 million to our schools in Mobile County. PIE Partnerships have one common theme: improving the quality of education in Mobile County for every child.\\nPartnerships are designed to develop community-wide support for our schools by building an effective working relationship between the school and local community organizations and businesses. There are many resources we can share to provide a quality education for all of our young people.\\nMAEF is the go-to organization that provides a single, one-stop shop for all schools and all industry leaders related to volunteers, speakers, internships, job-shadowing opportunities and other partnerships that ensure success of various programs. In addition, MAEF is the coordinating agency for all partnerships between schools and industry/business in support of the county’s \\n12 Career Academies\\n.\\nFor more information about the Partners in Education program, contact \\nJabaria Jenkins\\n.\\nPartners in Education Media\\nSearch\\nGraduate Ready\\nClick here\\n to learn more about what MAEF is doing to ensure that all Mobile County students Graduate Ready.\\nQuick Links\\nHome\\n | \\nAbout\\n | \\nOur Work\\n | \\nOur Impact\\n | \\nNews/ Media\\n | \\nSupport\\n | \\nContact\\n© 2018 Copyright Mobile Area Education Foundation.  All rights reserved. | Site by \\n Web and New Media\\n'),\n",
       "  ('http://www.maef.net/our-work/programs/vital-link/',\n",
       "   'False',\n",
       "   '1',\n",
       "   'Vital Link 2.0\\nAbout Vital Link 2.0\\n“Our community has been experiencing world-class economic development over the past decade, with tremendous growth in a number of business sectors.\\xa0For us to truly capitalize on that growth, we must work together to ensure our youth are prepared to take on these highly-skilled positions. You cannot have economic development without workforce development — and that means continuing to invest in our youth.”\\nBill Sisson, President & CEO, Mobile Area Chamber of Commerce\\nThe WORKFORCE Challenge\\nA Lack of Skilled Local Labor\\nThough Mobile’s economy is among the nation’s leaders with a projected 30.6% future job growth over the next 10 years, companies across the area struggle to find skilled, competent employees from the Mobile area.\\nThe MARKETING Challenge\\nKnowing the Opportunities in Our Community\\nMany local residents and youth believe they must look outside of Mobile to find a great career. Yet, the average salary of the 561 new Mobile jobs in 2015 was $60,593.\\nThe IMPACT\\nOur youth are unaware and unprepared for the excellent jobs in this community.\\n\\xa0The RESPONSE\\nIn response to local business/industry leaders expressing their concerns of \\xa0having a\\xa0skilled workforce shortage, we have evolved our Vital Link summer internship program for rising eighth graders to the new Vital Link 2.0 for rising seniors. Vital Link 2.0 is\\xa0designed to provide meaningful real-world internship opportunities to our youth and aid them in\\xa0connecting their career interest with their post-secondary education and career planning.\\nWhat is it?\\nVital Link 2.0 is a real-world, 4-week/15 hours per week paid internship (total of 60 hours) for rising seniors who have been recommended by their school through an application process\\nWhere will students intern?\\nIn local businesses that are of career interest to them (preference will be given to students in schools with existing academy partnerships)\\nWhen will the internships be held?\\nJune 6- 30, 2016\\nJoin MAEF in providing a one-of-a-kind experience for your business and our local youth by signing up to be a\\xa0Vital Link 2.0 Employer!\\nAs a Vital Link 2.0 Employer you will:\\nExpand your talent pipeline by introducing dynamic youth to your industry\\n\\xa0Bring fresh ideas, energy, and creativity to your workplace\\n\\xa0Offer professional development opportunities to your staff to supervise interns\\n\\xa0Provide extra help to company projects at minimum cost\\n\\xa0Present opportunities to give back to our community by mentoring a young person and narrowing our workforce and educational achievement gap\\nIf you are a business leader\\xa0interested in becoming a Vital Link 2.0 Employer, please email\\xa0\\nJabaria Jenkins\\n\\xa0or call (251) 476-0002.\\nVital Link 2.0 Info Sheet\\nVital Link 2.0 Media\\nSearch\\nGraduate Ready\\nClick here\\n to learn more about what MAEF is doing to ensure that all Mobile County students Graduate Ready.\\nQuick Links\\nHome\\n | \\nAbout\\n | \\nOur Work\\n | \\nOur Impact\\n | \\nNews/ Media\\n | \\nSupport\\n | \\nContact\\n© 2018 Copyright Mobile Area Education Foundation.  All rights reserved. | Site by \\n Web and New Media\\n'),\n",
       "  ('http://www.maef.net/our-work/initiatives/evidence2success/',\n",
       "   'False',\n",
       "   '1',\n",
       "   'Evidence2Success\\nMobile, Alabama joins communities of Utah and Rhode Island to implement the Annie E. Casey Foundation’s Evidence2Success framework. Evidence2Success promotes healthy child\\xa0development by supporting public investment\\xa0in programs proven to help young people. The Evidence2Success framework\\xa0is for civic leaders who are ready to commit to strategic alignment of resources, both financial and human, for child well-being in a new way – to prevent problems before they happen. It is a roadmap that helps communities and public agencies establish a partnership with a shared vision of child wellbeing. No single partner, strategy or funding source can support the community-level change possible through Evidence2Success.\\nRequest for Proposals\\nData Partner for Evidence2Success Mobile, AL Site\\nThe Mobile Area Education Foundation seeks a proposal to provide expert data consultation services, data management and data analysis support as a “Data Partner” to the Evidence2Success initiative site in Mobile, Alabama. The Mobile Area Education Foundation has funders committed to support the work of the local data partner January 2018 – June, 2018 including an initial three-month planning period (January 2018 – March 2018). Click the following link for details:\\xa0\\nMOBILE Local data partner RFP\\n. Also, you can find the answer to questions in the following document:\\xa0\\nEvidence2Success Mobile Data Partner_Responses to RFP questions\\nStrong African American Families Program\\nThe Mobile Area Education Foundation (MAEF) is issuing a Request for Proposals (RFP) for entities to provide the Strong African American Families (SAAF) program to Mobile parents of early adolescent youth referred to the program by the following participating schools (Hall Elementary School and Williamson Academy 6-12) supported by the Mobile County Public School System (MCPSS). Proposal deadline is December 8, 2017. Click the following link to review the RFP:\\xa0\\nRFP – Strong African American Families – Posting (11.9.17)\\n. To receive notice when an informational webinar is scheduled, send an email to \\njparker@maef.net \\nwith your name, organization and email address.\\nTracy Anderson (University of Georgia) will conduct a webinar on Strong African American Families the Monday after Thanksgiving.\\xa0 The specifics of the webinar are as follows:\\nDATE:\\xa0 November 27, 2017 (Monday)\\nTIME:\\xa0 3:00 – 4:00 pm\\nPress Release:\\xa0\\nMobile to launch Evidence2Success partnership with Casey Foundation\\nLagniappe article: \\nMAEF, City partners with Annie E. Casey Foundation\\xa0\\nNeighborhoods of Focus:\\nMaysville\\nMartin Luther King, Jr corridor\\nLower Dauphin Island Parkway\\nMobile’s Strategy\\nIncreasing the well-being of youth in these communities will be carried out through four (4) goals:\\n1) Build broad community support and organizing to support the needs of all youth\\n2) Invest in research-based programmatic approaches to serving youth,\\n3) Expand and formalize community leadership to develop, implement and improve upon city-wide youth serving programming and\\n4) Strengthen the use of data for program evaluation and continuous improvement.\\nAssessing the Strengths and Needs in the Community\\nEvidence2Success brings the right people to the table with the data they need to set priorities for young people. That requires getting a complete picture of the needs and strengths of children and youth in focus neighborhoods, and measuring changes over time. The Annie E. Casey Foundation offers Evidence2Success communities access to the Youth Experience Survey to get this comprehensive picture. The survey, administered throughout the public school district of a community using Evidence2Success, will help the Evidence2Success partners identify where it makes sense to work together and direct investments to help more children grow up healthy, ready for school and prepared for success in life.\\nRead more:\\xa0\\nCasey Evidence2Success Prioritizing Needs\\nEvidence2Success Press Conference (February 23, 2016)\\nEvidence2Success Media\\nSearch\\nGraduate Ready\\nClick here\\n to learn more about what MAEF is doing to ensure that all Mobile County students Graduate Ready.\\nQuick Links\\nHome\\n | \\nAbout\\n | \\nOur Work\\n | \\nOur Impact\\n | \\nNews/ Media\\n | \\nSupport\\n | \\nContact\\n© 2018 Copyright Mobile Area Education Foundation.  All rights reserved. | Site by \\n Web and New Media\\n'),\n",
       "  ('http://www.maef.net/about/',\n",
       "   'False',\n",
       "   '1',\n",
       "   'Dear Interested Citizen,\\nThe Mobile Area Education Foundation has served as an advocate and activist for public schools in the Mobile community for the last twenty-two years. Our core beliefs and values remain an integral part of everything we do, especially now as we begin to write our next chapter. We are redefining our priorities, and continuing our broad-based citizen engagement approach that has proven itself time and time again with the success of the Yes We Can movement.\\nMAEF, in partnership with the school district and business and civic leaders across Mobile County, is increasing the chances that students will Graduate Ready for college and careers.\\nWe support our public school system in transforming schools across the county to increase high school graduation rates. We create partnerships with industry leaders to develop students’ workforce skills in Mobile County Career Academies. We help to improve the quality of life in Mobile County by increasing the volunteer base and the number of citizens actively involved in community efforts to improve educational outcomes for children. We create a civic culture of continual improvement across Mobile County.\\nThrough these efforts we have seen the graduation rate increase over 20 percentage points in the past three years. We set the goal to graduate at least 80 percent of our public school students ready for college, career, and life by 2020, and that goal is not too far out of our reach.\\nHowever, the work is just getting started. We will continue to offer programs like the Evening Education Options Program that targets students who are at risk of dropping out because they are over-aged and under credited. By focusing on growing our volunteer base, our Reading Buddy program will ensure students are reading on grade level by the end of third grade. To provide the intervention needed to help middle grade students improve their academic progress as they create a roadmap to graduating on time we use the RAMP UP to Graduation Initiative. Engaging Youth through Engineering will continue to redesign the way math and science are taught in our schools, while introducing STEM to students as early as fourth grade.\\nThe Mobile Area Education Foundation is working to create a better community, one graduate at a time. We know we can’t do this alone. Every volunteer hour, and every dollar contribution, puts us one step closer to improving the quality of life for every resident of Mobile County. I’d like to invite you to become a part of the movement to improve the lives of all Mobile County citizens, children, and future generations of Mobile workers. We’re proud of accomplishments to date and look forward to opportunities ahead.\\nCarolyn Akers\\n MAEF Chief Executive Officer\\nOur Purpose\\nAt MAEF our goals are to innovate for student achievement, enhance strategic partnerships, and to build a community driven platform. We encourage innovative practices and programs that expedite student achievement by providing tools, providing development, and advancing promising innovations. We also partner with area business and industry to graduate students career ready by knowing the recipient, knowing the givers, and evaluating partners for satisfaction, impact, and growth. Lastly, we inspire action to build a high quality public education system by establishing easy metrics, using simple communication channels, and creating a Donor-Centric funding model.\\nOur Vision\\nWe exist because we believe the community’s potential can only be realized when all its citizens have access to high quality public education.\\nOur Mission\\nOur mission is to build community responsibility for improving public school outcomes in Mobile County. We work with, but are independent of, local Public School Systems.\\nBoard of Directors\\nName\\nCompany\\nTitle\\nKaren Outlaw Atchison\\nSelf Employed\\nInterior Decorator\\nRobert Baker\\n President\\nHancock Bank\\nRegional President\\nShayla Jones Beaco\\nCity of Mobile\\nSr. Director/Community Affairs\\nRaymond Bell\\nBell Law Firm, P.C.\\nAttorney\\nPreston Bolt\\nLegal/Governance\\nHand Arendall, LLC\\nAttorney\\nTalma Carstarphen\\nVice President\\nEnvision Healthcare Corporation\\nChris Comstock\\nOutokumpu\\nGlenn Hodge\\nMobile County Commission\\nDeputy Administrator\\nMike Marshall\\nCommunity Volunteer\\nJessie McDaniel\\nAlabama Education Association\\n\\xa0Director\\nMelissa Morrissette\\nLLB&B, Inc.\\nVP/Owner\\nMonica Motley\\nAlabama School of Mathematics & Science\\nMartha Peek\\nMobile County Public School System\\nSuperintendent\\nScott Posey\\nAM/NS Calvert\\nBill Sisson\\nTreasurer\\nMobile Area Chamber of Commerce\\nPresident\\nJohn Seibt\\nPNC Bank\\nCarol Statter\\nSecretary\\nInfirmary Health\\nMark Spivey\\n President\\xa0\\nBB&T Bank\\nVice President\\nJill Stork\\nAlabama Power\\nDon Stringfellow\\nMobile County Public School\\nPresident\\nJim Walker\\nGoodwyn, Mills, & Cawood\\nDirector of Architecture\\nLissa Watkins\\nCommunity Volunteer\\nContina Woods\\nRegions Bank\\nEmeritus\\nAnn Bedsole\\nMichael D. Fitzhugh\\nBay Haas\\nOur Staff\\nCarolyn R. Akers\\nChief Executive Officer\\nEva Holloway\\nOffice Manager\\n\\xa0Jabaria Jenkins\\n\\xa0Career Academies Coordinator\\nDr. Jeremiah Newell\\nChief Operating Officer\\nMichelle Parson\\nDirector, Finance and Administration\\nJanice Rivers\\nExecutive Assistant to the CEO\\nChandra Scott\\nDirector, Strategic\\xa0Outcomes\\nLee Williams\\nInternship & Reading Buddy Coordinator\\nSearch\\nQuick Links\\nLetter from the CEO\\nOur Purpose\\nBoard of Directors\\nEmeritus\\nOur Staff\\nHome\\n | \\nAbout\\n | \\nOur Work\\n | \\nOur Impact\\n | \\nNews/ Media\\n | \\nSupport\\n | \\nContact\\n© 2018 Copyright Mobile Area Education Foundation.  All rights reserved. | Site by \\n Web and New Media\\n.'),\n",
       "  ('http://www.maef.net/our-work/programs/ramp/',\n",
       "   'False',\n",
       "   '1',\n",
       "   'Pathways (RAMP)\\nAbout Research Alliance for Multiple Pathways (RAMP)\\nIn September 2007, the U.S Department of Labor named the City of Mobile as one of the seven cities to undertake their Multiple Pathways Blueprint initiative, providing $2.95 million in funding to design and implement systems that connect young people who have dropped out of high school to alternative learning opportunities.\\nMobile efforts were focused on engaging youth in career preparation and encouraging them to pursue postsecondary education. In response to a cohort dropout rate of 50.3 percent, Mobile County formed a collaborative of community, business, K-12, and higher education leaders called Research Alliance for Multiple Pathways (RAMP) for Mobile’s Youth.\\nRAMP included the:\\nDevelopment of a system and infrastructure necessary to monitor progress, report findings, engage the public, and drive and sustain the work required and\\nCreation of a blueprint that addresses the needs of Mobile’s students that have either already dropped out of the education system or are at risk of doing so.\\nThese outcomes were dependent on connecting key partnerships and resources in an alliance for maximum impact.  Key partners in our alliance included the Mobile mayor, the Mobile County Public School System, the University of South Alabama, Bishop State Community College, Mobile Works, which coordinates the Workforce Investment Act activities, the Mobile Area Chamber of Commerce, the office of the District Attorney and MAEF, which coordinated all of the work associated with development of the RAMP Blueprint.\\nSeven years after the RAMP initiative began in Mobile, the work is still going strong through two projects referred to as RAMP UP, including and extended learning and summer transition program:\\nExtended Learning Experience. The RAMP UP Extended Learning Experience (ELE) helps students improve their academic performance by partnering with parents to create a roadmap to graduation. The program aims to elevate students to another ELE: Excellence, Leadership and Empowerment. It does this by:\\r\\nsupporting rigor in the classroom\\nincreasing the relevance of academic content for students; and\\nestablishing supportive relationships between students and caring adults.\\nELE is designed to support student achievement using individualized, intensive instruction supported by Compass Learning, including electronic diagnostic assessments for the delivery of a personalized learning experience.\\r\\nSummer Transition Program. The RAMP UP Summer Transition Program set students up for success with opportunities to participate in self-examination, aspirations and goal-setting exercises, and to develop their high school and career plan. Over six weeks, students in the program receive prescriptive and engaging lessons that target critical skill gaps in grades six through eighth in math that will afford them opportunities to advance to algebra when entering the ninth grade.\\nEarly college/career culture enhancement sessions are planned for students and their parents for discussion on qualifications, admissions, financial aid and literacy, work student, scholarships, internships, fellowships, and hiring/interview process. At the close of the summer, students will present formal portfolios indicating their level of readiness and preparedness for their high school experience. \\r\\nStudents who successfully complete the RAMP UP Summer Transition Program transition to high school with a half credit.\\nFor more information on RAMP or RAMP UP, please contact \\nHilder Wilson\\n.\\nResearch Alliance for Multiple Pathways (RAMP) Media\\nSearch\\nGraduate Ready\\nClick here\\n to learn more about what MAEF is doing to ensure that all Mobile County students Graduate Ready.\\nQuick Links\\nHome\\n | \\nAbout\\n | \\nOur Work\\n | \\nOur Impact\\n | \\nNews/ Media\\n | \\nSupport\\n | \\nContact\\n© 2018 Copyright Mobile Area Education Foundation.  All rights reserved. | Site by \\n Web and New Media\\n'),\n",
       "  ('http://www.maef.net/uncategorized/graduate-ready-summit/',\n",
       "   'False',\n",
       "   '2',\n",
       "   'ate Ready Summit\\nThe Mobile Area Education Foundation thanks the 400+ stakeholders who\\xa0attended the Graduate Ready Summit on October 2nd…you made it a success! The work of Graduate Ready requires engagement from the entire community and your signature on the puzzle piece was a symbol of your commitment to every student in Mobile County.\\nThe day was full of learning and engagement. For your convenience, below are the presentations and documents shared during the summit.\\nGraduate Ready Summit Booklet\\nDon’t Call Them Dropouts Video\\nThe State of Public Education \\nby Superintendent Martha Peek, MCPSS\\nObstacles Into Opportunities\\n by Neal Wade, Public Affairs Research Council of Alabama (PARCA)\\nAlabama by the Numbers\\n by Dean Richard Hayes, University of South Alabama\\nSSAC Student Report\\n, Superintendent Student Advisory Council\\nIf you haven’t had the opportunity, please tell us what you thought about the summit. \\nSURVEY LINK\\nThanks to all of our premier sponsors- America’s Promise Alliance, AT&T, GE Foundation and our signature sponsors- Information Transport Solutions, Inc., Artcraft Press, Inc., SAVOR…, Renaissance and Regions Bank.\\nHome\\n | \\nAbout\\n | \\nOur Work\\n | \\nOur Impact\\n | \\nNews/ Media\\n | \\nSupport\\n | \\nContact\\n© 2018 Copyright Mobile Area Education Foundation.  All rights reserved. | Site by \\n Web and New Media\\n'),\n",
       "  ('http://www.maef.net/our-work/programs/reading-buddy/',\n",
       "   'False',\n",
       "   '1',\n",
       "   'ut Reading Buddy\\nThe Reading Buddy program is a designed to help students improve their literacy skills by giving them the opportunity to read aloud to someone. Reading aloud is one of the most effective ways to improve a child’s reading accuracy and fluency. Students who do not learn to read by the fourth grade are less likely to graduate from high school.\\nWith your help, students can have a much better chance of graduating. Being a Reading Buddy requires a commitment of about one hour every week for about six months.\\nIf you are interested in becoming a Reading Buddy, please contact \\nLee Williams\\n\\xa0or \\nclick here\\n to browse our current volunteer opportunities.\\nReading Buddy Media\\nSearch\\nGraduate Ready\\nClick here\\n to learn more about what MAEF is doing to ensure that all Mobile County students Graduate Ready.\\nQuick Links\\nHome\\n | \\nAbout\\n | \\nOur Work\\n | \\nOur Impact\\n | \\nNews/ Media\\n | \\nSupport\\n | \\nContact\\n© 2018 Copyright Mobile Area Education Foundation.  All rights reserved. | Site by \\n Web and New Media\\n'),\n",
       "  ('http://www.maef.net/uncategorized/maef-ceo-takes-ice-bucket-challenge-for-als/',\n",
       "   'False',\n",
       "   '2',\n",
       "   'ashboard\\nSearch\\nMAEF CEO Takes Ice Bucket Challenge for ALS\\nMobile Area Education Foundation CEO, Carolyn Akers, accepted MCPSS Superintendent Martha Peek’s Ice Bucket Challenge to raise awareness for ALS on Friday, August 22.\\nALS is a disease that affects people from all backgrounds, and one that is very dear to her heart. At MAEF we are an organization that mobilizes our local community around our public schools, and how we as citizens of Mobile County deserve a good public education system that equates to a good quality of life for all. Akers took the challenge to remind Mobile that together we can make a difference in our community by coming together around a common goal, Graduate READY.\\nShe challenged three people who have been supportive of MAEF’s mission to graduate all students ready for college, career, and life. Richard Hayes, Dean of the College of Education at the University of South Alabama, and a strategic partner of MAEF, Dave Trent, site director at Airbus Americas Engineering who has been vital in assisting us transform the schools in the BC Rain High School feeder pattern and creating a state of the art aerospace training facility on campus, and Chandra Brown, the president of the Junior League of Mobile, an organization who has been a supporter of MAEF since 1992.\\nClick the link to see the video. \\nIce Bucket Video\\nHome\\n | \\nAbout\\n | \\nOur Work\\n | \\nOur Impact\\n | \\nNews/ Media\\n | \\nSupport\\n | \\nContact\\n© 2018 Copyright Mobile Area Education Foundation.  All rights reserved. | Site by \\n Web and New Media\\n'),\n",
       "  ('http://www.maef.net/?p=1040',\n",
       "   'False',\n",
       "   '2',\n",
       "   'ashboard\\nSearch\\nToyota USA Foundation Conference: Supporting the Rigor & Relevance through STEM Education\\nThe Mobile Area Education Foundation (MAEF) and the Toyota USA Foundation EYE on STEM Leadership Academy hosted\\xa0the second STEM for ALL Conference: Supporting Rigor & Relevance through STEM Education, an afternoon of innovative and engaging topics around STEM Education and the unveiling of the\\nSTEM Community Blueprint\\n. The Blueprint, developed by MAEF, MCPSS, Business and Community Leaders, will serve as a roadmap for all community stakeholders as we continue to sustain and expand STEM education and grow a STEM-ready workforce.\\nMonday, January 5, 2015\\n12:30 pm – 3:30 pm\\nCranford Burns Middle School | 6175 Girby Rd.\\nHome\\n | \\nAbout\\n | \\nOur Work\\n | \\nOur Impact\\n | \\nNews/ Media\\n | \\nSupport\\n | \\nContact\\n© 2018 Copyright Mobile Area Education Foundation.  All rights reserved. | Site by \\n Web and New Media\\n'),\n",
       "  ('http://www.maef.net/our-work/programs/education-commission/',\n",
       "   'False',\n",
       "   '1',\n",
       "   'mmission (\\nMembers\\n) is a data-driven collaboration among 30 representatives who are the county’s education, business and civic leaders. Together, they plan and effect the changes that will improve teaching and learning at all levels, from pre-kindergarten through university settings. The Education Commission seeks to improve the system of education to ensure improved academic achievement for all young people in Mobile County. The spirit of the Education Commission is that of an entire community working together—school superintendents, university and college presidents, business and community leaders, principals, teachers, and parents—to identify and support ways to ensure high academic achievement.\\nThe mission of the Education Commission is to ensure that every child is prepared for entrance into college or a career upon high school graduation. To carry out this mission, the Education Commission is charged with serving as the accountability mechanism that monitors and reports the progress of education outcomes and its impact on workforce development.\\nIn 2011, the Education Commission developed a series of College/Career Indicators (Dashboard below) that provide trending data to communicate whether:\\nPreschoolers are getting a healthy start\\nElementary students are equipped to become life-long learners\\nMiddle school students are prepared for a smooth transition to high school where they will be empowered to make college and career choices and\\nHigh school students have access to post-secondary options\\nTo address the influx of STEM (science, technology, engineering, mathematics)-based jobs in Mobile, the Education Commission is working to expand its focus beyond the education pipeline to the workforce pipeline. The Education Commission is working to complete a comprehensive data collection and analysis effort and to conduct a policy assessment and community gap analysis on student data that will provide key leaders and decisions makers with the information they need to ensure that students graduate ready for college and/or career success.\\nResources\\n2015 Education Summit Booklet\\nLearning Forum: Education by the Numbers (9.24.2015)\\nFunding from the \\nCommunity Foundation of South Alabama\\n contributes to the effectiveness and capacity building of the Education Commission\\nFor more information on the Education Commission, please contact \\nChandra Scott\\n.\\nCollege & Career Indicator Dashboard\\nOur goal is to create 75,000 credentials/degrees by 2030. This can only happen when the entire community is purposeful through data in establishing and enabling conditions for long-term attainment success.\\nCCI Dashboard Sponsored in part by the J.L. Bedsole Foundation\\nEducation Commission Media\\nSearch\\nGraduate Ready\\nClick here\\n to learn more about what MAEF is doing to ensure that all Mobile County students Graduate Ready.\\nQuick Links\\nHome\\n | \\nAbout\\n | \\nOur Work\\n | \\nOur Impact\\n | \\nNews/ Media\\n | \\nSupport\\n | \\nContact\\n© 2018 Copyright Mobile Area Education Foundation.  All rights reserved. | Site by \\n Web and New Media\\n'),\n",
       "  ('http://www.maef.net/college-career-indicator-dashboard/',\n",
       "   'False',\n",
       "   '1',\n",
       "   'icator Dashboard\\nOur goal is to create 75,000 credentials/degrees by 2030. This can only happen when the entire community is purposeful through data in establishing and enabling conditions for long-term attainment success.\\nCCI Dashboard Sponsored in part by the J.L. Bedsole Foundation\\nHome\\n | \\nAbout\\n | \\nOur Work\\n | \\nOur Impact\\n | \\nNews/ Media\\n | \\nSupport\\n | \\nContact\\n© 2018 Copyright Mobile Area Education Foundation.  All rights reserved. | Site by \\n Web and New Media\\n'),\n",
       "  ('http://www.maef.net/our-work/programs/student-advisory-council/',\n",
       "   'False',\n",
       "   '1',\n",
       "   'Advisory Council\\nOriginally started more than a decade ago by local leaders as Students for the Betterment of Education, the Superintendent’s Student Advisory Council (SSAC) has a solid track record of bringing in student voice to influence local education. The council encourages student input in the education process and develops young leaders as educational advocates. The advisory council is comprised of 11th- and 12th-graders from each high school in Mobile County.\\nStudents meet monthly with the MCPSS superintendent. Students raise questions and concerns, and the superintendent works with district leaders to resolve every issue and to reassure the students that their voices are indeed being heard. The SSAC has brought student voice to a number of important initiatives over the past several years, contributing ideas and facilitating community meetings. The council has taken on such issues as class size, arts programs, state school funding, alcohol policies, commercialism in the schools and teacher quality.\\nStudents receive professional training to ensure that members of the SSAC are prepared to address these issues effectively. Each year, the council has a weekend leadership development retreat, where they practice teamwork and goal-setting skills, as well as network with other council members.\\nCollege and Career Resources\\nExplore, plan and execute your post-secondary path through online college and career resources, tools and services.\\nThe Equity Project Student Report\\nThe 2016 Equity Project is the third iteration of the student-led project that is facilitated by the Mobile Area Education Foundation. The project consists of two components: 1) High School Master Schedule Analysis and 2) High School Student Surveying. Over 1,600 high school students participated in the process.\\xa0\\nThe Equity Report 2016\\n\\xa0Through the Equity Project, students made the following findings:\\nMaster Schedule Analysis\\n- Access to rigorous advanced courses varies significantly between high schools across the Mobile County Public School System (MCPSS) and does not appear to be related to school enrollment.\\nEquity Project Student Survey\\n-Most students reported that their school offered students an opportunity to be successful and provided challenging courses.\\n-Students indicated that the top two barriers to students learning in the classroom were lack of student engagement and bullying.\\n\\xa0For more information on the Superintendent’s Student Advisory Council, contact \\nMichelle Parson\\n.\\nSuperintendent’s Student Advisory Council Media\\nSearch\\nGraduate Ready\\nClick here\\n to learn more about what MAEF is doing to ensure that all Mobile County students Graduate Ready.\\nQuick Links\\nHome\\n | \\nAbout\\n | \\nOur Work\\n | \\nOur Impact\\n | \\nNews/ Media\\n | \\nSupport\\n | \\nContact\\n© 2018 Copyright Mobile Area Education Foundation.  All rights reserved. | Site by \\n Web and New Media\\n')],\n",
       " False)"
      ]
     },
     "execution_count": 65,
     "metadata": {},
     "output_type": "execute_result"
    }
   ],
   "source": [
    "# testing on first page\n",
    "filter_pages(df_charter['WEBTEXT'].iloc[0], 2)"
   ]
  },
  {
   "cell_type": "markdown",
   "metadata": {},
   "source": [
    "# Performance"
   ]
  },
  {
   "cell_type": "code",
   "execution_count": 37,
   "metadata": {},
   "outputs": [
    {
     "name": "stdout",
     "output_type": "stream",
     "text": [
      "dict_count: 0.005997419357299805 2\n",
      "dict_count1: 0.007956266403198242 2\n",
      "dict_count2: 0.004393100738525391 2\n"
     ]
    }
   ],
   "source": [
    "start = time.time()\n",
    "v1=dict_count(page_from_first_school)\n",
    "end = time.time()\n",
    "print('dict_count:',end - start,v1) # time it took, hit count\n",
    "\n",
    "start = time.time()\n",
    "v2=dict_count1(page_from_first_school)\n",
    "end = time.time()\n",
    "print('dict_count1:', end - start,v2)\n",
    "\n",
    "start = time.time()\n",
    "v2=dict_count2(page_from_first_school)\n",
    "end = time.time()\n",
    "print('dict_count2:', end - start,v2)"
   ]
  },
  {
   "cell_type": "code",
   "execution_count": 38,
   "metadata": {},
   "outputs": [
    {
     "name": "stdout",
     "output_type": "stream",
     "text": [
      "dict_count: 156.05708813667297\n",
      "dict_count1: 180.12152433395386\n",
      "dict_count2: 116.56855177879333\n"
     ]
    }
   ],
   "source": [
    "start = time.time()\n",
    "df_charter['WEBTEXT'].iloc[:1000].apply(lambda x: [dict_count(a[3]) for a in x])\n",
    "end = time.time()\n",
    "print('dict_count:',end - start)\n",
    "start = time.time()\n",
    "df_charter['WEBTEXT'].iloc[:1000].apply(lambda x: [dict_count1(a[3]) for a in x])\n",
    "end = time.time()\n",
    "print('dict_count1:', end - start) # slow by itself since most keywords are only 1-2 words long\n",
    "start = time.time()\n",
    "df_charter['WEBTEXT'].iloc[:1000].apply(lambda x: [dict_count2(a[3]) for a in x])\n",
    "end = time.time()\n",
    "print('dict_count2:', end - start) # ~25% faster for given dictionary with max length keyword 3"
   ]
  },
  {
   "cell_type": "markdown",
   "metadata": {},
   "source": [
    "# Text Filtering"
   ]
  },
  {
   "cell_type": "markdown",
   "metadata": {},
   "source": [
    "### Run filter for 250, 100, 10 pages (AGGRO=False)"
   ]
  },
  {
   "cell_type": "code",
   "execution_count": 67,
   "metadata": {},
   "outputs": [
    {
     "name": "stdout",
     "output_type": "stream",
     "text": [
      "Complete Page filter start. Min hit count: 1.000000\n",
      "Time Elapsed:0.134748, Percent Complete:0.000000\n",
      "Time Elapsed:126.401389, Percent Complete:15.475085\n",
      "Time Elapsed:207.002477, Percent Complete:30.950170\n",
      "Time Elapsed:275.838635, Percent Complete:46.425255\n",
      "Time Elapsed:353.740995, Percent Complete:61.900340\n",
      "Time Elapsed:444.126610, Percent Complete:77.375426\n",
      "Time Elapsed:528.882757, Percent Complete:92.850511\n"
     ]
    }
   ],
   "source": [
    "webtext_unlapped_replaced_filtered_250 = run_filter(df_charter)"
   ]
  },
  {
   "cell_type": "code",
   "execution_count": 84,
   "metadata": {},
   "outputs": [
    {
     "name": "stdout",
     "output_type": "stream",
     "text": [
      "Complete Page filter start. Min hit count: 1.000000\n",
      "Time Elapsed:0.138420, Percent Complete:0.000000\n",
      "Time Elapsed:125.774794, Percent Complete:15.475085\n",
      "Time Elapsed:206.475465, Percent Complete:30.950170\n",
      "Time Elapsed:275.282981, Percent Complete:46.425255\n",
      "Time Elapsed:353.765485, Percent Complete:61.900340\n",
      "Time Elapsed:443.309996, Percent Complete:77.375426\n",
      "Time Elapsed:528.907617, Percent Complete:92.850511\n"
     ]
    }
   ],
   "source": [
    "webtext_unlapped_replaced_filtered_100 = run_filter(df_charter, MAX_NUMPAGES=100)"
   ]
  },
  {
   "cell_type": "code",
   "execution_count": 88,
   "metadata": {},
   "outputs": [
    {
     "name": "stdout",
     "output_type": "stream",
     "text": [
      "Complete Page filter start. Min hit count: 1.000000\n",
      "Time Elapsed:0.135902, Percent Complete:0.000000\n",
      "Time Elapsed:125.631185, Percent Complete:15.475085\n",
      "Time Elapsed:205.496432, Percent Complete:30.950170\n",
      "Time Elapsed:274.168323, Percent Complete:46.425255\n",
      "Time Elapsed:351.842780, Percent Complete:61.900340\n",
      "Time Elapsed:441.701090, Percent Complete:77.375426\n",
      "Time Elapsed:527.003666, Percent Complete:92.850511\n"
     ]
    }
   ],
   "source": [
    "webtext_unlapped_replaced_filtered_10 = run_filter(df_charter, MAX_NUMPAGES=10)"
   ]
  },
  {
   "cell_type": "markdown",
   "metadata": {},
   "source": [
    "### Run filter for 100, 50, 10 pages (AGGRO=True)"
   ]
  },
  {
   "cell_type": "code",
   "execution_count": 92,
   "metadata": {},
   "outputs": [
    {
     "name": "stdout",
     "output_type": "stream",
     "text": [
      "Complete Page filter start. Min hit count: 1.000000\n",
      "Time Elapsed:0.125868, Percent Complete:0.000000\n",
      "Time Elapsed:126.545441, Percent Complete:15.475085\n",
      "Time Elapsed:206.471148, Percent Complete:30.950170\n",
      "Time Elapsed:275.222400, Percent Complete:46.425255\n",
      "Time Elapsed:352.759031, Percent Complete:61.900340\n",
      "Time Elapsed:442.528435, Percent Complete:77.375426\n",
      "Time Elapsed:527.587749, Percent Complete:92.850511\n"
     ]
    }
   ],
   "source": [
    "webtext_unlapped_replaced_aggro_filtered_100 = run_filter(df_charter, MAX_NUMPAGES=100, AGGRO=True)"
   ]
  },
  {
   "cell_type": "code",
   "execution_count": 97,
   "metadata": {},
   "outputs": [
    {
     "name": "stdout",
     "output_type": "stream",
     "text": [
      "Complete Page filter start. Min hit count: 1.000000\n",
      "Time Elapsed:0.124559, Percent Complete:0.000000\n",
      "Time Elapsed:126.171555, Percent Complete:15.475085\n",
      "Time Elapsed:206.255093, Percent Complete:30.950170\n",
      "Time Elapsed:275.070494, Percent Complete:46.425255\n",
      "Time Elapsed:352.404799, Percent Complete:61.900340\n",
      "Time Elapsed:442.281952, Percent Complete:77.375426\n",
      "Time Elapsed:526.952468, Percent Complete:92.850511\n"
     ]
    }
   ],
   "source": [
    "webtext_unlapped_replaced_aggro_filtered_50 = run_filter(df_charter, MAX_NUMPAGES=50, AGGRO=True)"
   ]
  },
  {
   "cell_type": "code",
   "execution_count": 101,
   "metadata": {},
   "outputs": [
    {
     "name": "stdout",
     "output_type": "stream",
     "text": [
      "Complete Page filter start. Min hit count: 1.000000\n",
      "Time Elapsed:0.125017, Percent Complete:0.000000\n",
      "Time Elapsed:124.357771, Percent Complete:15.475085\n",
      "Time Elapsed:202.979065, Percent Complete:30.950170\n",
      "Time Elapsed:270.419367, Percent Complete:46.425255\n",
      "Time Elapsed:347.602115, Percent Complete:61.900340\n",
      "Time Elapsed:435.992736, Percent Complete:77.375426\n",
      "Time Elapsed:520.502262, Percent Complete:92.850511\n"
     ]
    }
   ],
   "source": [
    "webtext_unlapped_replaced_aggro_filtered_10 = run_filter(df_charter, MAX_NUMPAGES=10, AGGRO=True)"
   ]
  },
  {
   "cell_type": "markdown",
   "metadata": {},
   "source": [
    "### Save dataframes in webtext_raw"
   ]
  },
  {
   "cell_type": "code",
   "execution_count": 102,
   "metadata": {},
   "outputs": [],
   "source": [
    "webtext_raw_path = \"/home/jovyan/work/misc_data/webtext_raw/\"\n",
    "webtext_unlapped_replaced_filtered_250.to_csv(webtext_raw_path + \"webtext_unlapped_replaced_filtered_250.tsv\", sep=\"\\t\")\n",
    "webtext_unlapped_replaced_filtered_100.to_csv(webtext_raw_path + \"webtext_unlapped_replaced_filtered_100.tsv\", sep=\"\\t\")\n",
    "webtext_unlapped_replaced_filtered_10.to_csv(webtext_raw_path + \"webtext_unlapped_replaced_filtered_10.tsv\", sep=\"\\t\")"
   ]
  },
  {
   "cell_type": "code",
   "execution_count": 103,
   "metadata": {},
   "outputs": [],
   "source": [
    "webtext_unlapped_replaced_aggro_filtered_100.to_csv(webtext_raw_path + \"webtext_unlapped_replaced_aggro_filtered_100.tsv\", sep=\"\\t\")\n",
    "webtext_unlapped_replaced_aggro_filtered_50.to_csv(webtext_raw_path + \"webtext_unlapped_replaced_aggro_filtered_50.tsv\", sep=\"\\t\")\n",
    "webtext_unlapped_replaced_aggro_filtered_10.to_csv(webtext_raw_path + \"webtext_unlapped_replaced_aggro_filtered_10.tsv\", sep=\"\\t\")"
   ]
  },
  {
   "cell_type": "markdown",
   "metadata": {},
   "source": [
    "### Old dataframes (?)"
   ]
  },
  {
   "cell_type": "code",
   "execution_count": 40,
   "metadata": {},
   "outputs": [
    {
     "name": "stdout",
     "output_type": "stream",
     "text": [
      "Complete Page filter start. Min hit count: 1.500000\n",
      "Time Elapsed:0.030406, Percent Complete:0.000000\n",
      "Time Elapsed:146.592043, Percent Complete:8.679802\n",
      "Time Elapsed:353.703931, Percent Complete:17.359604\n",
      "Time Elapsed:530.819655, Percent Complete:26.039406\n",
      "Time Elapsed:677.192208, Percent Complete:34.719208\n",
      "Time Elapsed:825.153257, Percent Complete:43.399011\n",
      "Time Elapsed:971.440240, Percent Complete:52.078813\n",
      "Time Elapsed:1107.583437, Percent Complete:60.758615\n",
      "Time Elapsed:1300.784274, Percent Complete:69.438417\n",
      "Time Elapsed:1603.102855, Percent Complete:78.118219\n",
      "Time Elapsed:1750.707799, Percent Complete:86.798021\n",
      "Time Elapsed:1901.627595, Percent Complete:95.477823\n"
     ]
    }
   ],
   "source": [
    "df_charter = run_filter(df_charter, MIN_HITCOUNT = 1.5)"
   ]
  },
  {
   "cell_type": "code",
   "execution_count": 21,
   "metadata": {
    "scrolled": true
   },
   "outputs": [
    {
     "name": "stdout",
     "output_type": "stream",
     "text": [
      "Complete Page filter start. Min hit count: 1.500000\n",
      "Time Elapsed:0.024925, Percent Complete:0.000000\n",
      "Complete Page filter start. Min hit count: 1.500000\n",
      "Time Elapsed:0.269800, Percent Complete:0.000000\n",
      "Complete Page filter start. Min hit count: 1.500000\n",
      "Time Elapsed:0.161939, Percent Complete:0.000000\n",
      "Complete Page filter start. Min hit count: 1.500000\n",
      "Time Elapsed:0.174518, Percent Complete:0.000000\n",
      "Complete Page filter start. Min hit count: 1.500000\n",
      "Time Elapsed:0.007863, Percent Complete:0.000000\n",
      "Complete Page filter start. Min hit count: 1.500000\n",
      "Time Elapsed:0.105508, Percent Complete:0.000000\n",
      "Time Elapsed:0.006315, Percent Complete:0.000000\n",
      "Complete Page filter start. Min hit count: 1.500000\n",
      "Complete Page filter start. Min hit count: 1.500000\n",
      "Time Elapsed:0.075708, Percent Complete:0.000000\n",
      "Complete Page filter start. Min hit count: 1.500000\n",
      "Time Elapsed:0.012661, Percent Complete:0.000000\n",
      "Complete Page filter start. Min hit count: 1.500000\n",
      "Time Elapsed:0.006639, Percent Complete:0.000000\n",
      "Complete Page filter start. Min hit count: 1.500000\n",
      "Complete Page filter start. Min hit count: 1.500000\n",
      "Time Elapsed:0.011551, Percent Complete:0.000000\n",
      "Time Elapsed:0.028163, Percent Complete:0.000000\n",
      "Complete Page filter start. Min hit count: 1.500000\n",
      "Time Elapsed:0.012345, Percent Complete:0.000000\n",
      "Complete Page filter start. Min hit count: 1.500000\n",
      "Time Elapsed:0.019512, Percent Complete:0.000000\n",
      "Complete Page filter start. Min hit count: 1.500000\n",
      "Complete Page filter start. Min hit count: 1.500000\n",
      "Complete Page filter start. Min hit count: 1.500000\n",
      "Complete Page filter start. Min hit count: 1.500000\n",
      "Time Elapsed:0.029014, Percent Complete:0.000000\n",
      "Time Elapsed:0.017055, Percent Complete:0.000000\n",
      "Complete Page filter start. Min hit count: 1.500000\n",
      "Time Elapsed:0.045458, Percent Complete:0.000000\n",
      "Complete Page filter start. Min hit count: 1.500000\n",
      "Time Elapsed:0.026336, Percent Complete:0.000000\n",
      "Time Elapsed:0.031276, Percent Complete:0.000000\n",
      "Time Elapsed:0.038970, Percent Complete:0.000000\n",
      "Complete Page filter start. Min hit count: 1.500000\n",
      "Time Elapsed:0.023271, Percent Complete:0.000000\n",
      "Complete Page filter start. Min hit count: 1.500000\n",
      "Time Elapsed:0.020106, Percent Complete:0.000000\n",
      "Complete Page filter start. Min hit count: 1.500000\n",
      "Time Elapsed:0.007180, Percent Complete:0.000000\n",
      "Complete Page filter start. Min hit count: 1.500000\n",
      "Time Elapsed:0.004508, Percent Complete:0.000000\n",
      "Complete Page filter start. Min hit count: 1.500000\n",
      "Time Elapsed:0.008726, Percent Complete:0.000000\n",
      "Complete Page filter start. Min hit count: 1.500000\n",
      "Time Elapsed:0.135813, Percent Complete:0.000000\n",
      "Complete Page filter start. Min hit count: 1.500000\n",
      "Time Elapsed:0.008305, Percent Complete:0.000000\n",
      "Complete Page filter start. Min hit count: 1.500000\n",
      "Time Elapsed:0.030485, Percent Complete:0.000000\n",
      "Complete Page filter start. Min hit count: 1.500000\n",
      "Time Elapsed:0.007613, Percent Complete:0.000000\n",
      "Complete Page filter start. Min hit count: 1.500000\n",
      "Time Elapsed:0.097390, Percent Complete:0.000000\n",
      "Complete Page filter start. Min hit count: 1.500000\n",
      "Time Elapsed:0.008755, Percent Complete:0.000000\n",
      "Complete Page filter start. Min hit count: 1.500000\n",
      "Time Elapsed:0.013023, Percent Complete:0.000000\n",
      "Complete Page filter start. Min hit count: 1.500000\n",
      "Time Elapsed:0.003637, Percent Complete:0.000000\n",
      "Complete Page filter start. Min hit count: 1.500000\n",
      "Time Elapsed:1.639018, Percent Complete:0.000000\n",
      "Complete Page filter start. Min hit count: 1.500000\n",
      "Time Elapsed:0.025517, Percent Complete:0.000000\n",
      "Complete Page filter start. Min hit count: 1.500000\n",
      "Time Elapsed:0.196575, Percent Complete:0.000000\n",
      "Complete Page filter start. Min hit count: 1.500000\n",
      "Time Elapsed:0.168756, Percent Complete:0.000000\n",
      "Complete Page filter start. Min hit count: 1.500000\n",
      "Time Elapsed:0.006387, Percent Complete:0.000000\n",
      "Complete Page filter start. Min hit count: 1.500000\n",
      "Time Elapsed:0.265419, Percent Complete:0.000000\n"
     ]
    }
   ],
   "source": [
    "# Parallel if you have access to XL VM\n",
    "with mp.Pool(processes = round(mp.cpu_count()/2)) as pool:\n",
    "    results = pool.map(run_filter, [df_charter[300*i:i*300+300] for i in range(round(len(df_charter)/300)+1)]) # execute on chunks of 300(arbitrary)"
   ]
  },
  {
   "cell_type": "code",
   "execution_count": 22,
   "metadata": {},
   "outputs": [],
   "source": [
    "(pd.concat(results)).to_pickle('../../charters_full_2015_250_new.pkl')"
   ]
  },
  {
   "cell_type": "code",
   "execution_count": 24,
   "metadata": {},
   "outputs": [
    {
     "data": {
      "text/plain": [
       "0    6583\n",
       "2    4922\n",
       "1      16\n",
       "Name: WEBTEXT_METHOD, dtype: int64"
      ]
     },
     "execution_count": 24,
     "metadata": {},
     "output_type": "execute_result"
    }
   ],
   "source": [
    "pd.concat(results)['WEBTEXT_METHOD'].value_counts()"
   ]
  },
  {
   "cell_type": "code",
   "execution_count": 11,
   "metadata": {},
   "outputs": [
    {
     "name": "stdout",
     "output_type": "stream",
     "text": [
      "WEBTEXT Page filter start. Min hit count: 2\n",
      "Time Elapsed:0.004377, Percent Complete:0.000000\n",
      "Time Elapsed:82.185403, Percent Complete:8.679802\n",
      "Time Elapsed:178.682582, Percent Complete:17.359604\n",
      "Time Elapsed:294.779538, Percent Complete:26.039406\n",
      "Time Elapsed:318.126451, Percent Complete:34.719208\n",
      "Time Elapsed:318.128265, Percent Complete:43.399011\n",
      "Time Elapsed:318.129419, Percent Complete:52.078813\n",
      "Time Elapsed:348.292155, Percent Complete:60.758615\n",
      "Time Elapsed:498.321725, Percent Complete:69.438417\n",
      "Time Elapsed:719.577975, Percent Complete:78.118219\n",
      "Time Elapsed:821.129462, Percent Complete:86.798021\n",
      "Time Elapsed:920.829367, Percent Complete:95.477823\n"
     ]
    }
   ],
   "source": [
    "# create filtered_text2 column containing 'WEBTEXT' pages with at least 2 hit counts for each school\n",
    "run_filter('w', 2) # should take ~15 min\n"
   ]
  },
  {
   "cell_type": "code",
   "execution_count": 12,
   "metadata": {
    "scrolled": true
   },
   "outputs": [
    {
     "name": "stdout",
     "output_type": "stream",
     "text": [
      "CMO_WEBTEXT Page filter start. Min hit count: 2\n",
      "Time Elapsed:0.157997, Percent Complete:0.000000\n",
      "Time Elapsed:222.392479, Percent Complete:8.679802\n",
      "Time Elapsed:544.479955, Percent Complete:17.359604\n",
      "Time Elapsed:867.602014, Percent Complete:26.039406\n",
      "Time Elapsed:939.218461, Percent Complete:34.719208\n",
      "Time Elapsed:939.219584, Percent Complete:43.399011\n",
      "Time Elapsed:939.220661, Percent Complete:52.078813\n",
      "Time Elapsed:939.221899, Percent Complete:60.758615\n",
      "Time Elapsed:939.223158, Percent Complete:69.438417\n",
      "Time Elapsed:939.224231, Percent Complete:78.118219\n",
      "Time Elapsed:939.225359, Percent Complete:86.798021\n",
      "Time Elapsed:939.226450, Percent Complete:95.477823\n"
     ]
    }
   ],
   "source": [
    "# create cmo_filtered_text2 column containing 'CMO_WEBTEXT' pages with at least 2 hit counts for each school\n",
    "run_filter('c', 2) # should take ~15 min"
   ]
  },
  {
   "cell_type": "code",
   "execution_count": null,
   "metadata": {},
   "outputs": [],
   "source": [
    "df_charter['CMO_REPLACED'] = df_charter['WEBTEXT_METHOD'] == 1 # replaced wtih CMO filtered pages\n",
    "# df_right = df_charter.groupby('CMO_NAME')['REPLACED'].sum() > 0 # df to be merged to the right of df_charter\n",
    "# df_right = df_right.reset_index()\n",
    "# df_right.rename(columns={\"REPLACED\": \"CMO_REPLACED\"},inplace=True)\n",
    "# df_charter = pd.merge(df_charter, df_right, how = 'left', on = ['CMO_NAME'])\n",
    "# ckpt_file_path = 'charters_full_2015_{:d}.pkl'.format(round(float(sys.argv[2])*10))\n",
    "# df_charter.to_pickle(ckpt_file_path) # checkpoint file contains new 'CMO_REPLACED','WEBTEXT_METHOD', and filtered 'WEBTEXT' columns\n",
    "# print('Completed text filtering. Saved checkpoint to ' + ckpt_file_path)"
   ]
  },
  {
   "cell_type": "code",
   "execution_count": null,
   "metadata": {},
   "outputs": [],
   "source": [
    "ckpt_file_path = 'charters_full_2015_15.pkl'\n",
    "df_charter.to_pickle(ckpt_file_path)"
   ]
  },
  {
   "cell_type": "markdown",
   "metadata": {},
   "source": [
    "Future Ideas\n",
    "\n",
    "Compile list of 100 or so categorized pages and use as false negative test for efficacy of page filtering\n",
    "\n",
    "This list could possibly be compiled using a search for common mission/school objective page titles\n",
    "\n",
    "Assign weights to keywords to allow for more continuous filtering of schools\n",
    "\n"
   ]
  },
  {
   "cell_type": "code",
   "execution_count": null,
   "metadata": {},
   "outputs": [],
   "source": []
  }
 ],
 "metadata": {
  "kernelspec": {
   "display_name": "Python 3",
   "language": "python",
   "name": "python3"
  },
  "language_info": {
   "codemirror_mode": {
    "name": "ipython",
    "version": 3
   },
   "file_extension": ".py",
   "mimetype": "text/x-python",
   "name": "python",
   "nbconvert_exporter": "python",
   "pygments_lexer": "ipython3",
   "version": "3.7.3"
  }
 },
 "nbformat": 4,
 "nbformat_minor": 2
}
