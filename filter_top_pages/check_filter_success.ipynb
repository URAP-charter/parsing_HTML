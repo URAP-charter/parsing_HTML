{
 "cells": [
  {
   "cell_type": "markdown",
   "metadata": {},
   "source": [
    "Check the lengths of existing webtext objects to see if filtering top pages was successful."
   ]
  },
  {
   "cell_type": "markdown",
   "metadata": {},
   "source": [
    "### Import Statements and Load Data"
   ]
  },
  {
   "cell_type": "code",
   "execution_count": 2,
   "metadata": {},
   "outputs": [],
   "source": [
    "import pandas as pd\n",
    "import numpy as np\n",
    "import ast"
   ]
  },
  {
   "cell_type": "code",
   "execution_count": 14,
   "metadata": {},
   "outputs": [
    {
     "data": {
      "text/html": [
       "<div>\n",
       "<style scoped>\n",
       "    .dataframe tbody tr th:only-of-type {\n",
       "        vertical-align: middle;\n",
       "    }\n",
       "\n",
       "    .dataframe tbody tr th {\n",
       "        vertical-align: top;\n",
       "    }\n",
       "\n",
       "    .dataframe thead th {\n",
       "        text-align: right;\n",
       "    }\n",
       "</style>\n",
       "<table border=\"1\" class=\"dataframe\">\n",
       "  <thead>\n",
       "    <tr style=\"text-align: right;\">\n",
       "      <th></th>\n",
       "      <th>Unnamed: 0</th>\n",
       "      <th>text_full</th>\n",
       "      <th>NCESSCH</th>\n",
       "    </tr>\n",
       "  </thead>\n",
       "  <tbody>\n",
       "    <tr>\n",
       "      <td>0</td>\n",
       "      <td>0</td>\n",
       "      <td>[('https://099.clayton.k12.ga.us/', 'False', '...</td>\n",
       "      <td>130123003896</td>\n",
       "    </tr>\n",
       "    <tr>\n",
       "      <td>1</td>\n",
       "      <td>1</td>\n",
       "      <td>[('https://198.clayton.k12.ga.us/', 'False', '...</td>\n",
       "      <td>130123003687</td>\n",
       "    </tr>\n",
       "    <tr>\n",
       "      <td>2</td>\n",
       "      <td>2</td>\n",
       "      <td>[('http://21stcenturypa.com/wp/', 'False', '0'...</td>\n",
       "      <td>350006000811</td>\n",
       "    </tr>\n",
       "    <tr>\n",
       "      <td>3</td>\n",
       "      <td>3</td>\n",
       "      <td>[('http://a3school.org/', 'False', '0', 'Downl...</td>\n",
       "      <td>411167001641</td>\n",
       "    </tr>\n",
       "    <tr>\n",
       "      <td>4</td>\n",
       "      <td>4</td>\n",
       "      <td>[('https://www.aaechighschools.com/index.php',...</td>\n",
       "      <td>40010601892</td>\n",
       "    </tr>\n",
       "  </tbody>\n",
       "</table>\n",
       "</div>"
      ],
      "text/plain": [
       "   Unnamed: 0                                          text_full       NCESSCH\n",
       "0           0  [('https://099.clayton.k12.ga.us/', 'False', '...  130123003896\n",
       "1           1  [('https://198.clayton.k12.ga.us/', 'False', '...  130123003687\n",
       "2           2  [('http://21stcenturypa.com/wp/', 'False', '0'...  350006000811\n",
       "3           3  [('http://a3school.org/', 'False', '0', 'Downl...  411167001641\n",
       "4           4  [('https://www.aaechighschools.com/index.php',...   40010601892"
      ]
     },
     "execution_count": 14,
     "metadata": {},
     "output_type": "execute_result"
    }
   ],
   "source": [
    "webtext_original_full = pd.read_csv(\"/home/jovyan/work/misc_data/webtext_raw/webtext_original_full.tsv\", sep=\"\\t\")\n",
    "webtext_original_full.head()"
   ]
  },
  {
   "cell_type": "code",
   "execution_count": 15,
   "metadata": {},
   "outputs": [
    {
     "data": {
      "text/html": [
       "<div>\n",
       "<style scoped>\n",
       "    .dataframe tbody tr th:only-of-type {\n",
       "        vertical-align: middle;\n",
       "    }\n",
       "\n",
       "    .dataframe tbody tr th {\n",
       "        vertical-align: top;\n",
       "    }\n",
       "\n",
       "    .dataframe thead th {\n",
       "        text-align: right;\n",
       "    }\n",
       "</style>\n",
       "<table border=\"1\" class=\"dataframe\">\n",
       "  <thead>\n",
       "    <tr style=\"text-align: right;\">\n",
       "      <th></th>\n",
       "      <th>Unnamed: 0</th>\n",
       "      <th>text_full</th>\n",
       "      <th>NCESSCH</th>\n",
       "    </tr>\n",
       "  </thead>\n",
       "  <tbody>\n",
       "    <tr>\n",
       "      <td>0</td>\n",
       "      <td>0</td>\n",
       "      <td>[('http://www.maef.net/', 'False', '0', \"Eveni...</td>\n",
       "      <td>1.001970e+10</td>\n",
       "    </tr>\n",
       "    <tr>\n",
       "      <td>1</td>\n",
       "      <td>1</td>\n",
       "      <td>[('https://www.kgbsd.org/ketchikancharter', 'F...</td>\n",
       "      <td>2.001500e+10</td>\n",
       "    </tr>\n",
       "    <tr>\n",
       "      <td>2</td>\n",
       "      <td>2</td>\n",
       "      <td>[('http://tongassschool.org/classrooms/3rd-and...</td>\n",
       "      <td>2.001500e+10</td>\n",
       "    </tr>\n",
       "    <tr>\n",
       "      <td>3</td>\n",
       "      <td>3</td>\n",
       "      <td>[('https://www.asdk12.org/aquarian', 'False', ...</td>\n",
       "      <td>2.001800e+10</td>\n",
       "    </tr>\n",
       "    <tr>\n",
       "      <td>4</td>\n",
       "      <td>4</td>\n",
       "      <td>[('http://winterberrycharterschool.com/', 'Fal...</td>\n",
       "      <td>2.001800e+10</td>\n",
       "    </tr>\n",
       "  </tbody>\n",
       "</table>\n",
       "</div>"
      ],
      "text/plain": [
       "   Unnamed: 0                                          text_full       NCESSCH\n",
       "0           0  [('http://www.maef.net/', 'False', '0', \"Eveni...  1.001970e+10\n",
       "1           1  [('https://www.kgbsd.org/ketchikancharter', 'F...  2.001500e+10\n",
       "2           2  [('http://tongassschool.org/classrooms/3rd-and...  2.001500e+10\n",
       "3           3  [('https://www.asdk12.org/aquarian', 'False', ...  2.001800e+10\n",
       "4           4  [('http://winterberrycharterschool.com/', 'Fal...  2.001800e+10"
      ]
     },
     "execution_count": 15,
     "metadata": {},
     "output_type": "execute_result"
    }
   ],
   "source": [
    "webtext_unlapped_full = pd.read_csv(\"/home/jovyan/work/misc_data/webtext_raw/webtext_unlapped_full.tsv\", sep=\"\\t\")\n",
    "webtext_unlapped_full.head()"
   ]
  },
  {
   "cell_type": "code",
   "execution_count": 16,
   "metadata": {},
   "outputs": [
    {
     "data": {
      "text/html": [
       "<div>\n",
       "<style scoped>\n",
       "    .dataframe tbody tr th:only-of-type {\n",
       "        vertical-align: middle;\n",
       "    }\n",
       "\n",
       "    .dataframe tbody tr th {\n",
       "        vertical-align: top;\n",
       "    }\n",
       "\n",
       "    .dataframe thead th {\n",
       "        text-align: right;\n",
       "    }\n",
       "</style>\n",
       "<table border=\"1\" class=\"dataframe\">\n",
       "  <thead>\n",
       "    <tr style=\"text-align: right;\">\n",
       "      <th></th>\n",
       "      <th>Unnamed: 0</th>\n",
       "      <th>text_full</th>\n",
       "      <th>NCESSCH</th>\n",
       "    </tr>\n",
       "  </thead>\n",
       "  <tbody>\n",
       "    <tr>\n",
       "      <td>0</td>\n",
       "      <td>0</td>\n",
       "      <td>[('http://www.maef.net/', 'False', '0', \"Menu\\...</td>\n",
       "      <td>1.001970e+10</td>\n",
       "    </tr>\n",
       "    <tr>\n",
       "      <td>1</td>\n",
       "      <td>1</td>\n",
       "      <td>[('https://www.kgbsd.org/ketchikancharter', 'F...</td>\n",
       "      <td>2.001500e+10</td>\n",
       "    </tr>\n",
       "    <tr>\n",
       "      <td>2</td>\n",
       "      <td>2</td>\n",
       "      <td>[('http://tongassschool.org/', 'False', '0', '...</td>\n",
       "      <td>2.001500e+10</td>\n",
       "    </tr>\n",
       "    <tr>\n",
       "      <td>3</td>\n",
       "      <td>3</td>\n",
       "      <td>[('https://www.asdk12.org/aquarian', 'False', ...</td>\n",
       "      <td>2.001800e+10</td>\n",
       "    </tr>\n",
       "    <tr>\n",
       "      <td>4</td>\n",
       "      <td>4</td>\n",
       "      <td>[('http://winterberrycharterschool.com/', 'Fal...</td>\n",
       "      <td>2.001800e+10</td>\n",
       "    </tr>\n",
       "  </tbody>\n",
       "</table>\n",
       "</div>"
      ],
      "text/plain": [
       "   Unnamed: 0                                          text_full       NCESSCH\n",
       "0           0  [('http://www.maef.net/', 'False', '0', \"Menu\\...  1.001970e+10\n",
       "1           1  [('https://www.kgbsd.org/ketchikancharter', 'F...  2.001500e+10\n",
       "2           2  [('http://tongassschool.org/', 'False', '0', '...  2.001500e+10\n",
       "3           3  [('https://www.asdk12.org/aquarian', 'False', ...  2.001800e+10\n",
       "4           4  [('http://winterberrycharterschool.com/', 'Fal...  2.001800e+10"
      ]
     },
     "execution_count": 16,
     "metadata": {},
     "output_type": "execute_result"
    }
   ],
   "source": [
    "webtext_original_filtered_250 = pd.read_csv(\"/home/jovyan/work/misc_data/webtext_raw/webtext_original_filtered_250.tsv\", sep=\"\\t\")\n",
    "webtext_original_filtered_250.head()"
   ]
  },
  {
   "cell_type": "code",
   "execution_count": 3,
   "metadata": {},
   "outputs": [
    {
     "data": {
      "text/html": [
       "<div>\n",
       "<style scoped>\n",
       "    .dataframe tbody tr th:only-of-type {\n",
       "        vertical-align: middle;\n",
       "    }\n",
       "\n",
       "    .dataframe tbody tr th {\n",
       "        vertical-align: top;\n",
       "    }\n",
       "\n",
       "    .dataframe thead th {\n",
       "        text-align: right;\n",
       "    }\n",
       "</style>\n",
       "<table border=\"1\" class=\"dataframe\">\n",
       "  <thead>\n",
       "    <tr style=\"text-align: right;\">\n",
       "      <th></th>\n",
       "      <th>Unnamed: 0</th>\n",
       "      <th>text_full</th>\n",
       "      <th>NCESSCH</th>\n",
       "    </tr>\n",
       "  </thead>\n",
       "  <tbody>\n",
       "    <tr>\n",
       "      <td>0</td>\n",
       "      <td>0</td>\n",
       "      <td>['ut Reading Buddy\\nThe Reading Buddy program ...</td>\n",
       "      <td>1.001970e+10</td>\n",
       "    </tr>\n",
       "    <tr>\n",
       "      <td>1</td>\n",
       "      <td>1</td>\n",
       "      <td>['Select a School...\\nSelect a School\\nKetchik...</td>\n",
       "      <td>2.001500e+10</td>\n",
       "    </tr>\n",
       "    <tr>\n",
       "      <td>2</td>\n",
       "      <td>2</td>\n",
       "      <td>['l Enrollment Homeschool\\nTitle IX: Assuring ...</td>\n",
       "      <td>2.001500e+10</td>\n",
       "    </tr>\n",
       "    <tr>\n",
       "      <td>3</td>\n",
       "      <td>3</td>\n",
       "      <td>['Select a School...\\nSelect a School\\nAbbott ...</td>\n",
       "      <td>2.001800e+10</td>\n",
       "    </tr>\n",
       "    <tr>\n",
       "      <td>4</td>\n",
       "      <td>4</td>\n",
       "      <td>['eer Info\\nWCC\\nWPG\\nBrowse: \\nHome\\n» \\nWPG\\...</td>\n",
       "      <td>2.001800e+10</td>\n",
       "    </tr>\n",
       "  </tbody>\n",
       "</table>\n",
       "</div>"
      ],
      "text/plain": [
       "   Unnamed: 0                                          text_full       NCESSCH\n",
       "0           0  ['ut Reading Buddy\\nThe Reading Buddy program ...  1.001970e+10\n",
       "1           1  ['Select a School...\\nSelect a School\\nKetchik...  2.001500e+10\n",
       "2           2  ['l Enrollment Homeschool\\nTitle IX: Assuring ...  2.001500e+10\n",
       "3           3  ['Select a School...\\nSelect a School\\nAbbott ...  2.001800e+10\n",
       "4           4  ['eer Info\\nWCC\\nWPG\\nBrowse: \\nHome\\n» \\nWPG\\...  2.001800e+10"
      ]
     },
     "execution_count": 3,
     "metadata": {},
     "output_type": "execute_result"
    }
   ],
   "source": [
    "webtext_unlapped_filtered_10 = pd.read_csv(\"/home/jovyan/work/misc_data/webtext_raw/webtext_unlapped_filtered_10.tsv\", sep=\"\\t\")\n",
    "webtext_unlapped_filtered_10.head()"
   ]
  },
  {
   "cell_type": "code",
   "execution_count": 4,
   "metadata": {},
   "outputs": [
    {
     "data": {
      "text/plain": [
       "\"['ut Reading Buddy\\\\nThe Reading Buddy program is a designed to help students improve their literacy skills by giving them the opportunity to read aloud to someone. Reading aloud is one of the most effective ways to improve a child’s reading accuracy and fluency. Students who do not learn to read by the fourth grade are less likely to graduate from high school.\\\\nWith your help, students can have a much better chance of graduating. Being a Reading Buddy requires a commitment of about one hour every week for about six months.\\\\nIf you are interested in becoming a Reading Buddy, please contact \\\\nLee Williams\\\\n\\\\xa0or \\\\nclick here\\\\n to browse our current volunteer opportunities.\\\\nReading Buddy Media\\\\nSearch\\\\nGraduate Ready\\\\nClick here\\\\n to learn more about what MAEF is doing to ensure that all Mobile County students Graduate Ready.\\\\nQuick Links\\\\nHome\\\\n | \\\\nAbout\\\\n | \\\\nOur Work\\\\n | \\\\nOur Impact\\\\n | \\\\nNews/ Media\\\\n | \\\\nSupport\\\\n | \\\\nContact\\\\n© 2018 Copyright Mobile Area Education Foundation.  All rights reserved. | Site by \\\\n Web and New Media\\\\n', 'tion Foundation\\\\nMake a secure online contribution to the Mobile Area Education Foundation\\\\nThank you for considering an online contribution to the Mobile Area Education Foundation. With every dollar contributed toward financing and enriching our programs, your investment in the MAEF is an effective and efficient way to be engaged in the betterment of public education for all children in Mobile County Public Schools. Thank you for your support!\\\\nMake a Contribution\\\\nIf you prefer to send a check to support and ensure that every child reaches their potential.\\\\nPrint Donation Form\\\\nMake check payable to Mobile Area Education Foundation, and mail to:\\\\nMobile Area Education Foundation\\\\n605 Bel Air Blvd\\\\nSuite 400\\\\nMobile, AL 36606\\\\nContributions to the Mobile Area Education Foundation, a tax-exempt organization under Section 501(c)(3) of the Internal Revenue Code, are deductible for computing income and estate taxes. \\\\nContact Us\\\\n about how you can align your contribution to your personal interests.\\\\nVolunteer Opportunities\\\\nThe Mobile Area Education Foundation offers a variety of Volunteer Opportunities. We ask that you take a moment to review our volunteer opportunity descriptions and sign-up today.\\\\nPartners in Education\\\\nCurrently, the Partner in Education Program in Mobile County links over 1,000 businesses, organizations, churches and individuals, who make an annual impact of over $2.3 million to our schools in Mobile County. The PIE Partnerships have one common theme, improving the quality of education in Mobile County for every child. The PIE program is coordinated for the Mobile County Public School System by the Mobile Area Education Foundation. We are seeking volunteers to provide support to a local public school.\\\\nVolunteer!\\\\nACCEL Day and Evening Academy\\\\nACCEL Day and Evening Academy incorporates the\\\\xa0theory that students are best motivated to learn if they understand the connection between skills learned in the class and those needed for success in the workplace. ACCEL students will explore career options as\\\\xa0interns in Mobile businesses to experience the importance of communication skills, mathematics, creativity, problem solving and teamwork. We need businesses to provide internships for ACCEL students.\\\\nVolunteer!\\\\nEngaging Youth in Engineering\\\\nA critical component of EYE is the involvement of business and industry volunteers, as well as engineering students from the University of South Alabama, both to assist teachers as they implement the engineering curriculum and mini-units and to mentor students. Research is clear that the likelihood of a student choosing to be an engineer is greatly enhanced when there is an engineer in the immediate family or when the student has had exposure to engineers as mentors.\\\\nVolunteer!\\\\nRAMP\\\\nThe RAMP UP Extended Learning Experience and Summer Transition programs help students improve their academic performance by partnering with community volunteers to create a roadmap to graduation. Volunteers play a vital role in showing students what it takes to be successful and how to set and reach goals.\\\\nVolunteer!\\\\nReading Buddy\\\\nOne mentor-one child-one book at a time but it has a profound impact on a child’s reading-related skills and self-esteem. Classroom volunteers are needed to listen to a child read. Reading aloud to someone is one of the best ways for a child to become a proficient, fluent reader.\\\\nVolunteer!\\\\nWant to be involved, but your schedule doesn’t allow you to…support our programs and initiatives through monetary donations.\\\\nContribute Now\\\\nWe Appreciate Our Contributors\\\\nCorporations\\\\r\\\\nAirbus Americas\\\\nAlabama Power\\\\nAM/NS Calvert\\\\nAT&T\\\\nBankTrust\\\\nBB&T Bank\\\\nBBVA Compass Bank\\\\nBurton Property Group\\\\nCamille’s Sidewalk Cafe’ & Clark’s Kitchen\\\\nCentury Bank\\\\nCity of Mobile\\\\nCommunity Foundation of South Alabama\\\\nGoodwyn, Mills, & Cawood\\\\nHand Arendall LLC\\\\nHargrove Engineers + Constructors\\\\nHolmes and Holmes Architects\\\\niBeriabank\\\\nJ.L. Bedsole Foundation\\\\nJunior League of Mobile\\\\nLeavell Investment Management\\\\nLLB&B Real Estate\\\\nLucy C. McVay through the Daniels Foundation\\\\nLyon Fry Cadden Insurance Agency, Inc.\\\\nMaynard, Cooper, and Gale\\\\nMcDowell, Knight, Roedder and Sledge\\\\nMitsubishi Polysilicon America Corporation\\\\nMobile County Comission\\\\nMobile Gas – A Sempra Company\\\\nPhelps Dunbar\\\\nRegions Bank\\\\nRoberts Brothers Inc.\\\\nRogers & Willard Inc.\\\\nSaad Enterprises Inc.\\\\nSSAB\\\\nSouthern Light\\\\nST Mobile Aerospace Engineering\\\\nSybil Smith Charitable Trust\\\\nThames Batre Mattei Beville and Ison\\\\nThe Drummond GroupThe Press-Register\\\\nThe Grounds\\\\nTrustmark Bank\\\\nToyota USA Foundation\\\\nUSA DuPont Agricultural Products\\\\nVallas Realty\\\\nVance McCown Construction\\\\nWells Fargo\\\\nWhite-Spunner Construction\\\\nIndividuals\\\\r\\\\nKarlos Finley\\\\nMelissa Morrissette\\\\nKaren Atchison\\\\nGuy Helmsing\\\\nPreston Bolt\\\\nMike Marshall\\\\nPhil Tyus\\\\nJay Ross\\\\nMichael Hofto\\\\nGlenn Hodge\\\\nGaylord Lyon, Jr.\\\\nConrad & Gigi Armbrecht\\\\nRichard Hayes\\\\nJanelle Finley Adams\\\\nSam Covert\\\\nCarlos Williams\\\\nBarbara & Bernard Malkove\\\\nJohn & Lynda Finley\\\\nRuth Austill\\\\nLouise Houston\\\\nElizabeth Latham\\\\nKatherine Webster\\\\nLucy Lyons\\\\nRobbie Baker\\\\nNicholas Holmes, III\\\\nRenea & Pete Burns\\\\nMr. & Mrs. Andrew J. Crane\\\\nCaroline Gaillard\\\\nVirginia & Garner Jeffery\\\\nRonnie McDonough\\\\nBeth & Henry Morrissette\\\\nFran & Winchester Thurber\\\\nChuck Harmon\\\\nDr. Richard Hayes\\\\nMark Spivey\\\\nSharon McDonough\\\\nCheryl Thompson\\\\nParks & Andrea Moore\\\\nHenry O’Connor\\\\nJim Walker\\\\nRob McGinley\\\\nContina Woods\\\\nShayla Jones Beaco\\\\nElissa E. Watkins\\\\nMr. & Mrs. William B. Sisson\\\\nJim Walker\\\\nCarol Statter\\\\nWilliam & Elizabeth Hanes\\\\nBeth Morrissette\\\\nAnn Bedsole\\\\nSearch\\\\nQuick Links\\\\nMake a Contribution\\\\nVolunteer\\\\nContributors\\\\nHome\\\\n | \\\\nAbout\\\\n | \\\\nOur Work\\\\n | \\\\nOur Impact\\\\n | \\\\nNews/ Media\\\\n | \\\\nSupport\\\\n | \\\\nContact\\\\n© 2018 Copyright Mobile Area Education Foundation.  All rights reserved. | Site by \\\\n Web and New Media\\\\n', 'tact\\\\nDashboard\\\\nYes We Can: Building a Blueprint for Equity and Excellence in Mobile’s Schools\\\\nAbout Yes We Can: Building a Blueprint for Equity and Excellence in Mobile’s Schools\\\\nYes We Can, one of MAEF’s best-known and most significant initiatives, is a structured and deliberative community engagement process designed to gather citizen input on issues related to the community and the schools that serve it. The process was created by Carolyn Akers and used first in Mobile after the historic tax referendum passed in 2001.\\\\nThe goal of the first round of Yes We Can community conversations was convened to launch the creation of a genuinely community-driven, student-centered strategic plan for the Mobile County Public School System. Up until Yes We Can, the school district had created strategic plans, but without the insight and from a broad representation of cross-sector community participation. This strategic planning process was different; it was “co-owned” by the community and the school system.\\\\nBolstered by what was then the new federal “No Child Left Behind” law, and motivated in large part by the Yes We Can Community Agreement that resulted from this community engagement, the Mobile County School Board joined forces with MAEF and the growing community school reform coalition. Together, they developed an unprecedented performance-based strategic plan for the school system, underscoring a shared commitment to making student achievement and organizational accountability their top priorities.\\\\nIn 2003, at the end of that historic strategic planning process, another round of community engagement was convened across Mobile County to update and revisit the community-driven strategic plan. This new plan, called the PASSport to Excellence, was based on the Baldrige Quality standards, then considered the most rigorous and effective model for reshaping educational organizations to create high-performance results.\\\\nThen again in 2006, another round of Yes We Can engagement focused on 35 community meetings, starting September 28, 2006, that took place for seven consecutive Thursday nights across Mobile County. Each meeting, attended by stakeholders across a number of sectors in the community—including educators, parents, business and community leaders, students and higher education officials—served two purposes. The first objective of these community meetings was to take what Akers called a “victory lap,” acknowledging the changes made in the community and school system as a result of the 2001 tax increase. The second purpose was to tap citizen concerns and aspirations for what the school system needed to do next to meet their expectations for high-quality schools in Mobile County.\\\\nIn addition to providing meaningful citizen engagement into education in Mobile County, the Yes We Can brand has become synonymous with citizen engagement that led to higher accountability for results that led to actual improvements in school and student performance. Because the process led to tangible and demonstrable results, cities across Alabama, including Birmingham and Dothan, as well as cities in states across the country, such as Baton Rouge, LA; Jacksonville, FL; and Oshkosh, WI, have used Yes We Can as model for engaging their own citizens in the process of improving their local public schools.\\\\nSearch\\\\nGraduate Ready\\\\nClick here\\\\n to learn more about what MAEF is doing to ensure that all Mobile County students Graduate Ready.\\\\nQuick Links\\\\nHome\\\\n | \\\\nAbout\\\\n | \\\\nOur Work\\\\n | \\\\nOur Impact\\\\n | \\\\nNews/ Media\\\\n | \\\\nSupport\\\\n | \\\\nContact\\\\n© 2018 Copyright Mobile Area Education Foundation.  All rights reserved. | Site by \\\\n Web and New Media\\\\n', 't Scholar Awards\\\\nStudents of ACCEL Day and Evening Academy scholars earn the Merit Award for being models of ACCEL’s Five Core Values:\\\\nAchievement\\\\xa0underscores the belief that we can reach our goals through focus and hard work.\\\\nCollaboration\\\\xa0reminds us that we can be our best and achieve the most when we work well with others.\\\\nCare\\\\xa0emphasizes that we must show appreciation and concern for our community and fellow-man.\\\\nEmpowerment\\\\xa0means that we must take the initiative to give voice and power to our interests in a responsible way.\\\\nLifelong-Learning\\\\xa0encourages students to seek “learning” in and out of school for the rest of their lives.\\\\nMERIT AWARD SCHOLARS\\\\nWeek of 9/04/2017 Winner\\\\nJoseph Johnson\\\\nClick to enlarge\\\\nWeek of 8/21/2017 Winners\\\\nBailey Davis, Larry Smith, Derrick Carson, Micah Kinlaw, Klintaveus Thompson\\\\nClick to Enlarge\\\\nHome\\\\n | \\\\nAbout\\\\n | \\\\nOur Work\\\\n | \\\\nOur Impact\\\\n | \\\\nNews/ Media\\\\n | \\\\nSupport\\\\n | \\\\nContact\\\\n© 2018 Copyright Mobile Area Education Foundation.  All rights reserved. | Site by \\\\n Web and New Media\\\\n', 't Graduate Ready\\\\nGraduate Ready is a collaborative initiative of education, civic and business leaders aimed at ensuring that all students in Mobile County are:\\\\nPrepared for success in college and the workplace\\\\nAble to apply learning in the real world\\\\nEquipped with 21st century workforce skills\\\\nThe purpose of the Graduate Ready is to provide multiple personalized pathways and whole child supports for every child that ensure a better quality of life for every citizen of Mobile County.\\\\nThe four key strategies of the Graduate Ready initiative include:\\\\nEnsure high-quality teaching and learning from Pre-K through 12th grade\\\\nTransform all secondary schools to ensure that all students graduate from high school ready for college and career.\\\\nEnsure postsecondary access and completion\\\\nSustain improvements through continued education, business and civic leadership\\\\nA key component of Graduate Ready is the creation of signature Career Academies at each of Mobile County’s 12 high schools. These academies align closely with the business community and with colleges and universities to prepare students for careers that are growing and thriving in Mobile. Business partner involvement is crucial to this endeavor, to provide opportunities such as internships, teacher externships, shadowing, classroom presentations, and mentoring to students enrolled in these academies.\\\\nBy 2015, all Mobile County public high schools will have a signature academy and a corresponding business advisory group that will provide hands-on working environments geared toward supporting college and career readiness.\\\\nGraduate Ready is more than just an initiative of MAEF. It is strategic focus for every program and activity of the organization. It is a North Star that focuses our direction in every engagement, with every partner.\\\\nFor more information on Graduate Ready, please contact \\\\nChandra Scott\\\\n.\\\\nGraduate Ready: Four Strategic Points\\\\nGraduate Ready sets four strategic priorities for the Mobile community:\\\\nPriority #1: Support high-quality teaching and learning\\\\nEducation research is very clear that the single greatest factor for improving student achievement is the quality of the teacher. Students can never graduate ready for college and careers without having consistent, high-performing teachers throughout their school years. Mobile County has many excellent teachers. But we need an effective teacher in every classroom. To help all teachers, we also need high-quality instructional leadership in every school. And our students need high-quality academic and enrichment out-of-school supports to extend their learning and growth before school, after school and in the critical summer months.\\\\nPriority #2: Create middle and high schools that prepare students for the 21st Century\\\\nMobile County has made significant progress with its elementary school performance, providing students a solid foundation for middle and high school. However, in middle and high school, student engagement and motivation drops off sharply. While our graduation rate is increasing, it’s still not high enough. Furthermore, many students who receive a high school diploma in Mobile do not have the skills they need to be successful in college and careers. To ensure that every student in Mobile County is ready for the challenges they face after high school, we must put the same energy and resources into transforming our secondary schools that we put into our elementary schools.\\\\nPriority #3: Invest in student success after high school\\\\nA strong K-12 system is the foundation for college- and career-ready young Mobilians. But simply graduating with a high school diploma is not enough. Many students still need support and guidance to get into college and to persist in addressing the challenges they face in achieving their college and career goals. In Mobile County, we lack a coordinated network of supports for students after high school. Such a network can help students access postsecondary opportunities, apply for and receive the financial aid they require, and get the mentoring and advice they need to persist in their goals and, ultimately, to attain gainful employment and promotable opportunities.\\\\nCollege and Career Resources\\\\nPriority #4: Support Graduate Ready by investing in MAEF\\\\nMAEF is the premier community-based, non-profit organization focused on improving preK-20 public education in Mobile County. For nearly 30 years, MAEF has helped to change local policy, transform local schools and engage countless citizens in efforts that have increased student achievement and narrowed the achievement gap for deserving students. MAEF has a proven track record of stewardship and performance and serves as the fiscal agent for all county-side activities related to ensuring that Graduate Ready goals are met.\\\\nContribute Now\\\\nSearch\\\\nQuick Links\\\\nPriority 1: Support\\\\nPriority 2: Prepare\\\\nPriority 3: Success\\\\nPriority 4: Invest\\\\nHome\\\\n | \\\\nAbout\\\\n | \\\\nOur Work\\\\n | \\\\nOur Impact\\\\n | \\\\nNews/ Media\\\\n | \\\\nSupport\\\\n | \\\\nContact\\\\n© 2018 Copyright Mobile Area Education Foundation.  All rights reserved. | Site by \\\\n Web and New Media\\\\n', 'rt\\\\n | \\\\nContact\\\\n© 2018 Copyright Mobile Area Education Foundation.  All rights reserved. | Site by \\\\n Web and New Media\\\\n.', 'ough Engineering\\\\nEngaging Youth Through Engineering (EYE) is a workforce and economic development initiative created to bring relevance to the K-12 mathematics and science curriculum. The goal of EYE is to inspire, engage and prepare middle school students to take the coursework needed to support the growing demand for highly skilled and technology-savvy workers for major industries located in the Mobile area, including aerospace and shipbuilding.\\\\nStudents use the Engineering Design Process to apply mathematics and science to solve relevant problems in the classroom and produce the technology and products needed in the world today.\\\\nEYE includes the following programs:\\\\nEYE Camps and Clubs. EYE camps and clubs offer engineering curriculum to fourth- and fifth-graders at 25 Mobile County schools. Students attend EYE clubs during the school year and then have the opportunity to continue the EYE program at teacher-led summer camps. EYE camps and clubs use the Boston Museum of Science “Engineering is Elementary” units and are led by trained teacher leaders.\\\\nMiddle Grades Modules. Funded through a grant from the National Science Foundation, EYE Middle Grades Modules are weeklong engineering units that incorporate science and mathematics. Each module is specifically designed to bring relevance and rigor to existing curriculum, with a special emphasis on mathematics. Each module also provides an engineering design challenge, fosters the development of “engineering habits of mind,” integrates technology and other resources to meet the learning needs of a diverse group of students, and deepens understanding of middle grades mathematics and science content.\\\\nTeacher Workshops. One goal of EYE is to use the engaging work of engineers as innovative problem solvers to “hook” students at the upper elementary and middle grade levels so they will choose to take the higher level science and math courses and develop critical thinking and communication skills required for students to be either work or college-ready in the 21st century.\\\\nEngineering Pathways Integrated Curriculum (EPIC) is a specialized math and science path that arms students to enter post-secondary education qualified for engineering majors, or other geotechnical, geological physical, meteorological, or environmental fields, as well as those interested in pursuing education majors in those areas. EPIC includes a strong math and science component. Interested students must commit to the required curriculum of additional math and science coursework as well as enrichment activities.\\\\nMCPSS STEM Improvement Program. In 2010-11, the Mobile County Public School System (MCPSS) developed the STEM Improvement Program in response to growing demand for all students to experience challenges that bring relevance to and integrate mathematics and science content, similar to those found in the EYE modules. Based on recommendations from the district’s STEM Improvement Advisory Team, MCPSS decided to implement its STEM Improvement Program and STEM Standards initially at the middle grades, before expanding to the elementary and high school levels.\\\\nIn partnership with members of the STEM Alliance, MAEF developed the \\\\nSTEM Community Blueprint\\\\n\\\\xa0which\\\\xa0represents the culmination of years of dedicated efforts to support the district’s education outcomes and the community’s workforce development efforts. The Blueprint is designed to:\\\\nArticulate a vision for STEM education in Mobile County, Alabama\\\\nDescribe the previous achievements in developing a foundational STEM education movement in Mobile County\\\\nReport the current status of STEM education and it’s connection to existing education and workforce development strategies\\\\nIdentify critical next steps and priorities for all stakeholders\\\\nFor more information on EYE, please contact \\\\nJudy Duke\\\\n.\\\\nEngaging Youth Through Engineering Media\\\\nSearch\\\\nGraduate Ready\\\\nClick here\\\\n to learn more about what MAEF is doing to ensure that all Mobile County students Graduate Ready.\\\\nQuick Links\\\\nHome\\\\n | \\\\nAbout\\\\n | \\\\nOur Work\\\\n | \\\\nOur Impact\\\\n | \\\\nNews/ Media\\\\n | \\\\nSupport\\\\n | \\\\nContact\\\\n© 2018 Copyright Mobile Area Education Foundation.  All rights reserved. | Site by \\\\n Web and New Media\\\\n', 'omes\\\\nOne person can make a difference in the life of child’s ability to graduate ready. By creating multiple\\\\rindividual donors, volunteers, mentors and voices for children, we are creating a powerful movement in \\\\rMobile County. The results are powerful for the lives of individual children and their families. And they also\\\\rreap benefits for our neighborhoods, our economy and our quality of life.\\\\n Learn More\\\\nSearch\\\\nBrowse\\\\nOR\\\\nLiteracy\\\\nMathematics\\\\nRecovery\\\\nSTEM\\\\nWorkforce development\\\\nWhy Should you register?\\\\nTo Volunteer: Register and create a profile to browse local opportunities that match your interest.\\\\nTo Get Ideas: Inspiration, info and resources from our monthly newsletter, articles and social networks.\\\\nTo Find Helping Hands:MAEF specializes in bringing the public into public schools. Schools can post\\\\rvolunteer placements for our registered volunteers to browse. \\\\nJoin\\\\nListing\\\\n© 2014 Copyright Mobile Area Education Foundation. All rights reserved. \\\\nGet Connected', 'mmission (\\\\nMembers\\\\n) is a data-driven collaboration among 30 representatives who are the county’s education, business and civic leaders. Together, they plan and effect the changes that will improve teaching and learning at all levels, from pre-kindergarten through university settings. The Education Commission seeks to improve the system of education to ensure improved academic achievement for all young people in Mobile County. The spirit of the Education Commission is that of an entire community working together—school superintendents, university and college presidents, business and community leaders, principals, teachers, and parents—to identify and support ways to ensure high academic achievement.\\\\nThe mission of the Education Commission is to ensure that every child is prepared for entrance into college or a career upon high school graduation. To carry out this mission, the Education Commission is charged with serving as the accountability mechanism that monitors and reports the progress of education outcomes and its impact on workforce development.\\\\nIn 2011, the Education Commission developed a series of College/Career Indicators (Dashboard below) that provide trending data to communicate whether:\\\\nPreschoolers are getting a healthy start\\\\nElementary students are equipped to become life-long learners\\\\nMiddle school students are prepared for a smooth transition to high school where they will be empowered to make college and career choices and\\\\nHigh school students have access to post-secondary options\\\\nTo address the influx of STEM (science, technology, engineering, mathematics)-based jobs in Mobile, the Education Commission is working to expand its focus beyond the education pipeline to the workforce pipeline. The Education Commission is working to complete a comprehensive data collection and analysis effort and to conduct a policy assessment and community gap analysis on student data that will provide key leaders and decisions makers with the information they need to ensure that students graduate ready for college and/or career success.\\\\nResources\\\\n2015 Education Summit Booklet\\\\nLearning Forum: Education by the Numbers (9.24.2015)\\\\nFunding from the \\\\nCommunity Foundation of South Alabama\\\\n contributes to the effectiveness and capacity building of the Education Commission\\\\nFor more information on the Education Commission, please contact \\\\nChandra Scott\\\\n.\\\\nCollege & Career Indicator Dashboard\\\\nOur goal is to create 75,000 credentials/degrees by 2030. This can only happen when the entire community is purposeful through data in establishing and enabling conditions for long-term attainment success.\\\\nCCI Dashboard Sponsored in part by the J.L. Bedsole Foundation\\\\nEducation Commission Media\\\\nSearch\\\\nGraduate Ready\\\\nClick here\\\\n to learn more about what MAEF is doing to ensure that all Mobile County students Graduate Ready.\\\\nQuick Links\\\\nHome\\\\n | \\\\nAbout\\\\n | \\\\nOur Work\\\\n | \\\\nOur Impact\\\\n | \\\\nNews/ Media\\\\n | \\\\nSupport\\\\n | \\\\nContact\\\\n© 2018 Copyright Mobile Area Education Foundation.  All rights reserved. | Site by \\\\n Web and New Media\\\\n', 'icator Dashboard\\\\nOur goal is to create 75,000 credentials/degrees by 2030. This can only happen when the entire community is purposeful through data in establishing and enabling conditions for long-term attainment success.\\\\nCCI Dashboard Sponsored in part by the J.L. Bedsole Foundation\\\\nHome\\\\n | \\\\nAbout\\\\n | \\\\nOur Work\\\\n | \\\\nOur Impact\\\\n | \\\\nNews/ Media\\\\n | \\\\nSupport\\\\n | \\\\nContact\\\\n© 2018 Copyright Mobile Area Education Foundation.  All rights reserved. | Site by \\\\n Web and New Media\\\\n']\""
      ]
     },
     "execution_count": 4,
     "metadata": {},
     "output_type": "execute_result"
    }
   ],
   "source": [
    "webtext_unlapped_filtered_10[\"text_full\"][0]"
   ]
  },
  {
   "cell_type": "markdown",
   "metadata": {},
   "source": [
    "### Verify that the Files are Filtered to N Pages"
   ]
  },
  {
   "cell_type": "code",
   "execution_count": 18,
   "metadata": {},
   "outputs": [],
   "source": [
    "def check_N_pages(N, df, col_name):\n",
    "    \"\"\"\n",
    "    Check that every school in the dataframe only has N webpages in the col_name column.\n",
    "    \n",
    "    \"\"\"\n",
    "    # convert strings in column col_name into lists\n",
    "    pages_column = df[col_name].apply(lambda x: ast.literal_eval(x))\n",
    "    \n",
    "    num_pages = pages_column.apply(lambda x:len(x))\n",
    "    total = np.sum(np.count_nonzero(num_pages > N))\n",
    "    return total == 0"
   ]
  },
  {
   "cell_type": "code",
   "execution_count": 19,
   "metadata": {},
   "outputs": [
    {
     "data": {
      "text/plain": [
       "False"
      ]
     },
     "execution_count": 19,
     "metadata": {},
     "output_type": "execute_result"
    }
   ],
   "source": [
    "# check if all schools in webtext_original_full.tsv have less than 250 pages\n",
    "check_N_pages(250, webtext_original_full, \"text_full\")"
   ]
  },
  {
   "cell_type": "code",
   "execution_count": 20,
   "metadata": {},
   "outputs": [
    {
     "data": {
      "text/plain": [
       "False"
      ]
     },
     "execution_count": 20,
     "metadata": {},
     "output_type": "execute_result"
    }
   ],
   "source": [
    "# check if all schools in webtext_unlapped_full.tsv have less than 250 pages\n",
    "check_N_pages(250, webtext_unlapped_full, \"text_full\")"
   ]
  },
  {
   "cell_type": "code",
   "execution_count": 21,
   "metadata": {},
   "outputs": [
    {
     "data": {
      "text/plain": [
       "False"
      ]
     },
     "execution_count": 21,
     "metadata": {},
     "output_type": "execute_result"
    }
   ],
   "source": [
    "# check if all schools in webtext_original_filtered_250.tsv have less than 250 pages\n",
    "check_N_pages(250, webtext_original_filtered_250, \"text_full\")"
   ]
  },
  {
   "cell_type": "code",
   "execution_count": 22,
   "metadata": {},
   "outputs": [
    {
     "data": {
      "text/plain": [
       "True"
      ]
     },
     "execution_count": 22,
     "metadata": {},
     "output_type": "execute_result"
    }
   ],
   "source": [
    "# check if all schools in webtext_unlapped_filtered_10.tsv have less than 10 pages\n",
    "check_N_pages(10, webtext_unlapped_filtered_10, \"text_full\")"
   ]
  },
  {
   "cell_type": "code",
   "execution_count": null,
   "metadata": {},
   "outputs": [],
   "source": []
  }
 ],
 "metadata": {
  "kernelspec": {
   "display_name": "Python 3",
   "language": "python",
   "name": "python3"
  },
  "language_info": {
   "codemirror_mode": {
    "name": "ipython",
    "version": 3
   },
   "file_extension": ".py",
   "mimetype": "text/x-python",
   "name": "python",
   "nbconvert_exporter": "python",
   "pygments_lexer": "ipython3",
   "version": "3.7.3"
  }
 },
 "nbformat": 4,
 "nbformat_minor": 2
}
