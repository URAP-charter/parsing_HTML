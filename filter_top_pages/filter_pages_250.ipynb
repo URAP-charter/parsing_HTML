{
 "cells": [
  {
   "cell_type": "markdown",
   "metadata": {},
   "source": [
    "Reference script directory:\n",
    "\n",
    "- work/text_analysis/parsing/Overlap_Parsing_Improved.py : removed overlaps in the webtext\n",
    "- work/text_analysis/parsing/filter_pages.py : gets the top 250 most relevan\n",
    "t pages\n",
    "- work/text_analysis/parsing/further_cleaning_script.ipynb : string cleaning methods\n",
    "    \n",
    "\n",
    "Use file /vol_b/data/misc_data/webtext_raw/webtext_unlapped_full.tsv as data source. We are most interested in the \"text_full\" column: this is a list of quadruples (one per web page), where 4th element is the text for a web page.\n",
    "\n",
    "Filter each website to its 250 most important pages--that is, keep the top 250 ranked pages and no more. Rank pages based on their number of occurrences of the following keywords:\n",
    "\n",
    "keywords = ['values', 'academics', 'academic', 'skills', 'skill', 'purpose', 'purposes', 'direction', 'mission', 'vision', 'visions', 'missions', 'ideals', 'cause', 'causes', 'curriculum', 'curricular', 'method', 'methods', 'pedagogy', 'pedagogical', 'pedagogies', 'approach', 'approaches', 'model', 'models', 'system', 'systems', 'structure', 'structures', 'philosophy', 'philosophical', 'philosophies', 'beliefs', 'believe', 'belief', 'principles', 'principle', 'creed', 'creeds', 'credo', 'moral', 'morals', 'morality', 'history', 'histories', 'our story', 'the story', 'school story', 'background', 'backgrounds', 'founding', 'founded', 'foundation', 'foundations', 'foundational', 'established','establishment', 'our school began', 'we began', 'doors opened', 'school opened', 'about us', 'our school', 'who we are', 'identity', 'identities', 'profile', 'highlights']\n",
    "\n",
    "Save the resulting file as /vol_b/data/misc_data/webtext_raw/webtext_unlapped_filtered_250.tsv."
   ]
  },
  {
   "cell_type": "code",
   "execution_count": 26,
   "metadata": {},
   "outputs": [],
   "source": [
    "import pandas as pd"
   ]
  },
  {
   "cell_type": "code",
   "execution_count": 32,
   "metadata": {
    "scrolled": true
   },
   "outputs": [],
   "source": [
    "original = pd.read_csv(\"/home/jovyan/work/misc_data/webtext_raw/webtext_unlapped_full.tsv\", sep=\"\\t\")"
   ]
  },
  {
   "cell_type": "code",
   "execution_count": 33,
   "metadata": {},
   "outputs": [],
   "source": [
    "original = original.drop(['Unnamed: 0'], axis=1)"
   ]
  },
  {
   "cell_type": "markdown",
   "metadata": {},
   "source": [
    "convert str to lst"
   ]
  },
  {
   "cell_type": "code",
   "execution_count": 34,
   "metadata": {},
   "outputs": [],
   "source": [
    "original[\"text_full\"] = original[\"text_full\"].apply(lambda x:eval(x))"
   ]
  },
  {
   "cell_type": "markdown",
   "metadata": {},
   "source": [
    "sanity check df"
   ]
  },
  {
   "cell_type": "code",
   "execution_count": 35,
   "metadata": {},
   "outputs": [
    {
     "data": {
      "text/html": [
       "<div>\n",
       "<style scoped>\n",
       "    .dataframe tbody tr th:only-of-type {\n",
       "        vertical-align: middle;\n",
       "    }\n",
       "\n",
       "    .dataframe tbody tr th {\n",
       "        vertical-align: top;\n",
       "    }\n",
       "\n",
       "    .dataframe thead th {\n",
       "        text-align: right;\n",
       "    }\n",
       "</style>\n",
       "<table border=\"1\" class=\"dataframe\">\n",
       "  <thead>\n",
       "    <tr style=\"text-align: right;\">\n",
       "      <th></th>\n",
       "      <th>text_full</th>\n",
       "      <th>NCESSCH</th>\n",
       "    </tr>\n",
       "  </thead>\n",
       "  <tbody>\n",
       "    <tr>\n",
       "      <td>0</td>\n",
       "      <td>[(http://www.maef.net/, False, 0, Evening Acad...</td>\n",
       "      <td>1.001970e+10</td>\n",
       "    </tr>\n",
       "    <tr>\n",
       "      <td>1</td>\n",
       "      <td>[(https://www.kgbsd.org/ketchikancharter, Fals...</td>\n",
       "      <td>2.001500e+10</td>\n",
       "    </tr>\n",
       "    <tr>\n",
       "      <td>2</td>\n",
       "      <td>[(http://tongassschool.org/classrooms/3rd-and-...</td>\n",
       "      <td>2.001500e+10</td>\n",
       "    </tr>\n",
       "    <tr>\n",
       "      <td>3</td>\n",
       "      <td>[(https://www.asdk12.org/aquarian, False, 0, S...</td>\n",
       "      <td>2.001800e+10</td>\n",
       "    </tr>\n",
       "    <tr>\n",
       "      <td>4</td>\n",
       "      <td>[(http://winterberrycharterschool.com/, False,...</td>\n",
       "      <td>2.001800e+10</td>\n",
       "    </tr>\n",
       "  </tbody>\n",
       "</table>\n",
       "</div>"
      ],
      "text/plain": [
       "                                           text_full       NCESSCH\n",
       "0  [(http://www.maef.net/, False, 0, Evening Acad...  1.001970e+10\n",
       "1  [(https://www.kgbsd.org/ketchikancharter, Fals...  2.001500e+10\n",
       "2  [(http://tongassschool.org/classrooms/3rd-and-...  2.001500e+10\n",
       "3  [(https://www.asdk12.org/aquarian, False, 0, S...  2.001800e+10\n",
       "4  [(http://winterberrycharterschool.com/, False,...  2.001800e+10"
      ]
     },
     "execution_count": 35,
     "metadata": {},
     "output_type": "execute_result"
    }
   ],
   "source": [
    "original.head()"
   ]
  },
  {
   "cell_type": "code",
   "execution_count": 56,
   "metadata": {
    "scrolled": false
   },
   "outputs": [
    {
     "data": {
      "text/plain": [
       "(6462, 3)"
      ]
     },
     "execution_count": 56,
     "metadata": {},
     "output_type": "execute_result"
    }
   ],
   "source": [
    "original.shape"
   ]
  },
  {
   "cell_type": "markdown",
   "metadata": {},
   "source": [
    "def keywords"
   ]
  },
  {
   "cell_type": "code",
   "execution_count": 63,
   "metadata": {},
   "outputs": [],
   "source": [
    "keywords = ['values', 'academics', 'academic', 'skills', 'skill', 'purpose', 'purposes', 'direction', 'mission', 'vision', 'visions', 'missions', 'ideals', 'cause', 'causes', 'curriculum', 'curricular', 'method', 'methods', 'pedagogy', 'pedagogical', 'pedagogies', 'approach', 'approaches', 'model', 'models', 'system', 'systems', 'structure', 'structures', 'philosophy', 'philosophical', 'philosophies', 'beliefs', 'believe', 'belief', 'principles', 'principle', 'creed', 'creeds', 'credo', 'moral', 'morals', 'morality', 'history', 'histories', 'our story', 'the story', 'school story', 'background', 'backgrounds', 'founding', 'founded', 'foundation', 'foundations', 'foundational', 'established','establishment', 'our school began', 'we began', 'doors opened', 'school opened', 'about us', 'our school', 'who we are', 'identity', 'identities', 'profile', 'highlights']"
   ]
  },
  {
   "cell_type": "markdown",
   "metadata": {},
   "source": [
    "count page num for each row (before cleaning)"
   ]
  },
  {
   "cell_type": "code",
   "execution_count": 52,
   "metadata": {},
   "outputs": [],
   "source": [
    "original[\"page_num\"] = original[\"text_full\"].apply(lambda x:len(x))"
   ]
  },
  {
   "cell_type": "markdown",
   "metadata": {},
   "source": [
    "sanity check rows which have more than 250 pages"
   ]
  },
  {
   "cell_type": "code",
   "execution_count": 54,
   "metadata": {
    "scrolled": false
   },
   "outputs": [
    {
     "data": {
      "text/html": [
       "<div>\n",
       "<style scoped>\n",
       "    .dataframe tbody tr th:only-of-type {\n",
       "        vertical-align: middle;\n",
       "    }\n",
       "\n",
       "    .dataframe tbody tr th {\n",
       "        vertical-align: top;\n",
       "    }\n",
       "\n",
       "    .dataframe thead th {\n",
       "        text-align: right;\n",
       "    }\n",
       "</style>\n",
       "<table border=\"1\" class=\"dataframe\">\n",
       "  <thead>\n",
       "    <tr style=\"text-align: right;\">\n",
       "      <th></th>\n",
       "      <th>text_full</th>\n",
       "      <th>NCESSCH</th>\n",
       "      <th>page_num</th>\n",
       "    </tr>\n",
       "  </thead>\n",
       "  <tbody>\n",
       "    <tr>\n",
       "      <td>48</td>\n",
       "      <td>[(https://www.goasa.org/, False, 0, 2.5 hours ...</td>\n",
       "      <td>4.000560e+10</td>\n",
       "      <td>270</td>\n",
       "    </tr>\n",
       "    <tr>\n",
       "      <td>108</td>\n",
       "      <td>[(https://www.alaschools.org/, False, 0, Blog\\...</td>\n",
       "      <td>4.001120e+10</td>\n",
       "      <td>484</td>\n",
       "    </tr>\n",
       "    <tr>\n",
       "      <td>109</td>\n",
       "      <td>[(https://www.alaschools.org/, False, 0, Blog\\...</td>\n",
       "      <td>4.001120e+10</td>\n",
       "      <td>487</td>\n",
       "    </tr>\n",
       "    <tr>\n",
       "      <td>112</td>\n",
       "      <td>[(https://www.alaschools.org/, False, 0, Blog\\...</td>\n",
       "      <td>4.001120e+10</td>\n",
       "      <td>494</td>\n",
       "    </tr>\n",
       "    <tr>\n",
       "      <td>121</td>\n",
       "      <td>[(https://www.allaccelerated.org/tucson/, Fals...</td>\n",
       "      <td>4.001290e+10</td>\n",
       "      <td>270</td>\n",
       "    </tr>\n",
       "    <tr>\n",
       "      <td>...</td>\n",
       "      <td>...</td>\n",
       "      <td>...</td>\n",
       "      <td>...</td>\n",
       "    </tr>\n",
       "    <tr>\n",
       "      <td>6384</td>\n",
       "      <td>[(https://www.newrichmond.k12.wi.us/, False, 0...</td>\n",
       "      <td>5.510620e+11</td>\n",
       "      <td>658</td>\n",
       "    </tr>\n",
       "    <tr>\n",
       "      <td>6406</td>\n",
       "      <td>[(http://www.rbsd.k12.wi.us/, False, 0, r\\nIt ...</td>\n",
       "      <td>5.513100e+11</td>\n",
       "      <td>386</td>\n",
       "    </tr>\n",
       "    <tr>\n",
       "      <td>6420</td>\n",
       "      <td>[(http://www.spartan.org/, False, 0, 201 E. Fr...</td>\n",
       "      <td>5.514160e+11</td>\n",
       "      <td>1067</td>\n",
       "    </tr>\n",
       "    <tr>\n",
       "      <td>6424</td>\n",
       "      <td>[(http://www.spooner.k12.wi.us/, False, 0, Sea...</td>\n",
       "      <td>5.514220e+11</td>\n",
       "      <td>300</td>\n",
       "    </tr>\n",
       "    <tr>\n",
       "      <td>6430</td>\n",
       "      <td>[(http://www.flambeau.k12.wi.us/, False, 0, e\\...</td>\n",
       "      <td>5.514970e+11</td>\n",
       "      <td>260</td>\n",
       "    </tr>\n",
       "  </tbody>\n",
       "</table>\n",
       "<p>238 rows × 3 columns</p>\n",
       "</div>"
      ],
      "text/plain": [
       "                                              text_full       NCESSCH  \\\n",
       "48    [(https://www.goasa.org/, False, 0, 2.5 hours ...  4.000560e+10   \n",
       "108   [(https://www.alaschools.org/, False, 0, Blog\\...  4.001120e+10   \n",
       "109   [(https://www.alaschools.org/, False, 0, Blog\\...  4.001120e+10   \n",
       "112   [(https://www.alaschools.org/, False, 0, Blog\\...  4.001120e+10   \n",
       "121   [(https://www.allaccelerated.org/tucson/, Fals...  4.001290e+10   \n",
       "...                                                 ...           ...   \n",
       "6384  [(https://www.newrichmond.k12.wi.us/, False, 0...  5.510620e+11   \n",
       "6406  [(http://www.rbsd.k12.wi.us/, False, 0, r\\nIt ...  5.513100e+11   \n",
       "6420  [(http://www.spartan.org/, False, 0, 201 E. Fr...  5.514160e+11   \n",
       "6424  [(http://www.spooner.k12.wi.us/, False, 0, Sea...  5.514220e+11   \n",
       "6430  [(http://www.flambeau.k12.wi.us/, False, 0, e\\...  5.514970e+11   \n",
       "\n",
       "      page_num  \n",
       "48         270  \n",
       "108        484  \n",
       "109        487  \n",
       "112        494  \n",
       "121        270  \n",
       "...        ...  \n",
       "6384       658  \n",
       "6406       386  \n",
       "6420      1067  \n",
       "6424       300  \n",
       "6430       260  \n",
       "\n",
       "[238 rows x 3 columns]"
      ]
     },
     "execution_count": 54,
     "metadata": {},
     "output_type": "execute_result"
    }
   ],
   "source": [
    "original[original['page_num'] > 250] "
   ]
  },
  {
   "cell_type": "markdown",
   "metadata": {},
   "source": [
    "count keywords in each page, sort by count"
   ]
  },
  {
   "cell_type": "code",
   "execution_count": 143,
   "metadata": {},
   "outputs": [],
   "source": [
    "def get250(lst):\n",
    "    if len(lst) <= 250:\n",
    "        return lst\n",
    "    else:\n",
    "        dic = {}\n",
    "        for page in lst:\n",
    "            count = 0\n",
    "            for w in page[3].split():\n",
    "#                 print(w)\n",
    "                if w.lower() in keywords:\n",
    "                    count += 1\n",
    "            dic[page] = count\n",
    "        return sorted(dic, key = dic.get, reverse=True)[:250]"
   ]
  },
  {
   "cell_type": "markdown",
   "metadata": {},
   "source": [
    "apply function to each row"
   ]
  },
  {
   "cell_type": "code",
   "execution_count": 144,
   "metadata": {},
   "outputs": [],
   "source": [
    "original['text_cleaned'] = original['text_full'].apply(lambda x: get250(x))"
   ]
  },
  {
   "cell_type": "markdown",
   "metadata": {},
   "source": [
    "check result"
   ]
  },
  {
   "cell_type": "code",
   "execution_count": 154,
   "metadata": {
    "scrolled": true
   },
   "outputs": [
    {
     "data": {
      "text/html": [
       "<div>\n",
       "<style scoped>\n",
       "    .dataframe tbody tr th:only-of-type {\n",
       "        vertical-align: middle;\n",
       "    }\n",
       "\n",
       "    .dataframe tbody tr th {\n",
       "        vertical-align: top;\n",
       "    }\n",
       "\n",
       "    .dataframe thead th {\n",
       "        text-align: right;\n",
       "    }\n",
       "</style>\n",
       "<table border=\"1\" class=\"dataframe\">\n",
       "  <thead>\n",
       "    <tr style=\"text-align: right;\">\n",
       "      <th></th>\n",
       "      <th>text_full</th>\n",
       "      <th>NCESSCH</th>\n",
       "      <th>page_num</th>\n",
       "      <th>text_cleaned</th>\n",
       "    </tr>\n",
       "  </thead>\n",
       "  <tbody>\n",
       "    <tr>\n",
       "      <td>0</td>\n",
       "      <td>[(http://www.maef.net/, False, 0, Evening Acad...</td>\n",
       "      <td>1.001970e+10</td>\n",
       "      <td>41</td>\n",
       "      <td>[(http://www.maef.net/, False, 0, Evening Acad...</td>\n",
       "    </tr>\n",
       "    <tr>\n",
       "      <td>1</td>\n",
       "      <td>[(https://www.kgbsd.org/ketchikancharter, Fals...</td>\n",
       "      <td>2.001500e+10</td>\n",
       "      <td>1</td>\n",
       "      <td>[(https://www.kgbsd.org/ketchikancharter, Fals...</td>\n",
       "    </tr>\n",
       "    <tr>\n",
       "      <td>2</td>\n",
       "      <td>[(http://tongassschool.org/classrooms/3rd-and-...</td>\n",
       "      <td>2.001500e+10</td>\n",
       "      <td>117</td>\n",
       "      <td>[(http://tongassschool.org/classrooms/3rd-and-...</td>\n",
       "    </tr>\n",
       "    <tr>\n",
       "      <td>3</td>\n",
       "      <td>[(https://www.asdk12.org/aquarian, False, 0, S...</td>\n",
       "      <td>2.001800e+10</td>\n",
       "      <td>1</td>\n",
       "      <td>[(https://www.asdk12.org/aquarian, False, 0, S...</td>\n",
       "    </tr>\n",
       "    <tr>\n",
       "      <td>4</td>\n",
       "      <td>[(http://winterberrycharterschool.com/, False,...</td>\n",
       "      <td>2.001800e+10</td>\n",
       "      <td>33</td>\n",
       "      <td>[(http://winterberrycharterschool.com/, False,...</td>\n",
       "    </tr>\n",
       "  </tbody>\n",
       "</table>\n",
       "</div>"
      ],
      "text/plain": [
       "                                           text_full       NCESSCH  page_num  \\\n",
       "0  [(http://www.maef.net/, False, 0, Evening Acad...  1.001970e+10        41   \n",
       "1  [(https://www.kgbsd.org/ketchikancharter, Fals...  2.001500e+10         1   \n",
       "2  [(http://tongassschool.org/classrooms/3rd-and-...  2.001500e+10       117   \n",
       "3  [(https://www.asdk12.org/aquarian, False, 0, S...  2.001800e+10         1   \n",
       "4  [(http://winterberrycharterschool.com/, False,...  2.001800e+10        33   \n",
       "\n",
       "                                        text_cleaned  \n",
       "0  [(http://www.maef.net/, False, 0, Evening Acad...  \n",
       "1  [(https://www.kgbsd.org/ketchikancharter, Fals...  \n",
       "2  [(http://tongassschool.org/classrooms/3rd-and-...  \n",
       "3  [(https://www.asdk12.org/aquarian, False, 0, S...  \n",
       "4  [(http://winterberrycharterschool.com/, False,...  "
      ]
     },
     "execution_count": 154,
     "metadata": {},
     "output_type": "execute_result"
    }
   ],
   "source": [
    "original.head()"
   ]
  },
  {
   "cell_type": "markdown",
   "metadata": {},
   "source": [
    "save as csv"
   ]
  },
  {
   "cell_type": "code",
   "execution_count": 159,
   "metadata": {},
   "outputs": [],
   "source": [
    "original.to_csv(\"/home/jovyan/work/misc_data/webtext_raw/webtext_cleaned_250.csv\")"
   ]
  },
  {
   "cell_type": "markdown",
   "metadata": {},
   "source": [
    "check if successfully saved"
   ]
  },
  {
   "cell_type": "code",
   "execution_count": 160,
   "metadata": {},
   "outputs": [],
   "source": [
    "cleaned = pd.read_csv(\"/home/jovyan/work/misc_data/webtext_raw/webtext_cleaned_250.csv\")"
   ]
  },
  {
   "cell_type": "code",
   "execution_count": 161,
   "metadata": {},
   "outputs": [
    {
     "data": {
      "text/html": [
       "<div>\n",
       "<style scoped>\n",
       "    .dataframe tbody tr th:only-of-type {\n",
       "        vertical-align: middle;\n",
       "    }\n",
       "\n",
       "    .dataframe tbody tr th {\n",
       "        vertical-align: top;\n",
       "    }\n",
       "\n",
       "    .dataframe thead th {\n",
       "        text-align: right;\n",
       "    }\n",
       "</style>\n",
       "<table border=\"1\" class=\"dataframe\">\n",
       "  <thead>\n",
       "    <tr style=\"text-align: right;\">\n",
       "      <th></th>\n",
       "      <th>Unnamed: 0</th>\n",
       "      <th>text_full</th>\n",
       "      <th>NCESSCH</th>\n",
       "      <th>page_num</th>\n",
       "      <th>text_cleaned</th>\n",
       "    </tr>\n",
       "  </thead>\n",
       "  <tbody>\n",
       "    <tr>\n",
       "      <td>0</td>\n",
       "      <td>0</td>\n",
       "      <td>[('http://www.maef.net/', 'False', '0', \"Eveni...</td>\n",
       "      <td>1.001970e+10</td>\n",
       "      <td>41</td>\n",
       "      <td>[('http://www.maef.net/', 'False', '0', \"Eveni...</td>\n",
       "    </tr>\n",
       "    <tr>\n",
       "      <td>1</td>\n",
       "      <td>1</td>\n",
       "      <td>[('https://www.kgbsd.org/ketchikancharter', 'F...</td>\n",
       "      <td>2.001500e+10</td>\n",
       "      <td>1</td>\n",
       "      <td>[('https://www.kgbsd.org/ketchikancharter', 'F...</td>\n",
       "    </tr>\n",
       "    <tr>\n",
       "      <td>2</td>\n",
       "      <td>2</td>\n",
       "      <td>[('http://tongassschool.org/classrooms/3rd-and...</td>\n",
       "      <td>2.001500e+10</td>\n",
       "      <td>117</td>\n",
       "      <td>[('http://tongassschool.org/classrooms/3rd-and...</td>\n",
       "    </tr>\n",
       "    <tr>\n",
       "      <td>3</td>\n",
       "      <td>3</td>\n",
       "      <td>[('https://www.asdk12.org/aquarian', 'False', ...</td>\n",
       "      <td>2.001800e+10</td>\n",
       "      <td>1</td>\n",
       "      <td>[('https://www.asdk12.org/aquarian', 'False', ...</td>\n",
       "    </tr>\n",
       "    <tr>\n",
       "      <td>4</td>\n",
       "      <td>4</td>\n",
       "      <td>[('http://winterberrycharterschool.com/', 'Fal...</td>\n",
       "      <td>2.001800e+10</td>\n",
       "      <td>33</td>\n",
       "      <td>[('http://winterberrycharterschool.com/', 'Fal...</td>\n",
       "    </tr>\n",
       "  </tbody>\n",
       "</table>\n",
       "</div>"
      ],
      "text/plain": [
       "   Unnamed: 0                                          text_full  \\\n",
       "0           0  [('http://www.maef.net/', 'False', '0', \"Eveni...   \n",
       "1           1  [('https://www.kgbsd.org/ketchikancharter', 'F...   \n",
       "2           2  [('http://tongassschool.org/classrooms/3rd-and...   \n",
       "3           3  [('https://www.asdk12.org/aquarian', 'False', ...   \n",
       "4           4  [('http://winterberrycharterschool.com/', 'Fal...   \n",
       "\n",
       "        NCESSCH  page_num                                       text_cleaned  \n",
       "0  1.001970e+10        41  [('http://www.maef.net/', 'False', '0', \"Eveni...  \n",
       "1  2.001500e+10         1  [('https://www.kgbsd.org/ketchikancharter', 'F...  \n",
       "2  2.001500e+10       117  [('http://tongassschool.org/classrooms/3rd-and...  \n",
       "3  2.001800e+10         1  [('https://www.asdk12.org/aquarian', 'False', ...  \n",
       "4  2.001800e+10        33  [('http://winterberrycharterschool.com/', 'Fal...  "
      ]
     },
     "execution_count": 161,
     "metadata": {},
     "output_type": "execute_result"
    }
   ],
   "source": [
    "cleaned.head()"
   ]
  }
 ],
 "metadata": {
  "kernelspec": {
   "display_name": "Python 3",
   "language": "python",
   "name": "python3"
  },
  "language_info": {
   "codemirror_mode": {
    "name": "ipython",
    "version": 3
   },
   "file_extension": ".py",
   "mimetype": "text/x-python",
   "name": "python",
   "nbconvert_exporter": "python",
   "pygments_lexer": "ipython3",
   "version": "3.7.3"
  }
 },
 "nbformat": 4,
 "nbformat_minor": 2
}
