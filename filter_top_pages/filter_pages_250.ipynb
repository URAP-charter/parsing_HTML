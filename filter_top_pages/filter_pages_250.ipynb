{
 "cells": [
  {
   "cell_type": "markdown",
   "metadata": {},
   "source": [
    "Reference script directory:\n",
    "\n",
    "- work/text_analysis/parsing/Overlap_Parsing_Improved.py : removed overlaps in the webtext\n",
    "- work/text_analysis/parsing/further_cleaning_script.ipynb : string cleaning methods\n",
    "    \n",
    "Use file `/vol_b/data/misc_data/webtext_raw/webtext_unlapped_full.tsv` as data source. We are most interested in the `text_full` column: this is a list of quadruples (one per web page), where 4th element is the text for a web page. Filter each website to its 250 most important pages--that is, keep the top 250 ranked pages and no more. Rank pages based on their number of occurrences of the following keywords:\n",
    "\n",
    "keywords = ['values', 'academics', 'academic', 'skills', 'skill', 'purpose', 'purposes', 'direction', 'mission', 'vision', 'visions', 'missions', 'ideals', 'cause', 'causes', 'curriculum', 'curricular', 'method', 'methods', 'pedagogy', 'pedagogical', 'pedagogies', 'approach', 'approaches', 'model', 'models', 'system', 'systems', 'structure', 'structures', 'philosophy', 'philosophical', 'philosophies', 'beliefs', 'believe', 'belief', 'principles', 'principle', 'creed', 'creeds', 'credo', 'moral', 'morals', 'morality', 'history', 'histories', 'our story', 'the story', 'school story', 'background', 'backgrounds', 'founding', 'founded', 'foundation', 'foundations', 'foundational', 'established','establishment', 'our school began', 'we began', 'doors opened', 'school opened', 'about us', 'our school', 'who we are', 'identity', 'identities', 'profile', 'highlights']\n",
    "\n",
    "Save the resulting file as `/vol_b/data/misc_data/webtext_raw/webtext_unlapped_filtered_250.tsv`.\n",
    "Do the same thing to produce 10 and 100-page lengths, saving as `/vol_b/data/misc_data/webtext_raw/webtext_unlapped_filtered_100.tsv` and \n",
    "`/vol_b/data/misc_data/webtext_raw/webtext_unlapped_filtered_10.tsv`.  "
   ]
  },
  {
   "cell_type": "markdown",
   "metadata": {},
   "source": [
    "### Import Statements and Load Data"
   ]
  },
  {
   "cell_type": "code",
   "execution_count": 1,
   "metadata": {},
   "outputs": [],
   "source": [
    "import pandas as pd\n",
    "import numpy as np\n",
    "import ast\n",
    "import re"
   ]
  },
  {
   "cell_type": "code",
   "execution_count": 2,
   "metadata": {
    "scrolled": true
   },
   "outputs": [],
   "source": [
    "original = pd.read_csv(\"/home/jovyan/work/misc_data/webtext_raw/webtext_unlapped_full.tsv\", sep=\"\\t\")"
   ]
  },
  {
   "cell_type": "code",
   "execution_count": 3,
   "metadata": {},
   "outputs": [
    {
     "data": {
      "text/plain": [
       "['Unnamed: 0', 'text_full', 'NCESSCH']"
      ]
     },
     "execution_count": 3,
     "metadata": {},
     "output_type": "execute_result"
    }
   ],
   "source": [
    "list(original)"
   ]
  },
  {
   "cell_type": "code",
   "execution_count": 4,
   "metadata": {},
   "outputs": [
    {
     "data": {
      "text/html": [
       "<div>\n",
       "<style scoped>\n",
       "    .dataframe tbody tr th:only-of-type {\n",
       "        vertical-align: middle;\n",
       "    }\n",
       "\n",
       "    .dataframe tbody tr th {\n",
       "        vertical-align: top;\n",
       "    }\n",
       "\n",
       "    .dataframe thead th {\n",
       "        text-align: right;\n",
       "    }\n",
       "</style>\n",
       "<table border=\"1\" class=\"dataframe\">\n",
       "  <thead>\n",
       "    <tr style=\"text-align: right;\">\n",
       "      <th></th>\n",
       "      <th>text_full</th>\n",
       "      <th>NCESSCH</th>\n",
       "    </tr>\n",
       "  </thead>\n",
       "  <tbody>\n",
       "    <tr>\n",
       "      <td>0</td>\n",
       "      <td>[('http://www.maef.net/', 'False', '0', \"Eveni...</td>\n",
       "      <td>1.001970e+10</td>\n",
       "    </tr>\n",
       "    <tr>\n",
       "      <td>1</td>\n",
       "      <td>[('https://www.kgbsd.org/ketchikancharter', 'F...</td>\n",
       "      <td>2.001500e+10</td>\n",
       "    </tr>\n",
       "    <tr>\n",
       "      <td>2</td>\n",
       "      <td>[('http://tongassschool.org/classrooms/3rd-and...</td>\n",
       "      <td>2.001500e+10</td>\n",
       "    </tr>\n",
       "    <tr>\n",
       "      <td>3</td>\n",
       "      <td>[('https://www.asdk12.org/aquarian', 'False', ...</td>\n",
       "      <td>2.001800e+10</td>\n",
       "    </tr>\n",
       "    <tr>\n",
       "      <td>4</td>\n",
       "      <td>[('http://winterberrycharterschool.com/', 'Fal...</td>\n",
       "      <td>2.001800e+10</td>\n",
       "    </tr>\n",
       "  </tbody>\n",
       "</table>\n",
       "</div>"
      ],
      "text/plain": [
       "                                           text_full       NCESSCH\n",
       "0  [('http://www.maef.net/', 'False', '0', \"Eveni...  1.001970e+10\n",
       "1  [('https://www.kgbsd.org/ketchikancharter', 'F...  2.001500e+10\n",
       "2  [('http://tongassschool.org/classrooms/3rd-and...  2.001500e+10\n",
       "3  [('https://www.asdk12.org/aquarian', 'False', ...  2.001800e+10\n",
       "4  [('http://winterberrycharterschool.com/', 'Fal...  2.001800e+10"
      ]
     },
     "execution_count": 4,
     "metadata": {},
     "output_type": "execute_result"
    }
   ],
   "source": [
    "original = original.drop(['Unnamed: 0'], axis=1)\n",
    "original.head()"
   ]
  },
  {
   "cell_type": "markdown",
   "metadata": {},
   "source": [
    "### Data Pre-Processing"
   ]
  },
  {
   "cell_type": "code",
   "execution_count": 5,
   "metadata": {},
   "outputs": [],
   "source": [
    "# convert strings in text_full column into lists\n",
    "original[\"text_full\"] = original[\"text_full\"].apply(lambda x: ast.literal_eval(x))"
   ]
  },
  {
   "cell_type": "code",
   "execution_count": 6,
   "metadata": {},
   "outputs": [
    {
     "data": {
      "text/plain": [
       "list"
      ]
     },
     "execution_count": 6,
     "metadata": {},
     "output_type": "execute_result"
    }
   ],
   "source": [
    "# check that text_full contains lists\n",
    "type(original[\"text_full\"][0])"
   ]
  },
  {
   "cell_type": "code",
   "execution_count": 7,
   "metadata": {},
   "outputs": [
    {
     "data": {
      "text/html": [
       "<div>\n",
       "<style scoped>\n",
       "    .dataframe tbody tr th:only-of-type {\n",
       "        vertical-align: middle;\n",
       "    }\n",
       "\n",
       "    .dataframe tbody tr th {\n",
       "        vertical-align: top;\n",
       "    }\n",
       "\n",
       "    .dataframe thead th {\n",
       "        text-align: right;\n",
       "    }\n",
       "</style>\n",
       "<table border=\"1\" class=\"dataframe\">\n",
       "  <thead>\n",
       "    <tr style=\"text-align: right;\">\n",
       "      <th></th>\n",
       "      <th>text_full</th>\n",
       "      <th>NCESSCH</th>\n",
       "      <th>full_page_num</th>\n",
       "    </tr>\n",
       "  </thead>\n",
       "  <tbody>\n",
       "    <tr>\n",
       "      <td>0</td>\n",
       "      <td>[(http://www.maef.net/, False, 0, Evening Acad...</td>\n",
       "      <td>1.001970e+10</td>\n",
       "      <td>41</td>\n",
       "    </tr>\n",
       "    <tr>\n",
       "      <td>1</td>\n",
       "      <td>[(https://www.kgbsd.org/ketchikancharter, Fals...</td>\n",
       "      <td>2.001500e+10</td>\n",
       "      <td>1</td>\n",
       "    </tr>\n",
       "    <tr>\n",
       "      <td>2</td>\n",
       "      <td>[(http://tongassschool.org/classrooms/3rd-and-...</td>\n",
       "      <td>2.001500e+10</td>\n",
       "      <td>117</td>\n",
       "    </tr>\n",
       "    <tr>\n",
       "      <td>3</td>\n",
       "      <td>[(https://www.asdk12.org/aquarian, False, 0, S...</td>\n",
       "      <td>2.001800e+10</td>\n",
       "      <td>1</td>\n",
       "    </tr>\n",
       "    <tr>\n",
       "      <td>4</td>\n",
       "      <td>[(http://winterberrycharterschool.com/, False,...</td>\n",
       "      <td>2.001800e+10</td>\n",
       "      <td>33</td>\n",
       "    </tr>\n",
       "  </tbody>\n",
       "</table>\n",
       "</div>"
      ],
      "text/plain": [
       "                                           text_full       NCESSCH  \\\n",
       "0  [(http://www.maef.net/, False, 0, Evening Acad...  1.001970e+10   \n",
       "1  [(https://www.kgbsd.org/ketchikancharter, Fals...  2.001500e+10   \n",
       "2  [(http://tongassschool.org/classrooms/3rd-and-...  2.001500e+10   \n",
       "3  [(https://www.asdk12.org/aquarian, False, 0, S...  2.001800e+10   \n",
       "4  [(http://winterberrycharterschool.com/, False,...  2.001800e+10   \n",
       "\n",
       "   full_page_num  \n",
       "0             41  \n",
       "1              1  \n",
       "2            117  \n",
       "3              1  \n",
       "4             33  "
      ]
     },
     "execution_count": 7,
     "metadata": {},
     "output_type": "execute_result"
    }
   ],
   "source": [
    "# count the number of pages for each school\n",
    "original[\"full_page_num\"] = original[\"text_full\"].apply(lambda x:len(x))\n",
    "original.head()"
   ]
  },
  {
   "cell_type": "code",
   "execution_count": 8,
   "metadata": {
    "scrolled": false
   },
   "outputs": [
    {
     "data": {
      "text/html": [
       "<div>\n",
       "<style scoped>\n",
       "    .dataframe tbody tr th:only-of-type {\n",
       "        vertical-align: middle;\n",
       "    }\n",
       "\n",
       "    .dataframe tbody tr th {\n",
       "        vertical-align: top;\n",
       "    }\n",
       "\n",
       "    .dataframe thead th {\n",
       "        text-align: right;\n",
       "    }\n",
       "</style>\n",
       "<table border=\"1\" class=\"dataframe\">\n",
       "  <thead>\n",
       "    <tr style=\"text-align: right;\">\n",
       "      <th></th>\n",
       "      <th>text_full</th>\n",
       "      <th>NCESSCH</th>\n",
       "      <th>full_page_num</th>\n",
       "    </tr>\n",
       "  </thead>\n",
       "  <tbody>\n",
       "    <tr>\n",
       "      <td>48</td>\n",
       "      <td>[(https://www.goasa.org/, False, 0, 2.5 hours ...</td>\n",
       "      <td>4.000560e+10</td>\n",
       "      <td>270</td>\n",
       "    </tr>\n",
       "    <tr>\n",
       "      <td>108</td>\n",
       "      <td>[(https://www.alaschools.org/, False, 0, Blog\\...</td>\n",
       "      <td>4.001120e+10</td>\n",
       "      <td>484</td>\n",
       "    </tr>\n",
       "    <tr>\n",
       "      <td>109</td>\n",
       "      <td>[(https://www.alaschools.org/, False, 0, Blog\\...</td>\n",
       "      <td>4.001120e+10</td>\n",
       "      <td>487</td>\n",
       "    </tr>\n",
       "    <tr>\n",
       "      <td>112</td>\n",
       "      <td>[(https://www.alaschools.org/, False, 0, Blog\\...</td>\n",
       "      <td>4.001120e+10</td>\n",
       "      <td>494</td>\n",
       "    </tr>\n",
       "    <tr>\n",
       "      <td>121</td>\n",
       "      <td>[(https://www.allaccelerated.org/tucson/, Fals...</td>\n",
       "      <td>4.001290e+10</td>\n",
       "      <td>270</td>\n",
       "    </tr>\n",
       "  </tbody>\n",
       "</table>\n",
       "</div>"
      ],
      "text/plain": [
       "                                             text_full       NCESSCH  \\\n",
       "48   [(https://www.goasa.org/, False, 0, 2.5 hours ...  4.000560e+10   \n",
       "108  [(https://www.alaschools.org/, False, 0, Blog\\...  4.001120e+10   \n",
       "109  [(https://www.alaschools.org/, False, 0, Blog\\...  4.001120e+10   \n",
       "112  [(https://www.alaschools.org/, False, 0, Blog\\...  4.001120e+10   \n",
       "121  [(https://www.allaccelerated.org/tucson/, Fals...  4.001290e+10   \n",
       "\n",
       "     full_page_num  \n",
       "48             270  \n",
       "108            484  \n",
       "109            487  \n",
       "112            494  \n",
       "121            270  "
      ]
     },
     "execution_count": 8,
     "metadata": {},
     "output_type": "execute_result"
    }
   ],
   "source": [
    "# check for rows with more than 250 pages\n",
    "more_than_250 = original[original['full_page_num'] > 250]\n",
    "more_than_250.head()"
   ]
  },
  {
   "cell_type": "markdown",
   "metadata": {},
   "source": [
    "### Score Pages by Keywords"
   ]
  },
  {
   "cell_type": "code",
   "execution_count": 9,
   "metadata": {},
   "outputs": [],
   "source": [
    "# define keywords to rank pages\n",
    "keywords = ['values', 'academics', 'academic', 'skills', 'skill', 'purpose', 'purposes', 'direction', \n",
    "            'mission', 'vision', 'visions', 'missions', 'ideals', 'cause', 'causes', 'curriculum', \n",
    "            'curricular', 'method', 'methods', 'pedagogy', 'pedagogical', 'pedagogies', 'approach', \n",
    "            'approaches', 'model', 'models', 'system', 'systems', 'structure', 'structures', 'philosophy', \n",
    "            'philosophical', 'philosophies', 'beliefs', 'believe', 'belief', 'principles', 'principle', \n",
    "            'creed', 'creeds', 'credo', 'moral', 'morals', 'morality', 'history', 'histories', 'our story', \n",
    "            'the story', 'school story', 'background', 'backgrounds', 'founding', 'founded', 'foundation', \n",
    "            'foundations', 'foundational', 'established','establishment', 'our school began', 'we began', \n",
    "            'doors opened', 'school opened', 'about us', 'our school', 'who we are', 'identity', 'identities', \n",
    "            'profile', 'highlights']"
   ]
  },
  {
   "cell_type": "code",
   "execution_count": 10,
   "metadata": {},
   "outputs": [],
   "source": [
    "def score_page(txt):\n",
    "    \"\"\"\n",
    "    Assign a score to a page based on the normalized count of keywords it contains.\n",
    "    \n",
    "    \"\"\"\n",
    "    # remove newline characters and \"|\" characters before splitting\n",
    "    filtered_txt = txt.replace(\"|\", \" \").replace(\"\\n\", \" \")\n",
    "    # split on whitespace to find the number of words\n",
    "    num_words = len(filtered_txt.split())\n",
    "    \n",
    "    total_count = 0\n",
    "    for word in keywords: \n",
    "        count = len(re.findall(word + \"\\W\", filtered_txt))\n",
    "        total_count += count\n",
    "        \n",
    "    # normalize by page length and take the log to avoid very small values\n",
    "    if num_words == 0:\n",
    "        score = 0\n",
    "    else:\n",
    "        score = np.log(total_count / num_words)\n",
    "    \n",
    "    return score"
   ]
  },
  {
   "cell_type": "code",
   "execution_count": 11,
   "metadata": {},
   "outputs": [],
   "source": [
    "def get_top_N(N, pages):\n",
    "    \"\"\"\n",
    "    Return a list of the top N pages with the highest scores from the input list of pages.\n",
    "    \n",
    "    \"\"\"\n",
    "    if len(pages) <= N:\n",
    "        # if less than or equal to N pages, no need to filter\n",
    "        return pages\n",
    "    else:\n",
    "        scores_dict = {}\n",
    "        for page in pages:\n",
    "            page_text = page[3]\n",
    "            score = score_page(page_text)\n",
    "            scores_dict[page] = score\n",
    "        return sorted(scores_dict, key=scores_dict.get, reverse=True)[:N]"
   ]
  },
  {
   "cell_type": "markdown",
   "metadata": {},
   "source": [
    "### Keep 250 Highest Scoring Pages"
   ]
  },
  {
   "cell_type": "code",
   "execution_count": 89,
   "metadata": {},
   "outputs": [
    {
     "data": {
      "text/html": [
       "<div>\n",
       "<style scoped>\n",
       "    .dataframe tbody tr th:only-of-type {\n",
       "        vertical-align: middle;\n",
       "    }\n",
       "\n",
       "    .dataframe tbody tr th {\n",
       "        vertical-align: top;\n",
       "    }\n",
       "\n",
       "    .dataframe thead th {\n",
       "        text-align: right;\n",
       "    }\n",
       "</style>\n",
       "<table border=\"1\" class=\"dataframe\">\n",
       "  <thead>\n",
       "    <tr style=\"text-align: right;\">\n",
       "      <th></th>\n",
       "      <th>text_full</th>\n",
       "      <th>NCESSCH</th>\n",
       "      <th>full_page_num</th>\n",
       "      <th>text_250</th>\n",
       "      <th>page_num_250</th>\n",
       "      <th>text_100</th>\n",
       "    </tr>\n",
       "  </thead>\n",
       "  <tbody>\n",
       "    <tr>\n",
       "      <td>0</td>\n",
       "      <td>[(http://www.maef.net/, False, 0, Evening Acad...</td>\n",
       "      <td>1.001970e+10</td>\n",
       "      <td>41</td>\n",
       "      <td>[(http://www.maef.net/, False, 0, Evening Acad...</td>\n",
       "      <td>41</td>\n",
       "      <td>[(http://www.maef.net/, False, 0, Evening Acad...</td>\n",
       "    </tr>\n",
       "    <tr>\n",
       "      <td>1</td>\n",
       "      <td>[(https://www.kgbsd.org/ketchikancharter, Fals...</td>\n",
       "      <td>2.001500e+10</td>\n",
       "      <td>1</td>\n",
       "      <td>[(https://www.kgbsd.org/ketchikancharter, Fals...</td>\n",
       "      <td>1</td>\n",
       "      <td>[(https://www.kgbsd.org/ketchikancharter, Fals...</td>\n",
       "    </tr>\n",
       "    <tr>\n",
       "      <td>2</td>\n",
       "      <td>[(http://tongassschool.org/classrooms/3rd-and-...</td>\n",
       "      <td>2.001500e+10</td>\n",
       "      <td>117</td>\n",
       "      <td>[(http://tongassschool.org/classrooms/3rd-and-...</td>\n",
       "      <td>117</td>\n",
       "      <td>[False, http://tongassschool.org/school-office...</td>\n",
       "    </tr>\n",
       "    <tr>\n",
       "      <td>3</td>\n",
       "      <td>[(https://www.asdk12.org/aquarian, False, 0, S...</td>\n",
       "      <td>2.001800e+10</td>\n",
       "      <td>1</td>\n",
       "      <td>[(https://www.asdk12.org/aquarian, False, 0, S...</td>\n",
       "      <td>1</td>\n",
       "      <td>[(https://www.asdk12.org/aquarian, False, 0, S...</td>\n",
       "    </tr>\n",
       "    <tr>\n",
       "      <td>4</td>\n",
       "      <td>[(http://winterberrycharterschool.com/, False,...</td>\n",
       "      <td>2.001800e+10</td>\n",
       "      <td>33</td>\n",
       "      <td>[(http://winterberrycharterschool.com/, False,...</td>\n",
       "      <td>33</td>\n",
       "      <td>[(http://winterberrycharterschool.com/, False,...</td>\n",
       "    </tr>\n",
       "  </tbody>\n",
       "</table>\n",
       "</div>"
      ],
      "text/plain": [
       "                                           text_full       NCESSCH  \\\n",
       "0  [(http://www.maef.net/, False, 0, Evening Acad...  1.001970e+10   \n",
       "1  [(https://www.kgbsd.org/ketchikancharter, Fals...  2.001500e+10   \n",
       "2  [(http://tongassschool.org/classrooms/3rd-and-...  2.001500e+10   \n",
       "3  [(https://www.asdk12.org/aquarian, False, 0, S...  2.001800e+10   \n",
       "4  [(http://winterberrycharterschool.com/, False,...  2.001800e+10   \n",
       "\n",
       "   full_page_num                                           text_250  \\\n",
       "0             41  [(http://www.maef.net/, False, 0, Evening Acad...   \n",
       "1              1  [(https://www.kgbsd.org/ketchikancharter, Fals...   \n",
       "2            117  [(http://tongassschool.org/classrooms/3rd-and-...   \n",
       "3              1  [(https://www.asdk12.org/aquarian, False, 0, S...   \n",
       "4             33  [(http://winterberrycharterschool.com/, False,...   \n",
       "\n",
       "   page_num_250                                           text_100  \n",
       "0            41  [(http://www.maef.net/, False, 0, Evening Acad...  \n",
       "1             1  [(https://www.kgbsd.org/ketchikancharter, Fals...  \n",
       "2           117  [False, http://tongassschool.org/school-office...  \n",
       "3             1  [(https://www.asdk12.org/aquarian, False, 0, S...  \n",
       "4            33  [(http://winterberrycharterschool.com/, False,...  "
      ]
     },
     "execution_count": 89,
     "metadata": {},
     "output_type": "execute_result"
    }
   ],
   "source": [
    "# apply get_top_N to each list of school pages in text_full\n",
    "original['text_250'] = original['text_full'].apply(lambda x: get_top_N(250, x))\n",
    "original.head()"
   ]
  },
  {
   "cell_type": "code",
   "execution_count": 90,
   "metadata": {},
   "outputs": [
    {
     "data": {
      "text/html": [
       "<div>\n",
       "<style scoped>\n",
       "    .dataframe tbody tr th:only-of-type {\n",
       "        vertical-align: middle;\n",
       "    }\n",
       "\n",
       "    .dataframe tbody tr th {\n",
       "        vertical-align: top;\n",
       "    }\n",
       "\n",
       "    .dataframe thead th {\n",
       "        text-align: right;\n",
       "    }\n",
       "</style>\n",
       "<table border=\"1\" class=\"dataframe\">\n",
       "  <thead>\n",
       "    <tr style=\"text-align: right;\">\n",
       "      <th></th>\n",
       "      <th>text_full</th>\n",
       "      <th>NCESSCH</th>\n",
       "      <th>full_page_num</th>\n",
       "      <th>text_250</th>\n",
       "      <th>page_num_250</th>\n",
       "      <th>text_100</th>\n",
       "    </tr>\n",
       "  </thead>\n",
       "  <tbody>\n",
       "  </tbody>\n",
       "</table>\n",
       "</div>"
      ],
      "text/plain": [
       "Empty DataFrame\n",
       "Columns: [text_full, NCESSCH, full_page_num, text_250, page_num_250, text_100]\n",
       "Index: []"
      ]
     },
     "execution_count": 90,
     "metadata": {},
     "output_type": "execute_result"
    }
   ],
   "source": [
    "# check that every school has less than or equal to 250 pages\n",
    "original['page_num_250'] = original['text_250'].apply(lambda x: len(x))\n",
    "original[original[\"page_num_250\"] > 250]"
   ]
  },
  {
   "cell_type": "markdown",
   "metadata": {},
   "source": [
    "### Keep 100 Highest Scoring Pages"
   ]
  },
  {
   "cell_type": "code",
   "execution_count": 92,
   "metadata": {},
   "outputs": [
    {
     "data": {
      "text/html": [
       "<div>\n",
       "<style scoped>\n",
       "    .dataframe tbody tr th:only-of-type {\n",
       "        vertical-align: middle;\n",
       "    }\n",
       "\n",
       "    .dataframe tbody tr th {\n",
       "        vertical-align: top;\n",
       "    }\n",
       "\n",
       "    .dataframe thead th {\n",
       "        text-align: right;\n",
       "    }\n",
       "</style>\n",
       "<table border=\"1\" class=\"dataframe\">\n",
       "  <thead>\n",
       "    <tr style=\"text-align: right;\">\n",
       "      <th></th>\n",
       "      <th>text_full</th>\n",
       "      <th>NCESSCH</th>\n",
       "      <th>full_page_num</th>\n",
       "      <th>text_250</th>\n",
       "      <th>page_num_250</th>\n",
       "      <th>text_100</th>\n",
       "    </tr>\n",
       "  </thead>\n",
       "  <tbody>\n",
       "    <tr>\n",
       "      <td>0</td>\n",
       "      <td>[(http://www.maef.net/, False, 0, Evening Acad...</td>\n",
       "      <td>1.001970e+10</td>\n",
       "      <td>41</td>\n",
       "      <td>[(http://www.maef.net/, False, 0, Evening Acad...</td>\n",
       "      <td>41</td>\n",
       "      <td>[(http://www.maef.net/, False, 0, Evening Acad...</td>\n",
       "    </tr>\n",
       "    <tr>\n",
       "      <td>1</td>\n",
       "      <td>[(https://www.kgbsd.org/ketchikancharter, Fals...</td>\n",
       "      <td>2.001500e+10</td>\n",
       "      <td>1</td>\n",
       "      <td>[(https://www.kgbsd.org/ketchikancharter, Fals...</td>\n",
       "      <td>1</td>\n",
       "      <td>[(https://www.kgbsd.org/ketchikancharter, Fals...</td>\n",
       "    </tr>\n",
       "    <tr>\n",
       "      <td>2</td>\n",
       "      <td>[(http://tongassschool.org/classrooms/3rd-and-...</td>\n",
       "      <td>2.001500e+10</td>\n",
       "      <td>117</td>\n",
       "      <td>[(http://tongassschool.org/classrooms/3rd-and-...</td>\n",
       "      <td>117</td>\n",
       "      <td>[(http://tongassschool.org/classrooms/ms-lydia...</td>\n",
       "    </tr>\n",
       "    <tr>\n",
       "      <td>3</td>\n",
       "      <td>[(https://www.asdk12.org/aquarian, False, 0, S...</td>\n",
       "      <td>2.001800e+10</td>\n",
       "      <td>1</td>\n",
       "      <td>[(https://www.asdk12.org/aquarian, False, 0, S...</td>\n",
       "      <td>1</td>\n",
       "      <td>[(https://www.asdk12.org/aquarian, False, 0, S...</td>\n",
       "    </tr>\n",
       "    <tr>\n",
       "      <td>4</td>\n",
       "      <td>[(http://winterberrycharterschool.com/, False,...</td>\n",
       "      <td>2.001800e+10</td>\n",
       "      <td>33</td>\n",
       "      <td>[(http://winterberrycharterschool.com/, False,...</td>\n",
       "      <td>33</td>\n",
       "      <td>[(http://winterberrycharterschool.com/, False,...</td>\n",
       "    </tr>\n",
       "  </tbody>\n",
       "</table>\n",
       "</div>"
      ],
      "text/plain": [
       "                                           text_full       NCESSCH  \\\n",
       "0  [(http://www.maef.net/, False, 0, Evening Acad...  1.001970e+10   \n",
       "1  [(https://www.kgbsd.org/ketchikancharter, Fals...  2.001500e+10   \n",
       "2  [(http://tongassschool.org/classrooms/3rd-and-...  2.001500e+10   \n",
       "3  [(https://www.asdk12.org/aquarian, False, 0, S...  2.001800e+10   \n",
       "4  [(http://winterberrycharterschool.com/, False,...  2.001800e+10   \n",
       "\n",
       "   full_page_num                                           text_250  \\\n",
       "0             41  [(http://www.maef.net/, False, 0, Evening Acad...   \n",
       "1              1  [(https://www.kgbsd.org/ketchikancharter, Fals...   \n",
       "2            117  [(http://tongassschool.org/classrooms/3rd-and-...   \n",
       "3              1  [(https://www.asdk12.org/aquarian, False, 0, S...   \n",
       "4             33  [(http://winterberrycharterschool.com/, False,...   \n",
       "\n",
       "   page_num_250                                           text_100  \n",
       "0            41  [(http://www.maef.net/, False, 0, Evening Acad...  \n",
       "1             1  [(https://www.kgbsd.org/ketchikancharter, Fals...  \n",
       "2           117  [(http://tongassschool.org/classrooms/ms-lydia...  \n",
       "3             1  [(https://www.asdk12.org/aquarian, False, 0, S...  \n",
       "4            33  [(http://winterberrycharterschool.com/, False,...  "
      ]
     },
     "execution_count": 92,
     "metadata": {},
     "output_type": "execute_result"
    }
   ],
   "source": [
    "# apply get_top_N to each list of school pages in text_full\n",
    "original['text_100'] = original['text_full'].apply(lambda x: get_top_N(100, x))\n",
    "original.head()"
   ]
  },
  {
   "cell_type": "code",
   "execution_count": 94,
   "metadata": {},
   "outputs": [
    {
     "data": {
      "text/html": [
       "<div>\n",
       "<style scoped>\n",
       "    .dataframe tbody tr th:only-of-type {\n",
       "        vertical-align: middle;\n",
       "    }\n",
       "\n",
       "    .dataframe tbody tr th {\n",
       "        vertical-align: top;\n",
       "    }\n",
       "\n",
       "    .dataframe thead th {\n",
       "        text-align: right;\n",
       "    }\n",
       "</style>\n",
       "<table border=\"1\" class=\"dataframe\">\n",
       "  <thead>\n",
       "    <tr style=\"text-align: right;\">\n",
       "      <th></th>\n",
       "      <th>text_full</th>\n",
       "      <th>NCESSCH</th>\n",
       "      <th>full_page_num</th>\n",
       "      <th>text_250</th>\n",
       "      <th>page_num_250</th>\n",
       "      <th>text_100</th>\n",
       "      <th>page_num_100</th>\n",
       "    </tr>\n",
       "  </thead>\n",
       "  <tbody>\n",
       "  </tbody>\n",
       "</table>\n",
       "</div>"
      ],
      "text/plain": [
       "Empty DataFrame\n",
       "Columns: [text_full, NCESSCH, full_page_num, text_250, page_num_250, text_100, page_num_100]\n",
       "Index: []"
      ]
     },
     "execution_count": 94,
     "metadata": {},
     "output_type": "execute_result"
    }
   ],
   "source": [
    "# check that every school has less than or equal to 100 pages\n",
    "original['page_num_100'] = original['text_100'].apply(lambda x: len(x))\n",
    "original[original[\"page_num_100\"] > 100]"
   ]
  },
  {
   "cell_type": "markdown",
   "metadata": {},
   "source": [
    "### Keep 10 Highest Scoring Pages"
   ]
  },
  {
   "cell_type": "code",
   "execution_count": 12,
   "metadata": {},
   "outputs": [
    {
     "data": {
      "text/html": [
       "<div>\n",
       "<style scoped>\n",
       "    .dataframe tbody tr th:only-of-type {\n",
       "        vertical-align: middle;\n",
       "    }\n",
       "\n",
       "    .dataframe tbody tr th {\n",
       "        vertical-align: top;\n",
       "    }\n",
       "\n",
       "    .dataframe thead th {\n",
       "        text-align: right;\n",
       "    }\n",
       "</style>\n",
       "<table border=\"1\" class=\"dataframe\">\n",
       "  <thead>\n",
       "    <tr style=\"text-align: right;\">\n",
       "      <th></th>\n",
       "      <th>text_full</th>\n",
       "      <th>NCESSCH</th>\n",
       "      <th>full_page_num</th>\n",
       "      <th>text_10</th>\n",
       "    </tr>\n",
       "  </thead>\n",
       "  <tbody>\n",
       "    <tr>\n",
       "      <td>0</td>\n",
       "      <td>[(http://www.maef.net/, False, 0, Evening Acad...</td>\n",
       "      <td>1.001970e+10</td>\n",
       "      <td>41</td>\n",
       "      <td>[(http://www.maef.net/our-work/programs/educat...</td>\n",
       "    </tr>\n",
       "    <tr>\n",
       "      <td>1</td>\n",
       "      <td>[(https://www.kgbsd.org/ketchikancharter, Fals...</td>\n",
       "      <td>2.001500e+10</td>\n",
       "      <td>1</td>\n",
       "      <td>[(https://www.kgbsd.org/ketchikancharter, Fals...</td>\n",
       "    </tr>\n",
       "    <tr>\n",
       "      <td>2</td>\n",
       "      <td>[(http://tongassschool.org/classrooms/3rd-and-...</td>\n",
       "      <td>2.001500e+10</td>\n",
       "      <td>117</td>\n",
       "      <td>[(http://tongassschool.org/classrooms/ms-lydia...</td>\n",
       "    </tr>\n",
       "    <tr>\n",
       "      <td>3</td>\n",
       "      <td>[(https://www.asdk12.org/aquarian, False, 0, S...</td>\n",
       "      <td>2.001800e+10</td>\n",
       "      <td>1</td>\n",
       "      <td>[(https://www.asdk12.org/aquarian, False, 0, S...</td>\n",
       "    </tr>\n",
       "    <tr>\n",
       "      <td>4</td>\n",
       "      <td>[(http://winterberrycharterschool.com/, False,...</td>\n",
       "      <td>2.001800e+10</td>\n",
       "      <td>33</td>\n",
       "      <td>[(http://winterberrycharterschool.com/about/mi...</td>\n",
       "    </tr>\n",
       "  </tbody>\n",
       "</table>\n",
       "</div>"
      ],
      "text/plain": [
       "                                           text_full       NCESSCH  \\\n",
       "0  [(http://www.maef.net/, False, 0, Evening Acad...  1.001970e+10   \n",
       "1  [(https://www.kgbsd.org/ketchikancharter, Fals...  2.001500e+10   \n",
       "2  [(http://tongassschool.org/classrooms/3rd-and-...  2.001500e+10   \n",
       "3  [(https://www.asdk12.org/aquarian, False, 0, S...  2.001800e+10   \n",
       "4  [(http://winterberrycharterschool.com/, False,...  2.001800e+10   \n",
       "\n",
       "   full_page_num                                            text_10  \n",
       "0             41  [(http://www.maef.net/our-work/programs/educat...  \n",
       "1              1  [(https://www.kgbsd.org/ketchikancharter, Fals...  \n",
       "2            117  [(http://tongassschool.org/classrooms/ms-lydia...  \n",
       "3              1  [(https://www.asdk12.org/aquarian, False, 0, S...  \n",
       "4             33  [(http://winterberrycharterschool.com/about/mi...  "
      ]
     },
     "execution_count": 12,
     "metadata": {},
     "output_type": "execute_result"
    }
   ],
   "source": [
    "# apply get_top_N to each list of school pages in text_full\n",
    "original['text_10'] = original['text_full'].apply(lambda x: get_top_N(10, x))\n",
    "original.head()"
   ]
  },
  {
   "cell_type": "code",
   "execution_count": 13,
   "metadata": {},
   "outputs": [
    {
     "data": {
      "text/html": [
       "<div>\n",
       "<style scoped>\n",
       "    .dataframe tbody tr th:only-of-type {\n",
       "        vertical-align: middle;\n",
       "    }\n",
       "\n",
       "    .dataframe tbody tr th {\n",
       "        vertical-align: top;\n",
       "    }\n",
       "\n",
       "    .dataframe thead th {\n",
       "        text-align: right;\n",
       "    }\n",
       "</style>\n",
       "<table border=\"1\" class=\"dataframe\">\n",
       "  <thead>\n",
       "    <tr style=\"text-align: right;\">\n",
       "      <th></th>\n",
       "      <th>text_full</th>\n",
       "      <th>NCESSCH</th>\n",
       "      <th>full_page_num</th>\n",
       "      <th>text_10</th>\n",
       "      <th>page_num_10</th>\n",
       "    </tr>\n",
       "  </thead>\n",
       "  <tbody>\n",
       "  </tbody>\n",
       "</table>\n",
       "</div>"
      ],
      "text/plain": [
       "Empty DataFrame\n",
       "Columns: [text_full, NCESSCH, full_page_num, text_10, page_num_10]\n",
       "Index: []"
      ]
     },
     "execution_count": 13,
     "metadata": {},
     "output_type": "execute_result"
    }
   ],
   "source": [
    "# check that every school has less than or equal to 100 pages\n",
    "original['page_num_10'] = original['text_10'].apply(lambda x: len(x))\n",
    "original[original[\"page_num_10\"] > 10]"
   ]
  },
  {
   "cell_type": "markdown",
   "metadata": {},
   "source": [
    "### Save as TSV"
   ]
  },
  {
   "cell_type": "code",
   "execution_count": 97,
   "metadata": {},
   "outputs": [
    {
     "data": {
      "text/html": [
       "<div>\n",
       "<style scoped>\n",
       "    .dataframe tbody tr th:only-of-type {\n",
       "        vertical-align: middle;\n",
       "    }\n",
       "\n",
       "    .dataframe tbody tr th {\n",
       "        vertical-align: top;\n",
       "    }\n",
       "\n",
       "    .dataframe thead th {\n",
       "        text-align: right;\n",
       "    }\n",
       "</style>\n",
       "<table border=\"1\" class=\"dataframe\">\n",
       "  <thead>\n",
       "    <tr style=\"text-align: right;\">\n",
       "      <th></th>\n",
       "      <th>text_full</th>\n",
       "      <th>NCESSCH</th>\n",
       "    </tr>\n",
       "  </thead>\n",
       "  <tbody>\n",
       "    <tr>\n",
       "      <td>0</td>\n",
       "      <td>[(http://www.maef.net/, False, 0, Evening Acad...</td>\n",
       "      <td>1.001970e+10</td>\n",
       "    </tr>\n",
       "    <tr>\n",
       "      <td>1</td>\n",
       "      <td>[(https://www.kgbsd.org/ketchikancharter, Fals...</td>\n",
       "      <td>2.001500e+10</td>\n",
       "    </tr>\n",
       "    <tr>\n",
       "      <td>2</td>\n",
       "      <td>[(http://tongassschool.org/classrooms/3rd-and-...</td>\n",
       "      <td>2.001500e+10</td>\n",
       "    </tr>\n",
       "    <tr>\n",
       "      <td>3</td>\n",
       "      <td>[(https://www.asdk12.org/aquarian, False, 0, S...</td>\n",
       "      <td>2.001800e+10</td>\n",
       "    </tr>\n",
       "    <tr>\n",
       "      <td>4</td>\n",
       "      <td>[(http://winterberrycharterschool.com/, False,...</td>\n",
       "      <td>2.001800e+10</td>\n",
       "    </tr>\n",
       "  </tbody>\n",
       "</table>\n",
       "</div>"
      ],
      "text/plain": [
       "                                           text_full       NCESSCH\n",
       "0  [(http://www.maef.net/, False, 0, Evening Acad...  1.001970e+10\n",
       "1  [(https://www.kgbsd.org/ketchikancharter, Fals...  2.001500e+10\n",
       "2  [(http://tongassschool.org/classrooms/3rd-and-...  2.001500e+10\n",
       "3  [(https://www.asdk12.org/aquarian, False, 0, S...  2.001800e+10\n",
       "4  [(http://winterberrycharterschool.com/, False,...  2.001800e+10"
      ]
     },
     "execution_count": 97,
     "metadata": {},
     "output_type": "execute_result"
    }
   ],
   "source": [
    "# save webtext_unlapped_filtered_250.tsv\n",
    "cleaned_250 = original.loc[:, [\"text_250\", \"NCESSCH\"]].rename(columns={\"text_250\": \"text_full\"})\n",
    "cleaned_250.head()"
   ]
  },
  {
   "cell_type": "code",
   "execution_count": 98,
   "metadata": {},
   "outputs": [],
   "source": [
    "cleaned_250.to_csv(\"/home/jovyan/work/misc_data/webtext_raw/webtext_unlapped_filtered_250.tsv\", sep=\"\\t\")"
   ]
  },
  {
   "cell_type": "code",
   "execution_count": 99,
   "metadata": {},
   "outputs": [
    {
     "data": {
      "text/html": [
       "<div>\n",
       "<style scoped>\n",
       "    .dataframe tbody tr th:only-of-type {\n",
       "        vertical-align: middle;\n",
       "    }\n",
       "\n",
       "    .dataframe tbody tr th {\n",
       "        vertical-align: top;\n",
       "    }\n",
       "\n",
       "    .dataframe thead th {\n",
       "        text-align: right;\n",
       "    }\n",
       "</style>\n",
       "<table border=\"1\" class=\"dataframe\">\n",
       "  <thead>\n",
       "    <tr style=\"text-align: right;\">\n",
       "      <th></th>\n",
       "      <th>text_full</th>\n",
       "      <th>NCESSCH</th>\n",
       "    </tr>\n",
       "  </thead>\n",
       "  <tbody>\n",
       "    <tr>\n",
       "      <td>0</td>\n",
       "      <td>[(http://www.maef.net/, False, 0, Evening Acad...</td>\n",
       "      <td>1.001970e+10</td>\n",
       "    </tr>\n",
       "    <tr>\n",
       "      <td>1</td>\n",
       "      <td>[(https://www.kgbsd.org/ketchikancharter, Fals...</td>\n",
       "      <td>2.001500e+10</td>\n",
       "    </tr>\n",
       "    <tr>\n",
       "      <td>2</td>\n",
       "      <td>[(http://tongassschool.org/classrooms/ms-lydia...</td>\n",
       "      <td>2.001500e+10</td>\n",
       "    </tr>\n",
       "    <tr>\n",
       "      <td>3</td>\n",
       "      <td>[(https://www.asdk12.org/aquarian, False, 0, S...</td>\n",
       "      <td>2.001800e+10</td>\n",
       "    </tr>\n",
       "    <tr>\n",
       "      <td>4</td>\n",
       "      <td>[(http://winterberrycharterschool.com/, False,...</td>\n",
       "      <td>2.001800e+10</td>\n",
       "    </tr>\n",
       "  </tbody>\n",
       "</table>\n",
       "</div>"
      ],
      "text/plain": [
       "                                           text_full       NCESSCH\n",
       "0  [(http://www.maef.net/, False, 0, Evening Acad...  1.001970e+10\n",
       "1  [(https://www.kgbsd.org/ketchikancharter, Fals...  2.001500e+10\n",
       "2  [(http://tongassschool.org/classrooms/ms-lydia...  2.001500e+10\n",
       "3  [(https://www.asdk12.org/aquarian, False, 0, S...  2.001800e+10\n",
       "4  [(http://winterberrycharterschool.com/, False,...  2.001800e+10"
      ]
     },
     "execution_count": 99,
     "metadata": {},
     "output_type": "execute_result"
    }
   ],
   "source": [
    "# save webtext_unlapped_filtered_100.tsv\n",
    "cleaned_100 = original.loc[:, [\"text_100\", \"NCESSCH\"]].rename(columns={\"text_100\": \"text_full\"})\n",
    "cleaned_100.head()"
   ]
  },
  {
   "cell_type": "code",
   "execution_count": 100,
   "metadata": {},
   "outputs": [],
   "source": [
    "cleaned_100.to_csv(\"/home/jovyan/work/misc_data/webtext_raw/webtext_unlapped_filtered_100.tsv\", sep=\"\\t\")"
   ]
  },
  {
   "cell_type": "code",
   "execution_count": 14,
   "metadata": {},
   "outputs": [
    {
     "data": {
      "text/html": [
       "<div>\n",
       "<style scoped>\n",
       "    .dataframe tbody tr th:only-of-type {\n",
       "        vertical-align: middle;\n",
       "    }\n",
       "\n",
       "    .dataframe tbody tr th {\n",
       "        vertical-align: top;\n",
       "    }\n",
       "\n",
       "    .dataframe thead th {\n",
       "        text-align: right;\n",
       "    }\n",
       "</style>\n",
       "<table border=\"1\" class=\"dataframe\">\n",
       "  <thead>\n",
       "    <tr style=\"text-align: right;\">\n",
       "      <th></th>\n",
       "      <th>text_full</th>\n",
       "      <th>NCESSCH</th>\n",
       "    </tr>\n",
       "  </thead>\n",
       "  <tbody>\n",
       "    <tr>\n",
       "      <td>0</td>\n",
       "      <td>[(http://www.maef.net/our-work/programs/educat...</td>\n",
       "      <td>1.001970e+10</td>\n",
       "    </tr>\n",
       "    <tr>\n",
       "      <td>1</td>\n",
       "      <td>[(https://www.kgbsd.org/ketchikancharter, Fals...</td>\n",
       "      <td>2.001500e+10</td>\n",
       "    </tr>\n",
       "    <tr>\n",
       "      <td>2</td>\n",
       "      <td>[(http://tongassschool.org/classrooms/ms-lydia...</td>\n",
       "      <td>2.001500e+10</td>\n",
       "    </tr>\n",
       "    <tr>\n",
       "      <td>3</td>\n",
       "      <td>[(https://www.asdk12.org/aquarian, False, 0, S...</td>\n",
       "      <td>2.001800e+10</td>\n",
       "    </tr>\n",
       "    <tr>\n",
       "      <td>4</td>\n",
       "      <td>[(http://winterberrycharterschool.com/about/mi...</td>\n",
       "      <td>2.001800e+10</td>\n",
       "    </tr>\n",
       "  </tbody>\n",
       "</table>\n",
       "</div>"
      ],
      "text/plain": [
       "                                           text_full       NCESSCH\n",
       "0  [(http://www.maef.net/our-work/programs/educat...  1.001970e+10\n",
       "1  [(https://www.kgbsd.org/ketchikancharter, Fals...  2.001500e+10\n",
       "2  [(http://tongassschool.org/classrooms/ms-lydia...  2.001500e+10\n",
       "3  [(https://www.asdk12.org/aquarian, False, 0, S...  2.001800e+10\n",
       "4  [(http://winterberrycharterschool.com/about/mi...  2.001800e+10"
      ]
     },
     "execution_count": 14,
     "metadata": {},
     "output_type": "execute_result"
    }
   ],
   "source": [
    "# save webtext_unlapped_filtered_10.tsv\n",
    "cleaned_10 = original.loc[:, [\"text_10\", \"NCESSCH\"]].rename(columns={\"text_10\": \"text_full\"})\n",
    "cleaned_10.head()"
   ]
  },
  {
   "cell_type": "code",
   "execution_count": 15,
   "metadata": {},
   "outputs": [],
   "source": [
    "cleaned_10.to_csv(\"/home/jovyan/work/misc_data/webtext_raw/webtext_unlapped_filtered_10.tsv\", sep=\"\\t\")"
   ]
  },
  {
   "cell_type": "markdown",
   "metadata": {},
   "source": [
    "### Check if Successfully Saved"
   ]
  },
  {
   "cell_type": "code",
   "execution_count": 102,
   "metadata": {},
   "outputs": [
    {
     "data": {
      "text/html": [
       "<div>\n",
       "<style scoped>\n",
       "    .dataframe tbody tr th:only-of-type {\n",
       "        vertical-align: middle;\n",
       "    }\n",
       "\n",
       "    .dataframe tbody tr th {\n",
       "        vertical-align: top;\n",
       "    }\n",
       "\n",
       "    .dataframe thead th {\n",
       "        text-align: right;\n",
       "    }\n",
       "</style>\n",
       "<table border=\"1\" class=\"dataframe\">\n",
       "  <thead>\n",
       "    <tr style=\"text-align: right;\">\n",
       "      <th></th>\n",
       "      <th>Unnamed: 0</th>\n",
       "      <th>text_full</th>\n",
       "      <th>NCESSCH</th>\n",
       "    </tr>\n",
       "  </thead>\n",
       "  <tbody>\n",
       "    <tr>\n",
       "      <td>0</td>\n",
       "      <td>0</td>\n",
       "      <td>[('http://www.maef.net/', 'False', '0', \"Eveni...</td>\n",
       "      <td>1.001970e+10</td>\n",
       "    </tr>\n",
       "    <tr>\n",
       "      <td>1</td>\n",
       "      <td>1</td>\n",
       "      <td>[('https://www.kgbsd.org/ketchikancharter', 'F...</td>\n",
       "      <td>2.001500e+10</td>\n",
       "    </tr>\n",
       "    <tr>\n",
       "      <td>2</td>\n",
       "      <td>2</td>\n",
       "      <td>[('http://tongassschool.org/classrooms/3rd-and...</td>\n",
       "      <td>2.001500e+10</td>\n",
       "    </tr>\n",
       "    <tr>\n",
       "      <td>3</td>\n",
       "      <td>3</td>\n",
       "      <td>[('https://www.asdk12.org/aquarian', 'False', ...</td>\n",
       "      <td>2.001800e+10</td>\n",
       "    </tr>\n",
       "    <tr>\n",
       "      <td>4</td>\n",
       "      <td>4</td>\n",
       "      <td>[('http://winterberrycharterschool.com/', 'Fal...</td>\n",
       "      <td>2.001800e+10</td>\n",
       "    </tr>\n",
       "  </tbody>\n",
       "</table>\n",
       "</div>"
      ],
      "text/plain": [
       "   Unnamed: 0                                          text_full       NCESSCH\n",
       "0           0  [('http://www.maef.net/', 'False', '0', \"Eveni...  1.001970e+10\n",
       "1           1  [('https://www.kgbsd.org/ketchikancharter', 'F...  2.001500e+10\n",
       "2           2  [('http://tongassschool.org/classrooms/3rd-and...  2.001500e+10\n",
       "3           3  [('https://www.asdk12.org/aquarian', 'False', ...  2.001800e+10\n",
       "4           4  [('http://winterberrycharterschool.com/', 'Fal...  2.001800e+10"
      ]
     },
     "execution_count": 102,
     "metadata": {},
     "output_type": "execute_result"
    }
   ],
   "source": [
    "saved_250 = pd.read_csv(\"/home/jovyan/work/misc_data/webtext_raw/webtext_unlapped_filtered_250.tsv\", sep=\"\\t\")\n",
    "saved_250.head()"
   ]
  },
  {
   "cell_type": "code",
   "execution_count": 103,
   "metadata": {},
   "outputs": [
    {
     "data": {
      "text/html": [
       "<div>\n",
       "<style scoped>\n",
       "    .dataframe tbody tr th:only-of-type {\n",
       "        vertical-align: middle;\n",
       "    }\n",
       "\n",
       "    .dataframe tbody tr th {\n",
       "        vertical-align: top;\n",
       "    }\n",
       "\n",
       "    .dataframe thead th {\n",
       "        text-align: right;\n",
       "    }\n",
       "</style>\n",
       "<table border=\"1\" class=\"dataframe\">\n",
       "  <thead>\n",
       "    <tr style=\"text-align: right;\">\n",
       "      <th></th>\n",
       "      <th>Unnamed: 0</th>\n",
       "      <th>text_full</th>\n",
       "      <th>NCESSCH</th>\n",
       "    </tr>\n",
       "  </thead>\n",
       "  <tbody>\n",
       "    <tr>\n",
       "      <td>0</td>\n",
       "      <td>0</td>\n",
       "      <td>[('http://www.maef.net/', 'False', '0', \"Eveni...</td>\n",
       "      <td>1.001970e+10</td>\n",
       "    </tr>\n",
       "    <tr>\n",
       "      <td>1</td>\n",
       "      <td>1</td>\n",
       "      <td>[('https://www.kgbsd.org/ketchikancharter', 'F...</td>\n",
       "      <td>2.001500e+10</td>\n",
       "    </tr>\n",
       "    <tr>\n",
       "      <td>2</td>\n",
       "      <td>2</td>\n",
       "      <td>[('http://tongassschool.org/classrooms/ms-lydi...</td>\n",
       "      <td>2.001500e+10</td>\n",
       "    </tr>\n",
       "    <tr>\n",
       "      <td>3</td>\n",
       "      <td>3</td>\n",
       "      <td>[('https://www.asdk12.org/aquarian', 'False', ...</td>\n",
       "      <td>2.001800e+10</td>\n",
       "    </tr>\n",
       "    <tr>\n",
       "      <td>4</td>\n",
       "      <td>4</td>\n",
       "      <td>[('http://winterberrycharterschool.com/', 'Fal...</td>\n",
       "      <td>2.001800e+10</td>\n",
       "    </tr>\n",
       "  </tbody>\n",
       "</table>\n",
       "</div>"
      ],
      "text/plain": [
       "   Unnamed: 0                                          text_full       NCESSCH\n",
       "0           0  [('http://www.maef.net/', 'False', '0', \"Eveni...  1.001970e+10\n",
       "1           1  [('https://www.kgbsd.org/ketchikancharter', 'F...  2.001500e+10\n",
       "2           2  [('http://tongassschool.org/classrooms/ms-lydi...  2.001500e+10\n",
       "3           3  [('https://www.asdk12.org/aquarian', 'False', ...  2.001800e+10\n",
       "4           4  [('http://winterberrycharterschool.com/', 'Fal...  2.001800e+10"
      ]
     },
     "execution_count": 103,
     "metadata": {},
     "output_type": "execute_result"
    }
   ],
   "source": [
    "saved_100 = pd.read_csv(\"/home/jovyan/work/misc_data/webtext_raw/webtext_unlapped_filtered_100.tsv\", sep=\"\\t\")\n",
    "saved_100.head()"
   ]
  },
  {
   "cell_type": "code",
   "execution_count": 16,
   "metadata": {},
   "outputs": [
    {
     "data": {
      "text/html": [
       "<div>\n",
       "<style scoped>\n",
       "    .dataframe tbody tr th:only-of-type {\n",
       "        vertical-align: middle;\n",
       "    }\n",
       "\n",
       "    .dataframe tbody tr th {\n",
       "        vertical-align: top;\n",
       "    }\n",
       "\n",
       "    .dataframe thead th {\n",
       "        text-align: right;\n",
       "    }\n",
       "</style>\n",
       "<table border=\"1\" class=\"dataframe\">\n",
       "  <thead>\n",
       "    <tr style=\"text-align: right;\">\n",
       "      <th></th>\n",
       "      <th>Unnamed: 0</th>\n",
       "      <th>text_full</th>\n",
       "      <th>NCESSCH</th>\n",
       "    </tr>\n",
       "  </thead>\n",
       "  <tbody>\n",
       "    <tr>\n",
       "      <td>0</td>\n",
       "      <td>0</td>\n",
       "      <td>[('http://www.maef.net/our-work/programs/educa...</td>\n",
       "      <td>1.001970e+10</td>\n",
       "    </tr>\n",
       "    <tr>\n",
       "      <td>1</td>\n",
       "      <td>1</td>\n",
       "      <td>[('https://www.kgbsd.org/ketchikancharter', 'F...</td>\n",
       "      <td>2.001500e+10</td>\n",
       "    </tr>\n",
       "    <tr>\n",
       "      <td>2</td>\n",
       "      <td>2</td>\n",
       "      <td>[('http://tongassschool.org/classrooms/ms-lydi...</td>\n",
       "      <td>2.001500e+10</td>\n",
       "    </tr>\n",
       "    <tr>\n",
       "      <td>3</td>\n",
       "      <td>3</td>\n",
       "      <td>[('https://www.asdk12.org/aquarian', 'False', ...</td>\n",
       "      <td>2.001800e+10</td>\n",
       "    </tr>\n",
       "    <tr>\n",
       "      <td>4</td>\n",
       "      <td>4</td>\n",
       "      <td>[('http://winterberrycharterschool.com/about/m...</td>\n",
       "      <td>2.001800e+10</td>\n",
       "    </tr>\n",
       "  </tbody>\n",
       "</table>\n",
       "</div>"
      ],
      "text/plain": [
       "   Unnamed: 0                                          text_full       NCESSCH\n",
       "0           0  [('http://www.maef.net/our-work/programs/educa...  1.001970e+10\n",
       "1           1  [('https://www.kgbsd.org/ketchikancharter', 'F...  2.001500e+10\n",
       "2           2  [('http://tongassschool.org/classrooms/ms-lydi...  2.001500e+10\n",
       "3           3  [('https://www.asdk12.org/aquarian', 'False', ...  2.001800e+10\n",
       "4           4  [('http://winterberrycharterschool.com/about/m...  2.001800e+10"
      ]
     },
     "execution_count": 16,
     "metadata": {},
     "output_type": "execute_result"
    }
   ],
   "source": [
    "saved_10 = pd.read_csv(\"/home/jovyan/work/misc_data/webtext_raw/webtext_unlapped_filtered_10.tsv\", sep=\"\\t\")\n",
    "saved_10.head()"
   ]
  },
  {
   "cell_type": "code",
   "execution_count": null,
   "metadata": {},
   "outputs": [],
   "source": []
  }
 ],
 "metadata": {
  "kernelspec": {
   "display_name": "Python 3",
   "language": "python",
   "name": "python3"
  },
  "language_info": {
   "codemirror_mode": {
    "name": "ipython",
    "version": 3
   },
   "file_extension": ".py",
   "mimetype": "text/x-python",
   "name": "python",
   "nbconvert_exporter": "python",
   "pygments_lexer": "ipython3",
   "version": "3.7.3"
  }
 },
 "nbformat": 4,
 "nbformat_minor": 2
}
