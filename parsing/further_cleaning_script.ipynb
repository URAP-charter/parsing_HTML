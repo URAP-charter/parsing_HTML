{
 "cells": [
  {
   "cell_type": "markdown",
   "metadata": {},
   "source": [
    "# String Cleaning Script\n",
    "\n",
    "Author(s): Krutika Ingale <br>\n",
    "Project Manager: Jaren Haber, PhD Candidate <br>\n",
    "Contact: jhaber@berkeley.edu\n",
    "\n",
    "Institution: University of California, Berkeley <br>\n",
    "Program: Undergraduate Research Apprentice Program (URAP) <br>\n",
    "\n",
    "Date created: <br>\n",
    "Last modified: 11/20/18\n",
    "\n",
    "Description: Notebook to clean strings that are in sentence format or in any format."
   ]
  },
  {
   "cell_type": "code",
   "execution_count": 1,
   "metadata": {},
   "outputs": [],
   "source": [
    "#necessary imports \n",
    "import csv\n",
    "import pandas as pd\n",
    "import os\n",
    "import re\n",
    "import string\n",
    "import collections\n",
    "\n",
    "\n",
    "import numpy as np\n",
    "from itertools import groupby\n",
    "from sklearn.feature_extraction import text\n",
    "import nltk\n",
    "from nltk.corpus import stopwords\n",
    "import datetime\n",
    "\n",
    "\n",
    "folder_prefix = '/home/jovyan/work/'\n"
   ]
  },
  {
   "cell_type": "code",
   "execution_count": 2,
   "metadata": {},
   "outputs": [
    {
     "name": "stderr",
     "output_type": "stream",
     "text": [
      "[nltk_data] Downloading package stopwords to /home/jovyan/nltk_data...\n",
      "[nltk_data]   Package stopwords is already up-to-date!\n"
     ]
    },
    {
     "data": {
      "text/plain": [
       "True"
      ]
     },
     "execution_count": 2,
     "metadata": {},
     "output_type": "execute_result"
    }
   ],
   "source": [
    "nltk.download('stopwords')"
   ]
  },
  {
   "cell_type": "code",
   "execution_count": 78,
   "metadata": {},
   "outputs": [],
   "source": [
    "#read in data frame with strings for testing\n",
    "cleaned_df = pd.read_pickle(folder_prefix + 'nowdata/charters_final_2015.pkl')"
   ]
  },
  {
   "cell_type": "code",
   "execution_count": 79,
   "metadata": {},
   "outputs": [],
   "source": [
    "#string for testing\n",
    "messy_string = cleaned_df['CMO_WEBTEXT'][39][0][3]"
   ]
  },
  {
   "cell_type": "code",
   "execution_count": 2,
   "metadata": {},
   "outputs": [
    {
     "data": {
      "text/plain": [
       "['!',\n",
       " '\"',\n",
       " '#',\n",
       " '$',\n",
       " '%',\n",
       " '&',\n",
       " '(',\n",
       " ')',\n",
       " '*',\n",
       " '+',\n",
       " ',',\n",
       " '.',\n",
       " '/',\n",
       " ':',\n",
       " ';',\n",
       " '<',\n",
       " '=',\n",
       " '>',\n",
       " '?',\n",
       " '@',\n",
       " '[',\n",
       " '\\\\',\n",
       " ']',\n",
       " '^',\n",
       " '_',\n",
       " '`',\n",
       " '{',\n",
       " '|',\n",
       " '}',\n",
       " '~',\n",
       " '*',\n",
       " '•',\n",
       " '©',\n",
       " '–',\n",
       " '–',\n",
       " '``',\n",
       " '’',\n",
       " '“',\n",
       " '”',\n",
       " '...',\n",
       " '»',\n",
       " \"''\",\n",
       " '..._...',\n",
       " '--',\n",
       " '×',\n",
       " '|_',\n",
       " '_',\n",
       " '§',\n",
       " '…',\n",
       " '⎫']"
      ]
     },
     "execution_count": 2,
     "metadata": {},
     "output_type": "execute_result"
    }
   ],
   "source": [
    "# Create list of punctuation\n",
    "import string # for one method of eliminating punctuation\n",
    "punctuations = list(string.punctuation) # assign list of common punctuation symbols\n",
    "punctuations+=['*','•','©','–','–','``','’','“','”','...','»',\"''\",'..._...','--','×','|_','_','§','…','⎫'] # Add a few more punctuations also common in web text\n",
    "punctuations.remove('-') ; punctuations.remove(\"'\")\n",
    "punctuations"
   ]
  },
  {
   "cell_type": "code",
   "execution_count": 3,
   "metadata": {},
   "outputs": [],
   "source": [
    "stop_word_list = list(set(stopwords.words('english')))\n",
    "\n",
    "#stop_word_list consists of dates and some repetitive words\n",
    "for i in range(1,13):\n",
    "    stop_word_list.append(datetime.date(2008, i, 1).strftime('%B'))\n",
    "for i in range(1,13):\n",
    "    stop_word_list.append((datetime.date(2008, i, 1).strftime('%B')).lower())\n",
    "for i in range(1, 2100):\n",
    "    stop_word_list.append(str(i))\n",
    "stop_word_list.append('00') \n",
    "stop_word_list.append('el')\n",
    "stop_word_list.append('en')\n",
    "stop_word_list.append('la')\n",
    "stop_word_list.append('los')\n",
    "stop_word_list.append('para')\n",
    "stop_word_list.append('las')\n",
    "stop_word_list.append('san')\n",
    "stop_word_list.append('mr')\n",
    "stop_word_list.append('mrs')\n",
    "stop_word_list.append('sa')\n",
    "# stop_word_list.append('angeles')\n",
    "# stop_word_list.append('diego')\n",
    "# stop_word_list.append('california')\n",
    "# stop_word_list.append('york')\n",
    "stop_word_list.append('fax')\n",
    "stop_word_list.append('email')\n",
    "stop_word_list.append('phone')\n",
    "# stop_word_list.append('harlem')\n",
    "# stop_word_list.append('bronx')\n",
    "# stop_word_list.append('wi')\n",
    "stop_word_list.append('am')\n",
    "stop_word_list.append('pm')\n",
    "stop_word_list.append('org')\n",
    "stop_word_list.extend(['Menu', 'Contact Us', 'Facebook', 'Calendar', 'Lunch', 'Breakfast', 'FAQs', 'FAQ'])\n",
    "# stop_word_list.append('city')\n",
    "# stop_word_list.append('austin')\n",
    "# stop_word_list.append('antonio')\n",
    "# stop_word_list.append('texas')\n",
    "#adding states abbreviations for stopwords\n",
    "# states = [\"AL\", \"AK\", \"AZ\", \"AR\", \"CA\", \"CO\", \"CT\", \"DC\", \"DE\", \"FL\", \"GA\", \n",
    "#           \"HI\", \"ID\", \"IL\", \"IN\", \"IA\", \"KS\", \"KY\", \"LA\", \"ME\", \"MD\", \n",
    "#           \"MA\", \"MI\", \"MN\", \"MS\", \"MO\", \"MT\", \"NE\", \"NV\", \"NH\", \"NJ\", \n",
    "#           \"NM\", \"NY\", \"NC\", \"ND\", \"OH\", \"OK\", \"OR\", \"PA\", \"RI\", \"SC\", \n",
    "#           \"SD\", \"TN\", \"TX\", \"UT\", \"VT\", \"VA\", \"WA\", \"WV\"]\n",
    "# for state in states:\n",
    "#           stop_word_list.append(state)\n",
    "# for state in [state.lower() for state in states]:\n",
    "#           stop_word_list.append(state)\n",
    "\n",
    "#we have text.English stopwords and nltk's english stop words\n",
    "stop_words_extra = text.ENGLISH_STOP_WORDS.union(stop_word_list)"
   ]
  },
  {
   "cell_type": "code",
   "execution_count": null,
   "metadata": {},
   "outputs": [],
   "source": [
    "#loading in some words that should be removed from a string  #no rem_words \n",
    "filename = folder_prefix + 'Charter-school-identities/data/wem_vocab_train250_nostem_unlapped_300d.txt'\n",
    "with open(filename) as f:\n",
    "    rem_words = f.read().splitlines() \n"
   ]
  },
  {
   "cell_type": "code",
   "execution_count": 11,
   "metadata": {},
   "outputs": [],
   "source": [
    "rem_words = rem_words[:8511]"
   ]
  },
  {
   "cell_type": "code",
   "execution_count": 12,
   "metadata": {},
   "outputs": [],
   "source": [
    "#rem_words now includes a list of words to remove and a list of stop words\n",
    "rem_words.append(stop_words_extra)"
   ]
  },
  {
   "cell_type": "markdown",
   "metadata": {},
   "source": [
    "####  Clean_string:\n",
    "clean_string() takes in a string in any format, and a list of unicode character, & a list of words to remove and:\n",
    "- removes all numbers, emails, some urls, unicode characters, hex characters, and punctuation"
   ]
  },
  {
   "cell_type": "code",
   "execution_count": 101,
   "metadata": {},
   "outputs": [],
   "source": [
    "unicode_list  = []\n",
    "for i in range(1000,3000):\n",
    "    unicode_list.append(chr(i))\n",
    "    \n",
    "def clean_string(messy_string, rem_words, unicode_list, givepunct): \n",
    "    s = re.sub(r\"\\\\x.*|\\\\u.*|\\\\b.*|-|\\u2605$\", \"\", messy_string.replace(u\"\\xa0\", u\" \").replace(u\"\\\\t\", u\" \").strip(\" \"))\n",
    "    s = re.sub(r'[^\\x00-\\x7f]',r'', s) #got rid of hex character like \\xa0\\ adn a\\x80\n",
    "    \n",
    "    s = re.sub(r'^https?:\\/\\/.*[\\r\\n]*', '', s, flags=re.MULTILINE) #gets rid of urls in forms https://\n",
    "    #it's hard to get rid of urls when they aren't separated by space\n",
    "    s = re.sub(r'|'.join(map(re.escape, unicode_list)), '', s) #should remove unicode characters\n",
    "    li_text = []\n",
    "    for word in re.split('\\n|\\t|\\*|\\r|\\s', s): #split the string into a list of substrings split on the regex characters\n",
    "        #gets rid of the rem_words, numbers, and emails\n",
    "        if ((word not in (rem_words)) and (not word.isdigit()) and (\"@\" not in word)) :\n",
    "            li_text.append(re.sub(r'['+givepunct+']', r'', word))\n",
    "    s = ' '.join(li_text) #join strings together\n",
    "    s = ''.join(i for i in s if not i.isdigit()) #2nd check to remove numbers\n",
    "    s = re.sub(' +', ' ',s) #remove duplicate whitespace\n",
    "    s = s.strip() #remove whitespace at beginning and end of string\n",
    "    return s"
   ]
  },
  {
   "cell_type": "markdown",
   "metadata": {},
   "source": [
    "####  clean_sentence:\n",
    "\n",
    "clean_sentence() takes in a sentence with whitespaces in between words, and a list of unicode character and:\n",
    "- removes all numbers, emails, urls, unicode character, hex characters, and punctuation"
   ]
  },
  {
   "cell_type": "code",
   "execution_count": 75,
   "metadata": {},
   "outputs": [],
   "source": [
    "def clean_sentence(messy_string, unicode_list): #get rid of all numbers , use rem_words, use stop_words list\n",
    "    \"\"\"Removes numbers, emails, URLs, unicode characters, hex characters, and punctuation from a sentence \n",
    "    separated by whitespaces. Returns a tokenized, cleaned list of words from the sentence.\n",
    "    \n",
    "    Args: \n",
    "        Sentence, i.e. string that possibly includes spaces and punctuation\n",
    "    Returns: \n",
    "        Cleaned & tokenized sentence, i.e. a list of cleaned, lower-case, one-word strings\"\"\"\n",
    "    \n",
    "    \n",
    "    #replace \\\\x, \\\\u, \\\\b, or - followed by any character or anything that ends with \\u2605\n",
    "    #then replace \\\\x, \\\\t and then get rid of whitespace\n",
    "    s = re.sub(r\"\\\\x.*|\\\\u.*|\\\\b.*|-|\\u2605$\", \"\", messy_string.replace(u\"\\xa0\", u\" \").replace(u\"\\\\t\", u\" \").strip(\" \"))\n",
    "    \n",
    "    #get rid of hex character like \\xa0\\ adn a\\x80\n",
    "    s = re.sub(r'[^\\x00-\\x7f]',r'', s) #replace anything that starts with a hex character \n",
    "    \n",
    "    #code that basically removes all elements that appear in the unicode_list (looks like r'u1000|u10001|')\n",
    "    s = re.sub(r'|'.join(map(re.escape, unicode_list)), '', s) #removes unicode\n",
    "    li_text = []\n",
    "    \n",
    "    for word in re.split('\\s', s): #splits by space \n",
    "        if ((not word.isdigit()) and (\"@\" not in word)) : #gets rid of the numbers and emails\n",
    "        \n",
    "            #gets rid of urls \n",
    "            if ((not word.startswith(('http', 'https', 'www'))) and (not word.endswith(('.com', '.net', '.gov', '.org')))):\n",
    "                if ((not word.startswith('//')) and not word.endswith(('.jpg', '.pdf', 'png', 'jpeg', 'php'))): \n",
    "                                        \n",
    "                    #gets rid of punctuation, and the words am and pm\n",
    "                    li_text.append(re.sub(r'['+string.punctuation+']|am|pm', r'', word))\n",
    "    s = ' '.join(li_text)#joins all words together\n",
    "    s = s.strip() #remove beginning and ending white space in string\n",
    "    return s"
   ]
  },
  {
   "cell_type": "markdown",
   "metadata": {},
   "source": [
    "### Example tests below:"
   ]
  },
  {
   "cell_type": "code",
   "execution_count": 110,
   "metadata": {},
   "outputs": [
    {
     "data": {
      "text/plain": [
       "';|(.\"$=]^[<>#)~?{%,&`*\\\\}_+:/!@'"
      ]
     },
     "execution_count": 110,
     "metadata": {},
     "output_type": "execute_result"
    }
   ],
   "source": [
    "punctuations = list(string.punctuation)\n",
    "punctuations.remove('-')\n",
    "punctuations.remove(\"'\") \n",
    "#addpuncts = ['*','•','©','–','–','`','’','“','”','»','-','×','|','_','§','…','⎫']\n",
    "#punctuations += addpuncts # Add to punctuations list\n",
    "\n",
    "punctstr = \"\".join([char for char in list(set(punctuations))])\n",
    "punctstr"
   ]
  },
  {
   "cell_type": "code",
   "execution_count": 118,
   "metadata": {},
   "outputs": [
    {
     "ename": "TypeError",
     "evalue": "translate() takes exactly one argument (2 given)",
     "output_type": "error",
     "traceback": [
      "\u001b[0;31m---------------------------------------------------------------------------\u001b[0m",
      "\u001b[0;31mTypeError\u001b[0m                                 Traceback (most recent call last)",
      "\u001b[0;32m<ipython-input-118-388c5cbdb6d6>\u001b[0m in \u001b[0;36m<module>\u001b[0;34m()\u001b[0m\n\u001b[1;32m      1\u001b[0m \u001b[0mastring\u001b[0m \u001b[0;34m=\u001b[0m \u001b[0;34m\"fantasmagorium.\"\u001b[0m\u001b[0;34m\u001b[0m\u001b[0m\n\u001b[0;32m----> 2\u001b[0;31m \u001b[0mastring\u001b[0m\u001b[0;34m.\u001b[0m\u001b[0mtranslate\u001b[0m\u001b[0;34m(\u001b[0m\u001b[0;32mNone\u001b[0m\u001b[0;34m,\u001b[0m \u001b[0;34m\"fm.\"\u001b[0m\u001b[0;34m)\u001b[0m\u001b[0;34m\u001b[0m\u001b[0m\n\u001b[0m",
      "\u001b[0;31mTypeError\u001b[0m: translate() takes exactly one argument (2 given)"
     ]
    }
   ],
   "source": [
    "astring = \"fantasmagorium.\"\n",
    "astring.translate(None, \"fm.\")"
   ]
  },
  {
   "cell_type": "code",
   "execution_count": 112,
   "metadata": {},
   "outputs": [
    {
     "data": {
      "text/plain": [
       "'!\"#$%&\\'()*+,-./:;<=>?@[\\\\]^_`{|}~'"
      ]
     },
     "execution_count": 112,
     "metadata": {},
     "output_type": "execute_result"
    }
   ],
   "source": [
    "string.punctuation"
   ]
  },
  {
   "cell_type": "code",
   "execution_count": 154,
   "metadata": {},
   "outputs": [
    {
     "data": {
      "text/plain": [
       "'This sentence couldcontain words  letters also the date is we love children'"
      ]
     },
     "execution_count": 154,
     "metadata": {},
     "output_type": "execute_result"
    }
   ],
   "source": [
    "st = 'This sentence //asiancelebration.org could---contai__n words, \\xa0https://.org www//morphius.com 17 letters, also the date is 07-18-1996 we love //blackstonevalleyprep.org/wp-content/uploads/2016/12/video-thumbnails-copy.jpg children ' \n",
    "\n",
    "clean_sentence(st, unicode_list) #is the lower_case ok? #\\n - sentence\n"
   ]
  },
  {
   "cell_type": "code",
   "execution_count": 111,
   "metadata": {},
   "outputs": [
    {
     "data": {
      "text/plain": [
       "'Center Academic Success: K Higher Standards. Higher Expectations. Home About CAS School & Menus School Wellness Policy Parents Right KnowTeacher Qulifications Proposed Budget FY Budget Adoption Hearing Notice Sierra Vista Campus SV Elementary School SV Middle School SV High School A+ Anywhere Login SV Administration Douglas Campus Douglas Elementary School Douglas Middle School Douglas High School Douglas Administration Board Directors Forms & Resources Parent/Student Handbook Elementary/Middle School Parent/Student Handbook High School Transcript / Diploma Request New Student Applications Returning Student Application PowerSchool Login Tax Credit Before & After Care Clubs High School Club Schedule CyberPatriots Solar GoKart Team Employment Apply Now Contact Us Higher Standards. Higher Expectations. Get Ready! School Starts th! Mark calendars first day school Wednesday, th! School Calendars available website here. We holding annual Open House parents students th ::pm. Families drop time Open House meet students teachers, Read More A CAS Youth Theater Presentation Come see CAS Youth Theater presentation Fighting Myself. A FREE play, (+ show) donations accepted Cochise Family Advocacy Center: Loris Place. Food Drinks provided. CAS Cafeteria, Thursday th, Doors open :. Summer School Registration Now Open The Center Academic Success Summer Enrichment Program FREE full day program, taught Highly Qualified Teachers Paraprofessionals support trained Student Interns. Mornings filled academically based activities Mathematics, Reading, Writing, afternoons packed enrichment classes clubs Arts Read More The Wizard Oz Toto, Too Due Spring Break, needing bit practice, changing date production. We bumping play following Thursday, th, : : PM. Thank understanding, Toto really appreciates it, bark bark! Solar Go Kart Team Stars Documentary Check behind scenes look Solar Go Kart Team action! (Film credit goes local business sponsor Arizona Electric Power Cooperative ) nd Graders S.T.E.A.M. Up! High School High School Science Teacher, Ms. Doran, nd Grade Teacher, Ms. Engols, put heads together create special Friday program called STEAM Up! nd graders completed work week. The name program play acronym Science, Technology, Engineering, Art, Read More Posts navigation Older posts Sierra Vista Campus Carmelita Drive Sierra Vista, AZ () MF : : Douglas Campus G Ave. Douglas, AZ () MF : : Follow Us Twitter Notice Accessibility Center Academic Success, Inc., wherever possible, ensures electronic online materials accessible usable disabled persons. If find information accessible you, please call () , provide material format accessible you. A WordPress.com Website . Post Cancel Privacy & Cookies: This site uses cookies. By continuing use website, agree use. To find more, including control cookies, see here: Cookie Policy'"
      ]
     },
     "execution_count": 111,
     "metadata": {},
     "output_type": "execute_result"
    }
   ],
   "source": [
    "clean_string(messy_string, stop_word_list, unicode_list, punctstr) #is the lower_case ok? #\\n - sentence\n",
    "#get rid of punctuation in a word, underscores, equal sign, dashes, asterik\n"
   ]
  },
  {
   "cell_type": "code",
   "execution_count": 75,
   "metadata": {},
   "outputs": [
    {
     "data": {
      "text/plain": [
       "'\\t\\t\\t\\t\\tCenter for Academic Success:  K-12\\t\\t\\t\\t\\nHigher Standards.  Higher Expectations.\\nMenu\\nHome\\nAbout CAS\\nFAQs\\nSchool Calendar 2018-19\\nBreakfast & Lunch Menus\\nSchool Wellness Policy\\nParentâ\\x80\\x99s Right to Know-Teacher Qulifications\\nProposed Budget FY 2019\\nBudget Adoption Hearing Notice\\nSierra Vista Campus\\nSV Elementary School\\nSV Middle School\\nSV High School\\nA+ Anywhere Login\\nSV Administration\\nDouglas Campus\\nDouglas Elementary School\\nDouglas Middle School\\nDouglas High School\\nDouglas Administration\\nBoard of Directors\\nForms & Resources\\nParent/Student Handbook â\\x80\\x93 Elementary/Middle School\\nParent/Student Handbook â\\x80\\x93 High School\\nTranscript / Diploma Request\\nNew Student Applications\\nReturning Student Application\\nPowerSchool Login\\nTax Credit 2017\\nBefore & After Care Clubs\\nHigh School Club Schedule\\nCyberPatriots\\nSolar Go-Kart Team\\nEmployment\\nApply Now\\nContact Us\\n\\t\\t\\t\\tHigher Standards.  Higher Expectations.\\t\\t\\t\\nGet Ready! School Starts August 8th!\\nMark your calendars for the first day of school on Wednesday, August 8th!\\xa0 2018-19 School Calendars are available on our website here.\\xa0 We will be holding our annual Open House for parents and students on August 6th from 3:00-6:00pm.\\xa0 Families may drop by at any time during the Open House to meet their studentsâ\\x80\\x99 teachers,â\\x80¦ \\nRead More\\nA CAS Youth Theater Presentation\\nCome see the CAS Youth Theater presentation of Fighting for Myself. A FREE play, (13+ show) with donations accepted for Cochise Family Advocacy Center: Loriâ\\x80\\x99s Place. Food and Drinks provided. CAS Cafeteria, Thursday May 24th, Doors open at 5:45.\\nSummer School Registration is Now Open\\nThe 2018 Center for Academic Success Summer Enrichment Program is a FREE full day program, taught by Highly Qualified Teachers and Paraprofessionals with the support of trained Student Interns.\\xa0 Mornings will be filled with academically based activities in Mathematics, Reading, and Writing, and afternoons will be packed with enrichment classes and clubs such as Artsâ\\x80¦ \\nRead More\\nThe Wizard of Oz and Toto, Too\\nDue to Spring Break, and needing a bit more practice, we are changing the date of the production. We will be bumping the play to the following Thursday, March 29th, from 6:00 to 8:00 PM. Thank you for understanding, Toto really appreciates\\xa0it, bark bark!\\nSolar Go Kart Team Stars in Documentary\\nCheck out this behind the scenes look at our 2017-18 Solar Go Kart Team in action! (Film credit goes to local business sponsor Arizona Electric Power Cooperative\\xa0)\\n2nd Graders S.T.E.A.M. Up! at the High School\\nHigh School Science Teacher, Ms. Doran, and 2nd Grade Teacher, Ms. Engols, have put their heads together to create a special Friday program called STEAM Up! for 2nd graders who have completed all of their work for the week.\\xa0 The name of the program is a play on the acronym for â\\x80\\x9cScience, Technology, Engineering, Art,â\\x80¦ \\nRead More\\nPosts navigation\\nOlder posts\\nSierra Vista Campus\\n900 Carmelita Drive\\r\\nSierra Vista, AZ 85635\\n(520) 458-4200\\nM-F 7:00 am - 5:30 pm\\nDouglas Campus\\n510 G Ave.\\r\\nDouglas, AZ 85607\\n(520) 364-2616\\nM-F 7:00 am - 5:30 pm\\nFollow Us\\nFacebook\\nTwitter\\nNotice of Accessibility\\nCenter for Academic Success, Inc., wherever possible, ensures that all its electronic online materials are accessible to and usable by disabled persons.\\xa0 If you find that information here is not accessible to you, please email webmaster@cpic-cas.org or call (520) 439-3541, and we will provide you with that material in a format that is accessible to you.\\nA WordPress.com Website\\n.\\t\\t\\t\\t\\t\\t\\t\\t\\t\\t\\t\\t\\t\\t\\nPost to\\nCancel\\n\\t\\tPrivacy & Cookies: This site uses cookies. By continuing to use this website, you agree to their use. \\nTo find out more, including how to control cookies, see here:\\t\\t\\n\\t\\t\\tCookie Policy\\t\\t'"
      ]
     },
     "execution_count": 75,
     "metadata": {},
     "output_type": "execute_result"
    }
   ],
   "source": [
    "string "
   ]
  },
  {
   "cell_type": "code",
   "execution_count": 142,
   "metadata": {},
   "outputs": [
    {
     "data": {
      "text/plain": [
       "'Email Phone Gilbert Cpus Val Vista Ray Email Phone Power Cpus Power Chandler Heights Email Phone BFHS Germann Rittenhouse Email Phone Enroll Today Follow these easy steps to start the process to be part of the Benjin Franklin fily Complete this PreEnrollment Application Wait for your chosen cpuses to contact you Explore our website if you havent already Please note that this application is for the PreEnrollment process only Completion of this form does not guarantee enrollment Quick Links Home School News Calendar Links for Parents Fily Link JHHS Parent Handbook K Parent Handbook What is a Charter School Our Stories Enrollment Information Schedule a Tour Charger Voice Athletics Photo Galleries Employment Contact Us News Announcements Subscribe Summer Break Read More View All News Facebook Benjin Franklin Charter School K Events Jul First Day of School View All Events Next events arrow Previous events arrow Calendar Go to previous month July Go to next month Sun Mon Tue Wed Thu Fri Sat ICal View All Events Our Mission The mission of Benjin Franklin Charter School is to offer a wellrounded education with proven superior academics exceptional progrs timehonored values and a high level of parental participation Benjin Franklin Charter School Educating ArizonaOne Student at a Time TM Benjin Franklin Charter School E Warner Rd Gilbert AZ Stay Connected CMS Login Facebook Instagr Twitter YouTube Intranet Copyright'"
      ]
     },
     "execution_count": 142,
     "metadata": {},
     "output_type": "execute_result"
    }
   ],
   "source": [
    "clean_string(cleaned_df['CMO_WEBTEXT'][123][0][3], rem_words, unicode_list ) #is the lower_case ok?"
   ]
  },
  {
   "cell_type": "code",
   "execution_count": 139,
   "metadata": {},
   "outputs": [
    {
     "data": {
      "text/plain": [
       "'Email: \\nccenrollment@bfcsaz.com\\n\\rPhone: (480) 987-0722\\nGilbert Campus\\n\\rVal Vista & Ray\\nEmail: \\ngcenrollment@bfcsaz.com\\n\\rPhone: (480) 632-0722\\nPower Campus\\n\\rPower & Chandler Heights\\nEmail: \\npcenrollment@bfcsaz.com\\n\\rPhone: (480) 677-8400\\nBFHS\\n\\rGermann & Rittenhouse\\nEmail: \\nhsenrollment@bfcsaz.com\\n\\rPhone: (480) 558-1197\\n        Enroll Today!    \\nFollow these easy steps to start the process to be part of the Benjamin Franklin family:\\nComplete this\\xa0Pre-Enrollment Application\\nWait for your chosen campus(es) to contact you.\\nExplore our website if you havenâ\\x80\\x99t already!\\nPlease note that this application is for the Pre-Enrollment process only. Completion of this form does not guarantee enrollment.\\nQuick Links\\r\\t\\t\\t\\t\\t\\nHome\\nSchool News\\nCalendar\\nLinks for Parents  \\nFamily Link\\nJH/HS Parent Handbook\\nK-6 Parent Handbook\\nWhat is a Charter School?\\nOur Stories\\nEnrollment Information\\nSchedule a Tour\\nCharger Voice\\nAthletics\\nPhoto Galleries\\nEmployment\\nContact Us\\nNews & Announcements\\nSubscribe\\nSummer Break!\\nRead More\\nView All News\\n        Facebook    \\nBenjamin Franklin Charter School K-12\\nEvents\\nJul\\n 24\\n                    First Day of School                \\nView All Events\\nNext events arrow\\nPrevious events arrow\\nCalendar\\n<\\nGo to previous month\\nJuly\\n>\\nGo to next month\\nSun\\nMon\\nTue\\nWed\\nThu\\nFri\\nSat\\n24\\n25\\n26\\n27\\n28\\n29\\n30\\n1\\n2\\n3\\n4\\n5\\n6\\n7\\n8\\n9\\n10\\n11\\n12\\n13\\n14\\n15\\n16\\n17\\n18\\n19\\n20\\n21\\n22\\n23\\n24\\n25\\n26\\n27\\n28\\n29\\n30\\n31\\n1\\n2\\n3\\n4\\nICal\\nView All Events\\n        Our Mission    \\nThe mission of Benjamin Franklin Charter School is to offer a well-rounded education with proven superior academics, exceptional programs, time-honored values, and a high level of parental participation.\\nBenjamin Franklin Charter School, Educating Arizona...One Student at a Time\\nTM\\n.\\xa0\\nBenjamin Franklin Charter School \\r                        \\n\\r                                690 E Warner Rd\\r                            \\n\\r                                Gilbert, AZ 85295\\r                            \\nStay Connected\\nCMS Login            \\nFacebook            \\nInstagram            \\nTwitter            \\nYouTube            \\nIntranet            \\n\\r                    Â© 2018 Copyright\\r                '"
      ]
     },
     "execution_count": 139,
     "metadata": {},
     "output_type": "execute_result"
    }
   ],
   "source": [
    "cleaned_df['CMO_WEBTEXT'][123][0][3]"
   ]
  },
  {
   "cell_type": "code",
   "execution_count": 143,
   "metadata": {},
   "outputs": [
    {
     "data": {
      "text/plain": [
       "'icopa Survey Leading Edge Academy Online Survey Enroll Now Click here to Enroll Leading Edge Academy is a network of K Tuitionfree Charter Schools with cpuses throughout the valley Were proud to offer advanced academics and character develoent in a technologyenriched environment Please have a look around to learn about the various cpuses and progrs that are a part of the Leading Edge Academy Network A glimpse of what youll find Tuition Free K Small Class Sizes Advanced Academics Free Full Day Kindergarten Gilbert Mesa Queen Creek and Maricopa Cpuses Online Academy In accordance with Federal Law Leading Edge Academy does not discriminate on the basis of race religion color national origin sex or disability Leading Edge Academy Home Staff Enrollment Contact Employment'"
      ]
     },
     "execution_count": 143,
     "metadata": {},
     "output_type": "execute_result"
    }
   ],
   "source": [
    "clean_string(cleaned_df['CMO_WEBTEXT'][905][0][3], rem_words, unicode_list) #is the lower_case ok?"
   ]
  },
  {
   "cell_type": "code",
   "execution_count": 144,
   "metadata": {},
   "outputs": [
    {
     "data": {
      "text/plain": [
       "'s Great Hearts Gala Greater Good Fund Ways to Give Great Hearts Great Hearts is a nonprofit network of public charter schools dedicated to improving education nationwide through classical preparatory K academies A Great Hearts education prepares students to be more than just proficient test takers but rather to become greathearted leaders capable of success throughout their higher education and professional careers With a curriculum built upon a classical liberal arts tradition and a revolutionary approach to school itself Great Hearts cultivates the hearts and minds of students in the pursuit of Truth Goodness and Beauty Your browser does not support ifres Play video Become a Part of Our Community Great Hearts operates charter schools throughout Arizona and Texas with more schools opening soon Explore our academies or apply for enrollment Your Nearest Academy Search Schools Tour an Academy Sign Up Enroll at Great Hearts Apply Now Upcoming Events September Annual Great Hearts Gala Great Hearts Annual Gala Midsummer Nights Dre September In support Read More View All Many Thanks to Our Supporters Were privileged to have the support of many outstanding people and organizations within our communities Join us in our mission to create Great Hearted leaders See Our Supporters How Can I Help Back to main GreatHearts Annual Report Learn More Find out more about an academy Select an Academy Toggle Dropdown Great Hearts Western Hills Archway Classical Academy Anthem Anthem Preparatory Academy Archway Classical Academy Arete Arete Preparatory Academy Archway Classical Academy Chandler Chandler Preparatory Academy Archway Classical Academy Cicero Cicero Preparatory Academy Archway Classical Academy Glendale Glendale Preparatory Academy Great Hearts Irving Great Hearts Monte Vista North Great Hearts Monte Vista South Great Hearts Northern Oaks Archway Classical Academy Lincoln Lincoln Preparatory Academy Maryvale Preparatory Academy Archway Classical Academy North Phoenix North Phoenix Preparatory Academy Archway Classical Academy Scottsdale Scottsdale Preparatory Academy Archway Classical Academy Trivium East Archway Classical Academy Trivium West Trivium Preparatory Academy Archway Classical Academy Veritas Veritas Preparatory Academy Follow GreatHearts Facebook Twitter YouTube GreatHearts Academies Alumni Finance Compliance Report A Problem or Concern Accessibility Statement Public Information Requests Texas Board Agendas Contact Great Hearts'"
      ]
     },
     "execution_count": 144,
     "metadata": {},
     "output_type": "execute_result"
    }
   ],
   "source": [
    "clean_string(cleaned_df['CMO_WEBTEXT'][900][0][3], rem_words, unicode_list) #is the lower_case ok?"
   ]
  },
  {
   "cell_type": "code",
   "execution_count": 145,
   "metadata": {},
   "outputs": [
    {
     "data": {
      "text/plain": [
       "'s\\nGreat Hearts Gala\\nGreater Good Fund\\nWays to Give\\nGreat Hearts\\nGreat Hearts is a non-profit network of public charter schools dedicated to improving education nationwide through classical preparatory K-12 academies. A Great Hearts education prepares students to be more than just proficient test takers, but rather, to become great-hearted leaders capable of success throughout their higher education and professional careers. With a curriculum built upon a classical liberal arts tradition and a revolutionary approach to school itself, Great Hearts cultivates the hearts and minds of students in the pursuit of Truth, Goodness and Beauty.\\nYour browser does not support iframes.\\nPlay video\\nBecome a Part of Our Community\\n      Great Hearts operates 28 charter schools throughout Arizona and Texas, with more schools opening soon. Explore our academies or apply for enrollment.    \\nYour Nearest Academy\\nSearch Schools\\nTour an Academy\\nSign Up\\nEnroll at Great Hearts\\nApply Now\\nUpcoming Events\\n        September 29, 2018      \\n3rd Annual Great Hearts Gala\\n        Great Hearts 3rd Annual Gala â\\x80\\x93 Midsummer Nightâ\\x80\\x99s Dream September 29, 2018 \\xa0 In support... \\nRead More\\nView All\\nMany Thanks to Our Supporters\\n          Weâ\\x80\\x99re privileged to have the support of many outstanding people and organizations within our communities. Join us in our mission to create Great Hearted leaders.        \\nSee Our Supporters\\nHow Can I Help?\\nBack to main\\nGreatHearts Annual Report\\nLearn More\\nFind out more about an academy\\nSelect an Academy\\nToggle Dropdown\\t\\t\\t\\t\\t\\t  \\nGreat Hearts Western Hills\\nArchway Classical Academy Anthem\\nAnthem Preparatory Academy\\nArchway Classical Academy - Arete\\nArete Preparatory Academy\\nArchway Classical Academy - Chandler\\nChandler Preparatory Academy\\nArchway Classical Academy - Cicero\\nCicero Preparatory Academy\\nArchway Classical Academy  - Glendale\\nGlendale Preparatory Academy\\nGreat Hearts Irving\\nGreat Hearts Monte Vista - North\\nGreat Hearts Monte Vista - South\\nGreat Hearts Northern Oaks\\nArchway Classical Academy - Lincoln\\nLincoln Preparatory Academy\\nMaryvale Preparatory Academy\\nArchway Classical Academy - North Phoenix\\nNorth Phoenix Preparatory Academy\\nArchway Classical Academy -  Scottsdale \\nScottsdale Preparatory Academy\\nArchway Classical Academy - Trivium East\\nArchway Classical Academy - Trivium West\\nTrivium Preparatory Academy\\nArchway Classical Academy - Veritas\\nVeritas Preparatory Academy\\nFollow GreatHearts\\nFacebook\\nTwitter\\nYouTube\\n\\t\\t\\t\\t\\t\\tÂ© GreatHearts Academies\\t\\t\\t\\t\\t\\nAlumni\\nFinance & Compliance\\nReport A Problem or Concern\\nAccessibility Statement\\nPublic Information Requests\\nTexas Board Agendas\\nContact Great Hearts'"
      ]
     },
     "execution_count": 145,
     "metadata": {},
     "output_type": "execute_result"
    }
   ],
   "source": [
    "cleaned_df['CMO_WEBTEXT'][900][0][3]"
   ]
  },
  {
   "cell_type": "code",
   "execution_count": null,
   "metadata": {},
   "outputs": [],
   "source": []
  }
 ],
 "metadata": {
  "kernelspec": {
   "display_name": "Python 3",
   "language": "python",
   "name": "python3"
  },
  "language_info": {
   "codemirror_mode": {
    "name": "ipython",
    "version": 3
   },
   "file_extension": ".py",
   "mimetype": "text/x-python",
   "name": "python",
   "nbconvert_exporter": "python",
   "pygments_lexer": "ipython3",
   "version": "3.6.3"
  }
 },
 "nbformat": 4,
 "nbformat_minor": 2
}
