{
 "cells": [
  {
   "cell_type": "code",
   "execution_count": null,
   "metadata": {
    "collapsed": true
   },
   "outputs": [],
   "source": [
    "# a basic intro to beautifulsoup on how to get text from a website"
   ]
  },
  {
   "cell_type": "code",
   "execution_count": 72,
   "metadata": {
    "collapsed": false,
    "deletable": true,
    "editable": true
   },
   "outputs": [],
   "source": [
    "# import stuff, use google to check how to install these modules\n",
    "from bs4 import BeautifulSoup\n",
    "from bs4 import Tag as tag\n",
    "# see this for request documentation http://docs.python-requests.org/en/master/ \n",
    "import requests  "
   ]
  },
  {
   "cell_type": "code",
   "execution_count": 86,
   "metadata": {
    "collapsed": false,
    "deletable": true,
    "editable": true
   },
   "outputs": [],
   "source": [
    "# use the requests module to request data from the website\n",
    "r  = requests.get('http://www.k12northstar.org/chinook')\n",
    "data = r.text # it gives you raw data of the website --> more like html and css code but not really"
   ]
  },
  {
   "cell_type": "code",
   "execution_count": 108,
   "metadata": {
    "collapsed": false,
    "deletable": true,
    "editable": true
   },
   "outputs": [],
   "source": [
    "# construct a soup object that gives you a formatted website code in html/css, JS\n",
    "soup = BeautifulSoup(data, 'html.parser')\n",
    "# print(soup.prettify())"
   ]
  },
  {
   "cell_type": "code",
   "execution_count": 38,
   "metadata": {
    "collapsed": false,
    "deletable": true,
    "editable": true
   },
   "outputs": [],
   "source": [
    "# example here: find_all('a') means find all <a> tag in html\n",
    "# uncomment to see the result\n",
    "# for link in soup.find_all('a'):\n",
    "#     print(link.get('href'))"
   ]
  },
  {
   "cell_type": "code",
   "execution_count": 121,
   "metadata": {
    "collapsed": false,
    "deletable": true,
    "editable": true
   },
   "outputs": [],
   "source": [
    "paragraph = soup.find_all('p')"
   ]
  },
  {
   "cell_type": "code",
   "execution_count": 122,
   "metadata": {
    "collapsed": false,
    "deletable": true,
    "editable": true
   },
   "outputs": [
    {
     "data": {
      "text/plain": [
       "[<p class=\"true\" id=\"gb-tagline\">Excellence and Equity for All</p>,\n",
       " <p> </p>,\n",
       " <p class=\"ui-article-description\"></p>,\n",
       " <p class=\"ui-article-description\"> We are pleased to partner with the University of Alaska Museum of the North (UAMN) to offer a spring break photo contest. </p>,\n",
       " <p class=\"ui-article-description\">The Fairbanks North Star Borough School District is conducting a series of school climate surveys for students (grades 5 – 12), instructional and non-instructional staff, and parents.</p>,\n",
       " <p class=\"ui-article-description\">Fairbanks North Star Borough School District administration will present the district’s fiscal year 2017 – 2018 proposed budget at the school board’s Feb. 6 work session.</p>,\n",
       " <p class=\"ui-article-description\">\n",
       " <span><a href=\"\n",
       " http://www.k12northstar.org/site/Default.aspx?PageID=64&amp;PageType=17&amp;DomainID=35&amp;ModuleInstanceID=2197&amp;EventDateID=10934\">Gamma Testing Math PEAKS test</a></span>\n",
       " </p>,\n",
       " <p class=\"ui-article-description\">\n",
       " <span><a href=\"\n",
       " http://www.k12northstar.org/site/Default.aspx?PageID=64&amp;PageType=17&amp;DomainID=35&amp;ModuleInstanceID=2197&amp;EventDateID=10935\">Gamma Testing English Language Arts PEAKS test</a></span>\n",
       " </p>,\n",
       " <p class=\"ui-article-description\">\n",
       " <span>6:30 PM - 8:00 PM</span>\n",
       " <span><a href=\"\n",
       " http://www.k12northstar.org/site/Default.aspx?PageID=64&amp;PageType=17&amp;DomainID=35&amp;ModuleInstanceID=2197&amp;EventDateID=11262\">Personalized Learning Information Session</a></span>\n",
       " </p>,\n",
       " <p class=\"ui-article-description\">\n",
       " <span><a href=\"\n",
       " http://www.k12northstar.org/site/Default.aspx?PageID=64&amp;PageType=17&amp;DomainID=35&amp;ModuleInstanceID=2197&amp;EventDateID=10938\">Pioneer Testing Math PEAKS test</a></span>\n",
       " </p>,\n",
       " <p class=\"ui-article-description\">\n",
       " <span><a href=\"\n",
       " http://www.k12northstar.org/site/Default.aspx?PageID=64&amp;PageType=17&amp;DomainID=35&amp;ModuleInstanceID=2197&amp;EventDateID=10939\">Pioneer Testing English Language Arts PEAKS test</a></span>\n",
       " </p>,\n",
       " <p class=\"ui-article-description\">The superintendent of the Fairbanks North Star Borough School District presented her proposed budget for the 2017-18 school year to a handful of parents in the high school library on Wednesday.</p>,\n",
       " <p class=\"ui-article-description\">• Feb. 15 at North Pole High School.  • Feb. 22 at Ryan Middle School.  • March 8 at  University Park Elementary School.  All forums start at 6 p.m.</p>,\n",
       " <p class=\"ui-article-description\">The school district continued to roll out personalized learning with a public meeting Thursday that drew more than 100 people.  Consultants with Education Elements presented information about the new education initiative, which entails more technology, small-group learning, classrooms with flexible seating and choices for how students meet state standards.</p>,\n",
       " <p>3002 International Street<span>  <span class=\"gb-trans-50\">|</span>  </span><span>Fairbanks, AK 99701</span></p>,\n",
       " <p id=\"gb-footer-phone-fax\">\n",
       " <span><span>PHONE:</span> (907) 452-5020</span>\n",
       " <span><span>FAX:</span> (907) 452-5048</span>\n",
       " </p>,\n",
       " <p>The Fairbanks North Star Borough School District is an equal employment and educational opportunity institution, as well as a tobacco and nicotine-free learning and work environment.</p>]"
      ]
     },
     "execution_count": 122,
     "metadata": {},
     "output_type": "execute_result"
    }
   ],
   "source": [
    "paragraph"
   ]
  },
  {
   "cell_type": "code",
   "execution_count": null,
   "metadata": {
    "collapsed": false,
    "deletable": true,
    "editable": true
   },
   "outputs": [],
   "source": []
  },
  {
   "cell_type": "code",
   "execution_count": 123,
   "metadata": {
    "collapsed": false,
    "deletable": true,
    "editable": true
   },
   "outputs": [
    {
     "name": "stdout",
     "output_type": "stream",
     "text": [
      "Excellence and Equity for All\n",
      " \n",
      "\n",
      " We are pleased to partner with the University of Alaska Museum of the North (UAMN) to offer a spring break photo contest. \n",
      "The Fairbanks North Star Borough School District is conducting a series of school climate surveys for students (grades 5 – 12), instructional and non-instructional staff, and parents.\n",
      "Fairbanks North Star Borough School District administration will present the district’s fiscal year 2017 – 2018 proposed budget at the school board’s Feb. 6 work session.\n",
      "\n",
      "Gamma Testing Math PEAKS test\n",
      "\n",
      "\n",
      "Gamma Testing English Language Arts PEAKS test\n",
      "\n",
      "\n",
      "6:30 PM - 8:00 PM\n",
      "Personalized Learning Information Session\n",
      "\n",
      "\n",
      "Pioneer Testing Math PEAKS test\n",
      "\n",
      "\n",
      "Pioneer Testing English Language Arts PEAKS test\n",
      "\n",
      "The superintendent of the Fairbanks North Star Borough School District presented her proposed budget for the 2017-18 school year to a handful of parents in the high school library on Wednesday.\n",
      "• Feb. 15 at North Pole High School.  • Feb. 22 at Ryan Middle School.  • March 8 at  University Park Elementary School.  All forums start at 6 p.m.\n",
      "The school district continued to roll out personalized learning with a public meeting Thursday that drew more than 100 people.  Consultants with Education Elements presented information about the new education initiative, which entails more technology, small-group learning, classrooms with flexible seating and choices for how students meet state standards.\n",
      "3002 International Street  |  Fairbanks, AK 99701\n",
      "\n",
      "PHONE: (907) 452-5020\n",
      "FAX: (907) 452-5048\n",
      "\n",
      "The Fairbanks North Star Borough School District is an equal employment and educational opportunity institution, as well as a tobacco and nicotine-free learning and work environment.\n"
     ]
    }
   ],
   "source": [
    "# how to get plain text from a webpage\n",
    "for p in paragraph:\n",
    "    print(p.text)"
   ]
  },
  {
   "cell_type": "code",
   "execution_count": 125,
   "metadata": {
    "collapsed": false,
    "deletable": true,
    "editable": true
   },
   "outputs": [
    {
     "name": "stdout",
     "output_type": "stream",
     "text": [
      "use the following search parameters to narrow your results:\n",
      "e.g. subreddit:aww site:imgur.com dog\n",
      "see the search faq for details.\n",
      "advanced search: by author, subreddit...\n",
      "65%\n",
      "reddit gold gives you extra features and helps keep our servers running. We believe the more reddit can be user-supported, the freer we will be to make reddit the best it can be.\n",
      "Buy gold for yourself to gain access to extra features and special benefits. A month of gold pays for  231.26 minutes of reddit server time!\n",
      "Give gold to thank exemplary people and encourage them to post more.\n",
      "This daily goal updates every 10 minutes and is reset at midnight Pacific Time  (13 hours, 5 minutes from now).\n",
      "Yesterday's reddit gold goal\n",
      "104%\n",
      "\n",
      "One year of no alcohol has changed my life. I lost 53 pounds and I'm 1000 times happier. I tried to recreate my bloated pic.progress (i.redd.it)\n",
      "submitted 2 hours ago by Klamsykrawl to r/pics\n",
      "\n",
      "Parliament shooting: Police officer and another man shot outside UK House of CommonsUpd: policeman stabbed, not shot (independent.co.uk)\n",
      "submitted 3 hours ago by rpsz to r/worldnews\n",
      "\n",
      "Former Trump campaign manager secretly worked for Russian billionaire to 'benefit Putin government,' files show. Manafort got $10 million/year to further Putin's interests around the world. Manafort wasn't just some \"Trump Aide,\" he was his CAMPAIGN MANAGER. (cnbc.com)\n",
      "submitted 5 hours ago by 71tsiser to r/esist\n",
      "\n",
      "When my wife accused me of triggering the lightning bolt in Mario Kart/r/all (i.imgur.com)\n",
      "submitted 4 hours ago by EditingAndLayout to r/reactiongifs\n",
      "\n",
      "His name is fucking War Machine, I'm good. (i.imgur.com)\n",
      "submitted 4 hours ago by EinsZweiDreiVeir to r/BlackPeopleTwitter\n",
      "\n",
      "The end of 'Rogue One' cut into the beginning of 'A New Hope.' (vimeo.com)\n",
      "submitted 4 hours ago by kuphinit to r/videos\n",
      "\n",
      "AP Exclusive: Manafort had plan to benefit Putin government (apnews.com)\n",
      "submitted 5 hours ago by bananajaguar to r/news\n",
      "\n",
      "One of the Many Gems from the New Dave Chapelle Specials. (i.redd.it)\n",
      "submitted 4 hours ago by ExplosivePuppy to r/standupshots\n",
      "\n",
      "My favorite character from Rogue One is the trooper who walks like he pooped his pants (/r/starwarsgifs)Movies (gfycat.com)\n",
      "submitted 5 hours ago by BigJ76 to r/StarWars\n",
      "\n",
      "Elon Musk: New NASA bill contains no real new funding for Mars (arstechnica.com)\n",
      "submitted 4 hours ago by puns4life to r/space\n",
      "\n",
      "Original Mass Effect Artists knew... (imgur.com)\n",
      "submitted 5 hours ago by flaccidgoat to r/gaming\n",
      "\n",
      "Go go gadget extendo car (i.imgur.com)\n",
      "submitted 5 hours ago by iBleeedorange to r/gifs\n",
      "\n",
      "Guy films stranger who fell asleep on his shoulder (imgur.com)\n",
      "submitted 6 hours ago by SlimJones123 to r/funny\n",
      "\n",
      "Children born to older mothers experience fewer behavioural, social and emotional difficulties, a new study has suggested.Psychology (independent.co.uk)\n",
      "submitted 3 hours ago by NinjaDiscoJesus to r/science\n",
      "\n",
      "Beach ball bounce (imgur.com)\n",
      "submitted 5 hours ago by SlimJones123 to r/oddlysatisfying\n",
      "\n",
      "Wholesome GhostsComic (i.redd.it)\n",
      "submitted 5 hours ago by IcarusIsNotLonely to r/wholesomememes\n",
      "\n",
      "Firefox has encountered a bug (i.imgur.com)\n",
      "submitted 6 hours ago by itsfoine to r/aww\n",
      "\n",
      "@Noahpinion: I swear to God, the sight of people with deadly diseases crowdfunding their health care is the most dystopian thing about America right now./r/all (twitter.com)\n",
      "submitted 7 hours ago by The1stCitizenOfTheIn to r/LateStageCapitalism\n",
      "\n",
      "Millennials are skipping doctor visits to avoid high healthcare costs, study findsMedicine (businessinsider.com)\n",
      "submitted 6 hours ago by mvea to r/EverythingScience\n",
      "\n",
      "The grill being sold on Amazon is only supposed to be a foot tall, but can we talk about the gondola silhouette?QUALITY POST (i.redd.it)\n",
      "submitted 7 hours ago by IceCreamTacosPizza to r/CrappyDesign\n",
      "\n",
      "Man proposes to girlfriend under the aurora borealis in Iceland | Pic by Dale Sharpe [620x930] (i.imgur.com)\n",
      "submitted 4 hours ago by TheLostCrusader to r/spaceporn\n",
      "\n",
      "TIL: Mr Rogers sued the KKK for impersonating him. (nytimes.com)\n",
      "submitted 7 hours ago by SteelJoker to r/todayilearned\n",
      "\n",
      "Liftware LevelGIF (i.imgur.com)\n",
      "submitted 5 hours ago by AdamE89 to r/Damnthatsinteresting\n",
      "\n",
      "??? (i.redd.it)\n",
      "submitted 5 hours ago by atr2718 to r/dankmemes\n",
      "\n",
      "What are you sick and tired of having to explain to people? (self.AskReddit)\n",
      "submitted 7 hours ago by TheCreatorLovesYou to r/AskReddit\n",
      "Use of this site constitutes acceptance of our User Agreement and Privacy Policy. © 2017 reddit inc. All rights reserved.\n",
      "REDDIT and the ALIEN Logo are registered trademarks of reddit inc.\n",
      "π Rendered by PID 119421 on  app-507  at 2017-03-22 17:54:26.489576+00:00 running d63839a country code: US.\n"
     ]
    }
   ],
   "source": [
    "###################### now try it with reddit ############################\n",
    "\n",
    "r  = requests.get('http://www.reddit.com')\n",
    "data = r.text\n",
    "soup = BeautifulSoup(data, 'html.parser')\n",
    "paragraph = soup.find_all('p')\n",
    "for p in paragraph:\n",
    "    print(p.text)"
   ]
  },
  {
   "cell_type": "code",
   "execution_count": null,
   "metadata": {
    "collapsed": true,
    "deletable": true,
    "editable": true
   },
   "outputs": [],
   "source": []
  }
 ],
 "metadata": {
  "kernelspec": {
   "display_name": "Python 3",
   "language": "python",
   "name": "python3"
  },
  "language_info": {
   "codemirror_mode": {
    "name": "ipython",
    "version": 3
   },
   "file_extension": ".py",
   "mimetype": "text/x-python",
   "name": "python",
   "nbconvert_exporter": "python",
   "pygments_lexer": "ipython3",
   "version": "3.6.0"
  }
 },
 "nbformat": 4,
 "nbformat_minor": 2
}
