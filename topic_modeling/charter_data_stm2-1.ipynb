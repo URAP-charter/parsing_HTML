{
 "cells": [
  {
   "cell_type": "code",
   "execution_count": 1,
   "metadata": {},
   "outputs": [
    {
     "name": "stderr",
     "output_type": "stream",
     "text": [
      "\n",
      "Attaching package: ‘dplyr’\n",
      "\n",
      "The following objects are masked from ‘package:stats’:\n",
      "\n",
      "    filter, lag\n",
      "\n",
      "The following objects are masked from ‘package:base’:\n",
      "\n",
      "    intersect, setdiff, setequal, union\n",
      "\n"
     ]
    }
   ],
   "source": [
    "library(dplyr)"
   ]
  },
  {
   "cell_type": "code",
   "execution_count": 2,
   "metadata": {},
   "outputs": [
    {
     "name": "stderr",
     "output_type": "stream",
     "text": [
      "also installing the dependencies ‘coda’, ‘extrafontdb’, ‘Rttf2pt1’, ‘RcppEigen’, ‘statnet.common’, ‘reticulate’, ‘ISOcodes’, ‘extrafont’, ‘fastmatch’, ‘ggrepel’, ‘network’, ‘RSpectra’, ‘RcppParallel’, ‘sna’, ‘SnowballC’, ‘spacyr’, ‘stopwords’, ‘proxyC’, ‘matrixStats’, ‘slam’, ‘lda’, ‘quanteda’, ‘glmnet’\n",
      "\n",
      "Updating HTML index of packages in '.Library'\n",
      "Making 'packages.html' ... done\n"
     ]
    }
   ],
   "source": [
    "install.packages('stm')"
   ]
  },
  {
   "cell_type": "code",
   "execution_count": 3,
   "metadata": {},
   "outputs": [],
   "source": [
    "setwd('../../nowdata/')"
   ]
  },
  {
   "cell_type": "code",
   "execution_count": 4,
   "metadata": {},
   "outputs": [
    {
     "data": {
      "text/html": [
       "'/home/jovyan/work/nowdata'"
      ],
      "text/latex": [
       "'/home/jovyan/work/nowdata'"
      ],
      "text/markdown": [
       "'/home/jovyan/work/nowdata'"
      ],
      "text/plain": [
       "[1] \"/home/jovyan/work/nowdata\""
      ]
     },
     "metadata": {},
     "output_type": "display_data"
    }
   ],
   "source": [
    "getwd()"
   ]
  },
  {
   "cell_type": "markdown",
   "metadata": {},
   "source": [
    "### 1. Ingest: Reading and processing text data"
   ]
  },
  {
   "cell_type": "code",
   "execution_count": 5,
   "metadata": {},
   "outputs": [],
   "source": [
    "data = read.csv('charters_textfull_2015.csv')"
   ]
  },
  {
   "cell_type": "code",
   "execution_count": 6,
   "metadata": {},
   "outputs": [],
   "source": [
    "# drop NA/Null\n",
    "\n",
    "# data[complete.cases(data), ]\n",
    "data = na.omit(data)"
   ]
  },
  {
   "cell_type": "code",
   "execution_count": 7,
   "metadata": {},
   "outputs": [],
   "source": [
    "# get random 1000 rows from dataframe \n",
    "# data[sample(nrow(df), 1000), ]\n",
    "data = sample_n(data, 1000)"
   ]
  },
  {
   "cell_type": "code",
   "execution_count": 8,
   "metadata": {},
   "outputs": [
    {
     "data": {
      "text/html": [
       "0"
      ],
      "text/latex": [
       "0"
      ],
      "text/markdown": [
       "0"
      ],
      "text/plain": [
       "[1] 0"
      ]
     },
     "metadata": {},
     "output_type": "display_data"
    }
   ],
   "source": [
    "# check whether rows contain any NAs\n",
    "row.has.na <- apply(data, 1, function(x){any(is.na(x))})\n",
    "sum(row.has.na)"
   ]
  },
  {
   "cell_type": "code",
   "execution_count": 9,
   "metadata": {},
   "outputs": [
    {
     "data": {
      "text/html": [
       "<ol class=list-inline>\n",
       "\t<li>1000</li>\n",
       "\t<li>60</li>\n",
       "</ol>\n"
      ],
      "text/latex": [
       "\\begin{enumerate*}\n",
       "\\item 1000\n",
       "\\item 60\n",
       "\\end{enumerate*}\n"
      ],
      "text/markdown": [
       "1. 1000\n",
       "2. 60\n",
       "\n",
       "\n"
      ],
      "text/plain": [
       "[1] 1000   60"
      ]
     },
     "metadata": {},
     "output_type": "display_data"
    }
   ],
   "source": [
    "dim(data)"
   ]
  },
  {
   "cell_type": "code",
   "execution_count": 10,
   "metadata": {
    "scrolled": true
   },
   "outputs": [
    {
     "name": "stdout",
     "output_type": "stream",
     "text": [
      "'data.frame':\t1000 obs. of  60 variables:\n",
      " $ master_string          : Factor w/ 5703 levels \"          agenda board members agenda charter board agenda agenda agenda agenda agenda agenda regular charter b\"| __truncated__,..: 4773 3664 2047 2260 5301 3485 4575 4676 5051 4685 ...\n",
      " $ inquiry_ideology       : num  0.00151 0.01127 0 0.00447 0.00549 ...\n",
      " $ readingblur_2013       : num  5 20 10 1 5 20 1 20 1 5 ...\n",
      " $ mathblur_2013          : num  5 20 10 1 5 10 1 20 1 5 ...\n",
      " $ readingscore_2013      : num  57 30 75 75 67 50 66 30 65 57 ...\n",
      " $ mathscore_2013         : num  67 10 65 51 82 25 52 10 42 27 ...\n",
      " $ readingblur_2014       : num  5 50 5 1 5 10 1 50 1 1 ...\n",
      " $ mathblur_2014          : num  5 10 5 1 5 20 1 50 1 5 ...\n",
      " $ readingscore_2014      : num  72 25 67 61 77 45 50 25 51 14 ...\n",
      " $ mathscore_2014         : num  67 5 72 42 77 10 38 25 33 12 ...\n",
      " $ readingblur_2015       : num  5 20 5 1 5 20 1 50 1 1 ...\n",
      " $ mathblur_2015          : num  5 20 5 1 5 10 1 50 1 1 ...\n",
      " $ readingscore_2015      : num  57 10 57 40 72 30 26 25 31 12 ...\n",
      " $ mathscore_2015         : num  67 10 57 26 87 5 32 25 19 7 ...\n",
      " $ students_ofcolor       : num  12.7 68.4 100 12.7 96.7 ...\n",
      " $ poor_students          : num  15.2 71.9 93.9 0 86 ...\n",
      " $ white_students         : num  0.8727 0.3156 0 0.8734 0.0331 ...\n",
      " $ black_students         : num  0.00932 0.53992 0.02373 0.03751 0.22027 ...\n",
      " $ asian_students         : num  0.02174 0.0038 0 0.00469 0.0078 ...\n",
      " $ hispanic_students      : num  0.0528 0.0418 0.9729 0.0375 0.729 ...\n",
      " $ native_students        : num  0.00621 0.03042 0.00339 0 0 ...\n",
      " $ mixed_students         : num  0.03727 0.06844 0 0.04689 0.00975 ...\n",
      " $ pctpdfs                : num  0 0 0 0 0 0 0 0 0 0 ...\n",
      " $ numwords               : int  385134 12443 231 5823 161570 77 9275 255 14 599 ...\n",
      " $ numpages               : int  411 28 1 30 399 1 15 1 1 1 ...\n",
      " $ numpdfs                : int  0 0 0 0 0 0 0 0 0 0 ...\n",
      " $ ncessch                : num  2.7e+11 2.7e+11 4.8e+11 3.9e+11 4.8e+11 ...\n",
      " $ teachers               : num  17.76 9.09 15 67 18.06 ...\n",
      " $ lnteachers             : num  2.88 2.21 2.71 4.2 2.89 ...\n",
      " $ people_ofcolor_district: num  15.5 22.58 40.3 7.73 23.76 ...\n",
      " $ poverty_district       : num  4.53 6 19.13 16.43 25.56 ...\n",
      " $ childpovertysd         : num  0.0731 0.0986 0.3098 0.3576 0.336 ...\n",
      " $ collegesd              : num  30.3 29.3 34 11.5 13.4 ...\n",
      " $ unemployment           : num  4.66 5.78 7.14 12.84 8.47 ...\n",
      " $ students               : num  322 263 295 853 513 133 528 70 856 430 ...\n",
      " $ lnstudents             : num  5.77 5.57 5.69 6.75 6.24 ...\n",
      " $ age                    : int  16 12 4 11 3 8 11 3 14 13 ...\n",
      " $ lnage                  : num  2.77 2.48 1.39 2.4 1.1 ...\n",
      " $ state                  : Factor w/ 43 levels \"AK\",\"AR\",\"AZ\",..: 22 22 38 31 38 22 31 21 31 19 ...\n",
      " $ urban                  : int  0 0 1 0 1 0 1 1 0 1 ...\n",
      " $ primary                : num  0 0 1 0 1 0 1 0 0 0 ...\n",
      " $ middle                 : num  0 0 0 0 0 0 0 0 0 0 ...\n",
      " $ high                   : num  1 1 0 0 0 1 0 0 0 0 ...\n",
      " $ otherlevel             : num  0 0 0 1 0 0 0 1 1 1 ...\n",
      " $ level                  : Factor w/ 5 levels \"\",\"High\",\"Middle\",..: 2 2 5 4 5 2 5 4 4 4 ...\n",
      " $ expulsions             : num  0 0 0 0 0 0 0 0 0 0 ...\n",
      " $ suspensions            : num  23 78 10 0 78 38 219 24 0 42 ...\n",
      " $ incidents              : num  20 22 4 0 0 9 0 2 0 25 ...\n",
      " $ lawreferrals           : num  2 2 0 0 0 13 0 0 0 2 ...\n",
      " $ lepcount               : num  2 0 294 4 55 0 0 39 0 0 ...\n",
      " $ certcount              : num  18.1 12 14 67 18.9 ...\n",
      " $ certrate               : num  0.986 0.48 1 1 1 ...\n",
      " $ ethnicisolated99       : int  1 1 1 1 1 1 1 1 1 1 ...\n",
      " $ ethnicisolated95       : int  1 1 1 1 1 1 1 1 1 1 ...\n",
      " $ ethnicisolated90       : int  1 1 1 1 1 1 1 1 1 1 ...\n",
      " $ ethnicisolated80       : int  1 1 1 1 1 1 1 1 1 1 ...\n",
      " $ ethnicisolated70       : int  1 1 1 1 1 1 1 1 1 1 ...\n",
      " $ closerate              : num  0 0.1485 0.0898 0.1236 0 ...\n",
      " $ publicdensity          : int  7 49 138 84 7 10 85 48 85 7 ...\n",
      " $ charterdensity         : int  1 4 46 27 1 3 32 10 32 1 ...\n",
      " - attr(*, \"na.action\")= 'omit' Named int  1 2 3 4 5 6 7 8 9 10 ...\n",
      "  ..- attr(*, \"names\")= chr  \"1\" \"2\" \"3\" \"4\" ...\n"
     ]
    }
   ],
   "source": [
    "str(data)"
   ]
  },
  {
   "cell_type": "code",
   "execution_count": 11,
   "metadata": {},
   "outputs": [],
   "source": [
    "library(tibble)"
   ]
  },
  {
   "cell_type": "code",
   "execution_count": 12,
   "metadata": {},
   "outputs": [],
   "source": [
    "as_tibble(data)"
   ]
  },
  {
   "cell_type": "code",
   "execution_count": 13,
   "metadata": {},
   "outputs": [],
   "source": [
    "library('stm')"
   ]
  },
  {
   "cell_type": "code",
   "execution_count": null,
   "metadata": {},
   "outputs": [],
   "source": [
    "install.packages(\"tm\")"
   ]
  },
  {
   "cell_type": "code",
   "execution_count": null,
   "metadata": {},
   "outputs": [],
   "source": [
    "processed <- textProcessor(data$master_string, metadata = data)"
   ]
  },
  {
   "cell_type": "code",
   "execution_count": null,
   "metadata": {},
   "outputs": [],
   "source": [
    "processed"
   ]
  },
  {
   "cell_type": "code",
   "execution_count": null,
   "metadata": {},
   "outputs": [],
   "source": [
    "out <- prepDocuments(processed$documents, processed$vocab, processed$meta)"
   ]
  },
  {
   "cell_type": "code",
   "execution_count": null,
   "metadata": {},
   "outputs": [],
   "source": [
    "docs <- out$documents\n",
    "vocab <- out$vocab\n",
    "meta <- out$meta"
   ]
  },
  {
   "cell_type": "markdown",
   "metadata": {},
   "source": [
    "### 2. Prepare: Associating text with metadata"
   ]
  },
  {
   "cell_type": "code",
   "execution_count": null,
   "metadata": {},
   "outputs": [],
   "source": [
    "plotRemoved(processed$documents, lower.thresh = seq(1, 200, by = 100))"
   ]
  },
  {
   "cell_type": "code",
   "execution_count": null,
   "metadata": {},
   "outputs": [],
   "source": [
    "out <- prepDocuments(processed$documents, processed$vocab,processed$meta, lower.thresh = 15)\n"
   ]
  },
  {
   "cell_type": "markdown",
   "metadata": {},
   "source": [
    "### 3. Estimate: Estimating the structural topic model"
   ]
  },
  {
   "cell_type": "code",
   "execution_count": null,
   "metadata": {},
   "outputs": [],
   "source": [
    "#charterPrevFit <- stm(documents = out$documents, vocab = out$vocab,K = 20, prevalence =['poor_students', 'students_ofcolor', 'poverty_district', 'people_ofcolor_district', 'readingscore_2015', 'mathscore_2015', 'primary', 'middle', 'high', 'lnage', 'lnstudents', 'urban', 'pctpdfs', 'numwords', 'readingblur_2015', 'mathblur_2015', 'lnteachers'], max.em.its = 25, data = out$meta, init.type = \"Spectral\")"
   ]
  },
  {
   "cell_type": "code",
   "execution_count": null,
   "metadata": {},
   "outputs": [],
   "source": [
    "# Estimating the structural topic model\n",
    "\n",
    "charterPrevFit <- stm(documents = out$documents, vocab = out$vocab,K = 2, prevalence =~ level + urban,max.em.its = 2, data = out$meta, init.type = \"Spectral\")"
   ]
  },
  {
   "cell_type": "code",
   "execution_count": null,
   "metadata": {},
   "outputs": [],
   "source": [
    "levels(meta$rating)"
   ]
  },
  {
   "cell_type": "code",
   "execution_count": null,
   "metadata": {},
   "outputs": [],
   "source": [
    "colnames(data)"
   ]
  },
  {
   "cell_type": "code",
   "execution_count": null,
   "metadata": {},
   "outputs": [],
   "source": [
    "print.data.frame(head(data))"
   ]
  },
  {
   "cell_type": "code",
   "execution_count": null,
   "metadata": {},
   "outputs": [],
   "source": [
    "# covariate: ['poor_students', 'students_ofcolor', \n",
    "#'poverty_district', 'people_ofcolor_district', 'readingscore_2015', \n",
    "# 'mathscore_2015', 'primary', 'middle', 'high', 'lnage', 'lnstudents', 'urban', \n",
    "#'pctpdfs', 'numwords', 'readingblur_2015', 'mathblur_2015', 'lnteachers']\n",
    "\n",
    "# start small\n",
    "# ['poor_students', 'students_ofcolor', 'poverty_district', 'people_ofcolor_district']"
   ]
  },
  {
   "cell_type": "code",
   "execution_count": null,
   "metadata": {},
   "outputs": [],
   "source": [
    "# charterPrevFit2 <- stm(documents = out$documents, vocab = out$vocab,K = 2, prevalence =~ poor_students + s(students_ofcolor) + s(poverty_district), max.em.its = 25, data = out$meta, init.type = \"Spectral\")"
   ]
  },
  {
   "cell_type": "code",
   "execution_count": null,
   "metadata": {},
   "outputs": [],
   "source": [
    "# charterPrevFit3 <- stm(documents = out$documents, vocab = out$vocab,K = 20, prevalence =~ poor_students + s(students_ofcolor) + s(poverty_district) + s(people_ofcolor_district) + s(readingscore_2015) + s(mathscore_2015) + s(primary) + s(middle) + s(high) + s(lnage) + s(lnstudents) + s(urban) + s(pctpdfs) + s(numwords) + s(readingblur_2015) + s(mathblur_2015) + s(lnteachers), max.em.its = 25, data = out$meta, init.type = \"Spectral\")"
   ]
  },
  {
   "cell_type": "markdown",
   "metadata": {},
   "source": [
    "### 4. Evaluate: Model selection and search"
   ]
  },
  {
   "cell_type": "code",
   "execution_count": null,
   "metadata": {},
   "outputs": [],
   "source": [
    "# Model selection for a fixed number of number of topics\n",
    "\n",
    "charterSelect <- selectModel(out$documents, out$vocab, K = 2, prevalence =~ poor_students + s(students_ofcolor), max.em.its = 2,data = out$meta, runs = 2, seed = 843)"
   ]
  },
  {
   "cell_type": "code",
   "execution_count": null,
   "metadata": {},
   "outputs": [],
   "source": [
    "selectedmodel <- charterSelect$runout[[3]]"
   ]
  },
  {
   "cell_type": "code",
   "execution_count": null,
   "metadata": {},
   "outputs": [],
   "source": [
    "# Model search across numbers of topics\n",
    "\n",
    "plotModels(charterSelect, pch=c(1,2,3,4), legend.position=\"bottomright\")"
   ]
  },
  {
   "cell_type": "code",
   "execution_count": null,
   "metadata": {},
   "outputs": [],
   "source": [
    "storage <- searchK(out$documents, out$vocab, K = c(7, 10),prevalence =~ poor_students + s(students_ofcolor), data = meta)"
   ]
  },
  {
   "cell_type": "code",
   "execution_count": null,
   "metadata": {},
   "outputs": [],
   "source": []
  },
  {
   "cell_type": "code",
   "execution_count": null,
   "metadata": {},
   "outputs": [],
   "source": []
  },
  {
   "cell_type": "markdown",
   "metadata": {},
   "source": [
    "### 5. Understand: Interpreting the STM by plotting and inspecting results"
   ]
  },
  {
   "cell_type": "code",
   "execution_count": null,
   "metadata": {},
   "outputs": [],
   "source": [
    "# Understanding topics through words and example documents\n",
    "# Explore the words associated with each topic\n",
    "\n",
    "labelTopics(charterPrevFit, c(3, 7, 20))"
   ]
  },
  {
   "cell_type": "code",
   "execution_count": null,
   "metadata": {},
   "outputs": [],
   "source": [
    "# examine documents that are highly associated with topics\n",
    "\n",
    "thoughts3 <- findThoughts(charterPrevFit, texts = shortdoc, n = 2, topics = 3)$docs[[1]]"
   ]
  },
  {
   "cell_type": "code",
   "execution_count": null,
   "metadata": {},
   "outputs": [],
   "source": [
    "thoughts20 <- findThoughts(charterPrevFit, texts = shortdoc, n = 2, topics = 20)$docs[[1]]"
   ]
  },
  {
   "cell_type": "code",
   "execution_count": null,
   "metadata": {},
   "outputs": [],
   "source": [
    "# Estimating metadata/topic relationships\n",
    "\n",
    "par(mfrow = c(1, 2),mar = c(.5, .5, 1, .5))"
   ]
  },
  {
   "cell_type": "code",
   "execution_count": null,
   "metadata": {},
   "outputs": [],
   "source": [
    "plotQuote(thoughts3, width = 30, main = \"Topic 3\")"
   ]
  },
  {
   "cell_type": "code",
   "execution_count": null,
   "metadata": {},
   "outputs": [],
   "source": [
    "plotQuote(thoughts20, width = 30, main = \"Topic 20\")"
   ]
  },
  {
   "cell_type": "code",
   "execution_count": null,
   "metadata": {},
   "outputs": [],
   "source": [
    "out$meta$rating <- as.factor(out$meta$rating)"
   ]
  },
  {
   "cell_type": "code",
   "execution_count": null,
   "metadata": {},
   "outputs": [],
   "source": [
    "prep <- estimateEffect(1:20 ~ rating + s(day), charterPrevFit, meta = out$meta, uncertainty = \"Global\")"
   ]
  },
  {
   "cell_type": "code",
   "execution_count": null,
   "metadata": {},
   "outputs": [],
   "source": [
    "summary(prep, topics=1)"
   ]
  },
  {
   "cell_type": "code",
   "execution_count": null,
   "metadata": {},
   "outputs": [],
   "source": []
  },
  {
   "cell_type": "markdown",
   "metadata": {},
   "source": [
    "### 6. Visualize: Presenting STM results"
   ]
  },
  {
   "cell_type": "code",
   "execution_count": null,
   "metadata": {},
   "outputs": [],
   "source": [
    "# Summary visualization\n",
    "\n",
    "plot(charterPrevFit, type = \"summary\", xlim = c(0, .3))\n",
    "# Graphical display of estimated topic proportions."
   ]
  },
  {
   "cell_type": "code",
   "execution_count": null,
   "metadata": {},
   "outputs": [],
   "source": [
    "# Topical content\n",
    "\n",
    "plot(prep, covariate = \"rating\", topics = c(3, 7, 20),model = charterPrevFit, \n",
    "        method = \"difference\",cov.value1 = \"Liberal\", cov.value2 = \"Conservative\",\n",
    "        xlab = \"More Conservative ... More Liberal\", main = \"Effect of Liberal vs. Conservative\",\n",
    "        xlim = c(-.1, .1), labeltype = \"custom\", custom.labels = c('Obama', 'Sarah Palin','Bush Presidency'))"
   ]
  },
  {
   "cell_type": "code",
   "execution_count": null,
   "metadata": {},
   "outputs": [],
   "source": [
    "plot(prep, \"day\", method = \"continuous\", topics = 7, model = z, printlegend = FALSE, xaxt = \"n\", xlab = \"Time (2008)\")"
   ]
  },
  {
   "cell_type": "code",
   "execution_count": null,
   "metadata": {},
   "outputs": [],
   "source": [
    "monthseq <- seq(from = as.Date(\"2008-01-01\"),to = as.Date(\"2008-12-01\"), by = \"month\")"
   ]
  },
  {
   "cell_type": "code",
   "execution_count": null,
   "metadata": {},
   "outputs": [],
   "source": [
    "monthnames <- months(monthseq)\n",
    "axis(1,at = as.numeric(monthseq) - min(as.numeric(monthseq)),labels = monthnames)\n",
    "\n",
    "# Graphical display of topic prevalence."
   ]
  },
  {
   "cell_type": "code",
   "execution_count": null,
   "metadata": {},
   "outputs": [],
   "source": [
    "charterContent <- stm(out$documents, out$vocab, K = 20,prevalence =~ poor_students + s(students_ofcolor), content =~ poor_students, max.em.its = 75, data = out$meta, init.type = \"Spectral\")"
   ]
  },
  {
   "cell_type": "code",
   "execution_count": null,
   "metadata": {},
   "outputs": [],
   "source": [
    "plot(charterContent, type = \"perspectives\", topics = 11)\n",
    "\n",
    "# Graphical display of topical perspectives"
   ]
  },
  {
   "cell_type": "code",
   "execution_count": null,
   "metadata": {},
   "outputs": [],
   "source": [
    "plot(charterPrevFit, type = \"perspectives\", topics = c(12, 20))\n",
    "\n",
    "# Graphical display of topical contrast between topics 12 and 20."
   ]
  },
  {
   "cell_type": "code",
   "execution_count": null,
   "metadata": {},
   "outputs": [],
   "source": [
    "# Plotting covariate interactions"
   ]
  },
  {
   "cell_type": "code",
   "execution_count": null,
   "metadata": {},
   "outputs": [],
   "source": []
  }
 ],
 "metadata": {
  "kernelspec": {
   "display_name": "R",
   "language": "R",
   "name": "ir"
  },
  "language_info": {
   "codemirror_mode": "r",
   "file_extension": ".r",
   "mimetype": "text/x-r-source",
   "name": "R",
   "pygments_lexer": "r",
   "version": "3.5.1"
  }
 },
 "nbformat": 4,
 "nbformat_minor": 2
}
