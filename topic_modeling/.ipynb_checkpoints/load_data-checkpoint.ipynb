{
 "cells": [
  {
   "cell_type": "code",
   "execution_count": 10,
   "metadata": {},
   "outputs": [],
   "source": [
    "setwd('../../nowdata/')"
   ]
  },
  {
   "cell_type": "code",
   "execution_count": 12,
   "metadata": {},
   "outputs": [],
   "source": [
    "data = read.csv('charters_textfull_2015.csv')"
   ]
  },
  {
   "cell_type": "code",
   "execution_count": 13,
   "metadata": {},
   "outputs": [
    {
     "name": "stdout",
     "output_type": "stream",
     "text": [
      "'data.frame':\t5864 obs. of  54 variables:\n",
      " $ master_string    : Factor w/ 5703 levels \"          agenda board members agenda charter board agenda agenda agenda agenda agenda agenda regular charter b\"| __truncated__,..: 4396 2692 4309 5515 1747 4307 4308 4310 2601 1875 ...\n",
      " $ inquiry_ideology : num  0.00376 0.00977 0 0.00973 0.00745 ...\n",
      " $ readingblur_2013 : num  5 5 5 5 5 5 5 NA 5 10 ...\n",
      " $ mathblur_2013    : num  5 5 5 5 5 5 5 NA 5 10 ...\n",
      " $ readingscore_2013: num  87 77 97 82 82 92 77 NA 82 95 ...\n",
      " $ mathscore_2013   : num  82 57 97 62 52 62 67 NA 72 85 ...\n",
      " $ readingblur_2014 : num  5 5 5 5 5 5 5 NA 5 10 ...\n",
      " $ mathblur_2014    : num  5 5 5 5 5 5 5 NA 5 10 ...\n",
      " $ readingscore_2014: num  42 52 72 42 42 52 22 NA 57 65 ...\n",
      " $ mathscore_2014   : num  42 37 67 17 22 22 32 NA 57 55 ...\n",
      " $ readingblur_2015 : num  NA NA NA NA NA NA NA NA NA NA ...\n",
      " $ mathblur_2015    : num  NA NA NA NA NA NA NA NA NA NA ...\n",
      " $ readingscore_2015: num  NA NA NA NA NA NA NA NA NA NA ...\n",
      " $ mathscore_2015   : num  NA NA NA NA NA NA NA NA NA NA ...\n",
      " $ povertyschool    : num  66.8 53.8 26.3 25.3 28.1 ...\n",
      " $ povertyschool.1  : num  53.7 52.1 0 0 0 ...\n",
      " $ pctpdfs          : num  0 0 0 0 0 0 0 0 0 0 ...\n",
      " $ numwords         : int  1330 28279 563 15529 7787 603 537 621 4588 28805 ...\n",
      " $ numpages         : int  1 117 1 33 15 1 1 1 6 66 ...\n",
      " $ numpdfs          : int  0 0 0 0 0 0 0 0 0 0 ...\n",
      " $ ncessch          : num  2e+10 2e+10 2e+10 2e+10 2e+10 ...\n",
      " $ teachers         : num  12 10.5 19.8 14 2 ...\n",
      " $ lnteachers       : num  2.485 2.351 2.986 2.639 0.693 ...\n",
      " $ pocsd            : num  32.5 32.5 35.7 35.7 35.7 ...\n",
      " $ povertysd        : num  7.54 7.54 5.63 5.63 5.63 ...\n",
      " $ childpovertysd   : num  0.108 0.108 0.0886 0.0886 0.0886 ...\n",
      " $ collegesd        : num  23.8 23.8 34.3 34.3 34.3 ...\n",
      " $ unemployment     : num  7.57 7.57 6.05 6.05 6.05 ...\n",
      " $ students         : num  190 169 377 273 270 163 326 101 74 92 ...\n",
      " $ lnstudents       : num  5.25 5.13 5.93 5.61 5.6 ...\n",
      " $ age              : int  17 12 17 10 12 12 7 1 17 17 ...\n",
      " $ lnage            : num  2.83 2.48 2.83 2.3 2.48 ...\n",
      " $ state            : Factor w/ 43 levels \"AK\",\"AR\",\"AZ\",..: 1 1 1 1 1 1 1 1 1 1 ...\n",
      " $ urban            : int  0 0 1 1 1 1 1 1 0 0 ...\n",
      " $ primary          : num  1 1 1 1 0 0 1 0 1 1 ...\n",
      " $ middle           : num  0 0 0 0 0 0 0 0 0 0 ...\n",
      " $ high             : num  0 0 0 0 0 0 0 0 0 0 ...\n",
      " $ otherlevel       : num  0 0 0 0 1 1 0 1 0 0 ...\n",
      " $ level            : Factor w/ 5 levels \"\",\"High\",\"Middle\",..: 5 5 5 5 4 4 5 4 5 5 ...\n",
      " $ expulsions       : num  0 0 0 0 0 0 0 0 0 0 ...\n",
      " $ suspensions      : num  10 5 11 8 0 9 7 0 0 0 ...\n",
      " $ incidents        : num  0 0 12 5 0 1 0 0 0 0 ...\n",
      " $ lawreferrals     : num  0 0 0 0 0 0 0 0 0 0 ...\n",
      " $ lepcount         : num  13 8 8 10 14 10 50 2 6 0 ...\n",
      " $ certcount        : num  12 11 20.8 16.19 3.49 ...\n",
      " $ certrate         : num  1 1 1 1 1 1 1 1 1 1 ...\n",
      " $ ethnicisolated99 : int  1 1 1 1 1 1 1 1 1 1 ...\n",
      " $ ethnicisolated95 : int  1 1 1 1 1 1 1 1 1 1 ...\n",
      " $ ethnicisolated90 : int  1 1 1 1 1 1 1 1 1 1 ...\n",
      " $ ethnicisolated80 : int  1 1 1 1 1 1 1 1 1 1 ...\n",
      " $ ethnicisolated70 : int  1 1 1 1 1 1 1 1 1 1 ...\n",
      " $ closerate        : num  0.111 0.111 0 0 0 ...\n",
      " $ publicdensity    : int  10 10 101 101 101 101 101 101 15 43 ...\n",
      " $ charterdensity   : int  2 2 9 9 9 9 9 9 1 4 ...\n"
     ]
    }
   ],
   "source": [
    "str(data)"
   ]
  },
  {
   "cell_type": "code",
   "execution_count": null,
   "metadata": {},
   "outputs": [],
   "source": [
    "data$master_string[1]"
   ]
  },
  {
   "cell_type": "code",
   "execution_count": null,
   "metadata": {},
   "outputs": [],
   "source": []
  }
 ],
 "metadata": {
  "kernelspec": {
   "display_name": "R",
   "language": "R",
   "name": "ir"
  },
  "language_info": {
   "codemirror_mode": "r",
   "file_extension": ".r",
   "mimetype": "text/x-r-source",
   "name": "R",
   "pygments_lexer": "r",
   "version": "3.5.1"
  }
 },
 "nbformat": 4,
 "nbformat_minor": 2
}
