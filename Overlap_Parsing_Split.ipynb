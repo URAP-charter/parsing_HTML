{
 "cells": [
  {
   "cell_type": "markdown",
   "metadata": {},
   "source": [
    "## Importing Packages"
   ]
  },
  {
   "cell_type": "code",
   "execution_count": 1,
   "metadata": {
    "collapsed": true
   },
   "outputs": [],
   "source": [
    "import os\n",
    "import re\n",
    "from nltk import word_tokenize, sent_tokenize # widely used text tokenizer\n",
    "from nltk.stem.porter import PorterStemmer # an approximate method of stemming words\n",
    "ps = PorterStemmer()"
   ]
  },
  {
   "cell_type": "markdown",
   "metadata": {},
   "source": [
    "In this notebook, we're testing out an approach to parsing out the menu, header, footer items from web pages.\n",
    "By exploiting the fact that these elements should be present in each page, we make the assumption that any text common to multiple pages is superfluous and should get filtered out.\n",
    "\n",
    "This notebook assumes that extra spaces from scraping are left intact.\n",
    "\n",
    "The way this is implemented is by making one pass through all the pages and counting the number of times each section of text was encountered.  Then, we do a second pass through the text to filter out sections that were encountered more than once.\n",
    "\n",
    "Additionally, I've reimplemented dictionary analysis as an override.  This means that when find text we want to filter out, we can run dictionary analysis on the text to see if we should actually keep it instead.  Currently, the dictionary being used is a compilation of all the Essentialism/Traditionalism, Progressivism, and Ritualism Summer 2017 keywords, as well as some additional keywords gathered manually.  I've found that this dictionary is too broad and there are too many hits, which is why I've currently disabled using dictionary analysis as an override."
   ]
  },
  {
   "cell_type": "code",
   "execution_count": 2,
   "metadata": {
    "collapsed": true
   },
   "outputs": [],
   "source": [
    "dir_location = \"sample_page/\" # Location where pages get read from\n",
    "file_format = dir_location + \"html Link {}.txt\"\n",
    "filtered_file_format = \"sample_page_filtered_split/html Link {}.txt\"# where filtered pages are written\n",
    "\n",
    "dict_override = False # whether or not to use dictionary analysis as a fail safe"
   ]
  },
  {
   "cell_type": "markdown",
   "metadata": {},
   "source": [
    "## Set Up Custom Dictionary Analysis"
   ]
  },
  {
   "cell_type": "code",
   "execution_count": 3,
   "metadata": {},
   "outputs": [
    {
     "name": "stdout",
     "output_type": "stream",
     "text": [
      "707 dictionary entries loaded\n"
     ]
    },
    {
     "data": {
      "text/plain": [
       "['abstract think',\n",
       " 'abstract thought',\n",
       " 'academ',\n",
       " 'academics',\n",
       " 'acceler',\n",
       " 'account',\n",
       " 'achiev',\n",
       " 'achievement gain',\n",
       " 'achievement gap',\n",
       " 'activ']"
      ]
     },
     "execution_count": 3,
     "metadata": {},
     "output_type": "execute_result"
    }
   ],
   "source": [
    "additional_keywords = [\"values\", \"positive\", \"academics\", \"skills\", \"perseverance\", 'purpose',\n",
    "                       'direction', 'mission', 'vision', 'vision', 'mission', 'our purpose',\n",
    "                       'our ideals', 'ideals', 'our cause', 'curriculum','curricular',\n",
    "                       'method', 'pedagogy', 'pedagogical', 'approach', 'model', 'system',\n",
    "                       'structure','philosophy', 'philosophical', 'beliefs', 'believe',\n",
    "                       'principles', 'creed', 'credo', 'values','moral', 'history', 'our story',\n",
    "                       'the story', 'school story', 'background', 'founding', 'founded',\n",
    "                       'established','establishment', 'our school began', 'we began',\n",
    "                       'doors opened', 'school opened']\n",
    "custom_dict = set()\n",
    "\n",
    "# Function to load in the dictionaries for each philosophy\n",
    "def load_dict(custom_dict, file_path):\n",
    "    with open(file_path) as f:\n",
    "        line = f.readline()\n",
    "        while line:\n",
    "            custom_dict.add(ps.stem(line.replace(\"\\n\", \"\"))) # Stem dictionary entries\n",
    "            line = f.readline()\n",
    "    return custom_dict\n",
    "\n",
    "custom_dict = load_dict(custom_dict, \"custom_dicts_s17/prog_dict.txt\")\n",
    "custom_dict = load_dict(custom_dict, \"custom_dicts_s17/ess_dict.txt\")\n",
    "custom_dict = load_dict(custom_dict, \"custom_dicts_s17/rit_dict.txt\")\n",
    "\n",
    "for keyword in additional_keywords:\n",
    "    custom_dict.add(keyword)\n",
    "\n",
    "print(len(custom_dict), \"dictionary entries loaded\")\n",
    "custom_dict_list = list(custom_dict)\n",
    "custom_dict_list.sort(key = lambda x: x.lower())\n",
    "custom_dict_list[:10]"
   ]
  },
  {
   "cell_type": "code",
   "execution_count": 4,
   "metadata": {
    "collapsed": true
   },
   "outputs": [],
   "source": [
    "# Get length of longest entry in custom dictionary\n",
    "max_entry_length = max([len(entry.split()) for entry in custom_dict])\n",
    "debug = False # Prints out the matching dictionary terms, for debugging\n",
    "\n",
    "# Function that performs the dictionary analysis.\n",
    "# Also removes punctuation, stems the phrase being analyzed, and checks for multiple length\n",
    "# dictionary entries\n",
    "# Now returns the number of dictionary hits found\n",
    "def dict_match(phrase, custom_dict):\n",
    "    # regex to keep only letters and spaces. Effectively removes punctuation\n",
    "    phrase = re.sub(r'[^\\w\\s]', '', phrase)\n",
    "    \n",
    "    # Do dictionary analysis for word chunks of lengths 1 to max_entry_length\n",
    "    counts = 0\n",
    "    for length in range(max_entry_length, 0, -1):\n",
    "        phrase, len_counts = dict_match_len(phrase, custom_dict, length)\n",
    "        counts += len_counts\n",
    "    return counts\n",
    "\n",
    "# Helper function to run dictionary analysis for given length word chunks\n",
    "# This function stems the phrases before checking, and the dictionary entries were\n",
    "# also stemmed upon creation\n",
    "# Now returns an updated copy of phrase, which has removed the dictionary hits\n",
    "# Also returns the number of dictionary hits\n",
    "def dict_match_len(phrase, custom_dict, length):\n",
    "    splitted_phrase = phrase.split()\n",
    "    if len(splitted_phrase) < length:\n",
    "        return phrase, 0\n",
    "    hits_indices, counts = [], 0\n",
    "    for i in range(len(splitted_phrase) - length + 1):\n",
    "        to_stem = \"\"\n",
    "        for j in range(length):\n",
    "            to_stem += splitted_phrase[i+j] + \" \" # Builds chunk of 'length' words\n",
    "        stemmed_word = ps.stem(to_stem[:-1]) # stem chunk\n",
    "        if stemmed_word in custom_dict:\n",
    "            hits_indices.append(i) # Store the index of the word that has a dictionary hit\n",
    "            counts += 1\n",
    "            if debug:\n",
    "                print(stemmed_word)\n",
    "    # Iterate through list of matching word indices and remove the matches\n",
    "    for i in range(len(hits_indices)-1, -1, -1):\n",
    "        splitted_phrase = splitted_phrase[:hits_indices[i]] + \\\n",
    "        splitted_phrase[hits_indices[i] + length:]\n",
    "    modified_phrase = \"\"\n",
    "    for sp in splitted_phrase: # Rebuild the modified phrase, with matches removed\n",
    "        modified_phrase += sp + \" \"\n",
    "    return modified_phrase[:-1], counts"
   ]
  },
  {
   "cell_type": "code",
   "execution_count": 5,
   "metadata": {},
   "outputs": [
    {
     "name": "stdout",
     "output_type": "stream",
     "text": [
      "abstract think\n",
      "achievement gain\n",
      "acceler\n",
      "learn\n"
     ]
    }
   ],
   "source": [
    "debug = True\n",
    "if debug:\n",
    "    dict_match(\"Example sentence accelerate abstract think \\\n",
    "    cats cats cats achievement gain learning\", custom_dict)\n",
    "debug = False"
   ]
  },
  {
   "cell_type": "markdown",
   "metadata": {},
   "source": [
    "## Filter Out Repeated Text"
   ]
  },
  {
   "cell_type": "code",
   "execution_count": 6,
   "metadata": {
    "collapsed": true
   },
   "outputs": [],
   "source": [
    "num_pages = len([f for f in os.listdir(dir_location) if f[0] != \".\"])\n",
    "seen_counts = dict()\n",
    "pages, pages_set = [], set()\n",
    "\n",
    "# First iterate through each page to find overlaps\n",
    "for i in range(num_pages):\n",
    "    page_text = open(file_format.format(i)).read()\n",
    "    \n",
    "    # Split raw text into phrases separated by three or more spaces\n",
    "    page_text_split = [phrase for phrase in page_text.split(\"  \") if phrase != \"\"]\n",
    "    \n",
    "    # Check if page is a duplicate.  If so, ignore it.\n",
    "    # Because of this, duplicate pages will get turned into empty files\n",
    "    if str(page_text_split) in pages_set:\n",
    "        pages.append([])\n",
    "        continue\n",
    "\n",
    "    pages.append(page_text_split)\n",
    "    pages_set.add(str(page_text_split))\n",
    "\n",
    "    # Count the number of times each phrase was seen across the entire website\n",
    "    for phrase in page_text_split:\n",
    "        if phrase in seen_counts:\n",
    "            # If there's a dictionary match, set the seen_count value to 1,\n",
    "            # which ensures that the phrase won't get filtered out\n",
    "            if dict_override and dict_match(phrase, custom_dict):\n",
    "                seen_counts[phrase] = 1\n",
    "            else:\n",
    "                seen_counts[phrase] += 1\n",
    "        else:\n",
    "            seen_counts[phrase] = 1\n",
    "\n",
    "# Iterate again through each page to only keep non-overlapping phrases\n",
    "for i in range(len(pages)):\n",
    "    filtered_page_text = \"\"\n",
    "    for j in range(len(pages[i])):\n",
    "        if seen_counts[pages[i][j]] == 1:\n",
    "            filtered_page_text += pages[i][j] + \" \"\n",
    "\n",
    "    # Save the filtered page into a different directory\n",
    "    with open(filtered_file_format.format(str(i)), \"w\") as f:\n",
    "        f.write(filtered_page_text)"
   ]
  },
  {
   "cell_type": "markdown",
   "metadata": {},
   "source": [
    "Below we can see exactly which phrases got filtered out, along with the number of times they were encountered."
   ]
  },
  {
   "cell_type": "code",
   "execution_count": 7,
   "metadata": {
    "scrolled": true
   },
   "outputs": [
    {
     "name": "stdout",
     "output_type": "stream",
     "text": [
      "Explore 16\n",
      " x: 20\n",
      "Home 22\n",
      "About Us 22\n",
      "School Information 25\n",
      "Lab Hours 19\n",
      "Calendar 22\n",
      "Frequently Asked Questions 19\n",
      "Directions 19\n",
      "Student Handbook 17\n",
      "School Board 22\n",
      "School Improvement Council 18\n",
      "Contact Us 22\n",
      "Leadership 17\n",
      "News 25\n",
      "Careers 19\n",
      "Register Your Student 18\n",
      " Follow Us 20\n",
      "Traducciones ~ Translations ~ 번역 17\n",
      "Richland Two Charter High School 27\n",
      "From the News Room View All News 2\n",
      " Upcoming Events View Calendar 2\n",
      "7900 Brookmont Lane  |  Columbia, SC 29203  |  Phone: (803)-419-1348 |  Fax: (803)-935-1212 17\n",
      "Accessibility | © 2017 Richland School District Two 20\n",
      "Original text Contribute a better translation  18\n",
      " Home 16\n",
      " Richland Two Charter High School 10\n",
      " Explore 4\n",
      "Your Name: 2\n",
      "Site Translations 3\n",
      "Fall Break Hours 2\n",
      "R2i2 is offering Dual Credit courses for the 2017-2018 School Year 2\n",
      "Welcome to Our New Website! 2\n",
      "Page Not Found 2\n",
      "Our Schools 3\n",
      "I'm a Richland Two... 3\n",
      "Student or Parent 3\n",
      "Employee 3\n",
      "Future Family 3\n",
      "Community Member/Local Business 3\n",
      "Prospective Employee 3\n",
      "About Richland Two 3\n",
      "Richland Two AdvancED Process 3\n",
      "State of the District 3\n",
      "District Awards 3\n",
      "Superintendent 3\n",
      "Superintendent's Welcome 3\n",
      "About Dr. Baron R. Davis 3\n",
      "Assistant Superintendents for Schools 3\n",
      "Board and Superintendent Goals 3\n",
      "Priorities 3\n",
      "Agenda 3\n",
      "Board Policies 3\n",
      "Boardsmanship 3\n",
      "Meeting Schedule & Highlights 3\n",
      "Members 3\n",
      "Public Participation 3\n",
      "Departments 3\n",
      "Accountability and Grant Initiatives 3\n",
      "Administrative Services 3\n",
      "Registrar (Enrollment & Registration) 3\n",
      "Business Services 3\n",
      "Communications & Strategic Partnerships 3\n",
      "Diversity & Multicultural Inclusion 3\n",
      "Human Resources 3\n",
      "Information Technology 3\n",
      "Instructional Support Services 3\n",
      "Operations 3\n",
      "Planning 3\n",
      "Teaching & Learning 3\n",
      " Traducciones ~ Translations ~ 번역 3\n",
      " Elementary Schools 3\n",
      "Bethel-Hanberry 3\n",
      "Bookman Road 3\n",
      "Bridge Creek 3\n",
      "Catawba Trail 3\n",
      "Forest Lake Elementary 3\n",
      "Jackson Creek 3\n",
      "Joseph Keels 3\n",
      "Killian 3\n",
      "L.W. Conder Arts Integrated Magnet 3\n",
      "Lake Carolina - Lower Campus 3\n",
      "Lake Carolina - Upper Campus 3\n",
      "Langford 3\n",
      "Lonnie B. Nelson 3\n",
      "North Springs 3\n",
      "Polo Road 3\n",
      "Pontiac 3\n",
      "Rice Creek 3\n",
      "Round Top 3\n",
      "Sandlapper 3\n",
      "Windsor 3\n",
      "Middle Schools 3\n",
      "Blythewood Middle 3\n",
      "Dent Middle 3\n",
      "E.L. Wright Middle 3\n",
      "Kelly Mill Middle 3\n",
      "Longleaf Middle 3\n",
      "Muller Road Middle 3\n",
      "Summit Parkway Middle 3\n",
      "High Schools 3\n",
      "Blythewood High 3\n",
      "Richland Northeast High 3\n",
      "Ridge View High 3\n",
      "Spring Valley High 3\n",
      "Westwood High 3\n",
      "Magnet Schools and Centers 3\n",
      "Blythewood Academy 3\n",
      "Center for Child Development 3\n",
      "Richland Two Institute of Innovation 3\n",
      "W.R. Rogers Center 3\n",
      "About Two 3\n",
      " Contact Us 3\n",
      "Accessibility 2\n",
      " Original text Contribute a better translation  2\n",
      "NOV 4\n",
      "School Board Meeting 2\n",
      "DEC 2\n"
     ]
    }
   ],
   "source": [
    "for elem in seen_counts.keys():\n",
    "    if seen_counts[elem] > 1:\n",
    "        print(elem, seen_counts[elem])"
   ]
  },
  {
   "cell_type": "markdown",
   "metadata": {},
   "source": [
    "Below we can see all of the remaining text in one place after filtering"
   ]
  },
  {
   "cell_type": "code",
   "execution_count": 8,
   "metadata": {},
   "outputs": [
    {
     "name": "stdout",
     "output_type": "stream",
     "text": [
      " Fall Break Hours On November 20th and 21st, we'll close at 3 PM.\n",
      "No school November 22nd through the 24th. R2i2 is offering Dual Credit courses for the 2017-2018 School Year Earn college credit while you complete high school! Welcome to Our New Website! Sleek. Shiny. Built for the future. Just like us. Connected   The Richland Two Charter High School was founded in 2010 for students looking for a modern approach to their high school learning experience. Students at the Charter School customize their education using our virtual curriculum and design a flexible attendance schedule to meet their individual needs. In 2013, the Charter School opened its doors to students in the 9th through 12th grade. Our extended hours of operation allow students the flexibility to work during the day and complete their coursework by taking advantage of our nighttime hours. Our major advantage over other online schools is our faculty and staff. By employing a full time school counselor, English teacher, Math teacher, Work Based Learning Coordinator and Lab Specialist, students can ask questions and receive individualized attention.  Your Future Starts Now! Blended Virtual High School Environment 9 th through 12 th Grades Flexible School Day Small School Experience SC High School Diploma Extra-Curricular Activities available at Home School Exposure to Real World Careers 21st Century Learning Opportunities Support from Local Business Partners   The Richland Two Charter High School is open for student use Monday through Thursday, 8:00 AM to 8:00 PM and Friday until 3:00 PM. During Evening Hours, please keep in mind : The lab will close at 7:10 PM if no students have arrived by that time. Please arrive no later than 6:00 PM to take quizzes and tests. Students will not be permitted to log on to a computer after 7:10 PM (this allows at least thirty 30 minutes to complete any work before having to log out by 7:45 PM). The latest start time for a course exam is 6:45 PM (this allows a one-hour minimum per exam session as the length of exams varies from course to course). Monday through Thursday, all computers must be shut down by 7:45 PM. Fridays, all computers must be shut down by 2:45 PM. Students working from home and have questions are encouraged call the computer lab at 803-419-1348. Please note that the lab in use may differ from night to night according to which staffer is attending. See the list below. Evening Computer Lab Hours by Staff (4:00 PM to Close)​ ​ ​ ​ Monday Tuesday Wednesday Thursday  Dr. Perry Mills, Sr. - Principal Ann Holland - Work-Based Learning Coordinator​ Brian Stiles - English Teacher | Testing Coordinator​ Angela Bright - School Counselor Dr. Mills available at 12 noon. Ann Holland available at 12 noon. Brian Stiles available at 12 noon. Allen Upchurch - Math Teacher Angela Bright and Allen Upchurch available at 12 noon.  ​   Where do I take my classes? Classes are offered through the internet. We have partnered with Richland School District Two to provide your classes via the Virtual High School already established within the district. Students have access to our full-time English teacher, math tutor, and lab specialist.  Can I finish one subject area before starting another? Your core classes will be tailored to your learning style with help from our highly certified teachers and staff to meet your learning needs. If that is how you learn best, then you can complete one class before taking the next.  How many students are you accepting? We can enroll a maximum of 20 freshman, 20 sophomores, 40 juniors, and 40 seniors. (120 students maximum.) If there are more than 120 applicants then students will be chosen by lottery.  Do I pay tuition to attend the Richland Two Charter High School? There is absolutely no tuition for attending Richland Two Charter High School.  What are the graduation requirements at the Richland Two Charter High School? In addition to the South Carolina graduation requirements, all students must complete the entire sequence of the \"Leadership and Development\" courses, which are designed to provide soft skills training and offer internship opportunities. This course sequence must be completed in order to be eligible to graduate from the Richland Two Charter High School.  Will I get paid for my internship programs? Some programs may have a salary associated with them, however, we do not guarantee that you will be paid for your internships.  Will I graduate with my class at my old high school? You will be awarded a South Carolina High School Diploma upon your graduation and will graduate with the students at the Richland Two Charter High School, not at the high school that you were previously zoned for.   Richland Two Charter High School Board Information 2017-2018 Election Procedures: If you're interested in joining the Richland Two Charter High School Board, please read our Board Responsibilities Document and Complete an Application . Applications should be completed and returned to CHS by October 6, 2017 at 5:00pm.  2016-2017 Election Results: Sue Dillon, Audrey Ratchford, and Margaret Walden have been elected to serve two-year terms. Brenda Mack-Foxworth was appointed to serve a 2-year term. Ballots were due Tuesday, October 18 @ 4pm.  School Board Meeting Dates Richland Two Charter High School 2016-2017 School Board Meeting Dates Board meetings are usually the 3rd Monday evening of each month at 6:00 PM at the Richland Two Charter High School at Anna Boyd. A few of the dates have been changed from the 3rd Monday of the month due to conflicts with holidays. December, January, February and June meetings will be held on the 2nd Monday due to national/district holidays.  August 28, 2017 September 18, 2017 October 16, 2017 November 20, 2017 December 11, 2017 (2nd Monday; 3rd Monday is Winter Break) January 8, 2018 (2nd Monday; 3rd Monday is a holiday) February 12, 2018 (2nd Monday; 3rd Monday is a holiday) March 19, 2018 April 16, 2018 May 21, 2018 June 11, 2018 (2nd Monday; 3rd Monday is Admin Professional Development) July 16, 2018 Current Richland Two Charter High School Board Members  Sue Dillon Wendi Griffith Dr. Brenda Mack-Foxworth Sherry Jackson Dr. Sherrill \"Marty\" Martin Audrey Ratchford Margaret Walden  Non Voting Member:  Dr. Perry D. Mills, Sr., Principal If you have questions, please contact Henry Lovett at 803-419-1348 or via email at hlovett@richland2.org .  School Improvement Council We need your help! The School Improvement Council is a great way for parents to get involved in your child’s education! We are currently looking for parents who are interested in joining the School Improvement Council for Richland Two Charter High School. If you are interested, please contact Henry Lovett at 419-1348, or via email at hlovett@richland2.org as soon as possible.  Call us at 803.419.1348  Geri McLeod | Administrative Assistant - Main Office Extension 0 Dr. Perry Mills, Sr | Principal Extension 1 Allen Upchurch | Assistant Principal - Math Teacher Extension 8 Sabrina Parilla | Lab Specialist Extension 3 Angela Bright | Guidance Extension 4 Ann Holland | Work-based Learning Coordinator Extension 5 Kathy Nowak | Special Education Extension 6 Brian Stiles | English Teacher - Testing Coordinator Extension 7  Or use the form below: Your Email:  Phone Number: What can we assist you with?:  10/31/2017 - Fall Break Hours On November 20th and 21st, we'll close at 3 PM.\n",
      "No school November 22nd through the 24th.  8/30/2017 - R2i2 is offering Dual Credit courses for the 2017-2018 School Year Earn college credit while you complete high school!  3/1/2017 - Welcome to Our New Website! Sleek. Shiny. Built for the future. Just like us.  Special Education Resource (LD certification required) Part-time Employees of the Richland Two Charter High School will be members of the South Carolina State Retirement System and are eligible for South Carolina Employee Insurance Program benefits. All interested applicants should complete the forms at the bold green links below and return them to:  Dr. Perry D. Mills Sr. 7900 Brookmont Lane Columbia, SC 29203 phone: 803-419-1348 pmills@richland2.org  Application References Criminal History Previous Address Employee Handbook Richland Two Charter High School is an equal opportunity employer and does not discriminate on the basis of race, color, creed, national origin, sex, age, handicap or disability in admission to access to, treatment in or employment in its programs and activities. Inquiries regarding the nondiscrimination policies should be made to: Chief Human Resources Officer; 763 Fashion Drive | Columbia, SC 29229; shwilliams@richland2.org; 803.738.3216  Register Your Student Registration is easy. Please check the links below, as the registration process differs depending on whether your student is coming from outside the district or not. All students who are new to the district must register online . Please click the button below to register online.  If you were previously enrolled in a Richland Two school...  OR If you are currently enrolled at a Richland Two school and would like to transfer to the Charter School... Please download the Student Application by clicking the \"Student Application\" button. You'll need to print the application, complete it, and return it to the school.​ Please see our contact page for location information.  The official language used for the content of the Richland School District Two website is English. A free translation service provided by Google is available through the links provided that offer immediate translation of our web pages using Google's software. To translate the site please select a language from the dropdown box:  Select Language ​ ▼ Computerized translations are only an approximation of the website's original content. The translation should not be considered exact and in some cases may include incorrect or confusing language. In addition, some applications, files or items cannot be translated including graphs, photos or portable document formats (pdf). Richland Two cannot guarantee the accuracy, reliability or timeliness of any information translated by this system. El idioma oficial utilizado para el contenido de la página web del Distrito Escolar Dos de Richland es Inglés. Un servicio de traducción gratuito proporcionado por Google está disponible a través de los enlaces proporcionados que ofrecen la traducción inmediata de nuestras páginas web utilizando el software de Google. Traducciones automatizadas son solamente una aproximación del contenido original del sitio web. La traducción no se debe considerar exacta y en algunos casos puede incluir palabras incorrectas o frases confusas. Además, algunas aplicaciones, archivos o elementos no se pueden traducir incluyendo gráficos, fotos o formatos de documento portátil (PDF). Richland Dos no puede garantizar la exactitud, la fiabilidad o la puntualidad de cualquier información traducida por este sistema.   10/31/2017 Our hours will change for the Fall Break Holiday: Monday, November 20th - Close at 3 PM Tuesday, November 21st - Close at 3 PM Wednesday, November 22nd - Closed Thursday, November 23rd - Closed Friday, November 24th - Closed  8/30/2017 See below for lots more information about how you can get a head start on your post-high school experience! What is Dual Enrollment?  Dual Enrollment is taking college classes while you are still in high school. Sometimes these classes can also count toward high school credits. These courses can save you thousands of dollars in tuition costs; And shorten the time it takes to earn a college degree.  Each year, hundreds of dedicated high school students take these courses through MTC’s Dual Enrollment program, and get a jump-start on their college education! There are a few different options:  Work with your school to get approval to come to MTC and take Dual Enrollment classes on one of our six regional campuses. Find out if you’re in a district where MTC faculty are already teaching courses in your high school. Take Dual Enrollment courses that are available online.  Please see your high school guidance counselor to find out which option is best for you. Who is Eligible? If you are currently a high school junior or senior in the Midlands, then you are eligible to enroll in Dual Enrollment courses as long as you meet placement testing requirements. To be accepted into the Dual Enrollment program:  Apply to MTC using the Dual Enrollment Online Application . Complete the Placement Test and place into the courses you wish to take. Receive permission from high school principal/guidance counselor and parents.  Tuition and Fees Students enrolled in MTC Dual Enrollment classes held at their high schools are responsible for the cost of their books. The cost of tuition and fees for MTC classes held on high school campuses is coordinated between the college and school district. Students who enroll in courses held on MTC campuses are responsible for the cost of tuition, fees, and books. *** If you take at least six college credit hours during a semester, that may reduce your tuition greatly by receiving South Carolina Lottery Tuition Assistance. *** We’ll help you through the financial aid process, and you can find more information on the Lottery Tuition Assistance form . What are the Advantages of Dual Enrollment courses?  Save money on college courses Get exposure to a college atmosphere before graduating high school Gain a wider range of course options for high school Experience challenging coursework in a comfortable environment Work closely with expert faculty  How to Become a Dual Enrollment Student It only takes a few simple steps to enroll in the Dual Enrollment program and kick-start your college education! If your high school hosts MTC courses on the high school campus, ask your guidance counselor how to proceed. If your high school does not host MTC courses, complete the following steps:  Receive permission from your high school principal/counselor and parent/guardian. Complete the online application . Complete assessment testing to determine course placement. (Don’t worry – we’ll help you through this step!) Schedule appointment with an MTC counselor for advisement and registration.  You have the opportunity to potentially graduate high school with a high school diploma AND an associate degree. Why not take advantage today? Source: https://www.midlandstech.edu/learn/academics/middle-school-and-high-school/early-college  3/1/2017 Find what you need to know--easier. After 7 years, we've updated to bring you a web presense that matches our modern educational ideals and meets the needs of mobile and desktop computing alike. Explore. We think you'll find the information you need in just a few clicks. If you don't, let us know at ch-info@richland2.org .   Oops, this page either doesn't exist or has gone missing.  Accessibility Policy Richland School District Two is fully committed to providing information and services to the community that meet a variety of communication needs.  The district is continuously engaged in making improvements to this site to ensure everyone in our community has equal access to the tools and information provided on this site. If you encounter accessibility issues with our site please contact us by phone at 803-787-1910 or by emailing webmaster@richland2.org . You may also use the following form to submit your issue. Please provide as much detail as possible about your issue. Email:  Phone number: Please describe the issue, being as detailed as possible to include the site and page you encountered the issue on:   Inspiring Success Learning | Character | Community | Joy Learn about the four squares to success  R2 Parent Institute for Learning and Engagement Theme: Connect. Learn. Grow. Richland Two is hosting its second Parent Institute for Learning and Engagement on November 8. Connie May named principal of Sandlapper Elementary Ms. May becomes principal of Sandlapper Elementary effective January 1, 2018. Sparkleberry Country Fair donated $25,000 for teacher grants Grant monies will help Richland Two teachers implement 40 projects on their wish lists. Choice I Opens December 18, 2017 Learn more about the Choice Program, as well find information on upcoming Choice dates.  Click here for more info!  Connect. Learn. Grow with R2 Parent Institute Keeping young minds stimulated and actively engaged throughout the school year is critical. As a result, Richland School District Two is hosting its second Parent Institute for Learning and Engagement on Wednesday, November 8, from 6– 8 PM.  This event is designed to offer strategies and tips to support student growth and achievement. Click here for more info!  15 22 Thanksgiving Break 28 Choice Fair 30 Navigating Special Education - Parent University 1 Early Dismissal for Elementary/Middle Schools 6  In partnership with our community, we develop global citizens of tomorrow — citizens who are prepared to lead and excel in their chosen pathways.  \n"
     ]
    }
   ],
   "source": [
    "filtered_full_output = \"\"\n",
    "for i in range(num_pages):\n",
    "    page_text = open(filtered_file_format.format(i)).read()\n",
    "    filtered_full_output += page_text + \" \"\n",
    "print(filtered_full_output)"
   ]
  },
  {
   "cell_type": "code",
   "execution_count": 9,
   "metadata": {},
   "outputs": [
    {
     "name": "stdout",
     "output_type": "stream",
     "text": [
      "Page with the highest dictionary score:\n",
      "\n",
      "The Richland Two Charter High School was founded in 2010 for students looking for a modern approach to their high school learning experience. Students at the Charter School customize their education using our virtual curriculum and design a flexible attendance schedule to meet their individual needs. In 2013, the Charter School opened its doors to students in the 9th through 12th grade. Our extended hours of operation allow students the flexibility to work during the day and complete their coursework by taking advantage of our nighttime hours. Our major advantage over other online schools is our faculty and staff. By employing a full time school counselor, English teacher, Math teacher, Work Based Learning Coordinator and Lab Specialist, students can ask questions and receive individualized attention.  Your Future Starts Now! Blended Virtual High School Environment 9 th through 12 th Grades Flexible School Day Small School Experience SC High School Diploma Extra-Curricular Activities available at Home School Exposure to Real World Careers 21st Century Learning Opportunities Support from Local Business Partners \n"
     ]
    }
   ],
   "source": [
    "max_page_score = (-1, -1)\n",
    "for i in range(num_pages):\n",
    "    page_text = open(filtered_file_format.format(i)).read()\n",
    "    \n",
    "    if len(page_text) != 0:\n",
    "        page_score = dict_match(page_text, custom_dict) / len(page_text.split())\n",
    "        if page_score > max_page_score[0]:\n",
    "            max_page_score = (page_score, i)\n",
    "max_text = open(filtered_file_format.format(max_page_score[1])).read()\n",
    "print(\"Page with the highest dictionary score:\\n\\n\" + max_text)"
   ]
  },
  {
   "cell_type": "code",
   "execution_count": null,
   "metadata": {
    "collapsed": true
   },
   "outputs": [],
   "source": []
  }
 ],
 "metadata": {
  "kernelspec": {
   "display_name": "Python 3",
   "language": "python",
   "name": "python3"
  },
  "language_info": {
   "codemirror_mode": {
    "name": "ipython",
    "version": 3
   },
   "file_extension": ".py",
   "mimetype": "text/x-python",
   "name": "python",
   "nbconvert_exporter": "python",
   "pygments_lexer": "ipython3",
   "version": "3.6.1"
  }
 },
 "nbformat": 4,
 "nbformat_minor": 2
}
